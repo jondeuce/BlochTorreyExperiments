{
 "cells": [
  {
   "cell_type": "markdown",
   "metadata": {},
   "source": [
    "# Bloch-Torrey Equation"
   ]
  },
  {
   "cell_type": "markdown",
   "metadata": {},
   "source": [
    "## Introduction\n",
    "\n",
    "Here we solve the Bloch-Torrey equation on a unit square, with the diffusion coefficient $D(x)$, relaxation rate $R(x)$, and resonance frequency $\\omega(x)$ all given as a generic functions.\n",
    "The strong form of the Bloch-Torrey equation is given by\n",
    "\n",
    "\\begin{align}\n",
    "    \\frac{\\partial u_x}{\\partial t} &= \\nabla \\cdot (D \\nabla u_x) - R u_x + \\omega u_y  \\quad x \\in \\Omega\\\\\n",
    "    \\frac{\\partial u_y}{\\partial t} &= \\nabla \\cdot (D \\nabla u_y) - R u_y - \\omega u_x  \\quad x \\in \\Omega,\n",
    "\\end{align}\n",
    "\n",
    "where $\\vec{u}=[u_x,u_y]$ is the transverse magnetization, and $\\Omega$ the domain.\n",
    "\n",
    "We will consider homogeneous Neumann boundary conditions such that\n",
    "\n",
    "\\begin{align}\n",
    "    \\nabla \\vec{u}(x) \\cdot \\hat{n} &= \\vec{0}  \\quad x \\in \\partial \\Omega\\\\\n",
    "\\end{align}\n",
    "\n",
    "where $\\partial \\Omega$ denotes the boundary of $\\Omega$, and $\\cdot$ is a tensor contraction.\n",
    "\n",
    "The initial condition is given generically as\n",
    "\n",
    "\\begin{equation}\n",
    "    \\vec{u}(x,t=0) = \\vec{u}_0 (x)  \\quad x \\in \\Omega\n",
    "\\end{equation}\n",
    "\n",
    "\n",
    "The resulting weak form is given by\n",
    "\\begin{align}\n",
    "    \\int_{\\Omega} \\vec{v} \\cdot \\vec{u}_t \\, d\\Omega\n",
    "    &= -\\int_{\\Omega}\n",
    "    -\\vec{v} \\cdot \\nabla \\cdot ( D \\, \\nabla \\vec{u} ) +\n",
    "    R \\, \\vec{v} \\cdot \\vec{u} -\n",
    "    \\omega \\, \\vec{v} \\times \\vec{u}\n",
    "    \\, d\\Omega \\\\\n",
    "    &= -\\int_{\\Omega}\n",
    "    D \\, \\nabla \\vec{v} : \\nabla \\vec{u} +\n",
    "    R \\, \\vec{v} \\cdot \\vec{u} -\n",
    "    \\omega \\, \\vec{v} \\times \\vec{u}\n",
    "    \\, d\\Omega + \n",
    "    \\int_{\\partial\\Omega} \\vec{v} \\cdot (D\\nabla\\vec{u} \\cdot \\hat{n}) \\, d\\Gamma,\n",
    "\\end{align}\n",
    "where $\\vec{v}$ is a suitable test function.\n",
    "\n",
    "In this notebook, we will assume homogeneous Neumann boundary conditions on all boundaries by taking $D\\nabla\\vec{u} \\cdot \\hat{n} = 0$. Therefore, the final weak form is simply\n",
    "\\begin{align}\n",
    "    \\int_{\\Omega} \\vec{v} \\cdot \\vec{u}_t \\, d\\Omega\n",
    "    = -\\int_{\\Omega}\n",
    "    D \\, \\nabla \\vec{v} : \\nabla \\vec{u} +\n",
    "    R \\, \\vec{v} \\cdot \\vec{u} -\n",
    "    \\omega \\, \\vec{v} \\times \\vec{u}\n",
    "    \\, d\\Omega\n",
    "\\end{align}\n",
    "\n",
    "Note: in two dimensions, the cross product is simply a scalar. However, `Tensors.jl` defines the two dimensional cross product by first extending the 2D vectors into 3D. Below, we use the symbol $\\boxtimes$ to denote the scalar version, which is the same as taking the third component of the vector version"
   ]
  },
  {
   "cell_type": "markdown",
   "metadata": {},
   "source": [
    "## Commented Program\n",
    "\n",
    "Now we solve the problem in JuAFEM. What follows is a program spliced with comments.\n",
    "\n",
    "First we load the JuAFEM package."
   ]
  },
  {
   "cell_type": "code",
   "execution_count": 1,
   "metadata": {},
   "outputs": [],
   "source": [
    "# using Distributed\n",
    "# addprocs(8; restrict = true, enable_threaded_blas = true);\n",
    "# @everywhere begin\n",
    "#     include(\"init.jl\")\n",
    "# end"
   ]
  },
  {
   "cell_type": "code",
   "execution_count": 2,
   "metadata": {
    "scrolled": true
   },
   "outputs": [
    {
     "name": "stderr",
     "output_type": "stream",
     "text": [
      "┌ Warning: Deprecated syntax `implicit assignment to global variable `HOME``.\n",
      "│ Use `global HOME` instead.\n",
      "└ @ nothing none:0\n",
      "┌ Warning: Deprecated syntax `implicit assignment to global variable `BTMASTERPATH``.\n",
      "│ Use `global BTMASTERPATH` instead.\n",
      "└ @ nothing none:0\n",
      "┌ Warning: Deprecated syntax `implicit assignment to global variable `MWOPATH``.\n",
      "│ Use `global MWOPATH` instead.\n",
      "└ @ nothing none:0\n",
      "┌ Warning: Deprecated syntax `implicit assignment to global variable `MWOFOLDERS``.\n",
      "│ Use `global MWOFOLDERS` instead.\n",
      "└ @ nothing none:0\n",
      "┌ Warning: Deprecated syntax `implicit assignment to global variable `MWOFOLDERS``.\n",
      "│ Use `global MWOFOLDERS` instead.\n",
      "└ @ nothing none:0\n",
      "┌ Info: Recompiling stale cache file /home/coopar7/.julia/compiled/v0.7/BlochTorreySolvers.ji for BlochTorreySolvers [top-level]\n",
      "└ @ Base loading.jl:1185\n",
      "┌ Info: Recompiling stale cache file /home/coopar7/.julia/compiled/v0.7/Sundials/j8Ppj.ji for Sundials [c3572dad-4567-51f8-b174-8c6c989267f4]\n",
      "└ @ Base loading.jl:1185\n"
     ]
    }
   ],
   "source": [
    "include(\"init.jl\")"
   ]
  },
  {
   "cell_type": "markdown",
   "metadata": {},
   "source": [
    "**Pack circles**: Pack circles with a specified packing density $\\eta$"
   ]
  },
  {
   "cell_type": "code",
   "execution_count": 3,
   "metadata": {},
   "outputs": [],
   "source": [
    "btparams = BlochTorreyParameters{Float64}(\n",
    "    theta = π/2,\n",
    "    AxonPDensity = 0.7,\n",
    "    g_ratio = 0.8,\n",
    "    D_Tissue = 2000.0, #0.5, # [μm²/s]\n",
    "    D_Sheath = 250.0, #0.5, # [μm²/s]\n",
    "    D_Axon = 2000.0, #0.5, # [μm²/s]\n",
    "    K_perm = 10.0, #0.0 # [μm/s]\n",
    ");"
   ]
  },
  {
   "cell_type": "code",
   "execution_count": 4,
   "metadata": {},
   "outputs": [
    {
     "data": {
      "text/plain": [
       "26.105103640881353"
      ]
     },
     "execution_count": 4,
     "metadata": {},
     "output_type": "execute_result"
    }
   ],
   "source": [
    "TE_typical = 10e-3\n",
    "nDim = 2\n",
    "dist_typical = (2π * btparams.R_mu)/4\n",
    "time_typical = TE_typical/2\n",
    "D_Maximal_Dephasing = dist_typical^2/(2 * nDim * time_typical)"
   ]
  },
  {
   "cell_type": "code",
   "execution_count": 5,
   "metadata": {},
   "outputs": [
    {
     "name": "stdout",
     "output_type": "stream",
     "text": [
      "  1.996669 seconds (3.43 M allocations: 169.108 MiB, 6.32% gc time)\n",
      "minimum(radius.(initial_circles)) = 0.1431049104023889\n",
      "estimate_density(initial_circles) = 0.828602059549868\n"
     ]
    }
   ],
   "source": [
    "Dim = 2;\n",
    "Ncircles = 20;\n",
    "\n",
    "η = btparams.AxonPDensity; # goal packing density\n",
    "ϵ = 0.1 * btparams.R_mu; # overlap occurs when distance between circle edges is ≤ ϵ\n",
    "α = 1e-1; # covariance penalty weight (enforces circular distribution)\n",
    "β = 1e-6; # mutual distance penalty weight\n",
    "λ = 1.0; # overlap penalty weight (or lagrange multiplier for constrained version)\n",
    "\n",
    "rs = rand(radiidistribution(btparams), Ncircles);\n",
    "@time initial_circles = GreedyCirclePacking.pack(rs; goaldensity = 1.0, iters = 100)\n",
    "@show minimum(radius.(initial_circles));\n",
    "@show estimate_density(initial_circles);"
   ]
  },
  {
   "cell_type": "code",
   "execution_count": 6,
   "metadata": {},
   "outputs": [
    {
     "name": "stdout",
     "output_type": "stream",
     "text": [
      "minimum_signed_edge_distance(initial_circles) = -3.3306690738754696e-16\n"
     ]
    }
   ],
   "source": [
    "@show minimum_signed_edge_distance(initial_circles);"
   ]
  },
  {
   "cell_type": "code",
   "execution_count": 7,
   "metadata": {},
   "outputs": [
    {
     "name": "stdout",
     "output_type": "stream",
     "text": [
      "estimate_density(initial_circles) = 0.828602059549868\n"
     ]
    }
   ],
   "source": [
    "@show estimate_density(initial_circles);"
   ]
  },
  {
   "cell_type": "code",
   "execution_count": 8,
   "metadata": {
    "scrolled": true
   },
   "outputs": [
    {
     "name": "stdout",
     "output_type": "stream",
     "text": [
      "  6.048112 seconds (12.96 M allocations: 643.665 MiB, 12.75% gc time)\n"
     ]
    }
   ],
   "source": [
    "@time outer_circles = EnergyCirclePacking.pack(initial_circles;\n",
    "    autodiff = true,\n",
    "    secondorder = false,\n",
    "    setcallback = false,\n",
    "    goaldensity = η,\n",
    "    distancescale = btparams.R_mu,\n",
    "    weights = [α, β, λ],\n",
    "    epsilon = ϵ\n",
    ");\n",
    "inner_circles = scale_shape.(outer_circles, btparams.g_ratio);"
   ]
  },
  {
   "cell_type": "code",
   "execution_count": 9,
   "metadata": {},
   "outputs": [
    {
     "name": "stdout",
     "output_type": "stream",
     "text": [
      "covariance_energy(outer_circles) = 0.003895301512420666\n",
      "estimate_density(outer_circles) = 0.7\n",
      "is_any_overlapping(outer_circles) = false\n",
      "(dmin, ϵ, dmin > ϵ) = (0.04506166560977434, 0.046000000000000006, false)\n"
     ]
    }
   ],
   "source": [
    "dmin = minimum_signed_edge_distance(outer_circles)\n",
    "@show covariance_energy(outer_circles)\n",
    "@show estimate_density(outer_circles)\n",
    "@show is_any_overlapping(outer_circles)\n",
    "@show (dmin, ϵ, dmin > ϵ);"
   ]
  },
  {
   "cell_type": "markdown",
   "metadata": {},
   "source": [
    "**Generate mesh**: Rectangular mesh with circles possibly only partly contained or completely excluded"
   ]
  },
  {
   "cell_type": "code",
   "execution_count": 10,
   "metadata": {},
   "outputs": [
    {
     "data": {
      "text/plain": [
       "0.6"
      ]
     },
     "execution_count": 10,
     "metadata": {},
     "output_type": "execute_result"
    }
   ],
   "source": [
    "h0 = minimum(radius.(outer_circles))*(1-btparams.g_ratio); # fraction of size of minimum torus width\n",
    "h_min = 1.0*h0; # minimum edge length\n",
    "h_max = 5.0*h0; # maximum edge length\n",
    "h_range = 10.0*h0; # distance over which h increases from h_min to h_max\n",
    "h_rate = 0.6; # rate of increase of h from circle boundaries (power law; smaller = faster radial increase)"
   ]
  },
  {
   "cell_type": "code",
   "execution_count": 11,
   "metadata": {},
   "outputs": [],
   "source": [
    "bdry, _ = opt_subdomain(outer_circles);"
   ]
  },
  {
   "cell_type": "code",
   "execution_count": 12,
   "metadata": {
    "scrolled": false
   },
   "outputs": [
    {
     "name": "stdout",
     "output_type": "stream",
     "text": [
      "1/20: Interior\n",
      "2/20: Interior\n",
      "3/20: Interior\n",
      "4/20: Interior\n",
      "5/20: Interior\n",
      "6/20: Interior\n",
      "7/20: Interior\n",
      "8/20: Interior\n",
      "9/20: Interior\n",
      "10/20: Interior\n",
      "11/20: Interior\n",
      "12/20: Interior\n",
      "13/20: Interior\n",
      "14/20: Interior\n",
      "15/20: Interior\n",
      "16/20: Interior\n",
      "17/20: Interior\n",
      "18/20: Interior\n",
      "19/20: Interior\n",
      "20/20: Interior\n",
      "1/20: Annular\n",
      "2/20: Annular\n",
      "3/20: Annular\n",
      "4/20: Annular\n",
      "5/20: Annular\n",
      "6/20: Annular\n",
      "7/20: Annular\n",
      "8/20: Annular\n",
      "9/20: Annular\n",
      "10/20: Annular\n",
      "11/20: Annular\n",
      "12/20: Annular\n",
      "13/20: Annular\n",
      "14/20: Annular\n",
      "15/20: Annular\n",
      "16/20: Annular\n",
      "17/20: Annular\n",
      "18/20: Annular\n",
      "19/20: Annular\n",
      "20/20: Annular\n",
      "1/1, 1/1: Exterior\n",
      " 95.958617 seconds (591.20 M allocations: 17.582 GiB, 13.04% gc time)\n"
     ]
    }
   ],
   "source": [
    "@time exteriorgrids, torigrids, interiorgrids, parentcircleindices = disjoint_rect_mesh_with_tori(\n",
    "    bdry, inner_circles, outer_circles, h_min, h_max, h_range, h_rate;\n",
    "    CIRCLESTALLITERS = 500, EXTERIORSTALLITERS = 500, plotgrids = false, exterior_tiling = (1, 1)\n",
    ");"
   ]
  },
  {
   "cell_type": "code",
   "execution_count": 13,
   "metadata": {},
   "outputs": [
    {
     "data": {
      "text/plain": [
       "1.7763568394002505e-15"
      ]
     },
     "execution_count": 13,
     "metadata": {},
     "output_type": "execute_result"
    }
   ],
   "source": [
    "sum(area.(exteriorgrids)) + sum(area.(torigrids)) + sum(area.(interiorgrids)) - area(bdry)"
   ]
  },
  {
   "cell_type": "code",
   "execution_count": 14,
   "metadata": {
    "scrolled": true
   },
   "outputs": [],
   "source": [
    "simpplot(vcat(exteriorgrids[:], torigrids, interiorgrids); newfigure = true, axis = mxaxis(bdry));"
   ]
  },
  {
   "cell_type": "markdown",
   "metadata": {},
   "source": [
    "## Diffusion coefficient $D(x)$, relaxation rate $R(x)$, and resonance frequency $\\omega(x)$"
   ]
  },
  {
   "cell_type": "markdown",
   "metadata": {},
   "source": [
    "These functions are defined within `doassemble!`"
   ]
  },
  {
   "cell_type": "markdown",
   "metadata": {},
   "source": [
    "### Trial and test functions\n",
    "A `CellValues` facilitates the process of evaluating values and gradients of\n",
    "test and trial functions (among other things). Since the problem\n",
    "is a scalar problem we will use a `CellScalarValues` object. To define\n",
    "this we need to specify an interpolation space for the shape functions.\n",
    "We use Lagrange functions (both for interpolating the function and the geometry)\n",
    "based on the reference \"cube\". We also define a quadrature rule based on the\n",
    "same reference cube. We combine the interpolation and the quadrature rule\n",
    "to a `CellScalarValues` object."
   ]
  },
  {
   "cell_type": "markdown",
   "metadata": {},
   "source": [
    "### Degrees of freedom\n",
    "Next we need to define a `DofHandler`, which will take care of numbering\n",
    "and distribution of degrees of freedom for our approximated fields.\n",
    "We create the `DofHandler` and then add a single field called `u`.\n",
    "Lastly we `close!` the `DofHandler`, it is now that the dofs are distributed\n",
    "for all the elements."
   ]
  },
  {
   "cell_type": "markdown",
   "metadata": {},
   "source": [
    "Now that we have distributed all our dofs we can create our tangent matrix,\n",
    "using `create_sparsity_pattern`. This function returns a sparse matrix\n",
    "with the correct elements stored."
   ]
  },
  {
   "cell_type": "markdown",
   "metadata": {},
   "source": [
    "We can inspect the pattern using the `spy` function from `UnicodePlots.jl`.\n",
    "By default the stored values are set to $0$, so we first need to\n",
    "fill the stored values, e.g. `K.nzval` with something meaningful."
   ]
  },
  {
   "cell_type": "code",
   "execution_count": 15,
   "metadata": {},
   "outputs": [],
   "source": [
    "#using UnicodePlots\n",
    "#fill!(K.nzval, 1.0)\n",
    "#spy(K; height = 25)"
   ]
  },
  {
   "cell_type": "markdown",
   "metadata": {},
   "source": [
    "### Boundary conditions\n",
    "In JuAFEM constraints like Dirichlet boundary conditions are handled by a `ConstraintHandler`. However, here we will have no need to directly enforce boundary conditions, since Neumann boundary conditions have already been applied in the derivation of the weak form."
   ]
  },
  {
   "cell_type": "markdown",
   "metadata": {},
   "source": [
    "### Assembling the linear system\n",
    "Now we have all the pieces needed to assemble the linear system, $K u = f$.\n",
    "We define a function, `doassemble` to do the assembly, which takes our `cellvalues`,\n",
    "the sparse matrix and our DofHandler as input arguments. The function returns the\n",
    "assembled stiffness matrix, and the force vector."
   ]
  },
  {
   "cell_type": "code",
   "execution_count": 16,
   "metadata": {},
   "outputs": [],
   "source": [
    "myelinprob = MyelinProblem(btparams);"
   ]
  },
  {
   "cell_type": "code",
   "execution_count": 17,
   "metadata": {},
   "outputs": [],
   "source": [
    "myelinsubdomains = createmyelindomains(exteriorgrids[:], torigrids, interiorgrids, outer_circles, inner_circles);"
   ]
  },
  {
   "cell_type": "code",
   "execution_count": 18,
   "metadata": {
    "scrolled": true
   },
   "outputs": [
    {
     "name": "stdout",
     "output_type": "stream",
     "text": [
      "  4.807265 seconds (47.47 M allocations: 1.011 GiB, 9.08% gc time)\n"
     ]
    }
   ],
   "source": [
    "# @time map!(m -> doassemble!(m, myelinprob), myelinsubdomains, myelinsubdomains);\n",
    "@time doassemble!.(myelinsubdomains, Ref(myelinprob));"
   ]
  },
  {
   "cell_type": "code",
   "execution_count": 19,
   "metadata": {},
   "outputs": [
    {
     "name": "stdout",
     "output_type": "stream",
     "text": [
      "  0.513346 seconds (752.74 k allocations: 56.944 MiB, 8.41% gc time)\n"
     ]
    }
   ],
   "source": [
    "# @time map!(m -> (factorize!(getdomain(m)); return m), myelinsubdomains, myelinsubdomains);\n",
    "@time factorize!.(getdomain.(myelinsubdomains));"
   ]
  },
  {
   "cell_type": "code",
   "execution_count": 20,
   "metadata": {},
   "outputs": [
    {
     "name": "stdout",
     "output_type": "stream",
     "text": [
      " 41.680751 seconds (414.36 M allocations: 14.295 GiB, 19.38% gc time)\n"
     ]
    }
   ],
   "source": [
    "@time combinedmyelindomain = MyelinDomain(PermeableInterfaceRegion(), myelinprob, myelinsubdomains);"
   ]
  },
  {
   "cell_type": "code",
   "execution_count": 21,
   "metadata": {},
   "outputs": [
    {
     "name": "stdout",
     "output_type": "stream",
     "text": [
      "  0.046952 seconds (2.22 k allocations: 18.854 MiB, 13.74% gc time)\n"
     ]
    }
   ],
   "source": [
    "@time factorize!(combinedmyelindomain);"
   ]
  },
  {
   "cell_type": "code",
   "execution_count": 22,
   "metadata": {},
   "outputs": [],
   "source": [
    "myelindomains = [combinedmyelindomain];"
   ]
  },
  {
   "cell_type": "code",
   "execution_count": 23,
   "metadata": {
    "scrolled": true
   },
   "outputs": [],
   "source": [
    "# for II in ips #[rand(1:length(ips))]\n",
    "#     Se = [combinedmyelindomain.domain.K[2i-1,2j-1] for i in II for j in II]\n",
    "#     Se = Matrix(reshape(6 .* Se, (4,4)))\n",
    "#     @assert maximum(abs, sum(Se, dims=2)) < 5*eps(Float64)\n",
    "# end"
   ]
  },
  {
   "cell_type": "code",
   "execution_count": 24,
   "metadata": {},
   "outputs": [],
   "source": [
    "# for i in II\n",
    "#     n = getnodes(getgrid(combinedmyelindomain))[i]\n",
    "#     @show n\n",
    "# end"
   ]
  },
  {
   "cell_type": "code",
   "execution_count": 25,
   "metadata": {},
   "outputs": [],
   "source": [
    "# AllNodes = getnodes(getgrid(combinedmyelindomain))\n",
    "# XMatrix, YMatrix = zeros(2, length(ips)), zeros(2, length(ips))\n",
    "# for j in 1:length(ips)\n",
    "#     idx = ips[j]\n",
    "#     p1, p2 = AllNodes[idx[1]].x, AllNodes[idx[2]].x\n",
    "#     XMatrix[1,j] = p1[1]\n",
    "#     YMatrix[1,j] = p1[2]\n",
    "#     XMatrix[2,j] = p2[1]\n",
    "#     YMatrix[2,j] = p2[2]\n",
    "# end"
   ]
  },
  {
   "cell_type": "code",
   "execution_count": 26,
   "metadata": {},
   "outputs": [],
   "source": [
    "# mxcall(:plot, 0, XMatrix, YMatrix, \"bx-\")\n",
    "# mxcall(:axis, 0, \"image\")"
   ]
  },
  {
   "cell_type": "markdown",
   "metadata": {},
   "source": [
    "### Plotting the resonance frequency map $\\omega(x)$\n",
    "$\\omega(x)$ for each region can be easily created by accessing the `Omega` field of a `BlochTorreyProblem` object. Now, evaluate $\\omega(x)$ on each node `x` and plot the resuling field map overtop of the tesselation."
   ]
  },
  {
   "cell_type": "code",
   "execution_count": 27,
   "metadata": {},
   "outputs": [],
   "source": [
    "omegavalues = omegamap.(Ref(myelinprob), myelinsubdomains);"
   ]
  },
  {
   "cell_type": "code",
   "execution_count": 28,
   "metadata": {},
   "outputs": [],
   "source": [
    "simpplot(getgrid.(myelindomains); newfigure = true, axis = mxaxis(bdry), facecol = reduce(vcat, omegavalues));"
   ]
  },
  {
   "cell_type": "markdown",
   "metadata": {},
   "source": [
    "### Solution of the differential equation system\n",
    "The last step is to solve the system. First we call `doassemble`\n",
    "to obtain the global stiffness matrix `K` and force vector `f`.\n",
    "Then, to account for the boundary conditions, we use the `apply!` function.\n",
    "This modifies elements in `K` and `f` respectively, such that\n",
    "we can get the correct solution vector `u` by using `\\`."
   ]
  },
  {
   "cell_type": "code",
   "execution_count": 71,
   "metadata": {},
   "outputs": [
    {
     "data": {
      "text/latex": [
       "\\begin{verbatim}\n",
       "includet(filename)\n",
       "\\end{verbatim}\n",
       "Load \\texttt{filename} and track any future changes to it. \\texttt{includet} is deliberately non-recursive, so if \\texttt{filename} loads any other files, they will not be automatically tracked. (See \\href{@ref}{\\texttt{Revise.track}} to set it up manually.)\n",
       "\n",
       "\\texttt{includet} is intended for \"user scripts,\" e.g., a file you use locally for a specific purpose such as loading a specific data set or performing some kind of analysis. Do not use \\texttt{includet} for packages, as those should be handled by \\texttt{using} or \\texttt{import}. If \\texttt{using} and \\texttt{import} aren't working, you may have packages in a non-standard location; try fixing it with something like \\texttt{push!(LOAD\\_PATH, \"/path/to/my/private/repos\")}.\n",
       "\n"
      ],
      "text/markdown": [
       "```\n",
       "includet(filename)\n",
       "```\n",
       "\n",
       "Load `filename` and track any future changes to it. `includet` is deliberately non-recursive, so if `filename` loads any other files, they will not be automatically tracked. (See [`Revise.track`](@ref) to set it up manually.)\n",
       "\n",
       "`includet` is intended for \"user scripts,\" e.g., a file you use locally for a specific purpose such as loading a specific data set or performing some kind of analysis. Do not use `includet` for packages, as those should be handled by `using` or `import`. If `using` and `import` aren't working, you may have packages in a non-standard location; try fixing it with something like `push!(LOAD_PATH, \"/path/to/my/private/repos\")`.\n"
      ],
      "text/plain": [
       "\u001b[36m  includet(filename)\u001b[39m\n",
       "\n",
       "  Load \u001b[36mfilename\u001b[39m and track any future changes to it. \u001b[36mincludet\u001b[39m is deliberately\n",
       "  non-recursive, so if \u001b[36mfilename\u001b[39m loads any other files, they will not be\n",
       "  automatically tracked. (See \u001b[36mRevise.track\u001b[39m to set it up manually.)\n",
       "\n",
       "  \u001b[36mincludet\u001b[39m is intended for \"user scripts,\" e.g., a file you use locally for a\n",
       "  specific purpose such as loading a specific data set or performing some kind\n",
       "  of analysis. Do not use \u001b[36mincludet\u001b[39m for packages, as those should be handled by\n",
       "  \u001b[36musing\u001b[39m or \u001b[36mimport\u001b[39m. If \u001b[36musing\u001b[39m and \u001b[36mimport\u001b[39m aren't working, you may have packages\n",
       "  in a non-standard location; try fixing it with something like\n",
       "  \u001b[36mpush!(LOAD_PATH, \"/path/to/my/private/repos\")\u001b[39m."
      ]
     },
     "execution_count": 71,
     "metadata": {},
     "output_type": "execute_result"
    }
   ],
   "source": [
    "?Revise.includet"
   ]
  },
  {
   "cell_type": "code",
   "execution_count": 29,
   "metadata": {},
   "outputs": [],
   "source": [
    "if !@isdefined AllSols\n",
    "    global AllSols = Dict()\n",
    "end;"
   ]
  },
  {
   "cell_type": "code",
   "execution_count": 30,
   "metadata": {},
   "outputs": [],
   "source": [
    "function calc_signals(sols)\n",
    "    Signals = map(myelindomains, sols) do m, s\n",
    "        [integrate(s(t), m) for t in tspan[1]:dt:tspan[2]]\n",
    "    end\n",
    "    Stotal = sum(Signals)\n",
    "    return Stotal\n",
    "end;"
   ]
  },
  {
   "cell_type": "code",
   "execution_count": 38,
   "metadata": {},
   "outputs": [],
   "source": [
    "tspan = (0.0, 320.0e-3);\n",
    "dt = 10e-3;\n",
    "ts = tspan[1]:dt/2:tspan[2]\n",
    "u0 = Vec{2}((0.0, 1.0)); # initial pi/2 pulse"
   ]
  },
  {
   "cell_type": "code",
   "execution_count": 32,
   "metadata": {},
   "outputs": [],
   "source": [
    "probs = [ODEProblem(m, interpolate(u0, m), tspan; invertmass = true) for m in myelindomains];\n",
    "sols = Vector{ODESolution}(undef, length(probs));"
   ]
  },
  {
   "cell_type": "code",
   "execution_count": 37,
   "metadata": {
    "scrolled": true
   },
   "outputs": [
    {
     "name": "stdout",
     "output_type": "stream",
     "text": [
      "i = 1/1: \n"
     ]
    },
    {
     "ename": "InterruptException",
     "evalue": "InterruptException:",
     "output_type": "error",
     "traceback": [
      "InterruptException:",
      "",
      "Stacktrace:",
      " [1] allocate_dense(::Int64, ::Int64, ::Int64, ::Type{Float64}) at /buildworker/worker/package_linux64/build/usr/share/julia/stdlib/v0.7/SuiteSparse/src/cholmod.jl:405",
      " [2] SuiteSparse.CHOLMOD.Dense{Float64}(::Array{Float64,1}) at /buildworker/worker/package_linux64/build/usr/share/julia/stdlib/v0.7/SuiteSparse/src/cholmod.jl:829",
      " [3] \\ at /buildworker/worker/package_linux64/build/usr/share/julia/stdlib/v0.7/SuiteSparse/src/cholmod.jl:1714 [inlined]",
      " [4] Minv_u(::SuiteSparse.CHOLMOD.Factor{Float64}, ::Array{Float64,1}) at /home/coopar7/Documents/code/BlochTorreyExperiments-master/Experiments/MyelinWaterOrientation/BlochTorrey/BlochTorreyUtils.jl:631",
      " [5] Minv_K_mul_u!(::Array{Float64,1}, ::Array{Float64,1}, ::SparseMatrixCSC{Float64,Int64}, ::SuiteSparse.CHOLMOD.Factor{Float64}) at /home/coopar7/Documents/code/BlochTorreyExperiments-master/Experiments/MyelinWaterOrientation/BlochTorrey/BlochTorreyUtils.jl:641",
      " [6] mul!(::Array{Float64,1}, ::ParabolicLinearMap{Float64}, ::Array{Float64,1}) at /home/coopar7/Documents/code/BlochTorreyExperiments-master/Experiments/MyelinWaterOrientation/BlochTorrey/BlochTorreyUtils.jl:646",
      " [7] mul! at /home/coopar7/Documents/code/BlochTorreyExperiments-master/Experiments/MyelinWaterOrientation/BlochTorrey/BlochTorreyUtils.jl:713 [inlined]",
      " [8] #expmv!#3(::Float64, ::Int64, ::typeof(norm), ::Float64, ::Function, ::Array{Float64,1}, ::Float64, ::DiffEqParabolicLinearMapWrapper{Float64,ParabolicLinearMap{Float64}}, ::Array{Float64,1}) at /home/coopar7/.julia/packages/Expokit/fQbKs/src/expmv.jl:121",
      " [9] #expmv! at ./none:0 [inlined]",
      " [10] macro expansion at /home/coopar7/.julia/packages/Parameters/35RKe/src/Parameters.jl:733 [inlined]",
      " [11] perform_step! at /home/coopar7/Documents/code/BlochTorreyExperiments-master/Experiments/MyelinWaterOrientation/BlochTorrey/BlochTorreySolvers.jl:232 [inlined] (repeats 2 times)",
      " [12] macro expansion at /home/coopar7/.julia/packages/OrdinaryDiffEq/NS3ps/src/integrators/integrator_utils.jl:32 [inlined]",
      " [13] solve!(::OrdinaryDiffEq.ODEIntegrator{ExpokitExpmv{Float64,typeof(norm)},Array{Float64,1},Float64,Tuple{DiffEqParabolicLinearMapWrapper{Float64,ParabolicLinearMap{Float64}}},Float64,Float64,Float64,Array{Array{Float64,1},1},ODESolution{Float64,2,Array{Array{Float64,1},1},Nothing,Nothing,Array{Float64,1},Array{Array{Array{Float64,1},1},1},ODEProblem{Array{Float64,1},Tuple{Float64,Float64},true,Tuple{DiffEqParabolicLinearMapWrapper{Float64,ParabolicLinearMap{Float64}}},ODEFunction{true,getfield(BlochTorreySolvers, Symbol(\"#f!#4\")),UniformScaling{Bool},Nothing,Nothing,getfield(BlochTorreySolvers, Symbol(\"##2#5\")),DiffEqParabolicLinearMapWrapper{Float64,ParabolicLinearMap{Float64}},Nothing,Nothing,Nothing,Nothing},Nothing,DiffEqBase.StandardODEProblem},ExpokitExpmv{Float64,typeof(norm)},OrdinaryDiffEq.InterpolationData{ODEFunction{true,getfield(BlochTorreySolvers, Symbol(\"#f!#4\")),UniformScaling{Bool},Nothing,Nothing,getfield(BlochTorreySolvers, Symbol(\"##2#5\")),DiffEqParabolicLinearMapWrapper{Float64,ParabolicLinearMap{Float64}},Nothing,Nothing,Nothing,Nothing},Array{Array{Float64,1},1},Array{Float64,1},Array{Array{Array{Float64,1},1},1},BlochTorreySolvers.ExpmvCache{Array{Float64,1},Array{Float64,1}}}},ODEFunction{true,getfield(BlochTorreySolvers, Symbol(\"#f!#4\")),UniformScaling{Bool},Nothing,Nothing,getfield(BlochTorreySolvers, Symbol(\"##2#5\")),DiffEqParabolicLinearMapWrapper{Float64,ParabolicLinearMap{Float64}},Nothing,Nothing,Nothing,Nothing},BlochTorreySolvers.ExpmvCache{Array{Float64,1},Array{Float64,1}},OrdinaryDiffEq.DEOptions{Float64,Float64,Float64,Float64,typeof(DiffEqBase.ODE_DEFAULT_NORM),typeof(opnorm),CallbackSet{Tuple{},Tuple{DiscreteCallback{getfield(BlochTorreySolvers, Symbol(\"#condition#10\")){Float64,Base.RefValue{Float64}},getfield(BlochTorreySolvers, Symbol(\"#affect!#12\")){Tuple{Float64,Float64},Base.RefValue{Float64},getfield(BlochTorreySolvers, Symbol(\"#apply_pulse!#11\"))},typeof(DiffEqBase.INITIALIZE_DEFAULT)}}},typeof(DiffEqBase.ODE_DEFAULT_ISOUTOFDOMAIN),typeof(DiffEqBase.ODE_DEFAULT_PROG_MESSAGE),typeof(DiffEqBase.ODE_DEFAULT_UNSTABLE_CHECK),DataStructures.BinaryHeap{Float64,DataStructures.LessThan},DataStructures.BinaryHeap{Float64,DataStructures.LessThan},Nothing,Nothing,Int64,StepRangeLen{Float64,Base.TwicePrecision{Float64},Base.TwicePrecision{Float64}},StepRangeLen{Float64,Base.TwicePrecision{Float64},Base.TwicePrecision{Float64}},Array{Float64,1}},Array{Float64,1}}) at /home/coopar7/.julia/packages/OrdinaryDiffEq/NS3ps/src/solve.jl:341",
      " [14] #__solve#202(::Base.Iterators.Pairs{Symbol,Any,NTuple{6,Symbol},NamedTuple{(:dense, :saveat, :tstops, :dt, :reltol, :callback),Tuple{Bool,StepRangeLen{Float64,Base.TwicePrecision{Float64},Base.TwicePrecision{Float64}},StepRangeLen{Float64,Base.TwicePrecision{Float64},Base.TwicePrecision{Float64}},Float64,Float64,DiscreteCallback{getfield(BlochTorreySolvers, Symbol(\"#condition#10\")){Float64,Base.RefValue{Float64}},getfield(BlochTorreySolvers, Symbol(\"#affect!#12\")){Tuple{Float64,Float64},Base.RefValue{Float64},getfield(BlochTorreySolvers, Symbol(\"#apply_pulse!#11\"))},typeof(DiffEqBase.INITIALIZE_DEFAULT)}}}}, ::Function, ::ODEProblem{Array{Float64,1},Tuple{Float64,Float64},true,Tuple{DiffEqParabolicLinearMapWrapper{Float64,ParabolicLinearMap{Float64}}},ODEFunction{true,getfield(BlochTorreySolvers, Symbol(\"#f!#4\")),UniformScaling{Bool},Nothing,Nothing,getfield(BlochTorreySolvers, Symbol(\"##2#5\")),DiffEqParabolicLinearMapWrapper{Float64,ParabolicLinearMap{Float64}},Nothing,Nothing,Nothing,Nothing},Nothing,DiffEqBase.StandardODEProblem}, ::ExpokitExpmv{Float64,typeof(norm)}, ::Array{Any,1}, ::Array{Any,1}, ::Array{Any,1}, ::Type{Val{true}}) at /home/coopar7/.julia/packages/OrdinaryDiffEq/NS3ps/src/solve.jl:7",
      " [15] #__solve at ./none:0 [inlined] (repeats 5 times)",
      " [16] #solve#428(::Base.Iterators.Pairs{Symbol,Any,NTuple{6,Symbol},NamedTuple{(:dense, :saveat, :tstops, :dt, :reltol, :callback),Tuple{Bool,StepRangeLen{Float64,Base.TwicePrecision{Float64},Base.TwicePrecision{Float64}},StepRangeLen{Float64,Base.TwicePrecision{Float64},Base.TwicePrecision{Float64}},Float64,Float64,DiscreteCallback{getfield(BlochTorreySolvers, Symbol(\"#condition#10\")){Float64,Base.RefValue{Float64}},getfield(BlochTorreySolvers, Symbol(\"#affect!#12\")){Tuple{Float64,Float64},Base.RefValue{Float64},getfield(BlochTorreySolvers, Symbol(\"#apply_pulse!#11\"))},typeof(DiffEqBase.INITIALIZE_DEFAULT)}}}}, ::Function, ::ODEProblem{Array{Float64,1},Tuple{Float64,Float64},true,Tuple{DiffEqParabolicLinearMapWrapper{Float64,ParabolicLinearMap{Float64}}},ODEFunction{true,getfield(BlochTorreySolvers, Symbol(\"#f!#4\")),UniformScaling{Bool},Nothing,Nothing,getfield(BlochTorreySolvers, Symbol(\"##2#5\")),DiffEqParabolicLinearMapWrapper{Float64,ParabolicLinearMap{Float64}},Nothing,Nothing,Nothing,Nothing},Nothing,DiffEqBase.StandardODEProblem}, ::ExpokitExpmv{Float64,typeof(norm)}) at /home/coopar7/.julia/packages/DiffEqBase/mKOqQ/src/solve.jl:19",
      " [17] (::getfield(DiffEqBase, Symbol(\"#kw##solve\")))(::NamedTuple{(:dense, :saveat, :tstops, :dt, :reltol, :callback),Tuple{Bool,StepRangeLen{Float64,Base.TwicePrecision{Float64},Base.TwicePrecision{Float64}},StepRangeLen{Float64,Base.TwicePrecision{Float64},Base.TwicePrecision{Float64}},Float64,Float64,DiscreteCallback{getfield(BlochTorreySolvers, Symbol(\"#condition#10\")){Float64,Base.RefValue{Float64}},getfield(BlochTorreySolvers, Symbol(\"#affect!#12\")){Tuple{Float64,Float64},Base.RefValue{Float64},getfield(BlochTorreySolvers, Symbol(\"#apply_pulse!#11\"))},typeof(DiffEqBase.INITIALIZE_DEFAULT)}}}, ::typeof(solve), ::ODEProblem{Array{Float64,1},Tuple{Float64,Float64},true,Tuple{DiffEqParabolicLinearMapWrapper{Float64,ParabolicLinearMap{Float64}}},ODEFunction{true,getfield(BlochTorreySolvers, Symbol(\"#f!#4\")),UniformScaling{Bool},Nothing,Nothing,getfield(BlochTorreySolvers, Symbol(\"##2#5\")),DiffEqParabolicLinearMapWrapper{Float64,ParabolicLinearMap{Float64}},Nothing,Nothing,Nothing,Nothing},Nothing,DiffEqBase.StandardODEProblem}, ::ExpokitExpmv{Float64,typeof(norm)}) at ./none:0",
      " [18] macro expansion at ./util.jl:156 [inlined]",
      " [19] (::getfield(Main, Symbol(\"##15#16\")))(::Int64, ::ODEProblem{Array{Float64,1},Tuple{Float64,Float64},true,Tuple{DiffEqParabolicLinearMapWrapper{Float64,ParabolicLinearMap{Float64}}},ODEFunction{true,getfield(BlochTorreySolvers, Symbol(\"#f!#4\")),UniformScaling{Bool},Nothing,Nothing,getfield(BlochTorreySolvers, Symbol(\"##2#5\")),DiffEqParabolicLinearMapWrapper{Float64,ParabolicLinearMap{Float64}},Nothing,Nothing,Nothing,Nothing},Nothing,DiffEqBase.StandardODEProblem}) at ./In[37]:4",
      " [20] map!(::getfield(Main, Symbol(\"##15#16\")), ::Array{ODESolution,1}, ::UnitRange{Int64}, ::Array{ODEProblem{Array{Float64,1},Tuple{Float64,Float64},true,Tuple{DiffEqParabolicLinearMapWrapper{Float64,ParabolicLinearMap{Float64}}},ODEFunction{true,getfield(BlochTorreySolvers, Symbol(\"#f!#4\")),UniformScaling{Bool},Nothing,Nothing,getfield(BlochTorreySolvers, Symbol(\"##2#5\")),DiffEqParabolicLinearMapWrapper{Float64,ParabolicLinearMap{Float64}},Nothing,Nothing,Nothing,Nothing},Nothing,DiffEqBase.StandardODEProblem},1}) at ./abstractarray.jl:2026",
      " [21] top-level scope at util.jl:156",
      " [22] top-level scope at In[37]:1"
     ]
    }
   ],
   "source": [
    "@time sols = map!(sols, 1:length(probs), probs) do i, prob\n",
    "    println(\"i = $i/$(length(sols)): \")\n",
    "    cb = MultiSpinEchoCallback(tspan; TE = dt)\n",
    "    sol = @time solve(prob, ExpokitExpmv(prob.p[1]; m = 30);\n",
    "        dense = false, # don't save all intermediate time steps\n",
    "        saveat = ts, # timepoints to save solution at\n",
    "        tstops = ts, # ensure stopping at all ts points\n",
    "        dt = dt,\n",
    "        reltol = 1e-6,\n",
    "        callback = cb\n",
    "    )\n",
    "    return sol\n",
    "end;"
   ]
  },
  {
   "cell_type": "code",
   "execution_count": 34,
   "metadata": {},
   "outputs": [],
   "source": [
    "AllSols[:expokit_m30] = deepcopy(sols);"
   ]
  },
  {
   "cell_type": "code",
   "execution_count": 43,
   "metadata": {},
   "outputs": [],
   "source": [
    "probs = [ODEProblem(m, interpolate(u0, m), tspan; invertmass = true) for m in myelindomains];\n",
    "sols = Vector{ODESolution}(undef, length(probs));"
   ]
  },
  {
   "cell_type": "code",
   "execution_count": 44,
   "metadata": {},
   "outputs": [
    {
     "name": "stdout",
     "output_type": "stream",
     "text": [
      "i = 1/1: \n",
      "π-pulse at t = 5.0 ms\n"
     ]
    },
    {
     "name": "stderr",
     "output_type": "stream",
     "text": [
      "\n",
      "[CVSDLS ERROR]  CVDlsSetJacFn\n",
      "  Linear solver memory is NULL.\n",
      "\n"
     ]
    },
    {
     "name": "stdout",
     "output_type": "stream",
     "text": [
      "π-pulse at t = 15.0 ms\n"
     ]
    },
    {
     "ename": "InterruptException",
     "evalue": "InterruptException:",
     "output_type": "error",
     "traceback": [
      "InterruptException:",
      "",
      "Stacktrace:",
      " [1] allocate_dense(::Int64, ::Int64, ::Int64, ::Type{Float64}) at /buildworker/worker/package_linux64/build/usr/share/julia/stdlib/v0.7/SuiteSparse/src/cholmod.jl:405",
      " [2] SuiteSparse.CHOLMOD.Dense{Float64}(::Array{Float64,1}) at /buildworker/worker/package_linux64/build/usr/share/julia/stdlib/v0.7/SuiteSparse/src/cholmod.jl:829",
      " [3] \\ at /buildworker/worker/package_linux64/build/usr/share/julia/stdlib/v0.7/SuiteSparse/src/cholmod.jl:1714 [inlined]",
      " [4] Minv_u(::SuiteSparse.CHOLMOD.Factor{Float64}, ::Array{Float64,1}) at /home/coopar7/Documents/code/BlochTorreyExperiments-master/Experiments/MyelinWaterOrientation/BlochTorrey/BlochTorreyUtils.jl:631",
      " [5] Minv_K_mul_u!(::Array{Float64,1}, ::Array{Float64,1}, ::SparseMatrixCSC{Float64,Int64}, ::SuiteSparse.CHOLMOD.Factor{Float64}) at /home/coopar7/Documents/code/BlochTorreyExperiments-master/Experiments/MyelinWaterOrientation/BlochTorrey/BlochTorreyUtils.jl:641",
      " [6] mul!(::Array{Float64,1}, ::ParabolicLinearMap{Float64}, ::Array{Float64,1}) at /home/coopar7/Documents/code/BlochTorreyExperiments-master/Experiments/MyelinWaterOrientation/BlochTorrey/BlochTorreyUtils.jl:646",
      " [7] mul! at /home/coopar7/Documents/code/BlochTorreyExperiments-master/Experiments/MyelinWaterOrientation/BlochTorrey/BlochTorreyUtils.jl:713 [inlined]",
      " [8] f! at /home/coopar7/Documents/code/BlochTorreyExperiments-master/Experiments/MyelinWaterOrientation/BlochTorrey/BlochTorreySolvers.jl:48 [inlined]",
      " [9] ODEFunction at /home/coopar7/.julia/packages/DiffEqBase/mKOqQ/src/diffeqfunction.jl:106 [inlined]",
      " [10] cvodefunjac(::Float64, ::Ptr{Sundials._generic_N_Vector}, ::Ptr{Sundials._generic_N_Vector}, ::Sundials.FunJac{ODEFunction{true,getfield(BlochTorreySolvers, Symbol(\"#f!#4\")),UniformScaling{Bool},Nothing,Nothing,getfield(BlochTorreySolvers, Symbol(\"##2#5\")),DiffEqParabolicLinearMapWrapper{Float64,ParabolicLinearMap{Float64}},Nothing,Nothing,Nothing,Nothing},Nothing,getfield(BlochTorreySolvers, Symbol(\"##2#5\")),Tuple{DiffEqParabolicLinearMapWrapper{Float64,ParabolicLinearMap{Float64}}},DiffEqParabolicLinearMapWrapper{Float64,ParabolicLinearMap{Float64}},Array{Float64,1},Nothing}) at /home/coopar7/.julia/packages/Sundials/wMM3l/src/common_interface/function_types.jl:31",
      " [11] __CVode at /home/coopar7/.julia/packages/Sundials/wMM3l/src/wrapped_api/cvodes.jl:312 [inlined]",
      " [12] CVode(::Sundials.Handle{Sundials.CVODEMem}, ::Float64, ::Array{Float64,1}, ::Array{Float64,1}, ::Int32) at /home/coopar7/.julia/packages/Sundials/wMM3l/src/wrapped_api/cvodes.jl:317",
      " [13] solver_step at /home/coopar7/.julia/packages/Sundials/wMM3l/src/common_interface/solve.jl:786 [inlined]",
      " [14] solve!(::Sundials.CVODEIntegrator{Array{Float64,1},Tuple{DiffEqParabolicLinearMapWrapper{Float64,ParabolicLinearMap{Float64}}},Sundials.Handle{Sundials.CVODEMem},ODESolution{Float64,2,Array{Array{Float64,1},1},Nothing,Nothing,Array{Float64,1},Array{Any,1},ODEProblem{Array{Float64,1},Tuple{Float64,Float64},true,Tuple{DiffEqParabolicLinearMapWrapper{Float64,ParabolicLinearMap{Float64}}},ODEFunction{true,getfield(BlochTorreySolvers, Symbol(\"#f!#4\")),UniformScaling{Bool},Nothing,Nothing,getfield(BlochTorreySolvers, Symbol(\"##2#5\")),DiffEqParabolicLinearMapWrapper{Float64,ParabolicLinearMap{Float64}},Nothing,Nothing,Nothing,Nothing},Nothing,DiffEqBase.StandardODEProblem},CVODE_BDF{:Functional,:None},DiffEqBase.LinearInterpolation{Array{Float64,1},Array{Array{Float64,1},1}}},CVODE_BDF{:Functional,:None},ODEFunction{true,getfield(BlochTorreySolvers, Symbol(\"#f!#4\")),UniformScaling{Bool},Nothing,Nothing,getfield(BlochTorreySolvers, Symbol(\"##2#5\")),DiffEqParabolicLinearMapWrapper{Float64,ParabolicLinearMap{Float64}},Nothing,Nothing,Nothing,Nothing},Sundials.FunJac{ODEFunction{true,getfield(BlochTorreySolvers, Symbol(\"#f!#4\")),UniformScaling{Bool},Nothing,Nothing,getfield(BlochTorreySolvers, Symbol(\"##2#5\")),DiffEqParabolicLinearMapWrapper{Float64,ParabolicLinearMap{Float64}},Nothing,Nothing,Nothing,Nothing},Nothing,getfield(BlochTorreySolvers, Symbol(\"##2#5\")),Tuple{DiffEqParabolicLinearMapWrapper{Float64,ParabolicLinearMap{Float64}}},DiffEqParabolicLinearMapWrapper{Float64,ParabolicLinearMap{Float64}},Array{Float64,1},Nothing},Ptr{Nothing},Sundials.DEOptions{DataStructures.BinaryHeap{Float64,DataStructures.LessThan},DataStructures.BinaryHeap{Float64,DataStructures.LessThan},CallbackSet{Tuple{},Tuple{DiscreteCallback{getfield(BlochTorreySolvers, Symbol(\"#condition#34\")){Float64,Base.RefValue{Float64}},getfield(BlochTorreySolvers, Symbol(\"#affect!#36\")){Tuple{Float64,Float64},Base.RefValue{Float64},getfield(BlochTorreySolvers, Symbol(\"#apply_pulse!#35\"))},typeof(DiffEqBase.INITIALIZE_DEFAULT)}}}},Array{Float64,1},Tuple{Int64},Array{Float64,1},Nothing,Nothing}) at /home/coopar7/.julia/packages/Sundials/wMM3l/src/common_interface/solve.jl:819",
      " [15] #__solve#15(::Base.Iterators.Pairs{Symbol,Any,NTuple{7,Symbol},NamedTuple{(:dense, :saveat, :tstops, :dt, :reltol, :abstol, :callback),Tuple{Bool,StepRangeLen{Float64,Base.TwicePrecision{Float64},Base.TwicePrecision{Float64}},StepRangeLen{Float64,Base.TwicePrecision{Float64},Base.TwicePrecision{Float64}},Float64,Float64,Float64,DiscreteCallback{getfield(BlochTorreySolvers, Symbol(\"#condition#34\")){Float64,Base.RefValue{Float64}},getfield(BlochTorreySolvers, Symbol(\"#affect!#36\")){Tuple{Float64,Float64},Base.RefValue{Float64},getfield(BlochTorreySolvers, Symbol(\"#apply_pulse!#35\"))},typeof(DiffEqBase.INITIALIZE_DEFAULT)}}}}, ::Function, ::ODEProblem{Array{Float64,1},Tuple{Float64,Float64},true,Tuple{DiffEqParabolicLinearMapWrapper{Float64,ParabolicLinearMap{Float64}}},ODEFunction{true,getfield(BlochTorreySolvers, Symbol(\"#f!#4\")),UniformScaling{Bool},Nothing,Nothing,getfield(BlochTorreySolvers, Symbol(\"##2#5\")),DiffEqParabolicLinearMapWrapper{Float64,ParabolicLinearMap{Float64}},Nothing,Nothing,Nothing,Nothing},Nothing,DiffEqBase.StandardODEProblem}, ::CVODE_BDF{:Functional,:None}, ::Array{Any,1}, ::Array{Any,1}, ::Array{Any,1}, ::Type{Val{true}}) at /home/coopar7/.julia/packages/Sundials/wMM3l/src/common_interface/solve.jl:12",
      " [16] #__solve at ./none:0 [inlined] (repeats 5 times)",
      " [17] #solve#428(::Base.Iterators.Pairs{Symbol,Any,NTuple{7,Symbol},NamedTuple{(:dense, :saveat, :tstops, :dt, :reltol, :abstol, :callback),Tuple{Bool,StepRangeLen{Float64,Base.TwicePrecision{Float64},Base.TwicePrecision{Float64}},StepRangeLen{Float64,Base.TwicePrecision{Float64},Base.TwicePrecision{Float64}},Float64,Float64,Float64,DiscreteCallback{getfield(BlochTorreySolvers, Symbol(\"#condition#34\")){Float64,Base.RefValue{Float64}},getfield(BlochTorreySolvers, Symbol(\"#affect!#36\")){Tuple{Float64,Float64},Base.RefValue{Float64},getfield(BlochTorreySolvers, Symbol(\"#apply_pulse!#35\"))},typeof(DiffEqBase.INITIALIZE_DEFAULT)}}}}, ::Function, ::ODEProblem{Array{Float64,1},Tuple{Float64,Float64},true,Tuple{DiffEqParabolicLinearMapWrapper{Float64,ParabolicLinearMap{Float64}}},ODEFunction{true,getfield(BlochTorreySolvers, Symbol(\"#f!#4\")),UniformScaling{Bool},Nothing,Nothing,getfield(BlochTorreySolvers, Symbol(\"##2#5\")),DiffEqParabolicLinearMapWrapper{Float64,ParabolicLinearMap{Float64}},Nothing,Nothing,Nothing,Nothing},Nothing,DiffEqBase.StandardODEProblem}, ::CVODE_BDF{:Functional,:None}) at /home/coopar7/.julia/packages/DiffEqBase/mKOqQ/src/solve.jl:19",
      " [18] (::getfield(DiffEqBase, Symbol(\"#kw##solve\")))(::NamedTuple{(:dense, :saveat, :tstops, :dt, :reltol, :abstol, :callback),Tuple{Bool,StepRangeLen{Float64,Base.TwicePrecision{Float64},Base.TwicePrecision{Float64}},StepRangeLen{Float64,Base.TwicePrecision{Float64},Base.TwicePrecision{Float64}},Float64,Float64,Float64,DiscreteCallback{getfield(BlochTorreySolvers, Symbol(\"#condition#34\")){Float64,Base.RefValue{Float64}},getfield(BlochTorreySolvers, Symbol(\"#affect!#36\")){Tuple{Float64,Float64},Base.RefValue{Float64},getfield(BlochTorreySolvers, Symbol(\"#apply_pulse!#35\"))},typeof(DiffEqBase.INITIALIZE_DEFAULT)}}}, ::typeof(solve), ::ODEProblem{Array{Float64,1},Tuple{Float64,Float64},true,Tuple{DiffEqParabolicLinearMapWrapper{Float64,ParabolicLinearMap{Float64}}},ODEFunction{true,getfield(BlochTorreySolvers, Symbol(\"#f!#4\")),UniformScaling{Bool},Nothing,Nothing,getfield(BlochTorreySolvers, Symbol(\"##2#5\")),DiffEqParabolicLinearMapWrapper{Float64,ParabolicLinearMap{Float64}},Nothing,Nothing,Nothing,Nothing},Nothing,DiffEqBase.StandardODEProblem}, ::CVODE_BDF{:Functional,:None}) at ./none:0",
      " [19] (::getfield(Main, Symbol(\"##27#28\")))(::Int64, ::ODEProblem{Array{Float64,1},Tuple{Float64,Float64},true,Tuple{DiffEqParabolicLinearMapWrapper{Float64,ParabolicLinearMap{Float64}}},ODEFunction{true,getfield(BlochTorreySolvers, Symbol(\"#f!#4\")),UniformScaling{Bool},Nothing,Nothing,getfield(BlochTorreySolvers, Symbol(\"##2#5\")),DiffEqParabolicLinearMapWrapper{Float64,ParabolicLinearMap{Float64}},Nothing,Nothing,Nothing,Nothing},Nothing,DiffEqBase.StandardODEProblem}) at ./util.jl:156",
      " [20] map!(::getfield(Main, Symbol(\"##27#28\")), ::Array{ODESolution,1}, ::UnitRange{Int64}, ::Array{ODEProblem{Array{Float64,1},Tuple{Float64,Float64},true,Tuple{DiffEqParabolicLinearMapWrapper{Float64,ParabolicLinearMap{Float64}}},ODEFunction{true,getfield(BlochTorreySolvers, Symbol(\"#f!#4\")),UniformScaling{Bool},Nothing,Nothing,getfield(BlochTorreySolvers, Symbol(\"##2#5\")),DiffEqParabolicLinearMapWrapper{Float64,ParabolicLinearMap{Float64}},Nothing,Nothing,Nothing,Nothing},Nothing,DiffEqBase.StandardODEProblem},1}) at ./abstractarray.jl:2026",
      " [21] top-level scope at util.jl:156",
      " [22] top-level scope at In[44]:1"
     ]
    }
   ],
   "source": [
    "@time sols = map!(sols, 1:length(probs), probs) do i, prob\n",
    "    println(\"i = $i/$(length(sols)): \")\n",
    "    \n",
    "#     Kfact = lu(prob.p[2])\n",
    "#     mylinsolve!(::Type{Val{:init}},f,u0) = (x, A, b, update_matrix = false) -> copyto!(x, Kfact\\b)\n",
    "#     alg = TRBDF2(;linsolve = mylinsolve!)\n",
    "#     alg = ABDF2(;linsolve = mylinsolve!)\n",
    "#     alg = Rosenbrock23(linsolve = LinSolveFactorize(lu))#;linsolve = mylinsolve!)\n",
    "    \n",
    "#     alg = ARKODE(\n",
    "#         Sundials.Implicit();\n",
    "#         method = :Functional,\n",
    "#         linear_solver = :None,\n",
    "#         order = 4\n",
    "#     )\n",
    "    alg = CVODE_BDF(;\n",
    "        method = :Functional, #method = :Newton,\n",
    "        linear_solver = :None, #linear_solver = :GMRES,\n",
    "        max_order = 5\n",
    "    )\n",
    "#     alg = CVODE_Adams(;\n",
    "#         method = :Functional,\n",
    "#         linear_solver = :None,\n",
    "#         max_order = 12\n",
    "#     )\n",
    "    \n",
    "    cb = MultiSpinEchoCallback(tspan; TE = dt)\n",
    "    sol = @time solve(prob, alg;\n",
    "        dense = false, # don't save all intermediate time steps\n",
    "        saveat = ts, # timepoints to save solution at\n",
    "        tstops = ts, # ensure stopping at all `ts` points\n",
    "        dt = 0.5 * h0^2/(4*btparams.D_Tissue), # conservative initial dt; timescale for diffusion of distance h0\n",
    "        reltol = 1e-4,\n",
    "        abstol = 1e-4,\n",
    "        callback = cb #callback = MultiSpinEchoCallback(tspan; TE = dt)\n",
    "    )\n",
    "    return sol\n",
    "end;"
   ]
  },
  {
   "cell_type": "code",
   "execution_count": 45,
   "metadata": {},
   "outputs": [],
   "source": [
    "AllSols[:cvode_bdf_functional_order5] = deepcopy(sols);"
   ]
  },
  {
   "cell_type": "code",
   "execution_count": 46,
   "metadata": {},
   "outputs": [
    {
     "ename": "UndefRefError",
     "evalue": "UndefRefError: access to undefined reference",
     "output_type": "error",
     "traceback": [
      "UndefRefError: access to undefined reference",
      "",
      "Stacktrace:",
      " [1] getindex at ./array.jl:731 [inlined]",
      " [2] iterate at ./array.jl:707 [inlined] (repeats 2 times)",
      " [3] iterate at ./generator.jl:44 [inlined]",
      " [4] mapfoldl_impl(::Function, ::Function, ::NamedTuple{(),Tuple{}}, ::Base.Generator{Array{ODESolution,1},getfield(Main, Symbol(\"##30#33\"))}) at ./reduce.jl:53",
      " [5] #mapfoldl#174 at ./reduce.jl:70 [inlined]",
      " [6] mapfoldl at ./reduce.jl:70 [inlined]",
      " [7] #mapreduce#178 at ./reduce.jl:203 [inlined]",
      " [8] mapreduce at ./reduce.jl:203 [inlined]",
      " [9] #reduce#179 at ./reduce.jl:359 [inlined]",
      " [10] reduce(::Function, ::Base.Generator{Array{ODESolution,1},getfield(Main, Symbol(\"##30#33\"))}) at ./reduce.jl:359",
      " [11] top-level scope at In[46]:11"
     ]
    }
   ],
   "source": [
    "let\n",
    "    local sols1 = AllSols[:expokit_m30]\n",
    "#     local sols1 = AllSols[:arkode_gmres_order4]\n",
    "#     local sols2 = AllSols[:arkode_expl_gmres_order4]\n",
    "    local sols2 = AllSols[:cvode_bdf_functional_order5]\n",
    "#     local sols2 = AllSols[:cvode_bdf_gmres_max_order5]\n",
    "#     local sols2 = AllSols[:cvode_adams_functional_max_order12]\n",
    "#     local sols2 = AllSols[:rosenbrock23_mylinsolve]\n",
    "    \n",
    "    local u0 = reduce(vcat, p.u0 for p in probs)\n",
    "    local u1 = reduce(vcat, s.u[end] for s in sols1)\n",
    "    local u2 = reduce(vcat, s.u[end] for s in sols2)\n",
    "    \n",
    "    local S1 = norm.(calc_signals(sols1))\n",
    "    local S2 = norm.(calc_signals(sols2))\n",
    "    \n",
    "    @show norm(u1.-u2)/norm(u1)\n",
    "    @show maximum(abs, u1.-u2)/maximum(abs, u1)\n",
    "    @show norm(S1.-S2)/norm(S1)\n",
    "    @show maximum(abs, S1.-S2)/maximum(abs, S1)\n",
    "    @show norm(u0)\n",
    "    @show norm(u1), norm(u2)\n",
    "    @show norm(S1), norm(S2)\n",
    "    @show maximum(abs, u1), maximum(abs, u2)\n",
    "    @show maximum(abs, S1), maximum(abs, S2)\n",
    "end;"
   ]
  },
  {
   "cell_type": "code",
   "execution_count": 47,
   "metadata": {},
   "outputs": [],
   "source": [
    "# sols = deepcopy(AllSols[:expokit_m30]);\n",
    "# sols = deepcopy(AllSols[:cvode_bdf_gmres_max_order5]);\n",
    "sols = deepcopy(AllSols[:cvode_bdf_functional_order5]);"
   ]
  },
  {
   "cell_type": "code",
   "execution_count": 48,
   "metadata": {},
   "outputs": [
    {
     "ename": "UndefRefError",
     "evalue": "UndefRefError: access to undefined reference",
     "output_type": "error",
     "traceback": [
      "UndefRefError: access to undefined reference",
      "",
      "Stacktrace:",
      " [1] getindex at ./array.jl:731 [inlined]",
      " [2] iterate at ./array.jl:707 [inlined] (repeats 2 times)",
      " [3] iterate at ./generator.jl:44 [inlined]",
      " [4] mapfoldl_impl(::Function, ::Function, ::NamedTuple{(),Tuple{}}, ::Base.Generator{Array{ODESolution,1},getfield(Main, Symbol(\"##35#36\"))}) at ./reduce.jl:53",
      " [5] #mapfoldl#174 at ./reduce.jl:70 [inlined]",
      " [6] mapfoldl at ./reduce.jl:70 [inlined]",
      " [7] #mapreduce#178 at ./reduce.jl:203 [inlined]",
      " [8] mapreduce at ./reduce.jl:203 [inlined]",
      " [9] #reduce#179 at ./reduce.jl:359 [inlined]",
      " [10] reduce(::Function, ::Base.Generator{Array{ODESolution,1},getfield(Main, Symbol(\"##35#36\"))}) at ./reduce.jl:359",
      " [11] top-level scope at In[48]:1"
     ]
    }
   ],
   "source": [
    "Umagn = reduce(vcat, norm.(reinterpret(Vec{2,Float64}, s.u[end])) for s in sols);\n",
    "# Uphase = reduce(vcat, angle.(reinterpret(Vec{2,Float64}, s.u[end])) for s in sols);\n",
    "simpplot(getgrid.(myelindomains); newfigure = true, axis = mxaxis(bdry), facecol = Umagn); mxcall(:title, 0, \"Magnitude\")\n",
    "# simpplot(getgrid.(myelindomains); newfigure = true, axis = mxaxis(bdry), facecol = Uphase); mxcall(:title, 0, \"Phase\")"
   ]
  },
  {
   "cell_type": "code",
   "execution_count": 49,
   "metadata": {},
   "outputs": [],
   "source": [
    "# mxcall(:caxis,0,[0.0 5e-5])"
   ]
  },
  {
   "cell_type": "code",
   "execution_count": 50,
   "metadata": {},
   "outputs": [
    {
     "ename": "UndefRefError",
     "evalue": "UndefRefError: access to undefined reference",
     "output_type": "error",
     "traceback": [
      "UndefRefError: access to undefined reference",
      "",
      "Stacktrace:",
      " [1] getindex at ./array.jl:731 [inlined]",
      " [2] iterate at ./array.jl:707 [inlined] (repeats 2 times)",
      " [3] zip_iterate at ./iterators.jl:304 [inlined]",
      " [4] iterate at ./iterators.jl:320 [inlined]",
      " [5] iterate at ./generator.jl:44 [inlined]",
      " [6] collect(::Base.Generator{Base.Iterators.Zip2{Array{MyelinDomain{PermeableInterfaceRegion,2,2,Float64,3,3},1},Array{ODESolution,1}},getfield(Base, Symbol(\"##3#4\")){getfield(Main, Symbol(\"##37#39\"))}}) at ./array.jl:619",
      " [7] map(::Function, ::Array{MyelinDomain{PermeableInterfaceRegion,2,2,Float64,3,3},1}, ::Array{ODESolution,1}) at ./abstractarray.jl:2065",
      " [8] top-level scope at In[50]:1"
     ]
    }
   ],
   "source": [
    "Signals = map(myelindomains, sols) do m, s\n",
    "    [integrate(s(t), m) for t in tspan[1]:dt:tspan[2]]\n",
    "end;"
   ]
  },
  {
   "cell_type": "code",
   "execution_count": 51,
   "metadata": {},
   "outputs": [
    {
     "ename": "UndefVarError",
     "evalue": "UndefVarError: Signals not defined",
     "output_type": "error",
     "traceback": [
      "UndefVarError: Signals not defined",
      "",
      "Stacktrace:",
      " [1] top-level scope at In[51]:1"
     ]
    }
   ],
   "source": [
    "Stotal = sum(Signals);"
   ]
  },
  {
   "cell_type": "code",
   "execution_count": 52,
   "metadata": {},
   "outputs": [
    {
     "name": "stdout",
     "output_type": "stream",
     "text": [
      "btparams.R2_lp = 15.873015873015873\n"
     ]
    },
    {
     "ename": "UndefVarError",
     "evalue": "UndefVarError: Stotal not defined",
     "output_type": "error",
     "traceback": [
      "UndefVarError: Stotal not defined",
      "",
      "Stacktrace:",
      " [1] top-level scope at show.jl:556",
      " [2] top-level scope at In[52]:3"
     ]
    }
   ],
   "source": [
    "Tspan = tspan[2] - tspan[1]\n",
    "@show btparams.R2_lp;\n",
    "@show (-1/Tspan)*log(norm(Stotal[end])/norm(Stotal[1]));\n",
    "@show exp(-tspan[end]*btparams.R2_lp);\n",
    "@show norm(Stotal[end])/norm(Stotal[1]);"
   ]
  },
  {
   "cell_type": "code",
   "execution_count": 53,
   "metadata": {},
   "outputs": [
    {
     "name": "stdout",
     "output_type": "stream",
     "text": [
      "exact_mwf = 0.26200232713526533\n"
     ]
    }
   ],
   "source": [
    "exact_mwf = getmwf(outer_circles, inner_circles, bdry);\n",
    "@show exact_mwf;"
   ]
  },
  {
   "cell_type": "code",
   "execution_count": 54,
   "metadata": {},
   "outputs": [],
   "source": [
    "mxcall(:addpath, 0, realpath(\"MATLAB/SE_corr/\"));"
   ]
  },
  {
   "cell_type": "code",
   "execution_count": 55,
   "metadata": {},
   "outputs": [
    {
     "ename": "UndefVarError",
     "evalue": "UndefVarError: Stotal not defined",
     "output_type": "error",
     "traceback": [
      "UndefVarError: Stotal not defined",
      "",
      "Stacktrace:",
      " [1] top-level scope at In[55]:1"
     ]
    }
   ],
   "source": [
    "MWImaps, MWIdist, MWIpart = fitmwfmodel(Stotal, NNLSRegression();\n",
    "    T2Range = [8e-3, 2.0],\n",
    "    spwin = [8e-3, 24.75e-3],\n",
    "    mpwin = [25.25e-3, 200e-3],\n",
    "    nT2 = 32,\n",
    "    RefConAngle = 165.0,\n",
    "    PLOTDIST = true\n",
    ");\n",
    "getmwf(NNLSRegression(), MWImaps, MWIdist, MWIpart)"
   ]
  },
  {
   "cell_type": "code",
   "execution_count": 56,
   "metadata": {},
   "outputs": [],
   "source": [
    "# TestStotalMagn = mwimodel(TwoPoolMagnToMagn(), tspan[1]:dt:tspan[2], modelfit.param)\n",
    "# TestStotal = [Vec{2}((zero(y),y)) for y in TestStotalMagn];"
   ]
  },
  {
   "cell_type": "code",
   "execution_count": 57,
   "metadata": {
    "scrolled": true
   },
   "outputs": [
    {
     "name": "stdout",
     "output_type": "stream",
     "text": [
      "Model: TwoPoolMagnToMagn()\n"
     ]
    },
    {
     "ename": "UndefVarError",
     "evalue": "UndefVarError: Stotal not defined",
     "output_type": "error",
     "traceback": [
      "UndefVarError: Stotal not defined",
      "",
      "Stacktrace:",
      " [1] top-level scope at ./In[57]:4"
     ]
    }
   ],
   "source": [
    "for modeltype in (TwoPoolMagnToMagn(), ThreePoolMagnToMagn(), ThreePoolCplxToMagn(), ThreePoolCplxToCplx())\n",
    "    local modelfit, errors, mwf\n",
    "    println(\"Model: $modeltype\"); flush(stdout)\n",
    "    modelfit, errors = fitmwfmodel(Stotal, modeltype; TE = dt);\n",
    "    mwf = getmwf(modeltype, modelfit, errors)\n",
    "    println(\"mwf: $mwf\"); flush(stdout)\n",
    "    errors == nothing ? display(modelfit.param) : display([modelfit.param errors]); flush(stdout)\n",
    "end"
   ]
  },
  {
   "cell_type": "code",
   "execution_count": 58,
   "metadata": {},
   "outputs": [
    {
     "data": {
      "text/plain": [
       "2-element Tensor{1,2,Float64,2}:\n",
       " 3.674790138876637\n",
       " 3.674790138876637"
      ]
     },
     "execution_count": 58,
     "metadata": {},
     "output_type": "execute_result"
    }
   ],
   "source": [
    "widths(bdry)"
   ]
  },
  {
   "cell_type": "code",
   "execution_count": 59,
   "metadata": {
    "scrolled": true
   },
   "outputs": [
    {
     "name": "stdout",
     "output_type": "stream",
     "text": [
      "getmwf(outer_circles, inner_circles, bdry) = 0.26200232713526533\n"
     ]
    },
    {
     "ename": "UndefVarError",
     "evalue": "UndefVarError: Stotal not defined",
     "output_type": "error",
     "traceback": [
      "UndefVarError: Stotal not defined",
      "",
      "Stacktrace:",
      " [1] top-level scope at show.jl:556",
      " [2] top-level scope at In[59]:2"
     ]
    }
   ],
   "source": [
    "@show getmwf(outer_circles, inner_circles, bdry);\n",
    "@show getmwf(Stotal, TwoPoolMagnToMagn(); TE = dt, fitmethod = :local);\n",
    "@show getmwf(Stotal, ThreePoolMagnToMagn(); TE = dt, fitmethod = :local);\n",
    "@show getmwf(Stotal, ThreePoolCplxToMagn(); TE = dt, fitmethod = :local);\n",
    "@show getmwf(Stotal, ThreePoolCplxToCplx(); TE = dt, fitmethod = :local);"
   ]
  },
  {
   "cell_type": "code",
   "execution_count": 60,
   "metadata": {},
   "outputs": [
    {
     "ename": "UndefVarError",
     "evalue": "UndefVarError: Stotal not defined",
     "output_type": "error",
     "traceback": [
      "UndefVarError: Stotal not defined",
      "",
      "Stacktrace:",
      " [1] top-level scope at In[60]:1"
     ]
    }
   ],
   "source": [
    "p0 = initialparams(ThreePoolCplxToCplx(), ts, Stotal)[1];\n",
    "modelfit, errors = fitmwfmodel(Stotal, ThreePoolCplxToCplx(); TE = dt);"
   ]
  },
  {
   "cell_type": "code",
   "execution_count": 61,
   "metadata": {
    "scrolled": true
   },
   "outputs": [],
   "source": [
    "# mwimodel(ThreePoolCplxToCplx(), ts, modelfit.param);\n",
    "# [mwimodel(ThreePoolCplxToCplx(), ts,  modelfit.param) |> x -> reinterpret(ComplexF64, x) complex.(Stotal)]\n",
    "# [mwimodel(ThreePoolCplxToCplx(), ts, p0) |> x -> reinterpret(ComplexF64, x) complex.(Stotal)]"
   ]
  },
  {
   "cell_type": "code",
   "execution_count": 62,
   "metadata": {},
   "outputs": [],
   "source": [
    "myelin_area = intersect_area(outer_circles, bdry) - intersect_area(inner_circles, bdry)\n",
    "total_area = area(bdry)\n",
    "y_biexp = @. (total_area - myelin_area) * exp(-ts*btparams.R2_lp) + myelin_area * exp(-ts*btparams.R2_sp);"
   ]
  },
  {
   "cell_type": "code",
   "execution_count": 63,
   "metadata": {
    "scrolled": true
   },
   "outputs": [
    {
     "ename": "UndefVarError",
     "evalue": "UndefVarError: Stotal not defined",
     "output_type": "error",
     "traceback": [
      "UndefVarError: Stotal not defined",
      "",
      "Stacktrace:",
      " [1] top-level scope at In[63]:2"
     ]
    }
   ],
   "source": [
    "mxcall(:figure, 0)\n",
    "mxcall(:plot, 0, collect(1000.0.*ts), [norm.(Stotal) y_biexp])"
   ]
  },
  {
   "cell_type": "code",
   "execution_count": 64,
   "metadata": {},
   "outputs": [
    {
     "name": "stdout",
     "output_type": "stream",
     "text": [
      ">> [\bWarning: There is no axes with which to associate a legend.]\b \n",
      "[\b> In legendHGUsingMATLABClasses (line 183)\n",
      "  In legend (line 118)]\b \n"
     ]
    }
   ],
   "source": [
    "mxcall(:legend, 0, \"Simulated\", \"Bi-Exponential\")\n",
    "mxcall(:title, 0, \"Signal Magnitude vs. Time\")\n",
    "mxcall(:xlabel, 0, \"Time [ms]\"); mxcall(:xlim, 0, 1000.0 .* [tspan...])\n",
    "mxcall(:ylabel, 0, \"S(t) Magnitude\")"
   ]
  },
  {
   "cell_type": "code",
   "execution_count": 65,
   "metadata": {},
   "outputs": [],
   "source": [
    "# mxcall(:figure, 0)\n",
    "# mxcall(:plot, 0, collect(1000.0.*ts), reduce(hcat, map(S->norm.(S), Signals)))"
   ]
  },
  {
   "cell_type": "code",
   "execution_count": 66,
   "metadata": {},
   "outputs": [],
   "source": [
    "# prob = ODEProblem((du,u,p,t)->A_mul_B!(du,p[1],u), u0, tspan, (Amap,));"
   ]
  },
  {
   "cell_type": "code",
   "execution_count": 67,
   "metadata": {},
   "outputs": [],
   "source": [
    "#@time Expokit.expmv!(u, tspan[end], Amap, u0; tol=1e-4, norm=expmv_norm, m=100); # penelope: 17.42s\n",
    "#@time Expokit.expmv!(u, tspan[end], Amap, u0; tol=1e-4, norm=expmv_norm, m=50); # penelope: 30.09s\n",
    "#@time Expokit.expmv!(u, tspan[end], Amap, u0; tol=1e-4, norm=expmv_norm, m=10); # penelope: 103.5s\n",
    "#@time Expokit.expmv!(u, tspan[end], Amap, u0; tol=1e-8, norm=expmv_norm); # penelope: 53.2s\n",
    "#@time Expokit.expmv!(u, tspan[end], Amap, u0; tol=1e-6, norm=expmv_norm); # penelope: 44.4s"
   ]
  },
  {
   "cell_type": "code",
   "execution_count": 68,
   "metadata": {},
   "outputs": [],
   "source": [
    "#@time sol = solve(prob, CVODE_BDF(linear_solver=:GMRES); saveat=tspan, reltol=1e-8, alg_hints=:stiff); # penelope: 90.21s\n",
    "#@time sol = solve(prob, CVODE_BDF(linear_solver=:GMRES); saveat=tspan, reltol=1e-4, alg_hints=:stiff); # penelope: 33.44s\n",
    "#@time sol = solve(prob, CVODE_BDF(linear_solver=:BCG); saveat=tspan, reltol=1e-4, alg_hints=:stiff) # penelope: 53.66s\n",
    "#@time sol = solve(prob, CVODE_BDF(linear_solver=:TFQMR); saveat=tspan, reltol=1e-4, alg_hints=:stiff) # penelope: 18.99s but low accuracy"
   ]
  },
  {
   "cell_type": "code",
   "execution_count": 69,
   "metadata": {
    "scrolled": true
   },
   "outputs": [],
   "source": [
    "#prob_Ku = ODEProblem(K_mul_u!, u0, tspan, (K,), mass_matrix=M);\n",
    "#@time sol_Ku = solve(prob_Ku, Rosenbrock23(), saveat=tspan, reltol=1e-4, alg_hints=:stiff) #DNF\n",
    "#@time sol_Ku = solve(prob_Ku, Rodas4(), saveat=tspan, reltol=1e-4, alg_hints=:stiff) #DNF"
   ]
  },
  {
   "cell_type": "code",
   "execution_count": 70,
   "metadata": {},
   "outputs": [],
   "source": [
    "# @show norm(sol.u[end] - u)/maximum(abs,u);\n",
    "# @show maximum(sol.u[end] - u)/maximum(abs,u);"
   ]
  },
  {
   "cell_type": "markdown",
   "metadata": {},
   "source": [
    "# Testing"
   ]
  },
  {
   "cell_type": "code",
   "execution_count": 62,
   "metadata": {
    "scrolled": true
   },
   "outputs": [],
   "source": [
    "# using Test\n",
    "# using DiffEqCallbacks\n",
    "# using Plots\n",
    "# gr(); default(fmt = :png)"
   ]
  },
  {
   "cell_type": "code",
   "execution_count": 63,
   "metadata": {},
   "outputs": [],
   "source": [
    "# let\n",
    "#     local u0 = [1.,0.]\n",
    "#     local function fun2(du, u, p, t)\n",
    "#        du[2] = -u[1]\n",
    "#        du[1] = u[2]\n",
    "#     end\n",
    "#     local tspan = (0.0,10.0)\n",
    "#     local prob = ODEProblem(fun2,u0,tspan)\n",
    "\n",
    "# #     function condition2(u,t,integrator)\n",
    "# #       get_du(integrator)[1]>0\n",
    "# #     end\n",
    "# #     affect2!(integrator) = terminate!(integrator)\n",
    "# #     local cb = DiscreteCallback(condition2,affect2!)\n",
    "\n",
    "# #     function make_time_choice()\n",
    "# #         ts = collect(tspan[1]+pi/2:pi/2:tspan[2])\n",
    "# #         time_choice(integrator) = isempty(ts) ? typemax(eltype(ts)) : popfirst!(ts)\n",
    "# #         return time_choice\n",
    "# #     end\n",
    "# #     function user_affect!(integrator)\n",
    "# #         println(\"π-pulse at t = $(integrator.t)\")\n",
    "# #         return @views(integrator.u[2:2:end] .= -integrator.u[2:2:end])\n",
    "# #     end\n",
    "# #     local cb = IterativeCallback(make_time_choice(), user_affect!, eltype(tspan); initial_affect = false)\n",
    "# # #     local cb = PeriodicCallback(user_affect!, 2.0; initial_affect = false)\n",
    "\n",
    "#     local cb = MultiSpinEchoCallback(tspan; TE = 2.0)\n",
    "# #     local cb = MultiSpinEchoCallback(tspan; pulsetimes = [0.0])\n",
    "\n",
    "# #     local sol = solve(prob, Rosenbrock23(); callback = cb);\n",
    "# #     local sol = solve(prob, CVODE_BDF(); callback = cb);\n",
    "#     local sol = solve(prob, CVODE_Adams(); callback = cb);\n",
    "# #     local sol = solve(prob, ARKODE(); callback = cb);\n",
    "\n",
    "#     # @test sol.t[end] < 3.5\n",
    "#     plot(sol)\n",
    "# end\n"
   ]
  },
  {
   "cell_type": "code",
   "execution_count": null,
   "metadata": {},
   "outputs": [],
   "source": []
  },
  {
   "cell_type": "code",
   "execution_count": null,
   "metadata": {},
   "outputs": [],
   "source": []
  },
  {
   "cell_type": "code",
   "execution_count": null,
   "metadata": {},
   "outputs": [],
   "source": []
  },
  {
   "cell_type": "code",
   "execution_count": 56,
   "metadata": {},
   "outputs": [],
   "source": [
    "# using BlochTorreyUtilsTest"
   ]
  },
  {
   "cell_type": "markdown",
   "metadata": {},
   "source": [
    "### Single Axon"
   ]
  },
  {
   "cell_type": "code",
   "execution_count": 57,
   "metadata": {
    "scrolled": true
   },
   "outputs": [],
   "source": [
    "# BlochTorreyUtilsTest.singleaxontests(\n",
    "#     BlochTorreyParameters{Float64}(\n",
    "#         ChiI = -60e-9,\n",
    "#         ChiA = -120e-9\n",
    "#     );\n",
    "#     PLOTOMEGA = false\n",
    "# );"
   ]
  },
  {
   "cell_type": "markdown",
   "metadata": {},
   "source": [
    "### Multiple Axons"
   ]
  },
  {
   "cell_type": "code",
   "execution_count": 58,
   "metadata": {},
   "outputs": [],
   "source": [
    "# domainsetup = BlochTorreyUtilsTest.multipleaxons();"
   ]
  },
  {
   "cell_type": "code",
   "execution_count": 59,
   "metadata": {},
   "outputs": [],
   "source": [
    "# BlochTorreyUtilsTest.multipleaxontests(\n",
    "#     BlochTorreyParameters{Float64}(\n",
    "#         ChiI = -60e-9,\n",
    "#         ChiA = -120e-9\n",
    "#     ),\n",
    "#     domainsetup;\n",
    "#     PLOTOMEGA = false\n",
    "# );"
   ]
  },
  {
   "cell_type": "markdown",
   "metadata": {},
   "source": [
    "### Exporting to VTK\n",
    "To visualize the result we export the grid and our field `u`\n",
    "to a VTK-file, which can be viewed in e.g. [ParaView](https://www.paraview.org/)."
   ]
  },
  {
   "cell_type": "code",
   "execution_count": 60,
   "metadata": {},
   "outputs": [],
   "source": [
    "# vtk_grid(\"bloch_torrey_equation\", dh) do vtk\n",
    "#     vtk_point_data(vtk, dh, u)\n",
    "# end"
   ]
  }
 ],
 "metadata": {
  "@webio": {
   "lastCommId": null,
   "lastKernelId": null
  },
  "kernelspec": {
   "display_name": "Julia 1.1.0",
   "language": "julia",
   "name": "julia-1.1"
  },
  "language_info": {
   "file_extension": ".jl",
   "mimetype": "application/julia",
   "name": "julia",
   "version": "1.1.0"
  }
 },
 "nbformat": 4,
 "nbformat_minor": 3
}
