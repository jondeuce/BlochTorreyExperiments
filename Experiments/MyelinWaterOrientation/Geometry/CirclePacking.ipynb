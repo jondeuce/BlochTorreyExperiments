{
 "cells": [
  {
   "cell_type": "markdown",
   "metadata": {},
   "source": [
    "# Circle Packing"
   ]
  },
  {
   "cell_type": "markdown",
   "metadata": {},
   "source": [
    "## Introduction\n",
    "\n",
    "We aim to pack some circles"
   ]
  },
  {
   "cell_type": "code",
   "execution_count": null,
   "metadata": {},
   "outputs": [],
   "source": [
    "cd(\"/home/coopar7/Documents/code/BlochTorreyExperiments-master/\")"
   ]
  },
  {
   "cell_type": "code",
   "execution_count": null,
   "metadata": {},
   "outputs": [],
   "source": [
    "using Traceur\n",
    "using BenchmarkTools\n",
    "using StaticArrays\n",
    "using JuAFEM\n",
    "using JuAFEM: vertices, faces, edges\n",
    "using MATLAB\n",
    "using LinearMaps\n",
    "using DifferentialEquations\n",
    "using Optim\n",
    "using Cuba\n",
    "using Distributions\n",
    "\n",
    "include(\"Experiments/MyelinWaterOrientation/Geometry/geometry_utils.jl\")\n",
    "include(\"Experiments/MyelinWaterOrientation/Geometry/circle_packing.jl\")\n",
    "include(\"Experiments/MyelinWaterOrientation/Utils/mesh_utils.jl\")\n",
    "include(\"Experiments/MyelinWaterOrientation/Utils/blochtorrey_utils.jl\")\n",
    "Revise.track(\"Experiments/MyelinWaterOrientation/Geometry/geometry_utils.jl\")\n",
    "Revise.track(\"Experiments/MyelinWaterOrientation/Geometry/circle_packing.jl\")\n",
    "Revise.track(\"Experiments/MyelinWaterOrientation/Utils/mesh_utils.jl\")\n",
    "Revise.track(\"Experiments/MyelinWaterOrientation/Utils/blochtorrey_utils.jl\")"
   ]
  },
  {
   "cell_type": "code",
   "execution_count": null,
   "metadata": {},
   "outputs": [],
   "source": [
    "# α or k == R_shape, θ == R_scale\n",
    "R_mu = 0.46 # Axon mean radius [um] ; this is taken to be outer radius\n",
    "R_shape = 5.7 # Axon radius shape parameter for Gamma distribution (Xu)\n",
    "R_scale = R_mu / R_shape # Axon radius scale parameter [um]\n",
    "R_σ = sqrt(R_shape)*R_scale; # Axon radius variance"
   ]
  },
  {
   "cell_type": "code",
   "execution_count": 81,
   "metadata": {},
   "outputs": [],
   "source": [
    "revise()"
   ]
  },
  {
   "cell_type": "code",
   "execution_count": 82,
   "metadata": {},
   "outputs": [],
   "source": [
    "const Dim = 2\n",
    "Ncircles = 150\n",
    "rs = rand(Gamma(R_shape, R_scale), Ncircles);\n",
    "os = initialize_origins(rs);"
   ]
  },
  {
   "cell_type": "code",
   "execution_count": 83,
   "metadata": {
    "scrolled": false
   },
   "outputs": [
    {
     "name": "stdout",
     "output_type": "stream",
     "text": [
      " 30.444404 seconds (578.88 k allocations: 82.942 MiB, 0.10% gc time)\n"
     ]
    }
   ],
   "source": [
    "ϵ = 0.1*R_mu\n",
    "α = 5e-6\n",
    "\n",
    "@time circles_opt, opt_result = pack_circles(rs; initial_origins=os, distancescale = R_mu, alpha=α, epsilon=ϵ);"
   ]
  },
  {
   "cell_type": "code",
   "execution_count": 84,
   "metadata": {
    "scrolled": false
   },
   "outputs": [
    {
     "data": {
      "text/plain": [
       "Results of Optimization Algorithm\n",
       " * Algorithm: L-BFGS\n",
       " * Starting Point: [28.350819435993728,20.28378514270802, ...]\n",
       " * Minimizer: [8.944489685040136,3.7791861189254083, ...]\n",
       " * Minimum: 7.560200e+00\n",
       " * Iterations: 1569\n",
       " * Convergence: true\n",
       "   * |x - x'| ≤ 1.0e-32: false \n",
       "     |x - x'| = 1.78e-15 \n",
       "   * |f(x) - f(x')| ≤ 1.0e-32 |f(x)|: true\n",
       "     |f(x) - f(x')| = 0.00e+00 |f(x)|\n",
       "   * |g(x)| ≤ 1.0e-12: false \n",
       "     |g(x)| = 2.68e-07 \n",
       "   * Stopped by an increasing objective: false\n",
       "   * Reached Maximum Number of Iterations: false\n",
       " * Objective Calls: 1676\n",
       " * Gradient Calls: 1570"
      ]
     },
     "execution_count": 84,
     "metadata": {},
     "output_type": "execute_result"
    }
   ],
   "source": [
    "opt_result"
   ]
  },
  {
   "cell_type": "code",
   "execution_count": null,
   "metadata": {
    "scrolled": true
   },
   "outputs": [],
   "source": [
    "ConstrainedOpts = Optim.Options(iterations = 100_000,\n",
    "                                g_tol = 1e-12,\n",
    "                                allow_f_increases = false)\n",
    "\n",
    "@time circles_opt_con, opt_result_con = pack_circles(rs;\n",
    "                                                     initial_origins = origin.(circles_opt),\n",
    "                                                     constrained = true,\n",
    "                                                     epsilon = ϵ,\n",
    "                                                     Opts = ConstrainedOpts);"
   ]
  },
  {
   "cell_type": "code",
   "execution_count": null,
   "metadata": {
    "scrolled": false
   },
   "outputs": [],
   "source": [
    "opt_result_con"
   ]
  },
  {
   "cell_type": "code",
   "execution_count": null,
   "metadata": {},
   "outputs": [],
   "source": [
    "cs_plot = circles_opt_con;"
   ]
  },
  {
   "cell_type": "code",
   "execution_count": 85,
   "metadata": {},
   "outputs": [],
   "source": [
    "cs_plot = circles_opt;"
   ]
  },
  {
   "cell_type": "code",
   "execution_count": 86,
   "metadata": {},
   "outputs": [],
   "source": [
    "revise()"
   ]
  },
  {
   "cell_type": "code",
   "execution_count": 87,
   "metadata": {
    "scrolled": false
   },
   "outputs": [
    {
     "data": {
      "text/plain": [
       "Rectangle{2,Float64}([-0.278523, -8.56682], [13.0418, 6.19216])"
      ]
     },
     "execution_count": 87,
     "metadata": {},
     "output_type": "execute_result"
    }
   ],
   "source": [
    "Nmin = 50; # points for smallest circle\n",
    "h0 = 2pi*mean(c->radius(c), cs_plot)/Nmin; # approximate scale\n",
    "#h0 = ϵ\n",
    "eta = 4.0; # approx ratio between largest/smallest edges\n",
    "b_box = bounding_box(cs_plot)"
   ]
  },
  {
   "cell_type": "code",
   "execution_count": 88,
   "metadata": {
    "scrolled": true
   },
   "outputs": [
    {
     "ename": "LoadError",
     "evalue": "\u001b[91mInterruptException:\u001b[39m",
     "output_type": "error",
     "traceback": [
      "\u001b[91mInterruptException:\u001b[39m",
      "",
      "Stacktrace:",
      " [1] \u001b[1meval_string\u001b[22m\u001b[22m\u001b[1m(\u001b[22m\u001b[22m::MATLAB.MSession, ::String\u001b[1m)\u001b[22m\u001b[22m at \u001b[1m/home/coopar7/.julia/v0.6/MATLAB/src/engine.jl:137\u001b[22m\u001b[22m",
      " [2] \u001b[1mmxcall\u001b[22m\u001b[22m\u001b[1m(\u001b[22m\u001b[22m::MATLAB.MSession, ::Symbol, ::Int64, ::Array{Float64,2}, ::Vararg{Any,N} where N\u001b[1m)\u001b[22m\u001b[22m at \u001b[1m/home/coopar7/.julia/v0.6/MATLAB/src/engine.jl:286\u001b[22m\u001b[22m",
      " [3] \u001b[1m#square_mesh_with_circles#62\u001b[22m\u001b[22m\u001b[1m(\u001b[22m\u001b[22m::Bool, ::Function, ::Rectangle{2,Float64}, ::Array{Circle{2,Float64},1}, ::Float64, ::Float64\u001b[1m)\u001b[22m\u001b[22m at \u001b[1m/home/coopar7/Documents/code/BlochTorreyExperiments-master/Experiments/MyelinWaterOrientation/Utils/mesh_utils.jl:24\u001b[22m\u001b[22m",
      " [4] \u001b[1m(::#kw##square_mesh_with_circles)\u001b[22m\u001b[22m\u001b[1m(\u001b[22m\u001b[22m::Array{Any,1}, ::#square_mesh_with_circles, ::Rectangle{2,Float64}, ::Array{Circle{2,Float64},1}, ::Float64, ::Float64\u001b[1m)\u001b[22m\u001b[22m at \u001b[1m./<missing>:0\u001b[22m\u001b[22m"
     ]
    }
   ],
   "source": [
    "fullgrid, subgrids = square_mesh_with_circles(b_box, cs_plot, h0, eta, isunion=true);"
   ]
  },
  {
   "cell_type": "code",
   "execution_count": null,
   "metadata": {},
   "outputs": [],
   "source": []
  },
  {
   "cell_type": "code",
   "execution_count": 43,
   "metadata": {},
   "outputs": [],
   "source": [
    "revise()"
   ]
  },
  {
   "cell_type": "code",
   "execution_count": 89,
   "metadata": {},
   "outputs": [],
   "source": [
    "#@benchmark estimate_density(cs_plot)"
   ]
  },
  {
   "cell_type": "code",
   "execution_count": 98,
   "metadata": {},
   "outputs": [
    {
     "data": {
      "text/plain": [
       "20×2 Array{Float64,2}:\n",
       " 0.05  0.783334\n",
       " 0.1   0.851842\n",
       " 0.15  0.806773\n",
       " 0.2   0.800488\n",
       " 0.25  0.79556 \n",
       " 0.3   0.808523\n",
       " 0.35  0.804221\n",
       " 0.4   0.802882\n",
       " 0.45  0.80533 \n",
       " 0.5   0.805654\n",
       " 0.55  0.80165 \n",
       " 0.6   0.803959\n",
       " 0.65  0.80498 \n",
       " 0.7   0.799339\n",
       " 0.75  0.796968\n",
       " 0.8   0.794453\n",
       " 0.85  0.794037\n",
       " 0.9   0.786342\n",
       " 0.95  0.765423\n",
       " 1.0   0.741566"
      ]
     },
     "execution_count": 98,
     "metadata": {},
     "output_type": "execute_result"
    }
   ],
   "source": [
    "#@time estimate_density(cs_plot)\n",
    "alphas = 0.05:0.05:1.0;\n",
    "[alphas estimate_density.([cs_plot], alphas)]"
   ]
  },
  {
   "cell_type": "code",
   "execution_count": 92,
   "metadata": {},
   "outputs": [
    {
     "data": {
      "text/plain": [
       "(0.7970663221578592, 0.000643579673417094, 0.0)"
      ]
     },
     "execution_count": 92,
     "metadata": {},
     "output_type": "execute_result"
    },
    {
     "name": "stdout",
     "output_type": "stream",
     "text": [
      "  1.749681 seconds (6.00 M allocations: 366.263 MiB, 10.38% gc time)\n"
     ]
    }
   ],
   "source": [
    "@time estimate_density_monte_carlo(cs_plot; integrator = Cuba_integrator(:cuhre))"
   ]
  },
  {
   "cell_type": "code",
   "execution_count": 47,
   "metadata": {},
   "outputs": [
    {
     "name": "stdout",
     "output_type": "stream",
     "text": [
      "(method, res...) = (:suave, 0.8490709847102297, 0.0006590817226559582, 1.0)\n",
      "(method, res...) = (:vegas, 0.8012469865743564, 0.0003958422096424144, 5.5024340051677935e-6)\n",
      "(method, res...) = (:divonne, 0.8009061881441923, 8.040755274328503e-5, 0.21076153715890822)\n",
      "(method, res...) = (:cuhre, 0.8042865462752294, 0.0016211952575296818, 0.0)\n"
     ]
    }
   ],
   "source": [
    "for method in [:suave, :vegas, :divonne, :cuhre]\n",
    "    res = estimate_density_monte_carlo(cs_plot; integrator = Cuba_integrator(method))\n",
    "    @show (method, res...)\n",
    "end"
   ]
  },
  {
   "cell_type": "code",
   "execution_count": 37,
   "metadata": {},
   "outputs": [],
   "source": [
    "#@benchmark estimate_density_monte_carlo(cs_plot; integrator = Cuba_integrator(:suave))"
   ]
  },
  {
   "cell_type": "code",
   "execution_count": 38,
   "metadata": {},
   "outputs": [],
   "source": [
    "#@benchmark estimate_density_monte_carlo(cs_plot; integrator = Cuba_integrator(:vegas))"
   ]
  },
  {
   "cell_type": "code",
   "execution_count": 39,
   "metadata": {},
   "outputs": [],
   "source": [
    "#@benchmark estimate_density_monte_carlo(cs_plot; integrator = Cuba_integrator(:divonne))"
   ]
  },
  {
   "cell_type": "code",
   "execution_count": 40,
   "metadata": {},
   "outputs": [],
   "source": [
    "#@benchmark estimate_density_monte_carlo(cs_plot; integrator = Cuba_integrator(:cuhre))"
   ]
  },
  {
   "cell_type": "code",
   "execution_count": null,
   "metadata": {},
   "outputs": [],
   "source": []
  },
  {
   "cell_type": "code",
   "execution_count": null,
   "metadata": {
    "scrolled": false
   },
   "outputs": [],
   "source": [
    "overlap_mat = zeros(Bool, Ncircles, Ncircles);\n",
    "[overlap_mat[i,j] = is_overlapping(cs_plot[i], cs_plot[j]) for i in 1:Ncircles for j in 1:Ncircles]\n",
    "overlap_mat;"
   ]
  },
  {
   "cell_type": "code",
   "execution_count": null,
   "metadata": {},
   "outputs": [],
   "source": [
    "dist_mat = zeros(Ncircles, Ncircles);\n",
    "for i in 1:Ncircles-1, j in 1:i-1\n",
    "    dist_mat[i,j] = signed_edge_distance(cs_plot[i], cs_plot[j])\n",
    "end\n",
    "min_dist = minimum(x->x==zero(x) ? Inf : x, dist_mat)\n",
    "eps_dist = ϵ\n",
    "@show min_dist\n",
    "@show eps_dist\n",
    "@show 100*(eps_dist - min_dist)/eps_dist;"
   ]
  },
  {
   "cell_type": "code",
   "execution_count": null,
   "metadata": {},
   "outputs": [],
   "source": [
    "dist_mat;"
   ]
  },
  {
   "cell_type": "code",
   "execution_count": null,
   "metadata": {},
   "outputs": [],
   "source": [
    "revise()"
   ]
  },
  {
   "cell_type": "code",
   "execution_count": null,
   "metadata": {},
   "outputs": [],
   "source": [
    "bcircle = crude_bounding_circle(cs_plot)"
   ]
  },
  {
   "cell_type": "code",
   "execution_count": null,
   "metadata": {},
   "outputs": [],
   "source": [
    "fullgrid, subgrids = square_mesh_with_circles(bbox, [circles_opt..., bcircle], h0, eta, isunion=true);"
   ]
  },
  {
   "cell_type": "code",
   "execution_count": null,
   "metadata": {},
   "outputs": [],
   "source": []
  },
  {
   "cell_type": "code",
   "execution_count": null,
   "metadata": {},
   "outputs": [],
   "source": []
  },
  {
   "cell_type": "code",
   "execution_count": null,
   "metadata": {},
   "outputs": [],
   "source": [
    "#x0 = copy(reinterpret(Float64, os))\n",
    "#origins_chunk = Float64[]\n",
    "#rs_chunk = Float64[]\n",
    "#\n",
    "#@time begin\n",
    "#    Alg = LBFGS()\n",
    "#    opts = Optim.Options(iterations=10)\n",
    "#    fs = (origins, radii) -> energy_sum_overlap_squared_distances(c_0,origins,radii,Val{Dim}) + λ*energy_sum_squared_distances(c_0,origins,radii,Val{Dim})\n",
    "#    for i = 1:Ncircles-1\n",
    "#        push!(origins_chunk, x0[2i-1:2i]...)\n",
    "#        push!(rs_chunk, rs[i])\n",
    "#\n",
    "#        result = optimize(origins -> fs(origins, rs_chunk), origins_chunk, Alg, opts) # partial minimization\n",
    "#        origins_chunk = copy(Optim.minimizer(result))\n",
    "#\n",
    "#        @show (i, Optim.minimum(result))\n",
    "#    end\n",
    "#    x = copy(origins_chunk)\n",
    "#    result = optimize(origins -> fs(origins, rs), x, Alg, Optim.Options(iterations=100_000)) # full minimization\n",
    "#end"
   ]
  },
  {
   "cell_type": "code",
   "execution_count": null,
   "metadata": {},
   "outputs": [],
   "source": [
    "for i in 1:Ncircles-1\n",
    "    c_i = circles_opt[i]\n",
    "    for j in i+1:Ncircles\n",
    "        c_j = circles_opt[j]\n",
    "        \n",
    "        #if circle_edge_distance(c_i, c_j) < 0\n",
    "        #    @show (i, j, c_i, c_j)\n",
    "        #end\n",
    "        #@show circle_edge_distance(c_i, c_j)^2\n",
    "        dx = (origin(c_i)-origin(c_j))\n",
    "        @show norm(dx)\n",
    "    end\n",
    "end"
   ]
  },
  {
   "cell_type": "code",
   "execution_count": null,
   "metadata": {},
   "outputs": [],
   "source": []
  },
  {
   "cell_type": "code",
   "execution_count": null,
   "metadata": {},
   "outputs": [],
   "source": []
  },
  {
   "cell_type": "code",
   "execution_count": null,
   "metadata": {},
   "outputs": [],
   "source": []
  },
  {
   "cell_type": "markdown",
   "metadata": {},
   "source": [
    "*This notebook was generated using [Literate.jl](https://github.com/fredrikekre/Literate.jl).*"
   ]
  }
 ],
 "metadata": {
  "kernelspec": {
   "display_name": "Julia 0.6.4",
   "language": "julia",
   "name": "julia-0.6"
  },
  "language_info": {
   "file_extension": ".jl",
   "mimetype": "application/julia",
   "name": "julia",
   "version": "0.6.4"
  }
 },
 "nbformat": 4,
 "nbformat_minor": 3
}
