{
 "cells": [
  {
   "cell_type": "markdown",
   "metadata": {},
   "source": [
    "# Circle Packing"
   ]
  },
  {
   "cell_type": "markdown",
   "metadata": {},
   "source": [
    "## Introduction\n",
    "\n",
    "We aim to pack some circles"
   ]
  },
  {
   "cell_type": "code",
   "execution_count": 349,
   "metadata": {},
   "outputs": [],
   "source": [
    "using Traceur\n",
    "using BenchmarkTools\n",
    "using JuAFEM\n",
    "using JuAFEM: vertices, faces, edges\n",
    "using MATLAB\n",
    "using LinearMaps\n",
    "using DifferentialEquations\n",
    "using Optim\n",
    "using Distributions"
   ]
  },
  {
   "cell_type": "code",
   "execution_count": 350,
   "metadata": {},
   "outputs": [],
   "source": [
    "include(\"../Geometry/geometry_utils.jl\")\n",
    "include(\"../Geometry/circle_packing.jl\")\n",
    "include(\"../Utils/mesh_utils.jl\")\n",
    "Revise.track(\"../Geometry/geometry_utils.jl\")\n",
    "Revise.track(\"../Geometry/circle_packing.jl\")\n",
    "Revise.track(\"../Utils/mesh_utils.jl\")"
   ]
  },
  {
   "cell_type": "code",
   "execution_count": 351,
   "metadata": {},
   "outputs": [
    {
     "data": {
      "text/plain": [
       "(0.0891522129264085, 0.9667856074646294)"
      ]
     },
     "execution_count": 351,
     "metadata": {},
     "output_type": "execute_result"
    },
    {
     "name": "stdout",
     "output_type": "stream",
     "text": [
      "(minimum(rs), maximum(rs)) = (0.0891522129264085, 0.9667856074646294)\n"
     ]
    }
   ],
   "source": [
    "# α or k == R_shape, θ == R_scale\n",
    "R_mu = 0.46 # Axon mean radius [um] ; this is taken to be outer radius\n",
    "R_shape = 5.7 # Axon radius shape parameter for Gamma distribution (Xu)\n",
    "R_scale = R_mu / R_shape # Axon radius scale parameter [um]\n",
    "R_σ = sqrt(R_shape)*R_scale # Axon radius variance\n",
    "\n",
    "@show minimum(rs), maximum(rs), "
   ]
  },
  {
   "cell_type": "code",
   "execution_count": 352,
   "metadata": {},
   "outputs": [],
   "source": [
    "const Dim = 2\n",
    "Ncircles = 100\n",
    "rs = rand(Gamma(R_shape, R_scale), Ncircles);\n",
    "os = initialize_origins(rs);"
   ]
  },
  {
   "cell_type": "code",
   "execution_count": 365,
   "metadata": {
    "scrolled": false
   },
   "outputs": [],
   "source": [
    "@time circles_opt, opt_result = pack_circles(rs, 1e-5; initial_origins=os);"
   ]
  },
  {
   "cell_type": "code",
   "execution_count": 366,
   "metadata": {},
   "outputs": [
    {
     "data": {
      "text/plain": [
       "Results of Optimization Algorithm\n",
       " * Algorithm: L-BFGS\n",
       " * Starting Point: [8.798273507102161,-1.1203443115059173, ...]\n",
       " * Minimizer: [2.494020707179047,1.2220868293895562, ...]\n",
       " * Minimum: 9.778334e-01\n",
       " * Iterations: 1347\n",
       " * Convergence: true\n",
       "   * |x - x'| ≤ 1.0e-32: false \n",
       "     |x - x'| = 3.55e-15 \n",
       "   * |f(x) - f(x')| ≤ 1.0e-32 |f(x)|: true\n",
       "     |f(x) - f(x')| = 0.00e+00 |f(x)|\n",
       "   * |g(x)| ≤ 1.0e-12: false \n",
       "     |g(x)| = 4.36e-08 \n",
       "   * Stopped by an increasing objective: false\n",
       "   * Reached Maximum Number of Iterations: false\n",
       " * Objective Calls: 1459\n",
       " * Gradient Calls: 1348"
      ]
     },
     "execution_count": 366,
     "metadata": {},
     "output_type": "execute_result"
    },
    {
     "name": "stdout",
     "output_type": "stream",
     "text": [
      "  7.969463 seconds (160.95 k allocations: 29.023 MiB)\n"
     ]
    }
   ],
   "source": [
    "opt_result"
   ]
  },
  {
   "cell_type": "code",
   "execution_count": 367,
   "metadata": {
    "scrolled": true
   },
   "outputs": [
    {
     "data": {
      "text/plain": [
       "Rectangle{2,Float64}([-6.94492, -1.18679], [5.94087, 10.6337])"
      ]
     },
     "execution_count": 367,
     "metadata": {},
     "output_type": "execute_result"
    }
   ],
   "source": [
    "Nmin = 50; # points for smallest circle\n",
    "h0 = 2pi*mean(c->radius(c), circles_opt)/Nmin; # approximate scale\n",
    "eta = 5.0; # approx ratio between largest/smallest edges\n",
    "bbox = bounding_box(circles_opt)"
   ]
  },
  {
   "cell_type": "code",
   "execution_count": 368,
   "metadata": {
    "scrolled": true
   },
   "outputs": [
    {
     "ename": "LoadError",
     "evalue": "\u001b[91mInterruptException:\u001b[39m",
     "output_type": "error",
     "traceback": [
      "\u001b[91mInterruptException:\u001b[39m",
      "",
      "Stacktrace:",
      " [1] \u001b[1meval_string\u001b[22m\u001b[22m\u001b[1m(\u001b[22m\u001b[22m::MATLAB.MSession, ::String\u001b[1m)\u001b[22m\u001b[22m at \u001b[1m/home/coopar7/.julia/v0.6/MATLAB/src/engine.jl:137\u001b[22m\u001b[22m",
      " [2] \u001b[1mmxcall\u001b[22m\u001b[22m\u001b[1m(\u001b[22m\u001b[22m::MATLAB.MSession, ::Symbol, ::Int64, ::Array{Float64,2}, ::Vararg{Any,N} where N\u001b[1m)\u001b[22m\u001b[22m at \u001b[1m/home/coopar7/.julia/v0.6/MATLAB/src/engine.jl:286\u001b[22m\u001b[22m",
      " [3] \u001b[1m#square_mesh_with_circles#389\u001b[22m\u001b[22m\u001b[1m(\u001b[22m\u001b[22m::Bool, ::Function, ::Rectangle{2,Float64}, ::Array{Circle{2,Float64},1}, ::Float64, ::Float64\u001b[1m)\u001b[22m\u001b[22m at \u001b[1m/home/coopar7/Documents/code/BlochTorreyExperiments-master/Experiments/MyelinWaterOrientation/Utils/mesh_utils.jl:24\u001b[22m\u001b[22m",
      " [4] \u001b[1m(::#kw##square_mesh_with_circles)\u001b[22m\u001b[22m\u001b[1m(\u001b[22m\u001b[22m::Array{Any,1}, ::#square_mesh_with_circles, ::Rectangle{2,Float64}, ::Array{Circle{2,Float64},1}, ::Float64, ::Float64\u001b[1m)\u001b[22m\u001b[22m at \u001b[1m./<missing>:0\u001b[22m\u001b[22m"
     ]
    },
    {
     "name": "stderr",
     "output_type": "stream",
     "text": [
      "{\bOperation terminated by user during delaunayn (line 112)\n",
      "\n",
      "\n",
      "In distmesh2d (line 92)\n",
      "        t = delaunayn(p);                                  % List of triangles\n",
      "\n",
      "In squaremeshwithcircles (line 41)\n",
      "[p, t] = distmesh2d(fd,fh,h0,bbox,pfix);\n",
      "}\b \n"
     ]
    }
   ],
   "source": [
    "fullgrid, subgrids = square_mesh_with_circles(bbox, circles_opt, h0, eta, isunion=true);"
   ]
  },
  {
   "cell_type": "code",
   "execution_count": 358,
   "metadata": {},
   "outputs": [],
   "source": [
    "revise()"
   ]
  },
  {
   "cell_type": "code",
   "execution_count": 359,
   "metadata": {},
   "outputs": [
    {
     "data": {
      "text/plain": [
       "Circle{2,Float64}([-0.265735, 4.05933], 6.20883270968768)"
      ]
     },
     "execution_count": 359,
     "metadata": {},
     "output_type": "execute_result"
    }
   ],
   "source": [
    "bcircle = bounding_circle(circles_opt)"
   ]
  },
  {
   "cell_type": "code",
   "execution_count": 360,
   "metadata": {},
   "outputs": [
    {
     "data": {
      "text/plain": [
       "Circle{2,Float64}([-0.312815, 4.67065], 6.35918722966938)"
      ]
     },
     "execution_count": 360,
     "metadata": {},
     "output_type": "execute_result"
    },
    {
     "name": "stderr",
     "output_type": "stream",
     "text": [
      "{\bOperation terminated by user during sortrows>sort_back_to_front (line 114)\n",
      "\n",
      "\n",
      "In sortrows (line 89)\n",
      "        ndx = sort_back_to_front(x_sub, col);\n",
      "\n",
      "In uniqueRuniqueR2012a (line 280)\n",
      "        sortA = sortrows(a);\n",
      "\n",
      "In unique (line 146)\n",
      "        [varargout{1:nlhs}] = uniqueR2012a(varargin{1},logical(flaginds(1:5)));\n",
      "\n",
      "In distmesh2d (line 97)\n",
      "        bars = unique(sort(bars,2),'rows');                % Bars as node pairs\n",
      "\n",
      "In squaremeshwithcircles (line 41)\n",
      "[p, t] = distmesh2d(fd,fh,h0,bbox,pfix);\n",
      "}\b \n"
     ]
    }
   ],
   "source": [
    "crude_bounding_circle(circles_opt)"
   ]
  },
  {
   "cell_type": "code",
   "execution_count": 361,
   "metadata": {},
   "outputs": [
    {
     "data": {
      "text/plain": [
       "true"
      ]
     },
     "execution_count": 361,
     "metadata": {},
     "output_type": "execute_result"
    }
   ],
   "source": [
    "all(is_inside.(circles_opt, bcircle))"
   ]
  },
  {
   "cell_type": "code",
   "execution_count": 362,
   "metadata": {},
   "outputs": [
    {
     "ename": "LoadError",
     "evalue": "\u001b[91mInterruptException:\u001b[39m",
     "output_type": "error",
     "traceback": [
      "\u001b[91mInterruptException:\u001b[39m",
      "",
      "Stacktrace:",
      " [1] \u001b[1meval_string\u001b[22m\u001b[22m\u001b[1m(\u001b[22m\u001b[22m::MATLAB.MSession, ::String\u001b[1m)\u001b[22m\u001b[22m at \u001b[1m/home/coopar7/.julia/v0.6/MATLAB/src/engine.jl:137\u001b[22m\u001b[22m",
      " [2] \u001b[1mmxcall\u001b[22m\u001b[22m\u001b[1m(\u001b[22m\u001b[22m::MATLAB.MSession, ::Symbol, ::Int64, ::Array{Float64,2}, ::Vararg{Any,N} where N\u001b[1m)\u001b[22m\u001b[22m at \u001b[1m/home/coopar7/.julia/v0.6/MATLAB/src/engine.jl:286\u001b[22m\u001b[22m",
      " [3] \u001b[1m#square_mesh_with_circles#389\u001b[22m\u001b[22m\u001b[1m(\u001b[22m\u001b[22m::Bool, ::Function, ::Rectangle{2,Float64}, ::Array{Circle{2,Float64},1}, ::Float64, ::Float64\u001b[1m)\u001b[22m\u001b[22m at \u001b[1m/home/coopar7/Documents/code/BlochTorreyExperiments-master/Experiments/MyelinWaterOrientation/Utils/mesh_utils.jl:24\u001b[22m\u001b[22m",
      " [4] \u001b[1m(::#kw##square_mesh_with_circles)\u001b[22m\u001b[22m\u001b[1m(\u001b[22m\u001b[22m::Array{Any,1}, ::#square_mesh_with_circles, ::Rectangle{2,Float64}, ::Array{Circle{2,Float64},1}, ::Float64, ::Float64\u001b[1m)\u001b[22m\u001b[22m at \u001b[1m./<missing>:0\u001b[22m\u001b[22m"
     ]
    },
    {
     "name": "stderr",
     "output_type": "stream",
     "text": [
      "{\bOperation terminated by user during delaunayn (line 112)\n",
      "\n",
      "\n",
      "In distmesh2d (line 92)\n",
      "        t = delaunayn(p);                                  % List of triangles\n",
      "\n",
      "In squaremeshwithcircles (line 41)\n",
      "[p, t] = distmesh2d(fd,fh,h0,bbox,pfix);\n",
      "}\b \n"
     ]
    }
   ],
   "source": [
    "bcircle = bounding_circle(circles_opt)\n",
    "fullgrid, subgrids = square_mesh_with_circles(bbox, [circles_opt..., bcircle], h0, eta, isunion=true);"
   ]
  },
  {
   "cell_type": "code",
   "execution_count": null,
   "metadata": {},
   "outputs": [],
   "source": [
    "#x0 = copy(reinterpret(Float64, os))\n",
    "#origins_chunk = Float64[]\n",
    "#rs_chunk = Float64[]\n",
    "#\n",
    "#@time begin\n",
    "#    Alg = LBFGS()\n",
    "#    opts = Optim.Options(iterations=10)\n",
    "#    fs = (origins, radii) -> energy_sum_overlap_squared_distances(c_0,origins,radii,Val{Dim}) + λ*energy_sum_squared_distances(c_0,origins,radii,Val{Dim})\n",
    "#    for i = 1:Ncircles-1\n",
    "#        push!(origins_chunk, x0[2i-1:2i]...)\n",
    "#        push!(rs_chunk, rs[i])\n",
    "#\n",
    "#        result = optimize(origins -> fs(origins, rs_chunk), origins_chunk, Alg, opts) # partial minimization\n",
    "#        origins_chunk = copy(Optim.minimizer(result))\n",
    "#\n",
    "#        @show (i, Optim.minimum(result))\n",
    "#    end\n",
    "#    x = copy(origins_chunk)\n",
    "#    result = optimize(origins -> fs(origins, rs), x, Alg, Optim.Options(iterations=100_000)) # full minimization\n",
    "#end"
   ]
  },
  {
   "cell_type": "code",
   "execution_count": null,
   "metadata": {},
   "outputs": [],
   "source": [
    "for i in 1:Ncircles-1\n",
    "    c_i = circles_opt[i]\n",
    "    for j in i+1:Ncircles\n",
    "        c_j = circles_opt[j]\n",
    "        \n",
    "        #if circle_edge_distance(c_i, c_j) < 0\n",
    "        #    @show (i, j, c_i, c_j)\n",
    "        #end\n",
    "        #@show circle_edge_distance(c_i, c_j)^2\n",
    "        dx = (origin(c_i)-origin(c_j))\n",
    "        @show norm(dx)\n",
    "    end\n",
    "end"
   ]
  },
  {
   "cell_type": "code",
   "execution_count": null,
   "metadata": {},
   "outputs": [],
   "source": []
  },
  {
   "cell_type": "code",
   "execution_count": null,
   "metadata": {},
   "outputs": [],
   "source": []
  },
  {
   "cell_type": "code",
   "execution_count": null,
   "metadata": {},
   "outputs": [],
   "source": []
  },
  {
   "cell_type": "markdown",
   "metadata": {},
   "source": [
    "**Option #1**: Generate a simple grid with 20x20 triangular elements\n",
    "using `generate_grid`. The generator defaults to the unit square,\n",
    "so we don't need to specify the corners of the domain."
   ]
  },
  {
   "cell_type": "code",
   "execution_count": null,
   "metadata": {},
   "outputs": [],
   "source": [
    "const n = 20\n",
    "grid = generate_grid(Triangle, (n, n));"
   ]
  },
  {
   "cell_type": "markdown",
   "metadata": {},
   "source": [
    "**Option #2**: External call to `MATLAB` to generate non-uniform grid with circles inside and convert to a `JuAFEM` grid."
   ]
  },
  {
   "cell_type": "code",
   "execution_count": null,
   "metadata": {},
   "outputs": [],
   "source": [
    "bbox    = Rectangle((-1.0, -1.0), (1.0, 1.0));\n",
    "centers = [(0.0, 0.0)];\n",
    "rads    = [      0.5 ];\n",
    "\n",
    "#bbox    = Rectangle((-1.0, -1.0), (1.0, 1.0));\n",
    "#centers = [(-0.7, -0.9), (0.5, 0.5)];\n",
    "#rads    = [        0.5,        0.4 ];\n",
    "\n",
    "#bbox    = Rectangle((-1.0, -1.0), (1.0, 1.0));\n",
    "#centers = [(0.0, -1.0), (0.0, 1.0)];\n",
    "#rads    = [       0.5,        0.5 ];\n",
    "\n",
    "circles = [Circle(c,r) for (c,r) in zip(centers,rads)]\n",
    "\n",
    "Nmin = 250; # points for smallest circle\n",
    "h0 = 2pi*minimum(rads)/Nmin; # approximate scale\n",
    "eta = 5.0; # approx ratio between largest/smallest edges"
   ]
  },
  {
   "cell_type": "code",
   "execution_count": null,
   "metadata": {},
   "outputs": [],
   "source": [
    "mxcall(:addpath,0,\"/home/coopar7/Documents/code/MatlabTools/FiniteElements/distmesh-jd\")"
   ]
  },
  {
   "cell_type": "code",
   "execution_count": null,
   "metadata": {},
   "outputs": [],
   "source": [
    "revise()"
   ]
  },
  {
   "cell_type": "code",
   "execution_count": null,
   "metadata": {
    "scrolled": true
   },
   "outputs": [],
   "source": [
    "fullgrid, subgrids = square_mesh_with_circles(bbox, circles, h0, eta, isunion=true)\n",
    "#grid = subgrids[1]\n",
    "grid = fullgrid;"
   ]
  },
  {
   "cell_type": "markdown",
   "metadata": {},
   "source": [
    "### Diffusion coefficient $D(x)$, relaxation rate $R(x)$, and resonance frequency $\\omega(x)$"
   ]
  },
  {
   "cell_type": "code",
   "execution_count": null,
   "metadata": {},
   "outputs": [],
   "source": [
    "const θ = π/2;\n",
    "const cos²θ = cos(θ)^2;\n",
    "const sin²θ = sin(θ)^2;"
   ]
  },
  {
   "cell_type": "code",
   "execution_count": null,
   "metadata": {
    "scrolled": true
   },
   "outputs": [],
   "source": [
    "#@inline Dcoeff(x::Vec{2,T}) where T = ifelse(is_in_any_circle(x, circles), 3one(T), one(T))\n",
    "@inline Dcoeff(x::Vec{2,T}) where T = one(T)\n",
    "@inline Rdecay(x::Vec{2,T}) where T = ifelse(is_in_any_circle(x, circles), 3one(T), one(T))\n",
    "@inline @fastmath @inbounds function omega(x::Vec{2,T}) where T\n",
    "    ω = zero(T)\n",
    "    for c in circles\n",
    "        if is_in_circle(x,c)\n",
    "            ω += T(3cos²θ-1)/6\n",
    "        else\n",
    "            r⁴ = (x⋅x)^2\n",
    "            a² = radius(c)^2\n",
    "            y²_x² = x[2]^2 - x[1]^2\n",
    "            ω += T(0.5sin²θ) * a² * y²_x² / r⁴\n",
    "        end\n",
    "    end\n",
    "    return ω\n",
    "end"
   ]
  },
  {
   "cell_type": "markdown",
   "metadata": {},
   "source": [
    "### Trial and test functions\n",
    "A `CellValues` facilitates the process of evaluating values and gradients of\n",
    "test and trial functions (among other things). Since the problem\n",
    "is a scalar problem we will use a `CellScalarValues` object. To define\n",
    "this we need to specify an interpolation space for the shape functions.\n",
    "We use Lagrange functions (both for interpolating the function and the geometry)\n",
    "based on the reference \"cube\". We also define a quadrature rule based on the\n",
    "same reference cube. We combine the interpolation and the quadrature rule\n",
    "to a `CellScalarValues` object."
   ]
  },
  {
   "cell_type": "code",
   "execution_count": null,
   "metadata": {},
   "outputs": [],
   "source": [
    "const dim = 2\n",
    "ip = Lagrange{dim, RefTetrahedron, 1}()\n",
    "qr = QuadratureRule{dim, RefTetrahedron}(2)\n",
    "qr_face = QuadratureRule{dim-1, RefTetrahedron}(2)\n",
    "cellvalues = CellVectorValues(qr, ip);\n",
    "facevalues = FaceVectorValues(qr_face, ip);"
   ]
  },
  {
   "cell_type": "markdown",
   "metadata": {},
   "source": [
    "### Degrees of freedom\n",
    "Next we need to define a `DofHandler`, which will take care of numbering\n",
    "and distribution of degrees of freedom for our approximated fields.\n",
    "We create the `DofHandler` and then add a single field called `u`.\n",
    "Lastly we `close!` the `DofHandler`, it is now that the dofs are distributed\n",
    "for all the elements."
   ]
  },
  {
   "cell_type": "code",
   "execution_count": null,
   "metadata": {},
   "outputs": [],
   "source": [
    "dh = DofHandler(grid)\n",
    "push!(dh, :u, 2)\n",
    "close!(dh);"
   ]
  },
  {
   "cell_type": "markdown",
   "metadata": {},
   "source": [
    "Now that we have distributed all our dofs we can create our tangent matrix,\n",
    "using `create_sparsity_pattern`. This function returns a sparse matrix\n",
    "with the correct elements stored."
   ]
  },
  {
   "cell_type": "code",
   "execution_count": null,
   "metadata": {},
   "outputs": [],
   "source": [
    "K = create_sparsity_pattern(dh);\n",
    "M = create_sparsity_pattern(dh);"
   ]
  },
  {
   "cell_type": "markdown",
   "metadata": {},
   "source": [
    "We can inspect the pattern using the `spy` function from `UnicodePlots.jl`.\n",
    "By default the stored values are set to $0$, so we first need to\n",
    "fill the stored values, e.g. `K.nzval` with something meaningful."
   ]
  },
  {
   "cell_type": "code",
   "execution_count": null,
   "metadata": {},
   "outputs": [],
   "source": [
    "#using UnicodePlots\n",
    "#fill!(K.nzval, 1.0)\n",
    "#spy(K; height = 25)"
   ]
  },
  {
   "cell_type": "markdown",
   "metadata": {},
   "source": [
    "### Boundary conditions\n",
    "In JuAFEM constraints like Dirichlet boundary conditions are handled by a `ConstraintHandler`. However, here we will have no need to directly enforce boundary conditions, since Neumann boundary conditions have already been applied in the derivation of the weak form."
   ]
  },
  {
   "cell_type": "markdown",
   "metadata": {},
   "source": [
    "### Assembling the linear system\n",
    "Now we have all the pieces needed to assemble the linear system, $K u = f$.\n",
    "We define a function, `doassemble` to do the assembly, which takes our `cellvalues`,\n",
    "the sparse matrix and our DofHandler as input arguments. The function returns the\n",
    "assembled stiffness matrix, and the force vector."
   ]
  },
  {
   "cell_type": "code",
   "execution_count": null,
   "metadata": {
    "scrolled": true
   },
   "outputs": [],
   "source": [
    "function doassemble(cellvalues::CellVectorValues{dim},\n",
    "                    facevalues::FaceVectorValues{dim},\n",
    "                    K::SparseMatrixCSC,\n",
    "                    M::SparseMatrixCSC,\n",
    "                    dh::DofHandler) where {dim}\n",
    "    # We allocate the element stiffness matrix and element force vector\n",
    "    # just once before looping over all the cells instead of allocating\n",
    "    # them every time in the loop.\n",
    "    n_basefuncs = getnbasefunctions(cellvalues)\n",
    "    Ke = zeros(n_basefuncs, n_basefuncs)\n",
    "    Me = zeros(n_basefuncs, n_basefuncs)\n",
    "    \n",
    "    # Next we create assemblers for the stiffness matrix `K` and the mass\n",
    "    # matrix `M`. The assemblers are just thin wrappers around `K` and `M`\n",
    "    # and some extra storage to make the assembling faster.\n",
    "    assembler = start_assemble(K)\n",
    "    assembler_M = start_assemble(M)\n",
    "    \n",
    "    # It is now time to loop over all the cells in our grid. We do this by iterating\n",
    "    # over a `CellIterator`. The iterator caches some useful things for us, for example\n",
    "    # the nodal coordinates for the cell, and the local degrees of freedom.\n",
    "    @inbounds for cell in CellIterator(dh)\n",
    "        # Always remember to reset the element stiffness matrix and\n",
    "        # element mass matrix since we reuse them for all elements.\n",
    "        fill!(Ke, 0)\n",
    "        fill!(Me, 0)\n",
    "        \n",
    "        # Get the coordinates of the cell\n",
    "        coords = getcoordinates(cell)\n",
    "        \n",
    "        # For each cell we also need to reinitialize the cached values in `cellvalues`.\n",
    "        JuAFEM.reinit!(cellvalues, cell)\n",
    "        \n",
    "        # It is now time to loop over all the quadrature points in the cell and\n",
    "        # assemble the contribution to `Ke` and `Me`. The integration weight\n",
    "        # can be queried from `cellvalues` by `getdetJdV`, and the quadrature\n",
    "        # coordinate can be queried from `cellvalues` by `spatial_coordinate`\n",
    "        for q_point in 1:getnquadpoints(cellvalues)\n",
    "            dΩ = getdetJdV(cellvalues, q_point)\n",
    "            coords_qp = spatial_coordinate(cellvalues, q_point, coords)\n",
    "            \n",
    "            # calculate the heat conductivity and heat source at point `coords_qp`\n",
    "            R = Rdecay(coords_qp)\n",
    "            D = Dcoeff(coords_qp)\n",
    "            ω = omega(coords_qp)\n",
    "            \n",
    "            # For each quadrature point we loop over all the (local) shape functions.\n",
    "            # We need the value and gradient of the testfunction `v` and also the gradient\n",
    "            # of the trial function `u`. We get all of these from `cellvalues`.\n",
    "            for i in 1:n_basefuncs\n",
    "                v  = shape_value(cellvalues, q_point, i)\n",
    "                ∇v = shape_gradient(cellvalues, q_point, i)\n",
    "                for j in 1:n_basefuncs\n",
    "                    u = shape_value(cellvalues, q_point, j)\n",
    "                    ∇u = shape_gradient(cellvalues, q_point, j)\n",
    "                    Ke[i, j] -= (D * ∇v ⊡ ∇u + R * v ⋅ u - ω * v ⊠ u) * dΩ\n",
    "                    Me[i, j] += (v ⋅ u) * dΩ\n",
    "                end\n",
    "            end\n",
    "        end\n",
    "        \n",
    "        # The last step in the element loop is to assemble `Ke` and `Me`\n",
    "        # into the global `K` and `M` with `assemble!`.\n",
    "        assemble!(assembler, celldofs(cell), Ke)\n",
    "        assemble!(assembler_M, celldofs(cell), Me)\n",
    "    end\n",
    "    return K, M\n",
    "end"
   ]
  },
  {
   "cell_type": "code",
   "execution_count": null,
   "metadata": {},
   "outputs": [],
   "source": [
    "# # Now, loop over the edges of the cell for contributions to `Ke`\n",
    "# #   If \"Neumann Boundary\" is a subset of boundary points, use:\n",
    "# #     `onboundary(cell, face) && (cellid(cell), face) ∈ getfaceset(grid, \"Neumann Boundary\")`\n",
    "# if evalfaceintegrals\n",
    "#    for face in 1:nfaces(cell)\n",
    "#        if !onboundary(cell, face)\n",
    "#            # Initialize face values\n",
    "#            reinit!(facevalues, cell, face)\n",
    "# \n",
    "#            for q_point in 1:getnquadpoints(facevalues)\n",
    "#                dΓ = getdetJdV(facevalues, q_point)\n",
    "#                coords_qp = spatial_coordinate(facevalues, q_point, coords)\n",
    "# \n",
    "#                # calculate the heat conductivity and heat source at point `coords_qp`\n",
    "#                k_cond = conductivity(coords_qp)\n",
    "#                kdΓ = k_cond * dΓ\n",
    "# \n",
    "#                for i in 1:getnbasefunctions(facevalues)\n",
    "#                    n = getnormal(facevalues, q_point)\n",
    "#                    v = shape_value(facevalues, q_point, i)\n",
    "#                    vkdΓ = v * kdΓ\n",
    "#                    for j in 1:n_basefuncs\n",
    "#                        ∇u = shape_gradient(facevalues, q_point, j)\n",
    "#                        Ke[i,j] += (∇u⋅n) * vkdΓ\n",
    "#                    end\n",
    "#                end\n",
    "#            end\n",
    "#        end\n",
    "#    end\n",
    "# end"
   ]
  },
  {
   "cell_type": "markdown",
   "metadata": {},
   "source": [
    "### Solution of the differential equation system\n",
    "The last step is to solve the system. First we call `doassemble`\n",
    "to obtain the global stiffness matrix `K` and force vector `f`.\n",
    "Then, to account for the boundary conditions, we use the `apply!` function.\n",
    "This modifies elements in `K` and `f` respectively, such that\n",
    "we can get the correct solution vector `u` by using `\\`."
   ]
  },
  {
   "cell_type": "code",
   "execution_count": null,
   "metadata": {},
   "outputs": [],
   "source": [
    "fill!(K,0.0)\n",
    "fill!(M,0.0)\n",
    "K, M = doassemble(cellvalues, facevalues, K, M, dh);"
   ]
  },
  {
   "cell_type": "code",
   "execution_count": null,
   "metadata": {},
   "outputs": [],
   "source": [
    "Mchol = cholfact(Symmetric(M));\n",
    "#Mlu = lufact(M);"
   ]
  },
  {
   "cell_type": "code",
   "execution_count": null,
   "metadata": {},
   "outputs": [],
   "source": [
    "diag(Mchol)[1]"
   ]
  },
  {
   "cell_type": "code",
   "execution_count": null,
   "metadata": {},
   "outputs": [],
   "source": [
    "(Mchol\\[1;zeros(size(M,2)-1)])[1]"
   ]
  },
  {
   "cell_type": "code",
   "execution_count": null,
   "metadata": {},
   "outputs": [],
   "source": [
    "tspan = (0.0,0.1);\n",
    "Tf = eltype(K);\n",
    "u0 = zeros(Tf, size(K,2));\n",
    "@views u0[2:2:end] .= one(Tf);\n",
    "u = similar(u0);\n",
    "Amap = get_mass_and_stifness_map(K, Mchol)"
   ]
  },
  {
   "cell_type": "code",
   "execution_count": null,
   "metadata": {},
   "outputs": [],
   "source": [
    "@time Expokit.expmv!(u, tspan[end], Amap, u0; tol=1e-4, norm=expmv_norm, m=100); # penelope: 17.42s\n",
    "#@time Expokit.expmv!(u, tspan[end], Amap, u0; tol=1e-4, norm=expmv_norm, m=50); # penelope: 30.09s\n",
    "#@time Expokit.expmv!(u, tspan[end], Amap, u0; tol=1e-4, norm=expmv_norm, m=10); # penelope: 103.5s\n",
    "#@time Expokit.expmv!(u, tspan[end], Amap, u0; tol=1e-8, norm=expmv_norm); # penelope: 53.2s\n",
    "#@time Expokit.expmv!(u, tspan[end], Amap, u0; tol=1e-6, norm=expmv_norm); # penelope: 44.4s"
   ]
  },
  {
   "cell_type": "code",
   "execution_count": null,
   "metadata": {},
   "outputs": [],
   "source": [
    "prob = ODEProblem((du,u,p,t)->A_mul_B!(du,p[1],u), u0, tspan, (Amap,));"
   ]
  },
  {
   "cell_type": "code",
   "execution_count": null,
   "metadata": {},
   "outputs": [],
   "source": [
    "@time sol = solve(prob, CVODE_BDF(linear_solver=:GMRES); saveat=tspan, reltol=1e-8, alg_hints=:stiff); # penelope: 90.21s\n",
    "#@time sol = solve(prob, CVODE_BDF(linear_solver=:GMRES); saveat=tspan, reltol=1e-4, alg_hints=:stiff); # penelope: 33.44s\n",
    "#@time sol = solve(prob, CVODE_BDF(linear_solver=:BCG); saveat=tspan, reltol=1e-4, alg_hints=:stiff) # penelope: 53.66s\n",
    "#@time sol = solve(prob, CVODE_BDF(linear_solver=:TFQMR); saveat=tspan, reltol=1e-4, alg_hints=:stiff) # penelope: 18.99s but low accuracy"
   ]
  },
  {
   "cell_type": "code",
   "execution_count": null,
   "metadata": {
    "scrolled": true
   },
   "outputs": [],
   "source": [
    "#prob_Ku = ODEProblem(K_mul_u!, u0, tspan, (K,), mass_matrix=M);\n",
    "#@time sol_Ku = solve(prob_Ku, Rosenbrock23(), saveat=tspan, reltol=1e-4, alg_hints=:stiff) #DNF\n",
    "#@time sol_Ku = solve(prob_Ku, Rodas4(), saveat=tspan, reltol=1e-4, alg_hints=:stiff) #DNF"
   ]
  },
  {
   "cell_type": "code",
   "execution_count": null,
   "metadata": {},
   "outputs": [],
   "source": [
    "@show norm(sol.u[end] - u)/maximum(abs,u);\n",
    "@show maximum(sol.u[end] - u)/maximum(abs,u);"
   ]
  },
  {
   "cell_type": "code",
   "execution_count": null,
   "metadata": {},
   "outputs": [],
   "source": []
  },
  {
   "cell_type": "markdown",
   "metadata": {},
   "source": [
    "### Exporting to VTK\n",
    "To visualize the result we export the grid and our field `u`\n",
    "to a VTK-file, which can be viewed in e.g. [ParaView](https://www.paraview.org/)."
   ]
  },
  {
   "cell_type": "code",
   "execution_count": null,
   "metadata": {},
   "outputs": [],
   "source": [
    "vtk_grid(\"bloch_torrey_equation\", dh) do vtk\n",
    "    vtk_point_data(vtk, dh, u)\n",
    "end"
   ]
  },
  {
   "cell_type": "markdown",
   "metadata": {},
   "source": [
    "*This notebook was generated using [Literate.jl](https://github.com/fredrikekre/Literate.jl).*"
   ]
  }
 ],
 "metadata": {
  "kernelspec": {
   "display_name": "Julia 0.6.4",
   "language": "julia",
   "name": "julia-0.6"
  },
  "language_info": {
   "file_extension": ".jl",
   "mimetype": "application/julia",
   "name": "julia",
   "version": "0.6.4"
  }
 },
 "nbformat": 4,
 "nbformat_minor": 3
}
