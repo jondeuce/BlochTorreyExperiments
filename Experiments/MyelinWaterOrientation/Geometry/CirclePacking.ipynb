{
 "cells": [
  {
   "cell_type": "markdown",
   "metadata": {},
   "source": [
    "# Circle Packing"
   ]
  },
  {
   "cell_type": "markdown",
   "metadata": {},
   "source": [
    "## Introduction\n",
    "\n",
    "We aim to pack some circles"
   ]
  },
  {
   "cell_type": "code",
   "execution_count": 1,
   "metadata": {},
   "outputs": [],
   "source": [
    "HOME = \"/home/coopar7/Documents/code/\"\n",
    "#HOME = \"/home/jon/Documents/UBCMRI/\"\n",
    "cd(HOME * \"BlochTorreyExperiments-master/\")"
   ]
  },
  {
   "cell_type": "code",
   "execution_count": 254,
   "metadata": {
    "scrolled": true
   },
   "outputs": [],
   "source": [
    "using Traceur\n",
    "using BenchmarkTools\n",
    "using StaticArrays\n",
    "using JuAFEM\n",
    "using JuAFEM: vertices, faces, edges\n",
    "using MATLAB\n",
    "using LinearMaps\n",
    "#using DifferentialEquations\n",
    "using Optim\n",
    "#using Cuba\n",
    "using Distributions\n",
    "#using ApproxFun\n",
    "#using Plots\n",
    "using ForwardDiff\n",
    "using ReverseDiff\n",
    "\n",
    "include(\"Experiments/MyelinWaterOrientation/Geometry/geometry_utils.jl\")\n",
    "include(\"Experiments/MyelinWaterOrientation/Geometry/circle_packing.jl\")\n",
    "include(\"Experiments/MyelinWaterOrientation/Utils/mesh_utils.jl\")\n",
    "include(\"Experiments/MyelinWaterOrientation/Utils/blochtorrey_utils.jl\")\n",
    "Revise.track(\"Experiments/MyelinWaterOrientation/Geometry/geometry_utils.jl\")\n",
    "Revise.track(\"Experiments/MyelinWaterOrientation/Geometry/circle_packing.jl\")\n",
    "Revise.track(\"Experiments/MyelinWaterOrientation/Utils/mesh_utils.jl\")\n",
    "Revise.track(\"Experiments/MyelinWaterOrientation/Utils/blochtorrey_utils.jl\")"
   ]
  },
  {
   "cell_type": "code",
   "execution_count": 255,
   "metadata": {},
   "outputs": [],
   "source": [
    "# α or k == R_shape, θ == R_scale\n",
    "R_mu = 0.46 # Axon mean radius [um] ; this is taken to be outer radius\n",
    "R_shape = 5.7 # Axon radius shape parameter for Gamma distribution (Xu)\n",
    "R_scale = R_mu / R_shape # Axon radius scale parameter [um]\n",
    "R_σ = sqrt(R_shape)*R_scale; # Axon radius variance"
   ]
  },
  {
   "cell_type": "code",
   "execution_count": 256,
   "metadata": {},
   "outputs": [],
   "source": [
    "revise()"
   ]
  },
  {
   "cell_type": "code",
   "execution_count": 257,
   "metadata": {},
   "outputs": [],
   "source": [
    "const Dim = 2\n",
    "Ncircles = 50\n",
    "rs = rand(Gamma(R_shape, R_scale), Ncircles);\n",
    "os = initialize_origins(rs);"
   ]
  },
  {
   "cell_type": "code",
   "execution_count": 258,
   "metadata": {
    "scrolled": false
   },
   "outputs": [
    {
     "name": "stdout",
     "output_type": "stream",
     "text": [
      "ReverseDiff\n",
      " 90.578670 seconds (103.84 M allocations: 2.802 GiB, 1.99% gc time)\n"
     ]
    }
   ],
   "source": [
    "η = 0.80 # goal packing density\n",
    "ϵ = 0.1*R_mu # overlap occurs when distance between circle edges is ≤ ϵ\n",
    "α = 1.0 # density penalty weight\n",
    "β = 1e-6 # mutual distance penalty weight\n",
    "λ = 1.0 # overlap penalty weight (or lagrange multiplier for constrained version)\n",
    "w = [α, β, λ] # vector of weights\n",
    "\n",
    "@time circles_opt, opt_result = pack_circles(rs; initial_origins = os, goaldensity = η, distancescale = R_mu, weights = w, epsilon = ϵ);"
   ]
  },
  {
   "cell_type": "code",
   "execution_count": 232,
   "metadata": {
    "scrolled": false
   },
   "outputs": [],
   "source": [
    "opt_result;"
   ]
  },
  {
   "cell_type": "code",
   "execution_count": null,
   "metadata": {},
   "outputs": [],
   "source": [
    "estimate_density(opt_result)"
   ]
  },
  {
   "cell_type": "code",
   "execution_count": null,
   "metadata": {},
   "outputs": [],
   "source": []
  },
  {
   "cell_type": "code",
   "execution_count": 259,
   "metadata": {},
   "outputs": [],
   "source": [
    "cs_plot = circles_opt;"
   ]
  },
  {
   "cell_type": "code",
   "execution_count": 260,
   "metadata": {},
   "outputs": [
    {
     "data": {
      "text/plain": [
       "0.07589213495452453"
      ]
     },
     "execution_count": 260,
     "metadata": {},
     "output_type": "execute_result"
    }
   ],
   "source": [
    "estimate_density(cs_plot)"
   ]
  },
  {
   "cell_type": "code",
   "execution_count": null,
   "metadata": {},
   "outputs": [],
   "source": []
  },
  {
   "cell_type": "code",
   "execution_count": 235,
   "metadata": {},
   "outputs": [],
   "source": [
    "revise()"
   ]
  },
  {
   "cell_type": "code",
   "execution_count": 236,
   "metadata": {
    "scrolled": false
   },
   "outputs": [
    {
     "data": {
      "text/plain": [
       "Rectangle{2,Float64}([-4.65403, -1.74316], [12.851, 14.8568])"
      ]
     },
     "execution_count": 236,
     "metadata": {},
     "output_type": "execute_result"
    }
   ],
   "source": [
    "Nmin = 50; # points for smallest circle\n",
    "h0 = 2pi*mean(c->radius(c), cs_plot)/Nmin; # approximate scale\n",
    "#h0 = ϵ\n",
    "eta = 4.0; # approx ratio between largest/smallest edges\n",
    "b_box = bounding_box(cs_plot)"
   ]
  },
  {
   "cell_type": "code",
   "execution_count": 237,
   "metadata": {},
   "outputs": [],
   "source": [
    "#FinElPath = HOME * \"MatlabTools/FiniteElements/\"\n",
    "#mxcall(:addpath, 0, mxcall(:genpath, 1, FinElPath))"
   ]
  },
  {
   "cell_type": "code",
   "execution_count": 238,
   "metadata": {
    "scrolled": true
   },
   "outputs": [],
   "source": [
    "#fullgrid, subgrids = square_mesh_with_circles(b_box, cs_plot, h0, eta, isunion=true);"
   ]
  },
  {
   "cell_type": "code",
   "execution_count": null,
   "metadata": {},
   "outputs": [],
   "source": []
  },
  {
   "cell_type": "code",
   "execution_count": 239,
   "metadata": {
    "scrolled": false
   },
   "outputs": [],
   "source": [
    "overlap_mat = zeros(Bool, Ncircles, Ncircles);\n",
    "[overlap_mat[i,j] = is_overlapping(cs_plot[i], cs_plot[j]) for i in 1:Ncircles for j in 1:Ncircles]\n",
    "overlap_mat;"
   ]
  },
  {
   "cell_type": "code",
   "execution_count": 240,
   "metadata": {},
   "outputs": [
    {
     "name": "stdout",
     "output_type": "stream",
     "text": [
      "159.330711 seconds (53.69 M allocations: 26.339 GiB, 2.45% gc time)\n"
     ]
    }
   ],
   "source": [
    "dist_mat = zeros(Ncircles, Ncircles);\n",
    "for i in 1:Ncircles-1, j in 1:i-1\n",
    "    dist_mat[i,j] = signed_edge_distance(cs_plot[i], cs_plot[j])\n",
    "end\n",
    "min_dist = minimum(x->x==zero(x) ? Inf : x, dist_mat)\n",
    "eps_dist = ϵ\n",
    "@show min_dist\n",
    "@show eps_dist\n",
    "@show 100*(eps_dist - min_dist)/eps_dist;"
   ]
  },
  {
   "cell_type": "code",
   "execution_count": 241,
   "metadata": {},
   "outputs": [
    {
     "name": "stdout",
     "output_type": "stream",
     "text": [
      "min_dist = 0.03643476040850213\n",
      "eps_dist = 0.046000000000000006\n",
      "(100 * (eps_dist - min_dist)) / eps_dist = 20.793999111951898\n"
     ]
    }
   ],
   "source": [
    "dist_mat;"
   ]
  },
  {
   "cell_type": "code",
   "execution_count": null,
   "metadata": {},
   "outputs": [],
   "source": [
    "revise()"
   ]
  },
  {
   "cell_type": "code",
   "execution_count": null,
   "metadata": {},
   "outputs": [],
   "source": []
  }
 ],
 "metadata": {
  "kernelspec": {
   "display_name": "Julia 0.6.4",
   "language": "julia",
   "name": "julia-0.6"
  },
  "language_info": {
   "file_extension": ".jl",
   "mimetype": "application/julia",
   "name": "julia",
   "version": "0.6.4"
  }
 },
 "nbformat": 4,
 "nbformat_minor": 3
}
