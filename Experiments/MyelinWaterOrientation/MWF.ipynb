{
 "cells": [
  {
   "cell_type": "markdown",
   "metadata": {},
   "source": [
    "# Bloch-Torrey Equation"
   ]
  },
  {
   "cell_type": "markdown",
   "metadata": {},
   "source": [
    "## Introduction\n",
    "\n",
    "Here we solve the Bloch-Torrey equation on a unit square, with the diffusion coefficient $D(x)$, relaxation rate $R(x)$, and resonance frequency $\\omega(x)$ all given as a generic functions.\n",
    "The strong form of the Bloch-Torrey equation is given by\n",
    "\n",
    "\\begin{align}\n",
    "    \\frac{\\partial u_x}{\\partial t} &= \\nabla \\cdot (D \\nabla u_x) - R u_x + \\omega u_y  \\quad x \\in \\Omega\\\\\n",
    "    \\frac{\\partial u_y}{\\partial t} &= \\nabla \\cdot (D \\nabla u_y) - R u_y - \\omega u_x  \\quad x \\in \\Omega,\n",
    "\\end{align}\n",
    "\n",
    "where $\\vec{u}=[u_x,u_y]$ is the transverse magnetization, and $\\Omega$ the domain.\n",
    "\n",
    "We will consider homogeneous Neumann boundary conditions such that\n",
    "\n",
    "\\begin{align}\n",
    "    \\nabla \\vec{u}(x) \\cdot \\hat{n} &= \\vec{0}  \\quad x \\in \\partial \\Omega\\\\\n",
    "\\end{align}\n",
    "\n",
    "where $\\partial \\Omega$ denotes the boundary of $\\Omega$, and $\\cdot$ is a tensor contraction.\n",
    "\n",
    "The initial condition is given generically as\n",
    "\n",
    "\\begin{equation}\n",
    "    \\vec{u}(x,t=0) = \\vec{u}_0 (x)  \\quad x \\in \\Omega\n",
    "\\end{equation}\n",
    "\n",
    "\n",
    "The resulting weak form is given by\n",
    "\\begin{align}\n",
    "    \\int_{\\Omega} \\vec{v} \\cdot \\vec{u}_t \\, d\\Omega\n",
    "    &= -\\int_{\\Omega}\n",
    "    -\\vec{v} \\cdot \\nabla \\cdot ( D \\, \\nabla \\vec{u} ) +\n",
    "    R \\, \\vec{v} \\cdot \\vec{u} -\n",
    "    \\omega \\, \\vec{v} \\times \\vec{u}\n",
    "    \\, d\\Omega \\\\\n",
    "    &= -\\int_{\\Omega}\n",
    "    D \\, \\nabla \\vec{v} : \\nabla \\vec{u} +\n",
    "    R \\, \\vec{v} \\cdot \\vec{u} -\n",
    "    \\omega \\, \\vec{v} \\times \\vec{u}\n",
    "    \\, d\\Omega + \n",
    "    \\int_{\\partial\\Omega} \\vec{v} \\cdot (D\\nabla\\vec{u} \\cdot \\hat{n}) \\, d\\Gamma,\n",
    "\\end{align}\n",
    "where $\\vec{v}$ is a suitable test function.\n",
    "\n",
    "In this notebook, we will assume homogeneous Neumann boundary conditions on all boundaries by taking $D\\nabla\\vec{u} \\cdot \\hat{n} = 0$. Therefore, the final weak form is simply\n",
    "\\begin{align}\n",
    "    \\int_{\\Omega} \\vec{v} \\cdot \\vec{u}_t \\, d\\Omega\n",
    "    = -\\int_{\\Omega}\n",
    "    D \\, \\nabla \\vec{v} : \\nabla \\vec{u} +\n",
    "    R \\, \\vec{v} \\cdot \\vec{u} -\n",
    "    \\omega \\, \\vec{v} \\times \\vec{u}\n",
    "    \\, d\\Omega\n",
    "\\end{align}\n",
    "\n",
    "Note: in two dimensions, the cross product is simply a scalar. However, `Tensors.jl` defines the two dimensional cross product by first extending the 2D vectors into 3D. Below, we use the symbol $\\boxtimes$ to denote the scalar version, which is the same as taking the third component of the vector version"
   ]
  },
  {
   "cell_type": "markdown",
   "metadata": {},
   "source": [
    "## Commented Program\n",
    "\n",
    "Now we solve the problem in JuAFEM. What follows is a program spliced with comments.\n",
    "\n",
    "First we load the JuAFEM package."
   ]
  },
  {
   "cell_type": "code",
   "execution_count": 1,
   "metadata": {},
   "outputs": [],
   "source": [
    "# using Distributed\n",
    "# addprocs(8; restrict = true, enable_threaded_blas = true);\n",
    "# @everywhere begin\n",
    "#     include(\"init.jl\")\n",
    "# end"
   ]
  },
  {
   "cell_type": "code",
   "execution_count": 151,
   "metadata": {
    "scrolled": true
   },
   "outputs": [],
   "source": [
    "include(\"init.jl\")"
   ]
  },
  {
   "cell_type": "markdown",
   "metadata": {},
   "source": [
    "**Pack circles**: Pack circles with a specified packing density $\\eta$"
   ]
  },
  {
   "cell_type": "code",
   "execution_count": 152,
   "metadata": {},
   "outputs": [],
   "source": [
    "btparams = BlochTorreyParameters{Float64}(\n",
    "    theta = pi/2,\n",
    "    AxonPDensity = 0.83,\n",
    "    g_ratio = 0.8,\n",
    "    D_Tissue = 25, # [μm²/s]\n",
    "    D_Sheath = 25, # [μm²/s]\n",
    "    D_Axon = 25 # [μm²/s]\n",
    ");"
   ]
  },
  {
   "cell_type": "code",
   "execution_count": 150,
   "metadata": {},
   "outputs": [
    {
     "data": {
      "text/plain": [
       "26.105103640881353"
      ]
     },
     "execution_count": 150,
     "metadata": {},
     "output_type": "execute_result"
    }
   ],
   "source": [
    "TE_typical = 10e-3\n",
    "nDim = 2\n",
    "dist_typical = (2π * btparams.R_mu)/4\n",
    "time_typical = TE_typical/2\n",
    "D_Maximal_Dephasing = dist_typical^2/(2 * nDim * time_typical)"
   ]
  },
  {
   "cell_type": "code",
   "execution_count": 90,
   "metadata": {},
   "outputs": [
    {
     "name": "stdout",
     "output_type": "stream",
     "text": [
      "estimate_density(initial_circles) = 0.8010047898161851\n"
     ]
    },
    {
     "data": {
      "text/plain": [
       "0.8010047898161851"
      ]
     },
     "execution_count": 90,
     "metadata": {},
     "output_type": "execute_result"
    }
   ],
   "source": [
    "Dim = 2;\n",
    "Ncircles = 30;\n",
    "\n",
    "η = btparams.AxonPDensity; # goal packing density\n",
    "ϵ = 0.1 * btparams.R_mu; # overlap occurs when distance between circle edges is ≤ ϵ\n",
    "α = 1e-1; # covariance penalty weight (enforces circular distribution)\n",
    "β = 1e-6; # mutual distance penalty weight\n",
    "λ = 1.0; # overlap penalty weight (or lagrange multiplier for constrained version)\n",
    "\n",
    "# rs = rand(radiidistribution(btparams), Ncircles);\n",
    "# initial_circles = GreedyCirclePacking.pack(rs; goaldensity = η + 0.01, iters = 10000)\n",
    "@show estimate_density(initial_circles)"
   ]
  },
  {
   "cell_type": "code",
   "execution_count": 70,
   "metadata": {},
   "outputs": [
    {
     "name": "stdout",
     "output_type": "stream",
     "text": [
      "minimum_signed_edge_distance(initial_circles) = -4.440892098500626e-16\n"
     ]
    }
   ],
   "source": [
    "@show minimum_signed_edge_distance(initial_circles);"
   ]
  },
  {
   "cell_type": "code",
   "execution_count": 71,
   "metadata": {},
   "outputs": [
    {
     "name": "stdout",
     "output_type": "stream",
     "text": [
      "estimate_density(initial_circles) = 0.8010047898161851\n"
     ]
    }
   ],
   "source": [
    "@show estimate_density(initial_circles);"
   ]
  },
  {
   "cell_type": "code",
   "execution_count": 7,
   "metadata": {
    "scrolled": true
   },
   "outputs": [
    {
     "name": "stdout",
     "output_type": "stream",
     "text": [
      "  7.784137 seconds (14.70 M allocations: 729.498 MiB, 11.77% gc time)\n"
     ]
    },
    {
     "name": "stderr",
     "output_type": "stream",
     "text": [
      "┌ Warning: Density cannot be reached without overlapping circles; can only reach 0.802667243955799 < 0.83\n",
      "└ @ CirclePackingUtils /home/coopar7/Documents/code/BlochTorreyExperiments-master/Experiments/MyelinWaterOrientation/CirclePacking/CirclePackingUtils.jl:103\n"
     ]
    }
   ],
   "source": [
    "@time outer_circles = EnergyCirclePacking.pack(initial_circles;\n",
    "    autodiff = false,\n",
    "    secondorder = false,\n",
    "    setcallback = false,\n",
    "    goaldensity = η,\n",
    "    distancescale = btparams.R_mu,\n",
    "    weights = [α, β, λ],\n",
    "    epsilon = ϵ\n",
    ");\n",
    "inner_circles = scale_shape.(outer_circles, btparams.g_ratio);"
   ]
  },
  {
   "cell_type": "code",
   "execution_count": 8,
   "metadata": {},
   "outputs": [
    {
     "name": "stdout",
     "output_type": "stream",
     "text": [
      "covariance_energy(outer_circles) = 0.05843524979929998\n",
      "estimate_density(outer_circles) = 0.802667243955799\n",
      "is_any_overlapping(outer_circles) = false\n",
      "(dmin, ϵ, dmin > ϵ) = (2.0872192862952943e-14, 0.046000000000000006, false)\n"
     ]
    }
   ],
   "source": [
    "dmin = minimum_signed_edge_distance(outer_circles)\n",
    "@show covariance_energy(outer_circles)\n",
    "@show estimate_density(outer_circles)\n",
    "@show is_any_overlapping(outer_circles)\n",
    "@show (dmin, ϵ, dmin > ϵ);"
   ]
  },
  {
   "cell_type": "markdown",
   "metadata": {},
   "source": [
    "**Generate mesh**: Rectangular mesh with circles possibly only partly contained or completely excluded"
   ]
  },
  {
   "cell_type": "code",
   "execution_count": 9,
   "metadata": {},
   "outputs": [
    {
     "data": {
      "text/plain": [
       "0.6"
      ]
     },
     "execution_count": 9,
     "metadata": {},
     "output_type": "execute_result"
    }
   ],
   "source": [
    "#Ncircles = length(outer_circles);\n",
    "#Nmin = 50; # points for average circle\n",
    "#h0 = 2pi*R_mu/Nmin; # approximate scale\n",
    "h0 = minimum(radius.(outer_circles))*(1-btparams.g_ratio); # fraction of size of minimum torus width\n",
    "h_min = 1.0*h0; # minimum edge length\n",
    "h_max = 5.0*h0; # maximum edge length\n",
    "h_range = 10.0*h0; # distance over which h increases from h_min to h_max\n",
    "h_rate = 0.6; # rate of increase of h from circle boundaries (power law; smaller = faster radial increase)"
   ]
  },
  {
   "cell_type": "code",
   "execution_count": 10,
   "metadata": {},
   "outputs": [],
   "source": [
    "bdry, _ = opt_subdomain(outer_circles);"
   ]
  },
  {
   "cell_type": "code",
   "execution_count": 11,
   "metadata": {
    "scrolled": true
   },
   "outputs": [
    {
     "name": "stdout",
     "output_type": "stream",
     "text": [
      "1/30: Interior\n",
      "1/30: Annular\n",
      "2/30: Interior\n",
      "2/30: Annular\n",
      "3/30: Interior\n",
      "3/30: Annular\n",
      "4/30: Interior\n",
      "4/30: Annular\n",
      "5/30: Interior\n",
      "5/30: Annular\n",
      "6/30: Interior\n",
      "6/30: Annular\n",
      "7/30: Interior\n",
      "7/30: Annular\n",
      "8/30: Interior\n",
      "8/30: Annular\n",
      "9/30: Interior\n",
      "9/30: Annular\n",
      "10/30: Interior\n",
      "10/30: Annular\n",
      "11/30: Interior\n",
      "11/30: Annular\n",
      "12/30: Interior\n",
      "12/30: Annular\n",
      "13/30: Interior\n",
      "13/30: Annular\n",
      "14/30: Interior\n",
      "14/30: Annular\n",
      "15/30: Interior\n",
      "15/30: Annular\n",
      "16/30: Interior\n",
      "16/30: Annular\n",
      "17/30: Interior\n",
      "17/30: Annular\n",
      "18/30: Interior\n",
      "18/30: Annular\n",
      "19/30: Interior\n",
      "19/30: Annular\n",
      "20/30: Interior\n",
      "20/30: Annular\n",
      "21/30: Interior\n",
      "21/30: Annular\n",
      "22/30: Interior\n",
      "22/30: Annular\n",
      "23/30: Interior\n",
      "23/30: Annular\n",
      "24/30: Interior\n",
      "24/30: Annular\n",
      "25/30: Interior\n",
      "25/30: Annular\n",
      "26/30: Interior\n",
      "26/30: Annular\n",
      "27/30: Interior\n",
      "27/30: Annular\n",
      "28/30: Interior\n",
      "28/30: Annular\n",
      "29/30: Interior\n",
      "29/30: Annular\n",
      "30/30: Interior\n",
      "30/30: Annular\n",
      "1/4: Exterior\n",
      "2/4: Exterior\n",
      "3/4: Exterior\n",
      "4/4: Exterior\n",
      "1359.162482 seconds (10.88 G allocations: 285.985 GiB, 18.35% gc time)\n"
     ]
    }
   ],
   "source": [
    "@time exteriorgrids, torigrids, interiorgrids, parentcircleindices = disjoint_rect_mesh_with_tori(\n",
    "    bdry, inner_circles, outer_circles, h_min, h_max, h_range, h_rate;\n",
    "    maxstalliters = 10000, plotgrids = false, exterior_tiling = (2, 2)\n",
    ");"
   ]
  },
  {
   "cell_type": "code",
   "execution_count": 12,
   "metadata": {},
   "outputs": [],
   "source": [
    "simpplot(vcat(exteriorgrids, torigrids, interiorgrids); newfigure = true, axis = mxaxis(bdry));"
   ]
  },
  {
   "cell_type": "markdown",
   "metadata": {},
   "source": [
    "### Diffusion coefficient $D(x)$, relaxation rate $R(x)$, and resonance frequency $\\omega(x)$"
   ]
  },
  {
   "cell_type": "markdown",
   "metadata": {},
   "source": [
    "These functions are defined within `doassemble!`"
   ]
  },
  {
   "cell_type": "markdown",
   "metadata": {},
   "source": [
    "### Trial and test functions\n",
    "A `CellValues` facilitates the process of evaluating values and gradients of\n",
    "test and trial functions (among other things). Since the problem\n",
    "is a scalar problem we will use a `CellScalarValues` object. To define\n",
    "this we need to specify an interpolation space for the shape functions.\n",
    "We use Lagrange functions (both for interpolating the function and the geometry)\n",
    "based on the reference \"cube\". We also define a quadrature rule based on the\n",
    "same reference cube. We combine the interpolation and the quadrature rule\n",
    "to a `CellScalarValues` object."
   ]
  },
  {
   "cell_type": "markdown",
   "metadata": {},
   "source": [
    "### Degrees of freedom\n",
    "Next we need to define a `DofHandler`, which will take care of numbering\n",
    "and distribution of degrees of freedom for our approximated fields.\n",
    "We create the `DofHandler` and then add a single field called `u`.\n",
    "Lastly we `close!` the `DofHandler`, it is now that the dofs are distributed\n",
    "for all the elements."
   ]
  },
  {
   "cell_type": "markdown",
   "metadata": {},
   "source": [
    "Now that we have distributed all our dofs we can create our tangent matrix,\n",
    "using `create_sparsity_pattern`. This function returns a sparse matrix\n",
    "with the correct elements stored."
   ]
  },
  {
   "cell_type": "markdown",
   "metadata": {},
   "source": [
    "We can inspect the pattern using the `spy` function from `UnicodePlots.jl`.\n",
    "By default the stored values are set to $0$, so we first need to\n",
    "fill the stored values, e.g. `K.nzval` with something meaningful."
   ]
  },
  {
   "cell_type": "code",
   "execution_count": 13,
   "metadata": {},
   "outputs": [],
   "source": [
    "#using UnicodePlots\n",
    "#fill!(K.nzval, 1.0)\n",
    "#spy(K; height = 25)"
   ]
  },
  {
   "cell_type": "markdown",
   "metadata": {},
   "source": [
    "### Boundary conditions\n",
    "In JuAFEM constraints like Dirichlet boundary conditions are handled by a `ConstraintHandler`. However, here we will have no need to directly enforce boundary conditions, since Neumann boundary conditions have already been applied in the derivation of the weak form."
   ]
  },
  {
   "cell_type": "markdown",
   "metadata": {},
   "source": [
    "### Assembling the linear system\n",
    "Now we have all the pieces needed to assemble the linear system, $K u = f$.\n",
    "We define a function, `doassemble` to do the assembly, which takes our `cellvalues`,\n",
    "the sparse matrix and our DofHandler as input arguments. The function returns the\n",
    "assembled stiffness matrix, and the force vector."
   ]
  },
  {
   "cell_type": "code",
   "execution_count": 153,
   "metadata": {},
   "outputs": [],
   "source": [
    "myelinprob = MyelinProblem(btparams);"
   ]
  },
  {
   "cell_type": "code",
   "execution_count": 154,
   "metadata": {},
   "outputs": [],
   "source": [
    "myelindomains = createmyelindomains(exteriorgrids, torigrids, interiorgrids, outer_circles, inner_circles);"
   ]
  },
  {
   "cell_type": "code",
   "execution_count": 157,
   "metadata": {},
   "outputs": [
    {
     "name": "stdout",
     "output_type": "stream",
     "text": [
      "  3.510104 seconds (58.11 M allocations: 1.122 GiB, 13.11% gc time)\n"
     ]
    }
   ],
   "source": [
    "# @time doassemble!(prob, domains);\n",
    "@time map!(m -> doassemble!(m, myelinprob), myelindomains, myelindomains);"
   ]
  },
  {
   "cell_type": "code",
   "execution_count": 158,
   "metadata": {},
   "outputs": [
    {
     "name": "stdout",
     "output_type": "stream",
     "text": [
      "  0.086534 seconds (23.29 k allocations: 24.789 MiB, 13.13% gc time)\n"
     ]
    }
   ],
   "source": [
    "# @time factorize!(domains);\n",
    "@time map!(m -> (factorize!(getdomain(m)); return m), myelindomains, myelindomains);"
   ]
  },
  {
   "cell_type": "markdown",
   "metadata": {},
   "source": [
    "### Plotting the resonance frequency map $\\omega(x)$\n",
    "$\\omega(x)$ for each region can be easily created by accessing the `Omega` field of a `BlochTorreyProblem` object. Now, evaluate $\\omega(x)$ on each node `x` and plot the resuling field map overtop of the tesselation."
   ]
  },
  {
   "cell_type": "code",
   "execution_count": 159,
   "metadata": {},
   "outputs": [],
   "source": [
    "omegavalues = map(myelindomains) do m\n",
    "    ω = BlochTorreyProblem(myelinprob, m).Omega\n",
    "    return map(getnodes(getgrid(m))) do node\n",
    "        ω(getcoordinates(node))\n",
    "    end\n",
    "end;"
   ]
  },
  {
   "cell_type": "code",
   "execution_count": 160,
   "metadata": {},
   "outputs": [],
   "source": [
    "simpplot(getgrid.(myelindomains); newfigure = true, axis = mxaxis(bdry), facecol = reduce(vcat, omegavalues));"
   ]
  },
  {
   "cell_type": "markdown",
   "metadata": {},
   "source": [
    "### Solution of the differential equation system\n",
    "The last step is to solve the system. First we call `doassemble`\n",
    "to obtain the global stiffness matrix `K` and force vector `f`.\n",
    "Then, to account for the boundary conditions, we use the `apply!` function.\n",
    "This modifies elements in `K` and `f` respectively, such that\n",
    "we can get the correct solution vector `u` by using `\\`."
   ]
  },
  {
   "cell_type": "code",
   "execution_count": 161,
   "metadata": {},
   "outputs": [],
   "source": [
    "tspan = (0.0, 320.0e-3);\n",
    "dt = 10e-3;\n",
    "ts = tspan[1]:dt:tspan[2]\n",
    "# saveat = tspan[1]:dt:tspan[2];\n",
    "# tstops = (tspan[1] .+ dt/2 .+ dt .* (1:round(Int, (tspan[2]-tspan[1])/dt)))\n",
    "u0 = Vec{2}((0.0, 1.0)); # initial pi/2 pulse"
   ]
  },
  {
   "cell_type": "code",
   "execution_count": 162,
   "metadata": {},
   "outputs": [],
   "source": [
    "probs = [ODEProblem(m, interpolate(u0, m), tspan) for m in myelindomains];"
   ]
  },
  {
   "cell_type": "code",
   "execution_count": 163,
   "metadata": {},
   "outputs": [],
   "source": [
    "sols = Vector{ODESolution}(undef, length(probs));"
   ]
  },
  {
   "cell_type": "code",
   "execution_count": 164,
   "metadata": {},
   "outputs": [
    {
     "name": "stdout",
     "output_type": "stream",
     "text": [
      "i = 1/62:   2.118724 seconds (211.24 k allocations: 418.809 MiB, 5.03% gc time)\n",
      "i = 2/62:   2.988332 seconds (252.60 k allocations: 734.955 MiB, 5.11% gc time)\n",
      "i = 3/62:   2.129449 seconds (213.41 k allocations: 457.417 MiB, 4.64% gc time)\n",
      "i = 4/62:   2.485487 seconds (258.84 k allocations: 587.808 MiB, 5.14% gc time)\n",
      "i = 5/62:   2.349258 seconds (222.15 k allocations: 566.108 MiB, 4.96% gc time)\n",
      "i = 6/62:   0.450620 seconds (98.39 k allocations: 104.221 MiB, 5.15% gc time)\n",
      "i = 7/62:   2.831512 seconds (222.85 k allocations: 551.087 MiB, 14.24% gc time)\n",
      "i = 8/62:   2.410513 seconds (231.73 k allocations: 505.563 MiB, 4.33% gc time)\n",
      "i = 9/62:   0.882491 seconds (138.45 k allocations: 186.760 MiB, 3.93% gc time)\n",
      "i = 10/62:   1.097396 seconds (156.37 k allocations: 232.999 MiB, 4.29% gc time)\n",
      "i = 11/62:   1.830065 seconds (213.09 k allocations: 406.184 MiB, 4.41% gc time)\n",
      "i = 12/62:   2.526347 seconds (237.03 k allocations: 561.836 MiB, 4.90% gc time)\n",
      "i = 13/62:   1.616181 seconds (227.99 k allocations: 318.409 MiB, 4.26% gc time)\n",
      "i = 14/62:   1.961496 seconds (232.42 k allocations: 450.342 MiB, 4.60% gc time)\n",
      "i = 15/62:   2.187617 seconds (195.43 k allocations: 367.452 MiB, 3.39% gc time)\n",
      "i = 16/62:   0.662400 seconds (135.11 k allocations: 151.251 MiB, 4.70% gc time)\n",
      "i = 17/62:   2.384636 seconds (224.75 k allocations: 450.684 MiB, 3.66% gc time)\n",
      "i = 18/62:   1.479093 seconds (151.44 k allocations: 224.408 MiB, 3.95% gc time)\n",
      "i = 19/62:   1.815062 seconds (209.03 k allocations: 358.651 MiB, 4.21% gc time)\n",
      "i = 20/62:   1.043845 seconds (161.29 k allocations: 240.263 MiB, 5.46% gc time)\n",
      "i = 21/62:   1.461081 seconds (220.47 k allocations: 360.296 MiB, 5.39% gc time)\n",
      "i = 22/62:   1.242606 seconds (193.27 k allocations: 315.806 MiB, 5.09% gc time)\n",
      "i = 23/62:   1.858940 seconds (218.80 k allocations: 465.160 MiB, 4.90% gc time)\n",
      "i = 24/62:   1.063176 seconds (163.84 k allocations: 262.598 MiB, 4.90% gc time)\n",
      "i = 25/62:   1.836748 seconds (225.01 k allocations: 487.034 MiB, 5.07% gc time)\n",
      "i = 26/62:   0.858824 seconds (145.11 k allocations: 207.280 MiB, 4.98% gc time)\n",
      "i = 27/62:   0.931400 seconds (173.37 k allocations: 228.927 MiB, 4.74% gc time)\n",
      "i = 28/62:   1.817516 seconds (235.49 k allocations: 450.523 MiB, 4.85% gc time)\n",
      "i = 29/62:   3.033781 seconds (245.63 k allocations: 720.143 MiB, 4.48% gc time)\n",
      "i = 30/62:   3.849971 seconds (222.71 k allocations: 1.067 GiB, 5.35% gc time)\n",
      "i = 31/62:   1.739094 seconds (177.13 k allocations: 478.136 MiB, 5.23% gc time)\n",
      "i = 32/62:   2.168516 seconds (213.03 k allocations: 673.204 MiB, 5.79% gc time)\n",
      "i = 33/62:   3.489968 seconds (208.93 k allocations: 941.678 MiB, 5.29% gc time)\n",
      "i = 34/62:   0.734174 seconds (136.79 k allocations: 174.019 MiB, 4.10% gc time)\n",
      "i = 35/62:   3.896078 seconds (231.28 k allocations: 1001.513 MiB, 4.92% gc time)\n",
      "i = 36/62:   1.621043 seconds (172.53 k allocations: 457.615 MiB, 5.36% gc time)\n",
      "i = 37/62:   1.374451 seconds (199.17 k allocations: 356.013 MiB, 4.84% gc time)\n",
      "i = 38/62:   1.520261 seconds (189.57 k allocations: 382.334 MiB, 5.23% gc time)\n",
      "i = 39/62:   2.611776 seconds (239.88 k allocations: 623.000 MiB, 4.74% gc time)\n",
      "i = 40/62:   3.281021 seconds (237.90 k allocations: 970.420 MiB, 5.46% gc time)\n",
      "i = 41/62:   2.743735 seconds (246.09 k allocations: 719.671 MiB, 5.17% gc time)\n",
      "i = 42/62:   2.196390 seconds (205.39 k allocations: 616.946 MiB, 5.25% gc time)\n",
      "i = 43/62:   1.832936 seconds (180.99 k allocations: 462.641 MiB, 5.01% gc time)\n",
      "i = 44/62:   0.516405 seconds (100.43 k allocations: 103.669 MiB, 4.68% gc time)\n",
      "i = 45/62:   0.932037 seconds (157.54 k allocations: 235.460 MiB, 5.41% gc time)\n",
      "i = 46/62:   2.582646 seconds (237.54 k allocations: 724.973 MiB, 5.41% gc time)\n",
      "i = 47/62:   1.578888 seconds (192.44 k allocations: 386.877 MiB, 4.55% gc time)\n",
      "i = 48/62:   1.788724 seconds (198.33 k allocations: 461.134 MiB, 4.86% gc time)\n",
      "i = 49/62:   1.608777 seconds (200.90 k allocations: 408.776 MiB, 5.24% gc time)\n",
      "i = 50/62:   1.866911 seconds (208.91 k allocations: 509.477 MiB, 5.38% gc time)\n",
      "i = 51/62:   1.858947 seconds (215.86 k allocations: 511.585 MiB, 5.40% gc time)\n",
      "i = 52/62:   2.380677 seconds (224.80 k allocations: 727.393 MiB, 5.74% gc time)\n",
      "i = 53/62:   2.051309 seconds (211.45 k allocations: 457.973 MiB, 4.38% gc time)\n",
      "i = 54/62:   2.856105 seconds (222.73 k allocations: 832.907 MiB, 5.53% gc time)\n",
      "i = 55/62:   1.539033 seconds (201.66 k allocations: 388.739 MiB, 4.94% gc time)\n",
      "i = 56/62:   0.465545 seconds (107.09 k allocations: 112.759 MiB, 4.87% gc time)\n",
      "i = 57/62:   1.224255 seconds (190.62 k allocations: 331.278 MiB, 5.17% gc time)\n",
      "i = 58/62:   2.391233 seconds (260.70 k allocations: 655.512 MiB, 5.44% gc time)\n",
      "i = 59/62:  43.839208 seconds (1.44 M allocations: 13.574 GiB, 6.40% gc time)\n",
      "i = 60/62:  65.316873 seconds (2.24 M allocations: 20.083 GiB, 5.50% gc time)\n",
      "i = 61/62:  57.181413 seconds (1.57 M allocations: 15.956 GiB, 5.11% gc time)\n",
      "i = 62/62:  57.622968 seconds (1.51 M allocations: 15.790 GiB, 5.58% gc time)\n",
      "334.224747 seconds (18.45 M allocations: 91.942 GiB, 5.46% gc time)\n"
     ]
    }
   ],
   "source": [
    "@time sols = map!(sols, 1:length(probs), probs) do i, prob\n",
    "    print(\"i = $i/$(length(sols)): \")\n",
    "    A = prob.p[1]\n",
    "    return @time solve(prob, ExpokitExpmv(A; m = 30);\n",
    "        dt = dt,\n",
    "        reltol = 1e-4,\n",
    "        callback = MultiSpinEchoCallback(tspan; TE = dt)\n",
    "    )\n",
    "end;"
   ]
  },
  {
   "cell_type": "code",
   "execution_count": 186,
   "metadata": {},
   "outputs": [],
   "source": [
    "Signals = map(myelindomains, sols) do m, s\n",
    "    [integrate(s(t), m) for t in tspan[1]:dt:tspan[2]]\n",
    "end;"
   ]
  },
  {
   "cell_type": "code",
   "execution_count": 187,
   "metadata": {},
   "outputs": [],
   "source": [
    "Stotal = sum(Signals);"
   ]
  },
  {
   "cell_type": "code",
   "execution_count": 168,
   "metadata": {},
   "outputs": [
    {
     "name": "stdout",
     "output_type": "stream",
     "text": [
      "btparams.R2_lp = 15.873015873015873\n",
      "(-1 / Tspan) * log(norm(Stotal[end]) / norm(Stotal[1])) = 16.955888300355195\n",
      "exp(-(tspan[end]) * btparams.R2_lp) = 0.006223859418487457\n",
      "norm(Stotal[end]) / norm(Stotal[1]) = 0.004401172676796397\n"
     ]
    }
   ],
   "source": [
    "Tspan = tspan[2] - tspan[1]\n",
    "@show btparams.R2_lp;\n",
    "@show (-1/Tspan)*log(norm(Stotal[end])/norm(Stotal[1]));\n",
    "@show exp(-tspan[end]*btparams.R2_lp);\n",
    "@show norm(Stotal[end])/norm(Stotal[1]);"
   ]
  },
  {
   "cell_type": "code",
   "execution_count": 169,
   "metadata": {},
   "outputs": [
    {
     "name": "stdout",
     "output_type": "stream",
     "text": [
      "exact_mwf = 0.29074197131665613\n"
     ]
    }
   ],
   "source": [
    "exact_mwf = getmwf(outer_circles, inner_circles, bdry);\n",
    "@show exact_mwf;"
   ]
  },
  {
   "cell_type": "code",
   "execution_count": 170,
   "metadata": {},
   "outputs": [],
   "source": [
    "mxcall(:addpath, 0, \"/home/coopar7/Documents/code/BlochTorreyExperiments-master/Experiments/MyelinWaterOrientation/MATLAB/SE_corr/\");"
   ]
  },
  {
   "cell_type": "code",
   "execution_count": 182,
   "metadata": {},
   "outputs": [
    {
     "data": {
      "text/plain": [
       "0.27250259997614135"
      ]
     },
     "execution_count": 182,
     "metadata": {},
     "output_type": "execute_result"
    }
   ],
   "source": [
    "MWImaps, MWIdist, MWIpart = fitmwfmodel(Stotal, NNLSRegression();\n",
    "    T2Range = [10e-3, 2.0],\n",
    "    spwin = [10e-3, 40e-3],\n",
    "    mpwin = [40.5e-3, 200e-3],\n",
    "    nT2 = 32,\n",
    "    RefConAngle = 165.0,\n",
    "    PLOTDIST = true\n",
    ");\n",
    "getmwf(NNLSRegression(), MWImaps, MWIdist, MWIpart)"
   ]
  },
  {
   "cell_type": "code",
   "execution_count": 172,
   "metadata": {},
   "outputs": [],
   "source": [
    "# TestStotalMagn = mwimodel(TwoPoolMagnToMagn(), tspan[1]:dt:tspan[2], modelfit.param)\n",
    "# TestStotal = [Vec{2}((zero(y),y)) for y in TestStotalMagn];"
   ]
  },
  {
   "cell_type": "code",
   "execution_count": 173,
   "metadata": {
    "scrolled": false
   },
   "outputs": [
    {
     "name": "stdout",
     "output_type": "stream",
     "text": [
      "Model: TwoPoolMagnToMagn()\n",
      "mwf: 0.2808416133749954\n"
     ]
    },
    {
     "data": {
      "text/plain": [
       "4×2 Array{Float64,2}:\n",
       "  5.74069  0.00321124\n",
       " 14.7003   0.0039422 \n",
       " 67.4581   0.0809893 \n",
       " 15.8815   0.00252236"
      ]
     },
     "metadata": {},
     "output_type": "display_data"
    },
    {
     "name": "stdout",
     "output_type": "stream",
     "text": [
      "Model: ThreePoolMagnToMagn()\n",
      "mwf: 0.2805980690215158\n"
     ]
    },
    {
     "data": {
      "text/plain": [
       "6×2 Array{Float64,2}:\n",
       "  5.7361      0.0286866\n",
       " 10.0701   1045.98     \n",
       "  4.63621  1045.95     \n",
       " 67.5229      0.271054 \n",
       " 15.7337     24.5262   \n",
       " 16.2238     57.4327   "
      ]
     },
     "metadata": {},
     "output_type": "display_data"
    },
    {
     "name": "stdout",
     "output_type": "stream",
     "text": [
      "Model: ThreePoolCplxToMagn()\n",
      "mwf: 0.2580223204316522\n"
     ]
    },
    {
     "data": {
      "text/plain": [
       "8×2 Array{Float64,2}:\n",
       "  5.25719     1.21187\n",
       " 10.5225     98.7384 \n",
       "  4.59528    99.7441 \n",
       " 68.6898     12.4927 \n",
       " 15.1608      7.46731\n",
       " 18.8163     59.2509 \n",
       "  2.63837    64.5973 \n",
       "  0.0365539  91.7937 "
      ]
     },
     "metadata": {},
     "output_type": "display_data"
    },
    {
     "name": "stdout",
     "output_type": "stream",
     "text": [
      "Model: ThreePoolCplxToCplx()\n",
      "mwf: 0.279705249390804\n"
     ]
    },
    {
     "data": {
      "text/plain": [
       "10×2 Array{Float64,2}:\n",
       "  5.71938  0.0927131  \n",
       " 13.4139   2.93551    \n",
       "  1.31457  3.02249    \n",
       " 67.8159   0.945698   \n",
       " 15.5945   0.386491   \n",
       " 18.9859   2.43119    \n",
       " 50.3446   0.0619796  \n",
       " 49.9828   0.0419578  \n",
       " 50.6108   1.02431    \n",
       " -1.5717   0.000867294"
      ]
     },
     "metadata": {},
     "output_type": "display_data"
    }
   ],
   "source": [
    "for modeltype in (TwoPoolMagnToMagn(), ThreePoolMagnToMagn(), ThreePoolCplxToMagn(), ThreePoolCplxToCplx())\n",
    "    local modelfit, errors, mwf\n",
    "    println(\"Model: $modeltype\"); flush(stdout)\n",
    "    modelfit, errors = fitmwfmodel(Stotal, modeltype; TE = dt);\n",
    "    mwf = getmwf(modeltype, modelfit, errors)\n",
    "    println(\"mwf: $mwf\"); flush(stdout)\n",
    "    errors == nothing ? display(modelfit.param) : display([modelfit.param errors]); flush(stdout)\n",
    "end"
   ]
  },
  {
   "cell_type": "code",
   "execution_count": 174,
   "metadata": {},
   "outputs": [
    {
     "data": {
      "text/plain": [
       "2-element Tensor{1,2,Float64,2}:\n",
       " 4.597908069979724\n",
       " 4.597908069979724"
      ]
     },
     "execution_count": 174,
     "metadata": {},
     "output_type": "execute_result"
    }
   ],
   "source": [
    "widths(bdry)"
   ]
  },
  {
   "cell_type": "code",
   "execution_count": 175,
   "metadata": {
    "scrolled": true
   },
   "outputs": [
    {
     "name": "stdout",
     "output_type": "stream",
     "text": [
      "getmwf(outer_circles, inner_circles, bdry) = 0.29074197131665613\n",
      "getmwf(Stotal, TwoPoolMagnToMagn(); TE=dt, fitmethod=:local) = 0.2808416133749954\n",
      "getmwf(Stotal, ThreePoolMagnToMagn(); TE=dt, fitmethod=:local) = 0.2805980690215158\n",
      "getmwf(Stotal, ThreePoolCplxToMagn(); TE=dt, fitmethod=:local) = 0.2580223204316522\n",
      "getmwf(Stotal, ThreePoolCplxToCplx(); TE=dt, fitmethod=:local) = 0.279705249390804\n"
     ]
    }
   ],
   "source": [
    "@show getmwf(outer_circles, inner_circles, bdry)\n",
    "@show getmwf(Stotal, TwoPoolMagnToMagn(); TE = dt, fitmethod = :local);\n",
    "@show getmwf(Stotal, ThreePoolMagnToMagn(); TE = dt, fitmethod = :local);\n",
    "@show getmwf(Stotal, ThreePoolCplxToMagn(); TE = dt, fitmethod = :local);\n",
    "@show getmwf(Stotal, ThreePoolCplxToCplx(); TE = dt, fitmethod = :local);"
   ]
  },
  {
   "cell_type": "code",
   "execution_count": 176,
   "metadata": {},
   "outputs": [],
   "source": [
    "p0 = initialparams(ThreePoolCplxToCplx(), ts, Stotal)[1];\n",
    "modelfit, errors = fitmwfmodel(Stotal, ThreePoolCplxToCplx(); TE = dt);"
   ]
  },
  {
   "cell_type": "code",
   "execution_count": 177,
   "metadata": {
    "scrolled": true
   },
   "outputs": [],
   "source": [
    "# mwimodel(ThreePoolCplxToCplx(), ts, modelfit.param);\n",
    "# [mwimodel(ThreePoolCplxToCplx(), ts,  modelfit.param) |> x -> reinterpret(ComplexF64, x) complex.(Stotal)]\n",
    "# [mwimodel(ThreePoolCplxToCplx(), ts, p0) |> x -> reinterpret(ComplexF64, x) complex.(Stotal)]"
   ]
  },
  {
   "cell_type": "code",
   "execution_count": 178,
   "metadata": {},
   "outputs": [],
   "source": [
    "myelin_area = intersect_area(outer_circles, bdry) - intersect_area(inner_circles, bdry)\n",
    "total_area = area(bdry)\n",
    "y_biexp = @. (total_area - myelin_area) * exp(-ts*btparams.R2_lp) + myelin_area * exp(-ts*btparams.R2_sp);"
   ]
  },
  {
   "cell_type": "code",
   "execution_count": 183,
   "metadata": {
    "scrolled": true
   },
   "outputs": [],
   "source": [
    "mxcall(:figure, 0)\n",
    "mxcall(:plot, 0, collect(1000.0.*ts), [norm.(Stotal) y_biexp])"
   ]
  },
  {
   "cell_type": "code",
   "execution_count": 184,
   "metadata": {},
   "outputs": [],
   "source": [
    "mxcall(:legend, 0, \"Simulated\", \"Bi-Exponential\")\n",
    "mxcall(:title, 0, \"Signal Magnitude vs. Time\")\n",
    "mxcall(:xlabel, 0, \"Time [ms]\"); mxcall(:xlim, 0, 1000.0 .* [tspan...])\n",
    "mxcall(:ylabel, 0, \"S(t) Magnitude\")"
   ]
  },
  {
   "cell_type": "code",
   "execution_count": 191,
   "metadata": {},
   "outputs": [],
   "source": [
    "mxcall(:figure, 0)\n",
    "mxcall(:plot, 0, collect(1000.0.*ts), reduce(hcat, map(S->norm.(S), Signals)))"
   ]
  },
  {
   "cell_type": "code",
   "execution_count": 39,
   "metadata": {},
   "outputs": [],
   "source": [
    "# prob = ODEProblem((du,u,p,t)->A_mul_B!(du,p[1],u), u0, tspan, (Amap,));"
   ]
  },
  {
   "cell_type": "code",
   "execution_count": 40,
   "metadata": {},
   "outputs": [],
   "source": [
    "#@time Expokit.expmv!(u, tspan[end], Amap, u0; tol=1e-4, norm=expmv_norm, m=100); # penelope: 17.42s\n",
    "#@time Expokit.expmv!(u, tspan[end], Amap, u0; tol=1e-4, norm=expmv_norm, m=50); # penelope: 30.09s\n",
    "#@time Expokit.expmv!(u, tspan[end], Amap, u0; tol=1e-4, norm=expmv_norm, m=10); # penelope: 103.5s\n",
    "#@time Expokit.expmv!(u, tspan[end], Amap, u0; tol=1e-8, norm=expmv_norm); # penelope: 53.2s\n",
    "#@time Expokit.expmv!(u, tspan[end], Amap, u0; tol=1e-6, norm=expmv_norm); # penelope: 44.4s"
   ]
  },
  {
   "cell_type": "code",
   "execution_count": 41,
   "metadata": {},
   "outputs": [],
   "source": [
    "#@time sol = solve(prob, CVODE_BDF(linear_solver=:GMRES); saveat=tspan, reltol=1e-8, alg_hints=:stiff); # penelope: 90.21s\n",
    "#@time sol = solve(prob, CVODE_BDF(linear_solver=:GMRES); saveat=tspan, reltol=1e-4, alg_hints=:stiff); # penelope: 33.44s\n",
    "#@time sol = solve(prob, CVODE_BDF(linear_solver=:BCG); saveat=tspan, reltol=1e-4, alg_hints=:stiff) # penelope: 53.66s\n",
    "#@time sol = solve(prob, CVODE_BDF(linear_solver=:TFQMR); saveat=tspan, reltol=1e-4, alg_hints=:stiff) # penelope: 18.99s but low accuracy"
   ]
  },
  {
   "cell_type": "code",
   "execution_count": 42,
   "metadata": {
    "scrolled": true
   },
   "outputs": [],
   "source": [
    "#prob_Ku = ODEProblem(K_mul_u!, u0, tspan, (K,), mass_matrix=M);\n",
    "#@time sol_Ku = solve(prob_Ku, Rosenbrock23(), saveat=tspan, reltol=1e-4, alg_hints=:stiff) #DNF\n",
    "#@time sol_Ku = solve(prob_Ku, Rodas4(), saveat=tspan, reltol=1e-4, alg_hints=:stiff) #DNF"
   ]
  },
  {
   "cell_type": "code",
   "execution_count": 43,
   "metadata": {},
   "outputs": [],
   "source": [
    "# @show norm(sol.u[end] - u)/maximum(abs,u);\n",
    "# @show maximum(sol.u[end] - u)/maximum(abs,u);"
   ]
  },
  {
   "cell_type": "code",
   "execution_count": null,
   "metadata": {},
   "outputs": [],
   "source": []
  },
  {
   "cell_type": "markdown",
   "metadata": {},
   "source": [
    "# Testing"
   ]
  },
  {
   "cell_type": "code",
   "execution_count": null,
   "metadata": {},
   "outputs": [],
   "source": [
    "using BlochTorreyUtilsTest"
   ]
  },
  {
   "cell_type": "markdown",
   "metadata": {},
   "source": [
    "### Single Axon"
   ]
  },
  {
   "cell_type": "code",
   "execution_count": null,
   "metadata": {
    "scrolled": true
   },
   "outputs": [],
   "source": [
    "BlochTorreyUtilsTest.singleaxontests(\n",
    "    BlochTorreyParameters{Float64}(\n",
    "        ChiI = -60e-9,\n",
    "        ChiA = -120e-9\n",
    "    );\n",
    "    PLOTOMEGA = false\n",
    ");"
   ]
  },
  {
   "cell_type": "markdown",
   "metadata": {},
   "source": [
    "### Multiple Axons"
   ]
  },
  {
   "cell_type": "code",
   "execution_count": null,
   "metadata": {},
   "outputs": [],
   "source": [
    "domainsetup = BlochTorreyUtilsTest.multipleaxons();"
   ]
  },
  {
   "cell_type": "code",
   "execution_count": null,
   "metadata": {},
   "outputs": [],
   "source": [
    "BlochTorreyUtilsTest.multipleaxontests(\n",
    "    BlochTorreyParameters{Float64}(\n",
    "        ChiI = -60e-9,\n",
    "        ChiA = -120e-9\n",
    "    ),\n",
    "    domainsetup;\n",
    "    PLOTOMEGA = false\n",
    ");"
   ]
  },
  {
   "cell_type": "markdown",
   "metadata": {},
   "source": [
    "### Exporting to VTK\n",
    "To visualize the result we export the grid and our field `u`\n",
    "to a VTK-file, which can be viewed in e.g. [ParaView](https://www.paraview.org/)."
   ]
  },
  {
   "cell_type": "code",
   "execution_count": null,
   "metadata": {},
   "outputs": [],
   "source": [
    "# vtk_grid(\"bloch_torrey_equation\", dh) do vtk\n",
    "#     vtk_point_data(vtk, dh, u)\n",
    "# end"
   ]
  }
 ],
 "metadata": {
  "kernelspec": {
   "display_name": "Julia 0.7.0",
   "language": "julia",
   "name": "julia-0.7"
  },
  "language_info": {
   "file_extension": ".jl",
   "mimetype": "application/julia",
   "name": "julia",
   "version": "0.7.0"
  }
 },
 "nbformat": 4,
 "nbformat_minor": 3
}
