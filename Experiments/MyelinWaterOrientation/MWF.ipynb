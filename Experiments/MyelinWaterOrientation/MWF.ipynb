{
 "cells": [
  {
   "cell_type": "markdown",
   "metadata": {},
   "source": [
    "# Bloch-Torrey Equation"
   ]
  },
  {
   "cell_type": "markdown",
   "metadata": {},
   "source": [
    "## Introduction\n",
    "\n",
    "Here we solve the Bloch-Torrey equation on a unit square, with the diffusion coefficient $D(x)$, relaxation rate $R(x)$, and resonance frequency $\\omega(x)$ all given as a generic functions.\n",
    "The strong form of the Bloch-Torrey equation is given by\n",
    "\n",
    "\\begin{align}\n",
    "    \\frac{\\partial u_x}{\\partial t} &= \\nabla \\cdot (D \\nabla u_x) - R u_x + \\omega u_y  \\quad x \\in \\Omega\\\\\n",
    "    \\frac{\\partial u_y}{\\partial t} &= \\nabla \\cdot (D \\nabla u_y) - R u_y - \\omega u_x  \\quad x \\in \\Omega,\n",
    "\\end{align}\n",
    "\n",
    "where $\\vec{u}=[u_x,u_y]$ is the transverse magnetization, and $\\Omega$ the domain.\n",
    "\n",
    "We will consider homogeneous Neumann boundary conditions such that\n",
    "\n",
    "\\begin{align}\n",
    "    \\nabla \\vec{u}(x) \\cdot \\hat{n} &= \\vec{0}  \\quad x \\in \\partial \\Omega\\\\\n",
    "\\end{align}\n",
    "\n",
    "where $\\partial \\Omega$ denotes the boundary of $\\Omega$, and $\\cdot$ is a tensor contraction.\n",
    "\n",
    "The initial condition is given generically as\n",
    "\n",
    "\\begin{equation}\n",
    "    \\vec{u}(x,t=0) = \\vec{u}_0 (x)  \\quad x \\in \\Omega\n",
    "\\end{equation}\n",
    "\n",
    "\n",
    "The resulting weak form is given by\n",
    "\\begin{align}\n",
    "    \\int_{\\Omega} \\vec{v} \\cdot \\vec{u}_t \\, d\\Omega\n",
    "    &= -\\int_{\\Omega}\n",
    "    -\\vec{v} \\cdot \\nabla \\cdot ( D \\, \\nabla \\vec{u} ) +\n",
    "    R \\, \\vec{v} \\cdot \\vec{u} -\n",
    "    \\omega \\, \\vec{v} \\times \\vec{u}\n",
    "    \\, d\\Omega \\\\\n",
    "    &= -\\int_{\\Omega}\n",
    "    D \\, \\nabla \\vec{v} : \\nabla \\vec{u} +\n",
    "    R \\, \\vec{v} \\cdot \\vec{u} -\n",
    "    \\omega \\, \\vec{v} \\times \\vec{u}\n",
    "    \\, d\\Omega + \n",
    "    \\int_{\\partial\\Omega} \\vec{v} \\cdot (D\\nabla\\vec{u} \\cdot \\hat{n}) \\, d\\Gamma,\n",
    "\\end{align}\n",
    "where $\\vec{v}$ is a suitable test function.\n",
    "\n",
    "In this notebook, we will assume homogeneous Neumann boundary conditions on all boundaries by taking $D\\nabla\\vec{u} \\cdot \\hat{n} = 0$. Therefore, the final weak form is simply\n",
    "\\begin{align}\n",
    "    \\int_{\\Omega} \\vec{v} \\cdot \\vec{u}_t \\, d\\Omega\n",
    "    = -\\int_{\\Omega}\n",
    "    D \\, \\nabla \\vec{v} : \\nabla \\vec{u} +\n",
    "    R \\, \\vec{v} \\cdot \\vec{u} -\n",
    "    \\omega \\, \\vec{v} \\times \\vec{u}\n",
    "    \\, d\\Omega\n",
    "\\end{align}\n",
    "\n",
    "Note: in two dimensions, the cross product is simply a scalar. However, `Tensors.jl` defines the two dimensional cross product by first extending the 2D vectors into 3D. Below, we use the symbol $\\boxtimes$ to denote the scalar version, which is the same as taking the third component of the vector version"
   ]
  },
  {
   "cell_type": "markdown",
   "metadata": {},
   "source": [
    "## Commented Program\n",
    "\n",
    "Now we solve the problem in JuAFEM. What follows is a program spliced with comments.\n",
    "\n",
    "First we load the JuAFEM package."
   ]
  },
  {
   "cell_type": "code",
   "execution_count": null,
   "metadata": {},
   "outputs": [],
   "source": [
    "# using Distributed\n",
    "# addprocs(8; restrict = true, enable_threaded_blas = true);\n",
    "# @everywhere begin\n",
    "#     include(\"init.jl\")\n",
    "# end"
   ]
  },
  {
   "cell_type": "code",
   "execution_count": null,
   "metadata": {},
   "outputs": [],
   "source": [
    "include(\"init.jl\")"
   ]
  },
  {
   "cell_type": "markdown",
   "metadata": {},
   "source": [
    "**Pack circles**: Pack circles with a specified packing density $\\eta$"
   ]
  },
  {
   "cell_type": "code",
   "execution_count": null,
   "metadata": {},
   "outputs": [],
   "source": [
    "btparams = BlochTorreyParameters{Float64}(theta = pi/2, g_ratio = 0.8);"
   ]
  },
  {
   "cell_type": "code",
   "execution_count": null,
   "metadata": {},
   "outputs": [],
   "source": [
    "Dim = 2;\n",
    "Ncircles = 20;\n",
    "\n",
    "rs = rand(radiidistribution(btparams), Ncircles);\n",
    "initial_circles = GreedyCirclePacking.pack(rs; iters = 100);\n",
    "\n",
    "η = btparams.g_ratio; # goal packing density\n",
    "ϵ = 0.1 * btparams.R_mu; # overlap occurs when distance between circle edges is ≤ ϵ\n",
    "α = 1e-1; # covariance penalty weight (enforces circular distribution)\n",
    "β = 1e-6; # mutual distance penalty weight\n",
    "λ = 1.0; # overlap penalty weight (or lagrange multiplier for constrained version)\n",
    "w = [α, β, λ]; # vector of weights"
   ]
  },
  {
   "cell_type": "code",
   "execution_count": 5,
   "metadata": {},
   "outputs": [
    {
     "data": {
      "text/plain": [
       "-4.996003610813204e-16"
      ]
     },
     "execution_count": 5,
     "metadata": {},
     "output_type": "execute_result"
    }
   ],
   "source": [
    "minimum_signed_edge_distance(initial_circles)"
   ]
  },
  {
   "cell_type": "code",
   "execution_count": 6,
   "metadata": {},
   "outputs": [
    {
     "data": {
      "text/plain": [
       "0.798012578855469"
      ]
     },
     "execution_count": 6,
     "metadata": {},
     "output_type": "execute_result"
    }
   ],
   "source": [
    "estimate_density(initial_circles)"
   ]
  },
  {
   "cell_type": "code",
   "execution_count": 7,
   "metadata": {
    "scrolled": true
   },
   "outputs": [
    {
     "name": "stdout",
     "output_type": "stream",
     "text": [
      "  7.779167 seconds (14.68 M allocations: 729.247 MiB, 11.95% gc time)\n"
     ]
    }
   ],
   "source": [
    "@time outer_circles = EnergyCirclePacking.pack(initial_circles;\n",
    "    autodiff = false,\n",
    "    secondorder = false,\n",
    "    setcallback = false,\n",
    "    goaldensity = η,\n",
    "    distancescale = btparams.R_mu,\n",
    "    weights = w,\n",
    "    epsilon = ϵ);\n",
    "\n",
    "inner_circles = scale_shape.(outer_circles, btparams.g_ratio);"
   ]
  },
  {
   "cell_type": "code",
   "execution_count": 8,
   "metadata": {},
   "outputs": [
    {
     "name": "stdout",
     "output_type": "stream",
     "text": [
      "covariance_energy(outer_circles) = 0.004383245229828704\n",
      "estimate_density(outer_circles) = 0.8\n",
      "is_any_overlapping(outer_circles) = false\n",
      "(dmin, ϵ, dmin > ϵ) = (0.047259641468211766, 0.046000000000000006, true)\n"
     ]
    }
   ],
   "source": [
    "dmin = minimum_signed_edge_distance(outer_circles)\n",
    "@show covariance_energy(outer_circles)\n",
    "@show estimate_density(outer_circles)\n",
    "@show is_any_overlapping(outer_circles)\n",
    "@show (dmin, ϵ, dmin > ϵ);"
   ]
  },
  {
   "cell_type": "markdown",
   "metadata": {},
   "source": [
    "**Generate mesh**: Rectangular mesh with circles possibly only partly contained or completely excluded"
   ]
  },
  {
   "cell_type": "code",
   "execution_count": 9,
   "metadata": {},
   "outputs": [
    {
     "data": {
      "text/plain": [
       "0.6"
      ]
     },
     "execution_count": 9,
     "metadata": {},
     "output_type": "execute_result"
    }
   ],
   "source": [
    "#Ncircles = length(outer_circles);\n",
    "#Nmin = 50; # points for average circle\n",
    "#h0 = 2pi*R_mu/Nmin; # approximate scale\n",
    "h0 = minimum(radius.(outer_circles))*(1-btparams.g_ratio); # fraction of size of minimum torus width\n",
    "# eta = 5.0; # approx ratio between largest/smallest edges, i.e. max ≈ eta * h0\n",
    "# gamma = 10.0; # max edge length of `eta * h0` occurs approx. `gamma * h0` from circle edges\n",
    "# alpha = 0.7; # power law for edge length scaling between `h0` and `eta * h0`\n",
    "h_min = 1.0h0; # minimum edge length\n",
    "h_max = 5.0h0; # maximum edge length\n",
    "h_range = 10.0h0; # distance over which h increases from h_min to h_max\n",
    "h_rate = 0.6; # rate of increase of h from circle boundaries (power law; smaller = faster radial increase)"
   ]
  },
  {
   "cell_type": "code",
   "execution_count": 10,
   "metadata": {},
   "outputs": [
    {
     "data": {
      "text/plain": [
       "(Rectangle{2,Float64}([-0.531818, -2.90496], [2.51431, 0.141174]), 0.75)"
      ]
     },
     "execution_count": 10,
     "metadata": {},
     "output_type": "execute_result"
    }
   ],
   "source": [
    "bdry, _ = opt_subdomain(outer_circles)"
   ]
  },
  {
   "cell_type": "code",
   "execution_count": 11,
   "metadata": {
    "scrolled": true
   },
   "outputs": [
    {
     "name": "stdout",
     "output_type": "stream",
     "text": [
      "1/20: Interior\n",
      "1/20: Annular\n",
      "2/20: Interior\n",
      "2/20: Annular\n",
      "3/20: Interior\n",
      "3/20: Annular\n",
      "4/20: Interior\n",
      "4/20: Annular\n",
      "5/20: Interior\n",
      "5/20: Annular\n",
      "6/20: Interior\n",
      "6/20: Annular\n",
      "7/20: Interior\n",
      "7/20: Annular\n",
      "8/20: Interior\n",
      "8/20: Annular\n",
      "9/20: Interior\n",
      "9/20: Annular\n",
      "10/20: Interior\n",
      "10/20: Annular\n",
      "11/20: Interior\n",
      "11/20: Annular\n",
      "12/20: Interior\n",
      "12/20: Annular\n",
      "13/20: Interior\n",
      "13/20: Annular\n",
      "14/20: Interior\n",
      "14/20: Annular\n",
      "15/20: Interior\n",
      "15/20: Annular\n",
      "16/20: Interior\n",
      "16/20: Annular\n",
      "17/20: Interior\n",
      "17/20: Annular\n",
      "18/20: Interior\n",
      "18/20: Annular\n",
      "19/20: Interior\n",
      "19/20: Annular\n",
      "20/20: Interior\n",
      "20/20: Annular\n",
      "1/4: Exterior\n",
      "2/4: Exterior\n",
      "3/4: Exterior\n",
      "4/4: Exterior\n",
      " 41.999336 seconds (198.11 M allocations: 6.684 GiB, 15.25% gc time)\n"
     ]
    }
   ],
   "source": [
    "@time exteriorgrids, torigrids, interiorgrids, parentcircleindices = disjoint_rect_mesh_with_tori(\n",
    "    bdry, inner_circles, outer_circles, h_min, h_max, h_range, h_rate;\n",
    "    maxstalliters = 500, plotgrids = false, exterior_tiling = (2, 2)\n",
    ");"
   ]
  },
  {
   "cell_type": "code",
   "execution_count": 12,
   "metadata": {},
   "outputs": [],
   "source": [
    "mxcall(:figure, 0)\n",
    "simpplot.(exteriorgrids; hold = true, axis = mxaxis(bdry));\n",
    "simpplot.(interiorgrids; hold = true, axis = mxaxis(bdry));\n",
    "simpplot.(torigrids; hold = true, axis = mxaxis(bdry));"
   ]
  },
  {
   "cell_type": "markdown",
   "metadata": {},
   "source": [
    "### Diffusion coefficient $D(x)$, relaxation rate $R(x)$, and resonance frequency $\\omega(x)$"
   ]
  },
  {
   "cell_type": "markdown",
   "metadata": {},
   "source": [
    "These functions are defined within `doassemble!`"
   ]
  },
  {
   "cell_type": "markdown",
   "metadata": {},
   "source": [
    "### Trial and test functions\n",
    "A `CellValues` facilitates the process of evaluating values and gradients of\n",
    "test and trial functions (among other things). Since the problem\n",
    "is a scalar problem we will use a `CellScalarValues` object. To define\n",
    "this we need to specify an interpolation space for the shape functions.\n",
    "We use Lagrange functions (both for interpolating the function and the geometry)\n",
    "based on the reference \"cube\". We also define a quadrature rule based on the\n",
    "same reference cube. We combine the interpolation and the quadrature rule\n",
    "to a `CellScalarValues` object."
   ]
  },
  {
   "cell_type": "markdown",
   "metadata": {},
   "source": [
    "### Degrees of freedom\n",
    "Next we need to define a `DofHandler`, which will take care of numbering\n",
    "and distribution of degrees of freedom for our approximated fields.\n",
    "We create the `DofHandler` and then add a single field called `u`.\n",
    "Lastly we `close!` the `DofHandler`, it is now that the dofs are distributed\n",
    "for all the elements."
   ]
  },
  {
   "cell_type": "markdown",
   "metadata": {},
   "source": [
    "Now that we have distributed all our dofs we can create our tangent matrix,\n",
    "using `create_sparsity_pattern`. This function returns a sparse matrix\n",
    "with the correct elements stored."
   ]
  },
  {
   "cell_type": "markdown",
   "metadata": {},
   "source": [
    "We can inspect the pattern using the `spy` function from `UnicodePlots.jl`.\n",
    "By default the stored values are set to $0$, so we first need to\n",
    "fill the stored values, e.g. `K.nzval` with something meaningful."
   ]
  },
  {
   "cell_type": "code",
   "execution_count": 13,
   "metadata": {},
   "outputs": [],
   "source": [
    "#using UnicodePlots\n",
    "#fill!(K.nzval, 1.0)\n",
    "#spy(K; height = 25)"
   ]
  },
  {
   "cell_type": "markdown",
   "metadata": {},
   "source": [
    "### Boundary conditions\n",
    "In JuAFEM constraints like Dirichlet boundary conditions are handled by a `ConstraintHandler`. However, here we will have no need to directly enforce boundary conditions, since Neumann boundary conditions have already been applied in the derivation of the weak form."
   ]
  },
  {
   "cell_type": "markdown",
   "metadata": {},
   "source": [
    "### Assembling the linear system\n",
    "Now we have all the pieces needed to assemble the linear system, $K u = f$.\n",
    "We define a function, `doassemble` to do the assembly, which takes our `cellvalues`,\n",
    "the sparse matrix and our DofHandler as input arguments. The function returns the\n",
    "assembled stiffness matrix, and the force vector."
   ]
  },
  {
   "cell_type": "code",
   "execution_count": 14,
   "metadata": {},
   "outputs": [],
   "source": [
    "# domains = MyelinDomain(grid, outer_circles, inner_circles, bdry, exteriorgrid, torigrids, interiorgrids; quadorder = 3, funcinterporder = 1);\n",
    "myelindomains = createmyelindomains(exteriorgrids, torigrids, interiorgrids, outer_circles, inner_circles);"
   ]
  },
  {
   "cell_type": "code",
   "execution_count": 15,
   "metadata": {},
   "outputs": [],
   "source": [
    "myelinprob = MyelinProblem(btparams);"
   ]
  },
  {
   "cell_type": "code",
   "execution_count": 16,
   "metadata": {},
   "outputs": [
    {
     "name": "stdout",
     "output_type": "stream",
     "text": [
      "  3.561739 seconds (21.05 M allocations: 543.133 MiB, 12.56% gc time)\n"
     ]
    }
   ],
   "source": [
    "# @time doassemble!(prob, domains);\n",
    "@time map!(m -> doassemble!(m, myelinprob), myelindomains, myelindomains);"
   ]
  },
  {
   "cell_type": "code",
   "execution_count": 17,
   "metadata": {},
   "outputs": [
    {
     "name": "stdout",
     "output_type": "stream",
     "text": [
      "  0.350986 seconds (516.33 k allocations: 33.656 MiB, 7.08% gc time)\n"
     ]
    }
   ],
   "source": [
    "# @time factorize!(domains);\n",
    "@time map!(m -> (factorize!(getdomain(m)); return m), myelindomains, myelindomains);"
   ]
  },
  {
   "cell_type": "code",
   "execution_count": 18,
   "metadata": {},
   "outputs": [],
   "source": [
    "omegavalues = map(myelindomains) do m\n",
    "    ω = BlochTorreyProblem(myelinprob, m).Omega\n",
    "    return map(getnodes(getgrid(m))) do node\n",
    "        ω(getcoordinates(node))\n",
    "    end\n",
    "end;"
   ]
  },
  {
   "cell_type": "code",
   "execution_count": 19,
   "metadata": {},
   "outputs": [
    {
     "name": "stderr",
     "output_type": "stream",
     "text": [
      "┌ Warning: Deprecated syntax `implicit assignment to global variable `w``.\n",
      "│ Use `global w` instead.\n",
      "└ @ nothing none:0\n",
      "┌ Warning: Loop variable `w` around In[19]:2 overwrites a variable in an enclosing scope. In the future the variable will be local to the loop instead.\n",
      "└ @ nothing In[19]:2\n"
     ]
    }
   ],
   "source": [
    "mxcall(:figure, 0)\n",
    "for (m,w) in Iterators.reverse(zip(myelindomains, omegavalues))\n",
    "    simpplot(getgrid(m); hold = true, axis = mxaxis(bdry), facecol = w);\n",
    "end"
   ]
  },
  {
   "cell_type": "markdown",
   "metadata": {},
   "source": [
    "### Solution of the differential equation system\n",
    "The last step is to solve the system. First we call `doassemble`\n",
    "to obtain the global stiffness matrix `K` and force vector `f`.\n",
    "Then, to account for the boundary conditions, we use the `apply!` function.\n",
    "This modifies elements in `K` and `f` respectively, such that\n",
    "we can get the correct solution vector `u` by using `\\`."
   ]
  },
  {
   "cell_type": "code",
   "execution_count": 20,
   "metadata": {},
   "outputs": [],
   "source": [
    "tspan = (0.0, 320.0e-3);\n",
    "dt = 10e-3;\n",
    "# saveat = tspan[1]:dt:tspan[2];\n",
    "# tstops = (tspan[1] .+ dt/2 .+ dt .* (1:round(Int, (tspan[2]-tspan[1])/dt)))\n",
    "u0 = Vec{2}((0.0, 1.0)); # initial pi/2 pulse"
   ]
  },
  {
   "cell_type": "code",
   "execution_count": 21,
   "metadata": {},
   "outputs": [],
   "source": [
    "probs = [ODEProblem(m, interpolate(u0, m), tspan) for m in myelindomains];"
   ]
  },
  {
   "cell_type": "code",
   "execution_count": 22,
   "metadata": {},
   "outputs": [],
   "source": [
    "sols = Vector{ODESolution}(undef, length(probs));"
   ]
  },
  {
   "cell_type": "code",
   "execution_count": 23,
   "metadata": {},
   "outputs": [
    {
     "name": "stdout",
     "output_type": "stream",
     "text": [
      "i = 1/39:  39.317342 seconds (46.94 M allocations: 6.160 GiB, 9.56% gc time)\n",
      "i = 2/39:  13.803936 seconds (2.58 M allocations: 3.546 GiB, 4.75% gc time)\n",
      "i = 3/39:   1.369554 seconds (299.96 k allocations: 352.873 MiB, 4.79% gc time)\n",
      "i = 4/39:   4.811580 seconds (961.49 k allocations: 1.225 GiB, 4.47% gc time)\n",
      "i = 5/39:   5.020810 seconds (935.59 k allocations: 1.217 GiB, 4.24% gc time)\n",
      "i = 6/39:   4.267549 seconds (833.66 k allocations: 1.052 GiB, 4.56% gc time)\n",
      "i = 7/39:  10.546062 seconds (1.96 M allocations: 2.734 GiB, 4.50% gc time)\n",
      "i = 8/39:  13.094946 seconds (2.09 M allocations: 3.364 GiB, 4.36% gc time)\n",
      "i = 9/39:  20.948107 seconds (2.76 M allocations: 5.388 GiB, 4.31% gc time)\n",
      "i = 10/39:   1.359733 seconds (289.65 k allocations: 342.827 MiB, 4.90% gc time)\n",
      "i = 11/39:  15.657121 seconds (2.68 M allocations: 4.243 GiB, 4.80% gc time)\n",
      "i = 12/39:   7.040627 seconds (1.34 M allocations: 1.842 GiB, 4.79% gc time)\n",
      "i = 13/39:   1.374340 seconds (305.69 k allocations: 351.450 MiB, 4.43% gc time)\n",
      "i = 14/39:  14.709643 seconds (2.27 M allocations: 3.766 GiB, 4.28% gc time)\n",
      "i = 15/39:  18.007983 seconds (2.46 M allocations: 3.326 GiB, 3.27% gc time)\n",
      "i = 16/39:   8.499154 seconds (1.65 M allocations: 2.032 GiB, 4.51% gc time)\n",
      "i = 17/39:   0.812078 seconds (796.53 k allocations: 42.542 MiB, 6.28% gc time)\n",
      "i = 18/39:  "
     ]
    },
    {
     "name": "stderr",
     "output_type": "stream",
     "text": [
      "┌ Warning: `eye(T::Type, m::Integer)` has been deprecated in favor of `I` and `Matrix` constructors. For a direct replacement, consider `Matrix{T}(I, m, m)`. If `T` element type is not necessary, consider the shorter `Matrix(I, m, m)`(with default `eltype(I)` `Bool`)\n",
      "│   caller = normest1(::LinearMaps.TransposeMap{Float64,ParabolicLinearMap{Float64}}, ::Int64, ::Array{Float64,2}) at Normest1.jl:101\n",
      "└ @ Normest1 /home/coopar7/Documents/code/BlochTorreyExperiments-master/Experiments/MyelinWaterOrientation/Utils/Normest1.jl:101\n"
     ]
    },
    {
     "name": "stdout",
     "output_type": "stream",
     "text": [
      " 9.356654 seconds (1.09 M allocations: 2.465 GiB, 4.88% gc time)\n",
      "i = 19/39:   9.192117 seconds (1.10 M allocations: 2.600 GiB, 5.02% gc time)\n",
      "i = 20/39:   2.703179 seconds (490.70 k allocations: 648.618 MiB, 16.02% gc time)\n",
      "i = 21/39:   3.110507 seconds (593.37 k allocations: 853.419 MiB, 5.11% gc time)\n",
      "i = 22/39:   3.284599 seconds (608.83 k allocations: 889.624 MiB, 4.71% gc time)\n",
      "i = 23/39:   2.926835 seconds (567.08 k allocations: 789.834 MiB, 4.32% gc time)\n",
      "i = 24/39:   5.795130 seconds (902.49 k allocations: 1.604 GiB, 4.75% gc time)\n",
      "i = 25/39:   6.255826 seconds (806.10 k allocations: 1.650 GiB, 4.54% gc time)\n",
      "i = 26/39:   9.205235 seconds (1.14 M allocations: 2.659 GiB, 4.98% gc time)\n",
      "i = 27/39:   2.448633 seconds (498.39 k allocations: 658.223 MiB, 4.86% gc time)\n",
      "i = 28/39:   6.198561 seconds (943.96 k allocations: 1.787 GiB, 4.98% gc time)\n",
      "i = 29/39:   6.357213 seconds (905.75 k allocations: 1.618 GiB, 4.04% gc time)\n",
      "i = 30/39:   2.814025 seconds (562.02 k allocations: 772.214 MiB, 4.73% gc time)\n",
      "i = 31/39:   7.451387 seconds (885.08 k allocations: 1.972 GiB, 4.44% gc time)\n",
      "i = 32/39:   0.068301 seconds (20.43 k allocations: 12.359 MiB, 8.46% gc time)\n",
      "i = 33/39:   4.751941 seconds (841.46 k allocations: 1.256 GiB, 4.43% gc time)\n",
      "i = 34/39:   4.445470 seconds (850.88 k allocations: 1.253 GiB, 5.23% gc time)\n",
      "i = 35/39:   0.712651 seconds (175.46 k allocations: 180.375 MiB, 4.63% gc time)\n",
      "i = 36/39: 312.963309 seconds (25.95 M allocations: 94.212 GiB, 5.09% gc time)\n",
      "i = 37/39: 393.978988 seconds (28.58 M allocations: 119.535 GiB, 4.98% gc time)\n",
      "i = 38/39: 268.496341 seconds (18.06 M allocations: 80.530 GiB, 4.90% gc time)\n",
      "i = 39/39: 155.257435 seconds (10.47 M allocations: 43.819 GiB, 4.59% gc time)\n",
      "1398.605205 seconds (167.31 M allocations: 402.616 GiB, 5.02% gc time)\n"
     ]
    }
   ],
   "source": [
    "@time for i in eachindex(sols, probs)\n",
    "    print(\"i = $i/$(length(sols)): \")\n",
    "    sols[i] = @time solve(probs[i], ExpokitExpmv();\n",
    "        reltol = 1e-4,\n",
    "        dt = dt,\n",
    "        m = 30,\n",
    "        verbose = false,\n",
    "        affect! = u -> (@views(u[2:end] .= -u[2:end]); return u) # spin echo pi-pulse\n",
    "    )\n",
    "end;"
   ]
  },
  {
   "cell_type": "code",
   "execution_count": 24,
   "metadata": {},
   "outputs": [],
   "source": [
    "S = map(myelindomains, sols) do m, s\n",
    "    [integrate(u, m) for u in s.u]\n",
    "end;"
   ]
  },
  {
   "cell_type": "code",
   "execution_count": 25,
   "metadata": {},
   "outputs": [],
   "source": [
    "Stotal = sum(S);"
   ]
  },
  {
   "cell_type": "code",
   "execution_count": 26,
   "metadata": {},
   "outputs": [
    {
     "data": {
      "text/plain": [
       "Dict{Int64,Any} with 1 entry:\n",
       "  90 => Tensor{1,2,Float64,2}[[0.0, 9.27558], [-0.157247, -6.8943], [0.620057, …"
      ]
     },
     "execution_count": 26,
     "metadata": {},
     "output_type": "execute_result"
    }
   ],
   "source": [
    "Stotals = Dict{Int,Any}()\n",
    "push!(Stotals, 90 => Stotal)\n",
    "# push!(Stotals, 0 => Stotal)"
   ]
  },
  {
   "cell_type": "code",
   "execution_count": 27,
   "metadata": {},
   "outputs": [
    {
     "name": "stdout",
     "output_type": "stream",
     "text": [
      "btparams.R2_lp = 15.873015873015873\n",
      "(-1 / Tspan) * log(norm(Stotal[end]) / norm(Stotal[1])) = 18.583894413856722\n",
      "exp(-(tspan[end]) * btparams.R2_lp) = 0.006223859418487457\n",
      "norm(Stotal[end]) / norm(Stotal[1]) = 0.002614071758803262\n"
     ]
    }
   ],
   "source": [
    "Tspan = tspan[2] - tspan[1]\n",
    "@show btparams.R2_lp;\n",
    "@show (-1/Tspan)*log(norm(Stotal[end])/norm(Stotal[1]));\n",
    "@show exp(-tspan[end]*btparams.R2_lp);\n",
    "@show norm(Stotal[end])/norm(Stotal[1]);"
   ]
  },
  {
   "cell_type": "code",
   "execution_count": 28,
   "metadata": {},
   "outputs": [
    {
     "data": {
      "text/plain": [
       "0.2728252969910506"
      ]
     },
     "execution_count": 28,
     "metadata": {},
     "output_type": "execute_result"
    }
   ],
   "source": [
    "myelin_area = intersect_area(outer_circles, bdry) - intersect_area(inner_circles, bdry)\n",
    "total_area = area(bdry)\n",
    "exact_mwf = myelin_area/total_area"
   ]
  },
  {
   "cell_type": "code",
   "execution_count": 29,
   "metadata": {},
   "outputs": [],
   "source": [
    "mxcall(:addpath, 0, \"/home/coopar7/Documents/code/BlochTorreyExperiments-master/Experiments/MyelinWaterOrientation/MATLAB/SE_corr/\");"
   ]
  },
  {
   "cell_type": "code",
   "execution_count": 30,
   "metadata": {},
   "outputs": [
    {
     "data": {
      "text/plain": [
       "0.2913481146081364"
      ]
     },
     "execution_count": 30,
     "metadata": {},
     "output_type": "execute_result"
    }
   ],
   "source": [
    "MWImaps, MWIdist, MWIpart = fitmwfmodel(Stotal, NNLSRegression();\n",
    "    T2Range = [10e-3, 2.0],\n",
    "    spwin = [10e-3, 40e-3],\n",
    "    nT2 = 32,\n",
    "    PLOTDIST = true\n",
    ");\n",
    "getmwf(NNLSRegression(), MWImaps, MWIdist, MWIpart)"
   ]
  },
  {
   "cell_type": "code",
   "execution_count": 31,
   "metadata": {},
   "outputs": [],
   "source": [
    "# TestStotalMagn = mwimodel(TwoPoolMagnToMagn(), tspan[1]:dt:tspan[2], modelfit.param)\n",
    "# TestStotal = [Vec{2}((zero(y),y)) for y in TestStotalMagn];"
   ]
  },
  {
   "cell_type": "code",
   "execution_count": 32,
   "metadata": {},
   "outputs": [
    {
     "name": "stdout",
     "output_type": "stream",
     "text": [
      "Model: TwoPoolMagnToMagn()\n",
      "mwf: 0.5169445222367843\n",
      "Model: ThreePoolMagnToMagn()\n",
      "mwf: 0.5106716912493771\n",
      "Model: ThreePoolCplxToMagn()\n",
      "mwf: 0.22238069551780723\n",
      "Model: ThreePoolCplxToCplx()\n",
      "mwf: 0.9254125856070765\n"
     ]
    }
   ],
   "source": [
    "modeltypes = (TwoPoolMagnToMagn(), ThreePoolMagnToMagn(), ThreePoolCplxToMagn(), ThreePoolCplxToCplx())\n",
    "for modeltype in modeltypes\n",
    "    local modelfit, errors, mwf\n",
    "    println(\"Model: $modeltype\"); flush(stdout)\n",
    "    modelfit, errors = fitmwfmodel(Stotal, modeltype; TE = dt);\n",
    "    mwf = getmwf(modeltype, modelfit, errors)\n",
    "    println(\"mwf: $mwf\"); flush(stdout)\n",
    "    #errors == nothing ? display(modelfit.param) : display([modelfit.param errors]); flush(stdout)\n",
    "end"
   ]
  },
  {
   "cell_type": "code",
   "execution_count": 33,
   "metadata": {},
   "outputs": [
    {
     "name": "stdout",
     "output_type": "stream",
     "text": [
      "getmwf(Stotal, TwoPoolMagnToMagn(); TE=dt, fitmethod=:local) = 0.5169445222367843\n",
      "getmwf(Stotal, ThreePoolMagnToMagn(); TE=dt, fitmethod=:local) = 0.5106716912493771\n",
      "getmwf(Stotal, ThreePoolCplxToMagn(); TE=dt, fitmethod=:local) = 0.22238069551780723\n",
      "getmwf(Stotal, ThreePoolCplxToCplx(); TE=dt, fitmethod=:local) = 0.9254125856070765\n"
     ]
    }
   ],
   "source": [
    "@show getmwf(Stotal, TwoPoolMagnToMagn(); TE = dt, fitmethod = :local);\n",
    "@show getmwf(Stotal, ThreePoolMagnToMagn(); TE = dt, fitmethod = :local);\n",
    "@show getmwf(Stotal, ThreePoolCplxToMagn(); TE = dt, fitmethod = :local);\n",
    "@show getmwf(Stotal, ThreePoolCplxToCplx(); TE = dt, fitmethod = :local);"
   ]
  },
  {
   "cell_type": "code",
   "execution_count": 34,
   "metadata": {},
   "outputs": [
    {
     "ename": "UndefVarError",
     "evalue": "UndefVarError: ts not defined",
     "output_type": "error",
     "traceback": [
      "UndefVarError: ts not defined",
      "",
      "Stacktrace:",
      " [1] top-level scope at In[34]:1"
     ]
    }
   ],
   "source": [
    "ts = collect(ts)\n",
    "y_biexp = (total_area - myelin_area) .* exp.(-ts*btparams.R2_lp) .+ myelin_area .* exp.(-ts*btparams.R2_sp);"
   ]
  },
  {
   "cell_type": "code",
   "execution_count": 35,
   "metadata": {},
   "outputs": [
    {
     "ename": "UndefVarError",
     "evalue": "UndefVarError: ts not defined",
     "output_type": "error",
     "traceback": [
      "UndefVarError: ts not defined",
      "",
      "Stacktrace:",
      " [1] top-level scope at In[35]:2"
     ]
    }
   ],
   "source": [
    "mxcall(:figure, 0)\n",
    "mxcall(:plot, 0, collect(ts), norm.(Stotal))\n",
    "mxcall(:hold, 0, \"on\")\n",
    "mxcall(:plot, 0, collect(ts), y_biexp)"
   ]
  },
  {
   "cell_type": "code",
   "execution_count": null,
   "metadata": {},
   "outputs": [],
   "source": [
    "# prob = ODEProblem((du,u,p,t)->A_mul_B!(du,p[1],u), u0, tspan, (Amap,));"
   ]
  },
  {
   "cell_type": "code",
   "execution_count": null,
   "metadata": {},
   "outputs": [],
   "source": [
    "#@time Expokit.expmv!(u, tspan[end], Amap, u0; tol=1e-4, norm=expmv_norm, m=100); # penelope: 17.42s\n",
    "#@time Expokit.expmv!(u, tspan[end], Amap, u0; tol=1e-4, norm=expmv_norm, m=50); # penelope: 30.09s\n",
    "#@time Expokit.expmv!(u, tspan[end], Amap, u0; tol=1e-4, norm=expmv_norm, m=10); # penelope: 103.5s\n",
    "#@time Expokit.expmv!(u, tspan[end], Amap, u0; tol=1e-8, norm=expmv_norm); # penelope: 53.2s\n",
    "#@time Expokit.expmv!(u, tspan[end], Amap, u0; tol=1e-6, norm=expmv_norm); # penelope: 44.4s"
   ]
  },
  {
   "cell_type": "code",
   "execution_count": null,
   "metadata": {},
   "outputs": [],
   "source": [
    "#@time sol = solve(prob, CVODE_BDF(linear_solver=:GMRES); saveat=tspan, reltol=1e-8, alg_hints=:stiff); # penelope: 90.21s\n",
    "#@time sol = solve(prob, CVODE_BDF(linear_solver=:GMRES); saveat=tspan, reltol=1e-4, alg_hints=:stiff); # penelope: 33.44s\n",
    "#@time sol = solve(prob, CVODE_BDF(linear_solver=:BCG); saveat=tspan, reltol=1e-4, alg_hints=:stiff) # penelope: 53.66s\n",
    "#@time sol = solve(prob, CVODE_BDF(linear_solver=:TFQMR); saveat=tspan, reltol=1e-4, alg_hints=:stiff) # penelope: 18.99s but low accuracy"
   ]
  },
  {
   "cell_type": "code",
   "execution_count": null,
   "metadata": {
    "scrolled": true
   },
   "outputs": [],
   "source": [
    "#prob_Ku = ODEProblem(K_mul_u!, u0, tspan, (K,), mass_matrix=M);\n",
    "#@time sol_Ku = solve(prob_Ku, Rosenbrock23(), saveat=tspan, reltol=1e-4, alg_hints=:stiff) #DNF\n",
    "#@time sol_Ku = solve(prob_Ku, Rodas4(), saveat=tspan, reltol=1e-4, alg_hints=:stiff) #DNF"
   ]
  },
  {
   "cell_type": "code",
   "execution_count": null,
   "metadata": {},
   "outputs": [],
   "source": [
    "# @show norm(sol.u[end] - u)/maximum(abs,u);\n",
    "# @show maximum(sol.u[end] - u)/maximum(abs,u);"
   ]
  },
  {
   "cell_type": "code",
   "execution_count": null,
   "metadata": {},
   "outputs": [],
   "source": []
  },
  {
   "cell_type": "markdown",
   "metadata": {},
   "source": [
    "### Exporting to VTK\n",
    "To visualize the result we export the grid and our field `u`\n",
    "to a VTK-file, which can be viewed in e.g. [ParaView](https://www.paraview.org/)."
   ]
  },
  {
   "cell_type": "code",
   "execution_count": null,
   "metadata": {},
   "outputs": [],
   "source": [
    "vtk_grid(\"bloch_torrey_equation\", dh) do vtk\n",
    "    vtk_point_data(vtk, dh, u)\n",
    "end"
   ]
  },
  {
   "cell_type": "markdown",
   "metadata": {},
   "source": [
    "*This notebook was generated using [Literate.jl](https://github.com/fredrikekre/Literate.jl).*"
   ]
  }
 ],
 "metadata": {
  "kernelspec": {
   "display_name": "Julia 0.7.0",
   "language": "julia",
   "name": "julia-0.7"
  },
  "language_info": {
   "file_extension": ".jl",
   "mimetype": "application/julia",
   "name": "julia",
   "version": "0.7.0"
  }
 },
 "nbformat": 4,
 "nbformat_minor": 3
}
