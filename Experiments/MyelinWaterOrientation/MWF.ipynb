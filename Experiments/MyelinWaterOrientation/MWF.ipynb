{
 "cells": [
  {
   "cell_type": "markdown",
   "metadata": {},
   "source": [
    "# Bloch-Torrey Equation"
   ]
  },
  {
   "cell_type": "markdown",
   "metadata": {},
   "source": [
    "## Introduction\n",
    "\n",
    "Here we solve the Bloch-Torrey equation on a unit square, with the diffusion coefficient $D(x)$, relaxation rate $R(x)$, and resonance frequency $\\omega(x)$ all given as a generic functions.\n",
    "The strong form of the Bloch-Torrey equation is given by\n",
    "\n",
    "\\begin{align}\n",
    "    \\frac{\\partial u_x}{\\partial t} &= \\nabla \\cdot (D \\nabla u_x) - R u_x + \\omega u_y  \\quad x \\in \\Omega\\\\\n",
    "    \\frac{\\partial u_y}{\\partial t} &= \\nabla \\cdot (D \\nabla u_y) - R u_y - \\omega u_x  \\quad x \\in \\Omega,\n",
    "\\end{align}\n",
    "\n",
    "where $\\vec{u}=[u_x,u_y]$ is the transverse magnetization, and $\\Omega$ the domain.\n",
    "\n",
    "We will consider homogeneous Neumann boundary conditions such that\n",
    "\n",
    "\\begin{align}\n",
    "    \\nabla \\vec{u}(x) \\cdot \\hat{n} &= 0  \\quad x \\in \\partial \\Omega\\\\\n",
    "\\end{align}\n",
    "\n",
    "where $\\partial \\Omega$ denotes the boundary of $\\Omega$. The initial condition is given generically as\n",
    "\n",
    "\\begin{equation}\n",
    "    \\vec{u}(x,t=0) = \\vec{u}_0 (x)  \\quad x \\in \\Omega\n",
    "\\end{equation}\n",
    "\n",
    "\n",
    "The resulting weak form is given by\n",
    "\\begin{align}\n",
    "    \\int_{\\Omega} \\vec{v} \\cdot \\vec{u}_t \\, d\\Omega\n",
    "    &= -\\int_{\\Omega}\n",
    "    -\\vec{v} \\cdot \\nabla \\cdot ( D \\, \\nabla \\vec{u} ) +\n",
    "    R \\, \\vec{v} \\cdot \\vec{u} -\n",
    "    \\omega \\, \\vec{v} \\times \\vec{u}\n",
    "    \\, d\\Omega \\\\\n",
    "    &= -\\int_{\\Omega}\n",
    "    D \\, \\nabla \\vec{v} : \\nabla \\vec{u} +\n",
    "    R \\, \\vec{v} \\cdot \\vec{u} -\n",
    "    \\omega \\, \\vec{v} \\times \\vec{u}\n",
    "    \\, d\\Omega + \n",
    "    \\int_{\\partial\\Omega} \\vec{v} \\cdot (D\\nabla\\vec{u} \\cdot \\hat{n}) \\, d\\Gamma,\n",
    "\\end{align}\n",
    "where $\\vec{v}$ is a suitable test function.\n",
    "\n",
    "In this notebook, we will assume homogeneous Neumann boundary conditions on all boundaries by taking $D\\nabla\\vec{u} \\cdot \\hat{n} = 0$. Therefore, the final weak form is simply\n",
    "\\begin{align}\n",
    "    \\int_{\\Omega} \\vec{v} \\cdot \\vec{u}_t \\, d\\Omega\n",
    "    = -\\int_{\\Omega}\n",
    "    D \\, \\nabla \\vec{v} : \\nabla \\vec{u} +\n",
    "    R \\, \\vec{v} \\cdot \\vec{u} -\n",
    "    \\omega \\, \\vec{v} \\times \\vec{u}\n",
    "    \\, d\\Omega\n",
    "\\end{align}\n",
    "\n",
    "Note that, in two dimensions, the cross product is simply a scalar. However, `Tensors.jl` defines the two dimensional cross product by first extending the 2D vectors into 3D. Below, we use the symbol $\\boxtimes$ to denote the scalar version, which is the same as taking the third component of the vector version"
   ]
  },
  {
   "cell_type": "markdown",
   "metadata": {},
   "source": [
    "## Commented Program\n",
    "\n",
    "Now we solve the problem in JuAFEM. What follows is a program spliced with comments.\n",
    "\n",
    "First we load the JuAFEM package."
   ]
  },
  {
   "cell_type": "code",
   "execution_count": 21,
   "metadata": {
    "scrolled": false
   },
   "outputs": [
    {
     "name": "stderr",
     "output_type": "stream",
     "text": [
      "WARNING: replacing module Expmv.\n",
      "WARNING: replacing module GeometryUtils.\n",
      "WARNING: replacing module CirclePackingUtils.\n",
      "WARNING: replacing module MeshUtils.\n",
      "WARNING: replacing module BlochTorreyUtils.\n",
      "WARNING: replacing module BlochTorreySolvers.\n",
      "WARNING: using GeometryUtils.opt_bounding_circle in module Main conflicts with an existing identifier.\n",
      "WARNING: using GeometryUtils.is_any_overlapping in module Main conflicts with an existing identifier.\n",
      "WARNING: using GeometryUtils.minimum_signed_edge_distance in module Main conflicts with an existing identifier.\n",
      "WARNING: using CirclePackingUtils.estimate_density in module Main conflicts with an existing identifier.\n",
      "WARNING: using CirclePackingUtils.initialize_origins in module Main conflicts with an existing identifier.\n",
      "WARNING: using CirclePackingUtils.energy_covariance in module Main conflicts with an existing identifier.\n",
      "WARNING: using CirclePackingUtils.pack_circles in module Main conflicts with an existing identifier.\n",
      "WARNING: using MeshUtils.circle_mesh_with_tori in module Main conflicts with an existing identifier.\n",
      "WARNING: using BlochTorreyUtils.BlochTorreyParameters in module Main conflicts with an existing identifier.\n",
      "WARNING: using BlochTorreyUtils.radiidistribution in module Main conflicts with an existing identifier.\n"
     ]
    }
   ],
   "source": [
    "include(\"init.jl\")\n",
    "# include(\"Experiments/MyelinWaterOrientation/init.jl\")"
   ]
  },
  {
   "cell_type": "markdown",
   "metadata": {},
   "source": [
    "**Pack circles**: Pack circles with a specified packing density $\\eta$"
   ]
  },
  {
   "cell_type": "code",
   "execution_count": 22,
   "metadata": {},
   "outputs": [],
   "source": [
    "btparams = BlochTorreyParameters{Float64}(g_ratio = 0.5);"
   ]
  },
  {
   "cell_type": "code",
   "execution_count": 23,
   "metadata": {},
   "outputs": [],
   "source": [
    "Dim = 2\n",
    "Ncircles = 50\n",
    "\n",
    "rs = rand(radiidistribution(btparams), Ncircles);\n",
    "os = initialize_origins(rs);\n",
    "\n",
    "η = 0.7 # goal packing density\n",
    "ϵ = 0.1*btparams.R_mu # overlap occurs when distance between circle edges is ≤ ϵ\n",
    "α = 0.0 # covariance penalty weight\n",
    "β = 1e-6 # mutual distance penalty weight\n",
    "λ = 1.0 # overlap penalty weight (or lagrange multiplier for constrained version)\n",
    "w = [α, β, λ]; # vector of weights"
   ]
  },
  {
   "cell_type": "code",
   "execution_count": 24,
   "metadata": {},
   "outputs": [],
   "source": [
    "revise()"
   ]
  },
  {
   "cell_type": "code",
   "execution_count": 25,
   "metadata": {
    "scrolled": true
   },
   "outputs": [
    {
     "ename": "LoadError",
     "evalue": "UndefVarError: data not defined",
     "output_type": "error",
     "traceback": [
      "UndefVarError: data not defined",
      "",
      "Stacktrace:",
      " [1] (::getfield(Main.CirclePackingUtils, Symbol(\"##4#12\")){Float64,Float64,Array{Float64,1},Float64})(::Array{ForwardDiff.Dual{ForwardDiff.Tag{getfield(Main.CirclePackingUtils, Symbol(\"##4#12\")){Float64,Float64,Array{Float64,1},Float64},Float64},Float64,10},1}) at /home/coopar7/Documents/code/BlochTorreyExperiments-master/Experiments/MyelinWaterOrientation/Geometry/circle_packing.jl:80",
      " [2] chunk_mode_gradient!(::DiffResults.MutableDiffResult{1,Float64,Tuple{Array{Float64,1}}}, ::getfield(Main.CirclePackingUtils, Symbol(\"##4#12\")){Float64,Float64,Array{Float64,1},Float64}, ::Array{Float64,1}, ::ForwardDiff.GradientConfig{ForwardDiff.Tag{getfield(Main.CirclePackingUtils, Symbol(\"##4#12\")){Float64,Float64,Array{Float64,1},Float64},Float64},Float64,10,Array{ForwardDiff.Dual{ForwardDiff.Tag{getfield(Main.CirclePackingUtils, Symbol(\"##4#12\")){Float64,Float64,Array{Float64,1},Float64},Float64},Float64,10},1}}) at /home/coopar7/.julia/packages/ForwardDiff/kTOVi/src/gradient.jl:139",
      " [3] gradient! at /home/coopar7/.julia/packages/ForwardDiff/kTOVi/src/gradient.jl:37 [inlined]",
      " [4] gradient! at /home/coopar7/.julia/packages/ForwardDiff/kTOVi/src/gradient.jl:33 [inlined]",
      " [5] (::getfield(NLSolversBase, Symbol(\"##14#18\")){Float64,getfield(Main.CirclePackingUtils, Symbol(\"##4#12\")){Float64,Float64,Array{Float64,1},Float64},ForwardDiff.GradientConfig{ForwardDiff.Tag{getfield(Main.CirclePackingUtils, Symbol(\"##4#12\")){Float64,Float64,Array{Float64,1},Float64},Float64},Float64,10,Array{ForwardDiff.Dual{ForwardDiff.Tag{getfield(Main.CirclePackingUtils, Symbol(\"##4#12\")){Float64,Float64,Array{Float64,1},Float64},Float64},Float64,10},1}}})(::Array{Float64,1}, ::Array{Float64,1}) at /home/coopar7/.julia/packages/NLSolversBase/Cvvki/src/objective_types/oncedifferentiable.jl:59",
      " [6] value_gradient!!(::NLSolversBase.OnceDifferentiable{Float64,Array{Float64,1},Array{Float64,1}}, ::Array{Float64,1}) at /home/coopar7/.julia/packages/NLSolversBase/Cvvki/src/interface.jl:88",
      " [7] initial_state(::Optim.LBFGS{Nothing,LineSearches.InitialStatic{Float64},LineSearches.BackTracking{Float64,Int64},getfield(Optim, Symbol(\"##23#25\"))}, ::Optim.Options{Float64,getfield(Main.CirclePackingUtils, Symbol(\"##5#13\")){Float64,Float64,DataType}}, ::NLSolversBase.OnceDifferentiable{Float64,Array{Float64,1},Array{Float64,1}}, ::Array{Float64,1}) at /home/coopar7/.julia/packages/Optim/U0b9c/src/multivariate/solvers/first_order/l_bfgs.jl:158",
      " [8] optimize(::NLSolversBase.OnceDifferentiable{Float64,Array{Float64,1},Array{Float64,1}}, ::Array{Float64,1}, ::Optim.LBFGS{Nothing,LineSearches.InitialStatic{Float64},LineSearches.BackTracking{Float64,Int64},getfield(Optim, Symbol(\"##23#25\"))}, ::Optim.Options{Float64,getfield(Main.CirclePackingUtils, Symbol(\"##5#13\")){Float64,Float64,DataType}}) at /home/coopar7/.julia/packages/Optim/U0b9c/src/multivariate/optimize/optimize.jl:33",
      " [9] #pack_circles#1(::Array{Tensor{1,2,Float64,2},1}, ::Float64, ::Float64, ::Array{Float64,1}, ::Float64, ::Bool, ::Int64, ::Bool, ::Bool, ::Bool, ::Bool, ::Optim.LBFGS{Nothing,LineSearches.InitialStatic{Float64},LineSearches.BackTracking{Float64,Int64},getfield(Optim, Symbol(\"##23#25\"))}, ::Optim.Options{Float64,Nothing}, ::typeof(pack_circles), ::Array{Float64,1}, ::Type{Val{2}}) at /home/coopar7/Documents/code/BlochTorreyExperiments-master/Experiments/MyelinWaterOrientation/Geometry/circle_packing.jl:136",
      " [10] (::getfield(Main.CirclePackingUtils, Symbol(\"#kw##pack_circles\")))(::NamedTuple{(:autodiff, :chunksize, :reversemode, :secondorder, :setcallback, :initial_origins, :goaldensity, :distancescale, :weights, :epsilon),Tuple{Bool,Int64,Bool,Bool,Bool,Array{Tensor{1,2,Float64,2},1},Float64,Float64,Array{Float64,1},Float64}}, ::typeof(pack_circles), ::Array{Float64,1}, ::Type{Val{2}}) at ./none:0 (repeats 2 times)",
      " [11] top-level scope at util.jl:156"
     ]
    }
   ],
   "source": [
    "@time outer_circles, opt_result = pack_circles(rs;\n",
    "    autodiff = true,\n",
    "    chunksize = 35,\n",
    "    reversemode = false,\n",
    "    secondorder = false,\n",
    "    setcallback = true,\n",
    "    initial_origins = os,\n",
    "    goaldensity = η,\n",
    "    distancescale = btparams.R_mu,\n",
    "    weights = w,\n",
    "    epsilon = ϵ);"
   ]
  },
  {
   "cell_type": "code",
   "execution_count": null,
   "metadata": {},
   "outputs": [],
   "source": [
    "opt_result"
   ]
  },
  {
   "cell_type": "code",
   "execution_count": 15,
   "metadata": {},
   "outputs": [
    {
     "ename": "LoadError",
     "evalue": "UndefVarError: outer_circles not defined",
     "output_type": "error",
     "traceback": [
      "UndefVarError: outer_circles not defined",
      "",
      "Stacktrace:",
      " [1] top-level scope at none:0"
     ]
    }
   ],
   "source": [
    "energy_covariance(outer_circles)"
   ]
  },
  {
   "cell_type": "code",
   "execution_count": null,
   "metadata": {},
   "outputs": [],
   "source": [
    "estimate_density(outer_circles)"
   ]
  },
  {
   "cell_type": "code",
   "execution_count": null,
   "metadata": {},
   "outputs": [],
   "source": [
    "is_any_overlapping(outer_circles)"
   ]
  },
  {
   "cell_type": "code",
   "execution_count": null,
   "metadata": {},
   "outputs": [],
   "source": [
    "@show (minimum_signed_edge_distance(outer_circles), ϵ);"
   ]
  },
  {
   "cell_type": "code",
   "execution_count": null,
   "metadata": {},
   "outputs": [],
   "source": [
    "revise()"
   ]
  },
  {
   "cell_type": "code",
   "execution_count": null,
   "metadata": {},
   "outputs": [],
   "source": [
    "# rect_bdry = bounding_box(outer_circles)\n",
    "# rect_bdry = scale_shape(inscribed_square(crude_bounding_circle(outer_circles)), 0.75)\n",
    "# rect_bdry = scale_shape(bounding_box(outer_circles), 1.05)\n",
    "# outer_circles = filter(c -> !is_outside(c, rect_bdry), outer_circles)\n",
    "\n",
    "bcircle = opt_bounding_circle(outer_circles; epsilon = ϵ)\n",
    "inner_circles = scale_shape.(outer_circles, btparams.g_ratio);\n",
    "Ncircles = length(outer_circles);"
   ]
  },
  {
   "cell_type": "code",
   "execution_count": 13,
   "metadata": {},
   "outputs": [],
   "source": [
    "revise()"
   ]
  },
  {
   "cell_type": "code",
   "execution_count": 14,
   "metadata": {
    "scrolled": true
   },
   "outputs": [
    {
     "ename": "LoadError",
     "evalue": "UndefVarError: bcircle not defined",
     "output_type": "error",
     "traceback": [
      "UndefVarError: bcircle not defined",
      "",
      "Stacktrace:",
      " [1] top-level scope at util.jl:156"
     ]
    }
   ],
   "source": [
    "#Nmin = 50; # points for average circle\n",
    "#h0 = 2pi*R_mu/Nmin; # approximate scale\n",
    "h0 = 0.3*btparams.R_mu*(1-btparams.g_ratio) # fraction of size of average torus width\n",
    "eta = 5.0; # approx ratio between largest/smallest edges\n",
    "\n",
    "# @time grid = rect_mesh_with_tori(rect_bdry, inner_circles, outer_circles, h0, eta, isunion=true);\n",
    "# @time grid, subgrids = rect_mesh_with_circles(rect_bdry, outer_circles, h0, eta, isunion=false);\n",
    "@time grid = circle_mesh_with_tori(bcircle, inner_circles, outer_circles, h0, eta)"
   ]
  },
  {
   "cell_type": "code",
   "execution_count": null,
   "metadata": {},
   "outputs": [],
   "source": [
    "#mxcall(:figure,0); mxcall(:hold,0,\"on\"); mxplot(grid); sleep(0.1);"
   ]
  },
  {
   "cell_type": "code",
   "execution_count": null,
   "metadata": {},
   "outputs": [],
   "source": [
    "revise()"
   ]
  },
  {
   "cell_type": "code",
   "execution_count": null,
   "metadata": {},
   "outputs": [],
   "source": [
    "# exteriorgrid, torigrids, interiorgrids = disjoint_rect_mesh_with_tori(rect_bdry, inner_circles, outer_circles, h0, eta);\n",
    "# @time exteriorgrid, torigrids, interiorgrids = rect_mesh_with_circles(rect_bdry, outer_circles, h0, eta, isunion=false);"
   ]
  },
  {
   "cell_type": "code",
   "execution_count": null,
   "metadata": {},
   "outputs": [],
   "source": [
    "@time exteriorgrid, torigrids, interiorgrids = form_tori_subgrids(grid, bcircle, inner_circles, outer_circles);"
   ]
  },
  {
   "cell_type": "code",
   "execution_count": null,
   "metadata": {},
   "outputs": [],
   "source": [
    "all_tori = form_subgrid(grid, getcellset(grid, \"tori\"), getnodeset(grid, \"tori\"), getfaceset(grid, \"boundary\"))\n",
    "all_int = form_subgrid(grid, getcellset(grid, \"interior\"), getnodeset(grid, \"interior\"), getfaceset(grid, \"boundary\"))"
   ]
  },
  {
   "cell_type": "code",
   "execution_count": null,
   "metadata": {},
   "outputs": [],
   "source": [
    "mxcall(:figure,0); mxcall(:hold,0,\"on\"); mxplot(exteriorgrid); sleep(0.1);\n",
    "mxcall(:figure,0); mxcall(:hold,0,\"on\"); mxplot(all_tori); sleep(0.1);\n",
    "mxcall(:figure,0); mxcall(:hold,0,\"on\"); mxplot(all_int); sleep(0.1);"
   ]
  },
  {
   "cell_type": "code",
   "execution_count": null,
   "metadata": {},
   "outputs": [],
   "source": [
    "revise()"
   ]
  },
  {
   "cell_type": "code",
   "execution_count": null,
   "metadata": {},
   "outputs": [],
   "source": [
    "revise()"
   ]
  },
  {
   "cell_type": "markdown",
   "metadata": {},
   "source": [
    "### Diffusion coefficient $D(x)$, relaxation rate $R(x)$, and resonance frequency $\\omega(x)$"
   ]
  },
  {
   "cell_type": "markdown",
   "metadata": {},
   "source": [
    "These functions are defined within `doassemble!`"
   ]
  },
  {
   "cell_type": "markdown",
   "metadata": {},
   "source": [
    "### Trial and test functions\n",
    "A `CellValues` facilitates the process of evaluating values and gradients of\n",
    "test and trial functions (among other things). Since the problem\n",
    "is a scalar problem we will use a `CellScalarValues` object. To define\n",
    "this we need to specify an interpolation space for the shape functions.\n",
    "We use Lagrange functions (both for interpolating the function and the geometry)\n",
    "based on the reference \"cube\". We also define a quadrature rule based on the\n",
    "same reference cube. We combine the interpolation and the quadrature rule\n",
    "to a `CellScalarValues` object."
   ]
  },
  {
   "cell_type": "markdown",
   "metadata": {},
   "source": [
    "### Degrees of freedom\n",
    "Next we need to define a `DofHandler`, which will take care of numbering\n",
    "and distribution of degrees of freedom for our approximated fields.\n",
    "We create the `DofHandler` and then add a single field called `u`.\n",
    "Lastly we `close!` the `DofHandler`, it is now that the dofs are distributed\n",
    "for all the elements."
   ]
  },
  {
   "cell_type": "markdown",
   "metadata": {},
   "source": [
    "Now that we have distributed all our dofs we can create our tangent matrix,\n",
    "using `create_sparsity_pattern`. This function returns a sparse matrix\n",
    "with the correct elements stored."
   ]
  },
  {
   "cell_type": "markdown",
   "metadata": {},
   "source": [
    "We can inspect the pattern using the `spy` function from `UnicodePlots.jl`.\n",
    "By default the stored values are set to $0$, so we first need to\n",
    "fill the stored values, e.g. `K.nzval` with something meaningful."
   ]
  },
  {
   "cell_type": "code",
   "execution_count": null,
   "metadata": {},
   "outputs": [],
   "source": [
    "#using UnicodePlots\n",
    "#fill!(K.nzval, 1.0)\n",
    "#spy(K; height = 25)"
   ]
  },
  {
   "cell_type": "markdown",
   "metadata": {},
   "source": [
    "### Boundary conditions\n",
    "In JuAFEM constraints like Dirichlet boundary conditions are handled by a `ConstraintHandler`. However, here we will have no need to directly enforce boundary conditions, since Neumann boundary conditions have already been applied in the derivation of the weak form."
   ]
  },
  {
   "cell_type": "markdown",
   "metadata": {},
   "source": [
    "### Assembling the linear system\n",
    "Now we have all the pieces needed to assemble the linear system, $K u = f$.\n",
    "We define a function, `doassemble` to do the assembly, which takes our `cellvalues`,\n",
    "the sparse matrix and our DofHandler as input arguments. The function returns the\n",
    "assembled stiffness matrix, and the force vector."
   ]
  },
  {
   "cell_type": "code",
   "execution_count": null,
   "metadata": {},
   "outputs": [],
   "source": [
    "# domain = MyelinDomain(grid, outer_circles, inner_circles, rect_bdry, exteriorgrid, torigrids, interiorgrids;\n",
    "#     quadorder = 1, funcinterporder = 1);\n",
    "domain = MyelinDomain(grid, outer_circles, inner_circles, bounding_box(bcircle), exteriorgrid, torigrids, interiorgrids;\n",
    "    quadorder = 2, funcinterporder = 2);"
   ]
  },
  {
   "cell_type": "code",
   "execution_count": null,
   "metadata": {},
   "outputs": [],
   "source": [
    "doassemble!(domain, btparams);"
   ]
  },
  {
   "cell_type": "code",
   "execution_count": null,
   "metadata": {},
   "outputs": [],
   "source": [
    "factorize!(domain);"
   ]
  },
  {
   "cell_type": "markdown",
   "metadata": {},
   "source": [
    "### Solution of the differential equation system\n",
    "The last step is to solve the system. First we call `doassemble`\n",
    "to obtain the global stiffness matrix `K` and force vector `f`.\n",
    "Then, to account for the boundary conditions, we use the `apply!` function.\n",
    "This modifies elements in `K` and `f` respectively, such that\n",
    "we can get the correct solution vector `u` by using `\\`."
   ]
  },
  {
   "cell_type": "code",
   "execution_count": null,
   "metadata": {},
   "outputs": [],
   "source": [
    "tspan = (0.0,40e-3);\n",
    "u0 = Vec{2}((0.0, 1.0))\n",
    "U0 = interpolate(u0, domain); # vector of vectors\n",
    "# U = deepcopy(U0);"
   ]
  },
  {
   "cell_type": "code",
   "execution_count": null,
   "metadata": {},
   "outputs": [],
   "source": [
    "for i in numsubdomains(domain):-1:1\n",
    "    print(\"i = $i: \")\n",
    "    \n",
    "    subdomain = getsubdomain(domain, i)\n",
    "    Amap = paraboliclinearmap(subdomain)\n",
    "    U[i] = similar(U0[i])\n",
    "    \n",
    "    # Method 1: expmv! from Expokit.jl\n",
    "    #@time Expokit.expmv!(U[i], tspan[end], Amap, U0[i]; tol=1e-4, norm=expmv_norm, m=30);\n",
    "    \n",
    "    # Method 2: direct ODE solution using DifferentialEquations.jl\n",
    "    prob = ODEProblem((du,u,p,t)->A_mul_B!(du,p[1],u), U0[i], tspan, (Amap,));\n",
    "    @time sol = solve(prob, CVODE_BDF(linear_solver=:GMRES); saveat=tspan, reltol=1e-4, alg_hints=:stiff)\n",
    "    U[i] = sol.u[end]\n",
    "end"
   ]
  },
  {
   "cell_type": "code",
   "execution_count": null,
   "metadata": {
    "scrolled": true
   },
   "outputs": [],
   "source": [
    "exp(-tspan[end]*btparams[:R2_lp])"
   ]
  },
  {
   "cell_type": "code",
   "execution_count": null,
   "metadata": {},
   "outputs": [],
   "source": [
    "prob = ODEProblem((du,u,p,t)->A_mul_B!(du,p[1],u), u0, tspan, (Amap,));"
   ]
  },
  {
   "cell_type": "code",
   "execution_count": null,
   "metadata": {},
   "outputs": [],
   "source": [
    "#@time Expokit.expmv!(u, tspan[end], Amap, u0; tol=1e-4, norm=expmv_norm, m=100); # penelope: 17.42s\n",
    "#@time Expokit.expmv!(u, tspan[end], Amap, u0; tol=1e-4, norm=expmv_norm, m=50); # penelope: 30.09s\n",
    "#@time Expokit.expmv!(u, tspan[end], Amap, u0; tol=1e-4, norm=expmv_norm, m=10); # penelope: 103.5s\n",
    "#@time Expokit.expmv!(u, tspan[end], Amap, u0; tol=1e-8, norm=expmv_norm); # penelope: 53.2s\n",
    "#@time Expokit.expmv!(u, tspan[end], Amap, u0; tol=1e-6, norm=expmv_norm); # penelope: 44.4s"
   ]
  },
  {
   "cell_type": "code",
   "execution_count": null,
   "metadata": {},
   "outputs": [],
   "source": [
    "#@time sol = solve(prob, CVODE_BDF(linear_solver=:GMRES); saveat=tspan, reltol=1e-8, alg_hints=:stiff); # penelope: 90.21s\n",
    "#@time sol = solve(prob, CVODE_BDF(linear_solver=:GMRES); saveat=tspan, reltol=1e-4, alg_hints=:stiff); # penelope: 33.44s\n",
    "#@time sol = solve(prob, CVODE_BDF(linear_solver=:BCG); saveat=tspan, reltol=1e-4, alg_hints=:stiff) # penelope: 53.66s\n",
    "#@time sol = solve(prob, CVODE_BDF(linear_solver=:TFQMR); saveat=tspan, reltol=1e-4, alg_hints=:stiff) # penelope: 18.99s but low accuracy"
   ]
  },
  {
   "cell_type": "code",
   "execution_count": null,
   "metadata": {
    "scrolled": true
   },
   "outputs": [],
   "source": [
    "#prob_Ku = ODEProblem(K_mul_u!, u0, tspan, (K,), mass_matrix=M);\n",
    "#@time sol_Ku = solve(prob_Ku, Rosenbrock23(), saveat=tspan, reltol=1e-4, alg_hints=:stiff) #DNF\n",
    "#@time sol_Ku = solve(prob_Ku, Rodas4(), saveat=tspan, reltol=1e-4, alg_hints=:stiff) #DNF"
   ]
  },
  {
   "cell_type": "code",
   "execution_count": null,
   "metadata": {},
   "outputs": [],
   "source": [
    "@show norm(sol.u[end] - u)/maximum(abs,u);\n",
    "@show maximum(sol.u[end] - u)/maximum(abs,u);"
   ]
  },
  {
   "cell_type": "code",
   "execution_count": null,
   "metadata": {},
   "outputs": [],
   "source": []
  },
  {
   "cell_type": "markdown",
   "metadata": {},
   "source": [
    "### Exporting to VTK\n",
    "To visualize the result we export the grid and our field `u`\n",
    "to a VTK-file, which can be viewed in e.g. [ParaView](https://www.paraview.org/)."
   ]
  },
  {
   "cell_type": "code",
   "execution_count": null,
   "metadata": {},
   "outputs": [],
   "source": [
    "vtk_grid(\"bloch_torrey_equation\", dh) do vtk\n",
    "    vtk_point_data(vtk, dh, u)\n",
    "end"
   ]
  },
  {
   "cell_type": "markdown",
   "metadata": {},
   "source": [
    "*This notebook was generated using [Literate.jl](https://github.com/fredrikekre/Literate.jl).*"
   ]
  }
 ],
 "metadata": {
  "kernelspec": {
   "display_name": "Julia 0.7.0",
   "language": "julia",
   "name": "julia-0.7"
  },
  "language_info": {
   "file_extension": ".jl",
   "mimetype": "application/julia",
   "name": "julia",
   "version": "0.7.0"
  }
 },
 "nbformat": 4,
 "nbformat_minor": 3
}
