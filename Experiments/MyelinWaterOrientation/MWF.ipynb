{
 "cells": [
  {
   "cell_type": "markdown",
   "metadata": {},
   "source": [
    "# Bloch-Torrey Equation"
   ]
  },
  {
   "cell_type": "markdown",
   "metadata": {},
   "source": [
    "## Introduction\n",
    "\n",
    "Here we solve the Bloch-Torrey equation on a unit square, with the diffusion coefficient $D(x)$, relaxation rate $R(x)$, and resonance frequency $\\omega(x)$ all given as a generic functions.\n",
    "The strong form of the Bloch-Torrey equation is given by\n",
    "\n",
    "\\begin{align}\n",
    "    \\frac{\\partial u_x}{\\partial t} &= \\nabla \\cdot (D \\nabla u_x) - R u_x + \\omega u_y  \\quad x \\in \\Omega\\\\\n",
    "    \\frac{\\partial u_y}{\\partial t} &= \\nabla \\cdot (D \\nabla u_y) - R u_y - \\omega u_x  \\quad x \\in \\Omega,\n",
    "\\end{align}\n",
    "\n",
    "where $\\vec{u}=[u_x,u_y]$ is the transverse magnetization, and $\\Omega$ the domain.\n",
    "\n",
    "We will consider homogeneous Neumann boundary conditions such that\n",
    "\n",
    "\\begin{align}\n",
    "    \\nabla \\vec{u}(x) \\cdot \\hat{n} &= \\vec{0}  \\quad x \\in \\partial \\Omega\\\\\n",
    "\\end{align}\n",
    "\n",
    "where $\\partial \\Omega$ denotes the boundary of $\\Omega$, and $\\cdot$ is a tensor contraction.\n",
    "\n",
    "The initial condition is given generically as\n",
    "\n",
    "\\begin{equation}\n",
    "    \\vec{u}(x,t=0) = \\vec{u}_0 (x)  \\quad x \\in \\Omega\n",
    "\\end{equation}\n",
    "\n",
    "\n",
    "The resulting weak form is given by\n",
    "\\begin{align}\n",
    "    \\int_{\\Omega} \\vec{v} \\cdot \\vec{u}_t \\, d\\Omega\n",
    "    &= -\\int_{\\Omega}\n",
    "    -\\vec{v} \\cdot \\nabla \\cdot ( D \\, \\nabla \\vec{u} ) +\n",
    "    R \\, \\vec{v} \\cdot \\vec{u} -\n",
    "    \\omega \\, \\vec{v} \\times \\vec{u}\n",
    "    \\, d\\Omega \\\\\n",
    "    &= -\\int_{\\Omega}\n",
    "    D \\, \\nabla \\vec{v} : \\nabla \\vec{u} +\n",
    "    R \\, \\vec{v} \\cdot \\vec{u} -\n",
    "    \\omega \\, \\vec{v} \\times \\vec{u}\n",
    "    \\, d\\Omega + \n",
    "    \\int_{\\partial\\Omega} \\vec{v} \\cdot (D\\nabla\\vec{u} \\cdot \\hat{n}) \\, d\\Gamma,\n",
    "\\end{align}\n",
    "where $\\vec{v}$ is a suitable test function.\n",
    "\n",
    "In this notebook, we will assume homogeneous Neumann boundary conditions on all boundaries by taking $D\\nabla\\vec{u} \\cdot \\hat{n} = 0$. Therefore, the final weak form is simply\n",
    "\\begin{align}\n",
    "    \\int_{\\Omega} \\vec{v} \\cdot \\vec{u}_t \\, d\\Omega\n",
    "    = -\\int_{\\Omega}\n",
    "    D \\, \\nabla \\vec{v} : \\nabla \\vec{u} +\n",
    "    R \\, \\vec{v} \\cdot \\vec{u} -\n",
    "    \\omega \\, \\vec{v} \\times \\vec{u}\n",
    "    \\, d\\Omega\n",
    "\\end{align}\n",
    "\n",
    "Note: in two dimensions, the cross product is simply a scalar. However, `Tensors.jl` defines the two dimensional cross product by first extending the 2D vectors into 3D. Below, we use the symbol $\\boxtimes$ to denote the scalar version, which is the same as taking the third component of the vector version"
   ]
  },
  {
   "cell_type": "markdown",
   "metadata": {},
   "source": [
    "## Commented Program\n",
    "\n",
    "Now we solve the problem in JuAFEM. What follows is a program spliced with comments.\n",
    "\n",
    "First we load the JuAFEM package."
   ]
  },
  {
   "cell_type": "code",
   "execution_count": 1,
   "metadata": {},
   "outputs": [],
   "source": [
    "# using Distributed\n",
    "# addprocs(8; restrict = true, enable_threaded_blas = true);\n",
    "# @everywhere begin\n",
    "#     include(\"init.jl\")\n",
    "# end"
   ]
  },
  {
   "cell_type": "code",
   "execution_count": 2,
   "metadata": {},
   "outputs": [
    {
     "name": "stderr",
     "output_type": "stream",
     "text": [
      "┌ Info: Recompiling stale cache file /home/coopar7/.julia/compiled/v0.7/Expmv.ji for Expmv [top-level]\n",
      "└ @ Base loading.jl:1185\n",
      "┌ Info: Recompiling stale cache file /home/coopar7/.julia/compiled/v0.7/BlochTorreyUtils.ji for BlochTorreyUtils [top-level]\n",
      "└ @ Base loading.jl:1185\n",
      "WARNING: Method definition iterate(VoronoiDelaunay.DelaunayTessellation2D{T} where T<:GeometricalPredicates.AbstractPoint2D) in module VoronoiDelaunay at /home/coopar7/.julia/packages/VoronoiDelaunay/3l7TP/src/VoronoiDelaunay.jl:257 overwritten in module DistMesh at /home/coopar7/Documents/code/BlochTorreyExperiments-master/Experiments/MyelinWaterOrientation/DistMesh/src/distmesh2d.jl:275.\n",
      "┌ Info: Recompiling stale cache file /home/coopar7/.julia/compiled/v0.7/BlochTorreySolvers.ji for BlochTorreySolvers [top-level]\n",
      "└ @ Base loading.jl:1185\n",
      "WARNING: Method definition iterate(VoronoiDelaunay.DelaunayTessellation2D{T} where T<:GeometricalPredicates.AbstractPoint2D) in module VoronoiDelaunay at /home/coopar7/.julia/packages/VoronoiDelaunay/3l7TP/src/VoronoiDelaunay.jl:257 overwritten in module DistMesh at /home/coopar7/Documents/code/BlochTorreyExperiments-master/Experiments/MyelinWaterOrientation/DistMesh/src/distmesh2d.jl:275.\n"
     ]
    }
   ],
   "source": [
    "include(\"init.jl\")"
   ]
  },
  {
   "cell_type": "markdown",
   "metadata": {},
   "source": [
    "**Pack circles**: Pack circles with a specified packing density $\\eta$"
   ]
  },
  {
   "cell_type": "code",
   "execution_count": 3,
   "metadata": {},
   "outputs": [],
   "source": [
    "btparams = BlochTorreyParameters{Float64}(theta = pi/2, g_ratio = 0.8);"
   ]
  },
  {
   "cell_type": "code",
   "execution_count": 4,
   "metadata": {},
   "outputs": [],
   "source": [
    "Dim = 2;\n",
    "Ncircles = 20;\n",
    "\n",
    "rs = rand(radiidistribution(btparams), Ncircles);\n",
    "initial_circles = GreedyCirclePacking.pack(rs; iters = 100);\n",
    "\n",
    "η = 0.8; # goal packing density\n",
    "ϵ = 0.1 * btparams.R_mu; # overlap occurs when distance between circle edges is ≤ ϵ\n",
    "α = 1e-1; # covariance penalty weight (enforces circular distribution)\n",
    "β = 1e-6; # mutual distance penalty weight\n",
    "λ = 1.0; # overlap penalty weight (or lagrange multiplier for constrained version)\n",
    "w = [α, β, λ]; # vector of weights"
   ]
  },
  {
   "cell_type": "code",
   "execution_count": 5,
   "metadata": {},
   "outputs": [
    {
     "data": {
      "text/plain": [
       "-7.771561172376096e-16"
      ]
     },
     "execution_count": 5,
     "metadata": {},
     "output_type": "execute_result"
    }
   ],
   "source": [
    "minimum_signed_edge_distance(initial_circles)"
   ]
  },
  {
   "cell_type": "code",
   "execution_count": 6,
   "metadata": {},
   "outputs": [
    {
     "data": {
      "text/plain": [
       "0.8009382373545971"
      ]
     },
     "execution_count": 6,
     "metadata": {},
     "output_type": "execute_result"
    }
   ],
   "source": [
    "estimate_density(initial_circles)"
   ]
  },
  {
   "cell_type": "code",
   "execution_count": 7,
   "metadata": {
    "scrolled": true
   },
   "outputs": [
    {
     "name": "stdout",
     "output_type": "stream",
     "text": [
      "  6.869644 seconds (14.68 M allocations: 729.323 MiB, 11.12% gc time)\n"
     ]
    }
   ],
   "source": [
    "@time outer_circles = EnergyCirclePacking.pack(initial_circles;\n",
    "    autodiff = false,\n",
    "    secondorder = false,\n",
    "    setcallback = false,\n",
    "    goaldensity = η,\n",
    "    distancescale = btparams.R_mu,\n",
    "    weights = w,\n",
    "    epsilon = ϵ);\n",
    "\n",
    "inner_circles = scale_shape.(outer_circles, btparams.g_ratio);"
   ]
  },
  {
   "cell_type": "code",
   "execution_count": 8,
   "metadata": {},
   "outputs": [
    {
     "name": "stdout",
     "output_type": "stream",
     "text": [
      "covariance_energy(outer_circles) = 0.05296915395198874\n",
      "estimate_density(outer_circles) = 0.8\n",
      "is_any_overlapping(outer_circles) = false\n",
      "(dmin, ϵ, dmin > ϵ) = (0.04897000635587584, 0.046000000000000006, true)\n"
     ]
    }
   ],
   "source": [
    "dmin = minimum_signed_edge_distance(outer_circles)\n",
    "@show covariance_energy(outer_circles)\n",
    "@show estimate_density(outer_circles)\n",
    "@show is_any_overlapping(outer_circles)\n",
    "@show (dmin, ϵ, dmin > ϵ);"
   ]
  },
  {
   "cell_type": "markdown",
   "metadata": {},
   "source": [
    "**Generate mesh**: Rectangular mesh with circles possibly only partly contained or completely excluded"
   ]
  },
  {
   "cell_type": "code",
   "execution_count": 9,
   "metadata": {},
   "outputs": [
    {
     "data": {
      "text/plain": [
       "0.6"
      ]
     },
     "execution_count": 9,
     "metadata": {},
     "output_type": "execute_result"
    }
   ],
   "source": [
    "#Ncircles = length(outer_circles);\n",
    "#Nmin = 50; # points for average circle\n",
    "#h0 = 2pi*R_mu/Nmin; # approximate scale\n",
    "h0 = minimum(radius.(outer_circles))*(1-btparams.g_ratio); # fraction of size of minimum torus width\n",
    "# eta = 5.0; # approx ratio between largest/smallest edges, i.e. max ≈ eta * h0\n",
    "# gamma = 10.0; # max edge length of `eta * h0` occurs approx. `gamma * h0` from circle edges\n",
    "# alpha = 0.7; # power law for edge length scaling between `h0` and `eta * h0`\n",
    "h_min = 1.0h0; # minimum edge length\n",
    "h_max = 5.0h0; # maximum edge length\n",
    "h_range = 10.0h0; # distance over which h increases from h_min to h_max\n",
    "h_rate = 0.6; # rate of increase of h from circle boundaries (power law; smaller = faster radial increase)"
   ]
  },
  {
   "cell_type": "code",
   "execution_count": 10,
   "metadata": {},
   "outputs": [
    {
     "data": {
      "text/plain": [
       "(Rectangle{2,Float64}([-1.3876, -2.95747], [2.01829, 0.448427]), 0.75)"
      ]
     },
     "execution_count": 10,
     "metadata": {},
     "output_type": "execute_result"
    }
   ],
   "source": [
    "bdry, _ = opt_subdomain(outer_circles)"
   ]
  },
  {
   "cell_type": "code",
   "execution_count": 11,
   "metadata": {
    "scrolled": true
   },
   "outputs": [
    {
     "name": "stdout",
     "output_type": "stream",
     "text": [
      "1/20: Interior\n",
      "1/20: Annular\n",
      "2/20: Interior\n",
      "2/20: Annular\n",
      "3/20: Interior\n",
      "3/20: Annular\n",
      "4/20: Interior\n",
      "4/20: Annular\n",
      "5/20: Interior\n",
      "5/20: Annular\n",
      "6/20: Interior\n",
      "6/20: Annular\n",
      "7/20: Interior\n",
      "7/20: Annular\n",
      "8/20: Interior\n",
      "8/20: Annular\n",
      "9/20: Interior\n",
      "9/20: Annular\n",
      "10/20: Interior\n",
      "10/20: Annular\n",
      "11/20: Interior\n",
      "11/20: Annular\n",
      "12/20: Interior\n",
      "12/20: Annular\n",
      "13/20: Interior\n",
      "13/20: Annular\n",
      "14/20: Interior\n",
      "14/20: Annular\n",
      "15/20: Interior\n",
      "15/20: Annular\n",
      "16/20: Interior\n",
      "16/20: Annular\n",
      "17/20: Interior\n",
      "17/20: Annular\n",
      "18/20: Interior\n",
      "18/20: Annular\n",
      "19/20: Interior\n",
      "19/20: Annular\n",
      "20/20: Interior\n",
      "20/20: Annular\n",
      "1/4: Exterior\n",
      "2/4: Exterior\n",
      "3/4: Exterior\n",
      "4/4: Exterior\n",
      " 40.023228 seconds (217.51 M allocations: 7.079 GiB, 14.93% gc time)\n"
     ]
    }
   ],
   "source": [
    "@time exteriorgrids, torigrids, interiorgrids, parentcircleindices = disjoint_rect_mesh_with_tori(\n",
    "    bdry, inner_circles, outer_circles, h_min, h_max, h_range, h_rate;\n",
    "    maxstalliters = 500, plotgrids = false, exterior_tiling = (2, 2)\n",
    ");"
   ]
  },
  {
   "cell_type": "code",
   "execution_count": 12,
   "metadata": {},
   "outputs": [],
   "source": [
    "mxcall(:figure, 0)\n",
    "simpplot.(exteriorgrids; hold = true, axis = mxaxis(bdry));\n",
    "simpplot.(interiorgrids; hold = true, axis = mxaxis(bdry));\n",
    "simpplot.(torigrids; hold = true, axis = mxaxis(bdry));"
   ]
  },
  {
   "cell_type": "markdown",
   "metadata": {},
   "source": [
    "### Diffusion coefficient $D(x)$, relaxation rate $R(x)$, and resonance frequency $\\omega(x)$"
   ]
  },
  {
   "cell_type": "markdown",
   "metadata": {},
   "source": [
    "These functions are defined within `doassemble!`"
   ]
  },
  {
   "cell_type": "markdown",
   "metadata": {},
   "source": [
    "### Trial and test functions\n",
    "A `CellValues` facilitates the process of evaluating values and gradients of\n",
    "test and trial functions (among other things). Since the problem\n",
    "is a scalar problem we will use a `CellScalarValues` object. To define\n",
    "this we need to specify an interpolation space for the shape functions.\n",
    "We use Lagrange functions (both for interpolating the function and the geometry)\n",
    "based on the reference \"cube\". We also define a quadrature rule based on the\n",
    "same reference cube. We combine the interpolation and the quadrature rule\n",
    "to a `CellScalarValues` object."
   ]
  },
  {
   "cell_type": "markdown",
   "metadata": {},
   "source": [
    "### Degrees of freedom\n",
    "Next we need to define a `DofHandler`, which will take care of numbering\n",
    "and distribution of degrees of freedom for our approximated fields.\n",
    "We create the `DofHandler` and then add a single field called `u`.\n",
    "Lastly we `close!` the `DofHandler`, it is now that the dofs are distributed\n",
    "for all the elements."
   ]
  },
  {
   "cell_type": "markdown",
   "metadata": {},
   "source": [
    "Now that we have distributed all our dofs we can create our tangent matrix,\n",
    "using `create_sparsity_pattern`. This function returns a sparse matrix\n",
    "with the correct elements stored."
   ]
  },
  {
   "cell_type": "markdown",
   "metadata": {},
   "source": [
    "We can inspect the pattern using the `spy` function from `UnicodePlots.jl`.\n",
    "By default the stored values are set to $0$, so we first need to\n",
    "fill the stored values, e.g. `K.nzval` with something meaningful."
   ]
  },
  {
   "cell_type": "code",
   "execution_count": 13,
   "metadata": {},
   "outputs": [],
   "source": [
    "#using UnicodePlots\n",
    "#fill!(K.nzval, 1.0)\n",
    "#spy(K; height = 25)"
   ]
  },
  {
   "cell_type": "markdown",
   "metadata": {},
   "source": [
    "### Boundary conditions\n",
    "In JuAFEM constraints like Dirichlet boundary conditions are handled by a `ConstraintHandler`. However, here we will have no need to directly enforce boundary conditions, since Neumann boundary conditions have already been applied in the derivation of the weak form."
   ]
  },
  {
   "cell_type": "markdown",
   "metadata": {},
   "source": [
    "### Assembling the linear system\n",
    "Now we have all the pieces needed to assemble the linear system, $K u = f$.\n",
    "We define a function, `doassemble` to do the assembly, which takes our `cellvalues`,\n",
    "the sparse matrix and our DofHandler as input arguments. The function returns the\n",
    "assembled stiffness matrix, and the force vector."
   ]
  },
  {
   "cell_type": "code",
   "execution_count": 14,
   "metadata": {},
   "outputs": [],
   "source": [
    "# domains = MyelinDomain(grid, outer_circles, inner_circles, bdry, exteriorgrid, torigrids, interiorgrids; quadorder = 3, funcinterporder = 1);\n",
    "myelindomains = createmyelindomains(exteriorgrids, torigrids, interiorgrids, outer_circles, inner_circles);"
   ]
  },
  {
   "cell_type": "code",
   "execution_count": 15,
   "metadata": {},
   "outputs": [],
   "source": [
    "myelinprob = MyelinProblem(btparams);"
   ]
  },
  {
   "cell_type": "code",
   "execution_count": 16,
   "metadata": {},
   "outputs": [
    {
     "name": "stdout",
     "output_type": "stream",
     "text": [
      "  3.127751 seconds (19.37 M allocations: 510.343 MiB, 14.75% gc time)\n"
     ]
    }
   ],
   "source": [
    "# @time doassemble!(prob, domains);\n",
    "@time map!(m -> doassemble!(m, myelinprob), myelindomains, myelindomains);"
   ]
  },
  {
   "cell_type": "code",
   "execution_count": 17,
   "metadata": {},
   "outputs": [
    {
     "name": "stdout",
     "output_type": "stream",
     "text": [
      "  0.293760 seconds (516.32 k allocations: 32.911 MiB, 3.34% gc time)\n"
     ]
    }
   ],
   "source": [
    "# @time factorize!(domains);\n",
    "@time map!(m -> (factorize!(getdomain(m)); return m), myelindomains, myelindomains);"
   ]
  },
  {
   "cell_type": "code",
   "execution_count": 18,
   "metadata": {},
   "outputs": [],
   "source": [
    "omegavalues = map(myelindomains) do m\n",
    "    ω = BlochTorreyProblem(myelinprob, m).Omega\n",
    "    return map(getnodes(getgrid(m))) do node\n",
    "        ω(getcoordinates(node))\n",
    "    end\n",
    "end;"
   ]
  },
  {
   "cell_type": "code",
   "execution_count": 19,
   "metadata": {},
   "outputs": [
    {
     "name": "stderr",
     "output_type": "stream",
     "text": [
      "┌ Warning: Deprecated syntax `implicit assignment to global variable `w``.\n",
      "│ Use `global w` instead.\n",
      "└ @ nothing none:0\n",
      "┌ Warning: Loop variable `w` around In[19]:2 overwrites a variable in an enclosing scope. In the future the variable will be local to the loop instead.\n",
      "└ @ nothing In[19]:2\n"
     ]
    }
   ],
   "source": [
    "mxcall(:figure, 0)\n",
    "for (m,w) in Iterators.reverse(zip(myelindomains, omegavalues))\n",
    "    simpplot(getgrid(m); hold = true, axis = mxaxis(bdry), facecol = w);\n",
    "end"
   ]
  },
  {
   "cell_type": "markdown",
   "metadata": {},
   "source": [
    "### Solution of the differential equation system\n",
    "The last step is to solve the system. First we call `doassemble`\n",
    "to obtain the global stiffness matrix `K` and force vector `f`.\n",
    "Then, to account for the boundary conditions, we use the `apply!` function.\n",
    "This modifies elements in `K` and `f` respectively, such that\n",
    "we can get the correct solution vector `u` by using `\\`."
   ]
  },
  {
   "cell_type": "code",
   "execution_count": 20,
   "metadata": {},
   "outputs": [],
   "source": [
    "tspan = (0.0, 320.0e-3);\n",
    "dt = 10e-3;\n",
    "# saveat = tspan[1]:dt:tspan[2];\n",
    "# tstops = (tspan[1] .+ dt/2 .+ dt .* (1:round(Int, (tspan[2]-tspan[1])/dt)))\n",
    "u0 = Vec{2}((0.0, 1.0)); # initial pi/2 pulse"
   ]
  },
  {
   "cell_type": "code",
   "execution_count": 21,
   "metadata": {},
   "outputs": [],
   "source": [
    "probs = [ODEProblem(m, interpolate(u0, m), tspan) for m in myelindomains];"
   ]
  },
  {
   "cell_type": "code",
   "execution_count": 22,
   "metadata": {},
   "outputs": [],
   "source": [
    "sols = Vector{ODESolution}(undef, length(probs));"
   ]
  },
  {
   "cell_type": "code",
   "execution_count": 23,
   "metadata": {},
   "outputs": [
    {
     "name": "stdout",
     "output_type": "stream",
     "text": [
      "i = 1/39:  34.343674 seconds (50.54 M allocations: 6.172 GiB, 10.15% gc time)\n",
      "i = 2/39:   2.420318 seconds (688.82 k allocations: 928.100 MiB, 6.03% gc time)\n",
      "i = 3/39:   3.352004 seconds (1.23 M allocations: 1.475 GiB, 6.77% gc time)\n",
      "i = 4/39:   5.513699 seconds (799.84 k allocations: 1.101 GiB, 3.43% gc time)\n",
      "i = 5/39:   3.330074 seconds (1.18 M allocations: 1.370 GiB, 6.36% gc time)\n",
      "i = 6/39:   1.249144 seconds (427.65 k allocations: 545.157 MiB, 6.61% gc time)\n",
      "i = 7/39:   6.613541 seconds (1.48 M allocations: 2.659 GiB, 5.94% gc time)\n",
      "i = 8/39:   8.547364 seconds (1.50 M allocations: 2.556 GiB, 4.55% gc time)\n",
      "i = 9/39:   0.716327 seconds (170.03 k allocations: 206.183 MiB, 4.73% gc time)\n",
      "i = 10/39:  12.155078 seconds (1.31 M allocations: 1.925 GiB, 2.45% gc time)\n",
      "i = 11/39:  10.892541 seconds (1.26 M allocations: 1.627 GiB, 2.64% gc time)\n",
      "i = 12/39:   4.961075 seconds (1.07 M allocations: 1.514 GiB, 4.94% gc time)\n",
      "i = 13/39:   2.839080 seconds (1.35 M allocations: 1.143 GiB, 7.06% gc time)\n",
      "i = 14/39:   5.898504 seconds (1.32 M allocations: 1.799 GiB, 4.89% gc time)\n",
      "i = 15/39:   1.054170 seconds (385.80 k allocations: 456.588 MiB, 6.60% gc time)\n",
      "i = 16/39:   0.419068 seconds (156.09 k allocations: 164.816 MiB, 6.82% gc time)\n",
      "i = 17/39:   0.448469 seconds (162.94 k allocations: 192.944 MiB, 7.06% gc time)\n",
      "i = 18/39:   4.624976 seconds (884.36 k allocations: 2.046 GiB, 6.93% gc time)\n",
      "i = 19/39:   1.521897 seconds (438.45 k allocations: 641.980 MiB, 6.45% gc time)\n",
      "i = 20/39:   3.050238 seconds (659.13 k allocations: 1.050 GiB, 5.26% gc time)\n",
      "i = 21/39:   5.334111 seconds (732.47 k allocations: 1.156 GiB, 3.45% gc time)\n",
      "i = 22/39:   1.215718 seconds (451.52 k allocations: 654.328 MiB, 8.12% gc time)\n",
      "i = 23/39:   1.069845 seconds (419.82 k allocations: 582.857 MiB, 8.40% gc time)\n",
      "i = 24/39:   4.317725 seconds (800.68 k allocations: 1.997 GiB, 7.23% gc time)\n",
      "i = 25/39:   4.359203 seconds (886.89 k allocations: 1.910 GiB, 7.06% gc time)\n",
      "i = 26/39:   1.153175 seconds (401.08 k allocations: 556.935 MiB, 7.25% gc time)\n",
      "i = 27/39:   2.113813 seconds (644.54 k allocations: 1.170 GiB, 8.28% gc time)\n",
      "i = 28/39:   1.380486 seconds (510.89 k allocations: 747.635 MiB, 8.26% gc time)\n",
      "i = 29/39:   3.728245 seconds (1.07 M allocations: 1.785 GiB, 7.52% gc time)\n",
      "i = 30/39:   1.947010 seconds (646.10 k allocations: 1023.330 MiB, 7.95% gc time)\n",
      "i = 31/39:   4.622059 seconds (667.53 k allocations: 1.076 GiB, 3.69% gc time)\n",
      "i = 32/39:   4.222119 seconds (491.53 k allocations: 640.079 MiB, 2.34% gc time)\n",
      "i = 33/39:   1.504158 seconds (472.52 k allocations: 609.016 MiB, 6.28% gc time)\n",
      "i = 34/39:   0.996786 seconds (366.89 k allocations: 492.098 MiB, 7.45% gc time)\n",
      "i = 35/39:   0.045965 seconds (11.57 k allocations: 7.228 MiB, 8.01% gc time)\n",
      "i = 36/39: 236.171989 seconds (24.82 M allocations: 108.554 GiB, 6.76% gc time)\n",
      "i = 37/39:  59.346796 seconds (8.56 M allocations: 27.942 GiB, 7.05% gc time)\n",
      "i = 38/39: 391.772484 seconds (50.78 M allocations: 193.930 GiB, 7.25% gc time)\n",
      "i = 39/39:  83.675140 seconds (10.03 M allocations: 41.095 GiB, 6.93% gc time)\n",
      "923.062214 seconds (169.89 M allocations: 415.305 GiB, 6.91% gc time)\n"
     ]
    }
   ],
   "source": [
    "@time for i in eachindex(sols, probs)\n",
    "    print(\"i = $i/$(length(sols)): \")\n",
    "    A = probs[i].p[1]\n",
    "    sols[i] = @time solve(probs[i], ExpokitExpmv(A; m = 30);\n",
    "        dt = dt,\n",
    "        reltol = 1e-4,\n",
    "        callback = MultiSpinEchoCallback(tspan; TE = dt)\n",
    "    )\n",
    "end;"
   ]
  },
  {
   "cell_type": "code",
   "execution_count": 24,
   "metadata": {},
   "outputs": [],
   "source": [
    "S = map(myelindomains, sols) do m, s\n",
    "    [integrate(s(t), m) for t in tspan[1]:dt:tspan[2]]\n",
    "end;"
   ]
  },
  {
   "cell_type": "code",
   "execution_count": 25,
   "metadata": {},
   "outputs": [],
   "source": [
    "Stotal = sum(S);"
   ]
  },
  {
   "cell_type": "code",
   "execution_count": 26,
   "metadata": {},
   "outputs": [],
   "source": [
    "# Stotals = Dict{Int,Any}();\n",
    "# push!(Stotals, 90 => Stotal);\n",
    "# push!(Stotals, 0 => Stotal)"
   ]
  },
  {
   "cell_type": "code",
   "execution_count": 27,
   "metadata": {},
   "outputs": [
    {
     "name": "stdout",
     "output_type": "stream",
     "text": [
      "btparams.R2_lp = 15.873015873015873\n",
      "(-1 / Tspan) * log(norm(Stotal[end]) / norm(Stotal[1])) = 16.955360374530144\n",
      "exp(-(tspan[end]) * btparams.R2_lp) = 0.006223859418487457\n",
      "norm(Stotal[end]) / norm(Stotal[1]) = 0.004401916257272793\n"
     ]
    }
   ],
   "source": [
    "Tspan = tspan[2] - tspan[1]\n",
    "@show btparams.R2_lp;\n",
    "@show (-1/Tspan)*log(norm(Stotal[end])/norm(Stotal[1]));\n",
    "@show exp(-tspan[end]*btparams.R2_lp);\n",
    "@show norm(Stotal[end])/norm(Stotal[1]);"
   ]
  },
  {
   "cell_type": "code",
   "execution_count": 28,
   "metadata": {},
   "outputs": [
    {
     "data": {
      "text/plain": [
       "0.2920561165866082"
      ]
     },
     "execution_count": 28,
     "metadata": {},
     "output_type": "execute_result"
    }
   ],
   "source": [
    "myelin_area = intersect_area(outer_circles, bdry) - intersect_area(inner_circles, bdry)\n",
    "total_area = area(bdry)\n",
    "exact_mwf = myelin_area/total_area"
   ]
  },
  {
   "cell_type": "code",
   "execution_count": 29,
   "metadata": {},
   "outputs": [],
   "source": [
    "mxcall(:addpath, 0, \"/home/coopar7/Documents/code/BlochTorreyExperiments-master/Experiments/MyelinWaterOrientation/MATLAB/SE_corr/\");"
   ]
  },
  {
   "cell_type": "code",
   "execution_count": 36,
   "metadata": {},
   "outputs": [
    {
     "data": {
      "text/plain": [
       "0.27325065471209015"
      ]
     },
     "execution_count": 36,
     "metadata": {},
     "output_type": "execute_result"
    }
   ],
   "source": [
    "MWImaps, MWIdist, MWIpart = fitmwfmodel(Stotal, NNLSRegression();\n",
    "    T2Range = [10e-3, 2.0],\n",
    "    spwin = [10e-3, 40e-3],\n",
    "    mpwin = [41e-3, 200e-3],\n",
    "    nT2 = 32,\n",
    "    RefConAngle = 165.0,\n",
    "    PLOTDIST = true\n",
    ");\n",
    "getmwf(NNLSRegression(), MWImaps, MWIdist, MWIpart)"
   ]
  },
  {
   "cell_type": "code",
   "execution_count": 31,
   "metadata": {},
   "outputs": [],
   "source": [
    "# TestStotalMagn = mwimodel(TwoPoolMagnToMagn(), tspan[1]:dt:tspan[2], modelfit.param)\n",
    "# TestStotal = [Vec{2}((zero(y),y)) for y in TestStotalMagn];"
   ]
  },
  {
   "cell_type": "code",
   "execution_count": 116,
   "metadata": {
    "scrolled": false
   },
   "outputs": [
    {
     "name": "stdout",
     "output_type": "stream",
     "text": [
      "Model: TwoPoolMagnToMagn()\n",
      "mwf: 0.2827439734742542\n"
     ]
    },
    {
     "data": {
      "text/plain": [
       "4×2 Array{Float64,2}:\n",
       "  3.17098  0.00176576\n",
       "  8.04404  0.00219064\n",
       " 66.7613   0.079303  \n",
       " 15.873    0.00254488"
      ]
     },
     "metadata": {},
     "output_type": "display_data"
    },
    {
     "name": "stdout",
     "output_type": "stream",
     "text": [
      "Model: ThreePoolMagnToMagn()\n",
      "mwf: 0.2825122411749458\n"
     ]
    },
    {
     "data": {
      "text/plain": [
       "6×2 Array{Float64,2}:\n",
       "  3.16857    0.0162875\n",
       "  5.52833  638.951    \n",
       "  2.5188   638.934    \n",
       " 66.8205     0.269605 \n",
       " 15.7308    26.4624   \n",
       " 16.2055    62.4889   "
      ]
     },
     "metadata": {},
     "output_type": "display_data"
    },
    {
     "name": "stdout",
     "output_type": "stream",
     "text": [
      "Model: ThreePoolCplxToMagn()\n",
      "mwf: 0.2710987416132759\n"
     ]
    },
    {
     "data": {
      "text/plain": [
       "8×2 Array{Float64,2}:\n",
       "  3.0356      0.948621\n",
       "  5.72177   601.708   \n",
       "  2.44001   602.643   \n",
       " 67.4323     10.1688  \n",
       " 15.2282    112.529   \n",
       " 18.0145    416.236   \n",
       "  1.97499    55.4821  \n",
       "  0.235784   57.1368  "
      ]
     },
     "metadata": {},
     "output_type": "display_data"
    },
    {
     "name": "stdout",
     "output_type": "stream",
     "text": [
      "Model: ThreePoolCplxToCplx()\n",
      "mwf: 0.2817141963919488\n"
     ]
    },
    {
     "data": {
      "text/plain": [
       "10×2 Array{Float64,2}:\n",
       "  3.16042   0.0452979  \n",
       "  7.38051   1.55456    \n",
       "  0.677603  1.59665    \n",
       " 67.0826    0.815931   \n",
       " 15.611     0.360911   \n",
       " 18.9044    2.50322    \n",
       " 50.2988    0.0527338  \n",
       " 49.9838    0.0394197  \n",
       " 50.5878    1.00425    \n",
       " -1.57074   0.000748027"
      ]
     },
     "metadata": {},
     "output_type": "display_data"
    }
   ],
   "source": [
    "modeltypes = (TwoPoolMagnToMagn(), ThreePoolMagnToMagn(), ThreePoolCplxToMagn(), ThreePoolCplxToCplx())\n",
    "for modeltype in modeltypes\n",
    "    local modelfit, errors, mwf\n",
    "    println(\"Model: $modeltype\"); flush(stdout)\n",
    "    modelfit, errors = fitmwfmodel(Stotal, modeltype; TE = dt);\n",
    "    mwf = getmwf(modeltype, modelfit, errors)\n",
    "    println(\"mwf: $mwf\"); flush(stdout)\n",
    "    errors == nothing ? display(modelfit.param) : display([modelfit.param errors]); flush(stdout)\n",
    "end"
   ]
  },
  {
   "cell_type": "code",
   "execution_count": 117,
   "metadata": {
    "scrolled": true
   },
   "outputs": [
    {
     "name": "stdout",
     "output_type": "stream",
     "text": [
      "getmwf(Stotal, TwoPoolMagnToMagn(); TE=dt, fitmethod=:local) = 0.2827439734754173\n",
      "getmwf(Stotal, ThreePoolMagnToMagn(); TE=dt, fitmethod=:local) = 0.2825122411749458\n",
      "getmwf(Stotal, ThreePoolCplxToMagn(); TE=dt, fitmethod=:local) = 0.2710987416132759\n",
      "getmwf(Stotal, ThreePoolCplxToCplx(); TE=dt, fitmethod=:local) = 0.2817141963919488\n"
     ]
    }
   ],
   "source": [
    "@show getmwf(Stotal, TwoPoolMagnToMagn(); TE = dt, fitmethod = :local);\n",
    "@show getmwf(Stotal, ThreePoolMagnToMagn(); TE = dt, fitmethod = :local);\n",
    "@show getmwf(Stotal, ThreePoolCplxToMagn(); TE = dt, fitmethod = :local);\n",
    "@show getmwf(Stotal, ThreePoolCplxToCplx(); TE = dt, fitmethod = :local);"
   ]
  },
  {
   "cell_type": "code",
   "execution_count": 108,
   "metadata": {},
   "outputs": [],
   "source": [
    "p0 = initialparams(ThreePoolCplxToCplx(), ts, Stotal)[1];\n",
    "modelfit, errors = fitmwfmodel(Stotal, ThreePoolCplxToCplx(); TE = dt);"
   ]
  },
  {
   "cell_type": "code",
   "execution_count": 109,
   "metadata": {
    "scrolled": true
   },
   "outputs": [
    {
     "data": {
      "text/plain": [
       "33×2 Array{Complex{Float64},2}:\n",
       "  0.000586185+11.2185im             0.0+11.5964im  \n",
       "   -0.0450738-8.48986im      -0.0451118-8.48978im  \n",
       "    0.0546488+6.68979im       0.0529386+6.69008im  \n",
       "   -0.0524674-5.4242im       -0.0525789-5.42419im  \n",
       "    0.0471917+4.48268im       0.0486624+4.48241im  \n",
       "   -0.0417105-3.75013im      -0.0434694-3.74979im  \n",
       "    0.0367748+3.16134im        0.038089+3.1611im   \n",
       "   -0.0324405-2.67755im      -0.0330114-2.67747im  \n",
       "    0.0285982+2.2743im        0.0284292+2.2744im   \n",
       "   -0.0251402-1.93516im      -0.0243914-1.9354im   \n",
       "    0.0219968+1.64833im       0.0208806+1.64867im  \n",
       "   -0.0191307-1.40494im      -0.0178514-1.40533im  \n",
       "    0.0165239+1.19797im       0.0152494+1.19836im  \n",
       "             ⋮                                     \n",
       "  -0.00303313-0.287254im    -0.00366105-0.286927im \n",
       "   0.00237848+0.245198im     0.00312372+0.244812im \n",
       "  -0.00183282-0.209312im    -0.00266526-0.208878im \n",
       "   0.00138164+0.17869im      0.00227408+0.17822im  \n",
       "  -0.00101174-0.152558im    -0.00194028-0.152061im \n",
       "  0.000711241+0.130256im     0.00165554+0.129742im \n",
       " -0.000469577-0.111221im    -0.00141251-0.110699im \n",
       "  0.000277448+0.0949743im    0.00120522+0.0944505im\n",
       " -0.000126728-0.0811062im    -0.0010283-0.0805873im\n",
       "   1.03822e-5+0.0692676im   0.000877411+0.068759im \n",
       "   7.76441e-5-0.0591609im  -0.000748582-0.0586667im\n",
       " -0.000142521+0.0505321im    2.90799e-8+0.0510462im"
      ]
     },
     "execution_count": 109,
     "metadata": {},
     "output_type": "execute_result"
    }
   ],
   "source": [
    "# mwimodel(ThreePoolCplxToCplx(), ts, modelfit.param);\n",
    "[mwimodel(ThreePoolCplxToCplx(), ts,  modelfit.param) |> x -> reinterpret(ComplexF64, x) complex.(Stotal)]\n",
    "# [mwimodel(ThreePoolCplxToCplx(), ts, p0) |> x -> reinterpret(ComplexF64, x) complex.(Stotal)]"
   ]
  },
  {
   "cell_type": "code",
   "execution_count": 37,
   "metadata": {},
   "outputs": [],
   "source": [
    "ts = collect(tspan[1]:dt:tspan[2])\n",
    "y_biexp = @. (total_area - myelin_area) * exp(-ts*btparams.R2_lp) + myelin_area * exp(-ts*btparams.R2_sp);"
   ]
  },
  {
   "cell_type": "code",
   "execution_count": 38,
   "metadata": {},
   "outputs": [],
   "source": [
    "mxcall(:figure, 0)\n",
    "mxcall(:plot, 0, collect(ts), norm.(Stotal))\n",
    "mxcall(:hold, 0, \"on\")\n",
    "mxcall(:plot, 0, collect(ts), y_biexp)"
   ]
  },
  {
   "cell_type": "code",
   "execution_count": null,
   "metadata": {},
   "outputs": [],
   "source": [
    "# prob = ODEProblem((du,u,p,t)->A_mul_B!(du,p[1],u), u0, tspan, (Amap,));"
   ]
  },
  {
   "cell_type": "code",
   "execution_count": null,
   "metadata": {},
   "outputs": [],
   "source": [
    "#@time Expokit.expmv!(u, tspan[end], Amap, u0; tol=1e-4, norm=expmv_norm, m=100); # penelope: 17.42s\n",
    "#@time Expokit.expmv!(u, tspan[end], Amap, u0; tol=1e-4, norm=expmv_norm, m=50); # penelope: 30.09s\n",
    "#@time Expokit.expmv!(u, tspan[end], Amap, u0; tol=1e-4, norm=expmv_norm, m=10); # penelope: 103.5s\n",
    "#@time Expokit.expmv!(u, tspan[end], Amap, u0; tol=1e-8, norm=expmv_norm); # penelope: 53.2s\n",
    "#@time Expokit.expmv!(u, tspan[end], Amap, u0; tol=1e-6, norm=expmv_norm); # penelope: 44.4s"
   ]
  },
  {
   "cell_type": "code",
   "execution_count": null,
   "metadata": {},
   "outputs": [],
   "source": [
    "#@time sol = solve(prob, CVODE_BDF(linear_solver=:GMRES); saveat=tspan, reltol=1e-8, alg_hints=:stiff); # penelope: 90.21s\n",
    "#@time sol = solve(prob, CVODE_BDF(linear_solver=:GMRES); saveat=tspan, reltol=1e-4, alg_hints=:stiff); # penelope: 33.44s\n",
    "#@time sol = solve(prob, CVODE_BDF(linear_solver=:BCG); saveat=tspan, reltol=1e-4, alg_hints=:stiff) # penelope: 53.66s\n",
    "#@time sol = solve(prob, CVODE_BDF(linear_solver=:TFQMR); saveat=tspan, reltol=1e-4, alg_hints=:stiff) # penelope: 18.99s but low accuracy"
   ]
  },
  {
   "cell_type": "code",
   "execution_count": null,
   "metadata": {
    "scrolled": true
   },
   "outputs": [],
   "source": [
    "#prob_Ku = ODEProblem(K_mul_u!, u0, tspan, (K,), mass_matrix=M);\n",
    "#@time sol_Ku = solve(prob_Ku, Rosenbrock23(), saveat=tspan, reltol=1e-4, alg_hints=:stiff) #DNF\n",
    "#@time sol_Ku = solve(prob_Ku, Rodas4(), saveat=tspan, reltol=1e-4, alg_hints=:stiff) #DNF"
   ]
  },
  {
   "cell_type": "code",
   "execution_count": null,
   "metadata": {},
   "outputs": [],
   "source": [
    "# @show norm(sol.u[end] - u)/maximum(abs,u);\n",
    "# @show maximum(sol.u[end] - u)/maximum(abs,u);"
   ]
  },
  {
   "cell_type": "code",
   "execution_count": null,
   "metadata": {},
   "outputs": [],
   "source": []
  },
  {
   "cell_type": "markdown",
   "metadata": {},
   "source": [
    "# Testing"
   ]
  },
  {
   "cell_type": "code",
   "execution_count": 123,
   "metadata": {},
   "outputs": [],
   "source": [
    "using BlochTorreyUtilsTest"
   ]
  },
  {
   "cell_type": "markdown",
   "metadata": {},
   "source": [
    "## Single Axon"
   ]
  },
  {
   "cell_type": "code",
   "execution_count": 234,
   "metadata": {
    "scrolled": true
   },
   "outputs": [
    {
     "name": "stdout",
     "output_type": "stream",
     "text": [
      "1/1: Interior\n",
      "1/1: Annular\n",
      "1/1: Exterior\n",
      "  1.435347 seconds (13.87 M allocations: 449.447 MiB, 22.82% gc time)\n",
      "\u001b[37m\u001b[1mTest Summary: | \u001b[22m\u001b[39m\u001b[32m\u001b[1mPass  \u001b[22m\u001b[39m\u001b[36m\u001b[1mTotal\u001b[22m\u001b[39m\n",
      "Single Axon   | \u001b[32m  18  \u001b[39m\u001b[36m   18\u001b[39m\n"
     ]
    }
   ],
   "source": [
    "BlochTorreyUtilsTest.singleaxontests(\n",
    "    BlochTorreyParameters{Float64}(\n",
    "        ChiI = -60e-9,\n",
    "        ChiA = -120e-9\n",
    "    );\n",
    "    PLOTOMEGA = false#true\n",
    ");"
   ]
  },
  {
   "cell_type": "code",
   "execution_count": null,
   "metadata": {},
   "outputs": [
    {
     "name": "stdout",
     "output_type": "stream",
     "text": [
      "1/20: Interior\n",
      "1/20: Annular\n"
     ]
    }
   ],
   "source": [
    "domainsetup = BlochTorreyUtilsTest.multipleaxons();"
   ]
  },
  {
   "cell_type": "code",
   "execution_count": null,
   "metadata": {},
   "outputs": [],
   "source": [
    "BlochTorreyUtilsTest.multipleaxontests(\n",
    "    BlochTorreyParameters{Float64}(\n",
    "        ChiI = -60e-9,\n",
    "        ChiA = -120e-9\n",
    "    ),\n",
    "    domainsetup;\n",
    "    PLOTOMEGA = false#true\n",
    ");"
   ]
  },
  {
   "cell_type": "markdown",
   "metadata": {},
   "source": [
    "### Exporting to VTK\n",
    "To visualize the result we export the grid and our field `u`\n",
    "to a VTK-file, which can be viewed in e.g. [ParaView](https://www.paraview.org/)."
   ]
  },
  {
   "cell_type": "code",
   "execution_count": null,
   "metadata": {},
   "outputs": [],
   "source": [
    "# vtk_grid(\"bloch_torrey_equation\", dh) do vtk\n",
    "#     vtk_point_data(vtk, dh, u)\n",
    "# end"
   ]
  }
 ],
 "metadata": {
  "kernelspec": {
   "display_name": "Julia 0.7.0",
   "language": "julia",
   "name": "julia-0.7"
  },
  "language_info": {
   "file_extension": ".jl",
   "mimetype": "application/julia",
   "name": "julia",
   "version": "0.7.0"
  }
 },
 "nbformat": 4,
 "nbformat_minor": 3
}
