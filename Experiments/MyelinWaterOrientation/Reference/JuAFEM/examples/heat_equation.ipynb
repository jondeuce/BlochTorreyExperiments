{
 "cells": [
  {
   "cell_type": "markdown",
   "metadata": {},
   "source": [
    "### Setting Paths\n",
    "\n",
    "![](heat_equation.png)"
   ]
  },
  {
   "cell_type": "code",
   "execution_count": 2,
   "metadata": {},
   "outputs": [
    {
     "data": {
      "text/plain": [
       "\"/home/jdoucette/Documents/code/BlochTorreyExperiments-master/Experiments/MyelinWaterOrientation/Project.toml\""
      ]
     },
     "execution_count": 2,
     "metadata": {},
     "output_type": "execute_result"
    }
   ],
   "source": [
    "using Revise\n",
    "import Pkg; Pkg.activate(\"../../../.\"); # Activate MyelinWaterOrientation project"
   ]
  },
  {
   "cell_type": "markdown",
   "metadata": {},
   "source": [
    "# Steady-State Heat Equation"
   ]
  },
  {
   "cell_type": "markdown",
   "metadata": {},
   "source": [
    "## Introduction\n",
    "\n",
    "The heat equation is the \"Hello, world!\" equation of finite elements.\n",
    "Here we solve the equation on a unit square, with a uniform internal source.\n",
    "The strong form of the (linear) heat equation is given by\n",
    "\n",
    "\\begin{equation}\n",
    " -\\nabla \\cdot (k \\nabla u) = f  \\quad x \\in \\Omega,\n",
    "\\end{equation}\n",
    "\n",
    "where $u$ is the unknown temperature field, $k$ the heat conductivity,\n",
    "$f$ the heat source and $\\Omega$ the domain. For simplicity we set $f = 1$\n",
    "and $k = 1$. We will consider homogeneous Dirichlet boundary conditions such that\n",
    "\\begin{equation}\n",
    "u(x) = 0 \\quad x \\in \\partial \\Omega,\n",
    "\\end{equation}\n",
    "where $\\partial \\Omega$ denotes the boundary of $\\Omega$.\n",
    "\n",
    "The resulting weak form is given by\n",
    "\\begin{equation}\n",
    "\\int_{\\Omega} \\nabla v \\cdot \\nabla u \\ d\\Omega = \\int_{\\Omega} v \\ d\\Omega,\n",
    "\\end{equation}\n",
    "where $v$ is a suitable test function."
   ]
  },
  {
   "cell_type": "markdown",
   "metadata": {},
   "source": [
    "## Commented Program\n",
    "\n",
    "Now we solve the problem in JuAFEM. What follows is a program spliced with comments.\n",
    "\n",
    "First we load the JuAFEM package."
   ]
  },
  {
   "cell_type": "code",
   "execution_count": 36,
   "metadata": {},
   "outputs": [],
   "source": [
    "using JuAFEM, SparseArrays"
   ]
  },
  {
   "cell_type": "markdown",
   "metadata": {},
   "source": [
    "We start  generating a simple grid with 20x20 quadrilateral elements\n",
    "using `generate_grid`. The generator defaults to the unit square,\n",
    "so we don't need to specify the corners of the domain."
   ]
  },
  {
   "cell_type": "code",
   "execution_count": 2075,
   "metadata": {},
   "outputs": [],
   "source": [
    "# grid = generate_grid(Quadrilateral, (20, 20));\n",
    "# grid = generate_grid(Triangle, (20, 20));\n",
    "# grid = generate_grid(Triangle, (100, 100));\n",
    "# grid = generate_grid(Triangle, (2, 4));\n",
    "# grid = generate_grid(Triangle, (4, 8));\n",
    "# grid = generate_grid(Triangle, (16, 32));\n",
    "grid = generate_grid(Triangle, (32, 64));"
   ]
  },
  {
   "cell_type": "markdown",
   "metadata": {},
   "source": [
    "### Trial and test functions\n",
    "A `CellValues` facilitates the process of evaluating values and gradients of\n",
    "test and trial functions (among other things). Since the problem\n",
    "is a scalar problem we will use a `CellScalarValues` object. To define\n",
    "this we need to specify an interpolation space for the shape functions.\n",
    "We use Lagrange functions (both for interpolating the function and the geometry)\n",
    "based on the reference \"cube\". We also define a quadrature rule based on the\n",
    "same reference cube. We combine the interpolation and the quadrature rule\n",
    "to a `CellScalarValues` object."
   ]
  },
  {
   "cell_type": "code",
   "execution_count": 38,
   "metadata": {},
   "outputs": [],
   "source": [
    "dim = 2\n",
    "# ip = Lagrange{dim, RefCube, 1}()\n",
    "# qr = QuadratureRule{dim, RefCube}(2)\n",
    "ip = Lagrange{dim, RefTetrahedron, 1}()\n",
    "qr = QuadratureRule{dim, RefTetrahedron}(3)\n",
    "cellvalues = CellScalarValues(qr, ip);"
   ]
  },
  {
   "cell_type": "markdown",
   "metadata": {},
   "source": [
    "### Degrees of freedom\n",
    "Next we need to define a `DofHandler`, which will take care of numbering\n",
    "and distribution of degrees of freedom for our approximated fields.\n",
    "We create the `DofHandler` and then add a single field called `u`.\n",
    "Lastly we `close!` the `DofHandler`, it is now that the dofs are distributed\n",
    "for all the elements."
   ]
  },
  {
   "cell_type": "code",
   "execution_count": 39,
   "metadata": {},
   "outputs": [],
   "source": [
    "dh = DofHandler(grid)\n",
    "push!(dh, :u, 1)\n",
    "close!(dh);"
   ]
  },
  {
   "cell_type": "markdown",
   "metadata": {},
   "source": [
    "Now that we have distributed all our dofs we can create our tangent matrix,\n",
    "using `create_sparsity_pattern`. This function returns a sparse matrix\n",
    "with the correct elements stored."
   ]
  },
  {
   "cell_type": "code",
   "execution_count": 40,
   "metadata": {},
   "outputs": [],
   "source": [
    "K = create_sparsity_pattern(dh);"
   ]
  },
  {
   "cell_type": "markdown",
   "metadata": {},
   "source": [
    "We can inspect the pattern using the `spy` function from `UnicodePlots.jl`.\n",
    "By default the stored values are set to $0$, so we first need to\n",
    "fill the stored values, e.g. `K.nzval` with something meaningful."
   ]
  },
  {
   "cell_type": "code",
   "execution_count": 41,
   "metadata": {},
   "outputs": [
    {
     "data": {
      "text/plain": [
       "\u001b[1m              Sparsity Pattern\u001b[22m\n",
       "\u001b[90m       ┌──────────────────────────────┐\u001b[39m    \n",
       "     \u001b[90m1\u001b[39m\u001b[90m │\u001b[39m\u001b[31m⠻\u001b[39m\u001b[31m⣦\u001b[39m\u001b[31m⡈\u001b[39m\u001b[31m⢧\u001b[39m\u001b[0m⠀\u001b[0m⠀\u001b[0m⠀\u001b[0m⠀\u001b[0m⠀\u001b[0m⠀\u001b[0m⠀\u001b[0m⠀\u001b[0m⠀\u001b[0m⠀\u001b[0m⠀\u001b[0m⠀\u001b[0m⠀\u001b[0m⠀\u001b[0m⠀\u001b[0m⠀\u001b[0m⠀\u001b[0m⠀\u001b[0m⠀\u001b[0m⠀\u001b[0m⠀\u001b[0m⠀\u001b[0m⠀\u001b[0m⠀\u001b[0m⠀\u001b[0m⠀\u001b[90m│\u001b[39m \u001b[31m> 0\u001b[39m\n",
       "      \u001b[90m │\u001b[39m\u001b[31m⠦\u001b[39m\u001b[31m⣌\u001b[39m\u001b[31m⡻\u001b[39m\u001b[31m⣮\u001b[39m\u001b[31m⣧\u001b[39m\u001b[31m⡀\u001b[39m\u001b[0m⠀\u001b[0m⠀\u001b[0m⠀\u001b[0m⠀\u001b[0m⠀\u001b[0m⠀\u001b[0m⠀\u001b[0m⠀\u001b[0m⠀\u001b[0m⠀\u001b[0m⠀\u001b[0m⠀\u001b[0m⠀\u001b[0m⠀\u001b[0m⠀\u001b[0m⠀\u001b[0m⠀\u001b[0m⠀\u001b[0m⠀\u001b[0m⠀\u001b[0m⠀\u001b[0m⠀\u001b[0m⠀\u001b[0m⠀\u001b[90m│\u001b[39m \u001b[34m< 0\u001b[39m\n",
       "      \u001b[90m │\u001b[39m\u001b[0m⠀\u001b[0m⠀\u001b[31m⠉\u001b[39m\u001b[31m⠻\u001b[39m\u001b[31m⣿\u001b[39m\u001b[31m⣿\u001b[39m\u001b[31m⣦\u001b[39m\u001b[31m⡀\u001b[39m\u001b[0m⠀\u001b[0m⠀\u001b[0m⠀\u001b[0m⠀\u001b[0m⠀\u001b[0m⠀\u001b[0m⠀\u001b[0m⠀\u001b[0m⠀\u001b[0m⠀\u001b[0m⠀\u001b[0m⠀\u001b[0m⠀\u001b[0m⠀\u001b[0m⠀\u001b[0m⠀\u001b[0m⠀\u001b[0m⠀\u001b[0m⠀\u001b[0m⠀\u001b[0m⠀\u001b[0m⠀\u001b[90m│\u001b[39m    \n",
       "      \u001b[90m │\u001b[39m\u001b[0m⠀\u001b[0m⠀\u001b[0m⠀\u001b[0m⠀\u001b[31m⠈\u001b[39m\u001b[31m⠻\u001b[39m\u001b[31m⣿\u001b[39m\u001b[31m⣿\u001b[39m\u001b[31m⣦\u001b[39m\u001b[31m⡀\u001b[39m\u001b[0m⠀\u001b[0m⠀\u001b[0m⠀\u001b[0m⠀\u001b[0m⠀\u001b[0m⠀\u001b[0m⠀\u001b[0m⠀\u001b[0m⠀\u001b[0m⠀\u001b[0m⠀\u001b[0m⠀\u001b[0m⠀\u001b[0m⠀\u001b[0m⠀\u001b[0m⠀\u001b[0m⠀\u001b[0m⠀\u001b[0m⠀\u001b[0m⠀\u001b[90m│\u001b[39m    \n",
       "      \u001b[90m │\u001b[39m\u001b[0m⠀\u001b[0m⠀\u001b[0m⠀\u001b[0m⠀\u001b[0m⠀\u001b[0m⠀\u001b[31m⠈\u001b[39m\u001b[31m⠻\u001b[39m\u001b[31m⣿\u001b[39m\u001b[31m⣿\u001b[39m\u001b[31m⢦\u001b[39m\u001b[31m⡀\u001b[39m\u001b[0m⠀\u001b[0m⠀\u001b[0m⠀\u001b[0m⠀\u001b[0m⠀\u001b[0m⠀\u001b[0m⠀\u001b[0m⠀\u001b[0m⠀\u001b[0m⠀\u001b[0m⠀\u001b[0m⠀\u001b[0m⠀\u001b[0m⠀\u001b[0m⠀\u001b[0m⠀\u001b[0m⠀\u001b[0m⠀\u001b[90m│\u001b[39m    \n",
       "      \u001b[90m │\u001b[39m\u001b[0m⠀\u001b[0m⠀\u001b[0m⠀\u001b[0m⠀\u001b[0m⠀\u001b[0m⠀\u001b[0m⠀\u001b[0m⠀\u001b[31m⠈\u001b[39m\u001b[31m⠳\u001b[39m\u001b[31m⣿\u001b[39m\u001b[31m⣿\u001b[39m\u001b[31m⣦\u001b[39m\u001b[31m⡀\u001b[39m\u001b[0m⠀\u001b[0m⠀\u001b[0m⠀\u001b[0m⠀\u001b[0m⠀\u001b[0m⠀\u001b[0m⠀\u001b[0m⠀\u001b[0m⠀\u001b[0m⠀\u001b[0m⠀\u001b[0m⠀\u001b[0m⠀\u001b[0m⠀\u001b[0m⠀\u001b[0m⠀\u001b[90m│\u001b[39m    \n",
       "      \u001b[90m │\u001b[39m\u001b[0m⠀\u001b[0m⠀\u001b[0m⠀\u001b[0m⠀\u001b[0m⠀\u001b[0m⠀\u001b[0m⠀\u001b[0m⠀\u001b[0m⠀\u001b[0m⠀\u001b[31m⠈\u001b[39m\u001b[31m⠻\u001b[39m\u001b[31m⣿\u001b[39m\u001b[31m⣿\u001b[39m\u001b[31m⣦\u001b[39m\u001b[31m⡀\u001b[39m\u001b[0m⠀\u001b[0m⠀\u001b[0m⠀\u001b[0m⠀\u001b[0m⠀\u001b[0m⠀\u001b[0m⠀\u001b[0m⠀\u001b[0m⠀\u001b[0m⠀\u001b[0m⠀\u001b[0m⠀\u001b[0m⠀\u001b[0m⠀\u001b[90m│\u001b[39m    \n",
       "      \u001b[90m │\u001b[39m\u001b[0m⠀\u001b[0m⠀\u001b[0m⠀\u001b[0m⠀\u001b[0m⠀\u001b[0m⠀\u001b[0m⠀\u001b[0m⠀\u001b[0m⠀\u001b[0m⠀\u001b[0m⠀\u001b[0m⠀\u001b[31m⠈\u001b[39m\u001b[31m⠻\u001b[39m\u001b[31m⣿\u001b[39m\u001b[31m⣿\u001b[39m\u001b[31m⣦\u001b[39m\u001b[31m⡀\u001b[39m\u001b[0m⠀\u001b[0m⠀\u001b[0m⠀\u001b[0m⠀\u001b[0m⠀\u001b[0m⠀\u001b[0m⠀\u001b[0m⠀\u001b[0m⠀\u001b[0m⠀\u001b[0m⠀\u001b[0m⠀\u001b[90m│\u001b[39m    \n",
       "      \u001b[90m │\u001b[39m\u001b[0m⠀\u001b[0m⠀\u001b[0m⠀\u001b[0m⠀\u001b[0m⠀\u001b[0m⠀\u001b[0m⠀\u001b[0m⠀\u001b[0m⠀\u001b[0m⠀\u001b[0m⠀\u001b[0m⠀\u001b[0m⠀\u001b[0m⠀\u001b[31m⠈\u001b[39m\u001b[31m⠻\u001b[39m\u001b[31m⣿\u001b[39m\u001b[31m⣿\u001b[39m\u001b[31m⣦\u001b[39m\u001b[31m⡀\u001b[39m\u001b[0m⠀\u001b[0m⠀\u001b[0m⠀\u001b[0m⠀\u001b[0m⠀\u001b[0m⠀\u001b[0m⠀\u001b[0m⠀\u001b[0m⠀\u001b[0m⠀\u001b[90m│\u001b[39m    \n",
       "      \u001b[90m │\u001b[39m\u001b[0m⠀\u001b[0m⠀\u001b[0m⠀\u001b[0m⠀\u001b[0m⠀\u001b[0m⠀\u001b[0m⠀\u001b[0m⠀\u001b[0m⠀\u001b[0m⠀\u001b[0m⠀\u001b[0m⠀\u001b[0m⠀\u001b[0m⠀\u001b[0m⠀\u001b[0m⠀\u001b[31m⠈\u001b[39m\u001b[31m⠻\u001b[39m\u001b[31m⣿\u001b[39m\u001b[31m⣿\u001b[39m\u001b[31m⢦\u001b[39m\u001b[31m⡀\u001b[39m\u001b[0m⠀\u001b[0m⠀\u001b[0m⠀\u001b[0m⠀\u001b[0m⠀\u001b[0m⠀\u001b[0m⠀\u001b[0m⠀\u001b[90m│\u001b[39m    \n",
       "      \u001b[90m │\u001b[39m\u001b[0m⠀\u001b[0m⠀\u001b[0m⠀\u001b[0m⠀\u001b[0m⠀\u001b[0m⠀\u001b[0m⠀\u001b[0m⠀\u001b[0m⠀\u001b[0m⠀\u001b[0m⠀\u001b[0m⠀\u001b[0m⠀\u001b[0m⠀\u001b[0m⠀\u001b[0m⠀\u001b[0m⠀\u001b[0m⠀\u001b[31m⠈\u001b[39m\u001b[31m⠳\u001b[39m\u001b[31m⣿\u001b[39m\u001b[31m⣿\u001b[39m\u001b[31m⣦\u001b[39m\u001b[31m⡀\u001b[39m\u001b[0m⠀\u001b[0m⠀\u001b[0m⠀\u001b[0m⠀\u001b[0m⠀\u001b[0m⠀\u001b[90m│\u001b[39m    \n",
       "      \u001b[90m │\u001b[39m\u001b[0m⠀\u001b[0m⠀\u001b[0m⠀\u001b[0m⠀\u001b[0m⠀\u001b[0m⠀\u001b[0m⠀\u001b[0m⠀\u001b[0m⠀\u001b[0m⠀\u001b[0m⠀\u001b[0m⠀\u001b[0m⠀\u001b[0m⠀\u001b[0m⠀\u001b[0m⠀\u001b[0m⠀\u001b[0m⠀\u001b[0m⠀\u001b[0m⠀\u001b[31m⠈\u001b[39m\u001b[31m⠻\u001b[39m\u001b[31m⣿\u001b[39m\u001b[31m⣿\u001b[39m\u001b[31m⣦\u001b[39m\u001b[31m⡀\u001b[39m\u001b[0m⠀\u001b[0m⠀\u001b[0m⠀\u001b[0m⠀\u001b[90m│\u001b[39m    \n",
       "      \u001b[90m │\u001b[39m\u001b[0m⠀\u001b[0m⠀\u001b[0m⠀\u001b[0m⠀\u001b[0m⠀\u001b[0m⠀\u001b[0m⠀\u001b[0m⠀\u001b[0m⠀\u001b[0m⠀\u001b[0m⠀\u001b[0m⠀\u001b[0m⠀\u001b[0m⠀\u001b[0m⠀\u001b[0m⠀\u001b[0m⠀\u001b[0m⠀\u001b[0m⠀\u001b[0m⠀\u001b[0m⠀\u001b[0m⠀\u001b[31m⠈\u001b[39m\u001b[31m⠻\u001b[39m\u001b[31m⣿\u001b[39m\u001b[31m⣿\u001b[39m\u001b[31m⣦\u001b[39m\u001b[31m⡀\u001b[39m\u001b[0m⠀\u001b[0m⠀\u001b[90m│\u001b[39m    \n",
       "      \u001b[90m │\u001b[39m\u001b[0m⠀\u001b[0m⠀\u001b[0m⠀\u001b[0m⠀\u001b[0m⠀\u001b[0m⠀\u001b[0m⠀\u001b[0m⠀\u001b[0m⠀\u001b[0m⠀\u001b[0m⠀\u001b[0m⠀\u001b[0m⠀\u001b[0m⠀\u001b[0m⠀\u001b[0m⠀\u001b[0m⠀\u001b[0m⠀\u001b[0m⠀\u001b[0m⠀\u001b[0m⠀\u001b[0m⠀\u001b[0m⠀\u001b[0m⠀\u001b[31m⠈\u001b[39m\u001b[31m⠻\u001b[39m\u001b[31m⣿\u001b[39m\u001b[31m⣿\u001b[39m\u001b[31m⣦\u001b[39m\u001b[31m⡀\u001b[39m\u001b[90m│\u001b[39m    \n",
       "   \u001b[90m441\u001b[39m\u001b[90m │\u001b[39m\u001b[0m⠀\u001b[0m⠀\u001b[0m⠀\u001b[0m⠀\u001b[0m⠀\u001b[0m⠀\u001b[0m⠀\u001b[0m⠀\u001b[0m⠀\u001b[0m⠀\u001b[0m⠀\u001b[0m⠀\u001b[0m⠀\u001b[0m⠀\u001b[0m⠀\u001b[0m⠀\u001b[0m⠀\u001b[0m⠀\u001b[0m⠀\u001b[0m⠀\u001b[0m⠀\u001b[0m⠀\u001b[0m⠀\u001b[0m⠀\u001b[0m⠀\u001b[0m⠀\u001b[31m⠈\u001b[39m\u001b[31m⠻\u001b[39m\u001b[31m⣿\u001b[39m\u001b[31m⣿\u001b[39m\u001b[90m│\u001b[39m    \n",
       "\u001b[90m       └──────────────────────────────┘\u001b[39m    \n",
       "\u001b[90m       1\u001b[39m\u001b[90m              \u001b[39m\u001b[90m              441\u001b[39m\n",
       "\u001b[0m                  nz = 2921"
      ]
     },
     "execution_count": 41,
     "metadata": {},
     "output_type": "execute_result"
    }
   ],
   "source": [
    "using UnicodePlots\n",
    "fill!(K.nzval, 1.0)\n",
    "spy(K; height = 15)"
   ]
  },
  {
   "cell_type": "markdown",
   "metadata": {},
   "source": [
    "### Boundary conditions\n",
    "In JuAFEM constraints like Dirichlet boundary conditions\n",
    "are handled by a `ConstraintHandler`."
   ]
  },
  {
   "cell_type": "code",
   "execution_count": 42,
   "metadata": {},
   "outputs": [],
   "source": [
    "ch = ConstraintHandler(dh);"
   ]
  },
  {
   "cell_type": "markdown",
   "metadata": {},
   "source": [
    "Next we need to add constraints to `ch`. For this problem we define\n",
    "homogeneous Dirichlet boundary conditions on the whole boundary, i.e.\n",
    "the `union` of all the face sets on the boundary."
   ]
  },
  {
   "cell_type": "code",
   "execution_count": 43,
   "metadata": {},
   "outputs": [],
   "source": [
    "∂Ω = union(getfaceset.(Ref(grid), [\"left\", \"right\", \"top\", \"bottom\"])...);"
   ]
  },
  {
   "cell_type": "markdown",
   "metadata": {},
   "source": [
    "Now we are set up to define our constraint. We specify which field\n",
    "the condition is for, and our combined face set `∂Ω`. The last\n",
    "argument is a function which takes the spatial coordinate $x$ and\n",
    "the current time $t$ and returns the prescribed value. In this case\n",
    "it is trivial -- no matter what $x$ and $t$ we return $0$. When we have\n",
    "specified our constraint we `add!` it to `ch`."
   ]
  },
  {
   "cell_type": "code",
   "execution_count": 44,
   "metadata": {},
   "outputs": [],
   "source": [
    "dbc = Dirichlet(:u, ∂Ω, (x, t) -> 0)\n",
    "add!(ch, dbc);"
   ]
  },
  {
   "cell_type": "markdown",
   "metadata": {},
   "source": [
    "We also need to `close!` and `update!` our boundary conditions. When we call `close!`\n",
    "the dofs which will be constrained by the boundary conditions are calculated and stored\n",
    "in our `ch` object. Since the boundary conditions are, in this case,\n",
    "independent of time we can `update!` them directly with e.g. $t = 0$."
   ]
  },
  {
   "cell_type": "code",
   "execution_count": 45,
   "metadata": {},
   "outputs": [],
   "source": [
    "close!(ch)\n",
    "update!(ch, 0.0);"
   ]
  },
  {
   "cell_type": "markdown",
   "metadata": {},
   "source": [
    "### Assembling the linear system\n",
    "Now we have all the pieces needed to assemble the linear system, $K u = f$.\n",
    "We define a function, `doassemble` to do the assembly, which takes our `cellvalues`,\n",
    "the sparse matrix and our DofHandler as input arguments. The function returns the\n",
    "assembled stiffness matrix, and the force vector."
   ]
  },
  {
   "cell_type": "code",
   "execution_count": 46,
   "metadata": {},
   "outputs": [
    {
     "data": {
      "text/plain": [
       "doassemble (generic function with 1 method)"
      ]
     },
     "execution_count": 46,
     "metadata": {},
     "output_type": "execute_result"
    }
   ],
   "source": [
    "function doassemble(cellvalues::CellScalarValues{dim}, K::SparseMatrixCSC, dh::DofHandler) where {dim}\n",
    "    # We allocate the element stiffness matrix and element force vector\n",
    "    # just once before looping over all the cells instead of allocating\n",
    "    # them every time in the loop.\n",
    "    n_basefuncs = getnbasefunctions(cellvalues)\n",
    "    Ke = zeros(n_basefuncs, n_basefuncs)\n",
    "    fe = zeros(n_basefuncs)\n",
    "    # Next we define the global force vector `f` and use that and\n",
    "    # the stiffness matrix `K` and create an assembler. The assembler\n",
    "    # is just a thin wrapper around `f` and `K` and some extra storage\n",
    "    # to make the assembling faster.\n",
    "    f = zeros(ndofs(dh))\n",
    "    assembler = start_assemble(K, f)\n",
    "    # It is now time to loop over all the cells in our grid. We do this by iterating\n",
    "    # over a `CellIterator`. The iterator caches some useful things for us, for example\n",
    "    # the nodal coordinates for the cell, and the local degrees of freedom.\n",
    "    @inbounds for cell in CellIterator(dh)\n",
    "        # Always remember to reset the element stiffness matrix and\n",
    "        # force vector since we reuse them for all elements.\n",
    "        fill!(Ke, 0)\n",
    "        fill!(fe, 0)\n",
    "        # For each cell we also need to reinitialize the cached values in `cellvalues`.\n",
    "        reinit!(cellvalues, cell)\n",
    "        # It is now time to loop over all the quadrature points in the cell and\n",
    "        # assemble the contribution to `Ke` and `fe`. The integration weight\n",
    "        # can be queried from `cellvalues` by `getdetJdV`.\n",
    "        for q_point in 1:getnquadpoints(cellvalues)\n",
    "            dΩ = getdetJdV(cellvalues, q_point)\n",
    "            # For each quadrature point we loop over all the (local) shape functions.\n",
    "            # We need the value and gradient of the testfunction `v` and also the gradient\n",
    "            # of the trial function `u`. We get all of these from `cellvalues`.\n",
    "            for i in 1:n_basefuncs\n",
    "                v  = shape_value(cellvalues, q_point, i)\n",
    "                ∇v = shape_gradient(cellvalues, q_point, i)\n",
    "                fe[i] += v * dΩ\n",
    "                for j in 1:n_basefuncs\n",
    "                    ∇u = shape_gradient(cellvalues, q_point, j)\n",
    "                    Ke[i, j] += (∇v ⋅ ∇u) * dΩ\n",
    "                end\n",
    "            end\n",
    "        end\n",
    "        # The last step in the element loop is to assemble `Ke` and `fe`\n",
    "        # into the global `K` and `f` with `assemble!`.\n",
    "        assemble!(assembler, celldofs(cell), fe, Ke)\n",
    "    end\n",
    "    return K, f\n",
    "end"
   ]
  },
  {
   "cell_type": "markdown",
   "metadata": {},
   "source": [
    "### Solution of the system\n",
    "The last step is to solve the system. First we call `doassemble`\n",
    "to obtain the global stiffness matrix `K` and force vector `f`."
   ]
  },
  {
   "cell_type": "code",
   "execution_count": 211,
   "metadata": {},
   "outputs": [],
   "source": [
    "K, f = doassemble(cellvalues, K, dh);"
   ]
  },
  {
   "cell_type": "markdown",
   "metadata": {},
   "source": [
    "To account for the boundary conditions we use the `apply!` function.\n",
    "This modifies elements in `K` and `f` respectively, such that\n",
    "we can get the correct solution vector `u` by using `\\`."
   ]
  },
  {
   "cell_type": "code",
   "execution_count": 50,
   "metadata": {},
   "outputs": [],
   "source": [
    "# apply!(K, f, ch)\n",
    "# u = K \\ f;"
   ]
  },
  {
   "cell_type": "markdown",
   "metadata": {},
   "source": [
    "### Exporting to VTK\n",
    "To visualize the result we export the grid and our field `u`\n",
    "to a VTK-file, which can be viewed in e.g. [ParaView](https://www.paraview.org/)."
   ]
  },
  {
   "cell_type": "code",
   "execution_count": 51,
   "metadata": {},
   "outputs": [],
   "source": [
    "# vtk_grid(\"heat_equation\", dh) do vtk\n",
    "#     vtk_point_data(vtk, dh, u)\n",
    "# end"
   ]
  },
  {
   "cell_type": "markdown",
   "metadata": {},
   "source": [
    "*This notebook was generated using [Literate.jl](https://github.com/fredrikekre/Literate.jl).*"
   ]
  },
  {
   "cell_type": "markdown",
   "metadata": {},
   "source": [
    "# Bloch-Torrey Equation"
   ]
  },
  {
   "cell_type": "code",
   "execution_count": 17,
   "metadata": {},
   "outputs": [
    {
     "name": "stderr",
     "output_type": "stream",
     "text": [
      "WARNING: using LinearAlgebra.qr in module Main conflicts with an existing identifier.\n",
      "┌ Info: Recompiling stale cache file /home/jdoucette/.julia/compiled/v1.1/Traceur/QT21m.ji for Traceur [37b6cedf-1f77-55f8-9503-c64b63398394]\n",
      "└ @ Base loading.jl:1184\n"
     ]
    }
   ],
   "source": [
    "Revise.includet(\"../../../init.jl\")"
   ]
  },
  {
   "cell_type": "code",
   "execution_count": null,
   "metadata": {},
   "outputs": [],
   "source": [
    "mxcall(:cd, 0, pwd()) # change MATLAB path to current path for saving outputs"
   ]
  },
  {
   "cell_type": "markdown",
   "metadata": {},
   "source": [
    "### Exterior domain"
   ]
  },
  {
   "cell_type": "code",
   "execution_count": 313,
   "metadata": {},
   "outputs": [],
   "source": [
    "# Treat whole domain as one \"exterior\" region; outer/innercircles should be empty, as well as tori/interior grids\n",
    "exteriorgrids, torigrids, interiorgrids = [deepcopy(grid)], typeof(grid)[], typeof(grid)[];\n",
    "outercircles, innercircles = Circle{2,Float64}[], Circle{2,Float64}[];"
   ]
  },
  {
   "cell_type": "markdown",
   "metadata": {},
   "source": [
    "### Interior domain"
   ]
  },
  {
   "cell_type": "code",
   "execution_count": 525,
   "metadata": {},
   "outputs": [],
   "source": [
    "# Treat whole domain as one \"interior\" region\n",
    "emptygrid = Grid(eltype(grid.cells)[], eltype(grid.nodes)[]);\n",
    "exteriorgrids, torigrids, interiorgrids = [deepcopy(emptygrid)], [deepcopy(emptygrid)], [deepcopy(grid)];\n",
    "outercircles, innercircles = [Circle(Vec{2}((0.0,0.0)), 2.0)], [Circle(Vec{2}((0.0,0.0)), 1.5)];"
   ]
  },
  {
   "cell_type": "markdown",
   "metadata": {},
   "source": [
    "### Tori domain"
   ]
  },
  {
   "cell_type": "code",
   "execution_count": 315,
   "metadata": {},
   "outputs": [],
   "source": [
    "# Treat whole domain as one \"tori\" region\n",
    "emptygrid = Grid(eltype(grid.cells)[], eltype(grid.nodes)[]);\n",
    "exteriorgrids, torigrids, interiorgrids = [deepcopy(emptygrid)], [deepcopy(grid)], [deepcopy(emptygrid)];\n",
    "outercircles, innercircles = [Circle(Vec{2}((0.0,-1.5)), 3.0)], [Circle(Vec{2}((0.0,-1.5)), 0.25)];"
   ]
  },
  {
   "cell_type": "markdown",
   "metadata": {},
   "source": [
    "## Stiffness testing"
   ]
  },
  {
   "cell_type": "code",
   "execution_count": 276,
   "metadata": {},
   "outputs": [],
   "source": [
    "btparams = BlochTorreyParameters{Float64}(\n",
    "    theta = π/2,\n",
    "    D_Tissue = 1.0, #0.5, # [μm²/s]\n",
    "    D_Sheath = 1.0, #0.5, # [μm²/s]\n",
    "    D_Axon = 1.0, #0.5, # [μm²/s]\n",
    "    K_perm = 0.0, #1.0 # [μm/s]\n",
    "    B0 = 0.0, #-3.0 # [T]\n",
    "    R2_Tissue = 0.0, # [Hz]\n",
    "    R2_sp = 0.0, # [Hz]\n",
    "    R2_lp = 0.0, # [Hz]\n",
    "    );"
   ]
  },
  {
   "cell_type": "code",
   "execution_count": 277,
   "metadata": {},
   "outputs": [
    {
     "name": "stdout",
     "output_type": "stream",
     "text": [
      "  0.255415 seconds (2.54 M allocations: 49.614 MiB, 7.28% gc time)\n",
      "  0.002285 seconds (33 allocations: 1.065 MiB)\n",
      "  0.007627 seconds (4.15 k allocations: 5.355 MiB)\n",
      "  0.002206 seconds (32 allocations: 1.065 MiB)\n"
     ]
    }
   ],
   "source": [
    "myelinprob, myelinsubdomains, myelindomains = createdomains(btparams,\n",
    "    exteriorgrids, torigrids, interiorgrids, outercircles, innercircles);"
   ]
  },
  {
   "cell_type": "code",
   "execution_count": 278,
   "metadata": {},
   "outputs": [],
   "source": [
    "#NOTE: stiffness matrices are made with the opposite sign in `myelindomains`\n",
    "K1 = -getstiffness(myelindomains[1])[1:2:end, 1:2:end];\n",
    "K2 = -getstiffness(myelindomains[1])[2:2:end, 2:2:end];\n",
    "M1 = getmass(myelindomains[1])[1:2:end, 1:2:end];\n",
    "M2 = getmass(myelindomains[1])[2:2:end, 2:2:end];"
   ]
  },
  {
   "cell_type": "code",
   "execution_count": 279,
   "metadata": {},
   "outputs": [],
   "source": [
    "@assert M1 ≈ M2\n",
    "@assert K1 ≈ K2\n",
    "@assert K ≈ K1\n",
    "@assert K ≈ K2"
   ]
  },
  {
   "cell_type": "markdown",
   "metadata": {},
   "source": [
    "## $\\omega$ contributions"
   ]
  },
  {
   "cell_type": "code",
   "execution_count": 280,
   "metadata": {},
   "outputs": [],
   "source": [
    "btparams = BlochTorreyParameters{Float64}(\n",
    "    theta = π/2,\n",
    "    D_Tissue = 0.0, # [μm²/s]\n",
    "    D_Sheath = 0.0, # [μm²/s]\n",
    "    D_Axon = 0.0, # [μm²/s]\n",
    "    K_perm = 0.0, # [μm/s]\n",
    "    B0 = -3.0, # [T]\n",
    "    R2_Tissue = 0.0, # [Hz]\n",
    "    R2_sp = 0.0, # [Hz]\n",
    "    R2_lp = 0.0, # [Hz]\n",
    "    );"
   ]
  },
  {
   "cell_type": "code",
   "execution_count": 281,
   "metadata": {},
   "outputs": [
    {
     "name": "stdout",
     "output_type": "stream",
     "text": [
      "  0.138190 seconds (2.48 M allocations: 46.536 MiB, 7.46% gc time)\n",
      "  0.002146 seconds (33 allocations: 1.065 MiB)\n",
      "  0.006685 seconds (4.15 k allocations: 5.355 MiB)\n",
      "  0.002157 seconds (32 allocations: 1.065 MiB)\n"
     ]
    }
   ],
   "source": [
    "myelinprob, myelinsubdomains, myelindomains = createdomains(btparams,\n",
    "    exteriorgrids, torigrids, interiorgrids, outercircles, innercircles);"
   ]
  },
  {
   "cell_type": "code",
   "execution_count": 282,
   "metadata": {},
   "outputs": [],
   "source": [
    "#NOTE: stiffness matrices are made with the opposite sign in `myelindomains`\n",
    "K1 = -getstiffness(myelindomains[1])[1:2:end, 1:2:end];\n",
    "K2 = -getstiffness(myelindomains[1])[2:2:end, 2:2:end];"
   ]
  },
  {
   "cell_type": "code",
   "execution_count": 283,
   "metadata": {},
   "outputs": [],
   "source": [
    "@assert maximum(abs, K1) ≈ 0 # Diagonals should be zero for omega testing\n",
    "@assert maximum(abs, K2) ≈ 0"
   ]
  },
  {
   "cell_type": "code",
   "execution_count": 284,
   "metadata": {},
   "outputs": [],
   "source": [
    "#NOTE: stiffness matrices are made with the opposite sign in `myelindomains`\n",
    "W = -getstiffness(myelindomains[1]);"
   ]
  },
  {
   "cell_type": "code",
   "execution_count": 285,
   "metadata": {},
   "outputs": [],
   "source": [
    "@assert W ≈ -W'"
   ]
  },
  {
   "cell_type": "markdown",
   "metadata": {},
   "source": [
    "## $R_2$ contributions"
   ]
  },
  {
   "cell_type": "code",
   "execution_count": 286,
   "metadata": {},
   "outputs": [],
   "source": [
    "btparams = BlochTorreyParameters{Float64}(\n",
    "    theta = π/2,\n",
    "    D_Tissue = 0.0, # [μm²/s]\n",
    "    D_Sheath = 0.0, # [μm²/s]\n",
    "    D_Axon = 0.0, # [μm²/s]\n",
    "    K_perm = 0.0, # [μm/s]\n",
    "    B0 = 0.0, # [T]\n",
    "    R2_Tissue = 1.0, # [Hz]\n",
    "    R2_sp = 1.0, # [Hz]\n",
    "    R2_lp = 1.0, # [Hz]\n",
    "    );"
   ]
  },
  {
   "cell_type": "code",
   "execution_count": 287,
   "metadata": {},
   "outputs": [
    {
     "name": "stdout",
     "output_type": "stream",
     "text": [
      "  0.154433 seconds (2.48 M allocations: 46.536 MiB, 15.19% gc time)\n",
      "  0.002270 seconds (33 allocations: 1.065 MiB)\n",
      "  0.012407 seconds (4.15 k allocations: 5.355 MiB, 40.60% gc time)\n",
      "  0.002197 seconds (32 allocations: 1.065 MiB)\n"
     ]
    }
   ],
   "source": [
    "myelinprob, myelinsubdomains, myelindomains = createdomains(btparams,\n",
    "    exteriorgrids, torigrids, interiorgrids, outercircles, innercircles);"
   ]
  },
  {
   "cell_type": "code",
   "execution_count": 288,
   "metadata": {},
   "outputs": [],
   "source": [
    "#NOTE: stiffness matrices are made with the opposite sign in `myelindomains`\n",
    "R1 = -getstiffness(myelindomains[1])[1:2:end, 1:2:end];\n",
    "R2 = -getstiffness(myelindomains[1])[2:2:end, 2:2:end];\n",
    "M1 = getmass(myelindomains[1])[1:2:end, 1:2:end];\n",
    "M2 = getmass(myelindomains[1])[2:2:end, 2:2:end];"
   ]
  },
  {
   "cell_type": "code",
   "execution_count": 289,
   "metadata": {},
   "outputs": [],
   "source": [
    "@assert R1 ≈ R2\n",
    "@assert M1 ≈ M2\n",
    "@assert R1 ≈ M1\n",
    "@assert isposdef(M1) && isposdef(M2)"
   ]
  },
  {
   "cell_type": "markdown",
   "metadata": {},
   "source": [
    "# Bloch-Torrey Propagation testing"
   ]
  },
  {
   "cell_type": "markdown",
   "metadata": {},
   "source": [
    "### Zero-axon grids"
   ]
  },
  {
   "cell_type": "code",
   "execution_count": 1768,
   "metadata": {},
   "outputs": [],
   "source": [
    "bdry = Rectangle((-1.0,-1.0), (1.0,1.0))\n",
    "p, t = distmesh2d(\n",
    "    x -> drectangle0(x, bdry), # fd\n",
    "    x -> one(eltype(x)), # fh\n",
    "    0.2, # h0\n",
    "    [xmin(bdry) ymin(bdry); xmax(bdry) ymax(bdry)]; # bbox\n",
    "    PLOT = false,\n",
    "    PLOTLAST = false,\n",
    "    MAXSTALLITERS = 10\n",
    ");\n",
    "exteriorgrids = [Grid(p,t)];\n",
    "torigrids, interiorgrids = typeof(exteriorgrids[1])[], typeof(exteriorgrids[1])[];\n",
    "outercircles, innercircles = Circle{2,Float64}[], Circle{2,Float64}[];"
   ]
  },
  {
   "cell_type": "code",
   "execution_count": 1842,
   "metadata": {},
   "outputs": [],
   "source": [
    "let g=interiorgrids[1], n=rand(1:getnnodes(g))\n",
    "    simpplot(g; newfigure = true);\n",
    "    mxcall(:hold, 0, \"on\");\n",
    "\n",
    "    nodes = [c.nodes for c in g.cells if n ∈ c.nodes]\n",
    "    nodes = unique(reduce(vcat, [nds...] for nds in nodes))\n",
    "    coords = g.nodes[nodes] .|> getcoordinates\n",
    "    \n",
    "    X = reshape(reinterpret(Float64, coords), (2,length(coords)))' |> copy\n",
    "    mxcall(:scatter3, 0, X[:,1], X[:,2], ones(size(X,1),1), 100, \"ro\", \"fill\", \"r\")\n",
    "    mxcall(:scatter3, 0, Tuple(g.nodes[n].x)..., 1.0, 100, \"bo\", \"fill\", \"b\")\n",
    "end"
   ]
  },
  {
   "cell_type": "markdown",
   "metadata": {},
   "source": [
    "### Single-axon grids"
   ]
  },
  {
   "cell_type": "code",
   "execution_count": 2089,
   "metadata": {
    "scrolled": false
   },
   "outputs": [
    {
     "name": "stdout",
     "output_type": "stream",
     "text": [
      "covariance_energy(outercircles) = NaN\n",
      "estimate_density(outercircles) = 1.0\n",
      "is_any_overlapping(outercircles) = false\n",
      "(dmin, ϵ, dmin > ϵ) = (Inf, 0.046000000000000006, true)\n",
      "1/1: Interior\n",
      "1/1: Annular\n",
      "1/1, 1/1: Exterior\n",
      "131.867990 seconds (666.95 M allocations: 19.243 GiB, 10.70% gc time)\n",
      "cell_area_mismatch = 0.0\n"
     ]
    }
   ],
   "source": [
    "exteriorgrids, torigrids, interiorgrids, outercircles, innercircles, bdry = creategrids(\n",
    "    BlochTorreyParameters{Float64}(g_ratio = 2//3);\n",
    "    N = 1, # Number of circles\n",
    "    bdry = Rectangle((-1.0,-1.0), (1.0,1.0)),\n",
    "    outercircles = [Circle(Vec{2}((0.0,0.0)), 0.75)],\n",
    "    PLOT = false,\n",
    "    RESOLUTION = 0.125 # 1.0\n",
    ");"
   ]
  },
  {
   "cell_type": "code",
   "execution_count": 2076,
   "metadata": {},
   "outputs": [],
   "source": [
    "# # Keep only \"exterior\" region; outer/innercircles should be empty, as well as tori/interior grids\n",
    "# exteriorgrids, torigrids, interiorgrids = exteriorgrids, typeof(grid)[], typeof(grid)[];\n",
    "# outercircles, innercircles = Circle{2,Float64}[], Circle{2,Float64}[];\n",
    "\n",
    "# # Keep only \"tori\" region\n",
    "# emptygrid = Grid(eltype(grid.cells)[], eltype(grid.nodes)[]);\n",
    "# exteriorgrids, torigrids, interiorgrids = [deepcopy(emptygrid)], torigrids, [deepcopy(emptygrid)];\n",
    "\n",
    "# # Treat whole domain as one \"interior\" region\n",
    "# emptygrid = Grid(eltype(grid.cells)[], eltype(grid.nodes)[]);\n",
    "# exteriorgrids, torigrids, interiorgrids = [deepcopy(emptygrid)], [deepcopy(emptygrid)], interiorgrids;\n",
    "# # exteriorgrids, torigrids, interiorgrids = [deepcopy(emptygrid)], [deepcopy(emptygrid)], [deepcopy(grid)];\n",
    "\n",
    "# Treat whole domain as adjacent \"interior/tori\" regions\n",
    "emptygrid = Grid(eltype(grid.cells)[], eltype(grid.nodes)[]);\n",
    "leftgrid = transform!(deepcopy(grid), x->Vec{2}(((1+x[1])/2 - 1, x[2])))\n",
    "rightgrid = transform!(deepcopy(grid), x->Vec{2}(((1+x[1])/2, x[2])))\n",
    "# _fun = y -> sin(y)/sin(1) #sign(y)*((abs(y)+1)^2 - 1)/3 # non-linear transform\n",
    "# _vfun = x -> Vec{2}((x[1], _fun(x[2]))) # non-linear transform\n",
    "# mullerx = (u,v) -> u ≈ 0 ? zero(u) : sqrt(-log(((u+1)/2)^2))*cos(π*(v+1))\n",
    "# mullery = (u,v) -> u ≈ 0 ? zero(u) : sqrt(-log(((u+1)/2)^2))*sin(π*(v+1))\n",
    "# _vfun = x -> Vec{2}((mullerx(Tuple(x)...), mullery(Tuple(x)...)))\n",
    "# leftgrid = transform!(leftgrid, _vfun) # non-linear transform\n",
    "# rightgrid = transform!(rightgrid, _vfun) # non-linear transform\n",
    "# exteriorgrids, torigrids, interiorgrids = [deepcopy(emptygrid)], [leftgrid], [rightgrid];\n",
    "exteriorgrids, torigrids, interiorgrids = [leftgrid], [rightgrid], [deepcopy(emptygrid)];"
   ]
  },
  {
   "cell_type": "markdown",
   "metadata": {},
   "source": [
    "### Myelin domains"
   ]
  },
  {
   "cell_type": "code",
   "execution_count": 2090,
   "metadata": {},
   "outputs": [],
   "source": [
    "btparams = BlochTorreyParameters{Float64}(\n",
    "    theta = π/2,\n",
    "    g_ratio = 0.7,\n",
    "    D_Tissue = 0.01, #0.0, #1e-3, #1.0e-1, # [μm²/s]\n",
    "    D_Sheath = 0.01, #0.0, #1e-3, #1.0e-1, # [μm²/s]\n",
    "    D_Axon = 0.01, #0.0, #1e-3, #1.0e-1, # [μm²/s]\n",
    "    K_perm = 10.0, #10.0, # [μm/s]\n",
    "    B0 = 0.0, # [T]\n",
    "    R2_Tissue = 1.0, # [Hz]\n",
    "    R2_sp = 1.0, # [Hz]\n",
    "    R2_lp = 1.0, # [Hz]\n",
    "    );"
   ]
  },
  {
   "cell_type": "code",
   "execution_count": 2091,
   "metadata": {
    "scrolled": true
   },
   "outputs": [
    {
     "name": "stdout",
     "output_type": "stream",
     "text": [
      "\n",
      "\n",
      "\n",
      "cell.current_cellid[] = 3\n",
      "cell.nodes = [822, 3, 128]\n",
      "cell.coords = Tensor{1,2,Float64,2}[[0.277426, 0.129591], [0.29401, 0.10001], [0.312744, 0.121694]]\n",
      "celldofs(cell) = [1643, 1644, 5, 6, 255, 256]\n",
      "\n",
      "\n",
      "\n",
      "\n",
      "\n",
      "\n",
      "cell.current_cellid[] = 3\n",
      "cell.nodes = [481, 3, 475]\n",
      "cell.coords = Tensor{1,2,Float64,2}[[0.674345, 0.193951], [0.693157, 0.170788], [0.694374, 0.210888]]\n",
      "celldofs(cell) = [961, 962, 5, 6, 949, 950]\n",
      "\n",
      "\n",
      "\n",
      "\n",
      "\n",
      "\n",
      "cell.current_cellid[] = 3\n",
      "cell.nodes = [2412, 3, 233]\n",
      "cell.coords = Tensor{1,2,Float64,2}[[0.827519, -0.732453], [0.791772, -0.729828], [0.808672, -0.757058]]\n",
      "celldofs(cell) = [4823, 4824, 5, 6, 465, 466]\n",
      "\n",
      "\n",
      "\n",
      "  1.566143 seconds (27.89 M allocations: 526.185 MiB, 18.17% gc time)\n",
      "  0.031585 seconds (119 allocations: 13.814 MiB)\n",
      "length(interfaceindices) = 255\n",
      "length(interfaceindices_brute) = 255\n",
      "2 .* interfaceindices[1] = (3236, 3310, 110, 1812)\n",
      "size(Ks) = (9762, 9762)\n",
      "size(domain.K) = (9762, 9762)\n",
      "(size(IJ), size(IJ_unique)) = ((130316, 2), (130316, 2))\n",
      "(size(IJs), size(IJs_unique)) = ((8160, 2), (6120, 2))\n",
      "  0.471020 seconds (38.49 k allocations: 75.161 MiB, 7.14% gc time)\n",
      "  0.033103 seconds (43 allocations: 14.275 MiB)\n"
     ]
    }
   ],
   "source": [
    "myelinprob, myelinsubdomains, myelindomains = createdomains(btparams,\n",
    "    exteriorgrids, torigrids, interiorgrids, outercircles, innercircles);"
   ]
  },
  {
   "cell_type": "markdown",
   "metadata": {},
   "source": [
    "### Propagate"
   ]
  },
  {
   "cell_type": "code",
   "execution_count": 2092,
   "metadata": {
    "scrolled": false
   },
   "outputs": [
    {
     "name": "stdout",
     "output_type": "stream",
     "text": [
      "i = 1/1: \n",
      "  2.456808 seconds (17.06 k allocations: 411.710 MiB, 6.50% gc time)\n",
      "  2.536729 seconds (17.97 k allocations: 432.178 MiB, 6.61% gc time)\n"
     ]
    }
   ],
   "source": [
    "sols = solveblochtorrey(myelinprob, myelindomains;#, get_algfun(Tsit5());\n",
    "    tspan = (0.0, 1.0), # (0.0, 320.0e-3)\n",
    "    TE = 0.1, # 10e-3\n",
    "    ts = 0.0:0.1:1.0, # tspan[1]:TE/2:tspan[2], # tstops, which includes π-pulse times\n",
    "    u0 = Vec{2}((0.0, 1.0)), # initial π/2 pulse\n",
    "    cb = nothing, # MultiSpinEchoCallback(tspan; TE = TE),\n",
    "    reltol = 1e-4,\n",
    "    abstol = 1e-4\n",
    ");"
   ]
  },
  {
   "cell_type": "code",
   "execution_count": 2093,
   "metadata": {},
   "outputs": [],
   "source": [
    "paramstr = \"theta = $(rad2deg(btparams.theta)) deg, D = $(btparams.D_Tissue) um2/s, K = $(btparams.K_perm) um/s\"\n",
    "plotmagnitude(sols, btparams, myelindomains, bdry; titlestr = \"Magnitude: \" * paramstr)\n",
    "# plotphase(sols, btparams, myelindomains, bdry; titlestr = \"Phase: \" * paramstr)"
   ]
  },
  {
   "cell_type": "code",
   "execution_count": 1366,
   "metadata": {},
   "outputs": [],
   "source": [
    "# simpplot(getgrid.(myelindomains); newfigure = true, axis = mxaxis(bdry), facecol = calcomega(myelinprob, myelinsubdomains))"
   ]
  },
  {
   "cell_type": "code",
   "execution_count": null,
   "metadata": {},
   "outputs": [],
   "source": []
  },
  {
   "cell_type": "code",
   "execution_count": 2059,
   "metadata": {},
   "outputs": [],
   "source": [
    "# let m = myelinsubdomains[1], d = getdomain(m), g=getgrid(d)#, n=rand(1:getnnodes(g))\n",
    "#     dh = getdofhandler(d)\n",
    "#     perm = zeros(Int, ndofs(dh))\n",
    "#     for cell in CellIterator(getdofhandler(d))\n",
    "#         for (i,n) in enumerate(cell.nodes)\n",
    "#             perm[cell.celldofs[2i-1]] = 2n-1\n",
    "#             perm[cell.celldofs[2i]] = 2n\n",
    "#         end\n",
    "#     end\n",
    "#     @show perm\n",
    "#     @show isperm(perm)\n",
    "# end"
   ]
  },
  {
   "cell_type": "code",
   "execution_count": 2060,
   "metadata": {},
   "outputs": [],
   "source": [
    "# let m = myelindomains[1], d = getdomain(m), g=getgrid(d)#, n=rand(1:getnnodes(g))\n",
    "# #     dh = getdofhandler(d)\n",
    "#     for n in 91#rand(1:getnnodes(g))\n",
    "#         @show n\n",
    "#         all_idxs = []\n",
    "#         for cell in CellIterator(getdofhandler(d))\n",
    "#             if n ∈ cell.nodes\n",
    "# #                 @show cell.current_cellid[]\n",
    "#                 @show cell.nodes\n",
    "#                 @show cell.celldofs\n",
    "#                 idx = findall(cell.nodes.==n)[]\n",
    "#                 push!(all_idxs, cell.celldofs[2*idx-1:2*idx])\n",
    "#             end\n",
    "#         end\n",
    "#         if length(unique(all_idxs)) != 1\n",
    "#             @show n\n",
    "#             @show all_idxs\n",
    "#         end\n",
    "#     end\n",
    "# end"
   ]
  },
  {
   "cell_type": "code",
   "execution_count": 2061,
   "metadata": {},
   "outputs": [],
   "source": [
    "# utest = map(myelinsubdomains) do m\n",
    "#     Ktest = copy(getstiffness(m));\n",
    "#     xtest = getcoordinates.(getnodes(getgrid(getdomain(m))));\n",
    "#     circfuntest = x -> norm2(x - Vec{2}((0.5,0.5))) <= (0.5 + 1e-6)^2\n",
    "#     ftest = reinterpret(Float64, [circfuntest(x) ? Vec{2}((0.0,1.0)) : zero(x) for x in xtest]) |> copy\n",
    "#     utest = Ktest\\ftest;\n",
    "#     utest\n",
    "# end"
   ]
  },
  {
   "cell_type": "code",
   "execution_count": 2062,
   "metadata": {},
   "outputs": [],
   "source": [
    "# # simpplot(getgrid.(myelinsubdomains);\n",
    "# #     newfigure = true, axis = mxaxis(bdry),\n",
    "# #     facecol = norm.(reinterpret(Vec{2,Float64}, reduce(vcat, utest))))\n",
    "# for (m,u) in zip(myelinsubdomains, utest)\n",
    "#     simpplot(getgrid(m);\n",
    "#         newfigure = true, axis = mxaxis(bdry),\n",
    "#         facecol = norm.(reinterpret(Vec{2,Float64}, u)))\n",
    "# end"
   ]
  },
  {
   "cell_type": "code",
   "execution_count": 2063,
   "metadata": {},
   "outputs": [],
   "source": [
    "# mxcall(:scatter3, 0, [0.437048], [0.0315435], [1.0], \".\")"
   ]
  },
  {
   "cell_type": "code",
   "execution_count": 2064,
   "metadata": {},
   "outputs": [],
   "source": [
    "# getnnodes.(getgrid.(getdomain.(myelinsubdomains))) |> sum;\n",
    "# getnnodes.(getgrid.(getdomain.([myelinsubdomains[1]])))"
   ]
  },
  {
   "cell_type": "code",
   "execution_count": 2065,
   "metadata": {},
   "outputs": [],
   "source": [
    "# # spy(getstiffness(myedoms[1]); height = 30);\n",
    "# # getstiffness(myedoms[1])[1,:] |> Array |> x -> x[.!(x.≈0)]\n",
    "# Kmye = getstiffness(myedoms[1])[1:30,1:30] |> Array;\n",
    "# length.([Kmye[i,.!(Kmye[i,:].≈0)] for i in 2:2:size(Kmye,1)]) |> sort"
   ]
  },
  {
   "cell_type": "code",
   "execution_count": 2066,
   "metadata": {},
   "outputs": [],
   "source": [
    "# spy(getstiffness(adjdoms[1]); height = 30);\n",
    "# getstiffness(adjdoms[1])[rand(1:180),:] |> Array |> x -> x[.!(x.≈0)]"
   ]
  },
  {
   "cell_type": "code",
   "execution_count": null,
   "metadata": {},
   "outputs": [],
   "source": []
  },
  {
   "cell_type": "code",
   "execution_count": 2101,
   "metadata": {},
   "outputs": [],
   "source": [
    "# adjdoms = deepcopy(myelindomains); adjsols = deepcopy(sols);\n",
    "# myedoms = deepcopy(myelindomains); myesols = deepcopy(sols);"
   ]
  },
  {
   "cell_type": "code",
   "execution_count": 2102,
   "metadata": {},
   "outputs": [
    {
     "data": {
      "text/plain": [
       "1-element Array{Tensor{1,2,Float64,2},1}:\n",
       " [0.0, 1.87518]"
      ]
     },
     "execution_count": 2102,
     "metadata": {},
     "output_type": "execute_result"
    }
   ],
   "source": [
    "calcsignal(adjsols, [1.0], adjdoms)"
   ]
  },
  {
   "cell_type": "code",
   "execution_count": 2103,
   "metadata": {},
   "outputs": [
    {
     "data": {
      "text/plain": [
       "1-element Array{Tensor{1,2,Float64,2},1}:\n",
       " [0.0, 1.87435]"
      ]
     },
     "execution_count": 2103,
     "metadata": {},
     "output_type": "execute_result"
    }
   ],
   "source": [
    "calcsignal(myesols, [1.0], myedoms)"
   ]
  },
  {
   "cell_type": "code",
   "execution_count": 2104,
   "metadata": {},
   "outputs": [
    {
     "name": "stdout",
     "output_type": "stream",
     "text": [
      "(f, f(u1), f(u2)) = (maximum, 0.9047550126737877, 0.9047310804667412)\n",
      "(f, f(u1), f(u2)) = (minimum, 0.3678793319269998, 0.3678794409593569)\n",
      "(f, f(u1), f(u2)) = (Statistics.median, 0.3678821193082785, 0.36788162819249215)\n",
      "(f, f(u1), f(u2)) = (Statistics.mean, 0.46671248173147506, 0.4673273668827028)\n"
     ]
    }
   ],
   "source": [
    "for f in [maximum, minimum, median, mean]\n",
    "    u1 = adjsols[1].u[end][2:2:end]\n",
    "    u2 = myesols[1].u[end][2:2:end]\n",
    "    @show f, f(u1), f(u2)\n",
    "end"
   ]
  },
  {
   "cell_type": "code",
   "execution_count": 2105,
   "metadata": {},
   "outputs": [
    {
     "data": {
      "text/plain": [
       "\u001b[90m                ┌                                        ┐\u001b[39m \n",
       "   \u001b[0m\u001b[90m[\u001b[0m0.36\u001b[90m, \u001b[0m0.38\u001b[90m)\u001b[0m\u001b[90m ┤\u001b[39m\u001b[32m▇▇▇▇▇▇▇▇▇▇▇▇▇▇▇▇▇▇▇▇▇▇▇▇▇▇▇▇▇▇▇▇▇▇\u001b[39m\u001b[0m 2967 \u001b[90m \u001b[39m \n",
       "   \u001b[0m\u001b[90m[\u001b[0m0.38\u001b[90m, \u001b[0m0.4 \u001b[90m)\u001b[0m\u001b[90m ┤\u001b[39m\u001b[32m▇\u001b[39m\u001b[0m 124                                   \u001b[90m \u001b[39m \n",
       "   \u001b[0m\u001b[90m[\u001b[0m0.4 \u001b[90m, \u001b[0m0.42\u001b[90m)\u001b[0m\u001b[90m ┤\u001b[39m\u001b[32m▇\u001b[39m\u001b[0m 78                                    \u001b[90m \u001b[39m \n",
       "   \u001b[0m\u001b[90m[\u001b[0m0.42\u001b[90m, \u001b[0m0.44\u001b[90m)\u001b[0m\u001b[90m ┤\u001b[39m\u001b[32m▇\u001b[39m\u001b[0m 49                                    \u001b[90m \u001b[39m \n",
       "   \u001b[0m\u001b[90m[\u001b[0m0.44\u001b[90m, \u001b[0m0.46\u001b[90m)\u001b[0m\u001b[90m ┤\u001b[39m\u001b[32m▇\u001b[39m\u001b[0m 55                                    \u001b[90m \u001b[39m \n",
       "   \u001b[0m\u001b[90m[\u001b[0m0.46\u001b[90m, \u001b[0m0.48\u001b[90m)\u001b[0m\u001b[90m ┤\u001b[39m\u001b[0m 24                                     \u001b[90m \u001b[39m \n",
       "   \u001b[0m\u001b[90m[\u001b[0m0.48\u001b[90m, \u001b[0m0.5 \u001b[90m)\u001b[0m\u001b[90m ┤\u001b[39m\u001b[0m 37                                     \u001b[90m \u001b[39m \n",
       "   \u001b[0m\u001b[90m[\u001b[0m0.5 \u001b[90m, \u001b[0m0.52\u001b[90m)\u001b[0m\u001b[90m ┤\u001b[39m\u001b[0m 27                                     \u001b[90m \u001b[39m \n",
       "   \u001b[0m\u001b[90m[\u001b[0m0.52\u001b[90m, \u001b[0m0.54\u001b[90m)\u001b[0m\u001b[90m ┤\u001b[39m\u001b[0m 29                                     \u001b[90m \u001b[39m \n",
       "   \u001b[0m\u001b[90m[\u001b[0m0.54\u001b[90m, \u001b[0m0.56\u001b[90m)\u001b[0m\u001b[90m ┤\u001b[39m\u001b[0m 14                                     \u001b[90m \u001b[39m \n",
       "   \u001b[0m\u001b[90m[\u001b[0m0.56\u001b[90m, \u001b[0m0.58\u001b[90m)\u001b[0m\u001b[90m ┤\u001b[39m\u001b[0m 42                                     \u001b[90m \u001b[39m \n",
       "   \u001b[0m\u001b[90m[\u001b[0m0.58\u001b[90m, \u001b[0m0.6 \u001b[90m)\u001b[0m\u001b[90m ┤\u001b[39m\u001b[0m 9                                      \u001b[90m \u001b[39m \n",
       "   \u001b[0m\u001b[90m[\u001b[0m0.6 \u001b[90m, \u001b[0m0.62\u001b[90m)\u001b[0m\u001b[90m ┤\u001b[39m\u001b[0m 18                                     \u001b[90m \u001b[39m \n",
       "   \u001b[0m\u001b[90m[\u001b[0m0.62\u001b[90m, \u001b[0m0.64\u001b[90m)\u001b[0m\u001b[90m ┤\u001b[39m\u001b[0m 26                                     \u001b[90m \u001b[39m \n",
       "   \u001b[0m\u001b[90m[\u001b[0m0.64\u001b[90m, \u001b[0m0.66\u001b[90m)\u001b[0m\u001b[90m ┤\u001b[39m\u001b[0m 17                                     \u001b[90m \u001b[39m \n",
       "   \u001b[0m\u001b[90m[\u001b[0m0.66\u001b[90m, \u001b[0m0.68\u001b[90m)\u001b[0m\u001b[90m ┤\u001b[39m\u001b[0m 23                                     \u001b[90m \u001b[39m \n",
       "   \u001b[0m\u001b[90m[\u001b[0m0.68\u001b[90m, \u001b[0m0.7 \u001b[90m)\u001b[0m\u001b[90m ┤\u001b[39m\u001b[0m 22                                     \u001b[90m \u001b[39m \n",
       "   \u001b[0m\u001b[90m[\u001b[0m0.7 \u001b[90m, \u001b[0m0.72\u001b[90m)\u001b[0m\u001b[90m ┤\u001b[39m\u001b[0m 24                                     \u001b[90m \u001b[39m \n",
       "   \u001b[0m\u001b[90m[\u001b[0m0.72\u001b[90m, \u001b[0m0.74\u001b[90m)\u001b[0m\u001b[90m ┤\u001b[39m\u001b[0m 36                                     \u001b[90m \u001b[39m \n",
       "   \u001b[0m\u001b[90m[\u001b[0m0.74\u001b[90m, \u001b[0m0.76\u001b[90m)\u001b[0m\u001b[90m ┤\u001b[39m\u001b[0m 17                                     \u001b[90m \u001b[39m \n",
       "   \u001b[0m\u001b[90m[\u001b[0m0.76\u001b[90m, \u001b[0m0.78\u001b[90m)\u001b[0m\u001b[90m ┤\u001b[39m\u001b[0m 37                                     \u001b[90m \u001b[39m \n",
       "   \u001b[0m\u001b[90m[\u001b[0m0.78\u001b[90m, \u001b[0m0.8 \u001b[90m)\u001b[0m\u001b[90m ┤\u001b[39m\u001b[0m 40                                     \u001b[90m \u001b[39m \n",
       "   \u001b[0m\u001b[90m[\u001b[0m0.8 \u001b[90m, \u001b[0m0.82\u001b[90m)\u001b[0m\u001b[90m ┤\u001b[39m\u001b[0m 28                                     \u001b[90m \u001b[39m \n",
       "   \u001b[0m\u001b[90m[\u001b[0m0.82\u001b[90m, \u001b[0m0.84\u001b[90m)\u001b[0m\u001b[90m ┤\u001b[39m\u001b[32m▇\u001b[39m\u001b[0m 60                                    \u001b[90m \u001b[39m \n",
       "   \u001b[0m\u001b[90m[\u001b[0m0.84\u001b[90m, \u001b[0m0.86\u001b[90m)\u001b[0m\u001b[90m ┤\u001b[39m\u001b[32m▇\u001b[39m\u001b[0m 84                                    \u001b[90m \u001b[39m \n",
       "   \u001b[0m\u001b[90m[\u001b[0m0.86\u001b[90m, \u001b[0m0.88\u001b[90m)\u001b[0m\u001b[90m ┤\u001b[39m\u001b[32m▇\u001b[39m\u001b[0m 84                                    \u001b[90m \u001b[39m \n",
       "   \u001b[0m\u001b[90m[\u001b[0m0.88\u001b[90m, \u001b[0m0.9 \u001b[90m)\u001b[0m\u001b[90m ┤\u001b[39m\u001b[32m▇▇\u001b[39m\u001b[0m 168                                  \u001b[90m \u001b[39m \n",
       "   \u001b[0m\u001b[90m[\u001b[0m0.9 \u001b[90m, \u001b[0m0.92\u001b[90m)\u001b[0m\u001b[90m ┤\u001b[39m\u001b[32m▇▇\u001b[39m\u001b[0m 151                                  \u001b[90m \u001b[39m \n",
       "\u001b[90m                └                                        ┘\u001b[39m \n",
       "\u001b[0m                                Frequency"
      ]
     },
     "execution_count": 2105,
     "metadata": {},
     "output_type": "execute_result"
    }
   ],
   "source": [
    "histogram(adjsols[1].u[end][2:2:end]; nbins = 25)"
   ]
  },
  {
   "cell_type": "code",
   "execution_count": 2106,
   "metadata": {},
   "outputs": [
    {
     "data": {
      "text/plain": [
       "\u001b[90m                ┌                                        ┐\u001b[39m \n",
       "   \u001b[0m\u001b[90m[\u001b[0m0.36\u001b[90m, \u001b[0m0.38\u001b[90m)\u001b[0m\u001b[90m ┤\u001b[39m\u001b[32m▇▇▇▇▇▇▇▇▇▇▇▇▇▇▇▇▇▇▇▇▇▇▇▇▇▇▇▇▇▇▇▇▇▇\u001b[39m\u001b[0m 3391 \u001b[90m \u001b[39m \n",
       "   \u001b[0m\u001b[90m[\u001b[0m0.38\u001b[90m, \u001b[0m0.4 \u001b[90m)\u001b[0m\u001b[90m ┤\u001b[39m\u001b[32m▇\u001b[39m\u001b[0m 142                                   \u001b[90m \u001b[39m \n",
       "   \u001b[0m\u001b[90m[\u001b[0m0.4 \u001b[90m, \u001b[0m0.42\u001b[90m)\u001b[0m\u001b[90m ┤\u001b[39m\u001b[32m▇\u001b[39m\u001b[0m 83                                    \u001b[90m \u001b[39m \n",
       "   \u001b[0m\u001b[90m[\u001b[0m0.42\u001b[90m, \u001b[0m0.44\u001b[90m)\u001b[0m\u001b[90m ┤\u001b[39m\u001b[32m▇\u001b[39m\u001b[0m 54                                    \u001b[90m \u001b[39m \n",
       "   \u001b[0m\u001b[90m[\u001b[0m0.44\u001b[90m, \u001b[0m0.46\u001b[90m)\u001b[0m\u001b[90m ┤\u001b[39m\u001b[32m▇\u001b[39m\u001b[0m 50                                    \u001b[90m \u001b[39m \n",
       "   \u001b[0m\u001b[90m[\u001b[0m0.46\u001b[90m, \u001b[0m0.48\u001b[90m)\u001b[0m\u001b[90m ┤\u001b[39m\u001b[0m 37                                     \u001b[90m \u001b[39m \n",
       "   \u001b[0m\u001b[90m[\u001b[0m0.48\u001b[90m, \u001b[0m0.5 \u001b[90m)\u001b[0m\u001b[90m ┤\u001b[39m\u001b[0m 42                                     \u001b[90m \u001b[39m \n",
       "   \u001b[0m\u001b[90m[\u001b[0m0.5 \u001b[90m, \u001b[0m0.52\u001b[90m)\u001b[0m\u001b[90m ┤\u001b[39m\u001b[0m 24                                     \u001b[90m \u001b[39m \n",
       "   \u001b[0m\u001b[90m[\u001b[0m0.52\u001b[90m, \u001b[0m0.54\u001b[90m)\u001b[0m\u001b[90m ┤\u001b[39m\u001b[0m 27                                     \u001b[90m \u001b[39m \n",
       "   \u001b[0m\u001b[90m[\u001b[0m0.54\u001b[90m, \u001b[0m0.56\u001b[90m)\u001b[0m\u001b[90m ┤\u001b[39m\u001b[0m 29                                     \u001b[90m \u001b[39m \n",
       "   \u001b[0m\u001b[90m[\u001b[0m0.56\u001b[90m, \u001b[0m0.58\u001b[90m)\u001b[0m\u001b[90m ┤\u001b[39m\u001b[0m 22                                     \u001b[90m \u001b[39m \n",
       "   \u001b[0m\u001b[90m[\u001b[0m0.58\u001b[90m, \u001b[0m0.6 \u001b[90m)\u001b[0m\u001b[90m ┤\u001b[39m\u001b[0m 19                                     \u001b[90m \u001b[39m \n",
       "   \u001b[0m\u001b[90m[\u001b[0m0.6 \u001b[90m, \u001b[0m0.62\u001b[90m)\u001b[0m\u001b[90m ┤\u001b[39m\u001b[0m 18                                     \u001b[90m \u001b[39m \n",
       "   \u001b[0m\u001b[90m[\u001b[0m0.62\u001b[90m, \u001b[0m0.64\u001b[90m)\u001b[0m\u001b[90m ┤\u001b[39m\u001b[0m 28                                     \u001b[90m \u001b[39m \n",
       "   \u001b[0m\u001b[90m[\u001b[0m0.64\u001b[90m, \u001b[0m0.66\u001b[90m)\u001b[0m\u001b[90m ┤\u001b[39m\u001b[0m 28                                     \u001b[90m \u001b[39m \n",
       "   \u001b[0m\u001b[90m[\u001b[0m0.66\u001b[90m, \u001b[0m0.68\u001b[90m)\u001b[0m\u001b[90m ┤\u001b[39m\u001b[0m 16                                     \u001b[90m \u001b[39m \n",
       "   \u001b[0m\u001b[90m[\u001b[0m0.68\u001b[90m, \u001b[0m0.7 \u001b[90m)\u001b[0m\u001b[90m ┤\u001b[39m\u001b[0m 30                                     \u001b[90m \u001b[39m \n",
       "   \u001b[0m\u001b[90m[\u001b[0m0.7 \u001b[90m, \u001b[0m0.72\u001b[90m)\u001b[0m\u001b[90m ┤\u001b[39m\u001b[0m 24                                     \u001b[90m \u001b[39m \n",
       "   \u001b[0m\u001b[90m[\u001b[0m0.72\u001b[90m, \u001b[0m0.74\u001b[90m)\u001b[0m\u001b[90m ┤\u001b[39m\u001b[0m 36                                     \u001b[90m \u001b[39m \n",
       "   \u001b[0m\u001b[90m[\u001b[0m0.74\u001b[90m, \u001b[0m0.76\u001b[90m)\u001b[0m\u001b[90m ┤\u001b[39m\u001b[0m 31                                     \u001b[90m \u001b[39m \n",
       "   \u001b[0m\u001b[90m[\u001b[0m0.76\u001b[90m, \u001b[0m0.78\u001b[90m)\u001b[0m\u001b[90m ┤\u001b[39m\u001b[0m 35                                     \u001b[90m \u001b[39m \n",
       "   \u001b[0m\u001b[90m[\u001b[0m0.78\u001b[90m, \u001b[0m0.8 \u001b[90m)\u001b[0m\u001b[90m ┤\u001b[39m\u001b[0m 48                                     \u001b[90m \u001b[39m \n",
       "   \u001b[0m\u001b[90m[\u001b[0m0.8 \u001b[90m, \u001b[0m0.82\u001b[90m)\u001b[0m\u001b[90m ┤\u001b[39m\u001b[0m 39                                     \u001b[90m \u001b[39m \n",
       "   \u001b[0m\u001b[90m[\u001b[0m0.82\u001b[90m, \u001b[0m0.84\u001b[90m)\u001b[0m\u001b[90m ┤\u001b[39m\u001b[32m▇\u001b[39m\u001b[0m 67                                    \u001b[90m \u001b[39m \n",
       "   \u001b[0m\u001b[90m[\u001b[0m0.84\u001b[90m, \u001b[0m0.86\u001b[90m)\u001b[0m\u001b[90m ┤\u001b[39m\u001b[32m▇\u001b[39m\u001b[0m 89                                    \u001b[90m \u001b[39m \n",
       "   \u001b[0m\u001b[90m[\u001b[0m0.86\u001b[90m, \u001b[0m0.88\u001b[90m)\u001b[0m\u001b[90m ┤\u001b[39m\u001b[32m▇\u001b[39m\u001b[0m 97                                    \u001b[90m \u001b[39m \n",
       "   \u001b[0m\u001b[90m[\u001b[0m0.88\u001b[90m, \u001b[0m0.9 \u001b[90m)\u001b[0m\u001b[90m ┤\u001b[39m\u001b[32m▇▇\u001b[39m\u001b[0m 202                                  \u001b[90m \u001b[39m \n",
       "   \u001b[0m\u001b[90m[\u001b[0m0.9 \u001b[90m, \u001b[0m0.92\u001b[90m)\u001b[0m\u001b[90m ┤\u001b[39m\u001b[32m▇▇\u001b[39m\u001b[0m 173                                  \u001b[90m \u001b[39m \n",
       "\u001b[90m                └                                        ┘\u001b[39m \n",
       "\u001b[0m                                Frequency"
      ]
     },
     "execution_count": 2106,
     "metadata": {},
     "output_type": "execute_result"
    }
   ],
   "source": [
    "histogram(myesols[1].u[end][2:2:end]; nbins = 25)"
   ]
  },
  {
   "cell_type": "code",
   "execution_count": 1300,
   "metadata": {},
   "outputs": [],
   "source": [
    "g1, g2 = deepcopy(interiorgrids[1]), deepcopy(getgrid(myelindomains[1]));"
   ]
  },
  {
   "cell_type": "code",
   "execution_count": 1301,
   "metadata": {
    "scrolled": false
   },
   "outputs": [
    {
     "data": {
      "text/plain": [
       "6-element Array{Bool,1}:\n",
       " true\n",
       " true\n",
       " true\n",
       " true\n",
       " true\n",
       " true"
      ]
     },
     "execution_count": 1301,
     "metadata": {},
     "output_type": "execute_result"
    }
   ],
   "source": [
    "[getfield(g1,f) == getfield(g2,f) for f in fieldnames(typeof(g1))]"
   ]
  },
  {
   "cell_type": "code",
   "execution_count": 1336,
   "metadata": {},
   "outputs": [
    {
     "data": {
      "text/plain": [
       "false"
      ]
     },
     "execution_count": 1336,
     "metadata": {},
     "output_type": "execute_result"
    }
   ],
   "source": [
    "# getfaceset(getgrid(myelindomains[1]), \"boundary\")\n",
    "# union(getfaceset.((exteriorgrids[1], interiorgrids[1], torigrids[1]), \"boundary\")...) |> length"
   ]
  },
  {
   "cell_type": "code",
   "execution_count": 1323,
   "metadata": {},
   "outputs": [
    {
     "data": {
      "text/plain": [
       "3-element Array{Int64,1}:\n",
       "  50\n",
       " 125\n",
       " 216"
      ]
     },
     "execution_count": 1323,
     "metadata": {},
     "output_type": "execute_result"
    }
   ],
   "source": [
    "# getfaceset.(getgrid.(myelinsubdomains), \"boundary\") .|> length"
   ]
  },
  {
   "cell_type": "code",
   "execution_count": 1338,
   "metadata": {},
   "outputs": [
    {
     "data": {
      "text/plain": [
       "2554×2554 SparseMatrixCSC{Float64,Int64} with 35040 stored entries:\n",
       "  [1   ,    1]  =  -0.0372887\n",
       "  [2   ,    1]  =  0.0\n",
       "  [3   ,    1]  =  0.00571044\n",
       "  [4   ,    1]  =  0.0\n",
       "  [5   ,    1]  =  0.00418029\n",
       "  [6   ,    1]  =  0.0\n",
       "  [7   ,    1]  =  0.00342284\n",
       "  [8   ,    1]  =  0.0\n",
       "  [9   ,    1]  =  0.00620602\n",
       "  [10  ,    1]  =  0.0\n",
       "  [259 ,    1]  =  0.00760944\n",
       "  [260 ,    1]  =  0.0\n",
       "  ⋮\n",
       "  [2541, 2553]  =  0.00439514\n",
       "  [2542, 2553]  =  0.0\n",
       "  [2547, 2553]  =  0.00542135\n",
       "  [2548, 2553]  =  0.0\n",
       "  [2553, 2553]  =  -0.0102885\n",
       "  [2554, 2553]  =  0.0\n",
       "  [2541, 2554]  =  0.0\n",
       "  [2542, 2554]  =  0.00439514\n",
       "  [2547, 2554]  =  0.0\n",
       "  [2548, 2554]  =  0.00542135\n",
       "  [2553, 2554]  =  0.0\n",
       "  [2554, 2554]  =  -0.0102885"
      ]
     },
     "execution_count": 1338,
     "metadata": {},
     "output_type": "execute_result"
    }
   ],
   "source": [
    "getstiffness(myelindomains[1])"
   ]
  },
  {
   "cell_type": "code",
   "execution_count": 1041,
   "metadata": {},
   "outputs": [],
   "source": [
    "# @show exteriorgrids\n",
    "# @show interiorgrids\n",
    "# @show torigrids"
   ]
  },
  {
   "cell_type": "code",
   "execution_count": 1089,
   "metadata": {},
   "outputs": [
    {
     "data": {
      "text/plain": [
       "disp_grid_nodes (generic function with 1 method)"
      ]
     },
     "execution_count": 1089,
     "metadata": {},
     "output_type": "execute_result"
    }
   ],
   "source": [
    "function disp_grid_nodes(grid)\n",
    "    for c in grid.cells\n",
    "        @show c.nodes\n",
    "        println(collect(grid.nodes[n].x for n in c.nodes))\n",
    "    end\n",
    "end"
   ]
  },
  {
   "cell_type": "code",
   "execution_count": 1233,
   "metadata": {},
   "outputs": [
    {
     "data": {
      "text/plain": [
       "10-element Array{Tuple{Int64,Int64},1}:\n",
       " (3, 5)  \n",
       " (5, 14) \n",
       " (7, 15) \n",
       " (9, 3)  \n",
       " (10, 11)\n",
       " (11, 9) \n",
       " (12, 10)\n",
       " (13, 12)\n",
       " (14, 7) \n",
       " (15, 13)"
      ]
     },
     "execution_count": 1233,
     "metadata": {},
     "output_type": "execute_result"
    }
   ],
   "source": [
    "using DistMesh;\n",
    "DistMesh.boundedges(interiorgrids[1])"
   ]
  },
  {
   "cell_type": "code",
   "execution_count": 1303,
   "metadata": {
    "scrolled": true
   },
   "outputs": [],
   "source": [
    "# _tmp = falses(3, getncells(interiorgrids[1]));\n",
    "# ns = [];\n",
    "# for (c,f) in interiorgrids[1].facesets[\"boundary\"]\n",
    "#     _tmp[f,c] = true\n",
    "#     ce = interiorgrids[1].cells[c]\n",
    "#     fe = JuAFEM.faces(ce)[f]\n",
    "# #     @show JuAFEM.faces(ce)\n",
    "#     n1 = interiorgrids[1].nodes[fe[1]].x\n",
    "#     n2 = interiorgrids[1].nodes[fe[2]].x\n",
    "# #     @show norm(n1), norm(n2)\n",
    "# #     @show n1, n2\n",
    "#     push!(ns, (n1,n2))\n",
    "# end;\n",
    "# _tmp';\n",
    "# sort!(ns; by = x->angle(x[1]))"
   ]
  },
  {
   "cell_type": "code",
   "execution_count": 892,
   "metadata": {
    "scrolled": true
   },
   "outputs": [],
   "source": [
    "K, M = -getstiffness(myelindomains[1]), getmass(myelindomains[1]);"
   ]
  },
  {
   "cell_type": "code",
   "execution_count": 861,
   "metadata": {},
   "outputs": [
    {
     "data": {
      "text/plain": [
       "(true, true)"
      ]
     },
     "execution_count": 861,
     "metadata": {},
     "output_type": "execute_result"
    }
   ],
   "source": [
    "isposdef(K), isposdef(M)\n",
    "# cond(Array(K)), cond(Array(M))"
   ]
  },
  {
   "cell_type": "code",
   "execution_count": 862,
   "metadata": {},
   "outputs": [
    {
     "data": {
      "text/plain": [
       "(0.36787944117144233, 0.9048374180359595)"
      ]
     },
     "execution_count": 862,
     "metadata": {},
     "output_type": "execute_result"
    }
   ],
   "source": [
    "exp(-1.0), exp(-0.1)"
   ]
  },
  {
   "cell_type": "code",
   "execution_count": 799,
   "metadata": {},
   "outputs": [
    {
     "data": {
      "text/plain": [
       "(294, 616, 940, 734)"
      ]
     },
     "execution_count": 799,
     "metadata": {},
     "output_type": "execute_result"
    }
   ],
   "source": [
    "(830, 1114, 476, 618)"
   ]
  },
  {
   "cell_type": "code",
   "execution_count": 829,
   "metadata": {},
   "outputs": [
    {
     "data": {
      "text/plain": [
       "(0.7046824782930539, 0.704563048184284)"
      ]
     },
     "execution_count": 829,
     "metadata": {},
     "output_type": "execute_result"
    }
   ],
   "source": [
    "sols[1].u[end][294], sols[1].u[end][734]"
   ]
  },
  {
   "cell_type": "code",
   "execution_count": 827,
   "metadata": {},
   "outputs": [
    {
     "data": {
      "text/plain": [
       "(0.7908085731856725, 0.7907624488879854)"
      ]
     },
     "execution_count": 827,
     "metadata": {},
     "output_type": "execute_result"
    }
   ],
   "source": [
    "sols[1].u[end][830], sols[1].u[end][618]"
   ]
  },
  {
   "cell_type": "code",
   "execution_count": null,
   "metadata": {},
   "outputs": [],
   "source": []
  },
  {
   "cell_type": "code",
   "execution_count": 806,
   "metadata": {},
   "outputs": [
    {
     "data": {
      "text/plain": [
       "(0.7183340703053213, 0.710996747005612)"
      ]
     },
     "execution_count": 806,
     "metadata": {},
     "output_type": "execute_result"
    }
   ],
   "source": [
    "sols[1].u[end][616], sols[1].u[end][940]"
   ]
  },
  {
   "cell_type": "code",
   "execution_count": 828,
   "metadata": {},
   "outputs": [
    {
     "data": {
      "text/plain": [
       "(0.7302470210713373, 0.7303367306249415)"
      ]
     },
     "execution_count": 828,
     "metadata": {},
     "output_type": "execute_result"
    }
   ],
   "source": [
    "sols[1].u[end][1114], sols[1].u[end][476]"
   ]
  }
 ],
 "metadata": {
  "kernelspec": {
   "display_name": "Julia 1.1.0",
   "language": "julia",
   "name": "julia-1.1"
  },
  "language_info": {
   "file_extension": ".jl",
   "mimetype": "application/julia",
   "name": "julia",
   "version": "1.1.0"
  }
 },
 "nbformat": 4,
 "nbformat_minor": 3
}
