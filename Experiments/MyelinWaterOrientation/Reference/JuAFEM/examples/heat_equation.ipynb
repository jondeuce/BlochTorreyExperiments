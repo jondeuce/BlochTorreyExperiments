{
 "cells": [
  {
   "cell_type": "code",
   "execution_count": null,
   "metadata": {},
   "outputs": [],
   "source": [
    "using Revise"
   ]
  },
  {
   "cell_type": "code",
   "execution_count": null,
   "metadata": {},
   "outputs": [],
   "source": [
    "import Pkg; Pkg.activate(\"../../../.\"); # Activate MyelinWaterOrientation project"
   ]
  },
  {
   "cell_type": "code",
   "execution_count": null,
   "metadata": {
    "scrolled": false
   },
   "outputs": [],
   "source": [
    "Revise.includet(\"../../../init.jl\")\n",
    "mxcall(:cd, 0, pwd()) # change MATLAB path to current path for saving outputs"
   ]
  },
  {
   "cell_type": "code",
   "execution_count": null,
   "metadata": {
    "scrolled": false
   },
   "outputs": [],
   "source": [
    "exteriorgrids, torigrids, interiorgrids, outercircles, innercircles, bdry = creategeometry(\n",
    "    BlochTorreyParameters{Float64}(g_ratio = 2//3);\n",
    "    N = 1, # Number of circles\n",
    "    bdry = Rectangle((-1.0,-1.0), (1.0,1.0)),\n",
    "    outercircles = [Circle(Vec{2}((0.0,0.0)), 0.75)],\n",
    "    PLOT = false,\n",
    "    RESOLUTION = 0.125 # 1.0\n",
    ");"
   ]
  },
  {
   "cell_type": "code",
   "execution_count": null,
   "metadata": {},
   "outputs": [],
   "source": [
    "btparams = BlochTorreyParameters{Float64}(\n",
    "    theta = π/2,\n",
    "    g_ratio = 0.7,\n",
    "    D_Tissue = 0.01, #0.0, #1e-3, #1.0e-1, # [μm²/s]\n",
    "    D_Sheath = 0.01, #0.0, #1e-3, #1.0e-1, # [μm²/s]\n",
    "    D_Axon = 0.01, #0.0, #1e-3, #1.0e-1, # [μm²/s]\n",
    "    K_perm = 0.1, #10.0, # [μm/s]\n",
    "    B0 = -3.0, # [T]\n",
    "    R2_Tissue = 1.0, # [Hz]\n",
    "    R2_sp = 1.0, # [Hz]\n",
    "    R2_lp = 1.0, # [Hz]\n",
    "    );"
   ]
  },
  {
   "cell_type": "code",
   "execution_count": 7,
   "metadata": {
    "scrolled": false
   },
   "outputs": [
    {
     "name": "stdout",
     "output_type": "stream",
     "text": [
      "\"Assembling...\" = \"Assembling...\"\n",
      "  1.425377 seconds (27.97 M allocations: 527.654 MiB, 7.51% gc time)\n",
      "  0.050783 seconds (119 allocations: 13.961 MiB, 9.32% gc time)\n",
      "  0.428813 seconds (37.70 k allocations: 61.349 MiB, 1.93% gc time)\n",
      "  0.040932 seconds (43 allocations: 14.409 MiB)\n"
     ]
    }
   ],
   "source": [
    "myelinprob, myelinsubdomains, myelindomains = createdomains(btparams,\n",
    "    exteriorgrids, torigrids, interiorgrids, outercircles, innercircles);"
   ]
  },
  {
   "cell_type": "code",
   "execution_count": null,
   "metadata": {},
   "outputs": [],
   "source": []
  },
  {
   "cell_type": "code",
   "execution_count": null,
   "metadata": {},
   "outputs": [],
   "source": [
    "K, M = getstiffness(myelindomains[1]), getmassfact(myelindomains[1]);\n",
    "A = ParabolicLinearMap(getdomain(myelindomains[1]));\n",
    "D = DiffEqParabolicLinearMapWrapper(A);\n",
    "x = rand(size(A,2));\n",
    "y = similar(x);"
   ]
  },
  {
   "cell_type": "code",
   "execution_count": null,
   "metadata": {},
   "outputs": [],
   "source": [
    "@btime $M\\($K*$x);\n",
    "@btime ($K)'*($M\\$x)\n",
    "@btime mul!($y, adjoint($A), $x);\n",
    "@btime mul!($y, $A, $x);\n",
    "@btime $M\\($K*$x);\n",
    "@btime mul!($y, adjoint($K), $M\\$x);"
   ]
  },
  {
   "cell_type": "code",
   "execution_count": null,
   "metadata": {},
   "outputs": [],
   "source": [
    "A*x ≈ M\\(K*x) && A'*x ≈ K'*(M\\x)"
   ]
  },
  {
   "cell_type": "code",
   "execution_count": null,
   "metadata": {},
   "outputs": [],
   "source": []
  },
  {
   "cell_type": "markdown",
   "metadata": {},
   "source": [
    "### Setting Paths"
   ]
  },
  {
   "cell_type": "code",
   "execution_count": null,
   "metadata": {},
   "outputs": [],
   "source": [
    "using Revise"
   ]
  },
  {
   "cell_type": "code",
   "execution_count": null,
   "metadata": {},
   "outputs": [],
   "source": [
    "import Pkg; Pkg.activate(\"../../../.\"); # Activate MyelinWaterOrientation project"
   ]
  },
  {
   "cell_type": "markdown",
   "metadata": {},
   "source": [
    "# Steady-State Heat Equation"
   ]
  },
  {
   "cell_type": "markdown",
   "metadata": {},
   "source": [
    "## Introduction\n",
    "\n",
    "The heat equation is the \"Hello, world!\" equation of finite elements.\n",
    "Here we solve the equation on a unit square, with a uniform internal source.\n",
    "The strong form of the (linear) heat equation is given by\n",
    "\n",
    "\\begin{equation}\n",
    " -\\nabla \\cdot (k \\nabla u) = f  \\quad x \\in \\Omega,\n",
    "\\end{equation}\n",
    "\n",
    "where $u$ is the unknown temperature field, $k$ the heat conductivity,\n",
    "$f$ the heat source and $\\Omega$ the domain. For simplicity we set $f = 1$\n",
    "and $k = 1$. We will consider homogeneous Dirichlet boundary conditions such that\n",
    "\\begin{equation}\n",
    "u(x) = 0 \\quad x \\in \\partial \\Omega,\n",
    "\\end{equation}\n",
    "where $\\partial \\Omega$ denotes the boundary of $\\Omega$.\n",
    "\n",
    "The resulting weak form is given by\n",
    "\\begin{equation}\n",
    "\\int_{\\Omega} \\nabla v \\cdot \\nabla u \\ d\\Omega = \\int_{\\Omega} v \\ d\\Omega,\n",
    "\\end{equation}\n",
    "where $v$ is a suitable test function."
   ]
  },
  {
   "cell_type": "markdown",
   "metadata": {},
   "source": [
    "## Commented Program\n",
    "\n",
    "Now we solve the problem in JuAFEM. What follows is a program spliced with comments.\n",
    "\n",
    "First we load the JuAFEM package."
   ]
  },
  {
   "cell_type": "code",
   "execution_count": null,
   "metadata": {},
   "outputs": [],
   "source": [
    "using JuAFEM, SparseArrays"
   ]
  },
  {
   "cell_type": "markdown",
   "metadata": {},
   "source": [
    "We start  generating a simple grid with 20x20 quadrilateral elements\n",
    "using `generate_grid`. The generator defaults to the unit square,\n",
    "so we don't need to specify the corners of the domain."
   ]
  },
  {
   "cell_type": "code",
   "execution_count": null,
   "metadata": {},
   "outputs": [],
   "source": [
    "# grid = generate_grid(Quadrilateral, (20, 20));\n",
    "# grid = generate_grid(Triangle, (20, 20));\n",
    "# grid = generate_grid(Triangle, (100, 100));\n",
    "# grid = generate_grid(Triangle, (2, 4));\n",
    "# grid = generate_grid(Triangle, (4, 8));\n",
    "# grid = generate_grid(Triangle, (16, 32));\n",
    "grid = generate_grid(Triangle, (32, 64));"
   ]
  },
  {
   "cell_type": "markdown",
   "metadata": {},
   "source": [
    "### Trial and test functions\n",
    "A `CellValues` facilitates the process of evaluating values and gradients of\n",
    "test and trial functions (among other things). Since the problem\n",
    "is a scalar problem we will use a `CellScalarValues` object. To define\n",
    "this we need to specify an interpolation space for the shape functions.\n",
    "We use Lagrange functions (both for interpolating the function and the geometry)\n",
    "based on the reference \"cube\". We also define a quadrature rule based on the\n",
    "same reference cube. We combine the interpolation and the quadrature rule\n",
    "to a `CellScalarValues` object."
   ]
  },
  {
   "cell_type": "code",
   "execution_count": null,
   "metadata": {},
   "outputs": [],
   "source": [
    "dim = 2\n",
    "# ip = Lagrange{dim, RefCube, 1}()\n",
    "# qr = QuadratureRule{dim, RefCube}(2)\n",
    "ip = Lagrange{dim, RefTetrahedron, 1}()\n",
    "qr = QuadratureRule{dim, RefTetrahedron}(3)\n",
    "cellvalues = CellScalarValues(qr, ip);"
   ]
  },
  {
   "cell_type": "markdown",
   "metadata": {},
   "source": [
    "### Degrees of freedom\n",
    "Next we need to define a `DofHandler`, which will take care of numbering\n",
    "and distribution of degrees of freedom for our approximated fields.\n",
    "We create the `DofHandler` and then add a single field called `u`.\n",
    "Lastly we `close!` the `DofHandler`, it is now that the dofs are distributed\n",
    "for all the elements."
   ]
  },
  {
   "cell_type": "code",
   "execution_count": null,
   "metadata": {},
   "outputs": [],
   "source": [
    "dh = DofHandler(grid)\n",
    "push!(dh, :u, 1)\n",
    "close!(dh);"
   ]
  },
  {
   "cell_type": "markdown",
   "metadata": {},
   "source": [
    "Now that we have distributed all our dofs we can create our tangent matrix,\n",
    "using `create_sparsity_pattern`. This function returns a sparse matrix\n",
    "with the correct elements stored."
   ]
  },
  {
   "cell_type": "code",
   "execution_count": null,
   "metadata": {},
   "outputs": [],
   "source": [
    "K = create_sparsity_pattern(dh);"
   ]
  },
  {
   "cell_type": "markdown",
   "metadata": {},
   "source": [
    "We can inspect the pattern using the `spy` function from `UnicodePlots.jl`.\n",
    "By default the stored values are set to $0$, so we first need to\n",
    "fill the stored values, e.g. `K.nzval` with something meaningful."
   ]
  },
  {
   "cell_type": "code",
   "execution_count": null,
   "metadata": {},
   "outputs": [],
   "source": [
    "using UnicodePlots\n",
    "fill!(K.nzval, 1.0)\n",
    "spy(K; height = 15)"
   ]
  },
  {
   "cell_type": "markdown",
   "metadata": {},
   "source": [
    "### Boundary conditions\n",
    "In JuAFEM constraints like Dirichlet boundary conditions\n",
    "are handled by a `ConstraintHandler`."
   ]
  },
  {
   "cell_type": "code",
   "execution_count": null,
   "metadata": {},
   "outputs": [],
   "source": [
    "ch = ConstraintHandler(dh);"
   ]
  },
  {
   "cell_type": "markdown",
   "metadata": {},
   "source": [
    "Next we need to add constraints to `ch`. For this problem we define\n",
    "homogeneous Dirichlet boundary conditions on the whole boundary, i.e.\n",
    "the `union` of all the face sets on the boundary."
   ]
  },
  {
   "cell_type": "code",
   "execution_count": null,
   "metadata": {},
   "outputs": [],
   "source": [
    "∂Ω = union(getfaceset.(Ref(grid), [\"left\", \"right\", \"top\", \"bottom\"])...);"
   ]
  },
  {
   "cell_type": "markdown",
   "metadata": {},
   "source": [
    "Now we are set up to define our constraint. We specify which field\n",
    "the condition is for, and our combined face set `∂Ω`. The last\n",
    "argument is a function which takes the spatial coordinate $x$ and\n",
    "the current time $t$ and returns the prescribed value. In this case\n",
    "it is trivial -- no matter what $x$ and $t$ we return $0$. When we have\n",
    "specified our constraint we `add!` it to `ch`."
   ]
  },
  {
   "cell_type": "code",
   "execution_count": null,
   "metadata": {},
   "outputs": [],
   "source": [
    "dbc = Dirichlet(:u, ∂Ω, (x, t) -> 0)\n",
    "add!(ch, dbc);"
   ]
  },
  {
   "cell_type": "markdown",
   "metadata": {},
   "source": [
    "We also need to `close!` and `update!` our boundary conditions. When we call `close!`\n",
    "the dofs which will be constrained by the boundary conditions are calculated and stored\n",
    "in our `ch` object. Since the boundary conditions are, in this case,\n",
    "independent of time we can `update!` them directly with e.g. $t = 0$."
   ]
  },
  {
   "cell_type": "code",
   "execution_count": null,
   "metadata": {},
   "outputs": [],
   "source": [
    "close!(ch)\n",
    "update!(ch, 0.0);"
   ]
  },
  {
   "cell_type": "markdown",
   "metadata": {},
   "source": [
    "### Assembling the linear system\n",
    "Now we have all the pieces needed to assemble the linear system, $K u = f$.\n",
    "We define a function, `doassemble` to do the assembly, which takes our `cellvalues`,\n",
    "the sparse matrix and our DofHandler as input arguments. The function returns the\n",
    "assembled stiffness matrix, and the force vector."
   ]
  },
  {
   "cell_type": "code",
   "execution_count": null,
   "metadata": {},
   "outputs": [],
   "source": [
    "function doassemble(cellvalues::CellScalarValues{dim}, K::SparseMatrixCSC, dh::DofHandler) where {dim}\n",
    "    # We allocate the element stiffness matrix and element force vector\n",
    "    # just once before looping over all the cells instead of allocating\n",
    "    # them every time in the loop.\n",
    "    n_basefuncs = getnbasefunctions(cellvalues)\n",
    "    Ke = zeros(n_basefuncs, n_basefuncs)\n",
    "    fe = zeros(n_basefuncs)\n",
    "    # Next we define the global force vector `f` and use that and\n",
    "    # the stiffness matrix `K` and create an assembler. The assembler\n",
    "    # is just a thin wrapper around `f` and `K` and some extra storage\n",
    "    # to make the assembling faster.\n",
    "    f = zeros(ndofs(dh))\n",
    "    assembler = start_assemble(K, f)\n",
    "    # It is now time to loop over all the cells in our grid. We do this by iterating\n",
    "    # over a `CellIterator`. The iterator caches some useful things for us, for example\n",
    "    # the nodal coordinates for the cell, and the local degrees of freedom.\n",
    "    @inbounds for cell in CellIterator(dh)\n",
    "        # Always remember to reset the element stiffness matrix and\n",
    "        # force vector since we reuse them for all elements.\n",
    "        fill!(Ke, 0)\n",
    "        fill!(fe, 0)\n",
    "        # For each cell we also need to reinitialize the cached values in `cellvalues`.\n",
    "        reinit!(cellvalues, cell)\n",
    "        # It is now time to loop over all the quadrature points in the cell and\n",
    "        # assemble the contribution to `Ke` and `fe`. The integration weight\n",
    "        # can be queried from `cellvalues` by `getdetJdV`.\n",
    "        for q_point in 1:getnquadpoints(cellvalues)\n",
    "            dΩ = getdetJdV(cellvalues, q_point)\n",
    "            # For each quadrature point we loop over all the (local) shape functions.\n",
    "            # We need the value and gradient of the testfunction `v` and also the gradient\n",
    "            # of the trial function `u`. We get all of these from `cellvalues`.\n",
    "            for i in 1:n_basefuncs\n",
    "                v  = shape_value(cellvalues, q_point, i)\n",
    "                ∇v = shape_gradient(cellvalues, q_point, i)\n",
    "                fe[i] += v * dΩ\n",
    "                for j in 1:n_basefuncs\n",
    "                    ∇u = shape_gradient(cellvalues, q_point, j)\n",
    "                    Ke[i, j] += (∇v ⋅ ∇u) * dΩ\n",
    "                end\n",
    "            end\n",
    "        end\n",
    "        # The last step in the element loop is to assemble `Ke` and `fe`\n",
    "        # into the global `K` and `f` with `assemble!`.\n",
    "        assemble!(assembler, celldofs(cell), fe, Ke)\n",
    "    end\n",
    "    return K, f\n",
    "end"
   ]
  },
  {
   "cell_type": "markdown",
   "metadata": {},
   "source": [
    "### Solution of the system\n",
    "The last step is to solve the system. First we call `doassemble`\n",
    "to obtain the global stiffness matrix `K` and force vector `f`."
   ]
  },
  {
   "cell_type": "code",
   "execution_count": null,
   "metadata": {},
   "outputs": [],
   "source": [
    "K, f = doassemble(cellvalues, K, dh);"
   ]
  },
  {
   "cell_type": "markdown",
   "metadata": {},
   "source": [
    "To account for the boundary conditions we use the `apply!` function.\n",
    "This modifies elements in `K` and `f` respectively, such that\n",
    "we can get the correct solution vector `u` by using `\\`."
   ]
  },
  {
   "cell_type": "code",
   "execution_count": null,
   "metadata": {},
   "outputs": [],
   "source": [
    "# apply!(K, f, ch)\n",
    "# u = K \\ f;"
   ]
  },
  {
   "cell_type": "markdown",
   "metadata": {},
   "source": [
    "### Exporting to VTK\n",
    "To visualize the result we export the grid and our field `u`\n",
    "to a VTK-file, which can be viewed in e.g. [ParaView](https://www.paraview.org/)."
   ]
  },
  {
   "cell_type": "code",
   "execution_count": null,
   "metadata": {},
   "outputs": [],
   "source": [
    "# vtk_grid(\"heat_equation\", dh) do vtk\n",
    "#     vtk_point_data(vtk, dh, u)\n",
    "# end"
   ]
  },
  {
   "cell_type": "markdown",
   "metadata": {},
   "source": [
    "*This notebook was generated using [Literate.jl](https://github.com/fredrikekre/Literate.jl).*"
   ]
  },
  {
   "cell_type": "markdown",
   "metadata": {},
   "source": [
    "# Bloch-Torrey Equation"
   ]
  },
  {
   "cell_type": "code",
   "execution_count": null,
   "metadata": {
    "scrolled": false
   },
   "outputs": [],
   "source": [
    "Revise.includet(\"../../../init.jl\")\n",
    "mxcall(:cd, 0, pwd()) # change MATLAB path to current path for saving outputs"
   ]
  },
  {
   "cell_type": "markdown",
   "metadata": {},
   "source": [
    "### Exterior domain"
   ]
  },
  {
   "cell_type": "code",
   "execution_count": null,
   "metadata": {},
   "outputs": [],
   "source": [
    "# Treat whole domain as one \"exterior\" region; outer/innercircles should be empty, as well as tori/interior grids\n",
    "exteriorgrids, torigrids, interiorgrids = [deepcopy(grid)], typeof(grid)[], typeof(grid)[];\n",
    "outercircles, innercircles = Circle{2,Float64}[], Circle{2,Float64}[];"
   ]
  },
  {
   "cell_type": "markdown",
   "metadata": {},
   "source": [
    "### Interior domain"
   ]
  },
  {
   "cell_type": "code",
   "execution_count": null,
   "metadata": {},
   "outputs": [],
   "source": [
    "# Treat whole domain as one \"interior\" region\n",
    "emptygrid = Grid(eltype(grid.cells)[], eltype(grid.nodes)[]);\n",
    "exteriorgrids, torigrids, interiorgrids = [deepcopy(emptygrid)], [deepcopy(emptygrid)], [deepcopy(grid)];\n",
    "outercircles, innercircles = [Circle(Vec{2}((0.0,0.0)), 2.0)], [Circle(Vec{2}((0.0,0.0)), 1.5)];"
   ]
  },
  {
   "cell_type": "markdown",
   "metadata": {},
   "source": [
    "### Tori domain"
   ]
  },
  {
   "cell_type": "code",
   "execution_count": null,
   "metadata": {},
   "outputs": [],
   "source": [
    "# Treat whole domain as one \"tori\" region\n",
    "emptygrid = Grid(eltype(grid.cells)[], eltype(grid.nodes)[]);\n",
    "exteriorgrids, torigrids, interiorgrids = [deepcopy(emptygrid)], [deepcopy(grid)], [deepcopy(emptygrid)];\n",
    "outercircles, innercircles = [Circle(Vec{2}((0.0,-1.5)), 3.0)], [Circle(Vec{2}((0.0,-1.5)), 0.25)];"
   ]
  },
  {
   "cell_type": "markdown",
   "metadata": {},
   "source": [
    "## Stiffness testing"
   ]
  },
  {
   "cell_type": "code",
   "execution_count": null,
   "metadata": {},
   "outputs": [],
   "source": [
    "btparams = BlochTorreyParameters{Float64}(\n",
    "    theta = π/2,\n",
    "    D_Tissue = 1.0, #0.5, # [μm²/s]\n",
    "    D_Sheath = 1.0, #0.5, # [μm²/s]\n",
    "    D_Axon = 1.0, #0.5, # [μm²/s]\n",
    "    K_perm = 0.0, #1.0 # [μm/s]\n",
    "    B0 = 0.0, #-3.0 # [T]\n",
    "    R2_Tissue = 0.0, # [Hz]\n",
    "    R2_sp = 0.0, # [Hz]\n",
    "    R2_lp = 0.0, # [Hz]\n",
    "    );"
   ]
  },
  {
   "cell_type": "code",
   "execution_count": null,
   "metadata": {},
   "outputs": [],
   "source": [
    "myelinprob, myelinsubdomains, myelindomains = createdomains(btparams,\n",
    "    exteriorgrids, torigrids, interiorgrids, outercircles, innercircles);"
   ]
  },
  {
   "cell_type": "code",
   "execution_count": null,
   "metadata": {},
   "outputs": [],
   "source": [
    "#NOTE: stiffness matrices are made with the opposite sign in `myelindomains`\n",
    "K1 = -getstiffness(myelindomains[1])[1:2:end, 1:2:end];\n",
    "K2 = -getstiffness(myelindomains[1])[2:2:end, 2:2:end];\n",
    "M1 = getmass(myelindomains[1])[1:2:end, 1:2:end];\n",
    "M2 = getmass(myelindomains[1])[2:2:end, 2:2:end];"
   ]
  },
  {
   "cell_type": "code",
   "execution_count": null,
   "metadata": {},
   "outputs": [],
   "source": [
    "@assert M1 ≈ M2\n",
    "@assert K1 ≈ K2\n",
    "@assert K ≈ K1\n",
    "@assert K ≈ K2"
   ]
  },
  {
   "cell_type": "markdown",
   "metadata": {},
   "source": [
    "## $\\omega$ contributions"
   ]
  },
  {
   "cell_type": "code",
   "execution_count": null,
   "metadata": {},
   "outputs": [],
   "source": [
    "btparams = BlochTorreyParameters{Float64}(\n",
    "    theta = π/2,\n",
    "    D_Tissue = 0.0, # [μm²/s]\n",
    "    D_Sheath = 0.0, # [μm²/s]\n",
    "    D_Axon = 0.0, # [μm²/s]\n",
    "    K_perm = 0.0, # [μm/s]\n",
    "    B0 = -3.0, # [T]\n",
    "    R2_Tissue = 0.0, # [Hz]\n",
    "    R2_sp = 0.0, # [Hz]\n",
    "    R2_lp = 0.0, # [Hz]\n",
    "    );"
   ]
  },
  {
   "cell_type": "code",
   "execution_count": null,
   "metadata": {},
   "outputs": [],
   "source": [
    "myelinprob, myelinsubdomains, myelindomains = createdomains(btparams,\n",
    "    exteriorgrids, torigrids, interiorgrids, outercircles, innercircles);"
   ]
  },
  {
   "cell_type": "code",
   "execution_count": null,
   "metadata": {},
   "outputs": [],
   "source": [
    "#NOTE: stiffness matrices are made with the opposite sign in `myelindomains`\n",
    "K1 = -getstiffness(myelindomains[1])[1:2:end, 1:2:end];\n",
    "K2 = -getstiffness(myelindomains[1])[2:2:end, 2:2:end];"
   ]
  },
  {
   "cell_type": "code",
   "execution_count": null,
   "metadata": {},
   "outputs": [],
   "source": [
    "@assert maximum(abs, K1) ≈ 0 # Diagonals should be zero for omega testing\n",
    "@assert maximum(abs, K2) ≈ 0"
   ]
  },
  {
   "cell_type": "code",
   "execution_count": null,
   "metadata": {},
   "outputs": [],
   "source": [
    "#NOTE: stiffness matrices are made with the opposite sign in `myelindomains`\n",
    "W = -getstiffness(myelindomains[1]);"
   ]
  },
  {
   "cell_type": "code",
   "execution_count": null,
   "metadata": {},
   "outputs": [],
   "source": [
    "@assert W ≈ -W'"
   ]
  },
  {
   "cell_type": "markdown",
   "metadata": {},
   "source": [
    "## $R_2$ contributions"
   ]
  },
  {
   "cell_type": "code",
   "execution_count": null,
   "metadata": {},
   "outputs": [],
   "source": [
    "btparams = BlochTorreyParameters{Float64}(\n",
    "    theta = π/2,\n",
    "    D_Tissue = 0.0, # [μm²/s]\n",
    "    D_Sheath = 0.0, # [μm²/s]\n",
    "    D_Axon = 0.0, # [μm²/s]\n",
    "    K_perm = 0.0, # [μm/s]\n",
    "    B0 = 0.0, # [T]\n",
    "    R2_Tissue = 1.0, # [Hz]\n",
    "    R2_sp = 1.0, # [Hz]\n",
    "    R2_lp = 1.0, # [Hz]\n",
    "    );"
   ]
  },
  {
   "cell_type": "code",
   "execution_count": null,
   "metadata": {},
   "outputs": [],
   "source": [
    "myelinprob, myelinsubdomains, myelindomains = createdomains(btparams,\n",
    "    exteriorgrids, torigrids, interiorgrids, outercircles, innercircles);"
   ]
  },
  {
   "cell_type": "code",
   "execution_count": null,
   "metadata": {},
   "outputs": [],
   "source": [
    "#NOTE: stiffness matrices are made with the opposite sign in `myelindomains`\n",
    "R1 = -getstiffness(myelindomains[1])[1:2:end, 1:2:end];\n",
    "R2 = -getstiffness(myelindomains[1])[2:2:end, 2:2:end];\n",
    "M1 = getmass(myelindomains[1])[1:2:end, 1:2:end];\n",
    "M2 = getmass(myelindomains[1])[2:2:end, 2:2:end];"
   ]
  },
  {
   "cell_type": "code",
   "execution_count": null,
   "metadata": {},
   "outputs": [],
   "source": [
    "@assert R1 ≈ R2\n",
    "@assert M1 ≈ M2\n",
    "@assert R1 ≈ M1\n",
    "@assert isposdef(M1) && isposdef(M2)"
   ]
  },
  {
   "cell_type": "markdown",
   "metadata": {},
   "source": [
    "# Bloch-Torrey Propagation testing"
   ]
  },
  {
   "cell_type": "markdown",
   "metadata": {},
   "source": [
    "### Zero-axon grids"
   ]
  },
  {
   "cell_type": "code",
   "execution_count": null,
   "metadata": {},
   "outputs": [],
   "source": [
    "bdry = Rectangle((-1.0,-1.0), (1.0,1.0))\n",
    "p, t = distmesh2d(\n",
    "    x -> drectangle0(x, bdry), # fd\n",
    "    x -> one(eltype(x)), # fh\n",
    "    0.2, # h0\n",
    "    [xmin(bdry) ymin(bdry); xmax(bdry) ymax(bdry)]; # bbox\n",
    "    PLOT = false,\n",
    "    PLOTLAST = false,\n",
    "    MAXSTALLITERS = 10\n",
    ");\n",
    "exteriorgrids = [Grid(p,t)];\n",
    "torigrids, interiorgrids = typeof(exteriorgrids[1])[], typeof(exteriorgrids[1])[];\n",
    "outercircles, innercircles = Circle{2,Float64}[], Circle{2,Float64}[];"
   ]
  },
  {
   "cell_type": "code",
   "execution_count": null,
   "metadata": {},
   "outputs": [],
   "source": [
    "# let g=interiorgrids[1], n=rand(1:getnnodes(g))\n",
    "#     simpplot(g; newfigure = true);\n",
    "#     mxcall(:hold, 0, \"on\");\n",
    "\n",
    "#     nodes = [c.nodes for c in g.cells if n ∈ c.nodes]\n",
    "#     nodes = unique(reduce(vcat, [nds...] for nds in nodes))\n",
    "#     coords = g.nodes[nodes] .|> getcoordinates\n",
    "    \n",
    "#     X = reshape(reinterpret(Float64, coords), (2,length(coords)))' |> copy\n",
    "#     mxcall(:scatter3, 0, X[:,1], X[:,2], ones(size(X,1),1), 100, \"ro\", \"fill\", \"r\")\n",
    "#     mxcall(:scatter3, 0, Tuple(g.nodes[n].x)..., 1.0, 100, \"bo\", \"fill\", \"b\")\n",
    "# end"
   ]
  },
  {
   "cell_type": "markdown",
   "metadata": {},
   "source": [
    "### Single-axon grids"
   ]
  },
  {
   "cell_type": "code",
   "execution_count": null,
   "metadata": {
    "scrolled": false
   },
   "outputs": [],
   "source": [
    "exteriorgrids, torigrids, interiorgrids, outercircles, innercircles, bdry = creategeometry(\n",
    "    BlochTorreyParameters{Float64}(g_ratio = 2//3);\n",
    "    N = 1, # Number of circles\n",
    "    bdry = Rectangle((-1.0,-1.0), (1.0,1.0)),\n",
    "    outercircles = [Circle(Vec{2}((0.0,0.0)), 0.75)],\n",
    "    PLOT = true,\n",
    "    RESOLUTION = 0.5 # 1.0\n",
    ");"
   ]
  },
  {
   "cell_type": "code",
   "execution_count": null,
   "metadata": {},
   "outputs": [],
   "source": [
    "# # Keep only \"exterior\" region; outer/innercircles should be empty, as well as tori/interior grids\n",
    "# exteriorgrids, torigrids, interiorgrids = exteriorgrids, typeof(grid)[], typeof(grid)[];\n",
    "# outercircles, innercircles = Circle{2,Float64}[], Circle{2,Float64}[];\n",
    "\n",
    "# # Keep only \"tori\" region\n",
    "# emptygrid = Grid(eltype(grid.cells)[], eltype(grid.nodes)[]);\n",
    "# exteriorgrids, torigrids, interiorgrids = [deepcopy(emptygrid)], torigrids, [deepcopy(emptygrid)];\n",
    "\n",
    "# # Treat whole domain as one \"interior\" region\n",
    "# emptygrid = Grid(eltype(grid.cells)[], eltype(grid.nodes)[]);\n",
    "# exteriorgrids, torigrids, interiorgrids = [deepcopy(emptygrid)], [deepcopy(emptygrid)], interiorgrids;\n",
    "# # exteriorgrids, torigrids, interiorgrids = [deepcopy(emptygrid)], [deepcopy(emptygrid)], [deepcopy(grid)];\n",
    "\n",
    "# # Treat whole domain as adjacent \"interior/tori\" regions\n",
    "# emptygrid = Grid(eltype(grid.cells)[], eltype(grid.nodes)[]);\n",
    "# leftgrid = transform!(deepcopy(grid), x->Vec{2}(((1+x[1])/2 - 1, x[2])))\n",
    "# rightgrid = transform!(deepcopy(grid), x->Vec{2}(((1+x[1])/2, x[2])))\n",
    "# # exteriorgrids, torigrids, interiorgrids = [deepcopy(emptygrid)], [leftgrid], [rightgrid];\n",
    "# exteriorgrids, torigrids, interiorgrids = [leftgrid], [rightgrid], [deepcopy(emptygrid)];"
   ]
  },
  {
   "cell_type": "markdown",
   "metadata": {},
   "source": [
    "### Myelin domains"
   ]
  },
  {
   "cell_type": "code",
   "execution_count": null,
   "metadata": {},
   "outputs": [],
   "source": [
    "btparams = BlochTorreyParameters{Float64}(\n",
    "    theta = π/2,\n",
    "    g_ratio = 0.7,\n",
    "    D_Tissue = 0.01, #0.0, #1e-3, #1.0e-1, # [μm²/s]\n",
    "    D_Sheath = 0.01, #0.0, #1e-3, #1.0e-1, # [μm²/s]\n",
    "    D_Axon = 0.01, #0.0, #1e-3, #1.0e-1, # [μm²/s]\n",
    "    K_perm = 0.1, #10.0, # [μm/s]\n",
    "    B0 = 0.0, # [T]\n",
    "    R2_Tissue = 1.0, # [Hz]\n",
    "    R2_sp = 1.0, # [Hz]\n",
    "    R2_lp = 1.0, # [Hz]\n",
    "    );"
   ]
  },
  {
   "cell_type": "code",
   "execution_count": null,
   "metadata": {
    "scrolled": false
   },
   "outputs": [],
   "source": [
    "myelinprob, myelinsubdomains, myelindomains = createdomains(btparams,\n",
    "    exteriorgrids, torigrids, interiorgrids, outercircles, innercircles);"
   ]
  },
  {
   "cell_type": "markdown",
   "metadata": {},
   "source": [
    "### Propagate"
   ]
  },
  {
   "cell_type": "code",
   "execution_count": 23,
   "metadata": {
    "scrolled": true
   },
   "outputs": [
    {
     "name": "stdout",
     "output_type": "stream",
     "text": [
      "i = 1/1: \n",
      "π-pulse at t = 5.0 ms\n",
      "π-pulse at t = 15.0 ms\n",
      "π-pulse at t = 25.0 ms\n",
      "π-pulse at t = 35.0 ms\n",
      "π-pulse at t = 45.0 ms\n",
      "π-pulse at t = 55.0 ms\n",
      "π-pulse at t = 65.0 ms\n",
      "π-pulse at t = 75.0 ms\n",
      "π-pulse at t = 85.0 ms\n",
      "π-pulse at t = 95.0 ms\n",
      "π-pulse at t = 105.0 ms\n",
      "π-pulse at t = 115.0 ms\n",
      "π-pulse at t = 125.0 ms\n",
      "π-pulse at t = 135.0 ms\n",
      "π-pulse at t = 145.0 ms\n",
      "π-pulse at t = 155.0 ms\n",
      "π-pulse at t = 165.0 ms\n",
      "π-pulse at t = 175.0 ms\n",
      "π-pulse at t = 185.0 ms\n",
      "π-pulse at t = 195.0 ms\n",
      "π-pulse at t = 205.0 ms\n",
      "π-pulse at t = 215.0 ms\n",
      "π-pulse at t = 225.0 ms\n",
      "π-pulse at t = 235.0 ms\n",
      "π-pulse at t = 245.0 ms\n",
      "π-pulse at t = 255.0 ms\n",
      "π-pulse at t = 265.0 ms\n",
      "π-pulse at t = 275.0 ms\n",
      "π-pulse at t = 285.0 ms\n",
      "π-pulse at t = 295.0 ms\n",
      "π-pulse at t = 305.0 ms\n",
      "π-pulse at t = 315.0 ms\n",
      "  3.535283 seconds (36.58 k allocations: 774.538 MiB, 4.41% gc time)\n",
      "  3.699048 seconds (37.33 k allocations: 795.044 MiB, 5.18% gc time)\n"
     ]
    }
   ],
   "source": [
    "# sols = solveblochtorrey(myelinprob, myelindomains;#, get_algfun(Tsit5());\n",
    "#     tspan = (0.0, 1.0), # (0.0, 320.0e-3)\n",
    "#     TE = 0.1, # 10e-3\n",
    "#     ts = 0.0:0.1:1.0, # tspan[1]:TE/2:tspan[2], # tstops, which includes π-pulse times\n",
    "#     u0 = Vec{2}((0.0, 1.0)), # initial π/2 pulse\n",
    "#     cb = nothing, # MultiSpinEchoCallback(tspan; TE = TE),\n",
    "#     reltol = 1e-4,\n",
    "#     abstol = 1e-4\n",
    "# );\n",
    "sols = solveblochtorrey(myelinprob, myelindomains;#, get_algfun(Tsit5());\n",
    "    tspan = (0.0, 320.0e-3),\n",
    "    TE = 10e-3,\n",
    "    reltol = 1e-4,\n",
    "    abstol = 1e-4\n",
    ");"
   ]
  },
  {
   "cell_type": "code",
   "execution_count": 24,
   "metadata": {},
   "outputs": [],
   "source": [
    "paramstr = \"theta = $(rad2deg(btparams.theta)) deg, D = $(btparams.D_Tissue) um2/s, K = $(btparams.K_perm) um/s\"\n",
    "plotmagnitude(sols, btparams, myelindomains, bdry; titlestr = \"Magnitude: \" * paramstr)\n",
    "# plotphase(sols, btparams, myelindomains, bdry; titlestr = \"Phase: \" * paramstr)"
   ]
  },
  {
   "cell_type": "code",
   "execution_count": null,
   "metadata": {},
   "outputs": [],
   "source": [
    "simpplot(getgrid.(myelindomains); newfigure = true, axis = mxaxis(bdry), facecol = calcomega(myelinprob, myelinsubdomains))"
   ]
  },
  {
   "cell_type": "code",
   "execution_count": null,
   "metadata": {},
   "outputs": [],
   "source": []
  },
  {
   "cell_type": "code",
   "execution_count": null,
   "metadata": {},
   "outputs": [],
   "source": [
    "# let m = myelinsubdomains[1], d = getdomain(m), g=getgrid(d)#, n=rand(1:getnnodes(g))\n",
    "#     dh = getdofhandler(d)\n",
    "#     perm = zeros(Int, ndofs(dh))\n",
    "#     for cell in CellIterator(getdofhandler(d))\n",
    "#         for (i,n) in enumerate(cell.nodes)\n",
    "#             perm[cell.celldofs[2i-1]] = 2n-1\n",
    "#             perm[cell.celldofs[2i]] = 2n\n",
    "#         end\n",
    "#     end\n",
    "#     @show perm\n",
    "#     @show isperm(perm)\n",
    "# end"
   ]
  },
  {
   "cell_type": "code",
   "execution_count": null,
   "metadata": {},
   "outputs": [],
   "source": [
    "# let m = myelindomains[1], d = getdomain(m), g=getgrid(d)#, n=rand(1:getnnodes(g))\n",
    "# #     dh = getdofhandler(d)\n",
    "#     for n in 91#rand(1:getnnodes(g))\n",
    "#         @show n\n",
    "#         all_idxs = []\n",
    "#         for cell in CellIterator(getdofhandler(d))\n",
    "#             if n ∈ cell.nodes\n",
    "# #                 @show cell.current_cellid[]\n",
    "#                 @show cell.nodes\n",
    "#                 @show cell.celldofs\n",
    "#                 idx = findall(cell.nodes.==n)[]\n",
    "#                 push!(all_idxs, cell.celldofs[2*idx-1:2*idx])\n",
    "#             end\n",
    "#         end\n",
    "#         if length(unique(all_idxs)) != 1\n",
    "#             @show n\n",
    "#             @show all_idxs\n",
    "#         end\n",
    "#     end\n",
    "# end"
   ]
  },
  {
   "cell_type": "code",
   "execution_count": null,
   "metadata": {},
   "outputs": [],
   "source": [
    "# utest = map(myelinsubdomains) do m\n",
    "#     Ktest = copy(getstiffness(m));\n",
    "#     xtest = getcoordinates.(getnodes(getgrid(getdomain(m))));\n",
    "#     circfuntest = x -> norm2(x - Vec{2}((0.5,0.5))) <= (0.5 + 1e-6)^2\n",
    "#     ftest = reinterpret(Float64, [circfuntest(x) ? Vec{2}((0.0,1.0)) : zero(x) for x in xtest]) |> copy\n",
    "#     utest = Ktest\\ftest;\n",
    "#     utest\n",
    "# end"
   ]
  },
  {
   "cell_type": "code",
   "execution_count": null,
   "metadata": {},
   "outputs": [],
   "source": [
    "# # simpplot(getgrid.(myelinsubdomains);\n",
    "# #     newfigure = true, axis = mxaxis(bdry),\n",
    "# #     facecol = norm.(reinterpret(Vec{2,Float64}, reduce(vcat, utest))))\n",
    "# for (m,u) in zip(myelinsubdomains, utest)\n",
    "#     simpplot(getgrid(m);\n",
    "#         newfigure = true, axis = mxaxis(bdry),\n",
    "#         facecol = norm.(reinterpret(Vec{2,Float64}, u)))\n",
    "# end"
   ]
  },
  {
   "cell_type": "code",
   "execution_count": null,
   "metadata": {},
   "outputs": [],
   "source": [
    "# mxcall(:scatter3, 0, [0.437048], [0.0315435], [1.0], \".\")"
   ]
  },
  {
   "cell_type": "code",
   "execution_count": null,
   "metadata": {},
   "outputs": [],
   "source": [
    "# getnnodes.(getgrid.(getdomain.(myelinsubdomains))) |> sum;\n",
    "# getnnodes.(getgrid.(getdomain.([myelinsubdomains[1]])))"
   ]
  },
  {
   "cell_type": "code",
   "execution_count": null,
   "metadata": {},
   "outputs": [],
   "source": [
    "# # spy(getstiffness(myedoms[1]); height = 30);\n",
    "# # getstiffness(myedoms[1])[1,:] |> Array |> x -> x[.!(x.≈0)]\n",
    "# Kmye = getstiffness(myedoms[1])[1:30,1:30] |> Array;\n",
    "# length.([Kmye[i,.!(Kmye[i,:].≈0)] for i in 2:2:size(Kmye,1)]) |> sort"
   ]
  },
  {
   "cell_type": "code",
   "execution_count": null,
   "metadata": {},
   "outputs": [],
   "source": [
    "# spy(getstiffness(adjdoms[1]); height = 30);\n",
    "# getstiffness(adjdoms[1])[rand(1:180),:] |> Array |> x -> x[.!(x.≈0)]"
   ]
  },
  {
   "cell_type": "code",
   "execution_count": null,
   "metadata": {},
   "outputs": [],
   "source": []
  },
  {
   "cell_type": "code",
   "execution_count": null,
   "metadata": {},
   "outputs": [],
   "source": [
    "# adjdoms = deepcopy(myelindomains); adjsols = deepcopy(sols);\n",
    "# myedoms = deepcopy(myelindomains); myesols = deepcopy(sols);"
   ]
  },
  {
   "cell_type": "code",
   "execution_count": null,
   "metadata": {},
   "outputs": [],
   "source": [
    "calcsignal(adjsols, [1.0], adjdoms)"
   ]
  },
  {
   "cell_type": "code",
   "execution_count": null,
   "metadata": {},
   "outputs": [],
   "source": [
    "calcsignal(myesols, [1.0], myedoms)"
   ]
  },
  {
   "cell_type": "code",
   "execution_count": null,
   "metadata": {},
   "outputs": [],
   "source": [
    "for f in [maximum, minimum, median, mean]\n",
    "    u1 = adjsols[1].u[end][2:2:end]\n",
    "    u2 = myesols[1].u[end][2:2:end]\n",
    "    @show f, f(u1), f(u2)\n",
    "end"
   ]
  },
  {
   "cell_type": "code",
   "execution_count": null,
   "metadata": {},
   "outputs": [],
   "source": [
    "histogram(adjsols[1].u[end][2:2:end]; nbins = 25)"
   ]
  },
  {
   "cell_type": "code",
   "execution_count": null,
   "metadata": {},
   "outputs": [],
   "source": [
    "histogram(myesols[1].u[end][2:2:end]; nbins = 25)"
   ]
  },
  {
   "cell_type": "code",
   "execution_count": null,
   "metadata": {},
   "outputs": [],
   "source": [
    "g1, g2 = deepcopy(interiorgrids[1]), deepcopy(getgrid(myelindomains[1]));"
   ]
  },
  {
   "cell_type": "code",
   "execution_count": null,
   "metadata": {
    "scrolled": false
   },
   "outputs": [],
   "source": [
    "[getfield(g1,f) == getfield(g2,f) for f in fieldnames(typeof(g1))]"
   ]
  },
  {
   "cell_type": "code",
   "execution_count": null,
   "metadata": {},
   "outputs": [],
   "source": [
    "# getfaceset(getgrid(myelindomains[1]), \"boundary\")\n",
    "# union(getfaceset.((exteriorgrids[1], interiorgrids[1], torigrids[1]), \"boundary\")...) |> length"
   ]
  },
  {
   "cell_type": "code",
   "execution_count": null,
   "metadata": {},
   "outputs": [],
   "source": [
    "# getfaceset.(getgrid.(myelinsubdomains), \"boundary\") .|> length"
   ]
  },
  {
   "cell_type": "code",
   "execution_count": null,
   "metadata": {},
   "outputs": [],
   "source": [
    "getstiffness(myelindomains[1])"
   ]
  },
  {
   "cell_type": "code",
   "execution_count": null,
   "metadata": {},
   "outputs": [],
   "source": [
    "# @show exteriorgrids\n",
    "# @show interiorgrids\n",
    "# @show torigrids"
   ]
  },
  {
   "cell_type": "code",
   "execution_count": null,
   "metadata": {},
   "outputs": [],
   "source": [
    "function disp_grid_nodes(grid)\n",
    "    for c in grid.cells\n",
    "        @show c.nodes\n",
    "        println(collect(grid.nodes[n].x for n in c.nodes))\n",
    "    end\n",
    "end"
   ]
  },
  {
   "cell_type": "code",
   "execution_count": null,
   "metadata": {},
   "outputs": [],
   "source": [
    "using DistMesh;\n",
    "DistMesh.boundedges(interiorgrids[1])"
   ]
  },
  {
   "cell_type": "code",
   "execution_count": null,
   "metadata": {
    "scrolled": true
   },
   "outputs": [],
   "source": [
    "# _tmp = falses(3, getncells(interiorgrids[1]));\n",
    "# ns = [];\n",
    "# for (c,f) in interiorgrids[1].facesets[\"boundary\"]\n",
    "#     _tmp[f,c] = true\n",
    "#     ce = interiorgrids[1].cells[c]\n",
    "#     fe = JuAFEM.faces(ce)[f]\n",
    "# #     @show JuAFEM.faces(ce)\n",
    "#     n1 = interiorgrids[1].nodes[fe[1]].x\n",
    "#     n2 = interiorgrids[1].nodes[fe[2]].x\n",
    "# #     @show norm(n1), norm(n2)\n",
    "# #     @show n1, n2\n",
    "#     push!(ns, (n1,n2))\n",
    "# end;\n",
    "# _tmp';\n",
    "# sort!(ns; by = x->angle(x[1]))"
   ]
  },
  {
   "cell_type": "code",
   "execution_count": null,
   "metadata": {
    "scrolled": true
   },
   "outputs": [],
   "source": [
    "K, M = -getstiffness(myelindomains[1]), getmass(myelindomains[1]);"
   ]
  },
  {
   "cell_type": "code",
   "execution_count": null,
   "metadata": {},
   "outputs": [],
   "source": [
    "isposdef(K), isposdef(M)\n",
    "# cond(Array(K)), cond(Array(M))"
   ]
  },
  {
   "cell_type": "code",
   "execution_count": null,
   "metadata": {},
   "outputs": [],
   "source": [
    "exp(-1.0), exp(-0.1)"
   ]
  },
  {
   "cell_type": "code",
   "execution_count": null,
   "metadata": {},
   "outputs": [],
   "source": [
    "(830, 1114, 476, 618)"
   ]
  },
  {
   "cell_type": "code",
   "execution_count": null,
   "metadata": {},
   "outputs": [],
   "source": [
    "sols[1].u[end][294], sols[1].u[end][734]"
   ]
  },
  {
   "cell_type": "code",
   "execution_count": null,
   "metadata": {},
   "outputs": [],
   "source": [
    "sols[1].u[end][830], sols[1].u[end][618]"
   ]
  },
  {
   "cell_type": "code",
   "execution_count": null,
   "metadata": {},
   "outputs": [],
   "source": []
  },
  {
   "cell_type": "code",
   "execution_count": null,
   "metadata": {},
   "outputs": [],
   "source": [
    "sols[1].u[end][616], sols[1].u[end][940]"
   ]
  },
  {
   "cell_type": "code",
   "execution_count": null,
   "metadata": {},
   "outputs": [],
   "source": [
    "sols[1].u[end][1114], sols[1].u[end][476]"
   ]
  }
 ],
 "metadata": {
  "kernelspec": {
   "display_name": "Julia 1.1.0",
   "language": "julia",
   "name": "julia-1.1"
  },
  "language_info": {
   "file_extension": ".jl",
   "mimetype": "application/julia",
   "name": "julia",
   "version": "1.1.0"
  }
 },
 "nbformat": 4,
 "nbformat_minor": 3
}
