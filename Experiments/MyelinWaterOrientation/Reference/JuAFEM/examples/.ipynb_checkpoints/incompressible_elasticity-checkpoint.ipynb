{
 "cells": [
  {
   "cell_type": "markdown",
   "metadata": {},
   "source": [
    "# Incompressible Elasticity"
   ]
  },
  {
   "cell_type": "markdown",
   "metadata": {},
   "source": [
    "## Introduction\n",
    "\n",
    "Mixed elements can be used to overcome locking when the material becomes\n",
    "incompressible. However, for an element to be stable, it needs to fulfill\n",
    "the LBB condition.\n",
    "In this example we will consider two different element formulations\n",
    "- linear displacement with linear pressure approximation (does *not* fulfill LBB)\n",
    "- quadratic displacement with linear pressure approximation (does fulfill LBB)\n",
    "The quadratic/linear element is also known as the Taylor-Hood element.\n",
    "We will consider Cook's Membrane with an applied traction on the right hand side."
   ]
  },
  {
   "cell_type": "markdown",
   "metadata": {},
   "source": [
    "## Commented Program"
   ]
  },
  {
   "cell_type": "code",
   "execution_count": 1,
   "metadata": {},
   "outputs": [],
   "source": [
    "using JuAFEM\n",
    "using BlockArrays"
   ]
  },
  {
   "cell_type": "markdown",
   "metadata": {},
   "source": [
    "First we generate a simple grid, specifying the 4 corners of Cooks membrane."
   ]
  },
  {
   "cell_type": "code",
   "execution_count": 2,
   "metadata": {},
   "outputs": [],
   "source": [
    "function create_cook_grid(nx, ny)\n",
    "    corners = [Vec{2}((0.0,   0.0)),\n",
    "               Vec{2}((48.0, 44.0)),\n",
    "               Vec{2}((48.0, 60.0)),\n",
    "               Vec{2}((0.0,  44.0))]\n",
    "    grid = generate_grid(Triangle, (nx, ny), corners);\n",
    "    # facesets for boundary conditions\n",
    "    addfaceset!(grid, \"clamped\", x -> norm(x[1]) ≈ 0.0);\n",
    "    addfaceset!(grid, \"traction\", x -> norm(x[1]) ≈ 48.0);\n",
    "    return grid\n",
    "end;"
   ]
  },
  {
   "cell_type": "markdown",
   "metadata": {},
   "source": [
    "Next we define a function to set up our cell- and facevalues."
   ]
  },
  {
   "cell_type": "code",
   "execution_count": 3,
   "metadata": {},
   "outputs": [],
   "source": [
    "function create_values(interpolation_u, interpolation_p)\n",
    "    # quadrature rules\n",
    "    qr      = QuadratureRule{2,RefTetrahedron}(3)\n",
    "    face_qr = QuadratureRule{1,RefTetrahedron}(3)\n",
    "\n",
    "    # geometric interpolation\n",
    "    interpolation_geom = Lagrange{2,RefTetrahedron,1}()\n",
    "\n",
    "    # cell and facevalues for u\n",
    "    cellvalues_u = CellVectorValues(qr, interpolation_u, interpolation_geom)\n",
    "    facevalues_u = FaceVectorValues(face_qr, interpolation_u, interpolation_geom)\n",
    "\n",
    "    # cellvalues for p\n",
    "    cellvalues_p = CellScalarValues(qr, interpolation_p, interpolation_geom)\n",
    "\n",
    "    return cellvalues_u, cellvalues_p, facevalues_u\n",
    "end;"
   ]
  },
  {
   "cell_type": "markdown",
   "metadata": {},
   "source": [
    "We create a DofHandler, with two fields, `:u` and `:p`,\n",
    "with possibly different interpolations"
   ]
  },
  {
   "cell_type": "code",
   "execution_count": 4,
   "metadata": {},
   "outputs": [],
   "source": [
    "function create_dofhandler(grid, ipu, ipp)\n",
    "    dh = DofHandler(grid)\n",
    "    push!(dh, :u, 2, ipu) # displacement\n",
    "    push!(dh, :p, 1, ipp) # pressure\n",
    "    close!(dh)\n",
    "    return dh\n",
    "end;"
   ]
  },
  {
   "cell_type": "markdown",
   "metadata": {},
   "source": [
    "We also need to add Dirichlet boundary conditions on the `\"clamped\"` faceset.\n",
    "We specify a homogeneous Dirichlet bc on the displacement field, `:u`."
   ]
  },
  {
   "cell_type": "code",
   "execution_count": 5,
   "metadata": {},
   "outputs": [],
   "source": [
    "function create_bc(dh)\n",
    "    dbc = ConstraintHandler(dh)\n",
    "    add!(dbc, Dirichlet(:u, getfaceset(dh.grid, \"clamped\"), (x,t) -> zero(Vec{2}), [1,2]))\n",
    "    close!(dbc)\n",
    "    t = 0.0\n",
    "    update!(dbc, t)\n",
    "    return dbc\n",
    "end;"
   ]
  },
  {
   "cell_type": "markdown",
   "metadata": {},
   "source": [
    "The material is linear elastic, which is here specified by the shear and bulk moduli"
   ]
  },
  {
   "cell_type": "code",
   "execution_count": 6,
   "metadata": {},
   "outputs": [],
   "source": [
    "struct LinearElasticity{T}\n",
    "    G::T\n",
    "    K::T\n",
    "end"
   ]
  },
  {
   "cell_type": "markdown",
   "metadata": {},
   "source": [
    "Now to the assembling of the stiffness matrix. This mixed formulation leads to a blocked\n",
    "element matrix. Since JuAFEM does not force us to use any particular matrix type we will\n",
    "use a `PseudoBlockArray` from `BlockArrays.jl`."
   ]
  },
  {
   "cell_type": "code",
   "execution_count": 7,
   "metadata": {},
   "outputs": [],
   "source": [
    "function doassemble(cellvalues_u::CellVectorValues{dim}, cellvalues_p::CellScalarValues{dim},\n",
    "                    facevalues_u::FaceVectorValues{dim}, K::SparseMatrixCSC, grid::Grid,\n",
    "                    dh::DofHandler, mp::LinearElasticity) where {dim}\n",
    "\n",
    "    f = zeros(ndofs(dh))\n",
    "    assembler = start_assemble(K, f)\n",
    "    nu = getnbasefunctions(cellvalues_u)\n",
    "    np = getnbasefunctions(cellvalues_p)\n",
    "\n",
    "    fe = PseudoBlockArray(zeros(nu + np), [nu, np]) # local force vector\n",
    "    ke = PseudoBlockArray(zeros(nu + np, nu + np), [nu, np], [nu, np]) # local stiffness matrix\n",
    "\n",
    "    # traction vector\n",
    "    t = Vec{2}((0.0, 1/16))\n",
    "    # cache ɛdev outside the element routine to avoid some unnecessary allocations\n",
    "    ɛdev = [zero(SymmetricTensor{2, dim}) for i in 1:getnbasefunctions(cellvalues_u)]\n",
    "\n",
    "    for cell in CellIterator(dh)\n",
    "        fill!(ke, 0)\n",
    "        fill!(fe, 0)\n",
    "        assemble_up!(ke, fe, cell, cellvalues_u, cellvalues_p, facevalues_u, grid, mp, ɛdev, t)\n",
    "        assemble!(assembler, celldofs(cell), fe, ke)\n",
    "    end\n",
    "\n",
    "    return K, f\n",
    "end;"
   ]
  },
  {
   "cell_type": "markdown",
   "metadata": {},
   "source": [
    "The element routine integrates the local stiffness and force vector for all elements.\n",
    "Since the problem results in a symmetric matrix we choose to only assemble the lower part,\n",
    "and then symmetrize it after the loop over the quadrature points."
   ]
  },
  {
   "cell_type": "code",
   "execution_count": 8,
   "metadata": {},
   "outputs": [],
   "source": [
    "function assemble_up!(Ke, fe, cell, cellvalues_u, cellvalues_p, facevalues_u, grid, mp, ɛdev, t)\n",
    "\n",
    "    n_basefuncs_u = getnbasefunctions(cellvalues_u)\n",
    "    n_basefuncs_p = getnbasefunctions(cellvalues_p)\n",
    "    u▄, p▄ = 1, 2\n",
    "    reinit!(cellvalues_u, cell)\n",
    "    reinit!(cellvalues_p, cell)\n",
    "\n",
    "    # We only assemble lower half triangle of the stiffness matrix and then symmetrize it.\n",
    "    @inbounds for q_point in 1:getnquadpoints(cellvalues_u)\n",
    "        for i in 1:n_basefuncs_u\n",
    "            ɛdev[i] = dev(symmetric(shape_gradient(cellvalues_u, q_point, i)))\n",
    "        end\n",
    "        dΩ = getdetJdV(cellvalues_u, q_point)\n",
    "        for i in 1:n_basefuncs_u\n",
    "            divδu = shape_divergence(cellvalues_u, q_point, i)\n",
    "            δu = shape_value(cellvalues_u, q_point, i)\n",
    "            for j in 1:i\n",
    "                Ke[BlockIndex((u▄, u▄), (i, j))] += 2 * mp.G * ɛdev[i] ⊡ ɛdev[j] * dΩ\n",
    "            end\n",
    "        end\n",
    "\n",
    "        for i in 1:n_basefuncs_p\n",
    "            δp = shape_value(cellvalues_p, q_point, i)\n",
    "            for j in 1:n_basefuncs_u\n",
    "                divδu = shape_divergence(cellvalues_u, q_point, j)\n",
    "                Ke[BlockIndex((p▄, u▄), (i, j))] += -δp * divδu * dΩ\n",
    "            end\n",
    "            for j in 1:i\n",
    "                p = shape_value(cellvalues_p, q_point, j)\n",
    "                Ke[BlockIndex((p▄, p▄), (i, j))] += - 1/mp.K * δp * p * dΩ\n",
    "            end\n",
    "\n",
    "        end\n",
    "    end\n",
    "\n",
    "    symmetrize_lower!(Ke)\n",
    "    # We integrate the Neumann boundary using the facevalues.\n",
    "    # We loop over all the faces in the cell, then check if the face\n",
    "    # is in our `\"traction\"` faceset.\n",
    "    @inbounds for face in 1:nfaces(cell)\n",
    "        if onboundary(cell, face) && (cellid(cell), face) ∈ getfaceset(grid, \"traction\")\n",
    "            reinit!(facevalues_u, cell, face)\n",
    "            for q_point in 1:getnquadpoints(facevalues_u)\n",
    "                dΓ = getdetJdV(facevalues_u, q_point)\n",
    "                for i in 1:n_basefuncs_u\n",
    "                    δu = shape_value(facevalues_u, q_point, i)\n",
    "                    fe[i] += (δu ⋅ t) * dΓ\n",
    "                end\n",
    "            end\n",
    "        end\n",
    "    end\n",
    "end\n",
    "\n",
    "function symmetrize_lower!(K)\n",
    "    for i in 1:size(K,1)\n",
    "        for j in i+1:size(K,1)\n",
    "            K[i,j] = K[j,i]\n",
    "        end\n",
    "    end\n",
    "end;"
   ]
  },
  {
   "cell_type": "markdown",
   "metadata": {},
   "source": [
    "Now we have constructed all the necessary components, we just need a function\n",
    "to put it all together."
   ]
  },
  {
   "cell_type": "code",
   "execution_count": 9,
   "metadata": {},
   "outputs": [
    {
     "data": {
      "text/plain": [
       "solve (generic function with 1 method)"
      ]
     },
     "execution_count": 9,
     "metadata": {},
     "output_type": "execute_result"
    }
   ],
   "source": [
    "function solve(ν, interpolation_u, interpolation_p)\n",
    "    # material\n",
    "    Emod = 1.\n",
    "    Gmod = Emod / 2(1 + ν)\n",
    "    Kmod = Emod * ν / ((1+ν) * (1-2ν))\n",
    "    mp = LinearElasticity(Gmod, Kmod)\n",
    "\n",
    "    # grid, dofhandler, boundary condition\n",
    "    n = 50\n",
    "    grid = create_cook_grid(n, n)\n",
    "    dh = create_dofhandler(grid, interpolation_u, interpolation_p)\n",
    "    dbc = create_bc(dh)\n",
    "\n",
    "    # cellvalues\n",
    "    cellvalues_u, cellvalues_p, facevalues_u = create_values(interpolation_u, interpolation_p)\n",
    "\n",
    "    # assembly and solve\n",
    "    K = create_sparsity_pattern(dh);\n",
    "    K, f = doassemble(cellvalues_u, cellvalues_p, facevalues_u, K, grid, dh, mp);\n",
    "    apply!(K, f, dbc)\n",
    "    u = Symmetric(K) \\ f;\n",
    "\n",
    "    # export\n",
    "    filename = \"cook_\" * (isa(interpolation_u, Lagrange{2,RefTetrahedron,1}) ? \"linear\" : \"quadratic\") * \"_linear\"\n",
    "    vtk_grid(filename, dh) do vtkfile\n",
    "        vtk_point_data(vtkfile, dh, u)\n",
    "    end\n",
    "    \n",
    "    return u\n",
    "end"
   ]
  },
  {
   "cell_type": "markdown",
   "metadata": {},
   "source": [
    "All that is left is to solve the problem. We choose a value of Poissons\n",
    "ratio that is near incompressibility -- $ν = 0.5$ -- and thus expect the\n",
    "linear/linear approximation to return garbage, and the quadratic/linear\n",
    "approximation to be stable."
   ]
  },
  {
   "cell_type": "code",
   "execution_count": 10,
   "metadata": {},
   "outputs": [
    {
     "data": {
      "text/plain": [
       "\u001b[1m\u001b[32mTest Passed\u001b[39m\u001b[22m"
      ]
     },
     "execution_count": 10,
     "metadata": {},
     "output_type": "execute_result"
    }
   ],
   "source": [
    "linear    = Lagrange{2,RefTetrahedron,1}()\n",
    "quadratic = Lagrange{2,RefTetrahedron,2}()\n",
    "\n",
    "u1 = solve(0.4999999, linear, linear)\n",
    "u2 = solve(0.4999999, quadratic, linear);\n",
    "\n",
    "# test the result                 #jl\n",
    "using Base.Test                    #jl\n",
    "@test norm(u2) ≈ 919.2122668839389 #jl"
   ]
  },
  {
   "cell_type": "markdown",
   "metadata": {},
   "source": [
    "*This notebook was generated using [Literate.jl](https://github.com/fredrikekre/Literate.jl).*"
   ]
  }
 ],
 "metadata": {
  "kernelspec": {
   "display_name": "Julia 0.6.2",
   "language": "julia",
   "name": "julia-0.6"
  },
  "language_info": {
   "file_extension": ".jl",
   "mimetype": "application/julia",
   "name": "julia",
   "version": "0.6.2"
  }
 },
 "nbformat": 4,
 "nbformat_minor": 3
}
