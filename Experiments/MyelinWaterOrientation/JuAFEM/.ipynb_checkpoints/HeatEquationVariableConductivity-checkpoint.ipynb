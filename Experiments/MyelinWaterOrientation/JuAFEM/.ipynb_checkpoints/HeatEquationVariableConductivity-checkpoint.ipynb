{
 "cells": [
  {
   "cell_type": "markdown",
   "metadata": {},
   "source": [
    "# Heat Equation with Variable Conductivity\n",
    "\n",
    "![](heat_equation.png)"
   ]
  },
  {
   "cell_type": "markdown",
   "metadata": {},
   "source": [
    "## Introduction\n",
    "\n",
    "Here we solve the equation on a unit square, with a uniform internal source, with the diffusion coefficient $k(x)$ given as a generic function.\n",
    "The strong form of the (linear) heat equation is given by\n",
    "\n",
    "\\begin{equation}\n",
    " -\\nabla \\cdot (k \\nabla u) = f  \\quad x \\in \\Omega,\n",
    "\\end{equation}\n",
    "\n",
    "where $u$ is the unknown temperature field, $k$ the heat conductivity,\n",
    "$f$ the heat source and $\\Omega$ the domain. We will consider homogeneous Dirichlet boundary conditions such that\n",
    "\\begin{equation}\n",
    "u(x) = 0 \\quad x \\in \\partial \\Omega,\n",
    "\\end{equation}\n",
    "where $\\partial \\Omega$ denotes the boundary of $\\Omega$.\n",
    "\n",
    "The resulting weak form is given by\n",
    "\\begin{equation}\n",
    "\\int_{\\Omega} k \\nabla v \\cdot \\nabla u \\ d\\Omega = \\int_{\\Omega} f v \\ d\\Omega,\n",
    "\\end{equation}\n",
    "where $v$ is a suitable test function."
   ]
  },
  {
   "cell_type": "markdown",
   "metadata": {},
   "source": [
    "## Commented Program\n",
    "\n",
    "Now we solve the problem in JuAFEM. What follows is a program spliced with comments.\n",
    "\n",
    "First we load the JuAFEM package."
   ]
  },
  {
   "cell_type": "code",
   "execution_count": 112,
   "metadata": {},
   "outputs": [],
   "source": [
    "using JuAFEM\n",
    "using MATLAB\n",
    "using BenchmarkTools"
   ]
  },
  {
   "cell_type": "code",
   "execution_count": 151,
   "metadata": {},
   "outputs": [],
   "source": [
    "include(\"../Utils/mesh_utils.jl\")\n",
    "include(\"../Utils/geometry_utils.jl\")"
   ]
  },
  {
   "cell_type": "markdown",
   "metadata": {},
   "source": [
    "**Option #1**: Generate a simple grid with 20x20 triangular elements\n",
    "using `generate_grid`. The generator defaults to the unit square,\n",
    "so we don't need to specify the corners of the domain."
   ]
  },
  {
   "cell_type": "code",
   "execution_count": 114,
   "metadata": {},
   "outputs": [],
   "source": [
    "#const n = 20\n",
    "#grid = generate_grid(Triangle, (n, n));"
   ]
  },
  {
   "cell_type": "markdown",
   "metadata": {},
   "source": [
    "**Option #2**: External call to `MATLAB` to generate non-uniform grid with circles inside and convert to a `JuAFEM` grid."
   ]
  },
  {
   "cell_type": "code",
   "execution_count": 115,
   "metadata": {},
   "outputs": [],
   "source": [
    "#bbox    = [-20.0 -20.0; 20.0 20.0]/20;\n",
    "#centers = [  5.5   5.5; -7.0 -0.8; -7.0 -0.8]/20;\n",
    "#radii   = [        2.5;       4.9;       2.0]/20;\n",
    "\n",
    "bbox    = [-1.0 -1.0; 1.0 1.0];\n",
    "centers = [ 0.0  0.0];\n",
    "radii   = [      0.5];\n",
    "\n",
    "Nmin = 100; # points for smallest circle\n",
    "h0 = 2pi*minimum(radii)/Nmin; # approximate scale\n",
    "eta = 5.0; # approx ratio between largest/smallest edges"
   ]
  },
  {
   "cell_type": "code",
   "execution_count": 116,
   "metadata": {},
   "outputs": [
    {
     "data": {
      "text/plain": [
       "JuAFEM.Grid{2,3,Float64,3} with 3682 Triangle cells and 1888 nodes"
      ]
     },
     "execution_count": 116,
     "metadata": {},
     "output_type": "execute_result"
    }
   ],
   "source": [
    "# Note: add minimum angle threshold\n",
    "nargout = 2\n",
    "p, t = mxcall(:squareMeshWithCircles, nargout, bbox, centers, radii, h0, eta);\n",
    "\n",
    "cells = [Triangle((t[i,1], t[i,2], t[i,3])) for i in 1:size(t,1)];\n",
    "nodes = [Node((p[i,1], p[i,2])) for i in 1:size(p,1)];\n",
    "grid = Grid(cells, nodes);"
   ]
  },
  {
   "cell_type": "code",
   "execution_count": 117,
   "metadata": {},
   "outputs": [
    {
     "data": {
      "text/plain": [
       "JuAFEM.Grid{2,3,Float64,3} with 3682 Triangle cells and 1888 nodes"
      ]
     },
     "execution_count": 117,
     "metadata": {},
     "output_type": "execute_result"
    }
   ],
   "source": [
    "# Manually add boundary sets for the four square edges\n",
    "addfaceset!(grid, \"left\",   x -> x[1] ≈ bbox[1,1], all=true)\n",
    "addfaceset!(grid, \"right\",  x -> x[1] ≈ bbox[2,1], all=true)\n",
    "addfaceset!(grid, \"top\",    x -> x[2] ≈ bbox[1,2], all=true)\n",
    "addfaceset!(grid, \"bottom\", x -> x[2] ≈ bbox[2,2], all=true)"
   ]
  },
  {
   "cell_type": "markdown",
   "metadata": {},
   "source": [
    "### Heat conductivity $k(x)$ and heat force $f(x)$ functions\n",
    "Define functions $k(x)$ and $f(x)$ for use in assembling the linear system."
   ]
  },
  {
   "cell_type": "code",
   "execution_count": 118,
   "metadata": {},
   "outputs": [
    {
     "data": {
      "text/plain": [
       "conductivity (generic function with 2 methods)"
      ]
     },
     "execution_count": 118,
     "metadata": {},
     "output_type": "execute_result"
    }
   ],
   "source": [
    "#conductivity(x::Vec{2,T}) where T = ifelse(x⋅x > T(0.25), zero(T), one(T))\n",
    "#source(x::Vec{2,T}) where T = ifelse(x⋅x > T(0.25^2), zero(T), T(5.0))\n",
    "conductivity(x::Vec{2,T}) where T = one(T)\n",
    "source(x::Vec{2,T}) where T = one(T)"
   ]
  },
  {
   "cell_type": "markdown",
   "metadata": {},
   "source": [
    "### Trial and test functions\n",
    "A `CellValues` facilitates the process of evaluating values and gradients of\n",
    "test and trial functions (among other things). Since the problem\n",
    "is a scalar problem we will use a `CellScalarValues` object. To define\n",
    "this we need to specify an interpolation space for the shape functions.\n",
    "We use Lagrange functions (both for interpolating the function and the geometry)\n",
    "based on the reference \"cube\". We also define a quadrature rule based on the\n",
    "same reference cube. We combine the interpolation and the quadrature rule\n",
    "to a `CellScalarValues` object."
   ]
  },
  {
   "cell_type": "code",
   "execution_count": 84,
   "metadata": {},
   "outputs": [],
   "source": [
    "dim = 2\n",
    "ip = Lagrange{dim, RefTetrahedron, 1}()\n",
    "qr = QuadratureRule{dim, RefTetrahedron}(2)\n",
    "cellvalues = CellScalarValues(qr, ip);"
   ]
  },
  {
   "cell_type": "markdown",
   "metadata": {},
   "source": [
    "### Degrees of freedom\n",
    "Next we need to define a `DofHandler`, which will take care of numbering\n",
    "and distribution of degrees of freedom for our approximated fields.\n",
    "We create the `DofHandler` and then add a single field called `u`.\n",
    "Lastly we `close!` the `DofHandler`, it is now that the dofs are distributed\n",
    "for all the elements."
   ]
  },
  {
   "cell_type": "code",
   "execution_count": 85,
   "metadata": {},
   "outputs": [],
   "source": [
    "dh = DofHandler(grid)\n",
    "push!(dh, :u, 1)\n",
    "close!(dh);"
   ]
  },
  {
   "cell_type": "markdown",
   "metadata": {},
   "source": [
    "Now that we have distributed all our dofs we can create our tangent matrix,\n",
    "using `create_sparsity_pattern`. This function returns a sparse matrix\n",
    "with the correct elements stored."
   ]
  },
  {
   "cell_type": "code",
   "execution_count": 86,
   "metadata": {},
   "outputs": [],
   "source": [
    "K = create_sparsity_pattern(dh);"
   ]
  },
  {
   "cell_type": "markdown",
   "metadata": {},
   "source": [
    "We can inspect the pattern using the `spy` function from `UnicodePlots.jl`.\n",
    "By default the stored values are set to $0$, so we first need to\n",
    "fill the stored values, e.g. `K.nzval` with something meaningful."
   ]
  },
  {
   "cell_type": "code",
   "execution_count": 96,
   "metadata": {},
   "outputs": [
    {
     "data": {
      "text/plain": [
       "\u001b[37m                         Sparsity Pattern\n",
       "\u001b[39m\u001b[37m        ┌──────────────────────────────────────────────────┐\u001b[39m    \n",
       "      \u001b[37m1\u001b[39m\u001b[37m │\u001b[39m\u001b[31m⣿\u001b[39m\u001b[31m⣿\u001b[39m\u001b[31m⡮\u001b[39m\u001b[31m⣗\u001b[39m\u001b[31m⠹\u001b[39m\u001b[37m⠀\u001b[39m\u001b[31m⠤\u001b[39m\u001b[31m⢹\u001b[39m\u001b[31m⣂\u001b[39m\u001b[31m⠸\u001b[39m\u001b[31m⠄\u001b[39m\u001b[31m⠥\u001b[39m\u001b[37m⠀\u001b[39m\u001b[31m⢸\u001b[39m\u001b[31m⣐\u001b[39m\u001b[37m⠀\u001b[39m\u001b[37m⠀\u001b[39m\u001b[37m⠀\u001b[39m\u001b[37m⠀\u001b[39m\u001b[31m⠅\u001b[39m\u001b[37m⠀\u001b[39m\u001b[37m⠀\u001b[39m\u001b[31m⢀\u001b[39m\u001b[37m⠀\u001b[39m\u001b[31m⡀\u001b[39m\u001b[37m⠀\u001b[39m\u001b[37m⠀\u001b[39m\u001b[37m⠀\u001b[39m\u001b[37m⠀\u001b[39m\u001b[31m⠄\u001b[39m\u001b[37m⠀\u001b[39m\u001b[37m⠀\u001b[39m\u001b[37m⠀\u001b[39m\u001b[31m⠰\u001b[39m\u001b[31m⡂\u001b[39m\u001b[37m⠀\u001b[39m\u001b[31m⠈\u001b[39m\u001b[37m⠀\u001b[39m\u001b[37m⠀\u001b[39m\u001b[37m⠀\u001b[39m\u001b[31m⡀\u001b[39m\u001b[37m⠀\u001b[39m\u001b[31m⠈\u001b[39m\u001b[37m⠀\u001b[39m\u001b[37m⠀\u001b[39m\u001b[37m⠀\u001b[39m\u001b[37m⠀\u001b[39m\u001b[37m⠀\u001b[39m\u001b[31m⠐\u001b[39m\u001b[37m⠀\u001b[39m\u001b[37m│\u001b[39m \u001b[31m> 0\u001b[39m\n",
       "       \u001b[37m\u001b[39m\u001b[37m │\u001b[39m\u001b[31m⢮\u001b[39m\u001b[31m⢯\u001b[39m\u001b[31m⡱\u001b[39m\u001b[31m⣮\u001b[39m\u001b[31m⡍\u001b[39m\u001b[31m⠓\u001b[39m\u001b[31m⠒\u001b[39m\u001b[31m⢮\u001b[39m\u001b[31m⣬\u001b[39m\u001b[31m⠉\u001b[39m\u001b[31m⠁\u001b[39m\u001b[31m⠲\u001b[39m\u001b[31m⠆\u001b[39m\u001b[31m⡠\u001b[39m\u001b[31m⣭\u001b[39m\u001b[31m⠈\u001b[39m\u001b[31m⠈\u001b[39m\u001b[37m⠀\u001b[39m\u001b[31m⠑\u001b[39m\u001b[31m⠂\u001b[39m\u001b[31m⠠\u001b[39m\u001b[31m⠐\u001b[39m\u001b[31m⢀\u001b[39m\u001b[31m⠄\u001b[39m\u001b[31m⣀\u001b[39m\u001b[31m⠁\u001b[39m\u001b[37m⠀\u001b[39m\u001b[37m⠀\u001b[39m\u001b[31m⠐\u001b[39m\u001b[31m⠂\u001b[39m\u001b[31m⠄\u001b[39m\u001b[37m⠀\u001b[39m\u001b[31m⢠\u001b[39m\u001b[31m⡤\u001b[39m\u001b[31m⢄\u001b[39m\u001b[31m⠁\u001b[39m\u001b[31m⠡\u001b[39m\u001b[37m⠀\u001b[39m\u001b[37m⠀\u001b[39m\u001b[37m⠀\u001b[39m\u001b[31m⠄\u001b[39m\u001b[31m⠄\u001b[39m\u001b[37m⠀\u001b[39m\u001b[37m⠀\u001b[39m\u001b[37m⠀\u001b[39m\u001b[31m⡀\u001b[39m\u001b[37m⠀\u001b[39m\u001b[37m⠀\u001b[39m\u001b[37m⠀\u001b[39m\u001b[37m⠀\u001b[39m\u001b[37m│\u001b[39m \u001b[34m< 0\u001b[39m\n",
       "       \u001b[37m\u001b[39m\u001b[37m │\u001b[39m\u001b[31m⠓\u001b[39m\u001b[31m⠂\u001b[39m\u001b[31m⢧\u001b[39m\u001b[31m⠉\u001b[39m\u001b[31m⠱\u001b[39m\u001b[31m⣦\u001b[39m\u001b[31m⡀\u001b[39m\u001b[31m⠙\u001b[39m\u001b[31m⠈\u001b[39m\u001b[31m⠹\u001b[39m\u001b[31m⢦\u001b[39m\u001b[31m⣀\u001b[39m\u001b[31m⡈\u001b[39m\u001b[31m⠙\u001b[39m\u001b[31m⠉\u001b[39m\u001b[31m⠩\u001b[39m\u001b[31m⠹\u001b[39m\u001b[31m⠄\u001b[39m\u001b[31m⣄\u001b[39m\u001b[31m⡀\u001b[39m\u001b[37m⠀\u001b[39m\u001b[31m⢀\u001b[39m\u001b[31m⠉\u001b[39m\u001b[37m⠀\u001b[39m\u001b[31m⠈\u001b[39m\u001b[31m⠅\u001b[39m\u001b[31m⠢\u001b[39m\u001b[31m⢀\u001b[39m\u001b[31m⣀\u001b[39m\u001b[31m⡀\u001b[39m\u001b[31m⢀\u001b[39m\u001b[31m⠈\u001b[39m\u001b[37m⠀\u001b[39m\u001b[31m⠈\u001b[39m\u001b[31m⠰\u001b[39m\u001b[31m⠡\u001b[39m\u001b[31m⠆\u001b[39m\u001b[37m⠀\u001b[39m\u001b[31m⢀\u001b[39m\u001b[37m⠀\u001b[39m\u001b[31m⠈\u001b[39m\u001b[37m⠀\u001b[39m\u001b[31m⠰\u001b[39m\u001b[31m⡀\u001b[39m\u001b[37m⠀\u001b[39m\u001b[37m⠀\u001b[39m\u001b[31m⠁\u001b[39m\u001b[37m⠀\u001b[39m\u001b[31m⠰\u001b[39m\u001b[37m⠀\u001b[39m\u001b[37m│\u001b[39m \u001b[37m\u001b[39m   \n",
       "       \u001b[37m\u001b[39m\u001b[37m │\u001b[39m\u001b[31m⣄\u001b[39m\u001b[31m⣃\u001b[39m\u001b[31m⡸\u001b[39m\u001b[31m⣄\u001b[39m\u001b[31m⣄\u001b[39m\u001b[31m⠈\u001b[39m\u001b[31m⠻\u001b[39m\u001b[31m⢆\u001b[39m\u001b[31m⡀\u001b[39m\u001b[31m⠠\u001b[39m\u001b[31m⠄\u001b[39m\u001b[31m⠻\u001b[39m\u001b[31m⠶\u001b[39m\u001b[31m⣄\u001b[39m\u001b[31m⢀\u001b[39m\u001b[37m⠀\u001b[39m\u001b[31m⠤\u001b[39m\u001b[37m⠀\u001b[39m\u001b[31m⠁\u001b[39m\u001b[31m⡙\u001b[39m\u001b[31m⠸\u001b[39m\u001b[31m⠘\u001b[39m\u001b[31m⠦\u001b[39m\u001b[31m⡄\u001b[39m\u001b[37m⠀\u001b[39m\u001b[31m⠠\u001b[39m\u001b[31m⠠\u001b[39m\u001b[37m⠀\u001b[39m\u001b[31m⠄\u001b[39m\u001b[31m⡙\u001b[39m\u001b[31m⠿\u001b[39m\u001b[31m⠂\u001b[39m\u001b[37m⠀\u001b[39m\u001b[31m⢄\u001b[39m\u001b[37m⠀\u001b[39m\u001b[37m⠀\u001b[39m\u001b[37m⠀\u001b[39m\u001b[31m⠄\u001b[39m\u001b[31m⠈\u001b[39m\u001b[31m⠰\u001b[39m\u001b[31m⢄\u001b[39m\u001b[37m⠀\u001b[39m\u001b[37m⠀\u001b[39m\u001b[37m⠀\u001b[39m\u001b[31m⠁\u001b[39m\u001b[31m⢀\u001b[39m\u001b[37m⠀\u001b[39m\u001b[31m⠈\u001b[39m\u001b[31m⡀\u001b[39m\u001b[31m⡁\u001b[39m\u001b[37m│\u001b[39m \u001b[37m\u001b[39m   \n",
       "       \u001b[37m\u001b[39m\u001b[37m │\u001b[39m\u001b[31m⣈\u001b[39m\u001b[31m⡘\u001b[39m\u001b[31m⡆\u001b[39m\u001b[31m⠛\u001b[39m\u001b[31m⣆\u001b[39m\u001b[31m⡀\u001b[39m\u001b[37m⠀\u001b[39m\u001b[31m⡈\u001b[39m\u001b[31m⡻\u001b[39m\u001b[31m⣮\u001b[39m\u001b[31m⡂\u001b[39m\u001b[37m⠀\u001b[39m\u001b[37m⠀\u001b[39m\u001b[31m⠄\u001b[39m\u001b[31m⠛\u001b[39m\u001b[31m⠶\u001b[39m\u001b[31m⣔\u001b[39m\u001b[31m⠐\u001b[39m\u001b[31m⡂\u001b[39m\u001b[31m⠁\u001b[39m\u001b[37m⠀\u001b[39m\u001b[37m⠀\u001b[39m\u001b[31m⡉\u001b[39m\u001b[37m⠀\u001b[39m\u001b[31m⠻\u001b[39m\u001b[31m⣾\u001b[39m\u001b[31m⣀\u001b[39m\u001b[31m⠂\u001b[39m\u001b[37m⠀\u001b[39m\u001b[37m⠀\u001b[39m\u001b[37m⠀\u001b[39m\u001b[37m⠀\u001b[39m\u001b[31m⠈\u001b[39m\u001b[37m⠀\u001b[39m\u001b[31m⢿\u001b[39m\u001b[31m⣆\u001b[39m\u001b[31m⡀\u001b[39m\u001b[37m⠀\u001b[39m\u001b[37m⠀\u001b[39m\u001b[37m⠀\u001b[39m\u001b[31m⠉\u001b[39m\u001b[31m⠳\u001b[39m\u001b[37m⠀\u001b[39m\u001b[37m⠀\u001b[39m\u001b[37m⠀\u001b[39m\u001b[31m⠘\u001b[39m\u001b[31m⠄\u001b[39m\u001b[37m⠀\u001b[39m\u001b[31m⢑\u001b[39m\u001b[37m⠀\u001b[39m\u001b[37m│\u001b[39m \u001b[37m\u001b[39m   \n",
       "       \u001b[37m\u001b[39m\u001b[37m │\u001b[39m\u001b[31m⠄\u001b[39m\u001b[31m⡅\u001b[39m\u001b[31m⢡\u001b[39m\u001b[31m⡀\u001b[39m\u001b[31m⠈\u001b[39m\u001b[31m⢳\u001b[39m\u001b[31m⣤\u001b[39m\u001b[31m⡁\u001b[39m\u001b[31m⠈\u001b[39m\u001b[31m⠈\u001b[39m\u001b[31m⢱\u001b[39m\u001b[31m⣶\u001b[39m\u001b[31m⡑\u001b[39m\u001b[37m⠀\u001b[39m\u001b[31m⠈\u001b[39m\u001b[31m⠈\u001b[39m\u001b[31m⠈\u001b[39m\u001b[31m⠉\u001b[39m\u001b[31m⣳\u001b[39m\u001b[31m⠦\u001b[39m\u001b[31m⣶\u001b[39m\u001b[31m⢠\u001b[39m\u001b[31m⠁\u001b[39m\u001b[37m⠀\u001b[39m\u001b[37m⠀\u001b[39m\u001b[37m⠀\u001b[39m\u001b[31m⠈\u001b[39m\u001b[31m⠘\u001b[39m\u001b[31m⡲\u001b[39m\u001b[31m⣤\u001b[39m\u001b[31m⣠\u001b[39m\u001b[37m⠀\u001b[39m\u001b[37m⠀\u001b[39m\u001b[37m⠀\u001b[39m\u001b[37m⠀\u001b[39m\u001b[37m⠀\u001b[39m\u001b[31m⠁\u001b[39m\u001b[31m⠐\u001b[39m\u001b[31m⢴\u001b[39m\u001b[31m⣀\u001b[39m\u001b[37m⠀\u001b[39m\u001b[37m⠀\u001b[39m\u001b[31m⠈\u001b[39m\u001b[31m⠒\u001b[39m\u001b[31m⠔\u001b[39m\u001b[37m⠀\u001b[39m\u001b[31m⠈\u001b[39m\u001b[31m⢐\u001b[39m\u001b[37m⠀\u001b[39m\u001b[31m⡀\u001b[39m\u001b[37m│\u001b[39m \u001b[37m\u001b[39m   \n",
       "       \u001b[37m\u001b[39m\u001b[37m │\u001b[39m\u001b[31m⣀\u001b[39m\u001b[31m⣀\u001b[39m\u001b[31m⠈\u001b[39m\u001b[31m⡡\u001b[39m\u001b[31m⣆\u001b[39m\u001b[31m⠈\u001b[39m\u001b[31m⠘\u001b[39m\u001b[31m⢧\u001b[39m\u001b[37m⠀\u001b[39m\u001b[31m⠄\u001b[39m\u001b[31m⠑\u001b[39m\u001b[31m⠈\u001b[39m\u001b[31m⠱\u001b[39m\u001b[31m⣦\u001b[39m\u001b[31m⣄\u001b[39m\u001b[31m⠈\u001b[39m\u001b[31m⠤\u001b[39m\u001b[31m⠙\u001b[39m\u001b[31m⠑\u001b[39m\u001b[37m⠀\u001b[39m\u001b[31m⠐\u001b[39m\u001b[31m⠙\u001b[39m\u001b[31m⢧\u001b[39m\u001b[31m⣦\u001b[39m\u001b[31m⠄\u001b[39m\u001b[31m⠤\u001b[39m\u001b[31m⠄\u001b[39m\u001b[31m⠑\u001b[39m\u001b[31m⠰\u001b[39m\u001b[37m⠀\u001b[39m\u001b[31m⠚\u001b[39m\u001b[31m⢣\u001b[39m\u001b[31m⠄\u001b[39m\u001b[31m⣤\u001b[39m\u001b[37m⠀\u001b[39m\u001b[31m⠅\u001b[39m\u001b[31m⠑\u001b[39m\u001b[31m⠐\u001b[39m\u001b[37m⠀\u001b[39m\u001b[31m⠈\u001b[39m\u001b[31m⣄\u001b[39m\u001b[37m⠀\u001b[39m\u001b[37m⠀\u001b[39m\u001b[31m⠐\u001b[39m\u001b[37m⠀\u001b[39m\u001b[31m⢁\u001b[39m\u001b[31m⠈\u001b[39m\u001b[37m⠀\u001b[39m\u001b[37m⠀\u001b[39m\u001b[31m⠄\u001b[39m\u001b[37m│\u001b[39m \u001b[37m\u001b[39m   \n",
       "       \u001b[37m\u001b[39m\u001b[37m │\u001b[39m\u001b[31m⠐\u001b[39m\u001b[31m⠘\u001b[39m\u001b[31m⡃\u001b[39m\u001b[31m⠛\u001b[39m\u001b[31m⡇\u001b[39m\u001b[31m⡀\u001b[39m\u001b[37m⠀\u001b[39m\u001b[31m⠐\u001b[39m\u001b[31m⢻\u001b[39m\u001b[31m⡄\u001b[39m\u001b[31m⡂\u001b[39m\u001b[37m⠀\u001b[39m\u001b[31m⡀\u001b[39m\u001b[31m⠙\u001b[39m\u001b[31m⠿\u001b[39m\u001b[31m⣧\u001b[39m\u001b[31m⣤\u001b[39m\u001b[31m⠐\u001b[39m\u001b[37m⠀\u001b[39m\u001b[37m⠀\u001b[39m\u001b[37m⠀\u001b[39m\u001b[37m⠀\u001b[39m\u001b[31m⠊\u001b[39m\u001b[31m⠚\u001b[39m\u001b[31m⠻\u001b[39m\u001b[31m⣼\u001b[39m\u001b[31m⡀\u001b[39m\u001b[31m⠂\u001b[39m\u001b[37m⠀\u001b[39m\u001b[37m⠀\u001b[39m\u001b[37m⠀\u001b[39m\u001b[37m⠀\u001b[39m\u001b[37m⠀\u001b[39m\u001b[31m⠸\u001b[39m\u001b[31m⢻\u001b[39m\u001b[31m⡂\u001b[39m\u001b[31m⠐\u001b[39m\u001b[37m⠀\u001b[39m\u001b[37m⠀\u001b[39m\u001b[37m⠀\u001b[39m\u001b[31m⠑\u001b[39m\u001b[31m⢫\u001b[39m\u001b[37m⠀\u001b[39m\u001b[37m⠀\u001b[39m\u001b[37m⠀\u001b[39m\u001b[31m⠈\u001b[39m\u001b[31m⠄\u001b[39m\u001b[37m⠀\u001b[39m\u001b[31m⠂\u001b[39m\u001b[37m⠀\u001b[39m\u001b[37m│\u001b[39m \u001b[37m\u001b[39m   \n",
       "       \u001b[37m\u001b[39m\u001b[37m │\u001b[39m\u001b[37m⠀\u001b[39m\u001b[37m⠀\u001b[39m\u001b[31m⠂\u001b[39m\u001b[37m⠀\u001b[39m\u001b[31m⠓\u001b[39m\u001b[31m⠆\u001b[39m\u001b[37m⠀\u001b[39m\u001b[31m⠃\u001b[39m\u001b[31m⢐\u001b[39m\u001b[31m⠙\u001b[39m\u001b[31m⡆\u001b[39m\u001b[37m⠀\u001b[39m\u001b[31m⣄\u001b[39m\u001b[31m⠃\u001b[39m\u001b[31m⢀\u001b[39m\u001b[31m⠛\u001b[39m\u001b[31m⠻\u001b[39m\u001b[31m⣦\u001b[39m\u001b[31m⠁\u001b[39m\u001b[37m⠀\u001b[39m\u001b[37m⠀\u001b[39m\u001b[31m⡀\u001b[39m\u001b[31m⡀\u001b[39m\u001b[37m⠀\u001b[39m\u001b[31m⠈\u001b[39m\u001b[31m⠛\u001b[39m\u001b[31m⢲\u001b[39m\u001b[31m⣤\u001b[39m\u001b[37m⠀\u001b[39m\u001b[37m⠀\u001b[39m\u001b[31m⣀\u001b[39m\u001b[31m⡂\u001b[39m\u001b[37m⠀\u001b[39m\u001b[37m⠀\u001b[39m\u001b[31m⠑\u001b[39m\u001b[31m⠳\u001b[39m\u001b[31m⣤\u001b[39m\u001b[37m⠀\u001b[39m\u001b[37m⠀\u001b[39m\u001b[31m⣄\u001b[39m\u001b[31m⡀\u001b[39m\u001b[31m⠸\u001b[39m\u001b[31m⠳\u001b[39m\u001b[31m⠄\u001b[39m\u001b[31m⢀\u001b[39m\u001b[37m⠀\u001b[39m\u001b[31m⠶\u001b[39m\u001b[31m⢄\u001b[39m\u001b[31m⠰\u001b[39m\u001b[37m⠀\u001b[39m\u001b[37m│\u001b[39m \u001b[37m\u001b[39m   \n",
       "       \u001b[37m\u001b[39m\u001b[37m │\u001b[39m\u001b[31m⠄\u001b[39m\u001b[31m⠄\u001b[39m\u001b[31m⠱\u001b[39m\u001b[37m⠀\u001b[39m\u001b[37m⠀\u001b[39m\u001b[31m⠹\u001b[39m\u001b[31m⣅\u001b[39m\u001b[31m⠠\u001b[39m\u001b[31m⠌\u001b[39m\u001b[31m⠈\u001b[39m\u001b[31m⠹\u001b[39m\u001b[31m⡞\u001b[39m\u001b[31m⠑\u001b[39m\u001b[37m⠀\u001b[39m\u001b[37m⠀\u001b[39m\u001b[37m⠀\u001b[39m\u001b[31m⠁\u001b[39m\u001b[37m⠀\u001b[39m\u001b[31m⠻\u001b[39m\u001b[31m⣦\u001b[39m\u001b[31m⣑\u001b[39m\u001b[31m⡀\u001b[39m\u001b[31m⠃\u001b[39m\u001b[31m⠊\u001b[39m\u001b[31m⠍\u001b[39m\u001b[31m⠁\u001b[39m\u001b[37m⠀\u001b[39m\u001b[31m⠈\u001b[39m\u001b[31m⡳\u001b[39m\u001b[31m⣄\u001b[39m\u001b[31m⣂\u001b[39m\u001b[31m⠂\u001b[39m\u001b[37m⠀\u001b[39m\u001b[31m⠈\u001b[39m\u001b[37m⠀\u001b[39m\u001b[31m⠁\u001b[39m\u001b[31m⠈\u001b[39m\u001b[31m⢙\u001b[39m\u001b[31m⢤\u001b[39m\u001b[31m⢂\u001b[39m\u001b[37m⠀\u001b[39m\u001b[31m⠅\u001b[39m\u001b[37m⠀\u001b[39m\u001b[31m⠑\u001b[39m\u001b[31m⣆\u001b[39m\u001b[37m⠀\u001b[39m\u001b[31m⠉\u001b[39m\u001b[31m⢑\u001b[39m\u001b[37m⠀\u001b[39m\u001b[31m⡄\u001b[39m\u001b[37m│\u001b[39m \u001b[37m\u001b[39m   \n",
       "       \u001b[37m\u001b[39m\u001b[37m │\u001b[39m\u001b[37m⠀\u001b[39m\u001b[37m⠀\u001b[39m\u001b[31m⢀\u001b[39m\u001b[31m⠂\u001b[39m\u001b[37m⠀\u001b[39m\u001b[31m⢀\u001b[39m\u001b[31m⣒\u001b[39m\u001b[31m⠂\u001b[39m\u001b[37m⠀\u001b[39m\u001b[37m⠀\u001b[39m\u001b[31m⠘\u001b[39m\u001b[31m⣛\u001b[39m\u001b[31m⣔\u001b[39m\u001b[37m⠀\u001b[39m\u001b[37m⠀\u001b[39m\u001b[37m⠀\u001b[39m\u001b[37m⠀\u001b[39m\u001b[31m⠠\u001b[39m\u001b[31m⠑\u001b[39m\u001b[31m⠸\u001b[39m\u001b[31m⠻\u001b[39m\u001b[31m⣦\u001b[39m\u001b[37m⠀\u001b[39m\u001b[37m⠀\u001b[39m\u001b[37m⠀\u001b[39m\u001b[37m⠀\u001b[39m\u001b[31m⢀\u001b[39m\u001b[31m⡠\u001b[39m\u001b[31m⠉\u001b[39m\u001b[31m⣸\u001b[39m\u001b[31m⣦\u001b[39m\u001b[31m⡂\u001b[39m\u001b[37m⠀\u001b[39m\u001b[37m⠀\u001b[39m\u001b[37m⠀\u001b[39m\u001b[37m⠀\u001b[39m\u001b[31m⡰\u001b[39m\u001b[31m⠙\u001b[39m\u001b[31m⢻\u001b[39m\u001b[31m⣷\u001b[39m\u001b[31m⡄\u001b[39m\u001b[37m⠀\u001b[39m\u001b[31m⢀\u001b[39m\u001b[31m⠁\u001b[39m\u001b[31m⢸\u001b[39m\u001b[31m⡄\u001b[39m\u001b[37m⠀\u001b[39m\u001b[31m⢈\u001b[39m\u001b[31m⡄\u001b[39m\u001b[31m⠁\u001b[39m\u001b[37m│\u001b[39m \u001b[37m\u001b[39m   \n",
       "       \u001b[37m\u001b[39m\u001b[37m │\u001b[39m\u001b[37m⠀\u001b[39m\u001b[31m⠐\u001b[39m\u001b[37m⠀\u001b[39m\u001b[31m⠔\u001b[39m\u001b[31m⠃\u001b[39m\u001b[37m⠀\u001b[39m\u001b[31m⠈\u001b[39m\u001b[31m⠧\u001b[39m\u001b[31m⠃\u001b[39m\u001b[31m⠈\u001b[39m\u001b[31m⠁\u001b[39m\u001b[37m⠀\u001b[39m\u001b[31m⠩\u001b[39m\u001b[31m⣷\u001b[39m\u001b[31m⣪\u001b[39m\u001b[37m⠀\u001b[39m\u001b[37m⠀\u001b[39m\u001b[31m⠈\u001b[39m\u001b[31m⡩\u001b[39m\u001b[37m⠀\u001b[39m\u001b[37m⠀\u001b[39m\u001b[37m⠀\u001b[39m\u001b[31m⠱\u001b[39m\u001b[31m⣦\u001b[39m\u001b[31m⡇\u001b[39m\u001b[37m⠀\u001b[39m\u001b[37m⠀\u001b[39m\u001b[31m⠈\u001b[39m\u001b[31m⣩\u001b[39m\u001b[31m⡀\u001b[39m\u001b[31m⠁\u001b[39m\u001b[31m⠽\u001b[39m\u001b[31m⠟\u001b[39m\u001b[31m⢧\u001b[39m\u001b[31m⡁\u001b[39m\u001b[37m⠀\u001b[39m\u001b[31m⠉\u001b[39m\u001b[31m⠅\u001b[39m\u001b[31m⡀\u001b[39m\u001b[31m⠉\u001b[39m\u001b[31m⢳\u001b[39m\u001b[31m⡆\u001b[39m\u001b[31m⠈\u001b[39m\u001b[37m⠀\u001b[39m\u001b[31m⡀\u001b[39m\u001b[31m⠳\u001b[39m\u001b[31m⠈\u001b[39m\u001b[37m⠀\u001b[39m\u001b[31m⠅\u001b[39m\u001b[31m⡂\u001b[39m\u001b[37m│\u001b[39m \u001b[37m\u001b[39m   \n",
       "   \u001b[37m\u001b[39m    \u001b[37m\u001b[39m\u001b[37m │\u001b[39m\u001b[37m⠀\u001b[39m\u001b[31m⠈\u001b[39m\u001b[31m⠄\u001b[39m\u001b[31m⠘\u001b[39m\u001b[31m⠆\u001b[39m\u001b[31m⠄\u001b[39m\u001b[37m⠀\u001b[39m\u001b[31m⡀\u001b[39m\u001b[31m⣻\u001b[39m\u001b[31m⣦\u001b[39m\u001b[37m⠀\u001b[39m\u001b[37m⠀\u001b[39m\u001b[37m⠀\u001b[39m\u001b[31m⡅\u001b[39m\u001b[31m⣛\u001b[39m\u001b[31m⣦\u001b[39m\u001b[31m⣦\u001b[39m\u001b[37m⠀\u001b[39m\u001b[31m⠇\u001b[39m\u001b[31m⠁\u001b[39m\u001b[37m⠀\u001b[39m\u001b[37m⠀\u001b[39m\u001b[31m⠉\u001b[39m\u001b[31m⠉\u001b[39m\u001b[31m⢿\u001b[39m\u001b[31m⣷\u001b[39m\u001b[31m⡇\u001b[39m\u001b[31m⠃\u001b[39m\u001b[37m⠀\u001b[39m\u001b[31m⠁\u001b[39m\u001b[37m⠀\u001b[39m\u001b[37m⠀\u001b[39m\u001b[31m⠉\u001b[39m\u001b[31m⠈\u001b[39m\u001b[31m⡷\u001b[39m\u001b[31m⡞\u001b[39m\u001b[31m⠁\u001b[39m\u001b[37m⠀\u001b[39m\u001b[37m⠀\u001b[39m\u001b[37m⠀\u001b[39m\u001b[31m⠑\u001b[39m\u001b[31m⢷\u001b[39m\u001b[31m⡕\u001b[39m\u001b[37m⠀\u001b[39m\u001b[37m⠀\u001b[39m\u001b[31m⠈\u001b[39m\u001b[31m⢟\u001b[39m\u001b[37m⠀\u001b[39m\u001b[31m⠂\u001b[39m\u001b[31m⠐\u001b[39m\u001b[37m│\u001b[39m \u001b[37m\u001b[39m   \n",
       "       \u001b[37m\u001b[39m\u001b[37m │\u001b[39m\u001b[37m⠀\u001b[39m\u001b[37m⠀\u001b[39m\u001b[37m⠀\u001b[39m\u001b[37m⠀\u001b[39m\u001b[31m⠈\u001b[39m\u001b[31m⢂\u001b[39m\u001b[37m⠀\u001b[39m\u001b[31m⠂\u001b[39m\u001b[31m⠠\u001b[39m\u001b[31m⠘\u001b[39m\u001b[31m⣂\u001b[39m\u001b[37m⠀\u001b[39m\u001b[31m⢄\u001b[39m\u001b[31m⠁\u001b[39m\u001b[31m⠠\u001b[39m\u001b[31m⠈\u001b[39m\u001b[31m⠘\u001b[39m\u001b[31m⣶\u001b[39m\u001b[31m⡀\u001b[39m\u001b[37m⠀\u001b[39m\u001b[37m⠀\u001b[39m\u001b[31m⡰\u001b[39m\u001b[31m⡀\u001b[39m\u001b[37m⠀\u001b[39m\u001b[31m⠭\u001b[39m\u001b[31m⠉\u001b[39m\u001b[31m⠻\u001b[39m\u001b[31m⢆\u001b[39m\u001b[37m⠀\u001b[39m\u001b[31m⡀\u001b[39m\u001b[31m⠂\u001b[39m\u001b[31m⡄\u001b[39m\u001b[37m⠀\u001b[39m\u001b[37m⠀\u001b[39m\u001b[31m⠘\u001b[39m\u001b[31m⠛\u001b[39m\u001b[31m⢧\u001b[39m\u001b[37m⠀\u001b[39m\u001b[31m⡀\u001b[39m\u001b[31m⡶\u001b[39m\u001b[37m⠀\u001b[39m\u001b[31m⣄\u001b[39m\u001b[31m⢹\u001b[39m\u001b[31m⡄\u001b[39m\u001b[31m⣠\u001b[39m\u001b[37m⠀\u001b[39m\u001b[31m⡙\u001b[39m\u001b[31m⣔\u001b[39m\u001b[31m⢺\u001b[39m\u001b[31m⠐\u001b[39m\u001b[37m│\u001b[39m \u001b[37m\u001b[39m   \n",
       "       \u001b[37m\u001b[39m\u001b[37m │\u001b[39m\u001b[37m⠀\u001b[39m\u001b[31m⠄\u001b[39m\u001b[31m⠰\u001b[39m\u001b[37m⠀\u001b[39m\u001b[37m⠀\u001b[39m\u001b[31m⠸\u001b[39m\u001b[31m⣄\u001b[39m\u001b[31m⠡\u001b[39m\u001b[37m⠀\u001b[39m\u001b[37m⠀\u001b[39m\u001b[31m⠘\u001b[39m\u001b[31m⣮\u001b[39m\u001b[31m⠐\u001b[39m\u001b[31m⠂\u001b[39m\u001b[37m⠀\u001b[39m\u001b[37m⠀\u001b[39m\u001b[37m⠀\u001b[39m\u001b[37m⠀\u001b[39m\u001b[31m⠙\u001b[39m\u001b[31m⢮\u001b[39m\u001b[31m⣃\u001b[39m\u001b[31m⣠\u001b[39m\u001b[31m⠃\u001b[39m\u001b[31m⠺\u001b[39m\u001b[31m⠄\u001b[39m\u001b[37m⠀\u001b[39m\u001b[37m⠀\u001b[39m\u001b[31m⠠\u001b[39m\u001b[31m⡱\u001b[39m\u001b[31m⣮\u001b[39m\u001b[31m⢠\u001b[39m\u001b[37m⠀\u001b[39m\u001b[37m⠀\u001b[39m\u001b[31m⠺\u001b[39m\u001b[37m⠀\u001b[39m\u001b[37m⠀\u001b[39m\u001b[37m⠀\u001b[39m\u001b[31m⠙\u001b[39m\u001b[31m⢿\u001b[39m\u001b[31m⣢\u001b[39m\u001b[37m⠀\u001b[39m\u001b[31m⠄\u001b[39m\u001b[37m⠀\u001b[39m\u001b[31m⠟\u001b[39m\u001b[31m⣇\u001b[39m\u001b[37m⠀\u001b[39m\u001b[37m⠀\u001b[39m\u001b[31m⢹\u001b[39m\u001b[37m⠀\u001b[39m\u001b[31m⡏\u001b[39m\u001b[37m│\u001b[39m \u001b[37m\u001b[39m   \n",
       "       \u001b[37m\u001b[39m\u001b[37m │\u001b[39m\u001b[37m⠀\u001b[39m\u001b[37m⠀\u001b[39m\u001b[37m⠀\u001b[39m\u001b[31m⠁\u001b[39m\u001b[31m⡀\u001b[39m\u001b[31m⠐\u001b[39m\u001b[31m⠻\u001b[39m\u001b[31m⠃\u001b[39m\u001b[37m⠀\u001b[39m\u001b[37m⠀\u001b[39m\u001b[37m⠀\u001b[39m\u001b[31m⠚\u001b[39m\u001b[31m⠾\u001b[39m\u001b[31m⣀\u001b[39m\u001b[37m⠀\u001b[39m\u001b[37m⠀\u001b[39m\u001b[31m⠠\u001b[39m\u001b[31m⠸\u001b[39m\u001b[31m⠨\u001b[39m\u001b[31m⠘\u001b[39m\u001b[31m⠨\u001b[39m\u001b[31m⠻\u001b[39m\u001b[31m⣅\u001b[39m\u001b[31m⡄\u001b[39m\u001b[37m⠀\u001b[39m\u001b[37m⠀\u001b[39m\u001b[31m⠈\u001b[39m\u001b[31m⠤\u001b[39m\u001b[37m⠀\u001b[39m\u001b[31m⠒\u001b[39m\u001b[31m⠻\u001b[39m\u001b[31m⣦\u001b[39m\u001b[31m⣀\u001b[39m\u001b[31m⡀\u001b[39m\u001b[37m⠀\u001b[39m\u001b[37m⠀\u001b[39m\u001b[31m⠥\u001b[39m\u001b[31m⠈\u001b[39m\u001b[31m⠈\u001b[39m\u001b[31m⠹\u001b[39m\u001b[31m⣦\u001b[39m\u001b[31m⠠\u001b[39m\u001b[31m⠠\u001b[39m\u001b[31m⠁\u001b[39m\u001b[31m⠙\u001b[39m\u001b[31m⡇\u001b[39m\u001b[37m⠀\u001b[39m\u001b[31m⠈\u001b[39m\u001b[31m⠃\u001b[39m\u001b[37m⠀\u001b[39m\u001b[37m│\u001b[39m \u001b[37m\u001b[39m   \n",
       "       \u001b[37m\u001b[39m\u001b[37m │\u001b[39m\u001b[31m⢀\u001b[39m\u001b[31m⡀\u001b[39m\u001b[37m⠀\u001b[39m\u001b[31m⡶\u001b[39m\u001b[31m⡀\u001b[39m\u001b[37m⠀\u001b[39m\u001b[37m⠀\u001b[39m\u001b[31m⢄\u001b[39m\u001b[31m⠂\u001b[39m\u001b[37m⠀\u001b[39m\u001b[37m⠀\u001b[39m\u001b[37m⠀\u001b[39m\u001b[37m⠀\u001b[39m\u001b[31m⣥\u001b[39m\u001b[31m⣀\u001b[39m\u001b[31m⡀\u001b[39m\u001b[37m⠀\u001b[39m\u001b[37m⠀\u001b[39m\u001b[31m⡀\u001b[39m\u001b[37m⠀\u001b[39m\u001b[37m⠀\u001b[39m\u001b[37m⠀\u001b[39m\u001b[31m⠿\u001b[39m\u001b[31m⣅\u001b[39m\u001b[31m⡃\u001b[39m\u001b[37m⠀\u001b[39m\u001b[37m⠀\u001b[39m\u001b[37m⠀\u001b[39m\u001b[31m⣠\u001b[39m\u001b[31m⡀\u001b[39m\u001b[37m⠀\u001b[39m\u001b[31m⠸\u001b[39m\u001b[31m⠿\u001b[39m\u001b[31m⣧\u001b[39m\u001b[31m⡂\u001b[39m\u001b[31m⡀\u001b[39m\u001b[37m⠀\u001b[39m\u001b[31m⡀\u001b[39m\u001b[31m⡀\u001b[39m\u001b[37m⠀\u001b[39m\u001b[31m⢿\u001b[39m\u001b[31m⣇\u001b[39m\u001b[31m⡀\u001b[39m\u001b[37m⠀\u001b[39m\u001b[31m⡀\u001b[39m\u001b[31m⢻\u001b[39m\u001b[31m⠄\u001b[39m\u001b[31m⢀\u001b[39m\u001b[31m⠇\u001b[39m\u001b[31m⠄\u001b[39m\u001b[37m│\u001b[39m \u001b[37m\u001b[39m   \n",
       "       \u001b[37m\u001b[39m\u001b[37m │\u001b[39m\u001b[31m⠈\u001b[39m\u001b[31m⠈\u001b[39m\u001b[31m⠄\u001b[39m\u001b[31m⠑\u001b[39m\u001b[31m⠔\u001b[39m\u001b[31m⡂\u001b[39m\u001b[37m⠀\u001b[39m\u001b[37m⠀\u001b[39m\u001b[31m⠻\u001b[39m\u001b[31m⢷\u001b[39m\u001b[37m⠀\u001b[39m\u001b[37m⠀\u001b[39m\u001b[31m⠄\u001b[39m\u001b[31m⠄\u001b[39m\u001b[31m⠻\u001b[39m\u001b[31m⠲\u001b[39m\u001b[31m⢵\u001b[39m\u001b[31m⡀\u001b[39m\u001b[31m⠄\u001b[39m\u001b[37m⠀\u001b[39m\u001b[37m⠀\u001b[39m\u001b[37m⠀\u001b[39m\u001b[31m⠁\u001b[39m\u001b[31m⠈\u001b[39m\u001b[31m⣹\u001b[39m\u001b[31m⠯\u001b[39m\u001b[31m⣶\u001b[39m\u001b[37m⠀\u001b[39m\u001b[37m⠀\u001b[39m\u001b[37m⠀\u001b[39m\u001b[37m⠀\u001b[39m\u001b[37m⠀\u001b[39m\u001b[31m⠈\u001b[39m\u001b[31m⠨\u001b[39m\u001b[31m⡿\u001b[39m\u001b[31m⢏\u001b[39m\u001b[31m⡀\u001b[39m\u001b[37m⠀\u001b[39m\u001b[37m⠀\u001b[39m\u001b[37m⠀\u001b[39m\u001b[31m⠡\u001b[39m\u001b[31m⡽\u001b[39m\u001b[31m⣍\u001b[39m\u001b[37m⠀\u001b[39m\u001b[37m⠀\u001b[39m\u001b[37m⠀\u001b[39m\u001b[31m⣮\u001b[39m\u001b[37m⠀\u001b[39m\u001b[31m⢛\u001b[39m\u001b[31m⠘\u001b[39m\u001b[37m│\u001b[39m \u001b[37m\u001b[39m   \n",
       "       \u001b[37m\u001b[39m\u001b[37m │\u001b[39m\u001b[31m⠂\u001b[39m\u001b[37m⠀\u001b[39m\u001b[31m⠁\u001b[39m\u001b[31m⠂\u001b[39m\u001b[31m⠈\u001b[39m\u001b[31m⠁\u001b[39m\u001b[37m⠀\u001b[39m\u001b[31m⠄\u001b[39m\u001b[37m⠀\u001b[39m\u001b[31m⠈\u001b[39m\u001b[31m⢁\u001b[39m\u001b[37m⠀\u001b[39m\u001b[31m⢑\u001b[39m\u001b[37m⠀\u001b[39m\u001b[31m⠐\u001b[39m\u001b[37m⠀\u001b[39m\u001b[37m⠀\u001b[39m\u001b[31m⠛\u001b[39m\u001b[31m⣆\u001b[39m\u001b[31m⢀\u001b[39m\u001b[31m⣔\u001b[39m\u001b[31m⠊\u001b[39m\u001b[31m⠇\u001b[39m\u001b[31m⠄\u001b[39m\u001b[31m⠁\u001b[39m\u001b[37m⠀\u001b[39m\u001b[31m⠉\u001b[39m\u001b[31m⠓\u001b[39m\u001b[31m⣄\u001b[39m\u001b[37m⠀\u001b[39m\u001b[31m⡁\u001b[39m\u001b[31m⠃\u001b[39m\u001b[37m⠀\u001b[39m\u001b[31m⠠\u001b[39m\u001b[37m⠀\u001b[39m\u001b[31m⠈\u001b[39m\u001b[31m⠻\u001b[39m\u001b[31m⣦\u001b[39m\u001b[31m⡆\u001b[39m\u001b[31m⠉\u001b[39m\u001b[31m⠢\u001b[39m\u001b[37m⠀\u001b[39m\u001b[31m⠘\u001b[39m\u001b[31m⣦\u001b[39m\u001b[31m⡊\u001b[39m\u001b[31m⠁\u001b[39m\u001b[31m⠉\u001b[39m\u001b[31m⣶\u001b[39m\u001b[31m⠑\u001b[39m\u001b[31m⣬\u001b[39m\u001b[37m│\u001b[39m \u001b[37m\u001b[39m   \n",
       "       \u001b[37m\u001b[39m\u001b[37m │\u001b[39m\u001b[37m⠀\u001b[39m\u001b[37m⠀\u001b[39m\u001b[37m⠀\u001b[39m\u001b[37m⠀\u001b[39m\u001b[37m⠀\u001b[39m\u001b[31m⠐\u001b[39m\u001b[31m⢂\u001b[39m\u001b[31m⡀\u001b[39m\u001b[37m⠀\u001b[39m\u001b[37m⠀\u001b[39m\u001b[31m⠐\u001b[39m\u001b[31m⢳\u001b[39m\u001b[31m⡀\u001b[39m\u001b[37m⠀\u001b[39m\u001b[37m⠀\u001b[39m\u001b[37m⠀\u001b[39m\u001b[37m⠀\u001b[39m\u001b[31m⢤\u001b[39m\u001b[31m⠠\u001b[39m\u001b[31m⢓\u001b[39m\u001b[31m⢿\u001b[39m\u001b[31m⣶\u001b[39m\u001b[31m⡄\u001b[39m\u001b[31m⠈\u001b[39m\u001b[37m⠀\u001b[39m\u001b[37m⠀\u001b[39m\u001b[31m⢠\u001b[39m\u001b[31m⡬\u001b[39m\u001b[31m⠻\u001b[39m\u001b[31m⣳\u001b[39m\u001b[31m⣆\u001b[39m\u001b[31m⡀\u001b[39m\u001b[37m⠀\u001b[39m\u001b[31m⠈\u001b[39m\u001b[37m⠀\u001b[39m\u001b[37m⠀\u001b[39m\u001b[31m⡌\u001b[39m\u001b[31m⠉\u001b[39m\u001b[31m⢿\u001b[39m\u001b[31m⣷\u001b[39m\u001b[37m⠀\u001b[39m\u001b[37m⠀\u001b[39m\u001b[31m⢀\u001b[39m\u001b[31m⠉\u001b[39m\u001b[31m⢷\u001b[39m\u001b[31m⡄\u001b[39m\u001b[37m⠀\u001b[39m\u001b[31m⠸\u001b[39m\u001b[31m⣄\u001b[39m\u001b[31m⠋\u001b[39m\u001b[37m│\u001b[39m \u001b[37m\u001b[39m   \n",
       "       \u001b[37m\u001b[39m\u001b[37m │\u001b[39m\u001b[37m⠀\u001b[39m\u001b[31m⠈\u001b[39m\u001b[37m⠀\u001b[39m\u001b[31m⠅\u001b[39m\u001b[31m⠂\u001b[39m\u001b[37m⠀\u001b[39m\u001b[37m⠀\u001b[39m\u001b[31m⠑\u001b[39m\u001b[31m⢧\u001b[39m\u001b[31m⡀\u001b[39m\u001b[37m⠀\u001b[39m\u001b[37m⠀\u001b[39m\u001b[37m⠀\u001b[39m\u001b[31m⠙\u001b[39m\u001b[31m⡵\u001b[39m\u001b[31m⣀\u001b[39m\u001b[31m⣀\u001b[39m\u001b[31m⡈\u001b[39m\u001b[31m⠄\u001b[39m\u001b[31m⠄\u001b[39m\u001b[37m⠀\u001b[39m\u001b[31m⠉\u001b[39m\u001b[31m⠹\u001b[39m\u001b[31m⠶\u001b[39m\u001b[31m⢵\u001b[39m\u001b[31m⣄\u001b[39m\u001b[37m⠀\u001b[39m\u001b[31m⢤\u001b[39m\u001b[37m⠀\u001b[39m\u001b[31m⠄\u001b[39m\u001b[31m⠈\u001b[39m\u001b[31m⡛\u001b[39m\u001b[31m⠿\u001b[39m\u001b[31m⢷\u001b[39m\u001b[31m⣅\u001b[39m\u001b[31m⡦\u001b[39m\u001b[31m⠈\u001b[39m\u001b[31m⠂\u001b[39m\u001b[37m⠀\u001b[39m\u001b[37m⠀\u001b[39m\u001b[31m⢕\u001b[39m\u001b[31m⣵\u001b[39m\u001b[31m⣦\u001b[39m\u001b[37m⠀\u001b[39m\u001b[37m⠀\u001b[39m\u001b[31m⢹\u001b[39m\u001b[31m⣅\u001b[39m\u001b[37m⠀\u001b[39m\u001b[31m⢧\u001b[39m\u001b[31m⢧\u001b[39m\u001b[37m│\u001b[39m \u001b[37m\u001b[39m   \n",
       "       \u001b[37m\u001b[39m\u001b[37m │\u001b[39m\u001b[31m⠂\u001b[39m\u001b[37m⠀\u001b[39m\u001b[37m⠀\u001b[39m\u001b[37m⠀\u001b[39m\u001b[31m⠐\u001b[39m\u001b[31m⠢\u001b[39m\u001b[37m⠀\u001b[39m\u001b[37m⠀\u001b[39m\u001b[37m⠀\u001b[39m\u001b[37m⠀\u001b[39m\u001b[31m⢢\u001b[39m\u001b[37m⠀\u001b[39m\u001b[31m⢀\u001b[39m\u001b[37m⠀\u001b[39m\u001b[37m⠀\u001b[39m\u001b[37m⠀\u001b[39m\u001b[31m⠙\u001b[39m\u001b[31m⠆\u001b[39m\u001b[31m⢄\u001b[39m\u001b[37m⠀\u001b[39m\u001b[31m⠄\u001b[39m\u001b[31m⠐\u001b[39m\u001b[31m⠂\u001b[39m\u001b[37m⠀\u001b[39m\u001b[31m⠑\u001b[39m\u001b[31m⠉\u001b[39m\u001b[31m⠓\u001b[39m\u001b[31m⠶\u001b[39m\u001b[31m⣤\u001b[39m\u001b[31m⠄\u001b[39m\u001b[31m⠄\u001b[39m\u001b[31m⠂\u001b[39m\u001b[37m⠀\u001b[39m\u001b[31m⠈\u001b[39m\u001b[31m⠃\u001b[39m\u001b[31m⠙\u001b[39m\u001b[31m⠲\u001b[39m\u001b[31m⣤\u001b[39m\u001b[31m⡄\u001b[39m\u001b[31m⠐\u001b[39m\u001b[31m⠈\u001b[39m\u001b[31m⠛\u001b[39m\u001b[31m⠱\u001b[39m\u001b[31m⣦\u001b[39m\u001b[31m⡤\u001b[39m\u001b[31m⠊\u001b[39m\u001b[31m⠛\u001b[39m\u001b[31m⣦\u001b[39m\u001b[31m⠘\u001b[39m\u001b[31m⣭\u001b[39m\u001b[37m│\u001b[39m \u001b[37m\u001b[39m   \n",
       "       \u001b[37m\u001b[39m\u001b[37m │\u001b[39m\u001b[37m⠀\u001b[39m\u001b[37m⠀\u001b[39m\u001b[37m⠀\u001b[39m\u001b[31m⠠\u001b[39m\u001b[37m⠀\u001b[39m\u001b[37m⠀\u001b[39m\u001b[31m⠁\u001b[39m\u001b[31m⢀\u001b[39m\u001b[31m⣀\u001b[39m\u001b[37m⠀\u001b[39m\u001b[31m⠐\u001b[39m\u001b[31m⠁\u001b[39m\u001b[31m⠄\u001b[39m\u001b[31m⢀\u001b[39m\u001b[31m⡀\u001b[39m\u001b[37m⠀\u001b[39m\u001b[37m⠀\u001b[39m\u001b[31m⠐\u001b[39m\u001b[31m⠈\u001b[39m\u001b[31m⠙\u001b[39m\u001b[31m⠒\u001b[39m\u001b[31m⠶\u001b[39m\u001b[31m⢤\u001b[39m\u001b[31m⡈\u001b[39m\u001b[31m⡀\u001b[39m\u001b[37m⠀\u001b[39m\u001b[37m⠀\u001b[39m\u001b[31m⠚\u001b[39m\u001b[31m⠉\u001b[39m\u001b[31m⠙\u001b[39m\u001b[31m⠷\u001b[39m\u001b[31m⠤\u001b[39m\u001b[31m⣤\u001b[39m\u001b[31m⣈\u001b[39m\u001b[37m⠀\u001b[39m\u001b[37m⠀\u001b[39m\u001b[31m⠎\u001b[39m\u001b[31m⠈\u001b[39m\u001b[31m⠙\u001b[39m\u001b[31m⠷\u001b[39m\u001b[31m⣄\u001b[39m\u001b[31m⣀\u001b[39m\u001b[31m⡠\u001b[39m\u001b[31m⠋\u001b[39m\u001b[31m⠑\u001b[39m\u001b[31m⣤\u001b[39m\u001b[31m⡀\u001b[39m\u001b[31m⠘\u001b[39m\u001b[31m⡆\u001b[39m\u001b[31m⡏\u001b[39m\u001b[37m│\u001b[39m \u001b[37m\u001b[39m   \n",
       "       \u001b[37m\u001b[39m\u001b[37m │\u001b[39m\u001b[37m⠀\u001b[39m\u001b[37m⠀\u001b[39m\u001b[37m⠀\u001b[39m\u001b[37m⠀\u001b[39m\u001b[31m⠁\u001b[39m\u001b[37m⠀\u001b[39m\u001b[31m⡀\u001b[39m\u001b[37m⠀\u001b[39m\u001b[37m⠀\u001b[39m\u001b[31m⠁\u001b[39m\u001b[31m⢂\u001b[39m\u001b[31m⢀\u001b[39m\u001b[31m⠂\u001b[39m\u001b[37m⠀\u001b[39m\u001b[37m⠀\u001b[39m\u001b[31m⠁\u001b[39m\u001b[31m⠘\u001b[39m\u001b[31m⢇\u001b[39m\u001b[31m⢇\u001b[39m\u001b[31m⢀\u001b[39m\u001b[31m⡀\u001b[39m\u001b[31m⢀\u001b[39m\u001b[31m⠂\u001b[39m\u001b[37m⠀\u001b[39m\u001b[31m⠛\u001b[39m\u001b[31m⠑\u001b[39m\u001b[31m⢓\u001b[39m\u001b[31m⢬\u001b[39m\u001b[31m⣄\u001b[39m\u001b[31m⣀\u001b[39m\u001b[31m⡀\u001b[39m\u001b[37m⠀\u001b[39m\u001b[37m⠀\u001b[39m\u001b[31m⢁\u001b[39m\u001b[31m⠊\u001b[39m\u001b[31m⠛\u001b[39m\u001b[31m⢣\u001b[39m\u001b[31m⣤\u001b[39m\u001b[31m⣀\u001b[39m\u001b[31m⡀\u001b[39m\u001b[31m⠁\u001b[39m\u001b[31m⠙\u001b[39m\u001b[31m⠻\u001b[39m\u001b[31m⣤\u001b[39m\u001b[31m⣀\u001b[39m\u001b[31m⠈\u001b[39m\u001b[31m⠟\u001b[39m\u001b[31m⢅\u001b[39m\u001b[31m⡹\u001b[39m\u001b[31m⣿\u001b[39m\u001b[37m│\u001b[39m \u001b[37m\u001b[39m   \n",
       "   \u001b[37m1894\u001b[39m\u001b[37m │\u001b[39m\u001b[31m⠐\u001b[39m\u001b[37m⠀\u001b[39m\u001b[37m⠀\u001b[39m\u001b[37m⠀\u001b[39m\u001b[31m⠐\u001b[39m\u001b[31m⠂\u001b[39m\u001b[31m⠄\u001b[39m\u001b[31m⠨\u001b[39m\u001b[31m⠑\u001b[39m\u001b[31m⠐\u001b[39m\u001b[37m⠀\u001b[39m\u001b[31m⠠\u001b[39m\u001b[37m⠀\u001b[39m\u001b[31m⠄\u001b[39m\u001b[31m⠈\u001b[39m\u001b[37m⠀\u001b[39m\u001b[31m⠐\u001b[39m\u001b[31m⠂\u001b[39m\u001b[37m⠀\u001b[39m\u001b[31m⠤\u001b[39m\u001b[31m⠄\u001b[39m\u001b[31m⠉\u001b[39m\u001b[31m⠡\u001b[39m\u001b[31m⠡\u001b[39m\u001b[31m⢈\u001b[39m\u001b[37m⠀\u001b[39m\u001b[31m⢚\u001b[39m\u001b[31m⠒\u001b[39m\u001b[31m⡤\u001b[39m\u001b[31m⠤\u001b[39m\u001b[31m⠉\u001b[39m\u001b[37m⠀\u001b[39m\u001b[31m⠉\u001b[39m\u001b[31m⠅\u001b[39m\u001b[31m⣛\u001b[39m\u001b[31m⠐\u001b[39m\u001b[31m⡑\u001b[39m\u001b[31m⣤\u001b[39m\u001b[31m⡤\u001b[39m\u001b[31m⠙\u001b[39m\u001b[31m⠭\u001b[39m\u001b[31m⣗\u001b[39m\u001b[31m⡖\u001b[39m\u001b[31m⣤\u001b[39m\u001b[31m⡬\u001b[39m\u001b[31m⠭\u001b[39m\u001b[31m⣷\u001b[39m\u001b[31m⣮\u001b[39m\u001b[31m⣿\u001b[39m\u001b[31m⣿\u001b[39m\u001b[37m│\u001b[39m \u001b[37m\u001b[39m   \n",
       "\u001b[37m        └──────────────────────────────────────────────────┘\u001b[39m    \n",
       "\u001b[37m        1\u001b[39m\u001b[37m                        \u001b[39m\u001b[37m                       1894\n",
       "\u001b[39m\u001b[37m                            nz = 13062\n",
       "\u001b[39m"
      ]
     },
     "execution_count": 96,
     "metadata": {},
     "output_type": "execute_result"
    }
   ],
   "source": [
    "using UnicodePlots\n",
    "fill!(K.nzval, 1.0)\n",
    "spy(K; height = 25)"
   ]
  },
  {
   "cell_type": "markdown",
   "metadata": {},
   "source": [
    "### Boundary conditions\n",
    "In JuAFEM constraints like Dirichlet boundary conditions\n",
    "are handled by a `ConstraintHandler`."
   ]
  },
  {
   "cell_type": "code",
   "execution_count": 88,
   "metadata": {},
   "outputs": [],
   "source": [
    "ch = ConstraintHandler(dh);"
   ]
  },
  {
   "cell_type": "markdown",
   "metadata": {},
   "source": [
    "Next we need to add constraints to `ch`. For this problem we define\n",
    "homogeneous Dirichlet boundary conditions on the whole boundary, i.e.\n",
    "the `union` of all the face sets on the boundary."
   ]
  },
  {
   "cell_type": "code",
   "execution_count": 89,
   "metadata": {},
   "outputs": [],
   "source": [
    "∂Ω = union(getfaceset.(grid, [\"left\", \"right\", \"top\", \"bottom\"])...);"
   ]
  },
  {
   "cell_type": "markdown",
   "metadata": {},
   "source": [
    "Now we are set up to define our constraint. We specify which field\n",
    "the condition is for, and our combined face set `∂Ω`. The last\n",
    "argument is a function which takes the spatial coordinate $x$ and\n",
    "the current time $t$ and returns the prescribed value. In this case\n",
    "it is trivial -- no matter what $x$ and $t$ we return $0$. When we have\n",
    "specified our constraint we `add!` it to `ch`."
   ]
  },
  {
   "cell_type": "code",
   "execution_count": 90,
   "metadata": {},
   "outputs": [],
   "source": [
    "dbc = Dirichlet(:u, ∂Ω, (x, t) -> 0)\n",
    "add!(ch, dbc);"
   ]
  },
  {
   "cell_type": "markdown",
   "metadata": {},
   "source": [
    "We also need to `close!` and `update!` our boundary conditions. When we call `close!`\n",
    "the dofs which will be constrained by the boundary conditions are calculated and stored\n",
    "in our `ch` object. Since the boundary conditions are, in this case,\n",
    "independent of time we can `update!` them directly with e.g. $t = 0$."
   ]
  },
  {
   "cell_type": "code",
   "execution_count": 91,
   "metadata": {},
   "outputs": [],
   "source": [
    "close!(ch)\n",
    "update!(ch, 0.0);"
   ]
  },
  {
   "cell_type": "markdown",
   "metadata": {},
   "source": [
    "### Assembling the linear system\n",
    "Now we have all the pieces needed to assemble the linear system, $K u = f$.\n",
    "We define a function, `doassemble` to do the assembly, which takes our `cellvalues`,\n",
    "the sparse matrix and our DofHandler as input arguments. The function returns the\n",
    "assembled stiffness matrix, and the force vector."
   ]
  },
  {
   "cell_type": "code",
   "execution_count": 92,
   "metadata": {},
   "outputs": [
    {
     "data": {
      "text/plain": [
       "doassemble (generic function with 1 method)"
      ]
     },
     "execution_count": 92,
     "metadata": {},
     "output_type": "execute_result"
    }
   ],
   "source": [
    "function doassemble(cellvalues::CellScalarValues{dim}, K::SparseMatrixCSC, dh::DofHandler) where {dim}\n",
    "    # We allocate the element stiffness matrix and element force vector\n",
    "    # just once before looping over all the cells instead of allocating\n",
    "    # them every time in the loop.\n",
    "    n_basefuncs = getnbasefunctions(cellvalues)\n",
    "    Ke = zeros(n_basefuncs, n_basefuncs)\n",
    "    fe = zeros(n_basefuncs)\n",
    "    \n",
    "    # Next we define the global force vector `f` and use that and\n",
    "    # the stiffness matrix `K` and create an assembler. The assembler\n",
    "    # is just a thin wrapper around `f` and `K` and some extra storage\n",
    "    # to make the assembling faster.\n",
    "    f = zeros(ndofs(dh))\n",
    "    assembler = start_assemble(K, f)\n",
    "    \n",
    "    # It is now time to loop over all the cells in our grid. We do this by iterating\n",
    "    # over a `CellIterator`. The iterator caches some useful things for us, for example\n",
    "    # the nodal coordinates for the cell, and the local degrees of freedom.\n",
    "    @inbounds for cell in CellIterator(dh)\n",
    "        # Always remember to reset the element stiffness matrix and\n",
    "        # force vector since we reuse them for all elements.\n",
    "        fill!(Ke, 0)\n",
    "        fill!(fe, 0)\n",
    "        \n",
    "        # Get the coordinates of the cell\n",
    "        coords = getcoordinates(cell)\n",
    "        \n",
    "        # For each cell we also need to reinitialize the cached values in `cellvalues`.\n",
    "        reinit!(cellvalues, cell)\n",
    "        \n",
    "        # It is now time to loop over all the quadrature points in the cell and\n",
    "        # assemble the contribution to `Ke` and `fe`. The integration weight\n",
    "        # can be queried from `cellvalues` by `getdetJdV`, and the quadrature\n",
    "        # coordinate can be queried from `cellvalues` by `spatial_coordinate`\n",
    "        for q_point in 1:getnquadpoints(cellvalues)\n",
    "            dΩ = getdetJdV(cellvalues, q_point)\n",
    "            coords_qp = spatial_coordinate(cellvalues, q_point, coords)\n",
    "            \n",
    "            # calculate the heat conductivity and heat source at point `coords_qp`\n",
    "            k_cond = conductivity(coords_qp)\n",
    "            f_source = source(coords_qp)\n",
    "            \n",
    "            # For each quadrature point we loop over all the (local) shape functions.\n",
    "            # We need the value and gradient of the testfunction `v` and also the gradient\n",
    "            # of the trial function `u`. We get all of these from `cellvalues`.\n",
    "            for i in 1:n_basefuncs\n",
    "                v  = shape_value(cellvalues, q_point, i)\n",
    "                ∇v = shape_gradient(cellvalues, q_point, i)\n",
    "                fe[i] += f_source * v * dΩ\n",
    "                for j in 1:n_basefuncs\n",
    "                    ∇u = shape_gradient(cellvalues, q_point, j)\n",
    "                    Ke[i, j] += k_cond * (∇v ⋅ ∇u) * dΩ\n",
    "                end\n",
    "            end\n",
    "        end\n",
    "        # The last step in the element loop is to assemble `Ke` and `fe`\n",
    "        # into the global `K` and `f` with `assemble!`.\n",
    "        assemble!(assembler, celldofs(cell), fe, Ke)\n",
    "    end\n",
    "    return K, f\n",
    "end"
   ]
  },
  {
   "cell_type": "markdown",
   "metadata": {},
   "source": [
    "### Solution of the system\n",
    "The last step is to solve the system. First we call `doassemble`\n",
    "to obtain the global stiffness matrix `K` and force vector `f`."
   ]
  },
  {
   "cell_type": "code",
   "execution_count": 93,
   "metadata": {},
   "outputs": [],
   "source": [
    "K, f = doassemble(cellvalues, K, dh);"
   ]
  },
  {
   "cell_type": "markdown",
   "metadata": {},
   "source": [
    "To account for the boundary conditions we use the `apply!` function.\n",
    "This modifies elements in `K` and `f` respectively, such that\n",
    "we can get the correct solution vector `u` by using `\\`."
   ]
  },
  {
   "cell_type": "code",
   "execution_count": 94,
   "metadata": {},
   "outputs": [],
   "source": [
    "apply!(K, f, ch)\n",
    "u = K \\ f;"
   ]
  },
  {
   "cell_type": "markdown",
   "metadata": {},
   "source": [
    "### Exporting to VTK\n",
    "To visualize the result we export the grid and our field `u`\n",
    "to a VTK-file, which can be viewed in e.g. [ParaView](https://www.paraview.org/)."
   ]
  },
  {
   "cell_type": "code",
   "execution_count": 95,
   "metadata": {},
   "outputs": [
    {
     "data": {
      "text/plain": [
       "1-element Array{String,1}:\n",
       " \"heat_equation_variable_conductivity.vtu\""
      ]
     },
     "execution_count": 95,
     "metadata": {},
     "output_type": "execute_result"
    }
   ],
   "source": [
    "vtk_grid(\"heat_equation_variable_conductivity\", dh) do vtk\n",
    "    vtk_point_data(vtk, dh, u)\n",
    "end"
   ]
  },
  {
   "cell_type": "markdown",
   "metadata": {},
   "source": [
    "*This notebook was generated using [Literate.jl](https://github.com/fredrikekre/Literate.jl).*"
   ]
  }
 ],
 "metadata": {
  "kernelspec": {
   "display_name": "Julia 0.6.2",
   "language": "julia",
   "name": "julia-0.6"
  },
  "language_info": {
   "file_extension": ".jl",
   "mimetype": "application/julia",
   "name": "julia",
   "version": "0.6.2"
  }
 },
 "nbformat": 4,
 "nbformat_minor": 3
}
