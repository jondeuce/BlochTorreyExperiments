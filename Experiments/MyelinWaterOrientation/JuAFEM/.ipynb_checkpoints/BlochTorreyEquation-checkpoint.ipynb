{
 "cells": [
  {
   "cell_type": "markdown",
   "metadata": {},
   "source": [
    "# Bloch-Torrey Equation"
   ]
  },
  {
   "cell_type": "markdown",
   "metadata": {},
   "source": [
    "## Introduction\n",
    "\n",
    "Here we solve the Bloch-Torrey equation on a unit square, with the diffusion coefficient $D(x)$, relaxation rate $R(x)$, and resonance frequency $\\omega(x)$ all given as a generic functions.\n",
    "The strong form of the Bloch-Torrey equation is given by\n",
    "\n",
    "\\begin{align}\n",
    "    \\frac{\\partial u_x}{\\partial t} &= \\nabla \\cdot (D \\nabla u_x) - R u_x + \\omega u_y  \\quad x \\in \\Omega\\\\\n",
    "    \\frac{\\partial u_y}{\\partial t} &= \\nabla \\cdot (D \\nabla u_y) - R u_y - \\omega u_x  \\quad x \\in \\Omega,\n",
    "\\end{align}\n",
    "\n",
    "where $\\vec{u}=[u_x,u_y]$ is the transverse magnetization, and $\\Omega$ the domain.\n",
    "\n",
    "We will consider homogeneous Neumann boundary conditions such that\n",
    "\n",
    "\\begin{align}\n",
    "    \\nabla \\vec{u}(x) \\cdot \\hat{n} &= 0  \\quad x \\in \\partial \\Omega\\\\\n",
    "\\end{align}\n",
    "\n",
    "where $\\partial \\Omega$ denotes the boundary of $\\Omega$. The initial condition is given generically as\n",
    "\n",
    "\\begin{equation}\n",
    "    \\vec{u}(x,t=0) = \\vec{u}_0 (x)  \\quad x \\in \\Omega\n",
    "\\end{equation}\n",
    "\n",
    "\n",
    "The resulting weak form is given by\n",
    "\\begin{align}\n",
    "    \\int_{\\Omega} \\vec{v} \\cdot \\vec{u}_t \\, d\\Omega\n",
    "    &= -\\int_{\\Omega}\n",
    "    -\\vec{v} \\cdot \\nabla \\cdot ( D \\, \\nabla \\vec{u} ) +\n",
    "    R \\, \\vec{v} \\cdot \\vec{u} -\n",
    "    \\omega \\, \\vec{v} \\times \\vec{u}\n",
    "    \\, d\\Omega \\\\\n",
    "    &= -\\int_{\\Omega}\n",
    "    D \\, \\nabla \\vec{v} : \\nabla \\vec{u} +\n",
    "    R \\, \\vec{v} \\cdot \\vec{u} -\n",
    "    \\omega \\, \\vec{v} \\times \\vec{u}\n",
    "    \\, d\\Omega + \n",
    "    \\int_{\\partial\\Omega} \\vec{v} \\cdot (D\\nabla\\vec{u} \\cdot \\hat{n}) \\, d\\Gamma,\n",
    "\\end{align}\n",
    "where $\\vec{v}$ is a suitable test function.\n",
    "\n",
    "In this notebook, we will assume homogeneous Neumann boundary conditions on all boundaries by taking $D\\nabla\\vec{u} \\cdot \\hat{n} = 0$. Therefore, the final weak form is simply\n",
    "\\begin{align}\n",
    "    \\int_{\\Omega} \\vec{v} \\cdot \\vec{u}_t \\, d\\Omega\n",
    "    = -\\int_{\\Omega}\n",
    "    D \\, \\nabla \\vec{v} : \\nabla \\vec{u} +\n",
    "    R \\, \\vec{v} \\cdot \\vec{u} -\n",
    "    \\omega \\, \\vec{v} \\times \\vec{u}\n",
    "    \\, d\\Omega\n",
    "\\end{align}\n",
    "\n",
    "Note that, in two dimensions, the cross product is simply a scalar. However, `Tensors.jl` defines the two dimensional cross product by first extending the 2D vectors into 3D. Below, we use the symbol $\\boxtimes$ to denote the scalar version, which is the same as taking the third component of the vector version"
   ]
  },
  {
   "cell_type": "markdown",
   "metadata": {},
   "source": [
    "## Commented Program\n",
    "\n",
    "Now we solve the problem in JuAFEM. What follows is a program spliced with comments.\n",
    "\n",
    "First we load the JuAFEM package."
   ]
  },
  {
   "cell_type": "code",
   "execution_count": 485,
   "metadata": {},
   "outputs": [],
   "source": [
    "HOME = \"/home/coopar7/Documents/code/\"\n",
    "#HOME = \"/home/jon/Documents/UBCMRI/\"\n",
    "cd(HOME * \"BlochTorreyExperiments-master/\")\n",
    "\n",
    "using Traceur\n",
    "using BenchmarkTools\n",
    "using StaticArrays\n",
    "using JuAFEM\n",
    "using JuAFEM: vertices, faces, edges\n",
    "using MATLAB\n",
    "using LinearMaps\n",
    "using DifferentialEquations\n",
    "using Expokit\n",
    "using Optim\n",
    "using Roots\n",
    "using Distributions\n",
    "using ApproxFun\n",
    "#using Plots\n",
    "using ForwardDiff\n",
    "using ReverseDiff\n",
    "using IterTools\n",
    "\n",
    "include(\"Experiments/MyelinWaterOrientation/Geometry/geometry_utils.jl\")\n",
    "include(\"Experiments/MyelinWaterOrientation/Geometry/circle_packing.jl\")\n",
    "include(\"Experiments/MyelinWaterOrientation/Utils/mesh_utils.jl\")\n",
    "include(\"Experiments/MyelinWaterOrientation/Utils/normest1.jl\")\n",
    "include(\"Experiments/MyelinWaterOrientation/Utils/blochtorrey_utils.jl\")\n",
    "Revise.track(\"Experiments/MyelinWaterOrientation/Geometry/geometry_utils.jl\")\n",
    "Revise.track(\"Experiments/MyelinWaterOrientation/Geometry/circle_packing.jl\")\n",
    "Revise.track(\"Experiments/MyelinWaterOrientation/Utils/mesh_utils.jl\")\n",
    "Revise.track(\"Experiments/MyelinWaterOrientation/Utils/normest1.jl\")\n",
    "Revise.track(\"Experiments/MyelinWaterOrientation/Utils/blochtorrey_utils.jl\")\n",
    "\n",
    "using Normest1"
   ]
  },
  {
   "cell_type": "markdown",
   "metadata": {},
   "source": [
    "**Pack circles**: Pack circles with a specified packing density $\\eta$"
   ]
  },
  {
   "cell_type": "code",
   "execution_count": 486,
   "metadata": {},
   "outputs": [],
   "source": [
    "btparams = BlochTorreyParameters();\n",
    "freqparams = FreqMapParams(btparams);"
   ]
  },
  {
   "cell_type": "code",
   "execution_count": 487,
   "metadata": {},
   "outputs": [],
   "source": [
    "# α or k == R_shape, θ == R_scale\n",
    "R_mu = 0.46 # Axon mean radius [um] ; this is taken to be outer radius\n",
    "R_shape = 5.7 # Axon radius shape parameter for Gamma distribution (Xu)\n",
    "R_scale = R_mu / R_shape # Axon radius scale parameter [um]\n",
    "R_σ = sqrt(R_shape)*R_scale; # Axon radius variance\n",
    "\n",
    "const Dim = 2\n",
    "Ncircles = 100\n",
    "rs = rand(Gamma(R_shape, R_scale), Ncircles);\n",
    "os = initialize_origins(rs);\n",
    "\n",
    "η = 0.7 # goal packing density\n",
    "ϵ = 0.1*R_mu # overlap occurs when distance between circle edges is ≤ ϵ\n",
    "α = 0.0 # density penalty weight\n",
    "β = 1e-5 # mutual distance penalty weight\n",
    "λ = 1.0 # overlap penalty weight (or lagrange multiplier for constrained version)\n",
    "w = [α, β, λ]; # vector of weights"
   ]
  },
  {
   "cell_type": "code",
   "execution_count": 488,
   "metadata": {},
   "outputs": [],
   "source": [
    "revise()"
   ]
  },
  {
   "cell_type": "code",
   "execution_count": 489,
   "metadata": {},
   "outputs": [],
   "source": [
    "@time outer_circles, opt_result = pack_circles(rs;\n",
    "    autodiff = true,\n",
    "    reversemode = false,\n",
    "    initial_origins = os,\n",
    "    goaldensity = η,\n",
    "    distancescale = R_mu,\n",
    "    weights = w,\n",
    "    epsilon = ϵ);"
   ]
  },
  {
   "cell_type": "code",
   "execution_count": 490,
   "metadata": {},
   "outputs": [
    {
     "data": {
      "text/plain": [
       "0.7000000000000002"
      ]
     },
     "execution_count": 490,
     "metadata": {},
     "output_type": "execute_result"
    }
   ],
   "source": [
    "estimate_density(outer_circles)"
   ]
  },
  {
   "cell_type": "code",
   "execution_count": 491,
   "metadata": {},
   "outputs": [
    {
     "data": {
      "text/plain": [
       "false"
      ]
     },
     "execution_count": 491,
     "metadata": {},
     "output_type": "execute_result"
    }
   ],
   "source": [
    "is_any_overlapping(outer_circles)"
   ]
  },
  {
   "cell_type": "code",
   "execution_count": 492,
   "metadata": {},
   "outputs": [
    {
     "name": "stdout",
     "output_type": "stream",
     "text": [
      " 15.066821 seconds (4.60 M allocations: 184.934 MiB)\n"
     ]
    }
   ],
   "source": [
    "revise()"
   ]
  },
  {
   "cell_type": "code",
   "execution_count": 495,
   "metadata": {},
   "outputs": [
    {
     "data": {
      "text/plain": [
       "74"
      ]
     },
     "execution_count": 495,
     "metadata": {},
     "output_type": "execute_result"
    }
   ],
   "source": [
    "g_ratio = 0.5 #0.8370\n",
    "#rect_bdry = bounding_box(outer_circles)\n",
    "rect_bdry = scale_shape(inscribed_square(crude_bounding_circle(outer_circles)), 0.75)\n",
    "#rect_bdry = scale_shape(bounding_box(outer_circles), 1.05)\n",
    "\n",
    "outer_circles = filter(c -> !is_outside(c, rect_bdry), outer_circles)\n",
    "inner_circles = scale_shape.(outer_circles, g_ratio);\n",
    "Ncircles = length(outer_circles)"
   ]
  },
  {
   "cell_type": "code",
   "execution_count": 557,
   "metadata": {},
   "outputs": [],
   "source": [
    "revise()"
   ]
  },
  {
   "cell_type": "code",
   "execution_count": 561,
   "metadata": {
    "scrolled": true
   },
   "outputs": [],
   "source": [
    "#Nmin = 50; # points for average circle\n",
    "#h0 = 2pi*R_mu/Nmin; # approximate scale\n",
    "h0 = 0.3*R_mu*(1-g_ratio) # fraction of size of average torus width\n",
    "eta = 3.0; # approx ratio between largest/smallest edges\n",
    "\n",
    "@time grid = square_mesh_with_tori(rect_bdry, inner_circles, outer_circles, h0, eta, isunion=true);\n",
    "# @time grid, subgrids = square_mesh_with_circles(rect_bdry, outer_circles, h0, eta, isunion=false);"
   ]
  },
  {
   "cell_type": "code",
   "execution_count": 562,
   "metadata": {},
   "outputs": [
    {
     "name": "stdout",
     "output_type": "stream",
     "text": [
      " 53.115335 seconds (327.64 k allocations: 10.135 MiB)\n"
     ]
    }
   ],
   "source": [
    "mxcall(:figure,0); mxcall(:hold,0,\"on\"); mxplot(grid); sleep(0.1);"
   ]
  },
  {
   "cell_type": "code",
   "execution_count": 563,
   "metadata": {},
   "outputs": [],
   "source": [
    "exteriorgrid, torigrids, interiorgrids = get_tori_subgrids(grid, rect_bdry, inner_circles, outer_circles);"
   ]
  },
  {
   "cell_type": "code",
   "execution_count": 564,
   "metadata": {},
   "outputs": [],
   "source": [
    "all_tori = form_subgrid(grid, getcellset(grid, \"tori\"), getnodeset(grid, \"tori\"), getfaceset(grid, \"boundary\"))\n",
    "all_int = form_subgrid(grid, getcellset(grid, \"interior\"), getnodeset(grid, \"interior\"), getfaceset(grid, \"boundary\"))\n",
    "mxcall(:figure,0); mxcall(:hold,0,\"on\"); mxplot(exteriorgrid); sleep(0.1);\n",
    "mxcall(:figure,0); mxcall(:hold,0,\"on\"); mxplot(all_tori); sleep(0.1);\n",
    "mxcall(:figure,0); mxcall(:hold,0,\"on\"); mxplot(all_int); sleep(0.1);"
   ]
  },
  {
   "cell_type": "code",
   "execution_count": 565,
   "metadata": {},
   "outputs": [
    {
     "ename": "LoadError",
     "evalue": "\u001b[91mBoundsError: attempt to access 1-element Array{Int64,1} at index [2]\u001b[39m",
     "output_type": "error",
     "traceback": [
      "\u001b[91mBoundsError: attempt to access 1-element Array{Int64,1} at index [2]\u001b[39m",
      "",
      "Stacktrace:",
      " [1] \u001b[1m_create_sparsity_pattern\u001b[22m\u001b[22m\u001b[1m(\u001b[22m\u001b[22m::JuAFEM.DofHandler{2,3,Float64,3}, ::Bool\u001b[1m)\u001b[22m\u001b[22m at \u001b[1m/home/coopar7/.julia/v0.6/JuAFEM/src/Dofs/DofHandler.jl:288\u001b[22m\u001b[22m",
      " [2] \u001b[1m#ParabolicDomain#1203\u001b[22m\u001b[22m\u001b[1m(\u001b[22m\u001b[22m::Type{T} where T, ::Int64, ::Int64, ::Int64, ::Type{T} where T, ::JuAFEM.Grid{2,3,Float64,3}\u001b[1m)\u001b[22m\u001b[22m at \u001b[1m/home/coopar7/Documents/code/BlochTorreyExperiments-master/Experiments/MyelinWaterOrientation/Utils/blochtorrey_utils.jl:112\u001b[22m\u001b[22m",
      " [3] \u001b[1m(::Core.#kw#Type)\u001b[22m\u001b[22m\u001b[1m(\u001b[22m\u001b[22m::Array{Any,1}, ::Type{ParabolicDomain}, ::JuAFEM.Grid{2,3,Float64,3}\u001b[1m)\u001b[22m\u001b[22m at \u001b[1m./<missing>:0\u001b[22m\u001b[22m",
      " [4] \u001b[1m#1206\u001b[22m\u001b[22m at \u001b[1m./<missing>:0\u001b[22m\u001b[22m [inlined]",
      " [5] \u001b[1mmacro expansion\u001b[22m\u001b[22m at \u001b[1m./broadcast.jl:155\u001b[22m\u001b[22m [inlined]",
      " [6] \u001b[1mmacro expansion\u001b[22m\u001b[22m at \u001b[1m./simdloop.jl:73\u001b[22m\u001b[22m [inlined]",
      " [7] \u001b[1mmacro expansion\u001b[22m\u001b[22m at \u001b[1m./broadcast.jl:149\u001b[22m\u001b[22m [inlined]",
      " [8] \u001b[1m_broadcast!\u001b[22m\u001b[22m at \u001b[1m./broadcast.jl:141\u001b[22m\u001b[22m [inlined]",
      " [9] \u001b[1mbroadcast_t\u001b[22m\u001b[22m at \u001b[1m./broadcast.jl:270\u001b[22m\u001b[22m [inlined]",
      " [10] \u001b[1mbroadcast_c\u001b[22m\u001b[22m at \u001b[1m./broadcast.jl:316\u001b[22m\u001b[22m [inlined]",
      " [11] \u001b[1mbroadcast\u001b[22m\u001b[22m at \u001b[1m./broadcast.jl:455\u001b[22m\u001b[22m [inlined]",
      " [12] \u001b[1m#MyelinDomain#1204\u001b[22m\u001b[22m\u001b[1m(\u001b[22m\u001b[22m::Array{Any,1}, ::Type{T} where T, ::JuAFEM.Grid{2,3,Float64,3}, ::Array{Circle{2,Float64},1}, ::Array{Circle{2,Float64},1}, ::Rectangle{2,Float64}, ::JuAFEM.Grid{2,3,Float64,3}, ::Array{JuAFEM.Grid{2,3,Float64,3},1}, ::Array{JuAFEM.Grid{2,3,Float64,3},1}\u001b[1m)\u001b[22m\u001b[22m at \u001b[1m/home/coopar7/Documents/code/BlochTorreyExperiments-master/Experiments/MyelinWaterOrientation/Utils/blochtorrey_utils.jl:240\u001b[22m\u001b[22m",
      " [13] \u001b[1m(::Core.#kw#Type)\u001b[22m\u001b[22m\u001b[1m(\u001b[22m\u001b[22m::Array{Any,1}, ::Type{MyelinDomain}, ::JuAFEM.Grid{2,3,Float64,3}, ::Array{Circle{2,Float64},1}, ::Array{Circle{2,Float64},1}, ::Rectangle{2,Float64}, ::JuAFEM.Grid{2,3,Float64,3}, ::Array{JuAFEM.Grid{2,3,Float64,3},1}, ::Array{JuAFEM.Grid{2,3,Float64,3},1}\u001b[1m)\u001b[22m\u001b[22m at \u001b[1m./<missing>:0\u001b[22m\u001b[22m"
     ]
    }
   ],
   "source": [
    "domain = MyelinDomain(grid, outer_circles, inner_circles, rect_bdry, exteriorgrid, torigrids, interiorgrids;\n",
    "    quadorder = 1, funcinterporder = 1);"
   ]
  },
  {
   "cell_type": "code",
   "execution_count": 566,
   "metadata": {},
   "outputs": [],
   "source": [
    "doassemble!(domain, btparams);"
   ]
  },
  {
   "cell_type": "code",
   "execution_count": 387,
   "metadata": {},
   "outputs": [],
   "source": [
    "factorize!(domain);"
   ]
  },
  {
   "cell_type": "code",
   "execution_count": null,
   "metadata": {},
   "outputs": [],
   "source": []
  },
  {
   "cell_type": "code",
   "execution_count": 372,
   "metadata": {},
   "outputs": [],
   "source": [
    "using Cubature"
   ]
  },
  {
   "cell_type": "code",
   "execution_count": 419,
   "metadata": {},
   "outputs": [
    {
     "data": {
      "text/plain": [
       "([75.8078], [7.51604e-7])"
      ]
     },
     "execution_count": 419,
     "metadata": {},
     "output_type": "execute_result"
    }
   ],
   "source": [
    "lb, ub = Vector(minimum(rect_bdry)), Vector(maximum(rect_bdry))\n",
    "(val,err) = hcubature(1, (x,v) -> (y = exp.(2*x.^2/10); v[1] = dot(y,y)), lb, ub)"
   ]
  },
  {
   "cell_type": "code",
   "execution_count": 425,
   "metadata": {},
   "outputs": [
    {
     "data": {
      "text/plain": [
       "2-element Tensors.Tensor{1,2,Float64,2}:\n",
       "  0.0   \n",
       " 15.7765"
      ]
     },
     "execution_count": 425,
     "metadata": {},
     "output_type": "execute_result"
    }
   ],
   "source": [
    "# U = interpolate(x->Vec{2}(exp.(2x⊙x/10)), domain);\n",
    "U = interpolate(Vec{2}((0.0,1.0)), domain);\n",
    "S = integrate(U, domain)"
   ]
  },
  {
   "cell_type": "code",
   "execution_count": 414,
   "metadata": {},
   "outputs": [
    {
     "data": {
      "text/plain": [
       "8.70773349520356"
      ]
     },
     "execution_count": 414,
     "metadata": {},
     "output_type": "execute_result"
    }
   ],
   "source": [
    "norm(U, domain)"
   ]
  },
  {
   "cell_type": "markdown",
   "metadata": {},
   "source": [
    "### Diffusion coefficient $D(x)$, relaxation rate $R(x)$, and resonance frequency $\\omega(x)$"
   ]
  },
  {
   "cell_type": "markdown",
   "metadata": {},
   "source": [
    "These functions are defined within `doassemble!`"
   ]
  },
  {
   "cell_type": "markdown",
   "metadata": {},
   "source": [
    "### Trial and test functions\n",
    "A `CellValues` facilitates the process of evaluating values and gradients of\n",
    "test and trial functions (among other things). Since the problem\n",
    "is a scalar problem we will use a `CellScalarValues` object. To define\n",
    "this we need to specify an interpolation space for the shape functions.\n",
    "We use Lagrange functions (both for interpolating the function and the geometry)\n",
    "based on the reference \"cube\". We also define a quadrature rule based on the\n",
    "same reference cube. We combine the interpolation and the quadrature rule\n",
    "to a `CellScalarValues` object."
   ]
  },
  {
   "cell_type": "markdown",
   "metadata": {},
   "source": [
    "### Degrees of freedom\n",
    "Next we need to define a `DofHandler`, which will take care of numbering\n",
    "and distribution of degrees of freedom for our approximated fields.\n",
    "We create the `DofHandler` and then add a single field called `u`.\n",
    "Lastly we `close!` the `DofHandler`, it is now that the dofs are distributed\n",
    "for all the elements."
   ]
  },
  {
   "cell_type": "markdown",
   "metadata": {},
   "source": [
    "Now that we have distributed all our dofs we can create our tangent matrix,\n",
    "using `create_sparsity_pattern`. This function returns a sparse matrix\n",
    "with the correct elements stored."
   ]
  },
  {
   "cell_type": "markdown",
   "metadata": {},
   "source": [
    "We can inspect the pattern using the `spy` function from `UnicodePlots.jl`.\n",
    "By default the stored values are set to $0$, so we first need to\n",
    "fill the stored values, e.g. `K.nzval` with something meaningful."
   ]
  },
  {
   "cell_type": "code",
   "execution_count": null,
   "metadata": {},
   "outputs": [],
   "source": [
    "#using UnicodePlots\n",
    "#fill!(K.nzval, 1.0)\n",
    "#spy(K; height = 25)"
   ]
  },
  {
   "cell_type": "markdown",
   "metadata": {},
   "source": [
    "### Boundary conditions\n",
    "In JuAFEM constraints like Dirichlet boundary conditions are handled by a `ConstraintHandler`. However, here we will have no need to directly enforce boundary conditions, since Neumann boundary conditions have already been applied in the derivation of the weak form."
   ]
  },
  {
   "cell_type": "markdown",
   "metadata": {},
   "source": [
    "### Assembling the linear system\n",
    "Now we have all the pieces needed to assemble the linear system, $K u = f$.\n",
    "We define a function, `doassemble` to do the assembly, which takes our `cellvalues`,\n",
    "the sparse matrix and our DofHandler as input arguments. The function returns the\n",
    "assembled stiffness matrix, and the force vector."
   ]
  },
  {
   "cell_type": "markdown",
   "metadata": {},
   "source": [
    "### Solution of the differential equation system\n",
    "The last step is to solve the system. First we call `doassemble`\n",
    "to obtain the global stiffness matrix `K` and force vector `f`.\n",
    "Then, to account for the boundary conditions, we use the `apply!` function.\n",
    "This modifies elements in `K` and `f` respectively, such that\n",
    "we can get the correct solution vector `u` by using `\\`."
   ]
  },
  {
   "cell_type": "code",
   "execution_count": 472,
   "metadata": {},
   "outputs": [],
   "source": [
    "tspan = (0.0,40e-3);\n",
    "u0 = Vec{2}((0.0, 1.0))\n",
    "U0 = interpolate(u0, domain); # vector of vectors\n",
    "#U = similar(U0)"
   ]
  },
  {
   "cell_type": "code",
   "execution_count": 463,
   "metadata": {},
   "outputs": [
    {
     "name": "stdout",
     "output_type": "stream",
     "text": [
      "  1.332069 seconds (1.04 M allocations: 325.568 MiB, 11.94% gc time)\n",
      "i = 21\n",
      "  0.007311 seconds (637 allocations: 2.484 MiB)\n",
      "i = 20\n",
      "  3.644639 seconds (401.01 k allocations: 1.067 GiB, 27.50% gc time)\n",
      "i = 19\n",
      "  2.099000 seconds (419.61 k allocations: 838.806 MiB, 10.10% gc time)\n",
      "i = 18\n",
      "  0.345736 seconds (197.85 k allocations: 128.953 MiB, 18.81% gc time)\n",
      "i = 17\n",
      "  0.499486 seconds (323.81 k allocations: 196.626 MiB, 15.71% gc time)\n",
      "i = 16\n",
      "  1.303666 seconds (78.35 k allocations: 199.384 MiB, 5.75% gc time)\n",
      "i = 15\n",
      "  1.543530 seconds (235.62 k allocations: 579.391 MiB, 9.90% gc time)\n",
      "i = 14\n",
      "  3.925535 seconds (725.01 k allocations: 1.498 GiB, 9.33% gc time)\n",
      "i = 13\n",
      "  5.443864 seconds (162.40 k allocations: 722.565 MiB, 3.76% gc time)\n",
      "i = 12\n",
      "  8.370402 seconds (10.14 M allocations: 3.884 GiB, 11.63% gc time)\n",
      "i = 11\n",
      " 11.932582 seconds (1.65 M allocations: 4.978 GiB, 9.19% gc time)\n",
      "i = 10\n",
      " 13.361518 seconds (3.02 M allocations: 5.909 GiB, 10.30% gc time)\n",
      "i = 9\n",
      "  6.871944 seconds (2.10 M allocations: 2.955 GiB, 10.78% gc time)\n",
      "i = 8\n",
      " 10.521408 seconds (11.09 M allocations: 4.887 GiB, 11.83% gc time)\n",
      "i = 7\n",
      " "
     ]
    },
    {
     "name": "stderr",
     "output_type": "stream",
     "text": [
      "\n",
      "[CVODES ERROR]  CVode\n",
      "  At t = 0.0355854 and h = 1.0882e-08, the corrector convergence test failed repeatedly or with |h| = hmin.\n",
      "\n"
     ]
    },
    {
     "name": "stdout",
     "output_type": "stream",
     "text": [
      "19.372542 seconds (21.31 M allocations: 9.043 GiB, 11.62% gc time)\n",
      "i = 6\n",
      "  1.330600 seconds (136.52 k allocations: 509.477 MiB, 10.84% gc time)\n",
      "i = 5\n",
      "  0.347714 seconds (82.69 k allocations: 143.561 MiB, 20.34% gc time)\n",
      "i = 4\n",
      "  6.411885 seconds (2.03 M allocations: 2.893 GiB, 11.07% gc time)\n",
      "i = 3\n",
      "  2.380921 seconds (119.96 k allocations: 800.125 MiB, 8.83% gc time)\n",
      "i = 2\n",
      "464.932885 seconds (3.12 M allocations: 50.740 GiB, 2.25% gc time)\n",
      "i = 1\n"
     ]
    }
   ],
   "source": [
    "for i in numsubdomains(domain):-1:1\n",
    "    print(\"i = $i: \")\n",
    "    \n",
    "    subdomain = getsubdomain(domain, i)\n",
    "    Amap = paraboliclinearmap(subdomain)\n",
    "    U[i] = similar(U0[i])\n",
    "        \n",
    "    # Method 1: expmv! from Expokit.jl\n",
    "    #@time Expokit.expmv!(U[i], tspan[end], Amap, U0[i]; tol=1e-4, norm=expmv_norm, m=30);\n",
    "    \n",
    "    # Method 2: direct ODE solution using DifferentialEquations.jl\n",
    "    prob = ODEProblem((du,u,p,t)->A_mul_B!(du,p[1],u), U0[i], tspan, (Amap,));\n",
    "    @time sol = solve(prob, CVODE_BDF(linear_solver=:GMRES); saveat=tspan, reltol=1e-4, alg_hints=:stiff)\n",
    "    U[i] = sol.u[end]\n",
    "end"
   ]
  },
  {
   "cell_type": "code",
   "execution_count": 476,
   "metadata": {},
   "outputs": [
    {
     "data": {
      "text/plain": [
       "2-element Tensors.Tensor{1,2,Float64,2}:\n",
       "  0.0   \n",
       " 15.7765"
      ]
     },
     "execution_count": 476,
     "metadata": {},
     "output_type": "execute_result"
    }
   ],
   "source": [
    "u0 * area(domain.domainboundary)"
   ]
  },
  {
   "cell_type": "code",
   "execution_count": 477,
   "metadata": {},
   "outputs": [
    {
     "data": {
      "text/plain": [
       "2-element Tensors.Tensor{1,2,Float64,2}:\n",
       " -0.846457\n",
       "  3.32462 "
      ]
     },
     "execution_count": 477,
     "metadata": {},
     "output_type": "execute_result"
    }
   ],
   "source": [
    "integrate(U, domain)"
   ]
  },
  {
   "cell_type": "code",
   "execution_count": 481,
   "metadata": {
    "scrolled": true
   },
   "outputs": [
    {
     "data": {
      "text/plain": [
       "0.5299775483586843"
      ]
     },
     "execution_count": 481,
     "metadata": {},
     "output_type": "execute_result"
    }
   ],
   "source": [
    "exp(-tspan[end]*btparams[:R2_lp])"
   ]
  },
  {
   "cell_type": "code",
   "execution_count": null,
   "metadata": {},
   "outputs": [],
   "source": [
    "prob = ODEProblem((du,u,p,t)->A_mul_B!(du,p[1],u), u0, tspan, (Amap,));"
   ]
  },
  {
   "cell_type": "code",
   "execution_count": null,
   "metadata": {},
   "outputs": [],
   "source": [
    "#@time Expokit.expmv!(u, tspan[end], Amap, u0; tol=1e-4, norm=expmv_norm, m=100); # penelope: 17.42s\n",
    "#@time Expokit.expmv!(u, tspan[end], Amap, u0; tol=1e-4, norm=expmv_norm, m=50); # penelope: 30.09s\n",
    "#@time Expokit.expmv!(u, tspan[end], Amap, u0; tol=1e-4, norm=expmv_norm, m=10); # penelope: 103.5s\n",
    "#@time Expokit.expmv!(u, tspan[end], Amap, u0; tol=1e-8, norm=expmv_norm); # penelope: 53.2s\n",
    "#@time Expokit.expmv!(u, tspan[end], Amap, u0; tol=1e-6, norm=expmv_norm); # penelope: 44.4s"
   ]
  },
  {
   "cell_type": "code",
   "execution_count": null,
   "metadata": {},
   "outputs": [],
   "source": [
    "#@time sol = solve(prob, CVODE_BDF(linear_solver=:GMRES); saveat=tspan, reltol=1e-8, alg_hints=:stiff); # penelope: 90.21s\n",
    "#@time sol = solve(prob, CVODE_BDF(linear_solver=:GMRES); saveat=tspan, reltol=1e-4, alg_hints=:stiff); # penelope: 33.44s\n",
    "#@time sol = solve(prob, CVODE_BDF(linear_solver=:BCG); saveat=tspan, reltol=1e-4, alg_hints=:stiff) # penelope: 53.66s\n",
    "#@time sol = solve(prob, CVODE_BDF(linear_solver=:TFQMR); saveat=tspan, reltol=1e-4, alg_hints=:stiff) # penelope: 18.99s but low accuracy"
   ]
  },
  {
   "cell_type": "code",
   "execution_count": null,
   "metadata": {
    "scrolled": true
   },
   "outputs": [],
   "source": [
    "#prob_Ku = ODEProblem(K_mul_u!, u0, tspan, (K,), mass_matrix=M);\n",
    "#@time sol_Ku = solve(prob_Ku, Rosenbrock23(), saveat=tspan, reltol=1e-4, alg_hints=:stiff) #DNF\n",
    "#@time sol_Ku = solve(prob_Ku, Rodas4(), saveat=tspan, reltol=1e-4, alg_hints=:stiff) #DNF"
   ]
  },
  {
   "cell_type": "code",
   "execution_count": null,
   "metadata": {},
   "outputs": [],
   "source": [
    "@show norm(sol.u[end] - u)/maximum(abs,u);\n",
    "@show maximum(sol.u[end] - u)/maximum(abs,u);"
   ]
  },
  {
   "cell_type": "code",
   "execution_count": null,
   "metadata": {},
   "outputs": [],
   "source": []
  },
  {
   "cell_type": "markdown",
   "metadata": {},
   "source": [
    "### Exporting to VTK\n",
    "To visualize the result we export the grid and our field `u`\n",
    "to a VTK-file, which can be viewed in e.g. [ParaView](https://www.paraview.org/)."
   ]
  },
  {
   "cell_type": "code",
   "execution_count": null,
   "metadata": {},
   "outputs": [],
   "source": [
    "vtk_grid(\"bloch_torrey_equation\", dh) do vtk\n",
    "    vtk_point_data(vtk, dh, u)\n",
    "end"
   ]
  },
  {
   "cell_type": "markdown",
   "metadata": {},
   "source": [
    "*This notebook was generated using [Literate.jl](https://github.com/fredrikekre/Literate.jl).*"
   ]
  }
 ],
 "metadata": {
  "kernelspec": {
   "display_name": "Julia 0.6.4",
   "language": "julia",
   "name": "julia-0.6"
  },
  "language_info": {
   "file_extension": ".jl",
   "mimetype": "application/julia",
   "name": "julia",
   "version": "0.6.4"
  }
 },
 "nbformat": 4,
 "nbformat_minor": 3
}
