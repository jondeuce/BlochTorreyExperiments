{
 "cells": [
  {
   "cell_type": "markdown",
   "metadata": {},
   "source": [
    "# Bloch-Torrey Equation"
   ]
  },
  {
   "cell_type": "markdown",
   "metadata": {},
   "source": [
    "## Introduction\n",
    "\n",
    "Here we solve the Bloch-Torrey equation on a unit square, with the diffusion coefficient $D(x)$, relaxation rate $R(x)$, and resonance frequency $\\omega(x)$ all given as a generic functions.\n",
    "The strong form of the Bloch-Torrey equation is given by\n",
    "\n",
    "\\begin{align}\n",
    "    u_t &= \\nabla \\cdot (D \\nabla u) - R u + \\omega v  \\quad x \\in \\Omega\\\\\n",
    "    v_t &= \\nabla \\cdot (D \\nabla v) - R v - \\omega u  \\quad x \\in \\Omega,\n",
    "\\end{align}\n",
    "\n",
    "where $\\vec{u}=[u,v]$ is the transverse magnetization, and $\\Omega$ the domain.\n",
    "\n",
    "We will consider homogeneous Neumann boundary conditions such that\n",
    "\n",
    "\\begin{align}\n",
    "    \\nabla u(x) \\cdot n &= 0  \\quad x \\in \\partial \\Omega\\\\\n",
    "    \\nabla v(x) \\cdot n &= 0  \\quad x \\in \\partial \\Omega,\n",
    "\\end{align}\n",
    "\n",
    "where $\\partial \\Omega$ denotes the boundary of $\\Omega$. The initial condition is given generically as\n",
    "\n",
    "\\begin{equation}\n",
    "    \\vec{u}(x,t=0) = \\vec{u}_0 (x)  \\quad x \\in \\Omega\n",
    "\\end{equation}\n",
    "\n",
    "\n",
    "The resulting weak form is given by\n",
    "\\begin{align}\n",
    "    \\int_{\\Omega} \\vec{v} \\cdot \\vec{u}_t \\, d\\Omega\n",
    "    &= -\\int_{\\Omega}\n",
    "    -\\vec{v} \\cdot \\nabla \\cdot ( D \\, \\nabla \\vec{u} ) +\n",
    "    R \\, \\vec{v} \\cdot \\vec{u} -\n",
    "    \\omega \\, \\vec{v} \\times \\vec{u}\n",
    "    \\, d\\Omega \\\\\n",
    "    &= -\\int_{\\Omega}\n",
    "    D \\, \\nabla \\vec{v} : \\nabla \\vec{u} +\n",
    "    R \\, \\vec{v} \\cdot \\vec{u} -\n",
    "    \\omega \\, \\vec{v} \\times \\vec{u}\n",
    "    \\, d\\Omega + \n",
    "    \\int_{\\partial\\Omega} \\vec{v} \\cdot (D\\nabla\\vec{u} \\cdot \\hat{n}) \\, d\\Gamma,\n",
    "\\end{align}\n",
    "where $\\vec{v}$ is a suitable test function.\n",
    "\n",
    "In this notebook, we will assume homogeneous Neumann boundary conditions on all boundaries. Therefore, the final weak form is simply\n",
    "\\begin{align}\n",
    "    \\int_{\\Omega} \\vec{v} \\cdot \\vec{u}_t \\, d\\Omega\n",
    "    = -\\int_{\\Omega}\n",
    "    D \\, \\nabla \\vec{v} : \\nabla \\vec{u} +\n",
    "    R \\, \\vec{v} \\cdot \\vec{u} -\n",
    "    \\omega \\, \\vec{v} \\times \\vec{u}\n",
    "    \\, d\\Omega\n",
    "\\end{align}\n",
    "\n",
    "Note that, in two dimensions, the cross product is simply a scalar. However, `Tensors.jl` defines the two dimensional cross product by first extending the 2D vectors into 3D. Below, we use the symbol $\\boxtimes$ to denote the scalar version, which is the same as taking the third component of the vector version"
   ]
  },
  {
   "cell_type": "markdown",
   "metadata": {},
   "source": [
    "## Commented Program\n",
    "\n",
    "Now we solve the problem in JuAFEM. What follows is a program spliced with comments.\n",
    "\n",
    "First we load the JuAFEM package."
   ]
  },
  {
   "cell_type": "code",
   "execution_count": 1,
   "metadata": {},
   "outputs": [],
   "source": [
    "using Revise\n",
    "using Traceur\n",
    "using BenchmarkTools\n",
    "using ProfileView\n",
    "using JuAFEM\n",
    "using JuAFEM: vertices, faces, edges\n",
    "using MATLAB\n",
    "using LinearMaps\n",
    "using DifferentialEquations\n",
    "using Expokit"
   ]
  },
  {
   "cell_type": "code",
   "execution_count": 2,
   "metadata": {},
   "outputs": [],
   "source": [
    "include(\"../Utils/geometry_utils.jl\")\n",
    "include(\"../Utils/mesh_utils.jl\")\n",
    "include(\"../Utils/normest1.jl\")\n",
    "Revise.track(\"../Utils/geometry_utils.jl\")\n",
    "Revise.track(\"../Utils/mesh_utils.jl\")\n",
    "Revise.track(\"../Utils/normest1.jl\")\n",
    "using Normest1"
   ]
  },
  {
   "cell_type": "markdown",
   "metadata": {},
   "source": [
    "**Option #1**: Generate a simple grid with 20x20 triangular elements\n",
    "using `generate_grid`. The generator defaults to the unit square,\n",
    "so we don't need to specify the corners of the domain."
   ]
  },
  {
   "cell_type": "code",
   "execution_count": 3,
   "metadata": {},
   "outputs": [],
   "source": [
    "const n = 20\n",
    "grid = generate_grid(Triangle, (n, n));"
   ]
  },
  {
   "cell_type": "markdown",
   "metadata": {},
   "source": [
    "**Option #2**: External call to `MATLAB` to generate non-uniform grid with circles inside and convert to a `JuAFEM` grid."
   ]
  },
  {
   "cell_type": "code",
   "execution_count": 4,
   "metadata": {},
   "outputs": [],
   "source": [
    "bbox    = Rectangle((-1.0, -1.0), (1.0, 1.0));\n",
    "centers = [(0.0, 0.0)];\n",
    "rads    = [      0.5 ];\n",
    "\n",
    "#bbox    = Rectangle((-1.0, -1.0), (1.0, 1.0));\n",
    "#centers = [(-0.7, -0.9), (0.5, 0.5)];\n",
    "#rads    = [        0.5,        0.4 ];\n",
    "\n",
    "#bbox    = Rectangle((-1.0, -1.0), (1.0, 1.0));\n",
    "#centers = [(0.0, -1.0), (0.0, 1.0)];\n",
    "#rads    = [       0.5,        0.5 ];\n",
    "\n",
    "circles = [Circle(c,r) for (c,r) in zip(centers,rads)]\n",
    "\n",
    "Nmin = 250; # points for smallest circle\n",
    "h0 = 2pi*minimum(rads)/Nmin; # approximate scale\n",
    "eta = 5.0; # approx ratio between largest/smallest edges"
   ]
  },
  {
   "cell_type": "code",
   "execution_count": 5,
   "metadata": {},
   "outputs": [],
   "source": [
    "mxcall(:addpath,0,\"/home/coopar7/Documents/code/MatlabTools/FiniteElements/distmesh-jd\")"
   ]
  },
  {
   "cell_type": "code",
   "execution_count": 6,
   "metadata": {},
   "outputs": [],
   "source": [
    "revise()"
   ]
  },
  {
   "cell_type": "code",
   "execution_count": 7,
   "metadata": {
    "scrolled": true
   },
   "outputs": [],
   "source": [
    "fullgrid, subgrids = square_mesh_with_circles(bbox, circles, h0, eta, isunion=true);"
   ]
  },
  {
   "cell_type": "code",
   "execution_count": 8,
   "metadata": {},
   "outputs": [
    {
     "data": {
      "text/plain": [
       "JuAFEM.Grid{2,3,Float64,3} with 22663 Triangle cells and 11450 nodes"
      ]
     },
     "execution_count": 8,
     "metadata": {},
     "output_type": "execute_result"
    }
   ],
   "source": [
    "#grid = subgrids[1]\n",
    "grid = fullgrid"
   ]
  },
  {
   "cell_type": "markdown",
   "metadata": {},
   "source": [
    "### Diffusion coefficient $D(x)$, relaxation rate $R(x)$, and resonance frequency $\\omega(x)$"
   ]
  },
  {
   "cell_type": "code",
   "execution_count": 9,
   "metadata": {},
   "outputs": [],
   "source": [
    "const θ = π/2;\n",
    "const cos²θ = cos(θ)^2;\n",
    "const sin²θ = sin(θ)^2;"
   ]
  },
  {
   "cell_type": "code",
   "execution_count": 10,
   "metadata": {
    "scrolled": true
   },
   "outputs": [],
   "source": [
    "#@inline Dcoeff(x::Vec{2,T}) where T = ifelse(is_in_any_circle(x, circles), 3one(T), one(T))\n",
    "@inline Dcoeff(x::Vec{2,T}) where T = one(T)\n",
    "@inline Rdecay(x::Vec{2,T}) where T = ifelse(is_in_any_circle(x, circles), 3one(T), one(T))\n",
    "@inline @fastmath @inbounds function omega(x::Vec{2,T}) where T\n",
    "    ω = zero(T)\n",
    "    for c in circles\n",
    "        if is_in_circle(x,c)\n",
    "            ω += T(3cos²θ-1)/6\n",
    "        else\n",
    "            r⁴ = (x⋅x)^2\n",
    "            a² = radius(c)^2\n",
    "            y²_x² = x[2]^2 - x[1]^2\n",
    "            ω += T(0.5sin²θ) * a² * y²_x² / r⁴\n",
    "        end\n",
    "    end\n",
    "    return ω\n",
    "end"
   ]
  },
  {
   "cell_type": "markdown",
   "metadata": {},
   "source": [
    "### Trial and test functions\n",
    "A `CellValues` facilitates the process of evaluating values and gradients of\n",
    "test and trial functions (among other things). Since the problem\n",
    "is a scalar problem we will use a `CellScalarValues` object. To define\n",
    "this we need to specify an interpolation space for the shape functions.\n",
    "We use Lagrange functions (both for interpolating the function and the geometry)\n",
    "based on the reference \"cube\". We also define a quadrature rule based on the\n",
    "same reference cube. We combine the interpolation and the quadrature rule\n",
    "to a `CellScalarValues` object."
   ]
  },
  {
   "cell_type": "code",
   "execution_count": 11,
   "metadata": {},
   "outputs": [],
   "source": [
    "const dim = 2\n",
    "ip = Lagrange{dim, RefTetrahedron, 1}()\n",
    "qr = QuadratureRule{dim, RefTetrahedron}(2)\n",
    "qr_face = QuadratureRule{dim-1, RefTetrahedron}(2)\n",
    "cellvalues = CellVectorValues(qr, ip);\n",
    "facevalues = FaceVectorValues(qr_face, ip);"
   ]
  },
  {
   "cell_type": "markdown",
   "metadata": {},
   "source": [
    "### Degrees of freedom\n",
    "Next we need to define a `DofHandler`, which will take care of numbering\n",
    "and distribution of degrees of freedom for our approximated fields.\n",
    "We create the `DofHandler` and then add a single field called `u`.\n",
    "Lastly we `close!` the `DofHandler`, it is now that the dofs are distributed\n",
    "for all the elements."
   ]
  },
  {
   "cell_type": "code",
   "execution_count": 12,
   "metadata": {},
   "outputs": [],
   "source": [
    "dh = DofHandler(grid)\n",
    "push!(dh, :u, 2)\n",
    "close!(dh);"
   ]
  },
  {
   "cell_type": "markdown",
   "metadata": {},
   "source": [
    "Now that we have distributed all our dofs we can create our tangent matrix,\n",
    "using `create_sparsity_pattern`. This function returns a sparse matrix\n",
    "with the correct elements stored."
   ]
  },
  {
   "cell_type": "code",
   "execution_count": 13,
   "metadata": {},
   "outputs": [],
   "source": [
    "K = create_sparsity_pattern(dh);\n",
    "M = create_sparsity_pattern(dh);"
   ]
  },
  {
   "cell_type": "markdown",
   "metadata": {},
   "source": [
    "We can inspect the pattern using the `spy` function from `UnicodePlots.jl`.\n",
    "By default the stored values are set to $0$, so we first need to\n",
    "fill the stored values, e.g. `K.nzval` with something meaningful."
   ]
  },
  {
   "cell_type": "code",
   "execution_count": 14,
   "metadata": {},
   "outputs": [],
   "source": [
    "#using UnicodePlots\n",
    "#fill!(K.nzval, 1.0)\n",
    "#spy(K; height = 25)"
   ]
  },
  {
   "cell_type": "markdown",
   "metadata": {},
   "source": [
    "### Boundary conditions\n",
    "In JuAFEM constraints like Dirichlet boundary conditions are handled by a `ConstraintHandler`. However, here we will have no need to directly enforce boundary conditions, since Neumann boundary conditions have already been applied in the derivation of the weak form."
   ]
  },
  {
   "cell_type": "markdown",
   "metadata": {},
   "source": [
    "### Assembling the linear system\n",
    "Now we have all the pieces needed to assemble the linear system, $K u = f$.\n",
    "We define a function, `doassemble` to do the assembly, which takes our `cellvalues`,\n",
    "the sparse matrix and our DofHandler as input arguments. The function returns the\n",
    "assembled stiffness matrix, and the force vector."
   ]
  },
  {
   "cell_type": "code",
   "execution_count": 15,
   "metadata": {
    "scrolled": true
   },
   "outputs": [
    {
     "data": {
      "text/plain": [
       "doassemble (generic function with 1 method)"
      ]
     },
     "execution_count": 15,
     "metadata": {},
     "output_type": "execute_result"
    }
   ],
   "source": [
    "function doassemble(cellvalues::CellVectorValues{dim},\n",
    "                    facevalues::FaceVectorValues{dim},\n",
    "                    K::SparseMatrixCSC,\n",
    "                    M::SparseMatrixCSC,\n",
    "                    dh::DofHandler) where {dim}\n",
    "    # We allocate the element stiffness matrix and element force vector\n",
    "    # just once before looping over all the cells instead of allocating\n",
    "    # them every time in the loop.\n",
    "    n_basefuncs = getnbasefunctions(cellvalues)\n",
    "    Ke = zeros(n_basefuncs, n_basefuncs)\n",
    "    Me = zeros(n_basefuncs, n_basefuncs)\n",
    "    \n",
    "    # Next we create assemblers for the stiffness matrix `K` and the mass\n",
    "    # matrix `M`. The assemblers are just thin wrappers around `K` and `M`\n",
    "    # and some extra storage to make the assembling faster.\n",
    "    assembler = start_assemble(K)\n",
    "    assembler_M = start_assemble(M)\n",
    "    \n",
    "    # It is now time to loop over all the cells in our grid. We do this by iterating\n",
    "    # over a `CellIterator`. The iterator caches some useful things for us, for example\n",
    "    # the nodal coordinates for the cell, and the local degrees of freedom.\n",
    "    @inbounds for cell in CellIterator(dh)\n",
    "        # Always remember to reset the element stiffness matrix and\n",
    "        # element mass matrix since we reuse them for all elements.\n",
    "        fill!(Ke, 0)\n",
    "        fill!(Me, 0)\n",
    "        \n",
    "        # Get the coordinates of the cell\n",
    "        coords = getcoordinates(cell)\n",
    "        \n",
    "        # For each cell we also need to reinitialize the cached values in `cellvalues`.\n",
    "        JuAFEM.reinit!(cellvalues, cell)\n",
    "        \n",
    "        # It is now time to loop over all the quadrature points in the cell and\n",
    "        # assemble the contribution to `Ke` and `Me`. The integration weight\n",
    "        # can be queried from `cellvalues` by `getdetJdV`, and the quadrature\n",
    "        # coordinate can be queried from `cellvalues` by `spatial_coordinate`\n",
    "        for q_point in 1:getnquadpoints(cellvalues)\n",
    "            dΩ = getdetJdV(cellvalues, q_point)\n",
    "            coords_qp = spatial_coordinate(cellvalues, q_point, coords)\n",
    "            \n",
    "            # calculate the heat conductivity and heat source at point `coords_qp`\n",
    "            R = Rdecay(coords_qp)\n",
    "            D = Dcoeff(coords_qp)\n",
    "            ω = omega(coords_qp)\n",
    "            \n",
    "            # For each quadrature point we loop over all the (local) shape functions.\n",
    "            # We need the value and gradient of the testfunction `v` and also the gradient\n",
    "            # of the trial function `u`. We get all of these from `cellvalues`.\n",
    "            for i in 1:n_basefuncs\n",
    "                v  = shape_value(cellvalues, q_point, i)\n",
    "                ∇v = shape_gradient(cellvalues, q_point, i)\n",
    "                for j in 1:n_basefuncs\n",
    "                    u = shape_value(cellvalues, q_point, j)\n",
    "                    ∇u = shape_gradient(cellvalues, q_point, j)\n",
    "                    vu = v ⋅ u\n",
    "                    #@show u\n",
    "                    #@show v\n",
    "                    #@show typeof(u)\n",
    "                    #@show typeof(v)\n",
    "                    #@show ∇u\n",
    "                    #@show ∇v\n",
    "                    #@show typeof(∇u)\n",
    "                    #@show typeof(∇v)\n",
    "                    Ke[i, j] -= (D * ∇v ⊡ ∇u + R * vu - ω * v ⊠ u) * dΩ\n",
    "                    Me[i, j] += vu * dΩ\n",
    "                end\n",
    "            end\n",
    "        end\n",
    "        \n",
    "        # The last step in the element loop is to assemble `Ke` and `Me`\n",
    "        # into the global `K` and `M` with `assemble!`.\n",
    "        assemble!(assembler, celldofs(cell), Ke)\n",
    "        assemble!(assembler_M, celldofs(cell), Me)\n",
    "    end\n",
    "    return K, M\n",
    "end"
   ]
  },
  {
   "cell_type": "code",
   "execution_count": 16,
   "metadata": {},
   "outputs": [],
   "source": [
    "# # Now, loop over the edges of the cell for contributions to `Ke`\n",
    "# #   If \"Neumann Boundary\" is a subset of boundary points, use:\n",
    "# #     `onboundary(cell, face) && (cellid(cell), face) ∈ getfaceset(grid, \"Neumann Boundary\")`\n",
    "# if evalfaceintegrals\n",
    "#    for face in 1:nfaces(cell)\n",
    "#        if !onboundary(cell, face)\n",
    "#            # Initialize face values\n",
    "#            reinit!(facevalues, cell, face)\n",
    "# \n",
    "#            for q_point in 1:getnquadpoints(facevalues)\n",
    "#                dΓ = getdetJdV(facevalues, q_point)\n",
    "#                coords_qp = spatial_coordinate(facevalues, q_point, coords)\n",
    "# \n",
    "#                # calculate the heat conductivity and heat source at point `coords_qp`\n",
    "#                k_cond = conductivity(coords_qp)\n",
    "#                kdΓ = k_cond * dΓ\n",
    "# \n",
    "#                for i in 1:getnbasefunctions(facevalues)\n",
    "#                    n = getnormal(facevalues, q_point)\n",
    "#                    v = shape_value(facevalues, q_point, i)\n",
    "#                    vkdΓ = v * kdΓ\n",
    "#                    for j in 1:n_basefuncs\n",
    "#                        ∇u = shape_gradient(facevalues, q_point, j)\n",
    "#                        Ke[i,j] += (∇u⋅n) * vkdΓ\n",
    "#                    end\n",
    "#                end\n",
    "#            end\n",
    "#        end\n",
    "#    end\n",
    "# end"
   ]
  },
  {
   "cell_type": "markdown",
   "metadata": {},
   "source": [
    "### Solution of the differential equation system\n",
    "The last step is to solve the system. First we call `doassemble`\n",
    "to obtain the global stiffness matrix `K` and force vector `f`.\n",
    "Then, to account for the boundary conditions, we use the `apply!` function.\n",
    "This modifies elements in `K` and `f` respectively, such that\n",
    "we can get the correct solution vector `u` by using `\\`."
   ]
  },
  {
   "cell_type": "code",
   "execution_count": 216,
   "metadata": {},
   "outputs": [],
   "source": [
    "fill!(K,0.0)\n",
    "fill!(M,0.0)\n",
    "K, M = doassemble(cellvalues, facevalues, K, M, dh);"
   ]
  },
  {
   "cell_type": "code",
   "execution_count": 217,
   "metadata": {},
   "outputs": [],
   "source": [
    "Mchol = cholfact(Symmetric(M));\n",
    "#Mlu = lufact(M);"
   ]
  },
  {
   "cell_type": "code",
   "execution_count": 206,
   "metadata": {},
   "outputs": [],
   "source": [
    "K_mul_u!(du,u,p,t) = (K = p[1]; A_mul_B!(du, K, u));\n",
    "Kt_mul_u!(du,u,p,t) = (K = p[1]; At_mul_B!(du, K, u));"
   ]
  },
  {
   "cell_type": "code",
   "execution_count": 207,
   "metadata": {},
   "outputs": [],
   "source": [
    "function Minv_K_mul_u!(du,u,p,t)\n",
    "    K, Mfact = p\n",
    "    A_mul_B!(du, K, u)\n",
    "    copy!(du, Mfact\\du)\n",
    "    return du\n",
    "end;\n",
    "function Kt_Minv_mul_u!(du,u,p,t)\n",
    "    K, Mfact = p\n",
    "    At_mul_B!(du, K, Mfact\\u)\n",
    "    return du\n",
    "end;"
   ]
  },
  {
   "cell_type": "code",
   "execution_count": 208,
   "metadata": {},
   "outputs": [],
   "source": [
    "import Base.LinAlg: A_mul_B!, At_mul_B!, Ac_mul_B!\n",
    "A_mul_B!(Y::AbstractMatrix, A::LinearMap, X::AbstractMatrix) = fwd_mul!(Y,X);\n",
    "At_mul_B!(Y::AbstractMatrix, A::LinearMap, X::AbstractMatrix) = trans_mul!(Y,X);\n",
    "Ac_mul_B!(Y::AbstractMatrix, A::LinearMap, X::AbstractMatrix) = trans_mul!(Y,X);"
   ]
  },
  {
   "cell_type": "code",
   "execution_count": 209,
   "metadata": {
    "scrolled": true
   },
   "outputs": [],
   "source": [
    "function expmv_norm(A::LinearMap, p; kwargs...)\n",
    "    if p == 1\n",
    "        return normest1(A; kwargs...)[1]\n",
    "    elseif p == Inf\n",
    "        return normest1(A'; kwargs...)[1]\n",
    "    else\n",
    "        error(\"Only p=1 or p=Inf supported\")\n",
    "    end\n",
    "end\n",
    "expmv_norm(x...) = Base.norm(x...); #fallback"
   ]
  },
  {
   "cell_type": "code",
   "execution_count": 210,
   "metadata": {},
   "outputs": [],
   "source": [
    "fwd_mul! = (du,u) -> Minv_K_mul_u!(du,u,(K,Mchol),nothing);\n",
    "trans_mul! = (du,u) -> Kt_Minv_mul_u!(du,u,(K,Mchol),nothing);"
   ]
  },
  {
   "cell_type": "code",
   "execution_count": 135,
   "metadata": {},
   "outputs": [],
   "source": [
    "tspan = (0.0,0.1);\n",
    "Tf = eltype(K);\n",
    "u0 = zeros(Tf, size(K,2));\n",
    "@views u0[2:2:end] .= one(Tf);\n",
    "u = similar(u0);\n",
    "Amap = LinearMap(fwd_mul!, trans_mul!, size(K)...; ismutating=true, issymmetric=false, ishermitian=false, isposdef=false);"
   ]
  },
  {
   "cell_type": "code",
   "execution_count": 177,
   "metadata": {},
   "outputs": [
    {
     "name": "stdout",
     "output_type": "stream",
     "text": [
      " 44.367981 seconds (70.70 k allocations: 2.353 GiB, 0.79% gc time)\n"
     ]
    }
   ],
   "source": [
    "@time Expokit.expmv!(u, tspan[end], Amap, u0; tol=1e-6, norm=expmv_norm);"
   ]
  },
  {
   "cell_type": "code",
   "execution_count": 187,
   "metadata": {},
   "outputs": [
    {
     "data": {
      "text/plain": [
       "retcode: Success\n",
       "Interpolation: 1st order linear\n",
       "t: 2-element Array{Float64,1}:\n",
       " 0.0\n",
       " 0.1\n",
       "u: 2-element Array{Array{Float64,1},1}:\n",
       " [0.0, 1.0, 0.0, 1.0, 0.0, 1.0, 0.0, 1.0, 0.0, 1.0  …  0.0, 1.0, 0.0, 1.0, 0.0, 1.0, 0.0, 1.0, 0.0, 1.0]                                                                                                                       \n",
       " [-0.0124565, 0.893061, -0.012497, 0.89311, -0.0123276, 0.893262, -0.0125831, 0.892974, -0.0126216, 0.892737  …  -0.00300413, 0.834735, -0.0119361, 0.885165, -0.0122547, 0.883607, -0.0090009, 0.824432, -0.00946056, 0.82876]"
      ]
     },
     "execution_count": 187,
     "metadata": {},
     "output_type": "execute_result"
    },
    {
     "name": "stdout",
     "output_type": "stream",
     "text": [
      " 34.749349 seconds (51.25 k allocations: 1.907 GiB, 0.79% gc time)\n"
     ]
    }
   ],
   "source": [
    "prob = ODEProblem(Minv_K_mul_u!, u0, tspan, (K, Mchol));\n",
    "@time sol = solve(prob, CVODE_BDF(linear_solver=:GMRES); saveat=tspan, reltol=1e-4, alg_hints=:stiff); # 33.44s\n",
    "#@time sol = solve(prob, CVODE_BDF(linear_solver=:BCG); saveat=tspan, reltol=1e-4, alg_hints=:stiff) # 53.66s\n",
    "#@time sol = solve(prob, CVODE_BDF(linear_solver=:TFQMR); saveat=tspan, reltol=1e-4, alg_hints=:stiff) # 18.99s but low accuracy"
   ]
  },
  {
   "cell_type": "code",
   "execution_count": 183,
   "metadata": {
    "scrolled": true
   },
   "outputs": [],
   "source": [
    "#prob_Ku = ODEProblem(K_mul_u!, u0, tspan, (K,), mass_matrix=M);\n",
    "#@time sol_Ku = solve(prob_Ku, Rosenbrock23(), saveat=tspan, reltol=1e-4, alg_hints=:stiff) #DNF\n",
    "#@time sol_Ku = solve(prob_Ku, Rodas4(), saveat=tspan, reltol=1e-4, alg_hints=:stiff) #DNF"
   ]
  },
  {
   "cell_type": "code",
   "execution_count": 186,
   "metadata": {},
   "outputs": [
    {
     "name": "stdout",
     "output_type": "stream",
     "text": [
      "norm(sol.u[end] - u) / maximum(abs, u) = 0.11797966719194942\n",
      "maximum(sol.u[end] - u) / maximum(abs, u) = 0.00031834478400732214\n"
     ]
    }
   ],
   "source": [
    "@show norm(sol.u[end] - u)/maximum(abs,u);\n",
    "@show maximum(sol.u[end] - u)/maximum(abs,u);"
   ]
  },
  {
   "cell_type": "code",
   "execution_count": null,
   "metadata": {},
   "outputs": [],
   "source": []
  },
  {
   "cell_type": "markdown",
   "metadata": {},
   "source": [
    "### Exporting to VTK\n",
    "To visualize the result we export the grid and our field `u`\n",
    "to a VTK-file, which can be viewed in e.g. [ParaView](https://www.paraview.org/)."
   ]
  },
  {
   "cell_type": "code",
   "execution_count": 138,
   "metadata": {},
   "outputs": [
    {
     "data": {
      "text/plain": [
       "1-element Array{String,1}:\n",
       " \"bloch_torrey_equation.vtu\""
      ]
     },
     "execution_count": 138,
     "metadata": {},
     "output_type": "execute_result"
    }
   ],
   "source": [
    "vtk_grid(\"bloch_torrey_equation\", dh) do vtk\n",
    "    vtk_point_data(vtk, dh, u)\n",
    "end"
   ]
  },
  {
   "cell_type": "markdown",
   "metadata": {},
   "source": [
    "*This notebook was generated using [Literate.jl](https://github.com/fredrikekre/Literate.jl).*"
   ]
  }
 ],
 "metadata": {
  "kernelspec": {
   "display_name": "Julia 0.6.4",
   "language": "julia",
   "name": "julia-0.6"
  },
  "language_info": {
   "file_extension": ".jl",
   "mimetype": "application/julia",
   "name": "julia",
   "version": "0.6.4"
  }
 },
 "nbformat": 4,
 "nbformat_minor": 3
}
