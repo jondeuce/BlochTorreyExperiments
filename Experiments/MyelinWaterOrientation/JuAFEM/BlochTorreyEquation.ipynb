{
 "cells": [
  {
   "cell_type": "markdown",
   "metadata": {},
   "source": [
    "# Bloch-Torrey Equation"
   ]
  },
  {
   "cell_type": "markdown",
   "metadata": {},
   "source": [
    "## Introduction\n",
    "\n",
    "Here we solve the Bloch-Torrey equation on a unit square, with the diffusion coefficient $D(x)$, relaxation rate $R(x)$, and resonance frequency $\\omega(x)$ all given as a generic functions.\n",
    "The strong form of the Bloch-Torrey equation is given by\n",
    "\n",
    "\\begin{align}\n",
    "    \\frac{\\partial u_x}{\\partial t} &= \\nabla \\cdot (D \\nabla u_x) - R u_x + \\omega u_y  \\quad x \\in \\Omega\\\\\n",
    "    \\frac{\\partial u_y}{\\partial t} &= \\nabla \\cdot (D \\nabla u_y) - R u_y - \\omega u_x  \\quad x \\in \\Omega,\n",
    "\\end{align}\n",
    "\n",
    "where $\\vec{u}=[u_x,u_y]$ is the transverse magnetization, and $\\Omega$ the domain.\n",
    "\n",
    "We will consider homogeneous Neumann boundary conditions such that\n",
    "\n",
    "\\begin{align}\n",
    "    \\nabla \\vec{u}(x) \\cdot \\hat{n} &= 0  \\quad x \\in \\partial \\Omega\\\\\n",
    "\\end{align}\n",
    "\n",
    "where $\\partial \\Omega$ denotes the boundary of $\\Omega$. The initial condition is given generically as\n",
    "\n",
    "\\begin{equation}\n",
    "    \\vec{u}(x,t=0) = \\vec{u}_0 (x)  \\quad x \\in \\Omega\n",
    "\\end{equation}\n",
    "\n",
    "\n",
    "The resulting weak form is given by\n",
    "\\begin{align}\n",
    "    \\int_{\\Omega} \\vec{v} \\cdot \\vec{u}_t \\, d\\Omega\n",
    "    &= -\\int_{\\Omega}\n",
    "    -\\vec{v} \\cdot \\nabla \\cdot ( D \\, \\nabla \\vec{u} ) +\n",
    "    R \\, \\vec{v} \\cdot \\vec{u} -\n",
    "    \\omega \\, \\vec{v} \\times \\vec{u}\n",
    "    \\, d\\Omega \\\\\n",
    "    &= -\\int_{\\Omega}\n",
    "    D \\, \\nabla \\vec{v} : \\nabla \\vec{u} +\n",
    "    R \\, \\vec{v} \\cdot \\vec{u} -\n",
    "    \\omega \\, \\vec{v} \\times \\vec{u}\n",
    "    \\, d\\Omega + \n",
    "    \\int_{\\partial\\Omega} \\vec{v} \\cdot (D\\nabla\\vec{u} \\cdot \\hat{n}) \\, d\\Gamma,\n",
    "\\end{align}\n",
    "where $\\vec{v}$ is a suitable test function.\n",
    "\n",
    "In this notebook, we will assume homogeneous Neumann boundary conditions on all boundaries by taking $D\\nabla\\vec{u} \\cdot \\hat{n} = 0$. Therefore, the final weak form is simply\n",
    "\\begin{align}\n",
    "    \\int_{\\Omega} \\vec{v} \\cdot \\vec{u}_t \\, d\\Omega\n",
    "    = -\\int_{\\Omega}\n",
    "    D \\, \\nabla \\vec{v} : \\nabla \\vec{u} +\n",
    "    R \\, \\vec{v} \\cdot \\vec{u} -\n",
    "    \\omega \\, \\vec{v} \\times \\vec{u}\n",
    "    \\, d\\Omega\n",
    "\\end{align}\n",
    "\n",
    "Note that, in two dimensions, the cross product is simply a scalar. However, `Tensors.jl` defines the two dimensional cross product by first extending the 2D vectors into 3D. Below, we use the symbol $\\boxtimes$ to denote the scalar version, which is the same as taking the third component of the vector version"
   ]
  },
  {
   "cell_type": "markdown",
   "metadata": {},
   "source": [
    "## Commented Program\n",
    "\n",
    "Now we solve the problem in JuAFEM. What follows is a program spliced with comments.\n",
    "\n",
    "First we load the JuAFEM package."
   ]
  },
  {
   "cell_type": "code",
   "execution_count": 6,
   "metadata": {},
   "outputs": [
    {
     "name": "stderr",
     "output_type": "stream",
     "text": [
      "WARNING: replacing module Normest1\n",
      "WARNING: Method definition A_mul_B!(AbstractArray{T, 2} where T, LinearMaps.LinearMap{Te}, AbstractArray{T, 2} where T) in module Normest1 at /home/coopar7/Documents/code/BlochTorreyExperiments-master/Experiments/MyelinWaterOrientation/Utils/normest1.jl:14 overwritten in module Normest1 at /home/coopar7/Documents/code/BlochTorreyExperiments-master/Experiments/MyelinWaterOrientation/Utils/normest1.jl:14.\n",
      "WARNING: Method definition At_mul_B!(AbstractArray{T, 2} where T, LinearMaps.LinearMap{Te}, AbstractArray{T, 2} where T) in module Normest1 at /home/coopar7/Documents/code/BlochTorreyExperiments-master/Experiments/MyelinWaterOrientation/Utils/normest1.jl:14 overwritten in module Normest1 at /home/coopar7/Documents/code/BlochTorreyExperiments-master/Experiments/MyelinWaterOrientation/Utils/normest1.jl:14.\n",
      "WARNING: Method definition Ac_mul_B!(AbstractArray{T, 2} where T, LinearMaps.LinearMap{Te}, AbstractArray{T, 2} where T) in module Normest1 at /home/coopar7/Documents/code/BlochTorreyExperiments-master/Experiments/MyelinWaterOrientation/Utils/normest1.jl:14 overwritten in module Normest1 at /home/coopar7/Documents/code/BlochTorreyExperiments-master/Experiments/MyelinWaterOrientation/Utils/normest1.jl:14.\n",
      "WARNING: replacing module Normest1Test\n"
     ]
    }
   ],
   "source": [
    "#HOME = \"/home/jon/Documents/UBCMRI/\"\n",
    "HOME = \"/home/coopar7/Documents/code/\"\n",
    "cd(HOME * \"BlochTorreyExperiments-master/\")\n",
    "include(\"Experiments/MyelinWaterOrientation/init.jl\")"
   ]
  },
  {
   "cell_type": "markdown",
   "metadata": {},
   "source": [
    "**Pack circles**: Pack circles with a specified packing density $\\eta$"
   ]
  },
  {
   "cell_type": "code",
   "execution_count": 7,
   "metadata": {},
   "outputs": [],
   "source": [
    "btparams = BlochTorreyParameters();\n",
    "freqparams = FreqMapParams(btparams);"
   ]
  },
  {
   "cell_type": "code",
   "execution_count": 8,
   "metadata": {},
   "outputs": [],
   "source": [
    "# α or k == R_shape, θ == R_scale\n",
    "R_mu = 0.46 # Axon mean radius [um] ; this is taken to be outer radius\n",
    "R_shape = 5.7 # Axon radius shape parameter for Gamma distribution (Xu)\n",
    "R_scale = R_mu / R_shape # Axon radius scale parameter [um]\n",
    "R_σ = sqrt(R_shape)*R_scale; # Axon radius variance\n",
    "\n",
    "const Dim = 2\n",
    "Ncircles = 50\n",
    "rs = rand(Gamma(R_shape, R_scale), Ncircles);\n",
    "os = initialize_origins(rs);\n",
    "\n",
    "η = 0.7 # goal packing density\n",
    "ϵ = 0.1*R_mu # overlap occurs when distance between circle edges is ≤ ϵ\n",
    "α = 0.0 # density penalty weight\n",
    "β = 1e-5 # mutual distance penalty weight\n",
    "λ = 1.0 # overlap penalty weight (or lagrange multiplier for constrained version)\n",
    "w = [α, β, λ]; # vector of weights"
   ]
  },
  {
   "cell_type": "code",
   "execution_count": 9,
   "metadata": {},
   "outputs": [],
   "source": [
    "revise()"
   ]
  },
  {
   "cell_type": "code",
   "execution_count": 10,
   "metadata": {
    "scrolled": true
   },
   "outputs": [],
   "source": [
    "@time outer_circles, opt_result = pack_circles(rs;\n",
    "    autodiff = true,\n",
    "    reversemode = false,\n",
    "    secondorder = false,\n",
    "    setcallback = true,\n",
    "    initial_origins = os,\n",
    "    goaldensity = η,\n",
    "    distancescale = R_mu,\n",
    "    weights = w,\n",
    "    epsilon = ϵ);"
   ]
  },
  {
   "cell_type": "code",
   "execution_count": 11,
   "metadata": {},
   "outputs": [
    {
     "data": {
      "text/plain": [
       "Results of Optimization Algorithm\n",
       " * Algorithm: L-BFGS\n",
       " * Starting Point: [-24.279801734509775,-10.36065371766216, ...]\n",
       " * Minimizer: [-8.126783921510087,-0.4487420372615113, ...]\n",
       " * Minimum: 5.106707e-01\n",
       " * Iterations: 703\n",
       " * Convergence: false\n",
       "   * |x - x'| ≤ 1.0e-32: false \n",
       "     |x - x'| = 1.79e-01 \n",
       "   * |f(x) - f(x')| ≤ 1.0e-32 |f(x)|: false\n",
       "     |f(x) - f(x')| = 2.74e-03 |f(x)|\n",
       "   * |g(x)| ≤ 1.0e-12: false \n",
       "     |g(x)| = 5.64e-02 \n",
       "   * Stopped by an increasing objective: false\n",
       "   * Reached Maximum Number of Iterations: false\n",
       " * Objective Calls: 838\n",
       " * Gradient Calls: 704"
      ]
     },
     "execution_count": 11,
     "metadata": {},
     "output_type": "execute_result"
    },
    {
     "name": "stdout",
     "output_type": "stream",
     "text": [
      " 19.469397 seconds (17.17 M allocations: 1.049 GiB, 5.66% gc time)\n"
     ]
    }
   ],
   "source": [
    "opt_result"
   ]
  },
  {
   "cell_type": "code",
   "execution_count": 12,
   "metadata": {},
   "outputs": [
    {
     "data": {
      "text/plain": [
       "0.7"
      ]
     },
     "execution_count": 12,
     "metadata": {},
     "output_type": "execute_result"
    }
   ],
   "source": [
    "estimate_density(outer_circles)"
   ]
  },
  {
   "cell_type": "code",
   "execution_count": 13,
   "metadata": {},
   "outputs": [
    {
     "data": {
      "text/plain": [
       "false"
      ]
     },
     "execution_count": 13,
     "metadata": {},
     "output_type": "execute_result"
    }
   ],
   "source": [
    "is_any_overlapping(outer_circles)"
   ]
  },
  {
   "cell_type": "code",
   "execution_count": 14,
   "metadata": {},
   "outputs": [],
   "source": [
    "@show (minimum_signed_edge_distance(outer_circles), ϵ);"
   ]
  },
  {
   "cell_type": "code",
   "execution_count": 15,
   "metadata": {},
   "outputs": [],
   "source": [
    "revise()"
   ]
  },
  {
   "cell_type": "code",
   "execution_count": 16,
   "metadata": {},
   "outputs": [
    {
     "data": {
      "text/plain": [
       "48"
      ]
     },
     "execution_count": 16,
     "metadata": {},
     "output_type": "execute_result"
    }
   ],
   "source": [
    "g_ratio = 0.5 #0.8370\n",
    "#rect_bdry = bounding_box(outer_circles)\n",
    "rect_bdry = scale_shape(inscribed_square(crude_bounding_circle(outer_circles)), 0.75)\n",
    "#rect_bdry = scale_shape(bounding_box(outer_circles), 1.05)\n",
    "\n",
    "outer_circles = filter(c -> !is_outside(c, rect_bdry), outer_circles)\n",
    "inner_circles = scale_shape.(outer_circles, g_ratio);\n",
    "Ncircles = length(outer_circles)"
   ]
  },
  {
   "cell_type": "code",
   "execution_count": 99,
   "metadata": {},
   "outputs": [],
   "source": [
    "revise()"
   ]
  },
  {
   "cell_type": "code",
   "execution_count": 100,
   "metadata": {
    "scrolled": true
   },
   "outputs": [],
   "source": [
    "#Nmin = 50; # points for average circle\n",
    "#h0 = 2pi*R_mu/Nmin; # approximate scale\n",
    "h0 = 0.3*R_mu*(1-g_ratio) # fraction of size of average torus width\n",
    "eta = 3.0; # approx ratio between largest/smallest edges\n",
    "\n",
    "# @time grid = rect_mesh_with_tori(rect_bdry, inner_circles, outer_circles, h0, eta, isunion=true);\n",
    "# @time grid, subgrids = rect_mesh_with_circles(rect_bdry, outer_circles, h0, eta, isunion=false);"
   ]
  },
  {
   "cell_type": "code",
   "execution_count": 101,
   "metadata": {},
   "outputs": [],
   "source": [
    "#mxcall(:figure,0); mxcall(:hold,0,\"on\"); mxplot(grid); sleep(0.1);"
   ]
  },
  {
   "cell_type": "code",
   "execution_count": 105,
   "metadata": {},
   "outputs": [
    {
     "name": "stdout",
     "output_type": "stream",
     "text": [
      "0/48: Exterior\n",
      "1/48: Interior\n",
      ">> Warning: qhull precision warning:\n",
      "The initial hull is narrow (cosine of min. angle is 1.0000000000000002).\n",
      "A coplanar point may lead to a wide facet.  Options 'QbB' (scale to unit box)\n",
      "or 'Qbb' (scale last coordinate) may remove this warning.  Use 'Pp' to skip\n",
      "this warning.  See 'Limitations' in qh-impre.htm.\n",
      " \n",
      "Warning: qhull precision warning:\n",
      "The initial hull is narrow (cosine of min. angle is 1.0000000000000000).\n",
      "A coplanar point may lead to a wide facet.  Options 'QbB' (scale to unit box)\n",
      "or 'Qbb' (scale last coordinate) may remove this warning.  Use 'Pp' to skip\n",
      "this warning.  See 'Limitations' in qh-impre.htm.\n",
      " \n",
      "Warning: qhull precision warning:\n",
      "The initial hull is narrow (cosine of min. angle is 1.0000000000000000).\n",
      "A coplanar point may lead to a wide facet.  Options 'QbB' (scale to unit box)\n",
      "or 'Qbb' (scale last coordinate) may remove this warning.  Use 'Pp' to skip\n",
      "this warning.  See 'Limitations' in qh-impre.htm.\n",
      " \n",
      "Warning: qhull precision warning:\n",
      "The initial hull is narrow (cosine of min. angle is 0.9999999999999999).\n",
      "A coplanar point may lead to a wide facet.  Options 'QbB' (scale to unit box)\n",
      "or 'Qbb' (scale last coordinate) may remove this warning.  Use 'Pp' to skip\n",
      "this warning.  See 'Limitations' in qh-impre.htm.\n",
      " \n",
      "Warning: qhull precision warning:\n",
      "The initial hull is narrow (cosine of min. angle is 1.0000000000000000).\n",
      "A coplanar point may lead to a wide facet.  Options 'QbB' (scale to unit box)\n",
      "or 'Qbb' (scale last coordinate) may remove this warning.  Use 'Pp' to skip\n",
      "this warning.  See 'Limitations' in qh-impre.htm.\n",
      " \n",
      "Warning: qhull precision warning:\n",
      "The initial hull is narrow (cosine of min. angle is 1.0000000000000000).\n",
      "A coplanar point may lead to a wide facet.  Options 'QbB' (scale to unit box)\n",
      "or 'Qbb' (scale last coordinate) may remove this warning.  Use 'Pp' to skip\n",
      "this warning.  See 'Limitations' in qh-impre.htm.\n",
      " \n",
      "1/48: Annular\n",
      ">> Warning: qhull precision warning:\n",
      "The initial hull is narrow (cosine of min. angle is 1.0000000000000002).\n",
      "A coplanar point may lead to a wide facet.  Options 'QbB' (scale to unit box)\n",
      "or 'Qbb' (scale last coordinate) may remove this warning.  Use 'Pp' to skip\n",
      "this warning.  See 'Limitations' in qh-impre.htm.\n",
      " \n",
      "Warning: qhull precision warning:\n",
      "The initial hull is narrow (cosine of min. angle is 1.0000000000000002).\n",
      "A coplanar point may lead to a wide facet.  Options 'QbB' (scale to unit box)\n",
      "or 'Qbb' (scale last coordinate) may remove this warning.  Use 'Pp' to skip\n",
      "this warning.  See 'Limitations' in qh-impre.htm.\n",
      " \n",
      "Warning: qhull precision warning:\n",
      "The initial hull is narrow (cosine of min. angle is 1.0000000000000000).\n",
      "A coplanar point may lead to a wide facet.  Options 'QbB' (scale to unit box)\n",
      "or 'Qbb' (scale last coordinate) may remove this warning.  Use 'Pp' to skip\n",
      "this warning.  See 'Limitations' in qh-impre.htm.\n",
      " \n",
      "Warning: qhull precision warning:\n",
      "The initial hull is narrow (cosine of min. angle is 1.0000000000000000).\n",
      "A coplanar point may lead to a wide facet.  Options 'QbB' (scale to unit box)\n",
      "or 'Qbb' (scale last coordinate) may remove this warning.  Use 'Pp' to skip\n",
      "this warning.  See 'Limitations' in qh-impre.htm.\n",
      " \n",
      "2/48: Interior\n",
      "2/48: Annular\n",
      "3/48: Interior\n",
      "3/48: Annular\n",
      "4/48: Interior\n",
      "4/48: Annular\n",
      "5/48: Interior\n",
      ">> Warning: qhull precision warning:\n",
      "The initial hull is narrow (cosine of min. angle is 1.0000000000000002).\n",
      "A coplanar point may lead to a wide facet.  Options 'QbB' (scale to unit box)\n",
      "or 'Qbb' (scale last coordinate) may remove this warning.  Use 'Pp' to skip\n",
      "this warning.  See 'Limitations' in qh-impre.htm.\n",
      " \n",
      "5/48: Annular\n",
      ">> Warning: qhull precision warning:\n",
      "The initial hull is narrow (cosine of min. angle is 1.0000000000000000).\n",
      "A coplanar point may lead to a wide facet.  Options 'QbB' (scale to unit box)\n",
      "or 'Qbb' (scale last coordinate) may remove this warning.  Use 'Pp' to skip\n",
      "this warning.  See 'Limitations' in qh-impre.htm.\n",
      " \n",
      "Warning: qhull precision warning:\n",
      "The initial hull is narrow (cosine of min. angle is 1.0000000000000000).\n",
      "A coplanar point may lead to a wide facet.  Options 'QbB' (scale to unit box)\n",
      "or 'Qbb' (scale last coordinate) may remove this warning.  Use 'Pp' to skip\n",
      "this warning.  See 'Limitations' in qh-impre.htm.\n",
      " \n",
      "Warning: qhull precision warning:\n",
      "The initial hull is narrow (cosine of min. angle is 1.0000000000000000).\n",
      "A coplanar point may lead to a wide facet.  Options 'QbB' (scale to unit box)\n",
      "or 'Qbb' (scale last coordinate) may remove this warning.  Use 'Pp' to skip\n",
      "this warning.  See 'Limitations' in qh-impre.htm.\n",
      " \n",
      "Warning: qhull precision warning:\n",
      "The initial hull is narrow (cosine of min. angle is 1.0000000000000000).\n",
      "A coplanar point may lead to a wide facet.  Options 'QbB' (scale to unit box)\n",
      "or 'Qbb' (scale last coordinate) may remove this warning.  Use 'Pp' to skip\n",
      "this warning.  See 'Limitations' in qh-impre.htm.\n",
      " \n",
      "Warning: qhull precision warning:\n",
      "The initial hull is narrow (cosine of min. angle is 1.0000000000000000).\n",
      "A coplanar point may lead to a wide facet.  Options 'QbB' (scale to unit box)\n",
      "or 'Qbb' (scale last coordinate) may remove this warning.  Use 'Pp' to skip\n",
      "this warning.  See 'Limitations' in qh-impre.htm.\n",
      " \n",
      "Warning: qhull precision warning:\n",
      "The initial hull is narrow (cosine of min. angle is 1.0000000000000000).\n",
      "A coplanar point may lead to a wide facet.  Options 'QbB' (scale to unit box)\n",
      "or 'Qbb' (scale last coordinate) may remove this warning.  Use 'Pp' to skip\n",
      "this warning.  See 'Limitations' in qh-impre.htm.\n",
      " \n",
      "Warning: qhull precision warning:\n",
      "The initial hull is narrow (cosine of min. angle is 1.0000000000000000).\n",
      "A coplanar point may lead to a wide facet.  Options 'QbB' (scale to unit box)\n",
      "or 'Qbb' (scale last coordinate) may remove this warning.  Use 'Pp' to skip\n",
      "this warning.  See 'Limitations' in qh-impre.htm.\n",
      " \n",
      "Warning: qhull precision warning:\n",
      "The initial hull is narrow (cosine of min. angle is 1.0000000000000000).\n",
      "A coplanar point may lead to a wide facet.  Options 'QbB' (scale to unit box)\n",
      "or 'Qbb' (scale last coordinate) may remove this warning.  Use 'Pp' to skip\n",
      "this warning.  See 'Limitations' in qh-impre.htm.\n",
      " \n",
      "Warning: qhull precision warning:\n",
      "The initial hull is narrow (cosine of min. angle is 1.0000000000000000).\n",
      "A coplanar point may lead to a wide facet.  Options 'QbB' (scale to unit box)\n",
      "or 'Qbb' (scale last coordinate) may remove this warning.  Use 'Pp' to skip\n",
      "this warning.  See 'Limitations' in qh-impre.htm.\n",
      " \n",
      "Warning: qhull precision warning:\n",
      "The initial hull is narrow (cosine of min. angle is 1.0000000000000000).\n",
      "A coplanar point may lead to a wide facet.  Options 'QbB' (scale to unit box)\n",
      "or 'Qbb' (scale last coordinate) may remove this warning.  Use 'Pp' to skip\n",
      "this warning.  See 'Limitations' in qh-impre.htm.\n",
      " \n",
      "Warning: qhull precision warning:\n",
      "The initial hull is narrow (cosine of min. angle is 1.0000000000000000).\n",
      "A coplanar point may lead to a wide facet.  Options 'QbB' (scale to unit box)\n",
      "or 'Qbb' (scale last coordinate) may remove this warning.  Use 'Pp' to skip\n",
      "this warning.  See 'Limitations' in qh-impre.htm.\n",
      " \n",
      "Warning: qhull precision warning:\n",
      "The initial hull is narrow (cosine of min. angle is 1.0000000000000000).\n",
      "A coplanar point may lead to a wide facet.  Options 'QbB' (scale to unit box)\n",
      "or 'Qbb' (scale last coordinate) may remove this warning.  Use 'Pp' to skip\n",
      "this warning.  See 'Limitations' in qh-impre.htm.\n",
      " \n",
      "6/48: Interior\n",
      "6/48: Annular\n",
      ">> Warning: qhull precision warning:\n",
      "The initial hull is narrow (cosine of min. angle is 1.0000000000000000).\n",
      "A coplanar point may lead to a wide facet.  Options 'QbB' (scale to unit box)\n",
      "or 'Qbb' (scale last coordinate) may remove this warning.  Use 'Pp' to skip\n",
      "this warning.  See 'Limitations' in qh-impre.htm.\n",
      " \n",
      "Warning: qhull precision warning:\n",
      "The initial hull is narrow (cosine of min. angle is 1.0000000000000002).\n",
      "A coplanar point may lead to a wide facet.  Options 'QbB' (scale to unit box)\n",
      "or 'Qbb' (scale last coordinate) may remove this warning.  Use 'Pp' to skip\n",
      "this warning.  See 'Limitations' in qh-impre.htm.\n",
      " \n",
      "Warning: qhull precision warning:\n",
      "The initial hull is narrow (cosine of min. angle is 1.0000000000000000).\n",
      "A coplanar point may lead to a wide facet.  Options 'QbB' (scale to unit box)\n",
      "or 'Qbb' (scale last coordinate) may remove this warning.  Use 'Pp' to skip\n",
      "this warning.  See 'Limitations' in qh-impre.htm.\n",
      " \n",
      "Warning: qhull precision warning:\n",
      "The initial hull is narrow (cosine of min. angle is 1.0000000000000002).\n",
      "A coplanar point may lead to a wide facet.  Options 'QbB' (scale to unit box)\n",
      "or 'Qbb' (scale last coordinate) may remove this warning.  Use 'Pp' to skip\n",
      "this warning.  See 'Limitations' in qh-impre.htm.\n",
      " \n",
      "Warning: qhull precision warning:\n",
      "The initial hull is narrow (cosine of min. angle is 1.0000000000000000).\n",
      "A coplanar point may lead to a wide facet.  Options 'QbB' (scale to unit box)\n",
      "or 'Qbb' (scale last coordinate) may remove this warning.  Use 'Pp' to skip\n",
      "this warning.  See 'Limitations' in qh-impre.htm.\n",
      " \n",
      "Warning: qhull precision warning:\n",
      "The initial hull is narrow (cosine of min. angle is 1.0000000000000000).\n",
      "A coplanar point may lead to a wide facet.  Options 'QbB' (scale to unit box)\n",
      "or 'Qbb' (scale last coordinate) may remove this warning.  Use 'Pp' to skip\n",
      "this warning.  See 'Limitations' in qh-impre.htm.\n",
      " \n",
      "Warning: qhull precision warning:\n",
      "The initial hull is narrow (cosine of min. angle is 1.0000000000000000).\n",
      "A coplanar point may lead to a wide facet.  Options 'QbB' (scale to unit box)\n",
      "or 'Qbb' (scale last coordinate) may remove this warning.  Use 'Pp' to skip\n",
      "this warning.  See 'Limitations' in qh-impre.htm.\n",
      " \n",
      "Warning: qhull precision warning:\n",
      "The initial hull is narrow (cosine of min. angle is 1.0000000000000002).\n",
      "A coplanar point may lead to a wide facet.  Options 'QbB' (scale to unit box)\n",
      "or 'Qbb' (scale last coordinate) may remove this warning.  Use 'Pp' to skip\n",
      "this warning.  See 'Limitations' in qh-impre.htm.\n",
      " \n",
      "Warning: qhull precision warning:\n",
      "The initial hull is narrow (cosine of min. angle is 1.0000000000000000).\n",
      "A coplanar point may lead to a wide facet.  Options 'QbB' (scale to unit box)\n",
      "or 'Qbb' (scale last coordinate) may remove this warning.  Use 'Pp' to skip\n",
      "this warning.  See 'Limitations' in qh-impre.htm.\n",
      " \n",
      "Warning: qhull precision warning:\n",
      "The initial hull is narrow (cosine of min. angle is 1.0000000000000000).\n",
      "A coplanar point may lead to a wide facet.  Options 'QbB' (scale to unit box)\n",
      "or 'Qbb' (scale last coordinate) may remove this warning.  Use 'Pp' to skip\n",
      "this warning.  See 'Limitations' in qh-impre.htm.\n",
      " \n",
      "Warning: qhull precision warning:\n",
      "The initial hull is narrow (cosine of min. angle is 1.0000000000000000).\n",
      "A coplanar point may lead to a wide facet.  Options 'QbB' (scale to unit box)\n",
      "or 'Qbb' (scale last coordinate) may remove this warning.  Use 'Pp' to skip\n",
      "this warning.  See 'Limitations' in qh-impre.htm.\n",
      " \n",
      "Warning: qhull precision warning:\n",
      "The initial hull is narrow (cosine of min. angle is 1.0000000000000000).\n",
      "A coplanar point may lead to a wide facet.  Options 'QbB' (scale to unit box)\n",
      "or 'Qbb' (scale last coordinate) may remove this warning.  Use 'Pp' to skip\n",
      "this warning.  See 'Limitations' in qh-impre.htm.\n",
      " \n",
      "Warning: qhull precision warning:\n",
      "The initial hull is narrow (cosine of min. angle is 1.0000000000000000).\n",
      "A coplanar point may lead to a wide facet.  Options 'QbB' (scale to unit box)\n",
      "or 'Qbb' (scale last coordinate) may remove this warning.  Use 'Pp' to skip\n",
      "this warning.  See 'Limitations' in qh-impre.htm.\n",
      " \n",
      "Warning: qhull precision warning:\n",
      "The initial hull is narrow (cosine of min. angle is 1.0000000000000000).\n",
      "A coplanar point may lead to a wide facet.  Options 'QbB' (scale to unit box)\n",
      "or 'Qbb' (scale last coordinate) may remove this warning.  Use 'Pp' to skip\n",
      "this warning.  See 'Limitations' in qh-impre.htm.\n",
      " \n",
      "Warning: qhull precision warning:\n",
      "The initial hull is narrow (cosine of min. angle is 1.0000000000000000).\n",
      "A coplanar point may lead to a wide facet.  Options 'QbB' (scale to unit box)\n",
      "or 'Qbb' (scale last coordinate) may remove this warning.  Use 'Pp' to skip\n",
      "this warning.  See 'Limitations' in qh-impre.htm.\n",
      " \n",
      "7/48: Interior\n",
      ">> Warning: qhull precision warning:\n",
      "The initial hull is narrow (cosine of min. angle is 1.0000000000000000).\n",
      "A coplanar point may lead to a wide facet.  Options 'QbB' (scale to unit box)\n",
      "or 'Qbb' (scale last coordinate) may remove this warning.  Use 'Pp' to skip\n",
      "this warning.  See 'Limitations' in qh-impre.htm.\n",
      " \n",
      "Warning: qhull precision warning:\n",
      "The initial hull is narrow (cosine of min. angle is 1.0000000000000000).\n",
      "A coplanar point may lead to a wide facet.  Options 'QbB' (scale to unit box)\n",
      "or 'Qbb' (scale last coordinate) may remove this warning.  Use 'Pp' to skip\n",
      "this warning.  See 'Limitations' in qh-impre.htm.\n",
      " \n",
      "Warning: qhull precision warning:\n",
      "The initial hull is narrow (cosine of min. angle is 1.0000000000000000).\n",
      "A coplanar point may lead to a wide facet.  Options 'QbB' (scale to unit box)\n",
      "or 'Qbb' (scale last coordinate) may remove this warning.  Use 'Pp' to skip\n",
      "this warning.  See 'Limitations' in qh-impre.htm.\n",
      " \n",
      "Warning: qhull precision warning:\n",
      "The initial hull is narrow (cosine of min. angle is 1.0000000000000000).\n",
      "A coplanar point may lead to a wide facet.  Options 'QbB' (scale to unit box)\n",
      "or 'Qbb' (scale last coordinate) may remove this warning.  Use 'Pp' to skip\n",
      "this warning.  See 'Limitations' in qh-impre.htm.\n",
      " \n",
      "Warning: qhull precision warning:\n",
      "The initial hull is narrow (cosine of min. angle is 1.0000000000000000).\n",
      "A coplanar point may lead to a wide facet.  Options 'QbB' (scale to unit box)\n",
      "or 'Qbb' (scale last coordinate) may remove this warning.  Use 'Pp' to skip\n",
      "this warning.  See 'Limitations' in qh-impre.htm.\n",
      " \n"
     ]
    },
    {
     "name": "stdout",
     "output_type": "stream",
     "text": [
      "7/48: Annular\n",
      "8/48: Interior\n",
      "8/48: Annular\n",
      ">> Warning: qhull precision warning:\n",
      "The initial hull is narrow (cosine of min. angle is 1.0000000000000000).\n",
      "A coplanar point may lead to a wide facet.  Options 'QbB' (scale to unit box)\n",
      "or 'Qbb' (scale last coordinate) may remove this warning.  Use 'Pp' to skip\n",
      "this warning.  See 'Limitations' in qh-impre.htm.\n",
      " \n",
      "Warning: qhull precision warning:\n",
      "The initial hull is narrow (cosine of min. angle is 1.0000000000000000).\n",
      "A coplanar point may lead to a wide facet.  Options 'QbB' (scale to unit box)\n",
      "or 'Qbb' (scale last coordinate) may remove this warning.  Use 'Pp' to skip\n",
      "this warning.  See 'Limitations' in qh-impre.htm.\n",
      " \n",
      "Warning: qhull precision warning:\n",
      "The initial hull is narrow (cosine of min. angle is 1.0000000000000000).\n",
      "A coplanar point may lead to a wide facet.  Options 'QbB' (scale to unit box)\n",
      "or 'Qbb' (scale last coordinate) may remove this warning.  Use 'Pp' to skip\n",
      "this warning.  See 'Limitations' in qh-impre.htm.\n",
      " \n",
      "Warning: qhull precision warning:\n",
      "The initial hull is narrow (cosine of min. angle is 1.0000000000000000).\n",
      "A coplanar point may lead to a wide facet.  Options 'QbB' (scale to unit box)\n",
      "or 'Qbb' (scale last coordinate) may remove this warning.  Use 'Pp' to skip\n",
      "this warning.  See 'Limitations' in qh-impre.htm.\n",
      " \n",
      "Warning: qhull precision warning:\n",
      "The initial hull is narrow (cosine of min. angle is 1.0000000000000000).\n",
      "A coplanar point may lead to a wide facet.  Options 'QbB' (scale to unit box)\n",
      "or 'Qbb' (scale last coordinate) may remove this warning.  Use 'Pp' to skip\n",
      "this warning.  See 'Limitations' in qh-impre.htm.\n",
      " \n",
      "Warning: qhull precision warning:\n",
      "The initial hull is narrow (cosine of min. angle is 1.0000000000000000).\n",
      "A coplanar point may lead to a wide facet.  Options 'QbB' (scale to unit box)\n",
      "or 'Qbb' (scale last coordinate) may remove this warning.  Use 'Pp' to skip\n",
      "this warning.  See 'Limitations' in qh-impre.htm.\n",
      " \n",
      "Warning: qhull precision warning:\n",
      "The initial hull is narrow (cosine of min. angle is 1.0000000000000000).\n",
      "A coplanar point may lead to a wide facet.  Options 'QbB' (scale to unit box)\n",
      "or 'Qbb' (scale last coordinate) may remove this warning.  Use 'Pp' to skip\n",
      "this warning.  See 'Limitations' in qh-impre.htm.\n",
      " \n",
      "Warning: qhull precision warning:\n",
      "The initial hull is narrow (cosine of min. angle is 1.0000000000000000).\n",
      "A coplanar point may lead to a wide facet.  Options 'QbB' (scale to unit box)\n",
      "or 'Qbb' (scale last coordinate) may remove this warning.  Use 'Pp' to skip\n",
      "this warning.  See 'Limitations' in qh-impre.htm.\n",
      " \n",
      "Warning: qhull precision warning:\n",
      "The initial hull is narrow (cosine of min. angle is 1.0000000000000000).\n",
      "A coplanar point may lead to a wide facet.  Options 'QbB' (scale to unit box)\n",
      "or 'Qbb' (scale last coordinate) may remove this warning.  Use 'Pp' to skip\n",
      "this warning.  See 'Limitations' in qh-impre.htm.\n",
      " \n",
      "Warning: qhull precision warning:\n",
      "The initial hull is narrow (cosine of min. angle is 1.0000000000000002).\n",
      "A coplanar point may lead to a wide facet.  Options 'QbB' (scale to unit box)\n",
      "or 'Qbb' (scale last coordinate) may remove this warning.  Use 'Pp' to skip\n",
      "this warning.  See 'Limitations' in qh-impre.htm.\n",
      " \n",
      "Warning: qhull precision warning:\n",
      "The initial hull is narrow (cosine of min. angle is 1.0000000000000000).\n",
      "A coplanar point may lead to a wide facet.  Options 'QbB' (scale to unit box)\n",
      "or 'Qbb' (scale last coordinate) may remove this warning.  Use 'Pp' to skip\n",
      "this warning.  See 'Limitations' in qh-impre.htm.\n",
      " \n",
      "Warning: qhull precision warning:\n",
      "The initial hull is narrow (cosine of min. angle is 1.0000000000000002).\n",
      "A coplanar point may lead to a wide facet.  Options 'QbB' (scale to unit box)\n",
      "or 'Qbb' (scale last coordinate) may remove this warning.  Use 'Pp' to skip\n",
      "this warning.  See 'Limitations' in qh-impre.htm.\n",
      " \n",
      "Warning: qhull precision warning:\n",
      "The initial hull is narrow (cosine of min. angle is 1.0000000000000000).\n",
      "A coplanar point may lead to a wide facet.  Options 'QbB' (scale to unit box)\n",
      "or 'Qbb' (scale last coordinate) may remove this warning.  Use 'Pp' to skip\n",
      "this warning.  See 'Limitations' in qh-impre.htm.\n",
      " \n",
      "Warning: qhull precision warning:\n",
      "The initial hull is narrow (cosine of min. angle is 1.0000000000000000).\n",
      "A coplanar point may lead to a wide facet.  Options 'QbB' (scale to unit box)\n",
      "or 'Qbb' (scale last coordinate) may remove this warning.  Use 'Pp' to skip\n",
      "this warning.  See 'Limitations' in qh-impre.htm.\n",
      " \n",
      "Warning: qhull precision warning:\n",
      "The initial hull is narrow (cosine of min. angle is 1.0000000000000000).\n",
      "A coplanar point may lead to a wide facet.  Options 'QbB' (scale to unit box)\n",
      "or 'Qbb' (scale last coordinate) may remove this warning.  Use 'Pp' to skip\n",
      "this warning.  See 'Limitations' in qh-impre.htm.\n",
      " \n",
      "Warning: qhull precision warning:\n",
      "The initial hull is narrow (cosine of min. angle is 1.0000000000000000).\n",
      "A coplanar point may lead to a wide facet.  Options 'QbB' (scale to unit box)\n",
      "or 'Qbb' (scale last coordinate) may remove this warning.  Use 'Pp' to skip\n",
      "this warning.  See 'Limitations' in qh-impre.htm.\n",
      " \n",
      "Warning: qhull precision warning:\n",
      "The initial hull is narrow (cosine of min. angle is 1.0000000000000000).\n",
      "A coplanar point may lead to a wide facet.  Options 'QbB' (scale to unit box)\n",
      "or 'Qbb' (scale last coordinate) may remove this warning.  Use 'Pp' to skip\n",
      "this warning.  See 'Limitations' in qh-impre.htm.\n",
      " \n",
      "Warning: qhull precision warning:\n",
      "The initial hull is narrow (cosine of min. angle is 1.0000000000000000).\n",
      "A coplanar point may lead to a wide facet.  Options 'QbB' (scale to unit box)\n",
      "or 'Qbb' (scale last coordinate) may remove this warning.  Use 'Pp' to skip\n",
      "this warning.  See 'Limitations' in qh-impre.htm.\n",
      " \n",
      "Warning: qhull precision warning:\n",
      "The initial hull is narrow (cosine of min. angle is 1.0000000000000000).\n",
      "A coplanar point may lead to a wide facet.  Options 'QbB' (scale to unit box)\n",
      "or 'Qbb' (scale last coordinate) may remove this warning.  Use 'Pp' to skip\n",
      "this warning.  See 'Limitations' in qh-impre.htm.\n",
      " \n",
      "Warning: qhull precision warning:\n",
      "The initial hull is narrow (cosine of min. angle is 1.0000000000000000).\n",
      "A coplanar point may lead to a wide facet.  Options 'QbB' (scale to unit box)\n",
      "or 'Qbb' (scale last coordinate) may remove this warning.  Use 'Pp' to skip\n",
      "this warning.  See 'Limitations' in qh-impre.htm.\n",
      " \n",
      "Warning: qhull precision warning:\n",
      "The initial hull is narrow (cosine of min. angle is 1.0000000000000000).\n",
      "A coplanar point may lead to a wide facet.  Options 'QbB' (scale to unit box)\n",
      "or 'Qbb' (scale last coordinate) may remove this warning.  Use 'Pp' to skip\n",
      "this warning.  See 'Limitations' in qh-impre.htm.\n",
      " \n",
      "Warning: qhull precision warning:\n",
      "The initial hull is narrow (cosine of min. angle is 1.0000000000000000).\n",
      "A coplanar point may lead to a wide facet.  Options 'QbB' (scale to unit box)\n",
      "or 'Qbb' (scale last coordinate) may remove this warning.  Use 'Pp' to skip\n",
      "this warning.  See 'Limitations' in qh-impre.htm.\n",
      " \n",
      "Warning: qhull precision warning:\n",
      "The initial hull is narrow (cosine of min. angle is 1.0000000000000002).\n",
      "A coplanar point may lead to a wide facet.  Options 'QbB' (scale to unit box)\n",
      "or 'Qbb' (scale last coordinate) may remove this warning.  Use 'Pp' to skip\n",
      "this warning.  See 'Limitations' in qh-impre.htm.\n",
      " \n",
      "Warning: qhull precision warning:\n",
      "The initial hull is narrow (cosine of min. angle is 1.0000000000000002).\n",
      "A coplanar point may lead to a wide facet.  Options 'QbB' (scale to unit box)\n",
      "or 'Qbb' (scale last coordinate) may remove this warning.  Use 'Pp' to skip\n",
      "this warning.  See 'Limitations' in qh-impre.htm.\n",
      " \n",
      "Warning: qhull precision warning:\n",
      "The initial hull is narrow (cosine of min. angle is 1.0000000000000000).\n",
      "A coplanar point may lead to a wide facet.  Options 'QbB' (scale to unit box)\n",
      "or 'Qbb' (scale last coordinate) may remove this warning.  Use 'Pp' to skip\n",
      "this warning.  See 'Limitations' in qh-impre.htm.\n",
      " \n",
      "Warning: qhull precision warning:\n",
      "The initial hull is narrow (cosine of min. angle is 1.0000000000000000).\n",
      "A coplanar point may lead to a wide facet.  Options 'QbB' (scale to unit box)\n",
      "or 'Qbb' (scale last coordinate) may remove this warning.  Use 'Pp' to skip\n",
      "this warning.  See 'Limitations' in qh-impre.htm.\n",
      " \n",
      "Warning: qhull precision warning:\n",
      "The initial hull is narrow (cosine of min. angle is 1.0000000000000000).\n",
      "A coplanar point may lead to a wide facet.  Options 'QbB' (scale to unit box)\n",
      "or 'Qbb' (scale last coordinate) may remove this warning.  Use 'Pp' to skip\n",
      "this warning.  See 'Limitations' in qh-impre.htm.\n",
      " \n",
      "Warning: qhull precision warning:\n",
      "The initial hull is narrow (cosine of min. angle is 1.0000000000000000).\n",
      "A coplanar point may lead to a wide facet.  Options 'QbB' (scale to unit box)\n",
      "or 'Qbb' (scale last coordinate) may remove this warning.  Use 'Pp' to skip\n",
      "this warning.  See 'Limitations' in qh-impre.htm.\n",
      " \n",
      "Warning: qhull precision warning:\n",
      "The initial hull is narrow (cosine of min. angle is 1.0000000000000000).\n",
      "A coplanar point may lead to a wide facet.  Options 'QbB' (scale to unit box)\n",
      "or 'Qbb' (scale last coordinate) may remove this warning.  Use 'Pp' to skip\n",
      "this warning.  See 'Limitations' in qh-impre.htm.\n",
      " \n",
      "Warning: qhull precision warning:\n",
      "The initial hull is narrow (cosine of min. angle is 1.0000000000000002).\n",
      "A coplanar point may lead to a wide facet.  Options 'QbB' (scale to unit box)\n",
      "or 'Qbb' (scale last coordinate) may remove this warning.  Use 'Pp' to skip\n",
      "this warning.  See 'Limitations' in qh-impre.htm.\n",
      " \n",
      "Warning: qhull precision warning:\n",
      "The initial hull is narrow (cosine of min. angle is 0.9999999999999999).\n",
      "A coplanar point may lead to a wide facet.  Options 'QbB' (scale to unit box)\n",
      "or 'Qbb' (scale last coordinate) may remove this warning.  Use 'Pp' to skip\n",
      "this warning.  See 'Limitations' in qh-impre.htm.\n",
      " \n",
      "Warning: qhull precision warning:\n",
      "The initial hull is narrow (cosine of min. angle is 1.0000000000000000).\n",
      "A coplanar point may lead to a wide facet.  Options 'QbB' (scale to unit box)\n",
      "or 'Qbb' (scale last coordinate) may remove this warning.  Use 'Pp' to skip\n",
      "this warning.  See 'Limitations' in qh-impre.htm.\n",
      " \n",
      "Warning: qhull precision warning:\n",
      "The initial hull is narrow (cosine of min. angle is 1.0000000000000002).\n",
      "A coplanar point may lead to a wide facet.  Options 'QbB' (scale to unit box)\n",
      "or 'Qbb' (scale last coordinate) may remove this warning.  Use 'Pp' to skip\n",
      "this warning.  See 'Limitations' in qh-impre.htm.\n",
      " \n",
      "Warning: qhull precision warning:\n",
      "The initial hull is narrow (cosine of min. angle is 1.0000000000000000).\n",
      "A coplanar point may lead to a wide facet.  Options 'QbB' (scale to unit box)\n",
      "or 'Qbb' (scale last coordinate) may remove this warning.  Use 'Pp' to skip\n",
      "this warning.  See 'Limitations' in qh-impre.htm.\n",
      " \n",
      "Warning: qhull precision warning:\n",
      "The initial hull is narrow (cosine of min. angle is 1.0000000000000000).\n",
      "A coplanar point may lead to a wide facet.  Options 'QbB' (scale to unit box)\n",
      "or 'Qbb' (scale last coordinate) may remove this warning.  Use 'Pp' to skip\n",
      "this warning.  See 'Limitations' in qh-impre.htm.\n",
      " \n",
      "Warning: qhull precision warning:\n",
      "The initial hull is narrow (cosine of min. angle is 1.0000000000000000).\n",
      "A coplanar point may lead to a wide facet.  Options 'QbB' (scale to unit box)\n",
      "or 'Qbb' (scale last coordinate) may remove this warning.  Use 'Pp' to skip\n",
      "this warning.  See 'Limitations' in qh-impre.htm.\n",
      " \n",
      "Warning: qhull precision warning:\n",
      "The initial hull is narrow (cosine of min. angle is 1.0000000000000000).\n",
      "A coplanar point may lead to a wide facet.  Options 'QbB' (scale to unit box)\n",
      "or 'Qbb' (scale last coordinate) may remove this warning.  Use 'Pp' to skip\n",
      "this warning.  See 'Limitations' in qh-impre.htm.\n",
      " \n",
      "Warning: qhull precision warning:\n",
      "The initial hull is narrow (cosine of min. angle is 1.0000000000000002).\n",
      "A coplanar point may lead to a wide facet.  Options 'QbB' (scale to unit box)\n",
      "or 'Qbb' (scale last coordinate) may remove this warning.  Use 'Pp' to skip\n",
      "this warning.  See 'Limitations' in qh-impre.htm.\n",
      " \n",
      "Warning: qhull precision warning:\n",
      "The initial hull is narrow (cosine of min. angle is 1.0000000000000002).\n",
      "A coplanar point may lead to a wide facet.  Options 'QbB' (scale to unit box)\n",
      "or 'Qbb' (scale last coordinate) may remove this warning.  Use 'Pp' to skip\n",
      "this warning.  See 'Limitations' in qh-impre.htm.\n",
      " \n",
      "Warning: qhull precision warning:\n",
      "The initial hull is narrow (cosine of min. angle is 1.0000000000000000).\n",
      "A coplanar point may lead to a wide facet.  Options 'QbB' (scale to unit box)\n",
      "or 'Qbb' (scale last coordinate) may remove this warning.  Use 'Pp' to skip\n",
      "this warning.  See 'Limitations' in qh-impre.htm.\n",
      " \n"
     ]
    },
    {
     "name": "stdout",
     "output_type": "stream",
     "text": [
      "9/48: Interior\n",
      "9/48: Annular\n",
      "10/48: Interior\n",
      "10/48: Annular\n",
      "11/48: Interior\n",
      "11/48: Annular\n",
      "12/48: Interior\n",
      "12/48: Annular\n",
      ">> Warning: qhull precision warning:\n",
      "The initial hull is narrow (cosine of min. angle is 1.0000000000000000).\n",
      "A coplanar point may lead to a wide facet.  Options 'QbB' (scale to unit box)\n",
      "or 'Qbb' (scale last coordinate) may remove this warning.  Use 'Pp' to skip\n",
      "this warning.  See 'Limitations' in qh-impre.htm.\n",
      " \n",
      "13/48: Interior\n",
      "13/48: Annular\n",
      "14/48: Interior\n",
      "14/48: Annular\n"
     ]
    },
    {
     "ename": "LoadError",
     "evalue": "\u001b[91mInterruptException:\u001b[39m",
     "output_type": "error",
     "traceback": [
      "\u001b[91mInterruptException:\u001b[39m",
      "",
      "Stacktrace:",
      " [1] \u001b[1meval_string\u001b[22m\u001b[22m\u001b[1m(\u001b[22m\u001b[22m::MATLAB.MSession, ::String\u001b[1m)\u001b[22m\u001b[22m at \u001b[1m/home/coopar7/.julia/v0.6/MATLAB/src/engine.jl:137\u001b[22m\u001b[22m",
      " [2] \u001b[1mmxcall\u001b[22m\u001b[22m\u001b[1m(\u001b[22m\u001b[22m::MATLAB.MSession, ::Symbol, ::Int64, ::Array{Float64,2}, ::Vararg{Any,N} where N\u001b[1m)\u001b[22m\u001b[22m at \u001b[1m/home/coopar7/.julia/v0.6/MATLAB/src/engine.jl:309\u001b[22m\u001b[22m",
      " [3] \u001b[1mform_disjoint_grid\u001b[22m\u001b[22m\u001b[1m(\u001b[22m\u001b[22m::Rectangle{2,Float64}, ::Array{Circle{2,Float64},1}, ::Array{Circle{2,Float64},1}, ::Float64, ::Float64, ::Symbol\u001b[1m)\u001b[22m\u001b[22m at \u001b[1m/home/coopar7/Documents/code/BlochTorreyExperiments-master/Experiments/MyelinWaterOrientation/Utils/mesh_utils.jl:126\u001b[22m\u001b[22m",
      " [4] \u001b[1mdisjoint_rect_mesh_with_tori\u001b[22m\u001b[22m\u001b[1m(\u001b[22m\u001b[22m::Rectangle{2,Float64}, ::Array{Circle{2,Float64},1}, ::Array{Circle{2,Float64},1}, ::Float64, ::Float64\u001b[1m)\u001b[22m\u001b[22m at \u001b[1m/home/coopar7/Documents/code/BlochTorreyExperiments-master/Experiments/MyelinWaterOrientation/Utils/mesh_utils.jl:96\u001b[22m\u001b[22m"
     ]
    },
    {
     "name": "stdout",
     "output_type": "stream",
     "text": [
      "15/48: Interior\n"
     ]
    }
   ],
   "source": [
    "exteriorgrid, torigrids, interiorgrids = disjoint_rect_mesh_with_tori(rect_bdry, inner_circles, outer_circles, h0, eta);\n",
    "#@time exteriorgrid, torigrids, interiorgrids = rect_mesh_with_circles(rect_bdry, outer_circles, h0, eta, isunion=false);"
   ]
  },
  {
   "cell_type": "code",
   "execution_count": null,
   "metadata": {},
   "outputs": [],
   "source": []
  },
  {
   "cell_type": "code",
   "execution_count": null,
   "metadata": {},
   "outputs": [],
   "source": [
    "#all_tori = form_subgrid(grid, getcellset(grid, \"tori\"), getnodeset(grid, \"tori\"), getfaceset(grid, \"boundary\"))\n",
    "#all_int = form_subgrid(grid, getcellset(grid, \"interior\"), getnodeset(grid, \"interior\"), getfaceset(grid, \"boundary\"))"
   ]
  },
  {
   "cell_type": "code",
   "execution_count": null,
   "metadata": {},
   "outputs": [],
   "source": [
    "mxcall(:figure,0); mxcall(:hold,0,\"on\"); mxplot(exteriorgrid); sleep(0.1);\n",
    "mxcall(:figure,0); mxcall(:hold,0,\"on\"); mxplot(all_tori); sleep(0.1);\n",
    "mxcall(:figure,0); mxcall(:hold,0,\"on\"); mxplot(all_int); sleep(0.1);"
   ]
  },
  {
   "cell_type": "code",
   "execution_count": null,
   "metadata": {},
   "outputs": [],
   "source": [
    "domain = MyelinDomain(grid, outer_circles, inner_circles, rect_bdry, exteriorgrid, torigrids, interiorgrids;\n",
    "    quadorder = 1, funcinterporder = 1);"
   ]
  },
  {
   "cell_type": "code",
   "execution_count": null,
   "metadata": {},
   "outputs": [],
   "source": [
    "doassemble!(domain, btparams);"
   ]
  },
  {
   "cell_type": "code",
   "execution_count": null,
   "metadata": {},
   "outputs": [],
   "source": [
    "factorize!(domain);"
   ]
  },
  {
   "cell_type": "code",
   "execution_count": null,
   "metadata": {},
   "outputs": [],
   "source": []
  },
  {
   "cell_type": "code",
   "execution_count": null,
   "metadata": {},
   "outputs": [],
   "source": [
    "using Cubature"
   ]
  },
  {
   "cell_type": "code",
   "execution_count": null,
   "metadata": {},
   "outputs": [],
   "source": [
    "lb, ub = Vector(minimum(rect_bdry)), Vector(maximum(rect_bdry))\n",
    "(val,err) = hcubature(1, (x,v) -> (y = exp.(2*x.^2/10); v[1] = dot(y,y)), lb, ub)"
   ]
  },
  {
   "cell_type": "code",
   "execution_count": null,
   "metadata": {},
   "outputs": [],
   "source": [
    "# U = interpolate(x->Vec{2}(exp.(2x⊙x/10)), domain);\n",
    "U = interpolate(Vec{2}((0.0,1.0)), domain);\n",
    "S = integrate(U, domain)"
   ]
  },
  {
   "cell_type": "code",
   "execution_count": null,
   "metadata": {},
   "outputs": [],
   "source": [
    "norm(U, domain)"
   ]
  },
  {
   "cell_type": "markdown",
   "metadata": {},
   "source": [
    "### Diffusion coefficient $D(x)$, relaxation rate $R(x)$, and resonance frequency $\\omega(x)$"
   ]
  },
  {
   "cell_type": "markdown",
   "metadata": {},
   "source": [
    "These functions are defined within `doassemble!`"
   ]
  },
  {
   "cell_type": "markdown",
   "metadata": {},
   "source": [
    "### Trial and test functions\n",
    "A `CellValues` facilitates the process of evaluating values and gradients of\n",
    "test and trial functions (among other things). Since the problem\n",
    "is a scalar problem we will use a `CellScalarValues` object. To define\n",
    "this we need to specify an interpolation space for the shape functions.\n",
    "We use Lagrange functions (both for interpolating the function and the geometry)\n",
    "based on the reference \"cube\". We also define a quadrature rule based on the\n",
    "same reference cube. We combine the interpolation and the quadrature rule\n",
    "to a `CellScalarValues` object."
   ]
  },
  {
   "cell_type": "markdown",
   "metadata": {},
   "source": [
    "### Degrees of freedom\n",
    "Next we need to define a `DofHandler`, which will take care of numbering\n",
    "and distribution of degrees of freedom for our approximated fields.\n",
    "We create the `DofHandler` and then add a single field called `u`.\n",
    "Lastly we `close!` the `DofHandler`, it is now that the dofs are distributed\n",
    "for all the elements."
   ]
  },
  {
   "cell_type": "markdown",
   "metadata": {},
   "source": [
    "Now that we have distributed all our dofs we can create our tangent matrix,\n",
    "using `create_sparsity_pattern`. This function returns a sparse matrix\n",
    "with the correct elements stored."
   ]
  },
  {
   "cell_type": "markdown",
   "metadata": {},
   "source": [
    "We can inspect the pattern using the `spy` function from `UnicodePlots.jl`.\n",
    "By default the stored values are set to $0$, so we first need to\n",
    "fill the stored values, e.g. `K.nzval` with something meaningful."
   ]
  },
  {
   "cell_type": "code",
   "execution_count": null,
   "metadata": {},
   "outputs": [],
   "source": [
    "#using UnicodePlots\n",
    "#fill!(K.nzval, 1.0)\n",
    "#spy(K; height = 25)"
   ]
  },
  {
   "cell_type": "markdown",
   "metadata": {},
   "source": [
    "### Boundary conditions\n",
    "In JuAFEM constraints like Dirichlet boundary conditions are handled by a `ConstraintHandler`. However, here we will have no need to directly enforce boundary conditions, since Neumann boundary conditions have already been applied in the derivation of the weak form."
   ]
  },
  {
   "cell_type": "markdown",
   "metadata": {},
   "source": [
    "### Assembling the linear system\n",
    "Now we have all the pieces needed to assemble the linear system, $K u = f$.\n",
    "We define a function, `doassemble` to do the assembly, which takes our `cellvalues`,\n",
    "the sparse matrix and our DofHandler as input arguments. The function returns the\n",
    "assembled stiffness matrix, and the force vector."
   ]
  },
  {
   "cell_type": "markdown",
   "metadata": {},
   "source": [
    "### Solution of the differential equation system\n",
    "The last step is to solve the system. First we call `doassemble`\n",
    "to obtain the global stiffness matrix `K` and force vector `f`.\n",
    "Then, to account for the boundary conditions, we use the `apply!` function.\n",
    "This modifies elements in `K` and `f` respectively, such that\n",
    "we can get the correct solution vector `u` by using `\\`."
   ]
  },
  {
   "cell_type": "code",
   "execution_count": null,
   "metadata": {},
   "outputs": [],
   "source": [
    "tspan = (0.0,40e-3);\n",
    "u0 = Vec{2}((0.0, 1.0))\n",
    "U0 = interpolate(u0, domain); # vector of vectors\n",
    "#U = similar(U0)"
   ]
  },
  {
   "cell_type": "code",
   "execution_count": null,
   "metadata": {},
   "outputs": [],
   "source": [
    "for i in numsubdomains(domain):-1:1\n",
    "    print(\"i = $i: \")\n",
    "    \n",
    "    subdomain = getsubdomain(domain, i)\n",
    "    Amap = paraboliclinearmap(subdomain)\n",
    "    U[i] = similar(U0[i])\n",
    "        \n",
    "    # Method 1: expmv! from Expokit.jl\n",
    "    #@time Expokit.expmv!(U[i], tspan[end], Amap, U0[i]; tol=1e-4, norm=expmv_norm, m=30);\n",
    "    \n",
    "    # Method 2: direct ODE solution using DifferentialEquations.jl\n",
    "    prob = ODEProblem((du,u,p,t)->A_mul_B!(du,p[1],u), U0[i], tspan, (Amap,));\n",
    "    @time sol = solve(prob, CVODE_BDF(linear_solver=:GMRES); saveat=tspan, reltol=1e-4, alg_hints=:stiff)\n",
    "    U[i] = sol.u[end]\n",
    "end"
   ]
  },
  {
   "cell_type": "code",
   "execution_count": null,
   "metadata": {},
   "outputs": [],
   "source": [
    "u0 * area(domain.domainboundary)"
   ]
  },
  {
   "cell_type": "code",
   "execution_count": null,
   "metadata": {},
   "outputs": [],
   "source": [
    "integrate(U, domain)"
   ]
  },
  {
   "cell_type": "code",
   "execution_count": null,
   "metadata": {
    "scrolled": true
   },
   "outputs": [],
   "source": [
    "exp(-tspan[end]*btparams[:R2_lp])"
   ]
  },
  {
   "cell_type": "code",
   "execution_count": null,
   "metadata": {},
   "outputs": [],
   "source": [
    "prob = ODEProblem((du,u,p,t)->A_mul_B!(du,p[1],u), u0, tspan, (Amap,));"
   ]
  },
  {
   "cell_type": "code",
   "execution_count": null,
   "metadata": {},
   "outputs": [],
   "source": [
    "#@time Expokit.expmv!(u, tspan[end], Amap, u0; tol=1e-4, norm=expmv_norm, m=100); # penelope: 17.42s\n",
    "#@time Expokit.expmv!(u, tspan[end], Amap, u0; tol=1e-4, norm=expmv_norm, m=50); # penelope: 30.09s\n",
    "#@time Expokit.expmv!(u, tspan[end], Amap, u0; tol=1e-4, norm=expmv_norm, m=10); # penelope: 103.5s\n",
    "#@time Expokit.expmv!(u, tspan[end], Amap, u0; tol=1e-8, norm=expmv_norm); # penelope: 53.2s\n",
    "#@time Expokit.expmv!(u, tspan[end], Amap, u0; tol=1e-6, norm=expmv_norm); # penelope: 44.4s"
   ]
  },
  {
   "cell_type": "code",
   "execution_count": null,
   "metadata": {},
   "outputs": [],
   "source": [
    "#@time sol = solve(prob, CVODE_BDF(linear_solver=:GMRES); saveat=tspan, reltol=1e-8, alg_hints=:stiff); # penelope: 90.21s\n",
    "#@time sol = solve(prob, CVODE_BDF(linear_solver=:GMRES); saveat=tspan, reltol=1e-4, alg_hints=:stiff); # penelope: 33.44s\n",
    "#@time sol = solve(prob, CVODE_BDF(linear_solver=:BCG); saveat=tspan, reltol=1e-4, alg_hints=:stiff) # penelope: 53.66s\n",
    "#@time sol = solve(prob, CVODE_BDF(linear_solver=:TFQMR); saveat=tspan, reltol=1e-4, alg_hints=:stiff) # penelope: 18.99s but low accuracy"
   ]
  },
  {
   "cell_type": "code",
   "execution_count": null,
   "metadata": {
    "scrolled": true
   },
   "outputs": [],
   "source": [
    "#prob_Ku = ODEProblem(K_mul_u!, u0, tspan, (K,), mass_matrix=M);\n",
    "#@time sol_Ku = solve(prob_Ku, Rosenbrock23(), saveat=tspan, reltol=1e-4, alg_hints=:stiff) #DNF\n",
    "#@time sol_Ku = solve(prob_Ku, Rodas4(), saveat=tspan, reltol=1e-4, alg_hints=:stiff) #DNF"
   ]
  },
  {
   "cell_type": "code",
   "execution_count": null,
   "metadata": {},
   "outputs": [],
   "source": [
    "@show norm(sol.u[end] - u)/maximum(abs,u);\n",
    "@show maximum(sol.u[end] - u)/maximum(abs,u);"
   ]
  },
  {
   "cell_type": "code",
   "execution_count": null,
   "metadata": {},
   "outputs": [],
   "source": []
  },
  {
   "cell_type": "markdown",
   "metadata": {},
   "source": [
    "### Exporting to VTK\n",
    "To visualize the result we export the grid and our field `u`\n",
    "to a VTK-file, which can be viewed in e.g. [ParaView](https://www.paraview.org/)."
   ]
  },
  {
   "cell_type": "code",
   "execution_count": null,
   "metadata": {},
   "outputs": [],
   "source": [
    "vtk_grid(\"bloch_torrey_equation\", dh) do vtk\n",
    "    vtk_point_data(vtk, dh, u)\n",
    "end"
   ]
  },
  {
   "cell_type": "markdown",
   "metadata": {},
   "source": [
    "*This notebook was generated using [Literate.jl](https://github.com/fredrikekre/Literate.jl).*"
   ]
  }
 ],
 "metadata": {
  "kernelspec": {
   "display_name": "Julia 0.6.4",
   "language": "julia",
   "name": "julia-0.6"
  },
  "language_info": {
   "file_extension": ".jl",
   "mimetype": "application/julia",
   "name": "julia",
   "version": "0.6.4"
  }
 },
 "nbformat": 4,
 "nbformat_minor": 3
}
