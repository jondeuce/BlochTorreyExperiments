{
 "cells": [
  {
   "cell_type": "markdown",
   "metadata": {},
   "source": [
    "# Bloch-Torrey Equation"
   ]
  },
  {
   "cell_type": "markdown",
   "metadata": {},
   "source": [
    "## Introduction\n",
    "\n",
    "Here we solve the Bloch-Torrey equation on a unit square, with the diffusion coefficient $D(x)$, relaxation rate $R(x)$, and resonance frequency $\\omega(x)$ all given as a generic functions.\n",
    "The strong form of the Bloch-Torrey equation is given by\n",
    "\n",
    "\\begin{align}\n",
    "    u_t &= \\nabla \\cdot (D \\nabla u) - R u + \\omega v  \\quad x \\in \\Omega\\\\\n",
    "    v_t &= \\nabla \\cdot (D \\nabla v) - R v - \\omega u  \\quad x \\in \\Omega,\n",
    "\\end{align}\n",
    "\n",
    "where $\\vec{u}=[u,v]$ is the transverse magnetization, and $\\Omega$ the domain.\n",
    "\n",
    "We will consider homogeneous Neumann boundary conditions such that\n",
    "\n",
    "\\begin{align}\n",
    "    \\nabla u(x) \\cdot n &= 0  \\quad x \\in \\partial \\Omega\\\\\n",
    "    \\nabla v(x) \\cdot n &= 0  \\quad x \\in \\partial \\Omega,\n",
    "\\end{align}\n",
    "\n",
    "where $\\partial \\Omega$ denotes the boundary of $\\Omega$. The initial condition is given generically as\n",
    "\n",
    "\\begin{equation}\n",
    "    \\vec{u}(x,t=0) = \\vec{u}_0 (x)  \\quad x \\in \\Omega\n",
    "\\end{equation}\n",
    "\n",
    "\n",
    "The resulting weak form is given by\n",
    "\\begin{align}\n",
    "    \\int_{\\Omega} \\vec{v} \\cdot \\vec{u}_t \\, d\\Omega\n",
    "    &= -\\int_{\\Omega}\n",
    "    -\\vec{v} \\cdot \\nabla \\cdot ( D \\, \\nabla \\vec{u} ) +\n",
    "    R \\, \\vec{v} \\cdot \\vec{u} -\n",
    "    \\omega \\, \\vec{v} \\times \\vec{u}\n",
    "    \\, d\\Omega \\\\\n",
    "    &= -\\int_{\\Omega}\n",
    "    D \\, \\nabla \\vec{v} : \\nabla \\vec{u} +\n",
    "    R \\, \\vec{v} \\cdot \\vec{u} -\n",
    "    \\omega \\, \\vec{v} \\times \\vec{u}\n",
    "    \\, d\\Omega + \n",
    "    \\int_{\\partial\\Omega} \\vec{v} \\cdot (D\\nabla\\vec{u} \\cdot \\hat{n}) \\, d\\Gamma,\n",
    "\\end{align}\n",
    "where $\\vec{v}$ is a suitable test function.\n",
    "\n",
    "In this notebook, we will assume homogeneous Neumann boundary conditions on all boundaries. Therefore, the final weak form is simply\n",
    "\\begin{align}\n",
    "    \\int_{\\Omega} \\vec{v} \\cdot \\vec{u}_t \\, d\\Omega\n",
    "    = -\\int_{\\Omega}\n",
    "    D \\, \\nabla \\vec{v} : \\nabla \\vec{u} +\n",
    "    R \\, \\vec{v} \\cdot \\vec{u} -\n",
    "    \\omega \\, \\vec{v} \\times \\vec{u}\n",
    "    \\, d\\Omega\n",
    "\\end{align}\n",
    "\n",
    "Note that, in two dimensions, the cross product is simply a scalar. However, `Tensors.jl` defines the two dimensional cross product by first extending the 2D vectors into 3D. Below, we use the symbol $\\boxtimes$ to denote the scalar version, which is the same as taking the third component of the vector version"
   ]
  },
  {
   "cell_type": "markdown",
   "metadata": {},
   "source": [
    "## Commented Program\n",
    "\n",
    "Now we solve the problem in JuAFEM. What follows is a program spliced with comments.\n",
    "\n",
    "First we load the JuAFEM package."
   ]
  },
  {
   "cell_type": "code",
   "execution_count": 1,
   "metadata": {},
   "outputs": [
    {
     "name": "stderr",
     "output_type": "stream",
     "text": [
      "\u001b[1m\u001b[36mINFO: \u001b[39m\u001b[22m\u001b[36mRecompiling stale cache file /home/coopar7/.julia/lib/v0.6/JuAFEM.ji for module JuAFEM.\n",
      "\u001b[39m\u001b[1m\u001b[36mINFO: \u001b[39m\u001b[22m\u001b[36mRecompiling stale cache file /home/coopar7/.julia/lib/v0.6/MATLAB.ji for module MATLAB.\n",
      "\u001b[39m\u001b[1m\u001b[36mINFO: \u001b[39m\u001b[22m\u001b[36mRecompiling stale cache file /home/coopar7/.julia/lib/v0.6/DifferentialEquations.ji for module DifferentialEquations.\n",
      "\u001b[39m\u001b[1m\u001b[36mINFO: \u001b[39m\u001b[22m\u001b[36mRecompiling stale cache file /home/coopar7/.julia/lib/v0.6/BenchmarkTools.ji for module BenchmarkTools.\n",
      "\u001b[39m"
     ]
    }
   ],
   "source": [
    "using Revise\n",
    "using JuAFEM\n",
    "using JuAFEM: vertices, faces, edges\n",
    "using MATLAB\n",
    "using DifferentialEquations\n",
    "using BenchmarkTools"
   ]
  },
  {
   "cell_type": "code",
   "execution_count": 2,
   "metadata": {},
   "outputs": [],
   "source": [
    "include(\"../Utils/geometry_utils.jl\")\n",
    "include(\"../Utils/mesh_utils.jl\")\n",
    "Revise.track(\"../Utils/geometry_utils.jl\")\n",
    "Revise.track(\"../Utils/mesh_utils.jl\")"
   ]
  },
  {
   "cell_type": "markdown",
   "metadata": {},
   "source": [
    "**Option #1**: Generate a simple grid with 20x20 triangular elements\n",
    "using `generate_grid`. The generator defaults to the unit square,\n",
    "so we don't need to specify the corners of the domain."
   ]
  },
  {
   "cell_type": "code",
   "execution_count": 4,
   "metadata": {},
   "outputs": [],
   "source": [
    "const n = 20\n",
    "grid = generate_grid(Triangle, (n, n));"
   ]
  },
  {
   "cell_type": "markdown",
   "metadata": {},
   "source": [
    "**Option #2**: External call to `MATLAB` to generate non-uniform grid with circles inside and convert to a `JuAFEM` grid."
   ]
  },
  {
   "cell_type": "code",
   "execution_count": 3,
   "metadata": {},
   "outputs": [],
   "source": [
    "bbox    = Rectangle((-1.0, -1.0), (1.0, 1.0));\n",
    "centers = [(0.0, 0.0)];\n",
    "rads    = [      0.5 ];\n",
    "\n",
    "#bbox    = Rectangle((-1.0, -1.0), (1.0, 1.0));\n",
    "#centers = [(-0.7, -0.9), (0.5, 0.5)];\n",
    "#rads    = [        0.5,        0.4 ];\n",
    "\n",
    "#bbox    = Rectangle((-1.0, -1.0), (1.0, 1.0));\n",
    "#centers = [(0.0, -1.0), (0.0, 1.0)];\n",
    "#rads    = [       0.5,        0.5 ];\n",
    "\n",
    "circles = [Circle(c,r) for (c,r) in zip(centers,rads)]\n",
    "\n",
    "Nmin = 100; # points for smallest circle\n",
    "h0 = 2pi*minimum(rads)/Nmin; # approximate scale\n",
    "eta = 5.0; # approx ratio between largest/smallest edges"
   ]
  },
  {
   "cell_type": "code",
   "execution_count": 4,
   "metadata": {},
   "outputs": [],
   "source": [
    "mxcall(:addpath,0,\"/home/coopar7/Documents/code/MatlabTools/FiniteElements/distmesh-jd\")"
   ]
  },
  {
   "cell_type": "code",
   "execution_count": 5,
   "metadata": {},
   "outputs": [],
   "source": [
    "revise()"
   ]
  },
  {
   "cell_type": "code",
   "execution_count": 6,
   "metadata": {
    "scrolled": true
   },
   "outputs": [],
   "source": [
    "fullgrid, subgrids = square_mesh_with_circles(bbox, circles, h0, eta, isunion=true);"
   ]
  },
  {
   "cell_type": "code",
   "execution_count": 7,
   "metadata": {},
   "outputs": [
    {
     "data": {
      "text/plain": [
       "JuAFEM.Grid{2,3,Float64,3} with 3689 Triangle cells and 1894 nodes"
      ]
     },
     "execution_count": 7,
     "metadata": {},
     "output_type": "execute_result"
    }
   ],
   "source": [
    "#grid = subgrids[1]\n",
    "grid = fullgrid"
   ]
  },
  {
   "cell_type": "markdown",
   "metadata": {},
   "source": [
    "### Diffusion coefficient $D(x)$, relaxation rate $R(x)$, and resonance frequency $\\omega(x)$"
   ]
  },
  {
   "cell_type": "code",
   "execution_count": 18,
   "metadata": {},
   "outputs": [],
   "source": [
    "const θ = π/2;\n",
    "const cos²θ = cos(θ)^2;\n",
    "const sin²θ = sin(θ)^2;"
   ]
  },
  {
   "cell_type": "code",
   "execution_count": 19,
   "metadata": {
    "scrolled": true
   },
   "outputs": [],
   "source": [
    "#@inline Dcoeff(x::Vec{2,T}) where T = ifelse(is_in_any_circle(x, circles), 3one(T), one(T))\n",
    "@inline Dcoeff(x::Vec{2,T}) where T = one(T)\n",
    "@inline Rdecay(x::Vec{2,T}) where T = ifelse(is_in_any_circle(x, circles), 3one(T), one(T))\n",
    "@inline @fastmath @inbounds function omega(x::Vec{2,T}) where T\n",
    "    ω = zero(T)\n",
    "    for c in circles\n",
    "        if is_in_circle(x,c)\n",
    "            ω += (3cos²θ-1)/6\n",
    "        else\n",
    "            r⁴ = (x⋅x)^2\n",
    "            a² = radius(c)^2\n",
    "            y²_x² = x[2]^2 - x[1]^2\n",
    "            ω += 0.5 * sin²θ * a² * y²_x² / r⁴\n",
    "        end\n",
    "    end\n",
    "    return ω\n",
    "end"
   ]
  },
  {
   "cell_type": "markdown",
   "metadata": {},
   "source": [
    "### Trial and test functions\n",
    "A `CellValues` facilitates the process of evaluating values and gradients of\n",
    "test and trial functions (among other things). Since the problem\n",
    "is a scalar problem we will use a `CellScalarValues` object. To define\n",
    "this we need to specify an interpolation space for the shape functions.\n",
    "We use Lagrange functions (both for interpolating the function and the geometry)\n",
    "based on the reference \"cube\". We also define a quadrature rule based on the\n",
    "same reference cube. We combine the interpolation and the quadrature rule\n",
    "to a `CellScalarValues` object."
   ]
  },
  {
   "cell_type": "code",
   "execution_count": 20,
   "metadata": {},
   "outputs": [],
   "source": [
    "const dim = 2\n",
    "ip = Lagrange{dim, RefTetrahedron, 1}()\n",
    "qr = QuadratureRule{dim, RefTetrahedron}(2)\n",
    "qr_face = QuadratureRule{dim-1, RefTetrahedron}(2)\n",
    "cellvalues = CellVectorValues(qr, ip);\n",
    "facevalues = FaceVectorValues(qr_face, ip);"
   ]
  },
  {
   "cell_type": "markdown",
   "metadata": {},
   "source": [
    "### Degrees of freedom\n",
    "Next we need to define a `DofHandler`, which will take care of numbering\n",
    "and distribution of degrees of freedom for our approximated fields.\n",
    "We create the `DofHandler` and then add a single field called `u`.\n",
    "Lastly we `close!` the `DofHandler`, it is now that the dofs are distributed\n",
    "for all the elements."
   ]
  },
  {
   "cell_type": "code",
   "execution_count": 23,
   "metadata": {},
   "outputs": [],
   "source": [
    "dh = DofHandler(grid)\n",
    "push!(dh, :u, 2)\n",
    "close!(dh);"
   ]
  },
  {
   "cell_type": "markdown",
   "metadata": {},
   "source": [
    "Now that we have distributed all our dofs we can create our tangent matrix,\n",
    "using `create_sparsity_pattern`. This function returns a sparse matrix\n",
    "with the correct elements stored."
   ]
  },
  {
   "cell_type": "code",
   "execution_count": 24,
   "metadata": {},
   "outputs": [],
   "source": [
    "K = create_sparsity_pattern(dh);\n",
    "M = create_sparsity_pattern(dh);"
   ]
  },
  {
   "cell_type": "markdown",
   "metadata": {},
   "source": [
    "We can inspect the pattern using the `spy` function from `UnicodePlots.jl`.\n",
    "By default the stored values are set to $0$, so we first need to\n",
    "fill the stored values, e.g. `K.nzval` with something meaningful."
   ]
  },
  {
   "cell_type": "code",
   "execution_count": 30,
   "metadata": {},
   "outputs": [],
   "source": [
    "#using UnicodePlots\n",
    "#fill!(K.nzval, 1.0)\n",
    "#spy(K; height = 25)"
   ]
  },
  {
   "cell_type": "markdown",
   "metadata": {},
   "source": [
    "### Boundary conditions\n",
    "In JuAFEM constraints like Dirichlet boundary conditions are handled by a `ConstraintHandler`. However, here we will have no need to directly enforce boundary conditions, since Neumann boundary conditions have already been applied in the derivation of the weak form."
   ]
  },
  {
   "cell_type": "markdown",
   "metadata": {},
   "source": [
    "### Assembling the linear system\n",
    "Now we have all the pieces needed to assemble the linear system, $K u = f$.\n",
    "We define a function, `doassemble` to do the assembly, which takes our `cellvalues`,\n",
    "the sparse matrix and our DofHandler as input arguments. The function returns the\n",
    "assembled stiffness matrix, and the force vector."
   ]
  },
  {
   "cell_type": "code",
   "execution_count": 31,
   "metadata": {
    "scrolled": true
   },
   "outputs": [
    {
     "data": {
      "text/plain": [
       "doassemble (generic function with 1 method)"
      ]
     },
     "execution_count": 31,
     "metadata": {},
     "output_type": "execute_result"
    }
   ],
   "source": [
    "function doassemble(cellvalues::CellVectorValues{dim},\n",
    "                    facevalues::FaceVectorValues{dim},\n",
    "                    K::SparseMatrixCSC,\n",
    "                    M::SparseMatrixCSC,\n",
    "                    dh::DofHandler) where {dim}\n",
    "    # We allocate the element stiffness matrix and element force vector\n",
    "    # just once before looping over all the cells instead of allocating\n",
    "    # them every time in the loop.\n",
    "    n_basefuncs = getnbasefunctions(cellvalues)\n",
    "    Ke = zeros(n_basefuncs, n_basefuncs)\n",
    "    Me = zeros(n_basefuncs, n_basefuncs)\n",
    "    \n",
    "    # Next we create assemblers for the stiffness matrix `K` and the mass\n",
    "    # matrix `M`. The assemblers are just thin wrappers around `K` and `M`\n",
    "    # and some extra storage to make the assembling faster.\n",
    "    assembler = start_assemble(K)\n",
    "    assembler_M = start_assemble(M)\n",
    "    \n",
    "    # It is now time to loop over all the cells in our grid. We do this by iterating\n",
    "    # over a `CellIterator`. The iterator caches some useful things for us, for example\n",
    "    # the nodal coordinates for the cell, and the local degrees of freedom.\n",
    "    @inbounds for cell in CellIterator(dh)\n",
    "        # Always remember to reset the element stiffness matrix and\n",
    "        # element mass matrix since we reuse them for all elements.\n",
    "        fill!(Ke, 0)\n",
    "        fill!(Me, 0)\n",
    "        \n",
    "        # Get the coordinates of the cell\n",
    "        coords = getcoordinates(cell)\n",
    "        \n",
    "        # For each cell we also need to reinitialize the cached values in `cellvalues`.\n",
    "        JuAFEM.reinit!(cellvalues, cell)\n",
    "        \n",
    "        # It is now time to loop over all the quadrature points in the cell and\n",
    "        # assemble the contribution to `Ke` and `Me`. The integration weight\n",
    "        # can be queried from `cellvalues` by `getdetJdV`, and the quadrature\n",
    "        # coordinate can be queried from `cellvalues` by `spatial_coordinate`\n",
    "        for q_point in 1:getnquadpoints(cellvalues)\n",
    "            dΩ = getdetJdV(cellvalues, q_point)\n",
    "            coords_qp = spatial_coordinate(cellvalues, q_point, coords)\n",
    "            \n",
    "            # calculate the heat conductivity and heat source at point `coords_qp`\n",
    "            R = Rdecay(coords_qp)\n",
    "            D = Dcoeff(coords_qp)\n",
    "            ω = omega(coords_qp)\n",
    "            \n",
    "            # For each quadrature point we loop over all the (local) shape functions.\n",
    "            # We need the value and gradient of the testfunction `v` and also the gradient\n",
    "            # of the trial function `u`. We get all of these from `cellvalues`.\n",
    "            for i in 1:n_basefuncs\n",
    "                v  = shape_value(cellvalues, q_point, i)\n",
    "                ∇v = shape_gradient(cellvalues, q_point, i)\n",
    "                for j in 1:n_basefuncs\n",
    "                    u = shape_value(cellvalues, q_point, j)\n",
    "                    ∇u = shape_gradient(cellvalues, q_point, j)\n",
    "                    vu = v ⋅ u\n",
    "                    #@show u\n",
    "                    #@show v\n",
    "                    #@show typeof(u)\n",
    "                    #@show typeof(v)\n",
    "                    #@show ∇u\n",
    "                    #@show ∇v\n",
    "                    #@show typeof(∇u)\n",
    "                    #@show typeof(∇v)\n",
    "                    Ke[i, j] -= (D * ∇v ⊡ ∇u + R * vu - ω * v ⊠ u) * dΩ\n",
    "                    Me[i, j] += vu * dΩ\n",
    "                end\n",
    "            end\n",
    "        end\n",
    "        \n",
    "        # The last step in the element loop is to assemble `Ke` and `Me`\n",
    "        # into the global `K` and `M` with `assemble!`.\n",
    "        assemble!(assembler, celldofs(cell), Ke)\n",
    "        assemble!(assembler_M, celldofs(cell), Me)\n",
    "    end\n",
    "    return K, M\n",
    "end"
   ]
  },
  {
   "cell_type": "code",
   "execution_count": 32,
   "metadata": {},
   "outputs": [
    {
     "data": {
      "text/plain": [
       "2-element Tensors.Tensor{1,2,Float64,2}:\n",
       " 0.324152\n",
       " 0.753049"
      ]
     },
     "execution_count": 32,
     "metadata": {},
     "output_type": "execute_result"
    }
   ],
   "source": [
    "x = rand(Vec{2})\n",
    "y = rand(Vec{2})"
   ]
  },
  {
   "cell_type": "code",
   "execution_count": 33,
   "metadata": {},
   "outputs": [
    {
     "data": {
      "text/plain": [
       "3-element Tensors.Tensor{1,3,Float64,3}:\n",
       " 0.0     \n",
       " 0.0     \n",
       " 0.215076"
      ]
     },
     "execution_count": 33,
     "metadata": {},
     "output_type": "execute_result"
    }
   ],
   "source": [
    "x × y"
   ]
  },
  {
   "cell_type": "code",
   "execution_count": 36,
   "metadata": {},
   "outputs": [
    {
     "name": "stdout",
     "output_type": "stream",
     "text": [
      "Variables:\n",
      "  #self# <optimized out>\n",
      "  a::Tensors.Tensor{1,2,Float64,2}\n",
      "  b::Tensors.Tensor{1,2,Float64,2}\n",
      "  v@_4 <optimized out>\n",
      "  v@_5::Tensors.Tensor{1,3,Float64,3}\n",
      "  v@_6::Float64\n",
      "  v@_7::Float64\n",
      "  v@_8::Float64\n",
      "  v@_9::Float64\n",
      "  v@_10::Float64\n",
      "\n",
      "Body:\n",
      "  begin \n",
      "      $(Expr(:inbounds, true))\n",
      "      $(Expr(:inbounds, false))\n",
      "      # meta: location /home/coopar7/.julia/v0.6/Tensors/src/tensor_products.jl cross 351\n",
      "      # meta: location /home/coopar7/.julia/v0.6/Tensors/src/utilities.jl # line 3:\n",
      "      $(Expr(:inbounds, true))\n",
      "      $(Expr(:inbounds, false))\n",
      "      # meta: location /home/coopar7/.julia/v0.6/Tensors/src/indexing.jl getindex 45\n",
      "      9: \n",
      "      10:  # line 46:\n",
      "      $(Expr(:inbounds, true))\n",
      "      v@_9::Float64 = (Base.getfield)((Core.getfield)(a::Tensors.Tensor{1,2,Float64,2}, :data)::Tuple{Float64,Float64}, 1)::Float64\n",
      "      $(Expr(:inbounds, :pop))\n",
      "      # meta: pop location\n",
      "      $(Expr(:inbounds, :pop))\n",
      "      $(Expr(:inbounds, false))\n",
      "      # meta: location /home/coopar7/.julia/v0.6/Tensors/src/indexing.jl getindex 45\n",
      "      19: \n",
      "      20:  # line 46:\n",
      "      $(Expr(:inbounds, true))\n",
      "      v@_8::Float64 = (Base.getfield)((Core.getfield)(b::Tensors.Tensor{1,2,Float64,2}, :data)::Tuple{Float64,Float64}, 2)::Float64\n",
      "      $(Expr(:inbounds, :pop))\n",
      "      # meta: pop location\n",
      "      $(Expr(:inbounds, :pop))\n",
      "      $(Expr(:inbounds, false))\n",
      "      # meta: location /home/coopar7/.julia/v0.6/Tensors/src/indexing.jl getindex 45\n",
      "      29: \n",
      "      30:  # line 46:\n",
      "      $(Expr(:inbounds, true))\n",
      "      v@_7::Float64 = (Base.getfield)((Core.getfield)(a::Tensors.Tensor{1,2,Float64,2}, :data)::Tuple{Float64,Float64}, 2)::Float64\n",
      "      $(Expr(:inbounds, :pop))\n",
      "      # meta: pop location\n",
      "      $(Expr(:inbounds, :pop))\n",
      "      $(Expr(:inbounds, false))\n",
      "      # meta: location /home/coopar7/.julia/v0.6/Tensors/src/indexing.jl getindex 45\n",
      "      39: \n",
      "      40:  # line 46:\n",
      "      $(Expr(:inbounds, true))\n",
      "      v@_6::Float64 = (Base.getfield)((Core.getfield)(b::Tensors.Tensor{1,2,Float64,2}, :data)::Tuple{Float64,Float64}, 1)::Float64\n",
      "      $(Expr(:inbounds, :pop))\n",
      "      # meta: pop location\n",
      "      $(Expr(:inbounds, :pop))\n",
      "      v@_5::Tensors.Tensor{1,3,Float64,3} = $(Expr(:new, Tensors.Tensor{1,3,Float64,3}, :((Core.tuple)((Base.sitofp)(Float64, 0)::Float64, (Base.sitofp)(Float64, 0)::Float64, (Base.sub_float)((Base.mul_float)(v@_9, v@_8)::Float64, (Base.mul_float)(v@_7, v@_6)::Float64)::Float64)::Tuple{Float64,Float64,Float64})))\n",
      "      $(Expr(:inbounds, :pop))\n",
      "      # meta: pop location\n",
      "      # meta: pop location\n",
      "      $(Expr(:inbounds, :pop))\n",
      "      $(Expr(:inbounds, false))\n",
      "      # meta: location /home/coopar7/.julia/v0.6/Tensors/src/indexing.jl getindex 45\n",
      "      54: \n",
      "      55:  # line 46:\n",
      "      $(Expr(:inbounds, true))\n",
      "      v@_10::Float64 = (Base.getfield)((Core.getfield)(v@_5::Tensors.Tensor{1,3,Float64,3}, :data)::Tuple{Float64,Float64,Float64}, 3)::Float64\n",
      "      $(Expr(:inbounds, :pop))\n",
      "      # meta: pop location\n",
      "      $(Expr(:inbounds, :pop))\n",
      "      $(Expr(:inbounds, :pop)) # line 48:\n",
      "      return v@_10::Float64\n",
      "  end::Float64\n"
     ]
    }
   ],
   "source": [
    "@code_warntype x ⊠ y"
   ]
  },
  {
   "cell_type": "code",
   "execution_count": 51,
   "metadata": {},
   "outputs": [
    {
     "data": {
      "text/plain": [
       "-0.5425379608943721"
      ]
     },
     "execution_count": 51,
     "metadata": {},
     "output_type": "execute_result"
    }
   ],
   "source": [
    "skewprod(x,y)"
   ]
  },
  {
   "cell_type": "markdown",
   "metadata": {},
   "source": [
    "\\begin{align}\n",
    "    \\int_{\\Omega} \\vec{v} \\cdot \\vec{u}_t \\, d\\Omega\n",
    "    = -\\int_{\\Omega}\n",
    "    D \\, \\nabla \\vec{v} : \\nabla \\vec{u} +\n",
    "    R \\, \\vec{v} \\cdot \\vec{u} -\n",
    "    \\omega \\, (\\vec{v} \\times \\vec{u})_z\n",
    "    \\, d\\Omega\n",
    "\\end{align}"
   ]
  },
  {
   "cell_type": "code",
   "execution_count": 47,
   "metadata": {},
   "outputs": [],
   "source": [
    "# # Now, loop over the edges of the cell for contributions to `Ke`\n",
    "# #   If \"Neumann Boundary\" is a subset of boundary points, use:\n",
    "# #     `onboundary(cell, face) && (cellid(cell), face) ∈ getfaceset(grid, \"Neumann Boundary\")`\n",
    "# if evalfaceintegrals\n",
    "#    for face in 1:nfaces(cell)\n",
    "#        if !onboundary(cell, face)\n",
    "#            # Initialize face values\n",
    "#            reinit!(facevalues, cell, face)\n",
    "# \n",
    "#            for q_point in 1:getnquadpoints(facevalues)\n",
    "#                dΓ = getdetJdV(facevalues, q_point)\n",
    "#                coords_qp = spatial_coordinate(facevalues, q_point, coords)\n",
    "# \n",
    "#                # calculate the heat conductivity and heat source at point `coords_qp`\n",
    "#                k_cond = conductivity(coords_qp)\n",
    "#                kdΓ = k_cond * dΓ\n",
    "# \n",
    "#                for i in 1:getnbasefunctions(facevalues)\n",
    "#                    n = getnormal(facevalues, q_point)\n",
    "#                    v = shape_value(facevalues, q_point, i)\n",
    "#                    vkdΓ = v * kdΓ\n",
    "#                    for j in 1:n_basefuncs\n",
    "#                        ∇u = shape_gradient(facevalues, q_point, j)\n",
    "#                        Ke[i,j] += (∇u⋅n) * vkdΓ\n",
    "#                    end\n",
    "#                end\n",
    "#            end\n",
    "#        end\n",
    "#    end\n",
    "# end"
   ]
  },
  {
   "cell_type": "markdown",
   "metadata": {},
   "source": [
    "### Solution of the differential equation system\n",
    "The last step is to solve the system. First we call `doassemble`\n",
    "to obtain the global stiffness matrix `K` and force vector `f`.\n",
    "Then, to account for the boundary conditions, we use the `apply!` function.\n",
    "This modifies elements in `K` and `f` respectively, such that\n",
    "we can get the correct solution vector `u` by using `\\`."
   ]
  },
  {
   "cell_type": "code",
   "execution_count": 63,
   "metadata": {},
   "outputs": [],
   "source": [
    "fill!(K,0.0)\n",
    "fill!(M,0.0)\n",
    "K, M = doassemble(cellvalues, facevalues, K, M, dh);"
   ]
  },
  {
   "cell_type": "code",
   "execution_count": 64,
   "metadata": {},
   "outputs": [],
   "source": [
    "Tf = eltype(K)\n",
    "u0 = zeros(Tf, size(K,2))\n",
    "for i = 2:2:size(K,2); u0[i] = one(Tf); end"
   ]
  },
  {
   "cell_type": "code",
   "execution_count": 65,
   "metadata": {},
   "outputs": [
    {
     "data": {
      "text/plain": [
       "f! (generic function with 1 method)"
      ]
     },
     "execution_count": 65,
     "metadata": {},
     "output_type": "execute_result"
    }
   ],
   "source": [
    "f!(dx,x,p,t) = A_mul_B!(dx,p[1],x)"
   ]
  },
  {
   "cell_type": "code",
   "execution_count": 66,
   "metadata": {
    "scrolled": true
   },
   "outputs": [
    {
     "data": {
      "text/plain": [
       "retcode: Success\n",
       "Interpolation: 1st order linear\n",
       "t: 2-element Array{Float64,1}:\n",
       " 0.0\n",
       " 0.1\n",
       "u: 2-element Array{Array{Float64,1},1}:\n",
       " [0.0, 1.0, 0.0, 1.0, 0.0, 1.0, 0.0, 1.0, 0.0, 1.0  …  0.0, 1.0, 0.0, 1.0, 0.0, 1.0, 0.0, 1.0, 0.0, 1.0]                                                                                                                                \n",
       " [-0.000563465, 0.885054, 0.000652904, 0.882584, -0.000738389, 0.880278, 0.000753563, 0.887344, -0.00010594, 0.90266  …  0.00125864, 0.848621, 0.00137504, 0.835466, 0.00293492, 0.842182, -0.00855402, 0.835161, -0.00884748, 0.842265]"
      ]
     },
     "execution_count": 66,
     "metadata": {},
     "output_type": "execute_result"
    }
   ],
   "source": [
    "p = [K]\n",
    "tspan = (0.0,0.1)\n",
    "prob = ODEProblem(f!,u0,tspan,p,mass_matrix=M)\n",
    "sol = solve(prob,ImplicitEuler(),saveat=tspan)"
   ]
  },
  {
   "cell_type": "code",
   "execution_count": 67,
   "metadata": {},
   "outputs": [],
   "source": [
    "u = sol.u[end];"
   ]
  },
  {
   "cell_type": "markdown",
   "metadata": {},
   "source": [
    "### Exporting to VTK\n",
    "To visualize the result we export the grid and our field `u`\n",
    "to a VTK-file, which can be viewed in e.g. [ParaView](https://www.paraview.org/)."
   ]
  },
  {
   "cell_type": "code",
   "execution_count": 68,
   "metadata": {},
   "outputs": [
    {
     "data": {
      "text/plain": [
       "1-element Array{String,1}:\n",
       " \"bloch_torrey_equation.vtu\""
      ]
     },
     "execution_count": 68,
     "metadata": {},
     "output_type": "execute_result"
    },
    {
     "name": "stderr",
     "output_type": "stream",
     "text": [
      "WARNING: both OrdinaryDiffEq and DiffEqBase export \"isautodifferentiable\"; uses of it in module DiffEqPhysics must be qualified\n",
      "WARNING: both DelayDiffEq and Sundials export \"isautodifferentiable\"; uses of it in module DifferentialEquations must be qualified\n"
     ]
    }
   ],
   "source": [
    "vtk_grid(\"bloch_torrey_equation\", dh) do vtk\n",
    "    vtk_point_data(vtk, dh, u)\n",
    "end"
   ]
  },
  {
   "cell_type": "markdown",
   "metadata": {},
   "source": [
    "*This notebook was generated using [Literate.jl](https://github.com/fredrikekre/Literate.jl).*"
   ]
  }
 ],
 "metadata": {
  "kernelspec": {
   "display_name": "Julia 0.6.4",
   "language": "julia",
   "name": "julia-0.6"
  },
  "language_info": {
   "file_extension": ".jl",
   "mimetype": "application/julia",
   "name": "julia",
   "version": "0.6.4"
  }
 },
 "nbformat": 4,
 "nbformat_minor": 3
}
