{
 "cells": [
  {
   "cell_type": "markdown",
   "metadata": {},
   "source": [
    "# Circle Packing"
   ]
  },
  {
   "cell_type": "markdown",
   "metadata": {},
   "source": [
    "## Introduction\n",
    "\n",
    "We aim to pack some circles"
   ]
  },
  {
   "cell_type": "code",
   "execution_count": 1,
   "metadata": {},
   "outputs": [],
   "source": [
    "HOME = \"/home/coopar7/Documents/code/\"\n",
    "#HOME = \"/home/jon/Documents/UBCMRI/\"\n",
    "cd(HOME * \"BlochTorreyExperiments-master/\")"
   ]
  },
  {
   "cell_type": "code",
   "execution_count": 2,
   "metadata": {
    "scrolled": true
   },
   "outputs": [
    {
     "data": {
      "text/plain": [
       "3-element Array{Float64,1}:\n",
       " 1.0   \n",
       " 1.0e-6\n",
       " 1.0   "
      ]
     },
     "execution_count": 2,
     "metadata": {},
     "output_type": "execute_result"
    }
   ],
   "source": [
    "using Traceur\n",
    "using BenchmarkTools\n",
    "using StaticArrays\n",
    "using JuAFEM\n",
    "using JuAFEM: vertices, faces, edges\n",
    "using MATLAB\n",
    "using LinearMaps\n",
    "#using DifferentialEquations\n",
    "using Optim\n",
    "#using Cuba\n",
    "using Distributions\n",
    "#using ApproxFun\n",
    "#using Plots\n",
    "using ForwardDiff\n",
    "using ReverseDiff\n",
    "\n",
    "include(\"Experiments/MyelinWaterOrientation/Geometry/geometry_utils.jl\")\n",
    "include(\"Experiments/MyelinWaterOrientation/Geometry/circle_packing.jl\")\n",
    "include(\"Experiments/MyelinWaterOrientation/Utils/mesh_utils.jl\")\n",
    "include(\"Experiments/MyelinWaterOrientation/Utils/blochtorrey_utils.jl\")\n",
    "Revise.track(\"Experiments/MyelinWaterOrientation/Geometry/geometry_utils.jl\")\n",
    "Revise.track(\"Experiments/MyelinWaterOrientation/Geometry/circle_packing.jl\")\n",
    "Revise.track(\"Experiments/MyelinWaterOrientation/Utils/mesh_utils.jl\")\n",
    "Revise.track(\"Experiments/MyelinWaterOrientation/Utils/blochtorrey_utils.jl\")\n",
    "\n",
    "# α or k == R_shape, θ == R_scale\n",
    "R_mu = 0.46 # Axon mean radius [um] ; this is taken to be outer radius\n",
    "R_shape = 5.7 # Axon radius shape parameter for Gamma distribution (Xu)\n",
    "R_scale = R_mu / R_shape # Axon radius scale parameter [um]\n",
    "R_σ = sqrt(R_shape)*R_scale; # Axon radius variance\n",
    "\n",
    "const Dim = 2\n",
    "Ncircles = 50\n",
    "rs = rand(Gamma(R_shape, R_scale), Ncircles);\n",
    "os = initialize_origins(rs);\n",
    "\n",
    "η = 0.80 # goal packing density\n",
    "ϵ = 0.1*R_mu # overlap occurs when distance between circle edges is ≤ ϵ\n",
    "α = 1.0 # density penalty weight\n",
    "β = 1e-6 # mutual distance penalty weight\n",
    "λ = 1.0 # overlap penalty weight (or lagrange multiplier for constrained version)\n",
    "w = [α, β, λ] # vector of weights"
   ]
  },
  {
   "cell_type": "code",
   "execution_count": null,
   "metadata": {},
   "outputs": [],
   "source": []
  },
  {
   "cell_type": "code",
   "execution_count": null,
   "metadata": {},
   "outputs": [],
   "source": []
  },
  {
   "cell_type": "code",
   "execution_count": 3,
   "metadata": {},
   "outputs": [],
   "source": [
    "# α or k == R_shape, θ == R_scale\n",
    "R_mu = 0.46 # Axon mean radius [um] ; this is taken to be outer radius\n",
    "R_shape = 5.7 # Axon radius shape parameter for Gamma distribution (Xu)\n",
    "R_scale = R_mu / R_shape # Axon radius scale parameter [um]\n",
    "R_σ = sqrt(R_shape)*R_scale; # Axon radius variance"
   ]
  },
  {
   "cell_type": "code",
   "execution_count": 8,
   "metadata": {},
   "outputs": [],
   "source": [
    "revise()"
   ]
  },
  {
   "cell_type": "code",
   "execution_count": 9,
   "metadata": {},
   "outputs": [],
   "source": [
    "const Dim = 2\n",
    "Ncircles = 50\n",
    "rs = rand(Gamma(R_shape, R_scale), Ncircles);\n",
    "os = initialize_origins(rs);"
   ]
  },
  {
   "cell_type": "code",
   "execution_count": 13,
   "metadata": {
    "scrolled": false
   },
   "outputs": [
    {
     "name": "stdout",
     "output_type": "stream",
     "text": [
      "  3.380663 seconds (783.90 k allocations: 50.314 MiB, 0.90% gc time)\n"
     ]
    }
   ],
   "source": [
    "η = 0.80 # goal packing density\n",
    "ϵ = 0.1*R_mu # overlap occurs when distance between circle edges is ≤ ϵ\n",
    "α = 1.0 # density penalty weight\n",
    "β = 1e-6 # mutual distance penalty weight\n",
    "λ = 1.0 # overlap penalty weight (or lagrange multiplier for constrained version)\n",
    "w = [α, β, λ] # vector of weights\n",
    "\n",
    "@time circles_opt, opt_result = pack_circles(rs;\n",
    "    autodiff = true,\n",
    "    reversemode = false,\n",
    "    initial_origins = os,\n",
    "    goaldensity = η,\n",
    "    distancescale = R_mu,\n",
    "    weights = w,\n",
    "    epsilon = ϵ);"
   ]
  },
  {
   "cell_type": "code",
   "execution_count": 232,
   "metadata": {
    "scrolled": false
   },
   "outputs": [],
   "source": [
    "opt_result;"
   ]
  },
  {
   "cell_type": "code",
   "execution_count": null,
   "metadata": {},
   "outputs": [],
   "source": [
    "estimate_density(circles_opt)"
   ]
  },
  {
   "cell_type": "code",
   "execution_count": null,
   "metadata": {},
   "outputs": [],
   "source": []
  },
  {
   "cell_type": "code",
   "execution_count": 14,
   "metadata": {},
   "outputs": [],
   "source": [
    "cs_plot = circles_opt;"
   ]
  },
  {
   "cell_type": "code",
   "execution_count": 15,
   "metadata": {},
   "outputs": [
    {
     "data": {
      "text/plain": [
       "0.7940156992118914"
      ]
     },
     "execution_count": 15,
     "metadata": {},
     "output_type": "execute_result"
    }
   ],
   "source": [
    "estimate_density(cs_plot)"
   ]
  },
  {
   "cell_type": "code",
   "execution_count": null,
   "metadata": {},
   "outputs": [],
   "source": []
  },
  {
   "cell_type": "code",
   "execution_count": 235,
   "metadata": {},
   "outputs": [],
   "source": [
    "revise()"
   ]
  },
  {
   "cell_type": "code",
   "execution_count": 236,
   "metadata": {
    "scrolled": false
   },
   "outputs": [
    {
     "data": {
      "text/plain": [
       "Rectangle{2,Float64}([-4.65403, -1.74316], [12.851, 14.8568])"
      ]
     },
     "execution_count": 236,
     "metadata": {},
     "output_type": "execute_result"
    }
   ],
   "source": [
    "Nmin = 50; # points for smallest circle\n",
    "h0 = 2pi*mean(c->radius(c), cs_plot)/Nmin; # approximate scale\n",
    "#h0 = ϵ\n",
    "eta = 4.0; # approx ratio between largest/smallest edges\n",
    "b_box = bounding_box(cs_plot)"
   ]
  },
  {
   "cell_type": "code",
   "execution_count": 237,
   "metadata": {},
   "outputs": [],
   "source": [
    "#FinElPath = HOME * \"MatlabTools/FiniteElements/\"\n",
    "#mxcall(:addpath, 0, mxcall(:genpath, 1, FinElPath))"
   ]
  },
  {
   "cell_type": "code",
   "execution_count": 238,
   "metadata": {
    "scrolled": true
   },
   "outputs": [],
   "source": [
    "#fullgrid, subgrids = square_mesh_with_circles(b_box, cs_plot, h0, eta, isunion=true);"
   ]
  },
  {
   "cell_type": "code",
   "execution_count": null,
   "metadata": {},
   "outputs": [],
   "source": []
  },
  {
   "cell_type": "code",
   "execution_count": 17,
   "metadata": {
    "scrolled": false
   },
   "outputs": [],
   "source": [
    "overlap_mat = zeros(Bool, Ncircles, Ncircles);\n",
    "[overlap_mat[i,j] = is_overlapping(cs_plot[i], cs_plot[j]) for i in 1:Ncircles for j in 1:Ncircles]\n",
    "overlap_mat;"
   ]
  },
  {
   "cell_type": "code",
   "execution_count": 18,
   "metadata": {},
   "outputs": [
    {
     "name": "stdout",
     "output_type": "stream",
     "text": [
      "min_dist = 0.04553227447201891\n",
      "eps_dist = 0.046000000000000006\n",
      "(100 * (eps_dist - min_dist)) / eps_dist = 1.0167946260458662\n"
     ]
    }
   ],
   "source": [
    "dist_mat = zeros(Ncircles, Ncircles);\n",
    "for i in 1:Ncircles-1, j in 1:i-1\n",
    "    dist_mat[i,j] = signed_edge_distance(cs_plot[i], cs_plot[j])\n",
    "end\n",
    "min_dist = minimum(x->x==zero(x) ? Inf : x, dist_mat)\n",
    "eps_dist = ϵ\n",
    "@show min_dist\n",
    "@show eps_dist\n",
    "@show 100*(eps_dist - min_dist)/eps_dist;"
   ]
  },
  {
   "cell_type": "code",
   "execution_count": 241,
   "metadata": {},
   "outputs": [
    {
     "name": "stdout",
     "output_type": "stream",
     "text": [
      "min_dist = 0.03643476040850213\n",
      "eps_dist = 0.046000000000000006\n",
      "(100 * (eps_dist - min_dist)) / eps_dist = 20.793999111951898\n"
     ]
    }
   ],
   "source": [
    "dist_mat;"
   ]
  },
  {
   "cell_type": "code",
   "execution_count": null,
   "metadata": {},
   "outputs": [],
   "source": [
    "revise()"
   ]
  },
  {
   "cell_type": "code",
   "execution_count": null,
   "metadata": {},
   "outputs": [],
   "source": []
  }
 ],
 "metadata": {
  "kernelspec": {
   "display_name": "Julia 0.6.4",
   "language": "julia",
   "name": "julia-0.6"
  },
  "language_info": {
   "file_extension": ".jl",
   "mimetype": "application/julia",
   "name": "julia",
   "version": "0.6.4"
  }
 },
 "nbformat": 4,
 "nbformat_minor": 3
}
