{
 "cells": [
  {
   "cell_type": "markdown",
   "metadata": {},
   "source": [
    "# Bloch-Torrey Equation"
   ]
  },
  {
   "cell_type": "markdown",
   "metadata": {},
   "source": [
    "## Introduction\n",
    "\n",
    "Here we solve the Bloch-Torrey equation on a unit square, with the diffusion coefficient $D(x)$, relaxation rate $R(x)$, and resonance frequency $\\omega(x)$ all given as a generic functions.\n",
    "The strong form of the Bloch-Torrey equation is given by\n",
    "\n",
    "\\begin{align}\n",
    "    \\frac{\\partial u_x}{\\partial t} &= \\nabla \\cdot (D \\nabla u_x) - R u_x + \\omega u_y  \\quad x \\in \\Omega\\\\\n",
    "    \\frac{\\partial u_y}{\\partial t} &= \\nabla \\cdot (D \\nabla u_y) - R u_y - \\omega u_x  \\quad x \\in \\Omega,\n",
    "\\end{align}\n",
    "\n",
    "where $\\vec{u}=[u_x,u_y]$ is the transverse magnetization, and $\\Omega$ the domain.\n",
    "\n",
    "We will consider homogeneous Neumann boundary conditions such that\n",
    "\n",
    "\\begin{align}\n",
    "    \\nabla \\vec{u}(x) \\cdot \\hat{n} &= \\vec{0}  \\quad x \\in \\partial \\Omega\\\\\n",
    "\\end{align}\n",
    "\n",
    "where $\\partial \\Omega$ denotes the boundary of $\\Omega$, and $\\cdot$ is a tensor contraction.\n",
    "\n",
    "The initial condition is given generically as\n",
    "\n",
    "\\begin{equation}\n",
    "    \\vec{u}(x,t=0) = \\vec{u}_0 (x)  \\quad x \\in \\Omega\n",
    "\\end{equation}\n",
    "\n",
    "\n",
    "The resulting weak form is given by\n",
    "\\begin{align}\n",
    "    \\int_{\\Omega} \\vec{v} \\cdot \\vec{u}_t \\, d\\Omega\n",
    "    &= -\\int_{\\Omega}\n",
    "    -\\vec{v} \\cdot \\nabla \\cdot ( D \\, \\nabla \\vec{u} ) +\n",
    "    R \\, \\vec{v} \\cdot \\vec{u} -\n",
    "    \\omega \\, \\vec{v} \\times \\vec{u}\n",
    "    \\, d\\Omega \\\\\n",
    "    &= -\\int_{\\Omega}\n",
    "    D \\, \\nabla \\vec{v} : \\nabla \\vec{u} +\n",
    "    R \\, \\vec{v} \\cdot \\vec{u} -\n",
    "    \\omega \\, \\vec{v} \\times \\vec{u}\n",
    "    \\, d\\Omega + \n",
    "    \\int_{\\partial\\Omega} \\vec{v} \\cdot (D\\nabla\\vec{u} \\cdot \\hat{n}) \\, d\\Gamma,\n",
    "\\end{align}\n",
    "where $\\vec{v}$ is a suitable test function.\n",
    "\n",
    "In this notebook, we will assume homogeneous Neumann boundary conditions on all boundaries by taking $D\\nabla\\vec{u} \\cdot \\hat{n} = 0$. Therefore, the final weak form is simply\n",
    "\\begin{align}\n",
    "    \\int_{\\Omega} \\vec{v} \\cdot \\vec{u}_t \\, d\\Omega\n",
    "    = -\\int_{\\Omega}\n",
    "    D \\, \\nabla \\vec{v} : \\nabla \\vec{u} +\n",
    "    R \\, \\vec{v} \\cdot \\vec{u} -\n",
    "    \\omega \\, \\vec{v} \\times \\vec{u}\n",
    "    \\, d\\Omega\n",
    "\\end{align}\n",
    "\n",
    "Note: in two dimensions, the cross product is simply a scalar. However, `Tensors.jl` defines the two dimensional cross product by first extending the 2D vectors into 3D. Below, we use the symbol $\\boxtimes$ to denote the scalar version, which is the same as taking the third component of the vector version"
   ]
  },
  {
   "cell_type": "markdown",
   "metadata": {},
   "source": [
    "## Commented Program\n",
    "\n",
    "Now we solve the problem in JuAFEM. What follows is a program spliced with comments.\n",
    "\n",
    "First we load the JuAFEM package."
   ]
  },
  {
   "cell_type": "code",
   "execution_count": 1,
   "metadata": {},
   "outputs": [],
   "source": [
    "# using Distributed\n",
    "# addprocs(8; restrict = true, enable_threaded_blas = true);\n",
    "# @everywhere begin\n",
    "#     include(\"init.jl\")\n",
    "# end"
   ]
  },
  {
   "cell_type": "code",
   "execution_count": 2,
   "metadata": {
    "scrolled": true
   },
   "outputs": [
    {
     "name": "stderr",
     "output_type": "stream",
     "text": [
      "┌ Info: Recompiling stale cache file /home/jon/.julia/compiled/v0.7/BlochTorreyUtils.ji for BlochTorreyUtils [top-level]\n",
      "└ @ Base loading.jl:1185\n",
      "┌ Info: Recompiling stale cache file /home/jon/.julia/compiled/v0.7/BlochTorreySolvers.ji for BlochTorreySolvers [top-level]\n",
      "└ @ Base loading.jl:1185\n"
     ]
    }
   ],
   "source": [
    "include(\"init.jl\")"
   ]
  },
  {
   "cell_type": "markdown",
   "metadata": {},
   "source": [
    "**Pack circles**: Pack circles with a specified packing density $\\eta$"
   ]
  },
  {
   "cell_type": "code",
   "execution_count": 3,
   "metadata": {},
   "outputs": [],
   "source": [
    "btparams = BlochTorreyParameters{Float64}(\n",
    "    theta = π/2,\n",
    "    AxonPDensity = 0.75,\n",
    "    g_ratio = 0.8,\n",
    "    D_Tissue = 25, # [μm²/s]\n",
    "    D_Sheath = 25, # [μm²/s]\n",
    "    D_Axon = 25 # [μm²/s]\n",
    ");"
   ]
  },
  {
   "cell_type": "code",
   "execution_count": 4,
   "metadata": {},
   "outputs": [
    {
     "data": {
      "text/plain": [
       "26.105103640881353"
      ]
     },
     "execution_count": 4,
     "metadata": {},
     "output_type": "execute_result"
    }
   ],
   "source": [
    "TE_typical = 10e-3\n",
    "nDim = 2\n",
    "dist_typical = (2π * btparams.R_mu)/4\n",
    "time_typical = TE_typical/2\n",
    "D_Maximal_Dephasing = dist_typical^2/(2 * nDim * time_typical)"
   ]
  },
  {
   "cell_type": "code",
   "execution_count": 5,
   "metadata": {},
   "outputs": [
    {
     "name": "stdout",
     "output_type": "stream",
     "text": [
      "  1.954869 seconds (3.43 M allocations: 169.003 MiB, 3.63% gc time)\n",
      "estimate_density(initial_circles) = 0.8209027758823344\n"
     ]
    }
   ],
   "source": [
    "Dim = 2;\n",
    "Ncircles = 20;\n",
    "\n",
    "η = btparams.AxonPDensity; # goal packing density\n",
    "ϵ = 0.1 * btparams.R_mu; # overlap occurs when distance between circle edges is ≤ ϵ\n",
    "α = 1e-1; # covariance penalty weight (enforces circular distribution)\n",
    "β = 1e-6; # mutual distance penalty weight\n",
    "λ = 1.0; # overlap penalty weight (or lagrange multiplier for constrained version)\n",
    "\n",
    "rs = rand(radiidistribution(btparams), Ncircles);\n",
    "@time initial_circles = GreedyCirclePacking.pack(rs; goaldensity = 1.0, iters = 100)\n",
    "@show estimate_density(initial_circles);"
   ]
  },
  {
   "cell_type": "code",
   "execution_count": 6,
   "metadata": {},
   "outputs": [
    {
     "name": "stdout",
     "output_type": "stream",
     "text": [
      "minimum_signed_edge_distance(initial_circles) = -2.220446049250313e-16\n"
     ]
    }
   ],
   "source": [
    "@show minimum_signed_edge_distance(initial_circles);"
   ]
  },
  {
   "cell_type": "code",
   "execution_count": 7,
   "metadata": {},
   "outputs": [
    {
     "name": "stdout",
     "output_type": "stream",
     "text": [
      "estimate_density(initial_circles) = 0.8209027758823344\n"
     ]
    }
   ],
   "source": [
    "@show estimate_density(initial_circles);"
   ]
  },
  {
   "cell_type": "code",
   "execution_count": 8,
   "metadata": {
    "scrolled": true
   },
   "outputs": [
    {
     "name": "stdout",
     "output_type": "stream",
     "text": [
      "  5.243768 seconds (11.88 M allocations: 592.758 MiB, 8.58% gc time)\n"
     ]
    }
   ],
   "source": [
    "@time outer_circles = EnergyCirclePacking.pack(initial_circles;\n",
    "    autodiff = false,\n",
    "    secondorder = false,\n",
    "    setcallback = false,\n",
    "    goaldensity = η,\n",
    "    distancescale = btparams.R_mu,\n",
    "    weights = [α, β, λ],\n",
    "    epsilon = ϵ\n",
    ");\n",
    "inner_circles = scale_shape.(outer_circles, btparams.g_ratio);"
   ]
  },
  {
   "cell_type": "code",
   "execution_count": 9,
   "metadata": {},
   "outputs": [
    {
     "name": "stdout",
     "output_type": "stream",
     "text": [
      "covariance_energy(outer_circles) = 0.32344867913058284\n",
      "estimate_density(outer_circles) = 0.7499999999999996\n",
      "is_any_overlapping(outer_circles) = false\n",
      "(dmin, ϵ, dmin > ϵ) = (0.03245243435217232, 0.046000000000000006, false)\n"
     ]
    }
   ],
   "source": [
    "dmin = minimum_signed_edge_distance(outer_circles)\n",
    "@show covariance_energy(outer_circles)\n",
    "@show estimate_density(outer_circles)\n",
    "@show is_any_overlapping(outer_circles)\n",
    "@show (dmin, ϵ, dmin > ϵ);"
   ]
  },
  {
   "cell_type": "markdown",
   "metadata": {},
   "source": [
    "**Generate mesh**: Rectangular mesh with circles possibly only partly contained or completely excluded"
   ]
  },
  {
   "cell_type": "code",
   "execution_count": 10,
   "metadata": {},
   "outputs": [
    {
     "data": {
      "text/plain": [
       "0.6"
      ]
     },
     "execution_count": 10,
     "metadata": {},
     "output_type": "execute_result"
    }
   ],
   "source": [
    "h0 = minimum(radius.(outer_circles))*(1-btparams.g_ratio); # fraction of size of minimum torus width\n",
    "h_min = 1.0*h0; # minimum edge length\n",
    "h_max = 5.0*h0; # maximum edge length\n",
    "h_range = 10.0*h0; # distance over which h increases from h_min to h_max\n",
    "h_rate = 0.6; # rate of increase of h from circle boundaries (power law; smaller = faster radial increase)"
   ]
  },
  {
   "cell_type": "code",
   "execution_count": 11,
   "metadata": {},
   "outputs": [],
   "source": [
    "bdry, _ = opt_subdomain(outer_circles);"
   ]
  },
  {
   "cell_type": "code",
   "execution_count": 12,
   "metadata": {
    "scrolled": false
   },
   "outputs": [
    {
     "name": "stdout",
     "output_type": "stream",
     "text": [
      "1/20: Interior\n",
      "2/20: Interior\n",
      "3/20: Interior\n",
      "4/20: Interior\n",
      "5/20: Interior\n",
      "6/20: Interior\n",
      "7/20: Interior\n",
      "8/20: Interior\n",
      "9/20: Interior\n",
      "10/20: Interior\n",
      "11/20: Interior\n",
      "12/20: Interior\n",
      "13/20: Interior\n",
      "14/20: Interior\n",
      "15/20: Interior\n",
      "16/20: Interior\n",
      "17/20: Interior\n",
      "18/20: Interior\n",
      "19/20: Interior\n",
      "20/20: Interior\n",
      "1/20: Annular\n",
      "2/20: Annular\n",
      "3/20: Annular\n",
      "4/20: Annular\n",
      "5/20: Annular\n",
      "6/20: Annular\n",
      "7/20: Annular\n",
      "8/20: Annular\n",
      "9/20: Annular\n",
      "10/20: Annular\n",
      "11/20: Annular\n",
      "12/20: Annular\n",
      "13/20: Annular\n",
      "14/20: Annular\n",
      "15/20: Annular\n",
      "16/20: Annular\n",
      "17/20: Annular\n",
      "18/20: Annular\n",
      "19/20: Annular\n",
      "20/20: Annular\n",
      "1/1, 1/1: Exterior\n",
      " 57.182816 seconds (270.95 M allocations: 8.413 GiB, 10.03% gc time)\n"
     ]
    }
   ],
   "source": [
    "@time exteriorgrids, torigrids, interiorgrids, parentcircleindices = disjoint_rect_mesh_with_tori(\n",
    "    bdry, inner_circles, outer_circles, h_min, h_max, h_range, h_rate;\n",
    "    CIRCLESTALLITERS = 500, EXTERIORSTALLITERS = 1000, plotgrids = false, exterior_tiling = (1, 1)\n",
    ");"
   ]
  },
  {
   "cell_type": "code",
   "execution_count": 13,
   "metadata": {
    "scrolled": true
   },
   "outputs": [],
   "source": [
    "simpplot(vcat(exteriorgrids[:], torigrids, interiorgrids); newfigure = true, axis = mxaxis(bdry));"
   ]
  },
  {
   "cell_type": "code",
   "execution_count": 14,
   "metadata": {},
   "outputs": [
    {
     "data": {
      "text/plain": [
       "-1.7763568394002505e-15"
      ]
     },
     "execution_count": 14,
     "metadata": {},
     "output_type": "execute_result"
    }
   ],
   "source": [
    "sum(area.(exteriorgrids)) + sum(area.(torigrids)) + sum(area.(interiorgrids)) - area(bdry)"
   ]
  },
  {
   "cell_type": "markdown",
   "metadata": {},
   "source": [
    "## Diffusion coefficient $D(x)$, relaxation rate $R(x)$, and resonance frequency $\\omega(x)$"
   ]
  },
  {
   "cell_type": "markdown",
   "metadata": {},
   "source": [
    "These functions are defined within `doassemble!`"
   ]
  },
  {
   "cell_type": "markdown",
   "metadata": {},
   "source": [
    "### Trial and test functions\n",
    "A `CellValues` facilitates the process of evaluating values and gradients of\n",
    "test and trial functions (among other things). Since the problem\n",
    "is a scalar problem we will use a `CellScalarValues` object. To define\n",
    "this we need to specify an interpolation space for the shape functions.\n",
    "We use Lagrange functions (both for interpolating the function and the geometry)\n",
    "based on the reference \"cube\". We also define a quadrature rule based on the\n",
    "same reference cube. We combine the interpolation and the quadrature rule\n",
    "to a `CellScalarValues` object."
   ]
  },
  {
   "cell_type": "markdown",
   "metadata": {},
   "source": [
    "### Degrees of freedom\n",
    "Next we need to define a `DofHandler`, which will take care of numbering\n",
    "and distribution of degrees of freedom for our approximated fields.\n",
    "We create the `DofHandler` and then add a single field called `u`.\n",
    "Lastly we `close!` the `DofHandler`, it is now that the dofs are distributed\n",
    "for all the elements."
   ]
  },
  {
   "cell_type": "markdown",
   "metadata": {},
   "source": [
    "Now that we have distributed all our dofs we can create our tangent matrix,\n",
    "using `create_sparsity_pattern`. This function returns a sparse matrix\n",
    "with the correct elements stored."
   ]
  },
  {
   "cell_type": "markdown",
   "metadata": {},
   "source": [
    "We can inspect the pattern using the `spy` function from `UnicodePlots.jl`.\n",
    "By default the stored values are set to $0$, so we first need to\n",
    "fill the stored values, e.g. `K.nzval` with something meaningful."
   ]
  },
  {
   "cell_type": "code",
   "execution_count": 15,
   "metadata": {},
   "outputs": [],
   "source": [
    "#using UnicodePlots\n",
    "#fill!(K.nzval, 1.0)\n",
    "#spy(K; height = 25)"
   ]
  },
  {
   "cell_type": "markdown",
   "metadata": {},
   "source": [
    "### Boundary conditions\n",
    "In JuAFEM constraints like Dirichlet boundary conditions are handled by a `ConstraintHandler`. However, here we will have no need to directly enforce boundary conditions, since Neumann boundary conditions have already been applied in the derivation of the weak form."
   ]
  },
  {
   "cell_type": "markdown",
   "metadata": {},
   "source": [
    "### Assembling the linear system\n",
    "Now we have all the pieces needed to assemble the linear system, $K u = f$.\n",
    "We define a function, `doassemble` to do the assembly, which takes our `cellvalues`,\n",
    "the sparse matrix and our DofHandler as input arguments. The function returns the\n",
    "assembled stiffness matrix, and the force vector."
   ]
  },
  {
   "cell_type": "code",
   "execution_count": 75,
   "metadata": {},
   "outputs": [],
   "source": [
    "myelinprob = MyelinProblem(btparams);"
   ]
  },
  {
   "cell_type": "code",
   "execution_count": 76,
   "metadata": {},
   "outputs": [],
   "source": [
    "myelindomains = createmyelindomains(exteriorgrids[:], torigrids, interiorgrids, outer_circles, inner_circles);"
   ]
  },
  {
   "cell_type": "code",
   "execution_count": 77,
   "metadata": {
    "scrolled": true
   },
   "outputs": [
    {
     "name": "stdout",
     "output_type": "stream",
     "text": [
      "  0.785202 seconds (15.28 M allocations: 288.755 MiB, 10.53% gc time)\n"
     ]
    }
   ],
   "source": [
    "@time map!(m -> doassemble!(m, myelinprob), myelindomains, myelindomains);"
   ]
  },
  {
   "cell_type": "code",
   "execution_count": 78,
   "metadata": {},
   "outputs": [
    {
     "name": "stdout",
     "output_type": "stream",
     "text": [
      "  0.047599 seconds (22.36 k allocations: 7.434 MiB)\n"
     ]
    }
   ],
   "source": [
    "@time map!(m -> (factorize!(getdomain(m)); return m), myelindomains, myelindomains);"
   ]
  },
  {
   "cell_type": "code",
   "execution_count": 79,
   "metadata": {},
   "outputs": [
    {
     "name": "stdout",
     "output_type": "stream",
     "text": [
      "  4.988116 seconds (74.51 M allocations: 2.565 GiB, 18.83% gc time)\n"
     ]
    }
   ],
   "source": [
    "@time fullmyelindomain = MyelinDomain(PermeableInterfaceRegion(), myelinprob, myelindomains);"
   ]
  },
  {
   "cell_type": "code",
   "execution_count": 80,
   "metadata": {},
   "outputs": [
    {
     "name": "stdout",
     "output_type": "stream",
     "text": [
      "  0.009448 seconds (37 allocations: 6.313 MiB)\n"
     ]
    }
   ],
   "source": [
    "@time factorize!(fullmyelindomain);"
   ]
  },
  {
   "cell_type": "code",
   "execution_count": 81,
   "metadata": {
    "scrolled": true
   },
   "outputs": [],
   "source": [
    "# for II in ips #[rand(1:length(ips))]\n",
    "#     Se = [fullmyelindomain.domain.K[2i-1,2j-1] for i in II for j in II]\n",
    "#     Se = Matrix(reshape(6 .* Se, (4,4)))\n",
    "#     @assert maximum(abs, sum(Se, dims=2)) < 5*eps(Float64)\n",
    "# end"
   ]
  },
  {
   "cell_type": "code",
   "execution_count": 82,
   "metadata": {},
   "outputs": [],
   "source": [
    "# for i in II\n",
    "#     n = getnodes(getgrid(fullmyelindomain))[i]\n",
    "#     @show n\n",
    "# end"
   ]
  },
  {
   "cell_type": "code",
   "execution_count": 83,
   "metadata": {},
   "outputs": [],
   "source": [
    "# AllNodes = getnodes(getgrid(fullmyelindomain))\n",
    "# XMatrix, YMatrix = zeros(2, length(ips)), zeros(2, length(ips))\n",
    "# for j in 1:length(ips)\n",
    "#     idx = ips[j]\n",
    "#     p1, p2 = AllNodes[idx[1]].x, AllNodes[idx[2]].x\n",
    "#     XMatrix[1,j] = p1[1]\n",
    "#     YMatrix[1,j] = p1[2]\n",
    "#     XMatrix[2,j] = p2[1]\n",
    "#     YMatrix[2,j] = p2[2]\n",
    "# end"
   ]
  },
  {
   "cell_type": "code",
   "execution_count": 84,
   "metadata": {},
   "outputs": [],
   "source": [
    "# mxcall(:plot, 0, XMatrix, YMatrix, \"bx-\")\n",
    "# mxcall(:axis, 0, \"image\")"
   ]
  },
  {
   "cell_type": "markdown",
   "metadata": {},
   "source": [
    "### Plotting the resonance frequency map $\\omega(x)$\n",
    "$\\omega(x)$ for each region can be easily created by accessing the `Omega` field of a `BlochTorreyProblem` object. Now, evaluate $\\omega(x)$ on each node `x` and plot the resuling field map overtop of the tesselation."
   ]
  },
  {
   "cell_type": "code",
   "execution_count": 85,
   "metadata": {},
   "outputs": [],
   "source": [
    "omegavalues = omegamap.(Ref(myelinprob), myelindomains);"
   ]
  },
  {
   "cell_type": "code",
   "execution_count": 86,
   "metadata": {},
   "outputs": [],
   "source": [
    "simpplot(getgrid.(myelindomains); newfigure = true, axis = mxaxis(bdry), facecol = reduce(vcat, omegavalues));"
   ]
  },
  {
   "cell_type": "markdown",
   "metadata": {},
   "source": [
    "### Solution of the differential equation system\n",
    "The last step is to solve the system. First we call `doassemble`\n",
    "to obtain the global stiffness matrix `K` and force vector `f`.\n",
    "Then, to account for the boundary conditions, we use the `apply!` function.\n",
    "This modifies elements in `K` and `f` respectively, such that\n",
    "we can get the correct solution vector `u` by using `\\`."
   ]
  },
  {
   "cell_type": "code",
   "execution_count": 87,
   "metadata": {},
   "outputs": [],
   "source": [
    "tspan = (0.0, 320.0e-3);\n",
    "dt = 10e-3;\n",
    "ts = tspan[1]:dt:tspan[2]\n",
    "# saveat = tspan[1]:dt:tspan[2];\n",
    "# tstops = (tspan[1] .+ dt/2 .+ dt .* (1:round(Int, (tspan[2]-tspan[1])/dt)))\n",
    "u0 = Vec{2}((0.0, 1.0)); # initial pi/2 pulse"
   ]
  },
  {
   "cell_type": "code",
   "execution_count": 88,
   "metadata": {},
   "outputs": [],
   "source": [
    "probs = [ODEProblem(m, interpolate(u0, m), tspan) for m in [fullmyelindomain]];"
   ]
  },
  {
   "cell_type": "code",
   "execution_count": 89,
   "metadata": {},
   "outputs": [],
   "source": [
    "sols = Vector{ODESolution}(undef, length(probs));"
   ]
  },
  {
   "cell_type": "code",
   "execution_count": 90,
   "metadata": {},
   "outputs": [
    {
     "name": "stdout",
     "output_type": "stream",
     "text": [
      "i = 1/1:  93.873167 seconds (527.32 k allocations: 15.701 GiB, 4.64% gc time)\n",
      " 93.928095 seconds (589.30 k allocations: 15.704 GiB, 4.63% gc time)\n"
     ]
    }
   ],
   "source": [
    "@time sols = map!(sols, 1:length(probs), probs) do i, prob\n",
    "    print(\"i = $i/$(length(sols)): \")\n",
    "    A = prob.p[1]\n",
    "    return @time solve(prob, ExpokitExpmv(A; m = 30);\n",
    "        dt = dt,\n",
    "        reltol = 1e-4,\n",
    "        callback = MultiSpinEchoCallback(tspan; TE = dt)\n",
    "    )\n",
    "end;"
   ]
  },
  {
   "cell_type": "code",
   "execution_count": 91,
   "metadata": {},
   "outputs": [],
   "source": [
    "Umag = reduce(vcat, norm.(reinterpret(Vec{2,Float64}, s.u[end])) for s in sols);"
   ]
  },
  {
   "cell_type": "code",
   "execution_count": 92,
   "metadata": {},
   "outputs": [],
   "source": [
    "simpplot(getgrid(fullmyelindomain); newfigure = true, axis = mxaxis(bdry), facecol = Umag);"
   ]
  },
  {
   "cell_type": "code",
   "execution_count": 93,
   "metadata": {},
   "outputs": [],
   "source": [
    "Signals = map([fullmyelindomain], sols) do m, s\n",
    "    [integrate(s(t), m) for t in tspan[1]:dt:tspan[2]]\n",
    "end;"
   ]
  },
  {
   "cell_type": "code",
   "execution_count": 94,
   "metadata": {},
   "outputs": [],
   "source": [
    "Stotal = sum(Signals);"
   ]
  },
  {
   "cell_type": "code",
   "execution_count": 95,
   "metadata": {},
   "outputs": [
    {
     "name": "stdout",
     "output_type": "stream",
     "text": [
      "btparams.R2_lp = 15.873015873015873\n",
      "(-1 / Tspan) * log(norm(Stotal[end]) / norm(Stotal[1])) = 16.8012565951162\n",
      "exp(-(tspan[end]) * btparams.R2_lp) = 0.006223859418487457\n",
      "norm(Stotal[end]) / norm(Stotal[1]) = 0.004624430223909732\n"
     ]
    }
   ],
   "source": [
    "Tspan = tspan[2] - tspan[1]\n",
    "@show btparams.R2_lp;\n",
    "@show (-1/Tspan)*log(norm(Stotal[end])/norm(Stotal[1]));\n",
    "@show exp(-tspan[end]*btparams.R2_lp);\n",
    "@show norm(Stotal[end])/norm(Stotal[1]);"
   ]
  },
  {
   "cell_type": "code",
   "execution_count": 96,
   "metadata": {},
   "outputs": [
    {
     "name": "stdout",
     "output_type": "stream",
     "text": [
      "exact_mwf = 0.2537751490041915\n"
     ]
    }
   ],
   "source": [
    "exact_mwf = getmwf(outer_circles, inner_circles, bdry);\n",
    "@show exact_mwf;"
   ]
  },
  {
   "cell_type": "code",
   "execution_count": 97,
   "metadata": {},
   "outputs": [],
   "source": [
    "mxcall(:addpath, 0, realpath(\"MATLAB/SE_corr/\"));"
   ]
  },
  {
   "cell_type": "code",
   "execution_count": 98,
   "metadata": {},
   "outputs": [
    {
     "data": {
      "text/plain": [
       "0.23526031384011473"
      ]
     },
     "execution_count": 98,
     "metadata": {},
     "output_type": "execute_result"
    }
   ],
   "source": [
    "MWImaps, MWIdist, MWIpart = fitmwfmodel(Stotal, NNLSRegression();\n",
    "    T2Range = [8e-3, 2.0],\n",
    "    spwin = [8e-3, 24.75e-3],\n",
    "    mpwin = [25.25e-3, 200e-3],\n",
    "    nT2 = 32,\n",
    "    RefConAngle = 165.0,\n",
    "    PLOTDIST = true\n",
    ");\n",
    "getmwf(NNLSRegression(), MWImaps, MWIdist, MWIpart)"
   ]
  },
  {
   "cell_type": "code",
   "execution_count": 172,
   "metadata": {},
   "outputs": [],
   "source": [
    "# TestStotalMagn = mwimodel(TwoPoolMagnToMagn(), tspan[1]:dt:tspan[2], modelfit.param)\n",
    "# TestStotal = [Vec{2}((zero(y),y)) for y in TestStotalMagn];"
   ]
  },
  {
   "cell_type": "code",
   "execution_count": 51,
   "metadata": {
    "scrolled": false
   },
   "outputs": [
    {
     "name": "stdout",
     "output_type": "stream",
     "text": [
      "Model: TwoPoolMagnToMagn()\n",
      "mwf: 0.5441897512778306\n"
     ]
    },
    {
     "data": {
      "text/plain": [
       "4×2 Array{Float64,2}:\n",
       "  3.09771   13.783 \n",
       "  2.59462   14.8841\n",
       " 40.0      381.687 \n",
       "  6.66667   31.9377"
      ]
     },
     "metadata": {},
     "output_type": "display_data"
    },
    {
     "name": "stdout",
     "output_type": "stream",
     "text": [
      "Model: ThreePoolMagnToMagn()\n",
      "mwf: 0.8808246968249974\n"
     ]
    },
    {
     "data": {
      "text/plain": [
       "6-element Array{Float64,1}:\n",
       " 11.210967506762957\n",
       "  0.0              \n",
       "  1.516840361447119\n",
       " 40.0              \n",
       "  6.666666666666667\n",
       "  6.666666666666667"
      ]
     },
     "metadata": {},
     "output_type": "display_data"
    },
    {
     "name": "stdout",
     "output_type": "stream",
     "text": [
      "Model: ThreePoolCplxToMagn()\n",
      "mwf: 0.10565155595890315\n"
     ]
    },
    {
     "data": {
      "text/plain": [
       "8×2 Array{Float64,2}:\n",
       "  1.01505       939.651    \n",
       "  5.71283         1.96669e5\n",
       "  2.87967         1.95445e5\n",
       " 92.9468          1.47292e5\n",
       " 15.3174      41360.8      \n",
       " 20.0758          2.51193e5\n",
       "  1.30218         1.65867e6\n",
       " -0.00514191      2.40204e6"
      ]
     },
     "metadata": {},
     "output_type": "display_data"
    },
    {
     "name": "stdout",
     "output_type": "stream",
     "text": [
      "Model: ThreePoolCplxToCplx()\n",
      "mwf: 0.5732925969044638\n"
     ]
    },
    {
     "data": {
      "text/plain": [
       "10-element Array{Float64,1}:\n",
       "  18.874364836492983 \n",
       "   0.0               \n",
       "  14.04837817188795  \n",
       " 333.3333333333333   \n",
       "  10.336273250604892 \n",
       "  10.13019548977947  \n",
       " -25.18618283265522  \n",
       "  50.64733690952367  \n",
       "  50.51747448309081  \n",
       "  -1.5503681393765443"
      ]
     },
     "metadata": {},
     "output_type": "display_data"
    }
   ],
   "source": [
    "for modeltype in (TwoPoolMagnToMagn(), ThreePoolMagnToMagn(), ThreePoolCplxToMagn(), ThreePoolCplxToCplx())\n",
    "    local modelfit, errors, mwf\n",
    "    println(\"Model: $modeltype\"); flush(stdout)\n",
    "    modelfit, errors = fitmwfmodel(Stotal, modeltype; TE = dt);\n",
    "    mwf = getmwf(modeltype, modelfit, errors)\n",
    "    println(\"mwf: $mwf\"); flush(stdout)\n",
    "    errors == nothing ? display(modelfit.param) : display([modelfit.param errors]); flush(stdout)\n",
    "end"
   ]
  },
  {
   "cell_type": "code",
   "execution_count": 174,
   "metadata": {},
   "outputs": [
    {
     "data": {
      "text/plain": [
       "2-element Tensor{1,2,Float64,2}:\n",
       " 4.597908069979724\n",
       " 4.597908069979724"
      ]
     },
     "execution_count": 174,
     "metadata": {},
     "output_type": "execute_result"
    }
   ],
   "source": [
    "widths(bdry)"
   ]
  },
  {
   "cell_type": "code",
   "execution_count": 52,
   "metadata": {
    "scrolled": true
   },
   "outputs": [
    {
     "name": "stdout",
     "output_type": "stream",
     "text": [
      "getmwf(outer_circles, inner_circles, bdry) = 0.2537751490041915\n",
      "getmwf(Stotal, TwoPoolMagnToMagn(); TE=dt, fitmethod=:local) = 0.5441897512778306\n",
      "getmwf(Stotal, ThreePoolMagnToMagn(); TE=dt, fitmethod=:local) = 0.8808246968249974\n",
      "getmwf(Stotal, ThreePoolCplxToMagn(); TE=dt, fitmethod=:local) = 0.10565155595890315\n",
      "getmwf(Stotal, ThreePoolCplxToCplx(); TE=dt, fitmethod=:local) = 0.5732925969044638\n"
     ]
    }
   ],
   "source": [
    "@show getmwf(outer_circles, inner_circles, bdry)\n",
    "@show getmwf(Stotal, TwoPoolMagnToMagn(); TE = dt, fitmethod = :local);\n",
    "@show getmwf(Stotal, ThreePoolMagnToMagn(); TE = dt, fitmethod = :local);\n",
    "@show getmwf(Stotal, ThreePoolCplxToMagn(); TE = dt, fitmethod = :local);\n",
    "@show getmwf(Stotal, ThreePoolCplxToCplx(); TE = dt, fitmethod = :local);"
   ]
  },
  {
   "cell_type": "code",
   "execution_count": 57,
   "metadata": {},
   "outputs": [],
   "source": [
    "p0 = initialparams(ThreePoolCplxToCplx(), ts, Stotal)[1];\n",
    "modelfit, errors = fitmwfmodel(Stotal, ThreePoolCplxToCplx(); TE = dt);"
   ]
  },
  {
   "cell_type": "code",
   "execution_count": 177,
   "metadata": {
    "scrolled": true
   },
   "outputs": [],
   "source": [
    "# mwimodel(ThreePoolCplxToCplx(), ts, modelfit.param);\n",
    "# [mwimodel(ThreePoolCplxToCplx(), ts,  modelfit.param) |> x -> reinterpret(ComplexF64, x) complex.(Stotal)]\n",
    "# [mwimodel(ThreePoolCplxToCplx(), ts, p0) |> x -> reinterpret(ComplexF64, x) complex.(Stotal)]"
   ]
  },
  {
   "cell_type": "code",
   "execution_count": 58,
   "metadata": {},
   "outputs": [],
   "source": [
    "myelin_area = intersect_area(outer_circles, bdry) - intersect_area(inner_circles, bdry)\n",
    "total_area = area(bdry)\n",
    "y_biexp = @. (total_area - myelin_area) * exp(-ts*btparams.R2_lp) + myelin_area * exp(-ts*btparams.R2_sp);"
   ]
  },
  {
   "cell_type": "code",
   "execution_count": 59,
   "metadata": {
    "scrolled": true
   },
   "outputs": [],
   "source": [
    "mxcall(:figure, 0)\n",
    "mxcall(:plot, 0, collect(1000.0.*ts), [norm.(Stotal) y_biexp])"
   ]
  },
  {
   "cell_type": "code",
   "execution_count": 60,
   "metadata": {},
   "outputs": [],
   "source": [
    "mxcall(:legend, 0, \"Simulated\", \"Bi-Exponential\")\n",
    "mxcall(:title, 0, \"Signal Magnitude vs. Time\")\n",
    "mxcall(:xlabel, 0, \"Time [ms]\"); mxcall(:xlim, 0, 1000.0 .* [tspan...])\n",
    "mxcall(:ylabel, 0, \"S(t) Magnitude\")"
   ]
  },
  {
   "cell_type": "code",
   "execution_count": 61,
   "metadata": {},
   "outputs": [],
   "source": [
    "# mxcall(:figure, 0)\n",
    "# mxcall(:plot, 0, collect(1000.0.*ts), reduce(hcat, map(S->norm.(S), Signals)))"
   ]
  },
  {
   "cell_type": "code",
   "execution_count": 39,
   "metadata": {},
   "outputs": [],
   "source": [
    "# prob = ODEProblem((du,u,p,t)->A_mul_B!(du,p[1],u), u0, tspan, (Amap,));"
   ]
  },
  {
   "cell_type": "code",
   "execution_count": 40,
   "metadata": {},
   "outputs": [],
   "source": [
    "#@time Expokit.expmv!(u, tspan[end], Amap, u0; tol=1e-4, norm=expmv_norm, m=100); # penelope: 17.42s\n",
    "#@time Expokit.expmv!(u, tspan[end], Amap, u0; tol=1e-4, norm=expmv_norm, m=50); # penelope: 30.09s\n",
    "#@time Expokit.expmv!(u, tspan[end], Amap, u0; tol=1e-4, norm=expmv_norm, m=10); # penelope: 103.5s\n",
    "#@time Expokit.expmv!(u, tspan[end], Amap, u0; tol=1e-8, norm=expmv_norm); # penelope: 53.2s\n",
    "#@time Expokit.expmv!(u, tspan[end], Amap, u0; tol=1e-6, norm=expmv_norm); # penelope: 44.4s"
   ]
  },
  {
   "cell_type": "code",
   "execution_count": 41,
   "metadata": {},
   "outputs": [],
   "source": [
    "#@time sol = solve(prob, CVODE_BDF(linear_solver=:GMRES); saveat=tspan, reltol=1e-8, alg_hints=:stiff); # penelope: 90.21s\n",
    "#@time sol = solve(prob, CVODE_BDF(linear_solver=:GMRES); saveat=tspan, reltol=1e-4, alg_hints=:stiff); # penelope: 33.44s\n",
    "#@time sol = solve(prob, CVODE_BDF(linear_solver=:BCG); saveat=tspan, reltol=1e-4, alg_hints=:stiff) # penelope: 53.66s\n",
    "#@time sol = solve(prob, CVODE_BDF(linear_solver=:TFQMR); saveat=tspan, reltol=1e-4, alg_hints=:stiff) # penelope: 18.99s but low accuracy"
   ]
  },
  {
   "cell_type": "code",
   "execution_count": 42,
   "metadata": {
    "scrolled": true
   },
   "outputs": [],
   "source": [
    "#prob_Ku = ODEProblem(K_mul_u!, u0, tspan, (K,), mass_matrix=M);\n",
    "#@time sol_Ku = solve(prob_Ku, Rosenbrock23(), saveat=tspan, reltol=1e-4, alg_hints=:stiff) #DNF\n",
    "#@time sol_Ku = solve(prob_Ku, Rodas4(), saveat=tspan, reltol=1e-4, alg_hints=:stiff) #DNF"
   ]
  },
  {
   "cell_type": "code",
   "execution_count": 43,
   "metadata": {},
   "outputs": [],
   "source": [
    "# @show norm(sol.u[end] - u)/maximum(abs,u);\n",
    "# @show maximum(sol.u[end] - u)/maximum(abs,u);"
   ]
  },
  {
   "cell_type": "code",
   "execution_count": null,
   "metadata": {},
   "outputs": [],
   "source": []
  },
  {
   "cell_type": "markdown",
   "metadata": {},
   "source": [
    "# Testing"
   ]
  },
  {
   "cell_type": "code",
   "execution_count": null,
   "metadata": {},
   "outputs": [],
   "source": [
    "using BlochTorreyUtilsTest"
   ]
  },
  {
   "cell_type": "markdown",
   "metadata": {},
   "source": [
    "### Single Axon"
   ]
  },
  {
   "cell_type": "code",
   "execution_count": null,
   "metadata": {
    "scrolled": true
   },
   "outputs": [],
   "source": [
    "BlochTorreyUtilsTest.singleaxontests(\n",
    "    BlochTorreyParameters{Float64}(\n",
    "        ChiI = -60e-9,\n",
    "        ChiA = -120e-9\n",
    "    );\n",
    "    PLOTOMEGA = false\n",
    ");"
   ]
  },
  {
   "cell_type": "markdown",
   "metadata": {},
   "source": [
    "### Multiple Axons"
   ]
  },
  {
   "cell_type": "code",
   "execution_count": null,
   "metadata": {},
   "outputs": [],
   "source": [
    "domainsetup = BlochTorreyUtilsTest.multipleaxons();"
   ]
  },
  {
   "cell_type": "code",
   "execution_count": null,
   "metadata": {},
   "outputs": [],
   "source": [
    "BlochTorreyUtilsTest.multipleaxontests(\n",
    "    BlochTorreyParameters{Float64}(\n",
    "        ChiI = -60e-9,\n",
    "        ChiA = -120e-9\n",
    "    ),\n",
    "    domainsetup;\n",
    "    PLOTOMEGA = false\n",
    ");"
   ]
  },
  {
   "cell_type": "markdown",
   "metadata": {},
   "source": [
    "### Exporting to VTK\n",
    "To visualize the result we export the grid and our field `u`\n",
    "to a VTK-file, which can be viewed in e.g. [ParaView](https://www.paraview.org/)."
   ]
  },
  {
   "cell_type": "code",
   "execution_count": null,
   "metadata": {},
   "outputs": [],
   "source": [
    "# vtk_grid(\"bloch_torrey_equation\", dh) do vtk\n",
    "#     vtk_point_data(vtk, dh, u)\n",
    "# end"
   ]
  }
 ],
 "metadata": {
  "@webio": {
   "lastCommId": null,
   "lastKernelId": null
  },
  "kernelspec": {
   "display_name": "Julia 0.7.0",
   "language": "julia",
   "name": "julia-0.7"
  },
  "language_info": {
   "file_extension": ".jl",
   "mimetype": "application/julia",
   "name": "julia",
   "version": "0.7.0"
  }
 },
 "nbformat": 4,
 "nbformat_minor": 3
}
