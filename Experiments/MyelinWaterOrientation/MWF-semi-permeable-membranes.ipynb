{
 "cells": [
  {
   "cell_type": "markdown",
   "metadata": {},
   "source": [
    "# Bloch-Torrey Equation"
   ]
  },
  {
   "cell_type": "markdown",
   "metadata": {},
   "source": [
    "## Introduction\n",
    "\n",
    "Here we solve the Bloch-Torrey equation on a unit square, with the diffusion coefficient $D(x)$, relaxation rate $R(x)$, and resonance frequency $\\omega(x)$ all given as a generic functions.\n",
    "The strong form of the Bloch-Torrey equation is given by\n",
    "\n",
    "\\begin{align}\n",
    "    \\frac{\\partial u_x}{\\partial t} &= \\nabla \\cdot (D \\nabla u_x) - R u_x + \\omega u_y  \\quad x \\in \\Omega\\\\\n",
    "    \\frac{\\partial u_y}{\\partial t} &= \\nabla \\cdot (D \\nabla u_y) - R u_y - \\omega u_x  \\quad x \\in \\Omega,\n",
    "\\end{align}\n",
    "\n",
    "where $\\vec{u}=[u_x,u_y]$ is the transverse magnetization, and $\\Omega$ the domain.\n",
    "\n",
    "We will consider homogeneous Neumann boundary conditions such that\n",
    "\n",
    "\\begin{align}\n",
    "    \\nabla \\vec{u}(x) \\cdot \\hat{n} &= \\vec{0}  \\quad x \\in \\partial \\Omega\\\\\n",
    "\\end{align}\n",
    "\n",
    "where $\\partial \\Omega$ denotes the boundary of $\\Omega$, and $\\cdot$ is a tensor contraction.\n",
    "\n",
    "The initial condition is given generically as\n",
    "\n",
    "\\begin{equation}\n",
    "    \\vec{u}(x,t=0) = \\vec{u}_0 (x)  \\quad x \\in \\Omega\n",
    "\\end{equation}\n",
    "\n",
    "\n",
    "The resulting weak form is given by\n",
    "\\begin{align}\n",
    "    \\int_{\\Omega} \\vec{v} \\cdot \\vec{u}_t \\, d\\Omega\n",
    "    &= -\\int_{\\Omega}\n",
    "    -\\vec{v} \\cdot \\nabla \\cdot ( D \\, \\nabla \\vec{u} ) +\n",
    "    R \\, \\vec{v} \\cdot \\vec{u} -\n",
    "    \\omega \\, \\vec{v} \\times \\vec{u}\n",
    "    \\, d\\Omega \\\\\n",
    "    &= -\\int_{\\Omega}\n",
    "    D \\, \\nabla \\vec{v} : \\nabla \\vec{u} +\n",
    "    R \\, \\vec{v} \\cdot \\vec{u} -\n",
    "    \\omega \\, \\vec{v} \\times \\vec{u}\n",
    "    \\, d\\Omega + \n",
    "    \\int_{\\partial\\Omega} \\vec{v} \\cdot (D\\nabla\\vec{u} \\cdot \\hat{n}) \\, d\\Gamma,\n",
    "\\end{align}\n",
    "where $\\vec{v}$ is a suitable test function.\n",
    "\n",
    "In this notebook, we will assume homogeneous Neumann boundary conditions on all boundaries by taking $D\\nabla\\vec{u} \\cdot \\hat{n} = 0$. Therefore, the final weak form is simply\n",
    "\\begin{align}\n",
    "    \\int_{\\Omega} \\vec{v} \\cdot \\vec{u}_t \\, d\\Omega\n",
    "    = -\\int_{\\Omega}\n",
    "    D \\, \\nabla \\vec{v} : \\nabla \\vec{u} +\n",
    "    R \\, \\vec{v} \\cdot \\vec{u} -\n",
    "    \\omega \\, \\vec{v} \\times \\vec{u}\n",
    "    \\, d\\Omega\n",
    "\\end{align}\n",
    "\n",
    "Note: in two dimensions, the cross product is simply a scalar. However, `Tensors.jl` defines the two dimensional cross product by first extending the 2D vectors into 3D. Below, we use the symbol $\\boxtimes$ to denote the scalar version, which is the same as taking the third component of the vector version"
   ]
  },
  {
   "cell_type": "markdown",
   "metadata": {},
   "source": [
    "## Commented Program\n",
    "\n",
    "Now we solve the problem in JuAFEM. What follows is a program spliced with comments.\n",
    "\n",
    "First we load the JuAFEM package."
   ]
  },
  {
   "cell_type": "code",
   "execution_count": 183,
   "metadata": {},
   "outputs": [],
   "source": [
    "# using Distributed\n",
    "# addprocs(8; restrict = true, enable_threaded_blas = true);\n",
    "# @everywhere begin\n",
    "#     include(\"init.jl\")\n",
    "# end"
   ]
  },
  {
   "cell_type": "code",
   "execution_count": 184,
   "metadata": {
    "scrolled": true
   },
   "outputs": [],
   "source": [
    "include(\"init.jl\")"
   ]
  },
  {
   "cell_type": "markdown",
   "metadata": {},
   "source": [
    "**Pack circles**: Pack circles with a specified packing density $\\eta$"
   ]
  },
  {
   "cell_type": "code",
   "execution_count": 185,
   "metadata": {},
   "outputs": [],
   "source": [
    "btparams = BlochTorreyParameters{Float64}(\n",
    "    theta = π/2,\n",
    "    AxonPDensity = 0.75,\n",
    "    g_ratio = 0.8,\n",
    "    D_Tissue = 0.5, # [μm²/s]\n",
    "    D_Sheath = 0.5, # [μm²/s]\n",
    "    D_Axon = 0.5, # [μm²/s]\n",
    "    K_perm = 0.1 # [μm/s]\n",
    ");"
   ]
  },
  {
   "cell_type": "code",
   "execution_count": 186,
   "metadata": {},
   "outputs": [
    {
     "data": {
      "text/plain": [
       "26.105103640881353"
      ]
     },
     "execution_count": 186,
     "metadata": {},
     "output_type": "execute_result"
    }
   ],
   "source": [
    "TE_typical = 10e-3\n",
    "nDim = 2\n",
    "dist_typical = (2π * btparams.R_mu)/4\n",
    "time_typical = TE_typical/2\n",
    "D_Maximal_Dephasing = dist_typical^2/(2 * nDim * time_typical)"
   ]
  },
  {
   "cell_type": "code",
   "execution_count": 187,
   "metadata": {},
   "outputs": [
    {
     "name": "stdout",
     "output_type": "stream",
     "text": [
      "  0.011537 seconds (6.51 k allocations: 160.031 KiB)\n",
      "estimate_density(initial_circles) = 0.8169814541636901\n"
     ]
    }
   ],
   "source": [
    "Dim = 2;\n",
    "Ncircles = 20;\n",
    "\n",
    "η = btparams.AxonPDensity; # goal packing density\n",
    "ϵ = 0.1 * btparams.R_mu; # overlap occurs when distance between circle edges is ≤ ϵ\n",
    "α = 1e-1; # covariance penalty weight (enforces circular distribution)\n",
    "β = 1e-6; # mutual distance penalty weight\n",
    "λ = 1.0; # overlap penalty weight (or lagrange multiplier for constrained version)\n",
    "\n",
    "rs = rand(radiidistribution(btparams), Ncircles);\n",
    "@time initial_circles = GreedyCirclePacking.pack(rs; goaldensity = 1.0, iters = 100)\n",
    "@show estimate_density(initial_circles);"
   ]
  },
  {
   "cell_type": "code",
   "execution_count": 188,
   "metadata": {},
   "outputs": [
    {
     "name": "stdout",
     "output_type": "stream",
     "text": [
      "minimum_signed_edge_distance(initial_circles) = -4.996003610813204e-16\n"
     ]
    }
   ],
   "source": [
    "@show minimum_signed_edge_distance(initial_circles);"
   ]
  },
  {
   "cell_type": "code",
   "execution_count": 189,
   "metadata": {},
   "outputs": [
    {
     "name": "stdout",
     "output_type": "stream",
     "text": [
      "estimate_density(initial_circles) = 0.8169814541636901\n"
     ]
    }
   ],
   "source": [
    "@show estimate_density(initial_circles);"
   ]
  },
  {
   "cell_type": "code",
   "execution_count": 190,
   "metadata": {
    "scrolled": true
   },
   "outputs": [
    {
     "name": "stdout",
     "output_type": "stream",
     "text": [
      "  0.000678 seconds (17.33 k allocations: 344.391 KiB)\n"
     ]
    }
   ],
   "source": [
    "@time outer_circles = EnergyCirclePacking.pack(initial_circles;\n",
    "    autodiff = false,\n",
    "    secondorder = false,\n",
    "    setcallback = false,\n",
    "    goaldensity = η,\n",
    "    distancescale = btparams.R_mu,\n",
    "    weights = [α, β, λ],\n",
    "    epsilon = ϵ\n",
    ");\n",
    "inner_circles = scale_shape.(outer_circles, btparams.g_ratio);"
   ]
  },
  {
   "cell_type": "code",
   "execution_count": 191,
   "metadata": {},
   "outputs": [
    {
     "name": "stdout",
     "output_type": "stream",
     "text": [
      "covariance_energy(outer_circles) = 0.3509898554090463\n",
      "estimate_density(outer_circles) = 0.7499999999999997\n",
      "is_any_overlapping(outer_circles) = false\n",
      "(dmin, ϵ, dmin > ϵ) = (0.023933279416332442, 0.046000000000000006, false)\n"
     ]
    }
   ],
   "source": [
    "dmin = minimum_signed_edge_distance(outer_circles)\n",
    "@show covariance_energy(outer_circles)\n",
    "@show estimate_density(outer_circles)\n",
    "@show is_any_overlapping(outer_circles)\n",
    "@show (dmin, ϵ, dmin > ϵ);"
   ]
  },
  {
   "cell_type": "markdown",
   "metadata": {},
   "source": [
    "**Generate mesh**: Rectangular mesh with circles possibly only partly contained or completely excluded"
   ]
  },
  {
   "cell_type": "code",
   "execution_count": 192,
   "metadata": {},
   "outputs": [
    {
     "data": {
      "text/plain": [
       "0.6"
      ]
     },
     "execution_count": 192,
     "metadata": {},
     "output_type": "execute_result"
    }
   ],
   "source": [
    "h0 = minimum(radius.(outer_circles))*(1-btparams.g_ratio); # fraction of size of minimum torus width\n",
    "h_min = 1.0*h0; # minimum edge length\n",
    "h_max = 5.0*h0; # maximum edge length\n",
    "h_range = 10.0*h0; # distance over which h increases from h_min to h_max\n",
    "h_rate = 0.6; # rate of increase of h from circle boundaries (power law; smaller = faster radial increase)"
   ]
  },
  {
   "cell_type": "code",
   "execution_count": 193,
   "metadata": {},
   "outputs": [],
   "source": [
    "bdry, _ = opt_subdomain(outer_circles);"
   ]
  },
  {
   "cell_type": "code",
   "execution_count": 194,
   "metadata": {
    "scrolled": false
   },
   "outputs": [
    {
     "name": "stdout",
     "output_type": "stream",
     "text": [
      "1/20: Interior\n",
      "2/20: Interior\n",
      "3/20: Interior\n",
      "4/20: Interior\n",
      "5/20: Interior\n",
      "6/20: Interior\n",
      "7/20: Interior\n",
      "8/20: Interior\n",
      "9/20: Interior\n",
      "10/20: Interior\n",
      "11/20: Interior\n",
      "12/20: Interior\n",
      "13/20: Interior\n",
      "14/20: Interior\n",
      "15/20: Interior\n",
      "16/20: Interior\n",
      "17/20: Interior\n",
      "18/20: Interior\n",
      "19/20: Interior\n",
      "20/20: Interior\n",
      "1/20: Annular\n",
      "2/20: Annular\n",
      "3/20: Annular\n",
      "4/20: Annular\n",
      "5/20: Annular\n",
      "6/20: Annular\n",
      "7/20: Annular\n",
      "8/20: Annular\n",
      "9/20: Annular\n",
      "10/20: Annular\n",
      "11/20: Annular\n",
      "12/20: Annular\n",
      "13/20: Annular\n",
      "14/20: Annular\n",
      "15/20: Annular\n",
      "16/20: Annular\n",
      "17/20: Annular\n",
      "18/20: Annular\n",
      "19/20: Annular\n",
      "20/20: Annular\n",
      "1/1, 1/1: Exterior\n",
      " 23.422866 seconds (322.47 M allocations: 8.772 GiB, 16.98% gc time)\n"
     ]
    }
   ],
   "source": [
    "@time exteriorgrids, torigrids, interiorgrids, parentcircleindices = disjoint_rect_mesh_with_tori(\n",
    "    bdry, inner_circles, outer_circles, h_min, h_max, h_range, h_rate;\n",
    "    CIRCLESTALLITERS = 500, EXTERIORSTALLITERS = 1000, plotgrids = false, exterior_tiling = (1, 1)\n",
    ");"
   ]
  },
  {
   "cell_type": "code",
   "execution_count": 195,
   "metadata": {
    "scrolled": true
   },
   "outputs": [],
   "source": [
    "simpplot(vcat(exteriorgrids[:], torigrids, interiorgrids); newfigure = true, axis = mxaxis(bdry));"
   ]
  },
  {
   "cell_type": "code",
   "execution_count": 196,
   "metadata": {},
   "outputs": [
    {
     "data": {
      "text/plain": [
       "0.00012553343877463874"
      ]
     },
     "execution_count": 196,
     "metadata": {},
     "output_type": "execute_result"
    }
   ],
   "source": [
    "sum(area.(exteriorgrids)) + sum(area.(torigrids)) + sum(area.(interiorgrids)) - area(bdry)"
   ]
  },
  {
   "cell_type": "markdown",
   "metadata": {},
   "source": [
    "## Diffusion coefficient $D(x)$, relaxation rate $R(x)$, and resonance frequency $\\omega(x)$"
   ]
  },
  {
   "cell_type": "markdown",
   "metadata": {},
   "source": [
    "These functions are defined within `doassemble!`"
   ]
  },
  {
   "cell_type": "markdown",
   "metadata": {},
   "source": [
    "### Trial and test functions\n",
    "A `CellValues` facilitates the process of evaluating values and gradients of\n",
    "test and trial functions (among other things). Since the problem\n",
    "is a scalar problem we will use a `CellScalarValues` object. To define\n",
    "this we need to specify an interpolation space for the shape functions.\n",
    "We use Lagrange functions (both for interpolating the function and the geometry)\n",
    "based on the reference \"cube\". We also define a quadrature rule based on the\n",
    "same reference cube. We combine the interpolation and the quadrature rule\n",
    "to a `CellScalarValues` object."
   ]
  },
  {
   "cell_type": "markdown",
   "metadata": {},
   "source": [
    "### Degrees of freedom\n",
    "Next we need to define a `DofHandler`, which will take care of numbering\n",
    "and distribution of degrees of freedom for our approximated fields.\n",
    "We create the `DofHandler` and then add a single field called `u`.\n",
    "Lastly we `close!` the `DofHandler`, it is now that the dofs are distributed\n",
    "for all the elements."
   ]
  },
  {
   "cell_type": "markdown",
   "metadata": {},
   "source": [
    "Now that we have distributed all our dofs we can create our tangent matrix,\n",
    "using `create_sparsity_pattern`. This function returns a sparse matrix\n",
    "with the correct elements stored."
   ]
  },
  {
   "cell_type": "markdown",
   "metadata": {},
   "source": [
    "We can inspect the pattern using the `spy` function from `UnicodePlots.jl`.\n",
    "By default the stored values are set to $0$, so we first need to\n",
    "fill the stored values, e.g. `K.nzval` with something meaningful."
   ]
  },
  {
   "cell_type": "code",
   "execution_count": 197,
   "metadata": {},
   "outputs": [],
   "source": [
    "#using UnicodePlots\n",
    "#fill!(K.nzval, 1.0)\n",
    "#spy(K; height = 25)"
   ]
  },
  {
   "cell_type": "markdown",
   "metadata": {},
   "source": [
    "### Boundary conditions\n",
    "In JuAFEM constraints like Dirichlet boundary conditions are handled by a `ConstraintHandler`. However, here we will have no need to directly enforce boundary conditions, since Neumann boundary conditions have already been applied in the derivation of the weak form."
   ]
  },
  {
   "cell_type": "markdown",
   "metadata": {},
   "source": [
    "### Assembling the linear system\n",
    "Now we have all the pieces needed to assemble the linear system, $K u = f$.\n",
    "We define a function, `doassemble` to do the assembly, which takes our `cellvalues`,\n",
    "the sparse matrix and our DofHandler as input arguments. The function returns the\n",
    "assembled stiffness matrix, and the force vector."
   ]
  },
  {
   "cell_type": "code",
   "execution_count": 198,
   "metadata": {},
   "outputs": [],
   "source": [
    "myelinprob = MyelinProblem(btparams);"
   ]
  },
  {
   "cell_type": "code",
   "execution_count": 199,
   "metadata": {},
   "outputs": [],
   "source": [
    "myelinsubdomains = createmyelindomains(exteriorgrids[:], torigrids, interiorgrids, outer_circles, inner_circles);"
   ]
  },
  {
   "cell_type": "code",
   "execution_count": 200,
   "metadata": {
    "scrolled": true
   },
   "outputs": [
    {
     "name": "stdout",
     "output_type": "stream",
     "text": [
      "  0.786673 seconds (19.13 M allocations: 360.746 MiB, 10.18% gc time)\n"
     ]
    }
   ],
   "source": [
    "# @time map!(m -> doassemble!(m, myelinprob), myelinsubdomains, myelinsubdomains);\n",
    "@time doassemble!.(myelinsubdomains, Ref(myelinprob));"
   ]
  },
  {
   "cell_type": "code",
   "execution_count": 201,
   "metadata": {},
   "outputs": [
    {
     "name": "stdout",
     "output_type": "stream",
     "text": [
      "  0.018903 seconds (1.23 k allocations: 8.000 MiB, 36.55% gc time)\n"
     ]
    }
   ],
   "source": [
    "# @time map!(m -> (factorize!(getdomain(m)); return m), myelinsubdomains, myelinsubdomains);\n",
    "@time factorize!.(getdomain.(myelinsubdomains));"
   ]
  },
  {
   "cell_type": "code",
   "execution_count": 202,
   "metadata": {},
   "outputs": [
    {
     "name": "stdout",
     "output_type": "stream",
     "text": [
      "  6.353350 seconds (111.60 M allocations: 3.844 GiB, 19.39% gc time)\n"
     ]
    }
   ],
   "source": [
    "@time combinedmyelindomain = MyelinDomain(PermeableInterfaceRegion(), myelinprob, myelinsubdomains);"
   ]
  },
  {
   "cell_type": "code",
   "execution_count": 203,
   "metadata": {},
   "outputs": [
    {
     "name": "stdout",
     "output_type": "stream",
     "text": [
      "  0.011060 seconds (37 allocations: 7.954 MiB)\n"
     ]
    }
   ],
   "source": [
    "@time factorize!(combinedmyelindomain);"
   ]
  },
  {
   "cell_type": "code",
   "execution_count": 204,
   "metadata": {},
   "outputs": [],
   "source": [
    "myelindomains = [combinedmyelindomain];"
   ]
  },
  {
   "cell_type": "code",
   "execution_count": 205,
   "metadata": {
    "scrolled": true
   },
   "outputs": [],
   "source": [
    "# for II in ips #[rand(1:length(ips))]\n",
    "#     Se = [combinedmyelindomain.domain.K[2i-1,2j-1] for i in II for j in II]\n",
    "#     Se = Matrix(reshape(6 .* Se, (4,4)))\n",
    "#     @assert maximum(abs, sum(Se, dims=2)) < 5*eps(Float64)\n",
    "# end"
   ]
  },
  {
   "cell_type": "code",
   "execution_count": 206,
   "metadata": {},
   "outputs": [],
   "source": [
    "# for i in II\n",
    "#     n = getnodes(getgrid(combinedmyelindomain))[i]\n",
    "#     @show n\n",
    "# end"
   ]
  },
  {
   "cell_type": "code",
   "execution_count": 207,
   "metadata": {},
   "outputs": [],
   "source": [
    "# AllNodes = getnodes(getgrid(combinedmyelindomain))\n",
    "# XMatrix, YMatrix = zeros(2, length(ips)), zeros(2, length(ips))\n",
    "# for j in 1:length(ips)\n",
    "#     idx = ips[j]\n",
    "#     p1, p2 = AllNodes[idx[1]].x, AllNodes[idx[2]].x\n",
    "#     XMatrix[1,j] = p1[1]\n",
    "#     YMatrix[1,j] = p1[2]\n",
    "#     XMatrix[2,j] = p2[1]\n",
    "#     YMatrix[2,j] = p2[2]\n",
    "# end"
   ]
  },
  {
   "cell_type": "code",
   "execution_count": 208,
   "metadata": {},
   "outputs": [],
   "source": [
    "# mxcall(:plot, 0, XMatrix, YMatrix, \"bx-\")\n",
    "# mxcall(:axis, 0, \"image\")"
   ]
  },
  {
   "cell_type": "markdown",
   "metadata": {},
   "source": [
    "### Plotting the resonance frequency map $\\omega(x)$\n",
    "$\\omega(x)$ for each region can be easily created by accessing the `Omega` field of a `BlochTorreyProblem` object. Now, evaluate $\\omega(x)$ on each node `x` and plot the resuling field map overtop of the tesselation."
   ]
  },
  {
   "cell_type": "code",
   "execution_count": 209,
   "metadata": {},
   "outputs": [],
   "source": [
    "omegavalues = omegamap.(Ref(myelinprob), myelinsubdomains);"
   ]
  },
  {
   "cell_type": "code",
   "execution_count": 210,
   "metadata": {},
   "outputs": [],
   "source": [
    "simpplot(getgrid.(myelindomains); newfigure = true, axis = mxaxis(bdry), facecol = reduce(vcat, omegavalues));"
   ]
  },
  {
   "cell_type": "markdown",
   "metadata": {},
   "source": [
    "### Solution of the differential equation system\n",
    "The last step is to solve the system. First we call `doassemble`\n",
    "to obtain the global stiffness matrix `K` and force vector `f`.\n",
    "Then, to account for the boundary conditions, we use the `apply!` function.\n",
    "This modifies elements in `K` and `f` respectively, such that\n",
    "we can get the correct solution vector `u` by using `\\`."
   ]
  },
  {
   "cell_type": "code",
   "execution_count": 211,
   "metadata": {},
   "outputs": [],
   "source": [
    "tspan = (0.0, 320.0e-3);\n",
    "tspan = (0.0, 320.0e-3);\n",
    "dt = 10e-3;\n",
    "ts = tspan[1]:dt:tspan[2]\n",
    "# saveat = tspan[1]:dt:tspan[2];\n",
    "# tstops = (tspan[1] .+ dt/2 .+ dt .* (1:round(Int, (tspan[2]-tspan[1])/dt)))\n",
    "u0 = Vec{2}((0.0, 1.0)); # initial pi/2 pulse"
   ]
  },
  {
   "cell_type": "code",
   "execution_count": 212,
   "metadata": {},
   "outputs": [],
   "source": [
    "probs = [ODEProblem(m, interpolate(u0, m), tspan) for m in myelindomains];"
   ]
  },
  {
   "cell_type": "code",
   "execution_count": 213,
   "metadata": {},
   "outputs": [],
   "source": [
    "sols = Vector{ODESolution}(undef, length(probs));"
   ]
  },
  {
   "cell_type": "code",
   "execution_count": 214,
   "metadata": {},
   "outputs": [
    {
     "name": "stdout",
     "output_type": "stream",
     "text": [
      "i = 1/1:   8.230917 seconds (92.52 k allocations: 3.468 GiB, 10.89% gc time)\n",
      "  8.287044 seconds (154.44 k allocations: 3.471 GiB, 10.82% gc time)\n"
     ]
    }
   ],
   "source": [
    "@time sols = map!(sols, 1:length(probs), probs) do i, prob\n",
    "    print(\"i = $i/$(length(sols)): \")\n",
    "    A = prob.p[1]\n",
    "    return @time solve(prob, ExpokitExpmv(A; m = 30);\n",
    "        dt = dt,\n",
    "        reltol = 1e-4,\n",
    "        callback = MultiSpinEchoCallback(tspan; TE = dt)\n",
    "    )\n",
    "end;"
   ]
  },
  {
   "cell_type": "code",
   "execution_count": 215,
   "metadata": {},
   "outputs": [],
   "source": [
    "Umag = reduce(vcat, norm.(reinterpret(Vec{2,Float64}, s.u[end])) for s in sols);"
   ]
  },
  {
   "cell_type": "code",
   "execution_count": 216,
   "metadata": {},
   "outputs": [],
   "source": [
    "simpplot(getgrid.(myelindomains); newfigure = true, axis = mxaxis(bdry), facecol = Umag);"
   ]
  },
  {
   "cell_type": "code",
   "execution_count": 217,
   "metadata": {},
   "outputs": [],
   "source": [
    "Signals = map(myelindomains, sols) do m, s\n",
    "    [integrate(s(t), m) for t in tspan[1]:dt:tspan[2]]\n",
    "end;"
   ]
  },
  {
   "cell_type": "code",
   "execution_count": 218,
   "metadata": {},
   "outputs": [],
   "source": [
    "Stotal = sum(Signals);"
   ]
  },
  {
   "cell_type": "code",
   "execution_count": 219,
   "metadata": {},
   "outputs": [
    {
     "name": "stdout",
     "output_type": "stream",
     "text": [
      "btparams.R2_lp = 15.873015873015873\n",
      "(-1 / Tspan) * log(norm(Stotal[end]) / norm(Stotal[1])) = 17.33883186071449\n",
      "exp(-(tspan[end]) * btparams.R2_lp) = 0.006223859418487457\n",
      "norm(Stotal[end]) / norm(Stotal[1]) = 0.003893580158328784\n"
     ]
    }
   ],
   "source": [
    "Tspan = tspan[2] - tspan[1]\n",
    "@show btparams.R2_lp;\n",
    "@show (-1/Tspan)*log(norm(Stotal[end])/norm(Stotal[1]));\n",
    "@show exp(-tspan[end]*btparams.R2_lp);\n",
    "@show norm(Stotal[end])/norm(Stotal[1]);"
   ]
  },
  {
   "cell_type": "code",
   "execution_count": 220,
   "metadata": {},
   "outputs": [
    {
     "name": "stdout",
     "output_type": "stream",
     "text": [
      "exact_mwf = 0.25841865488977384\n"
     ]
    }
   ],
   "source": [
    "exact_mwf = getmwf(outer_circles, inner_circles, bdry);\n",
    "@show exact_mwf;"
   ]
  },
  {
   "cell_type": "code",
   "execution_count": 221,
   "metadata": {},
   "outputs": [],
   "source": [
    "mxcall(:addpath, 0, realpath(\"MATLAB/SE_corr/\"));"
   ]
  },
  {
   "cell_type": "code",
   "execution_count": 222,
   "metadata": {},
   "outputs": [
    {
     "data": {
      "text/plain": [
       "0.22539638075277962"
      ]
     },
     "execution_count": 222,
     "metadata": {},
     "output_type": "execute_result"
    }
   ],
   "source": [
    "MWImaps, MWIdist, MWIpart = fitmwfmodel(Stotal, NNLSRegression();\n",
    "    T2Range = [8e-3, 2.0],\n",
    "    spwin = [8e-3, 24.75e-3],\n",
    "    mpwin = [25.25e-3, 200e-3],\n",
    "    nT2 = 32,\n",
    "    RefConAngle = 165.0,\n",
    "    PLOTDIST = true\n",
    ");\n",
    "getmwf(NNLSRegression(), MWImaps, MWIdist, MWIpart)"
   ]
  },
  {
   "cell_type": "code",
   "execution_count": 223,
   "metadata": {},
   "outputs": [],
   "source": [
    "# TestStotalMagn = mwimodel(TwoPoolMagnToMagn(), tspan[1]:dt:tspan[2], modelfit.param)\n",
    "# TestStotal = [Vec{2}((zero(y),y)) for y in TestStotalMagn];"
   ]
  },
  {
   "cell_type": "code",
   "execution_count": 224,
   "metadata": {
    "scrolled": true
   },
   "outputs": [
    {
     "name": "stdout",
     "output_type": "stream",
     "text": [
      "Model: TwoPoolMagnToMagn()\n",
      "mwf: 0.23218199387961105\n"
     ]
    },
    {
     "data": {
      "text/plain": [
       "4×2 Array{Float64,2}:\n",
       "  2.95788  0.00258931\n",
       "  9.78161  0.00325005\n",
       " 68.2991   0.127758  \n",
       " 16.4808   0.00318254"
      ]
     },
     "metadata": {},
     "output_type": "display_data"
    },
    {
     "name": "stdout",
     "output_type": "stream",
     "text": [
      "Model: ThreePoolMagnToMagn()\n",
      "mwf: 0.23117203305301134\n"
     ]
    },
    {
     "data": {
      "text/plain": [
       "6×2 Array{Float64,2}:\n",
       "  2.94582   0.0173554\n",
       "  5.54383  98.6165   \n",
       "  4.25333  98.5981   \n",
       " 68.6263    0.319859 \n",
       " 16.1067    7.67426  \n",
       " 17.03     11.4996   "
      ]
     },
     "metadata": {},
     "output_type": "display_data"
    },
    {
     "name": "stdout",
     "output_type": "stream",
     "text": [
      "Model: ThreePoolCplxToMagn()\n",
      "mwf: 0.23168138922517878\n"
     ]
    },
    {
     "data": {
      "text/plain": [
       "8×2 Array{Float64,2}:\n",
       "  2.95183    0.254109\n",
       "  6.72175   77.435   \n",
       "  3.06733   77.6759  \n",
       " 68.4651     2.34736 \n",
       " 15.7756    17.0764  \n",
       " 18.0381    18.106   \n",
       "  0.651048   1.8616  \n",
       "  0.385181   1.87988 "
      ]
     },
     "metadata": {},
     "output_type": "display_data"
    },
    {
     "name": "stdout",
     "output_type": "stream",
     "text": [
      "Model: ThreePoolCplxToCplx()\n",
      "mwf: 0.23105024143378633\n"
     ]
    },
    {
     "data": {
      "text/plain": [
       "10×2 Array{Float64,2}:\n",
       "  2.94407  0.0384329  \n",
       "  7.77266  7.2472     \n",
       "  2.02539  7.27258    \n",
       " 68.6181   0.9643     \n",
       " 16.0677   0.999407   \n",
       " 18.1861   3.51534    \n",
       " 50.2844   0.085014   \n",
       " 49.9618   0.113323   \n",
       " 50.2751   0.702548   \n",
       " -1.57099  0.000946569"
      ]
     },
     "metadata": {},
     "output_type": "display_data"
    }
   ],
   "source": [
    "for modeltype in (TwoPoolMagnToMagn(), ThreePoolMagnToMagn(), ThreePoolCplxToMagn(), ThreePoolCplxToCplx())\n",
    "    local modelfit, errors, mwf\n",
    "    println(\"Model: $modeltype\"); flush(stdout)\n",
    "    modelfit, errors = fitmwfmodel(Stotal, modeltype; TE = dt);\n",
    "    mwf = getmwf(modeltype, modelfit, errors)\n",
    "    println(\"mwf: $mwf\"); flush(stdout)\n",
    "    errors == nothing ? display(modelfit.param) : display([modelfit.param errors]); flush(stdout)\n",
    "end"
   ]
  },
  {
   "cell_type": "code",
   "execution_count": 225,
   "metadata": {},
   "outputs": [
    {
     "data": {
      "text/plain": [
       "2-element Tensor{1,2,Float64,2}:\n",
       " 3.629048943346829\n",
       " 3.629048943346829"
      ]
     },
     "execution_count": 225,
     "metadata": {},
     "output_type": "execute_result"
    }
   ],
   "source": [
    "widths(bdry)"
   ]
  },
  {
   "cell_type": "code",
   "execution_count": 226,
   "metadata": {
    "scrolled": true
   },
   "outputs": [
    {
     "name": "stdout",
     "output_type": "stream",
     "text": [
      "getmwf(outer_circles, inner_circles, bdry) = 0.25841865488977384\n",
      "getmwf(Stotal, TwoPoolMagnToMagn(); TE=dt, fitmethod=:local) = 0.23218199387961105\n",
      "getmwf(Stotal, ThreePoolMagnToMagn(); TE=dt, fitmethod=:local) = 0.23117203305301134\n",
      "getmwf(Stotal, ThreePoolCplxToMagn(); TE=dt, fitmethod=:local) = 0.23168138922517878\n",
      "getmwf(Stotal, ThreePoolCplxToCplx(); TE=dt, fitmethod=:local) = 0.23105024143378633\n"
     ]
    }
   ],
   "source": [
    "@show getmwf(outer_circles, inner_circles, bdry);\n",
    "@show getmwf(Stotal, TwoPoolMagnToMagn(); TE = dt, fitmethod = :local);\n",
    "@show getmwf(Stotal, ThreePoolMagnToMagn(); TE = dt, fitmethod = :local);\n",
    "@show getmwf(Stotal, ThreePoolCplxToMagn(); TE = dt, fitmethod = :local);\n",
    "@show getmwf(Stotal, ThreePoolCplxToCplx(); TE = dt, fitmethod = :local);"
   ]
  },
  {
   "cell_type": "code",
   "execution_count": 227,
   "metadata": {},
   "outputs": [],
   "source": [
    "p0 = initialparams(ThreePoolCplxToCplx(), ts, Stotal)[1];\n",
    "modelfit, errors = fitmwfmodel(Stotal, ThreePoolCplxToCplx(); TE = dt);"
   ]
  },
  {
   "cell_type": "code",
   "execution_count": 228,
   "metadata": {
    "scrolled": true
   },
   "outputs": [],
   "source": [
    "# mwimodel(ThreePoolCplxToCplx(), ts, modelfit.param);\n",
    "# [mwimodel(ThreePoolCplxToCplx(), ts,  modelfit.param) |> x -> reinterpret(ComplexF64, x) complex.(Stotal)]\n",
    "# [mwimodel(ThreePoolCplxToCplx(), ts, p0) |> x -> reinterpret(ComplexF64, x) complex.(Stotal)]"
   ]
  },
  {
   "cell_type": "code",
   "execution_count": 229,
   "metadata": {},
   "outputs": [],
   "source": [
    "myelin_area = intersect_area(outer_circles, bdry) - intersect_area(inner_circles, bdry)\n",
    "total_area = area(bdry)\n",
    "y_biexp = @. (total_area - myelin_area) * exp(-ts*btparams.R2_lp) + myelin_area * exp(-ts*btparams.R2_sp);"
   ]
  },
  {
   "cell_type": "code",
   "execution_count": 230,
   "metadata": {
    "scrolled": true
   },
   "outputs": [],
   "source": [
    "mxcall(:figure, 0)\n",
    "mxcall(:plot, 0, collect(1000.0.*ts), [norm.(Stotal) y_biexp])"
   ]
  },
  {
   "cell_type": "code",
   "execution_count": 231,
   "metadata": {},
   "outputs": [],
   "source": [
    "mxcall(:legend, 0, \"Simulated\", \"Bi-Exponential\")\n",
    "mxcall(:title, 0, \"Signal Magnitude vs. Time\")\n",
    "mxcall(:xlabel, 0, \"Time [ms]\"); mxcall(:xlim, 0, 1000.0 .* [tspan...])\n",
    "mxcall(:ylabel, 0, \"S(t) Magnitude\")"
   ]
  },
  {
   "cell_type": "code",
   "execution_count": 232,
   "metadata": {},
   "outputs": [],
   "source": [
    "# mxcall(:figure, 0)\n",
    "# mxcall(:plot, 0, collect(1000.0.*ts), reduce(hcat, map(S->norm.(S), Signals)))"
   ]
  },
  {
   "cell_type": "code",
   "execution_count": 233,
   "metadata": {},
   "outputs": [],
   "source": [
    "# prob = ODEProblem((du,u,p,t)->A_mul_B!(du,p[1],u), u0, tspan, (Amap,));"
   ]
  },
  {
   "cell_type": "code",
   "execution_count": 234,
   "metadata": {},
   "outputs": [],
   "source": [
    "#@time Expokit.expmv!(u, tspan[end], Amap, u0; tol=1e-4, norm=expmv_norm, m=100); # penelope: 17.42s\n",
    "#@time Expokit.expmv!(u, tspan[end], Amap, u0; tol=1e-4, norm=expmv_norm, m=50); # penelope: 30.09s\n",
    "#@time Expokit.expmv!(u, tspan[end], Amap, u0; tol=1e-4, norm=expmv_norm, m=10); # penelope: 103.5s\n",
    "#@time Expokit.expmv!(u, tspan[end], Amap, u0; tol=1e-8, norm=expmv_norm); # penelope: 53.2s\n",
    "#@time Expokit.expmv!(u, tspan[end], Amap, u0; tol=1e-6, norm=expmv_norm); # penelope: 44.4s"
   ]
  },
  {
   "cell_type": "code",
   "execution_count": 235,
   "metadata": {},
   "outputs": [],
   "source": [
    "#@time sol = solve(prob, CVODE_BDF(linear_solver=:GMRES); saveat=tspan, reltol=1e-8, alg_hints=:stiff); # penelope: 90.21s\n",
    "#@time sol = solve(prob, CVODE_BDF(linear_solver=:GMRES); saveat=tspan, reltol=1e-4, alg_hints=:stiff); # penelope: 33.44s\n",
    "#@time sol = solve(prob, CVODE_BDF(linear_solver=:BCG); saveat=tspan, reltol=1e-4, alg_hints=:stiff) # penelope: 53.66s\n",
    "#@time sol = solve(prob, CVODE_BDF(linear_solver=:TFQMR); saveat=tspan, reltol=1e-4, alg_hints=:stiff) # penelope: 18.99s but low accuracy"
   ]
  },
  {
   "cell_type": "code",
   "execution_count": 236,
   "metadata": {
    "scrolled": true
   },
   "outputs": [],
   "source": [
    "#prob_Ku = ODEProblem(K_mul_u!, u0, tspan, (K,), mass_matrix=M);\n",
    "#@time sol_Ku = solve(prob_Ku, Rosenbrock23(), saveat=tspan, reltol=1e-4, alg_hints=:stiff) #DNF\n",
    "#@time sol_Ku = solve(prob_Ku, Rodas4(), saveat=tspan, reltol=1e-4, alg_hints=:stiff) #DNF"
   ]
  },
  {
   "cell_type": "code",
   "execution_count": 237,
   "metadata": {},
   "outputs": [],
   "source": [
    "# @show norm(sol.u[end] - u)/maximum(abs,u);\n",
    "# @show maximum(sol.u[end] - u)/maximum(abs,u);"
   ]
  },
  {
   "cell_type": "code",
   "execution_count": null,
   "metadata": {},
   "outputs": [],
   "source": []
  },
  {
   "cell_type": "markdown",
   "metadata": {},
   "source": [
    "# Testing"
   ]
  },
  {
   "cell_type": "code",
   "execution_count": 238,
   "metadata": {},
   "outputs": [],
   "source": [
    "# using BlochTorreyUtilsTest"
   ]
  },
  {
   "cell_type": "markdown",
   "metadata": {},
   "source": [
    "### Single Axon"
   ]
  },
  {
   "cell_type": "code",
   "execution_count": 239,
   "metadata": {
    "scrolled": true
   },
   "outputs": [],
   "source": [
    "# BlochTorreyUtilsTest.singleaxontests(\n",
    "#     BlochTorreyParameters{Float64}(\n",
    "#         ChiI = -60e-9,\n",
    "#         ChiA = -120e-9\n",
    "#     );\n",
    "#     PLOTOMEGA = false\n",
    "# );"
   ]
  },
  {
   "cell_type": "markdown",
   "metadata": {},
   "source": [
    "### Multiple Axons"
   ]
  },
  {
   "cell_type": "code",
   "execution_count": 240,
   "metadata": {},
   "outputs": [],
   "source": [
    "# domainsetup = BlochTorreyUtilsTest.multipleaxons();"
   ]
  },
  {
   "cell_type": "code",
   "execution_count": 241,
   "metadata": {},
   "outputs": [],
   "source": [
    "# BlochTorreyUtilsTest.multipleaxontests(\n",
    "#     BlochTorreyParameters{Float64}(\n",
    "#         ChiI = -60e-9,\n",
    "#         ChiA = -120e-9\n",
    "#     ),\n",
    "#     domainsetup;\n",
    "#     PLOTOMEGA = false\n",
    "# );"
   ]
  },
  {
   "cell_type": "markdown",
   "metadata": {},
   "source": [
    "### Exporting to VTK\n",
    "To visualize the result we export the grid and our field `u`\n",
    "to a VTK-file, which can be viewed in e.g. [ParaView](https://www.paraview.org/)."
   ]
  },
  {
   "cell_type": "code",
   "execution_count": 242,
   "metadata": {},
   "outputs": [],
   "source": [
    "# vtk_grid(\"bloch_torrey_equation\", dh) do vtk\n",
    "#     vtk_point_data(vtk, dh, u)\n",
    "# end"
   ]
  }
 ],
 "metadata": {
  "@webio": {
   "lastCommId": "5333ab7c9fe84faa97232a79da231493",
   "lastKernelId": "ee978ff9-cc31-4c7e-bdb2-c9c1e1cbb921"
  },
  "kernelspec": {
   "display_name": "Julia 0.7.0",
   "language": "julia",
   "name": "julia-0.7"
  },
  "language_info": {
   "file_extension": ".jl",
   "mimetype": "application/julia",
   "name": "julia",
   "version": "0.7.0"
  }
 },
 "nbformat": 4,
 "nbformat_minor": 3
}
