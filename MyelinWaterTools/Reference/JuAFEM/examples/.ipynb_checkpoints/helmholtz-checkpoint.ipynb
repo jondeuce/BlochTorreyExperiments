{
 "cells": [
  {
   "cell_type": "markdown",
   "metadata": {},
   "source": [
    "![cant.png](figures/helmholtz.png)"
   ]
  },
  {
   "cell_type": "markdown",
   "metadata": {},
   "source": [
    "Using Method of Manufactured solutions and solve the Helmholtz equation. \n",
    "\n",
    "Problem taken from http://www.dealii.org/8.4.1/doxygen/deal.II/step_7.html"
   ]
  },
  {
   "cell_type": "code",
   "execution_count": null,
   "metadata": {},
   "outputs": [],
   "source": [
    "using JuAFEM\n",
    "using KrylovMethods\n",
    "using Tensors\n",
    "const ∇ = Tensors.gradient\n",
    "const Δ = Tensors.hessian;"
   ]
  },
  {
   "cell_type": "code",
   "execution_count": null,
   "metadata": {},
   "outputs": [],
   "source": [
    "grid = generate_grid(Quadrilateral, (150, 150))\n",
    "addnodeset!(grid, \"dirichlet_boundary\", x -> x[1] ≈ 1 ||  x[2] ≈ 1);"
   ]
  },
  {
   "cell_type": "code",
   "execution_count": null,
   "metadata": {},
   "outputs": [],
   "source": [
    "dim = 2\n",
    "ip = Lagrange{dim, RefCube, 1}()\n",
    "qr = QuadratureRule{dim, RefCube}(2)\n",
    "qr_face = QuadratureRule{dim-1, RefCube}(2)\n",
    "cellvalues = CellScalarValues(qr, ip);\n",
    "facevalues = FaceScalarValues(qr_face, ip);"
   ]
  },
  {
   "cell_type": "code",
   "execution_count": null,
   "metadata": {},
   "outputs": [],
   "source": [
    "dh = DofHandler(grid)\n",
    "push!(dh, :u, 1)\n",
    "close!(dh)"
   ]
  }
 ],
 "metadata": {
  "kernelspec": {
   "display_name": "Julia 0.6.2",
   "language": "julia",
   "name": "julia-0.6"
  },
  "language_info": {
   "file_extension": ".jl",
   "mimetype": "application/julia",
   "name": "julia",
   "version": "0.6.2"
  }
 },
 "nbformat": 4,
 "nbformat_minor": 2
}
