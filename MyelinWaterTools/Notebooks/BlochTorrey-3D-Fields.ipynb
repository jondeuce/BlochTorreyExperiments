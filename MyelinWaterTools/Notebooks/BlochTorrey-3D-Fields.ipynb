{
 "cells": [
  {
   "cell_type": "markdown",
   "metadata": {},
   "source": [
    "# Bloch-Torrey Equation"
   ]
  },
  {
   "cell_type": "markdown",
   "metadata": {},
   "source": [
    "## Introduction\n",
    "\n",
    "Here we solve the Bloch-Torrey equation on a unit square, with the diffusion coefficient $D(x)$, relaxation rates $R_1(x)$ and $R_2(x)$, and resonance frequency $\\omega(x)$ all given as a generic functions.\n",
    "The strong form of the Bloch-Torrey equation is given by\n",
    "\n",
    "\\begin{align}\n",
    "\\begin{cases}\n",
    "    \\frac{\\partial M_x}{\\partial t} &= \\nabla \\cdot (D \\cdot \\nabla M_x) - R_2 \\, M_x + \\omega \\, M_y\\\\\n",
    "    \\frac{\\partial M_y}{\\partial t} &= \\nabla \\cdot (D \\cdot \\nabla M_y) - R_2 \\, M_y - \\omega \\, M_x\\\\\n",
    "    \\frac{\\partial M_z}{\\partial t} &= \\nabla \\cdot (D \\cdot \\nabla M_z) - R_1 \\, (M_z - M_{z,\\infty}),\n",
    "\\end{cases}\\label{eq:strong_M}\\tag{0}\n",
    "\\end{align}\n",
    "\n",
    "where $\\vec{M}(x,t) = [M_x(x,t), \\, M_y(x,t), \\, M_z(x,t)]$ is the magnetization vector.\n",
    "\n",
    "Letting $\\vec{u}(x,t) = [M_x(x,t), \\, M_y(x,t), \\, M_{z,\\infty} - M_z(x,t)]$, equation (\\ref{eq:strong_M}) becomes\n",
    "\n",
    "\\begin{align}\n",
    "\\begin{cases}\n",
    "    \\frac{\\partial u_x}{\\partial t} &= \\nabla \\cdot (D \\cdot \\nabla u_x) - R_2 \\, u_x + \\omega \\, u_y\\\\\n",
    "    \\frac{\\partial u_y}{\\partial t} &= \\nabla \\cdot (D \\cdot \\nabla u_y) - R_2 \\, u_y - \\omega \\, u_x\\\\\n",
    "    \\frac{\\partial u_z}{\\partial t} &= \\nabla \\cdot (D \\cdot \\nabla u_z) - R_1 \\, u_z,\n",
    "\\end{cases}\\label{eq:strong}\\tag{1}\n",
    "\\end{align}\n",
    "\n",
    "Equation (\\ref{eq:strong}) holds for all points $x$ in the domain $\\Omega$.\n",
    "\n",
    "Note: $\\cdot$ is generally a tensor contraction, unless the arguments are scalar, in which it reduces to multiplication.\n",
    "\n",
    "We consider homogeneous Neumann boundary conditions such that\n",
    "\n",
    "\\begin{align}\n",
    "    D \\, \\nabla \\vec{u}(x) \\cdot \\hat{n} &= \\vec{0}  \\quad \\forall x \\in \\partial \\Omega\\label{eq:bc}\\tag{2}\\\\\n",
    "\\end{align}\n",
    "\n",
    "where $\\partial \\Omega$ denotes the boundary of $\\Omega$. The initial condition is assumed to be specified,\n",
    "\n",
    "\\begin{equation}\n",
    "    \\vec{u}(x,t=0) = \\vec{u}_0 (x)  \\quad \\forall x \\in \\Omega.\\label{eq:ic}\\tag{3}\n",
    "\\end{equation}\n",
    "\n",
    "The weak form corresponding to equation \\ref{eq:strong} is given by\n",
    "\n",
    "\\begin{align}\n",
    "    \\int_{\\Omega} \\vec{v} \\cdot \\vec{u}_t \\, d\\Omega\n",
    "    &= -\\int_{\\Omega}\n",
    "    -\\vec{v} \\cdot \\nabla \\cdot ( D \\, \\nabla \\vec{u} ) +\n",
    "    \\vec{v} \\cdot (\\vec{R} \\odot \\vec{u}) -\n",
    "    \\omega \\, \\vec{v}_\\perp \\times \\vec{u}_\\perp\n",
    "    \\, d\\Omega \\\\\n",
    "    &= -\\int_{\\Omega}\n",
    "    \\nabla \\vec{v} : D \\, \\nabla \\vec{u} +\n",
    "    \\vec{v} \\cdot (\\vec{R} \\odot \\vec{u}) -\n",
    "    \\omega \\, \\vec{v}_\\perp \\times \\vec{u}_\\perp\n",
    "    \\, d\\Omega + \n",
    "    \\int_{\\partial\\Omega} \\vec{v} \\cdot (D \\, \\nabla\\vec{u} \\cdot \\hat{n}) \\, d\\Gamma,\n",
    "\\end{align}\n",
    "\n",
    "where $\\vec{v}$ is a suitable test function, $\\vec{R} = [R_2, R_2, R_1]$, $\\odot$ is the Hadamard (elementwise) product, and $\\vec{u}_\\perp$ is the transverse component $[u_x, u_y]$ of $\\vec{u}$.\n",
    "\n",
    "Applying the homogeneous Neumann boundary conditions from equation (\\ref{eq:bc}), the final weak form becomes\n",
    "\\begin{align}\n",
    "    \\int_{\\Omega} \\vec{v} \\cdot \\vec{u}_t \\, d\\Omega\n",
    "    = -\\int_{\\Omega}\n",
    "    \\nabla \\vec{v} : D \\, \\nabla \\vec{u} +\n",
    "    \\vec{v} \\cdot (\\vec{R} \\odot \\vec{u}) -\n",
    "    \\omega \\, \\vec{v}_\\perp \\times \\vec{u}_\\perp\n",
    "    \\, d\\Omega.\\label{eq:weak}\\tag{4}\n",
    "\\end{align}\n",
    "\n",
    "Note: in two dimensions, the cross product is simply a scalar. However, `Tensors.jl` defines the two dimensional cross product by first extending the 2D vectors into 3D. Below, we use the symbol $\\boxtimes$ to denote the scalar version, which is the same as taking the third component of the vector version"
   ]
  },
  {
   "cell_type": "code",
   "execution_count": 1,
   "metadata": {},
   "outputs": [],
   "source": [
    "# Activate project\n",
    "import Pkg\n",
    "Pkg.activate(joinpath(@__DIR__, \"..\"))\n",
    "include(joinpath(@__DIR__, \"../initpaths.jl\"))"
   ]
  },
  {
   "cell_type": "code",
   "execution_count": 2,
   "metadata": {},
   "outputs": [],
   "source": [
    "using StatsPlots, BSON, Dates\n",
    "pyplot(size=(1200,900)); # NOTE: must load pyplot backend BEFORE loading MATLAB in MWFUtils"
   ]
  },
  {
   "cell_type": "code",
   "execution_count": 3,
   "metadata": {},
   "outputs": [],
   "source": [
    "using MWFUtils\n",
    "# mxcall(:cd, 0, pwd()) # change MATLAB path to current path for saving outputs\n",
    "# mxcall(:figure, 0) # bring up MATLAB figure gui"
   ]
  },
  {
   "cell_type": "markdown",
   "metadata": {},
   "source": [
    "**Load Geometry**"
   ]
  },
  {
   "cell_type": "code",
   "execution_count": 4,
   "metadata": {},
   "outputs": [],
   "source": [
    "geomfile = joinpath(\n",
    "    \"/home/jdoucette/Documents/code/BlochTorreyResults/Experiments/MyelinWaterOrientation/Geometries/kmg_geom_sweep_3\",\n",
    "    \"2019-03-28-T-15-24-11-877__N-10_g-0.7500_p-0.7500__structs.bson\" # 1.3k triangles, 1.2k points, Qmin = 0.3\n",
    "    # \"2019-03-28-T-15-26-44-544__N-10_g-0.8000_p-0.8300__structs.bson\" # 4.7k triangles, 3.2k points, Qmin = 0.3\n",
    "    # \"2019-03-28-T-15-27-56-042__N-20_g-0.7500_p-0.7000__structs.bson\" # 3.1k triangles, 2.6k points, Qmin = 0.3\n",
    "    # \"2019-03-28-T-15-33-59-628__N-20_g-0.8000_p-0.8000__structs.bson\" #13.3k triangles, 9.2k points, Qmin = 0.3\n",
    ")\n",
    "geom = loadgeometry(geomfile);"
   ]
  },
  {
   "cell_type": "code",
   "execution_count": 5,
   "metadata": {},
   "outputs": [],
   "source": [
    "exteriorgrids, torigrids, interiorgrids, outercircles, innercircles, bdry = geom;\n",
    "ferritins = Vec{3,floattype(bdry)}[];"
   ]
  },
  {
   "cell_type": "markdown",
   "metadata": {},
   "source": [
    "**Set parameters**"
   ]
  },
  {
   "cell_type": "code",
   "execution_count": 245,
   "metadata": {},
   "outputs": [],
   "source": [
    "btparams = BlochTorreyParameters{Float64}(\n",
    "    B0 = 0.0, # for testing\n",
    "    theta = π/2, # [radians]\n",
    "    D_Tissue = 50.0, # [μm²/s]\n",
    "    D_Sheath = 50.0, # [μm²/s]\n",
    "    D_Axon = 50.0, # [μm²/s]\n",
    "    K_perm = 0.5, # [μm/s]\n",
    "    );"
   ]
  },
  {
   "cell_type": "markdown",
   "metadata": {},
   "source": [
    "**Create domains**"
   ]
  },
  {
   "cell_type": "code",
   "execution_count": 273,
   "metadata": {},
   "outputs": [],
   "source": [
    "# utype = Vec{3,Float64};\n",
    "# utype = Vec{2,Float64};\n",
    "utype = ComplexF64;"
   ]
  },
  {
   "cell_type": "code",
   "execution_count": 274,
   "metadata": {},
   "outputs": [],
   "source": [
    "myelinprob = MyelinProblem(btparams);"
   ]
  },
  {
   "cell_type": "code",
   "execution_count": 275,
   "metadata": {},
   "outputs": [],
   "source": [
    "myelinsubdomains = createmyelindomains(\n",
    "    vec(exteriorgrids), vec(torigrids), vec(interiorgrids),\n",
    "    vec(outercircles), vec(innercircles), vec(ferritins),\n",
    "    utype);"
   ]
  },
  {
   "cell_type": "code",
   "execution_count": 276,
   "metadata": {},
   "outputs": [
    {
     "name": "stdout",
     "output_type": "stream",
     "text": [
      "    Assemble subdomains    "
     ]
    },
    {
     "name": "stderr",
     "output_type": "stream",
     "text": [
      "┌ Info: Assembling MyelinDomain from subdomains\n",
      "└ @ MWFUtils /home/jdoucette/Documents/code/BlochTorreyExperiments-master/MyelinWaterTools/MWFUtils/src/mwfutils.jl:321\n"
     ]
    },
    {
     "name": "stdout",
     "output_type": "stream",
     "text": [
      " 0.720280 seconds (935.66 k allocations: 46.175 MiB, 2.71% gc time)\n",
      "    Factorize subdomains    0.050490 seconds (48.89 k allocations: 3.195 MiB)\n",
      "    Assemble combined       0.306508 seconds (564.19 k allocations: 34.159 MiB, 2.42% gc time)\n",
      "    Factorize combined      0.004229 seconds (2.81 k allocations: 763.244 KiB)\n"
     ]
    }
   ],
   "source": [
    "myelinprob, myelinsubdomains, myelindomains = createdomains(btparams,\n",
    "    exteriorgrids, torigrids, interiorgrids,\n",
    "    outercircles, innercircles, ferritins, utype);"
   ]
  },
  {
   "cell_type": "markdown",
   "metadata": {},
   "source": [
    "**Solve Bloch-Torrey equation**"
   ]
  },
  {
   "cell_type": "code",
   "execution_count": 280,
   "metadata": {},
   "outputs": [
    {
     "name": "stderr",
     "output_type": "stream",
     "text": [
      "┌ Info: Solving MyelinProblem\n",
      "└ @ MWFUtils /home/jdoucette/Documents/code/BlochTorreyExperiments-master/MyelinWaterTools/MWFUtils/src/mwfutils.jl:426\n"
     ]
    },
    {
     "name": "stdout",
     "output_type": "stream",
     "text": [
      " 22.193275 seconds (18.04 M allocations: 2.239 GiB, 4.01% gc time)\n"
     ]
    }
   ],
   "source": [
    "# Solve Bloch-Torrey equation\n",
    "# u0 = Vec{3}((1.0, 1.0, 1.0));\n",
    "# u0 = Vec{2}((1.0, 1.0));\n",
    "u0 = complex(1.0, 1.0);\n",
    "nTE = 32;\n",
    "cb = nothing; # for testing\n",
    "sols = solveblochtorrey(myelinprob, myelindomains; u0 = u0, TE = TE, nTE = nTE, callback = cb);"
   ]
  },
  {
   "cell_type": "code",
   "execution_count": null,
   "metadata": {},
   "outputs": [],
   "source": []
  },
  {
   "cell_type": "code",
   "execution_count": null,
   "metadata": {},
   "outputs": [],
   "source": []
  },
  {
   "cell_type": "code",
   "execution_count": null,
   "metadata": {},
   "outputs": [],
   "source": []
  },
  {
   "cell_type": "code",
   "execution_count": null,
   "metadata": {},
   "outputs": [],
   "source": []
  },
  {
   "cell_type": "code",
   "execution_count": null,
   "metadata": {},
   "outputs": [],
   "source": []
  },
  {
   "cell_type": "code",
   "execution_count": null,
   "metadata": {},
   "outputs": [],
   "source": []
  },
  {
   "cell_type": "markdown",
   "metadata": {},
   "source": [
    "# Testing"
   ]
  },
  {
   "cell_type": "code",
   "execution_count": 25,
   "metadata": {},
   "outputs": [
    {
     "name": "stdout",
     "output_type": "stream",
     "text": [
      "Revise.revision_queue = Set(Tuple{Revise.PkgData,String}[])\n"
     ]
    }
   ],
   "source": [
    "@show Revise.revision_queue; revise()"
   ]
  },
  {
   "cell_type": "code",
   "execution_count": 27,
   "metadata": {},
   "outputs": [
    {
     "data": {
      "text/plain": [
       "2-element Tensor{1,2,Float64,2}:\n",
       " 3.9999999999999614\n",
       " 3.9999999999999614"
      ]
     },
     "execution_count": 27,
     "metadata": {},
     "output_type": "execute_result"
    }
   ],
   "source": [
    "# utype = ComplexF64; u0 = 1.0 + 1.0im\n",
    "# utype = Vec2d; u0 = ones(utype)\n",
    "utype = Vec3d; u0 = ones(utype)\n",
    "grid = generate_grid(Triangle, (3,3));\n",
    "domain = ParabolicDomain(grid, utype);\n",
    "u = interpolate(x->u0, domain);\n",
    "S = integrate(u, domain)"
   ]
  },
  {
   "cell_type": "code",
   "execution_count": 220,
   "metadata": {},
   "outputs": [],
   "source": [
    "# doassemble!(myelinsubdomains[1], myelinprob);\n",
    "# M = getmass(myelinsubdomains[1]);\n",
    "# @show M[1:3:end, 1:3:end] |> isposdef;\n",
    "# @show M[2:3:end, 2:3:end] |> isposdef;\n",
    "# @show M[3:3:end, 3:3:end] |> isposdef;\n",
    "# @show M[1:3:end, 1:3:end] ≈ M[2:3:end, 2:3:end];\n",
    "# @show M[1:3:end, 1:3:end] ≈ M[3:3:end, 3:3:end];\n",
    "# @show maximum(abs, M[1:3:end, 2:3:end]) ≈ 0;\n",
    "# @show maximum(abs, M[1:3:end, 3:3:end]) ≈ 0;\n",
    "# @show maximum(abs, M[2:3:end, 1:3:end]) ≈ 0;\n",
    "# @show maximum(abs, M[2:3:end, 3:3:end]) ≈ 0;\n",
    "# @show maximum(abs, M[3:3:end, 1:3:end]) ≈ 0;\n",
    "# @show maximum(abs, M[3:3:end, 2:3:end]) ≈ 0;"
   ]
  }
 ],
 "metadata": {
  "@webio": {
   "lastCommId": null,
   "lastKernelId": null
  },
  "kernelspec": {
   "display_name": "Julia 1.1.1",
   "language": "julia",
   "name": "julia-1.1"
  },
  "language_info": {
   "file_extension": ".jl",
   "mimetype": "application/julia",
   "name": "julia",
   "version": "1.1.1"
  }
 },
 "nbformat": 4,
 "nbformat_minor": 3
}
