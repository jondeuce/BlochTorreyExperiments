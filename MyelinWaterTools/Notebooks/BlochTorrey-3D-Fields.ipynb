{
 "cells": [
  {
   "cell_type": "markdown",
   "metadata": {},
   "source": [
    "# Bloch-Torrey Equation"
   ]
  },
  {
   "cell_type": "markdown",
   "metadata": {},
   "source": [
    "## Introduction\n",
    "\n",
    "Here we solve the Bloch-Torrey equation on a unit square, with the diffusion coefficient (or tensor) $D(x)$, relaxation rates $R_1(x)$ and $R_2(x)$, and resonance frequency $\\omega(x)$ all given as a generic functions.\n",
    "The strong form of the Bloch-Torrey equation is given by\n",
    "\n",
    "\\begin{align}\n",
    "\\begin{cases}\n",
    "    \\frac{\\partial M_x}{\\partial t} &= \\nabla \\cdot (D \\cdot \\nabla M_x) - R_2 \\, M_x + \\omega \\, M_y\\\\\n",
    "    \\frac{\\partial M_y}{\\partial t} &= \\nabla \\cdot (D \\cdot \\nabla M_y) - R_2 \\, M_y - \\omega \\, M_x\\\\\n",
    "    \\frac{\\partial M_z}{\\partial t} &= \\nabla \\cdot (D \\cdot \\nabla M_z) - R_1 \\, (M_z - M_{z,\\infty}),\n",
    "\\end{cases}\\label{eq:strong_mag}\\tag{1a}\n",
    "\\end{align}\n",
    "\n",
    "where $\\vec{M}(x,t) = [M_x(x,t), \\, M_y(x,t), \\, M_z(x,t)]$ is the magnetization vector.\n",
    "Equation (\\ref{eq:strong_mag}) holds for all points $x$ in the domain $\\Omega$.\n",
    "The operation $a \\cdot b$ is a tensor contraction of the tensors $a$ and $b$, reducing to elementwise multiplication when one or both of $a$ or $b$ is scalar.\n",
    "\n",
    "Letting $\\vec{u}(x,t) = [M_x(x,t), \\, M_y(x,t), \\, M_{z,\\infty} - M_z(x,t)]$, equation (\\ref{eq:strong_mag}) becomes\n",
    "\n",
    "\\begin{align}\n",
    "\\begin{cases}\n",
    "    \\frac{\\partial u_x}{\\partial t} &= \\nabla \\cdot (D \\cdot \\nabla u_x) - R_2 \\, u_x + \\omega \\, u_y\\\\\n",
    "    \\frac{\\partial u_y}{\\partial t} &= \\nabla \\cdot (D \\cdot \\nabla u_y) - R_2 \\, u_y - \\omega \\, u_x\\\\\n",
    "    \\frac{\\partial u_z}{\\partial t} &= \\nabla \\cdot (D \\cdot \\nabla u_z) - R_1 \\, u_z,\n",
    "\\end{cases}\\label{eq:strong}\\tag{1b}\n",
    "\\end{align}\n",
    "\n",
    "Lastly, the first two PDEs describing the transverse equations in (\\ref{eq:strong_mag}) can be rewritten in terms of the complex magnetization $m = u_x + i u_y$ and the complex decay rate $\\Gamma = R_2 + i \\omega$ as\n",
    "\n",
    "\\begin{align}\n",
    "    \\frac{\\partial m}{\\partial t} &= \\nabla \\cdot (D \\cdot \\nabla m) - \\Gamma \\, m.\n",
    "    \\label{eq:strong_cplx}\\tag{1c}\n",
    "\\end{align}\n",
    "\n",
    "Often, we may neglect $u_z$ entirely and solve the simpler equation (\\ref{eq:strong_cplx}) alone.\n",
    "For example, when perfect flip angles of 180 degrees are used along the x- or y-axes, or any other refocusing pulse which does not transfer any magnetization $M_z$ into the transverse components $M_x$ and $M_y$, or vice-versa.\n",
    "Here, however, we will continue to treat the general case (\\ref{eq:strong}).\n",
    "\n",
    "We consider homogeneous Neumann boundary conditions such that\n",
    "\n",
    "\\begin{align}\n",
    "    D \\, \\nabla \\vec{u}(x) \\cdot \\hat{n} &= \\vec{0}  \\quad \\forall x \\in \\partial \\Omega\\label{eq:bc}\\tag{2}\\\\\n",
    "\\end{align}\n",
    "\n",
    "where $\\partial \\Omega$ denotes the boundary of $\\Omega$. The initial condition is assumed to be specified,\n",
    "\n",
    "\\begin{equation}\n",
    "    \\vec{u}(x,t=0) = \\vec{u}_0 (x)  \\quad \\forall x \\in \\Omega.\\label{eq:ic}\\tag{3}\n",
    "\\end{equation}\n",
    "\n",
    "The weak form corresponding to equation \\ref{eq:strong} is given by\n",
    "\n",
    "\\begin{align}\n",
    "    \\int_{\\Omega} \\vec{v} \\cdot \\vec{u}_t \\, d\\Omega\n",
    "    &= -\\int_{\\Omega}\n",
    "    -\\vec{v} \\cdot \\nabla \\cdot ( D \\, \\nabla \\vec{u} ) +\n",
    "    \\vec{v} \\cdot (\\vec{R} \\odot \\vec{u}) -\n",
    "    \\omega \\, \\vec{v}_\\perp \\times \\vec{u}_\\perp\n",
    "    \\, d\\Omega \\\\\n",
    "    &= -\\int_{\\Omega}\n",
    "    \\nabla \\vec{v} : D \\, \\nabla \\vec{u} +\n",
    "    \\vec{v} \\cdot (\\vec{R} \\odot \\vec{u}) -\n",
    "    \\omega \\, \\vec{v}_\\perp \\times \\vec{u}_\\perp\n",
    "    \\, d\\Omega + \n",
    "    \\int_{\\partial\\Omega} \\vec{v} \\cdot (D \\, \\nabla\\vec{u} \\cdot \\hat{n}) \\, d\\Gamma,\n",
    "\\end{align}\n",
    "\n",
    "where $\\vec{v}$ is a suitable test function, $\\vec{R} = [R_2, R_2, R_1]$, $\\odot$ is the Hadamard (elementwise) product, and $\\vec{u}_\\perp$ is the transverse component $[u_x, u_y]$ of $\\vec{u}$.\n",
    "\n",
    "Applying the homogeneous Neumann boundary conditions from equation (\\ref{eq:bc}), the final weak form becomes\n",
    "\\begin{align}\n",
    "    \\int_{\\Omega} \\vec{v} \\cdot \\vec{u}_t \\, d\\Omega\n",
    "    = -\\int_{\\Omega}\n",
    "    \\nabla \\vec{v} : D \\, \\nabla \\vec{u} +\n",
    "    \\vec{v} \\cdot (\\vec{R} \\odot \\vec{u}) -\n",
    "    \\omega \\, \\vec{v}_\\perp \\times \\vec{u}_\\perp\n",
    "    \\, d\\Omega.\\label{eq:weak}\\tag{4}\n",
    "\\end{align}\n",
    "\n",
    "Note: in two dimensions, the cross product is simply a scalar. However, `Tensors.jl` defines the two dimensional cross product by first extending the 2D vectors into 3D. Below, we use the symbol $\\boxtimes$ to denote the scalar version, which is the same as taking the third component of the vector version"
   ]
  },
  {
   "cell_type": "code",
   "execution_count": 1,
   "metadata": {
    "scrolled": false
   },
   "outputs": [
    {
     "name": "stdout",
     "output_type": "stream",
     "text": [
      "\u001b[32m\u001b[1m  Updating\u001b[22m\u001b[39m registry at `~/.julia/registries/General`\n",
      "\u001b[32m\u001b[1m  Updating\u001b[22m\u001b[39m git-repo `https://github.com/JuliaRegistries/General.git`\n",
      "\u001b[2K\u001b[?25h[1mFetching:\u001b[22m\u001b[39m [========================================>]  100.0 %.0 %"
     ]
    }
   ],
   "source": [
    "# Activate project\n",
    "import Pkg\n",
    "Pkg.activate(joinpath(@__DIR__, \"..\"))\n",
    "Pkg.instantiate()\n",
    "include(joinpath(@__DIR__, \"../initpaths.jl\"))"
   ]
  },
  {
   "cell_type": "code",
   "execution_count": 2,
   "metadata": {},
   "outputs": [
    {
     "name": "stderr",
     "output_type": "stream",
     "text": [
      "┌ Info: Recompiling stale cache file /home/jdoucette/.julia/compiled/v1.1/PyPlot/oatAj.ji for PyPlot [d330b81b-6aea-500a-939a-2ce795aea3ee]\n",
      "└ @ Base loading.jl:1184\n"
     ]
    }
   ],
   "source": [
    "using StatsPlots, BSON, Dates\n",
    "pyplot(size=(1200,900)); # NOTE: must load pyplot backend BEFORE loading MATLAB in MWFUtils"
   ]
  },
  {
   "cell_type": "code",
   "execution_count": 3,
   "metadata": {},
   "outputs": [
    {
     "name": "stderr",
     "output_type": "stream",
     "text": [
      "┌ Info: Recompiling stale cache file /home/jdoucette/.julia/compiled/v1.1/MWFUtils.ji for MWFUtils [top-level]\n",
      "└ @ Base loading.jl:1184\n"
     ]
    }
   ],
   "source": [
    "using MWFUtils\n",
    "# mxcall(:cd, 0, @__DIR__) # change MATLAB path to current path for saving outputs\n",
    "# mxcall(:figure, 0) # bring up MATLAB figure gui"
   ]
  },
  {
   "cell_type": "markdown",
   "metadata": {},
   "source": [
    "**Set parameters**"
   ]
  },
  {
   "cell_type": "code",
   "execution_count": 5,
   "metadata": {},
   "outputs": [],
   "source": [
    "params = Dict{Symbol,Float64}(\n",
    "    :g_ratio => 0.8, # [μm/μm]\n",
    "    :B0 => 0.0, # [Tesla]\n",
    "    :theta => 0.0, # [radians]\n",
    "    :D_Tissue => 10.0, # [μm²/s]\n",
    "    :D_Sheath => 10.0, # [μm²/s]\n",
    "    :D_Axon => 10.0, # [μm²/s]\n",
    "    :K_perm => 0.1, # [μm/s]\n",
    "    :FRD_Sheath => 0.5, # [unitless: μm²/s per μm²/s]\n",
    ");\n",
    "btparams = BlochTorreyParameters(params);"
   ]
  },
  {
   "cell_type": "markdown",
   "metadata": {},
   "source": [
    "**Create Geometry**"
   ]
  },
  {
   "cell_type": "code",
   "execution_count": 6,
   "metadata": {},
   "outputs": [],
   "source": [
    "geom = creategeometry(SingleFibre(), btparams);"
   ]
  },
  {
   "cell_type": "code",
   "execution_count": 877,
   "metadata": {},
   "outputs": [],
   "source": [
    "# p = plot(; labels = :none);\n",
    "# simpplot!(p, geom.exteriorgrids);\n",
    "# simpplot!(p, geom.torigrids);\n",
    "# simpplot!(p, geom.interiorgrids);\n",
    "# p"
   ]
  },
  {
   "cell_type": "code",
   "execution_count": 878,
   "metadata": {},
   "outputs": [],
   "source": [
    "@unpack exteriorgrids, torigrids, interiorgrids, outercircles, innercircles, bdry = geom;\n",
    "ferritins = Vec{3,floattype(bdry)}[];"
   ]
  },
  {
   "cell_type": "markdown",
   "metadata": {},
   "source": [
    "**Create domains**"
   ]
  },
  {
   "cell_type": "code",
   "execution_count": 879,
   "metadata": {},
   "outputs": [],
   "source": [
    "uType = ComplexF64; u0 = 1.0im;\n",
    "# uType = Vec{2,Float64}; u0 = Vec{2}((0.0, 1.0));\n",
    "# uType = Vec{3,Float64}; u0 = Vec{3}((0.0, 0.0, 1.0));"
   ]
  },
  {
   "cell_type": "code",
   "execution_count": 880,
   "metadata": {},
   "outputs": [
    {
     "data": {
      "text/plain": [
       "#341 (generic function with 1 method)"
      ]
     },
     "execution_count": 880,
     "metadata": {},
     "output_type": "execute_result"
    }
   ],
   "source": [
    "if true\n",
    "    R, dR = btparams.R_mu, (1 - btparams.g_ratio) * btparams.R_mu / 2\n",
    "    μ, σ = R - dR, 2*dR\n",
    "    x0 = Vec2d((0,1))\n",
    "    x0 = μ * x0 / norm(x0)\n",
    "    if uType <: Vec{2}\n",
    "        u0 = x -> uType((0.0, max(1e-14, exp(-norm2(x - x0) / 2σ^2))))\n",
    "    elseif uType <: Vec{3}\n",
    "        u0 = x -> uType((0.0, 0.0, max(1e-14, exp(-norm2(x - x0) / 2σ^2))))\n",
    "    else\n",
    "        u0 = x -> uType(0.0, max(1e-14, exp(-norm2(x - x0) / 2σ^2)))\n",
    "    end\n",
    "end"
   ]
  },
  {
   "cell_type": "code",
   "execution_count": 881,
   "metadata": {},
   "outputs": [],
   "source": [
    "myelinprob = MyelinProblem(btparams);"
   ]
  },
  {
   "cell_type": "code",
   "execution_count": 882,
   "metadata": {},
   "outputs": [],
   "source": [
    "myelinsubdomains = createmyelindomains(\n",
    "    vec(exteriorgrids), vec(torigrids), vec(interiorgrids),\n",
    "    vec(outercircles), vec(innercircles), vec(ferritins),\n",
    "    uType);"
   ]
  },
  {
   "cell_type": "code",
   "execution_count": 883,
   "metadata": {},
   "outputs": [
    {
     "name": "stdout",
     "output_type": "stream",
     "text": [
      "    Assemble subdomains    "
     ]
    },
    {
     "name": "stderr",
     "output_type": "stream",
     "text": [
      "┌ Info: Assembling MyelinDomain from subdomains\n",
      "└ @ MWFUtils /home/jdoucette/Documents/code/BlochTorreyExperiments-master/MyelinWaterTools/MWFUtils/src/mwfutils.jl:385\n"
     ]
    },
    {
     "name": "stdout",
     "output_type": "stream",
     "text": [
      " 0.090071 seconds (2.05 M allocations: 47.448 MiB, 45.42% gc time)\n",
      "    Factorize subdomains    0.003136 seconds (101 allocations: 1.671 MiB)\n",
      "    Assemble combined       0.011708 seconds (26.06 k allocations: 16.389 MiB)\n",
      "    Factorize combined      0.002793 seconds (35 allocations: 1.669 MiB)\n"
     ]
    }
   ],
   "source": [
    "@unpack myelinprob, myelinsubdomains, myelindomains = createdomains(btparams,\n",
    "    exteriorgrids, torigrids, interiorgrids,\n",
    "    outercircles, innercircles, ferritins, uType);"
   ]
  },
  {
   "cell_type": "markdown",
   "metadata": {},
   "source": [
    "**Solve Bloch-Torrey equation**"
   ]
  },
  {
   "cell_type": "code",
   "execution_count": 921,
   "metadata": {
    "scrolled": true
   },
   "outputs": [
    {
     "name": "stderr",
     "output_type": "stream",
     "text": [
      "┌ Info: Solving MyelinProblem\n",
      "└ @ MWFUtils /home/jdoucette/Documents/code/BlochTorreyExperiments-master/MyelinWaterTools/MWFUtils/src/mwfutils.jl:522\n"
     ]
    },
    {
     "name": "stdout",
     "output_type": "stream",
     "text": [
      "180.0 degree pulse at t = 5.0 ms\n",
      "180.0 degree pulse at t = 15.0 ms\n",
      "180.0 degree pulse at t = 25.0 ms\n",
      "180.0 degree pulse at t = 35.0 ms\n",
      " 29.455083 seconds (4.19 M allocations: 2.955 GiB, 6.52% gc time)\n"
     ]
    }
   ],
   "source": [
    "# Solve Bloch-Torrey equation\n",
    "sols = solveblochtorrey(myelinprob, myelindomains;\n",
    "    u0 = u0, uType = uType, flipangle = π,\n",
    "    TE = 10e-3, TR = 50e-3, nTE = 4, nTR = 1);"
   ]
  },
  {
   "cell_type": "code",
   "execution_count": 885,
   "metadata": {},
   "outputs": [],
   "source": [
    "mkpath(\"tmp\")\n",
    "saveblochtorrey(myelindomains, sols;\n",
    "    timepoints = cpmg_savetimes(0.25e-3, 10e-3, 50e-3, 4, 1),\n",
    "    filename = \"tmp/\" * DrWatson.savename(params))"
   ]
  },
  {
   "cell_type": "code",
   "execution_count": 886,
   "metadata": {},
   "outputs": [],
   "source": [
    "# allsols = Dict();\n",
    "# allsols[:vec2_iso] = (uType = typeof(u0), sols = deepcopy(sols));\n",
    "# allsols[:vec3_iso] = (uType = typeof(u0), sols = deepcopy(sols));\n",
    "# allsols[:cplx_iso] = (uType = typeof(u0), sols = deepcopy(sols));\n",
    "# allsols[:cplx_iso_tens] = (uType = typeof(u0), sols = deepcopy(sols));\n",
    "# allsols[:cplx_rot_iso_tens] = (uType = typeof(u0), sols = deepcopy(sols));"
   ]
  },
  {
   "cell_type": "code",
   "execution_count": 887,
   "metadata": {},
   "outputs": [],
   "source": [
    "# totrans(uType, sols) = reduce(vcat, transverse.(reinterpret(uType, u)) for u in sols[1].u)\n",
    "# for (i,k1) in enumerate(keys(allsols)), (j,k2) in enumerate(keys(allsols))\n",
    "#     i >= j && continue\n",
    "#     v1, v2 = allsols[k1], allsols[k2]\n",
    "#     pass = totrans(v1.uType, v1.sols) ≈ totrans(v2.uType, v2.sols)\n",
    "#     @show pass, i, j, k1, k2\n",
    "# end"
   ]
  },
  {
   "cell_type": "code",
   "execution_count": 888,
   "metadata": {},
   "outputs": [],
   "source": [
    "# while isempty(Revise.revision_queue); sleep(0.1); end; revise()"
   ]
  },
  {
   "cell_type": "markdown",
   "metadata": {},
   "source": [
    "# Minimum working example"
   ]
  },
  {
   "cell_type": "code",
   "execution_count": null,
   "metadata": {},
   "outputs": [],
   "source": [
    "include(\"initpaths.jl\")\n",
    "using MWFUtils\n",
    "btparams = BlochTorreyParameters{Float64}(D_Tissue = 10.0, D_Sheath = 10.0, D_Axon = 10.0, K_perm = 0.1);\n",
    "geom = creategeometry(SingleFibre(), btparams);\n",
    "@unpack exteriorgrids, torigrids, interiorgrids, outercircles, innercircles, bdry = geom;\n",
    "ferritins = Vec{3,floattype(bdry)}[];\n",
    "uType = ComplexF64;\n",
    "u0 = 1.0im;\n",
    "myelinprob = MyelinProblem(btparams);\n",
    "myelinsubdomains = createmyelindomains(vec(exteriorgrids), vec(torigrids), vec(interiorgrids), vec(outercircles), vec(innercircles), vec(ferritins), uType);\n",
    "@unpack myelinprob, myelinsubdomains, myelindomains = createdomains(btparams, exteriorgrids, torigrids, interiorgrids, outercircles, innercircles, ferritins, uType);\n",
    "sols = solveblochtorrey(myelinprob, myelindomains; u0 = u0, uType = uType, flipangle = π, TE = 5e-3, TR = 50e-3, nTE = 4, nTR = 1);"
   ]
  },
  {
   "cell_type": "markdown",
   "metadata": {},
   "source": [
    "# Testing"
   ]
  },
  {
   "cell_type": "code",
   "execution_count": 889,
   "metadata": {},
   "outputs": [],
   "source": [
    "# @show Revise.revision_queue; revise()"
   ]
  },
  {
   "cell_type": "code",
   "execution_count": 890,
   "metadata": {},
   "outputs": [],
   "source": [
    "# # uType = ComplexF64; u0 = 1.0 + 1.0im\n",
    "# # uType = Vec2d; u0 = ones(uType)\n",
    "# uType = Vec3d; u0 = ones(uType)\n",
    "# grid = generate_grid(Triangle, (3,3));\n",
    "# domain = ParabolicDomain(grid, uType);\n",
    "# u = interpolate(x->u0, domain);\n",
    "# S = integrate(u, domain)"
   ]
  },
  {
   "cell_type": "code",
   "execution_count": 891,
   "metadata": {},
   "outputs": [],
   "source": [
    "# doassemble!(myelinsubdomains[1], myelinprob);\n",
    "# M = getmass(myelinsubdomains[1]);\n",
    "# @show M[1:3:end, 1:3:end] |> isposdef;\n",
    "# @show M[2:3:end, 2:3:end] |> isposdef;\n",
    "# @show M[3:3:end, 3:3:end] |> isposdef;\n",
    "# @show M[1:3:end, 1:3:end] ≈ M[2:3:end, 2:3:end];\n",
    "# @show M[1:3:end, 1:3:end] ≈ M[3:3:end, 3:3:end];\n",
    "# @show maximum(abs, M[1:3:end, 2:3:end]) ≈ 0;\n",
    "# @show maximum(abs, M[1:3:end, 3:3:end]) ≈ 0;\n",
    "# @show maximum(abs, M[2:3:end, 1:3:end]) ≈ 0;\n",
    "# @show maximum(abs, M[2:3:end, 3:3:end]) ≈ 0;\n",
    "# @show maximum(abs, M[3:3:end, 1:3:end]) ≈ 0;\n",
    "# @show maximum(abs, M[3:3:end, 2:3:end]) ≈ 0;"
   ]
  }
 ],
 "metadata": {
  "@webio": {
   "lastCommId": null,
   "lastKernelId": null
  },
  "kernelspec": {
   "display_name": "Julia 1.1.1",
   "language": "julia",
   "name": "julia-1.1"
  },
  "language_info": {
   "file_extension": ".jl",
   "mimetype": "application/julia",
   "name": "julia",
   "version": "1.1.1"
  }
 },
 "nbformat": 4,
 "nbformat_minor": 3
}
