{
 "cells": [
  {
   "cell_type": "markdown",
   "metadata": {},
   "source": [
    "# Bloch-Torrey Equation"
   ]
  },
  {
   "cell_type": "markdown",
   "metadata": {},
   "source": [
    "## Introduction\n",
    "\n",
    "Here we solve the Bloch-Torrey equation on a unit square, with the diffusion coefficient $D(x)$, relaxation rate $R(x)$, and resonance frequency $\\omega(x)$ all given as a generic functions.\n",
    "The strong form of the Bloch-Torrey equation is given by\n",
    "\n",
    "\\begin{align}\n",
    "    \\frac{\\partial u_x}{\\partial t} &= \\nabla \\cdot (D \\nabla u_x) - R u_x + \\omega u_y  \\quad x \\in \\Omega\\\\\n",
    "    \\frac{\\partial u_y}{\\partial t} &= \\nabla \\cdot (D \\nabla u_y) - R u_y - \\omega u_x  \\quad x \\in \\Omega,\n",
    "\\end{align}\n",
    "\n",
    "where $\\vec{u}=[u_x,u_y]$ is the transverse magnetization, and $\\Omega$ the domain.\n",
    "\n",
    "We will consider homogeneous Neumann boundary conditions such that\n",
    "\n",
    "\\begin{align}\n",
    "    \\nabla \\vec{u}(x) \\cdot \\hat{n} &= \\vec{0}  \\quad x \\in \\partial \\Omega\\\\\n",
    "\\end{align}\n",
    "\n",
    "where $\\partial \\Omega$ denotes the boundary of $\\Omega$, and $\\cdot$ is a tensor contraction.\n",
    "\n",
    "The initial condition is given generically as\n",
    "\n",
    "\\begin{equation}\n",
    "    \\vec{u}(x,t=0) = \\vec{u}_0 (x)  \\quad x \\in \\Omega\n",
    "\\end{equation}\n",
    "\n",
    "\n",
    "The resulting weak form is given by\n",
    "\\begin{align}\n",
    "    \\int_{\\Omega} \\vec{v} \\cdot \\vec{u}_t \\, d\\Omega\n",
    "    &= -\\int_{\\Omega}\n",
    "    -\\vec{v} \\cdot \\nabla \\cdot ( D \\, \\nabla \\vec{u} ) +\n",
    "    R \\, \\vec{v} \\cdot \\vec{u} -\n",
    "    \\omega \\, \\vec{v} \\times \\vec{u}\n",
    "    \\, d\\Omega \\\\\n",
    "    &= -\\int_{\\Omega}\n",
    "    D \\, \\nabla \\vec{v} : \\nabla \\vec{u} +\n",
    "    R \\, \\vec{v} \\cdot \\vec{u} -\n",
    "    \\omega \\, \\vec{v} \\times \\vec{u}\n",
    "    \\, d\\Omega + \n",
    "    \\int_{\\partial\\Omega} \\vec{v} \\cdot (D\\nabla\\vec{u} \\cdot \\hat{n}) \\, d\\Gamma,\n",
    "\\end{align}\n",
    "where $\\vec{v}$ is a suitable test function.\n",
    "\n",
    "In this notebook, we will assume homogeneous Neumann boundary conditions on all boundaries by taking $D\\nabla\\vec{u} \\cdot \\hat{n} = 0$. Therefore, the final weak form is simply\n",
    "\\begin{align}\n",
    "    \\int_{\\Omega} \\vec{v} \\cdot \\vec{u}_t \\, d\\Omega\n",
    "    = -\\int_{\\Omega}\n",
    "    D \\, \\nabla \\vec{v} : \\nabla \\vec{u} +\n",
    "    R \\, \\vec{v} \\cdot \\vec{u} -\n",
    "    \\omega \\, \\vec{v} \\times \\vec{u}\n",
    "    \\, d\\Omega\n",
    "\\end{align}\n",
    "\n",
    "Note: in two dimensions, the cross product is simply a scalar. However, `Tensors.jl` defines the two dimensional cross product by first extending the 2D vectors into 3D. Below, we use the symbol $\\boxtimes$ to denote the scalar version, which is the same as taking the third component of the vector version"
   ]
  },
  {
   "cell_type": "markdown",
   "metadata": {},
   "source": [
    "## Commented Program\n",
    "\n",
    "Now we solve the problem in JuAFEM. What follows is a program spliced with comments.\n",
    "\n",
    "First we load the JuAFEM package."
   ]
  },
  {
   "cell_type": "code",
   "execution_count": 1,
   "metadata": {},
   "outputs": [],
   "source": [
    "# using Distributed\n",
    "# addprocs(8; restrict = true, enable_threaded_blas = true);\n",
    "# @everywhere begin\n",
    "#     include(\"init.jl\")\n",
    "# end"
   ]
  },
  {
   "cell_type": "code",
   "execution_count": 2,
   "metadata": {
    "scrolled": false
   },
   "outputs": [],
   "source": [
    "include(\"init.jl\")"
   ]
  },
  {
   "cell_type": "markdown",
   "metadata": {},
   "source": [
    "**Pack circles**: Pack circles with a specified packing density $\\eta$"
   ]
  },
  {
   "cell_type": "code",
   "execution_count": 3,
   "metadata": {},
   "outputs": [
    {
     "name": "stderr",
     "output_type": "stream",
     "text": [
      "WARNING: both BenchmarkTools and StatsBase export \"trim\"; uses of it in module Main must be qualified\n",
      "WARNING: both OrdinaryDiffEq and JuAFEM export \"reinit!\"; uses of it in module Main must be qualified\n"
     ]
    }
   ],
   "source": [
    "btparams = BlochTorreyParameters{Float64}(\n",
    "    theta = π/2,\n",
    "    AxonPDensity = 0.7,\n",
    "    g_ratio = 0.8,\n",
    "    D_Tissue = 200.0, #0.5, # [μm²/s]\n",
    "    D_Sheath = 25.0, #0.5, # [μm²/s]\n",
    "    D_Axon = 200.0, #0.5, # [μm²/s]\n",
    "    K_perm = 1.0, #0.0 # [μm/s]\n",
    ");"
   ]
  },
  {
   "cell_type": "code",
   "execution_count": 5,
   "metadata": {},
   "outputs": [
    {
     "data": {
      "text/plain": [
       "26.105103640881353"
      ]
     },
     "execution_count": 5,
     "metadata": {},
     "output_type": "execute_result"
    }
   ],
   "source": [
    "TE_typical = 10e-3\n",
    "nDim = 2\n",
    "dist_typical = (2π * btparams.R_mu)/4\n",
    "time_typical = TE_typical/2\n",
    "D_Maximal_Dephasing = dist_typical^2/(2 * nDim * time_typical)"
   ]
  },
  {
   "cell_type": "code",
   "execution_count": 6,
   "metadata": {},
   "outputs": [
    {
     "name": "stdout",
     "output_type": "stream",
     "text": [
      "  1.964759 seconds (3.43 M allocations: 169.017 MiB, 5.93% gc time)\n",
      "minimum(radius.(initial_circles)) = 0.21746941300305322\n",
      "estimate_density(initial_circles) = 0.8005944845646994\n"
     ]
    }
   ],
   "source": [
    "Dim = 2;\n",
    "Ncircles = 20;\n",
    "\n",
    "η = btparams.AxonPDensity; # goal packing density\n",
    "ϵ = 0.1 * btparams.R_mu; # overlap occurs when distance between circle edges is ≤ ϵ\n",
    "α = 1e-1; # covariance penalty weight (enforces circular distribution)\n",
    "β = 1e-6; # mutual distance penalty weight\n",
    "λ = 1.0; # overlap penalty weight (or lagrange multiplier for constrained version)\n",
    "\n",
    "rs = rand(radiidistribution(btparams), Ncircles);\n",
    "@time initial_circles = GreedyCirclePacking.pack(rs; goaldensity = 1.0, iters = 100)\n",
    "@show minimum(radius.(initial_circles));\n",
    "@show estimate_density(initial_circles);"
   ]
  },
  {
   "cell_type": "code",
   "execution_count": 7,
   "metadata": {},
   "outputs": [
    {
     "name": "stdout",
     "output_type": "stream",
     "text": [
      "minimum_signed_edge_distance(initial_circles) = -2.220446049250313e-16\n"
     ]
    }
   ],
   "source": [
    "@show minimum_signed_edge_distance(initial_circles);"
   ]
  },
  {
   "cell_type": "code",
   "execution_count": 8,
   "metadata": {},
   "outputs": [
    {
     "name": "stdout",
     "output_type": "stream",
     "text": [
      "estimate_density(initial_circles) = 0.8005944845646994\n"
     ]
    }
   ],
   "source": [
    "@show estimate_density(initial_circles);"
   ]
  },
  {
   "cell_type": "code",
   "execution_count": 9,
   "metadata": {
    "scrolled": true
   },
   "outputs": [
    {
     "name": "stdout",
     "output_type": "stream",
     "text": [
      "  6.406330 seconds (12.96 M allocations: 643.816 MiB, 13.73% gc time)\n"
     ]
    }
   ],
   "source": [
    "@time outer_circles = EnergyCirclePacking.pack(initial_circles;\n",
    "    autodiff = true,\n",
    "    secondorder = false,\n",
    "    setcallback = false,\n",
    "    goaldensity = η,\n",
    "    distancescale = btparams.R_mu,\n",
    "    weights = [α, β, λ],\n",
    "    epsilon = ϵ\n",
    ");\n",
    "inner_circles = scale_shape.(outer_circles, btparams.g_ratio);"
   ]
  },
  {
   "cell_type": "code",
   "execution_count": 10,
   "metadata": {},
   "outputs": [
    {
     "name": "stdout",
     "output_type": "stream",
     "text": [
      "covariance_energy(outer_circles) = 0.3041655559718328\n",
      "estimate_density(outer_circles) = 0.6999999999999995\n",
      "is_any_overlapping(outer_circles) = false\n",
      "(dmin, ϵ, dmin > ϵ) = (0.04164838429702583, 0.046000000000000006, false)\n"
     ]
    }
   ],
   "source": [
    "dmin = minimum_signed_edge_distance(outer_circles)\n",
    "@show covariance_energy(outer_circles)\n",
    "@show estimate_density(outer_circles)\n",
    "@show is_any_overlapping(outer_circles)\n",
    "@show (dmin, ϵ, dmin > ϵ);"
   ]
  },
  {
   "cell_type": "markdown",
   "metadata": {},
   "source": [
    "**Generate mesh**: Rectangular mesh with circles possibly only partly contained or completely excluded"
   ]
  },
  {
   "cell_type": "code",
   "execution_count": 11,
   "metadata": {},
   "outputs": [
    {
     "data": {
      "text/plain": [
       "0.6"
      ]
     },
     "execution_count": 11,
     "metadata": {},
     "output_type": "execute_result"
    }
   ],
   "source": [
    "h0 = minimum(radius.(outer_circles))*(1-btparams.g_ratio); # fraction of size of minimum torus width\n",
    "h_min = 1.0*h0; # minimum edge length\n",
    "h_max = 5.0*h0; # maximum edge length\n",
    "h_range = 10.0*h0; # distance over which h increases from h_min to h_max\n",
    "h_rate = 0.6; # rate of increase of h from circle boundaries (power law; smaller = faster radial increase)"
   ]
  },
  {
   "cell_type": "code",
   "execution_count": 5,
   "metadata": {},
   "outputs": [],
   "source": [
    "bdry, _ = opt_subdomain(outer_circles);"
   ]
  },
  {
   "cell_type": "code",
   "execution_count": 13,
   "metadata": {
    "scrolled": false
   },
   "outputs": [
    {
     "name": "stdout",
     "output_type": "stream",
     "text": [
      "1/20: Interior\n",
      "2/20: Interior\n",
      "3/20: Interior\n",
      "4/20: Interior\n",
      "5/20: Interior\n",
      "6/20: Interior\n",
      "7/20: Interior\n",
      "8/20: Interior\n",
      "9/20: Interior\n",
      "10/20: Interior\n",
      "11/20: Interior\n",
      "12/20: Interior\n",
      "13/20: Interior\n",
      "14/20: Interior\n",
      "15/20: Interior\n",
      "16/20: Interior\n",
      "17/20: Interior\n",
      "18/20: Interior\n",
      "19/20: Interior\n",
      "20/20: Interior\n",
      "1/20: Annular\n",
      "2/20: Annular\n",
      "3/20: Annular\n",
      "4/20: Annular\n",
      "5/20: Annular\n",
      "6/20: Annular\n",
      "7/20: Annular\n",
      "8/20: Annular\n",
      "9/20: Annular\n",
      "10/20: Annular\n",
      "11/20: Annular\n",
      "12/20: Annular\n",
      "13/20: Annular\n",
      "14/20: Annular\n",
      "15/20: Annular\n",
      "16/20: Annular\n",
      "17/20: Annular\n",
      "18/20: Annular\n",
      "19/20: Annular\n",
      "20/20: Annular\n",
      "1/1, 1/1: Exterior\n",
      " 65.936739 seconds (332.18 M allocations: 10.216 GiB, 15.02% gc time)\n"
     ]
    }
   ],
   "source": [
    "@time exteriorgrids, torigrids, interiorgrids, parentcircleindices = disjoint_rect_mesh_with_tori(\n",
    "    bdry, inner_circles, outer_circles, h_min, h_max, h_range, h_rate;\n",
    "    CIRCLESTALLITERS = 500, EXTERIORSTALLITERS = 500, plotgrids = false, exterior_tiling = (1, 1)\n",
    ");"
   ]
  },
  {
   "cell_type": "code",
   "execution_count": 14,
   "metadata": {},
   "outputs": [
    {
     "data": {
      "text/plain": [
       "-1.7763568394002505e-15"
      ]
     },
     "execution_count": 14,
     "metadata": {},
     "output_type": "execute_result"
    }
   ],
   "source": [
    "sum(area.(exteriorgrids)) + sum(area.(torigrids)) + sum(area.(interiorgrids)) - area(bdry)"
   ]
  },
  {
   "cell_type": "code",
   "execution_count": 15,
   "metadata": {
    "scrolled": true
   },
   "outputs": [],
   "source": [
    "simpplot(vcat(exteriorgrids[:], torigrids, interiorgrids); newfigure = true, axis = mxaxis(bdry));"
   ]
  },
  {
   "cell_type": "markdown",
   "metadata": {},
   "source": [
    "## Diffusion coefficient $D(x)$, relaxation rate $R(x)$, and resonance frequency $\\omega(x)$"
   ]
  },
  {
   "cell_type": "markdown",
   "metadata": {},
   "source": [
    "These functions are defined within `doassemble!`"
   ]
  },
  {
   "cell_type": "markdown",
   "metadata": {},
   "source": [
    "### Trial and test functions\n",
    "A `CellValues` facilitates the process of evaluating values and gradients of\n",
    "test and trial functions (among other things). Since the problem\n",
    "is a scalar problem we will use a `CellScalarValues` object. To define\n",
    "this we need to specify an interpolation space for the shape functions.\n",
    "We use Lagrange functions (both for interpolating the function and the geometry)\n",
    "based on the reference \"cube\". We also define a quadrature rule based on the\n",
    "same reference cube. We combine the interpolation and the quadrature rule\n",
    "to a `CellScalarValues` object."
   ]
  },
  {
   "cell_type": "markdown",
   "metadata": {},
   "source": [
    "### Degrees of freedom\n",
    "Next we need to define a `DofHandler`, which will take care of numbering\n",
    "and distribution of degrees of freedom for our approximated fields.\n",
    "We create the `DofHandler` and then add a single field called `u`.\n",
    "Lastly we `close!` the `DofHandler`, it is now that the dofs are distributed\n",
    "for all the elements."
   ]
  },
  {
   "cell_type": "markdown",
   "metadata": {},
   "source": [
    "Now that we have distributed all our dofs we can create our tangent matrix,\n",
    "using `create_sparsity_pattern`. This function returns a sparse matrix\n",
    "with the correct elements stored."
   ]
  },
  {
   "cell_type": "markdown",
   "metadata": {},
   "source": [
    "We can inspect the pattern using the `spy` function from `UnicodePlots.jl`.\n",
    "By default the stored values are set to $0$, so we first need to\n",
    "fill the stored values, e.g. `K.nzval` with something meaningful."
   ]
  },
  {
   "cell_type": "code",
   "execution_count": 16,
   "metadata": {},
   "outputs": [],
   "source": [
    "#using UnicodePlots\n",
    "#fill!(K.nzval, 1.0)\n",
    "#spy(K; height = 25)"
   ]
  },
  {
   "cell_type": "markdown",
   "metadata": {},
   "source": [
    "### Boundary conditions\n",
    "In JuAFEM constraints like Dirichlet boundary conditions are handled by a `ConstraintHandler`. However, here we will have no need to directly enforce boundary conditions, since Neumann boundary conditions have already been applied in the derivation of the weak form."
   ]
  },
  {
   "cell_type": "markdown",
   "metadata": {},
   "source": [
    "### Assembling the linear system\n",
    "Now we have all the pieces needed to assemble the linear system, $K u = f$.\n",
    "We define a function, `doassemble` to do the assembly, which takes our `cellvalues`,\n",
    "the sparse matrix and our DofHandler as input arguments. The function returns the\n",
    "assembled stiffness matrix, and the force vector."
   ]
  },
  {
   "cell_type": "code",
   "execution_count": 6,
   "metadata": {},
   "outputs": [],
   "source": [
    "myelinprob = MyelinProblem(btparams);"
   ]
  },
  {
   "cell_type": "code",
   "execution_count": 7,
   "metadata": {},
   "outputs": [],
   "source": [
    "myelinsubdomains = createmyelindomains(exteriorgrids[:], torigrids, interiorgrids, outer_circles, inner_circles);"
   ]
  },
  {
   "cell_type": "code",
   "execution_count": 8,
   "metadata": {
    "scrolled": true
   },
   "outputs": [
    {
     "name": "stdout",
     "output_type": "stream",
     "text": [
      "  4.226366 seconds (30.86 M allocations: 721.460 MiB, 10.17% gc time)\n"
     ]
    }
   ],
   "source": [
    "# @time map!(m -> doassemble!(m, myelinprob), myelinsubdomains, myelinsubdomains);\n",
    "@time doassemble!.(myelinsubdomains, Ref(myelinprob));"
   ]
  },
  {
   "cell_type": "code",
   "execution_count": 9,
   "metadata": {},
   "outputs": [
    {
     "name": "stdout",
     "output_type": "stream",
     "text": [
      "  0.510446 seconds (752.90 k allocations: 50.083 MiB, 7.03% gc time)\n"
     ]
    }
   ],
   "source": [
    "# @time map!(m -> (factorize!(getdomain(m)); return m), myelinsubdomains, myelinsubdomains);\n",
    "@time factorize!.(getdomain.(myelinsubdomains));"
   ]
  },
  {
   "cell_type": "code",
   "execution_count": 10,
   "metadata": {},
   "outputs": [
    {
     "name": "stdout",
     "output_type": "stream",
     "text": [
      " 20.526573 seconds (192.77 M allocations: 6.714 GiB, 20.61% gc time)\n"
     ]
    }
   ],
   "source": [
    "@time combinedmyelindomain = MyelinDomain(PermeableInterfaceRegion(), myelinprob, myelinsubdomains);"
   ]
  },
  {
   "cell_type": "code",
   "execution_count": 11,
   "metadata": {},
   "outputs": [
    {
     "name": "stdout",
     "output_type": "stream",
     "text": [
      "  0.040883 seconds (2.22 k allocations: 11.816 MiB, 35.32% gc time)\n"
     ]
    }
   ],
   "source": [
    "@time factorize!(combinedmyelindomain);"
   ]
  },
  {
   "cell_type": "code",
   "execution_count": 12,
   "metadata": {},
   "outputs": [],
   "source": [
    "myelindomains = [combinedmyelindomain];"
   ]
  },
  {
   "cell_type": "code",
   "execution_count": 13,
   "metadata": {
    "scrolled": true
   },
   "outputs": [],
   "source": [
    "# for II in ips #[rand(1:length(ips))]\n",
    "#     Se = [combinedmyelindomain.domain.K[2i-1,2j-1] for i in II for j in II]\n",
    "#     Se = Matrix(reshape(6 .* Se, (4,4)))\n",
    "#     @assert maximum(abs, sum(Se, dims=2)) < 5*eps(Float64)\n",
    "# end"
   ]
  },
  {
   "cell_type": "code",
   "execution_count": 14,
   "metadata": {},
   "outputs": [],
   "source": [
    "# for i in II\n",
    "#     n = getnodes(getgrid(combinedmyelindomain))[i]\n",
    "#     @show n\n",
    "# end"
   ]
  },
  {
   "cell_type": "code",
   "execution_count": 15,
   "metadata": {},
   "outputs": [],
   "source": [
    "# AllNodes = getnodes(getgrid(combinedmyelindomain))\n",
    "# XMatrix, YMatrix = zeros(2, length(ips)), zeros(2, length(ips))\n",
    "# for j in 1:length(ips)\n",
    "#     idx = ips[j]\n",
    "#     p1, p2 = AllNodes[idx[1]].x, AllNodes[idx[2]].x\n",
    "#     XMatrix[1,j] = p1[1]\n",
    "#     YMatrix[1,j] = p1[2]\n",
    "#     XMatrix[2,j] = p2[1]\n",
    "#     YMatrix[2,j] = p2[2]\n",
    "# end"
   ]
  },
  {
   "cell_type": "code",
   "execution_count": 16,
   "metadata": {},
   "outputs": [],
   "source": [
    "# mxcall(:plot, 0, XMatrix, YMatrix, \"bx-\")\n",
    "# mxcall(:axis, 0, \"image\")"
   ]
  },
  {
   "cell_type": "markdown",
   "metadata": {},
   "source": [
    "### Plotting the resonance frequency map $\\omega(x)$\n",
    "$\\omega(x)$ for each region can be easily created by accessing the `Omega` field of a `BlochTorreyProblem` object. Now, evaluate $\\omega(x)$ on each node `x` and plot the resuling field map overtop of the tesselation."
   ]
  },
  {
   "cell_type": "code",
   "execution_count": 17,
   "metadata": {},
   "outputs": [],
   "source": [
    "omegavalues = omegamap.(Ref(myelinprob), myelinsubdomains);"
   ]
  },
  {
   "cell_type": "code",
   "execution_count": 18,
   "metadata": {},
   "outputs": [],
   "source": [
    "simpplot(getgrid.(myelindomains); newfigure = true, axis = mxaxis(bdry), facecol = reduce(vcat, omegavalues));"
   ]
  },
  {
   "cell_type": "markdown",
   "metadata": {},
   "source": [
    "### Solution of the differential equation system\n",
    "The last step is to solve the system. First we call `doassemble`\n",
    "to obtain the global stiffness matrix `K` and force vector `f`.\n",
    "Then, to account for the boundary conditions, we use the `apply!` function.\n",
    "This modifies elements in `K` and `f` respectively, such that\n",
    "we can get the correct solution vector `u` by using `\\`."
   ]
  },
  {
   "cell_type": "code",
   "execution_count": 19,
   "metadata": {},
   "outputs": [],
   "source": [
    "if !@isdefined AllSols\n",
    "    global AllSols = Dict()\n",
    "end;"
   ]
  },
  {
   "cell_type": "code",
   "execution_count": 22,
   "metadata": {},
   "outputs": [],
   "source": [
    "tspan = (0.0, 320.0e-3);\n",
    "dt = 10e-3;\n",
    "ts = tspan[1]:dt/2:tspan[2]\n",
    "u0 = Vec{2}((0.0, 1.0)); # initial pi/2 pulse"
   ]
  },
  {
   "cell_type": "code",
   "execution_count": 23,
   "metadata": {},
   "outputs": [],
   "source": [
    "probs = [ODEProblem(m, interpolate(u0, m), tspan; invertmass = true) for m in myelindomains];\n",
    "sols = Vector{ODESolution}(undef, length(probs));"
   ]
  },
  {
   "cell_type": "code",
   "execution_count": 24,
   "metadata": {
    "scrolled": true
   },
   "outputs": [
    {
     "name": "stdout",
     "output_type": "stream",
     "text": [
      "i = 1/1: \n",
      "π-pulse at t = 5.0 ms\n",
      "π-pulse at t = 15.0 ms\n",
      "π-pulse at t = 25.0 ms\n",
      "π-pulse at t = 35.0 ms\n",
      "π-pulse at t = 45.0 ms\n",
      "π-pulse at t = 55.0 ms\n",
      "π-pulse at t = 65.0 ms\n",
      "π-pulse at t = 75.0 ms\n",
      "π-pulse at t = 85.0 ms\n",
      "π-pulse at t = 95.0 ms\n",
      "π-pulse at t = 105.0 ms\n",
      "π-pulse at t = 115.0 ms\n",
      "π-pulse at t = 125.0 ms\n",
      "π-pulse at t = 135.0 ms\n",
      "π-pulse at t = 145.0 ms\n",
      "π-pulse at t = 155.0 ms\n",
      "π-pulse at t = 165.0 ms\n",
      "π-pulse at t = 175.0 ms\n",
      "π-pulse at t = 185.0 ms\n",
      "π-pulse at t = 195.0 ms\n",
      "π-pulse at t = 205.0 ms\n",
      "π-pulse at t = 215.0 ms\n",
      "π-pulse at t = 225.0 ms\n",
      "π-pulse at t = 235.0 ms\n",
      "π-pulse at t = 245.0 ms\n",
      "π-pulse at t = 255.0 ms\n",
      "π-pulse at t = 265.0 ms\n",
      "π-pulse at t = 275.0 ms\n",
      "π-pulse at t = 285.0 ms\n",
      "π-pulse at t = 295.0 ms\n",
      "π-pulse at t = 305.0 ms\n",
      "π-pulse at t = 315.0 ms\n",
      "1382.517242 seconds (40.96 M allocations: 166.080 GiB, 2.41% gc time)\n",
      "1390.486047 seconds (56.50 M allocations: 166.884 GiB, 2.46% gc time)\n"
     ]
    }
   ],
   "source": [
    "@time sols = map!(sols, 1:length(probs), probs) do i, prob\n",
    "    println(\"i = $i/$(length(sols)): \")\n",
    "    cb = CPMGCallback(tspan; TE = dt)\n",
    "    sol = @time solve(prob, ExpokitExpmv(prob.p[1]; m = 30);\n",
    "        dense = false, # don't save all intermediate time steps\n",
    "        saveat = ts, # timepoints to save solution at\n",
    "        tstops = ts, # ensure stopping at all ts points\n",
    "        dt = dt,\n",
    "        reltol = 1e-4,\n",
    "        callback = cb\n",
    "    )\n",
    "    return sol\n",
    "end;"
   ]
  },
  {
   "cell_type": "code",
   "execution_count": 25,
   "metadata": {},
   "outputs": [
    {
     "name": "stderr",
     "output_type": "stream",
     "text": [
      "┌ Warning: /home/coopar7/Documents/code/BlochTorreyExperiments-master/Experiments/MyelinWaterOrientation/MWF-utils.jl is not a file, omitting from revision tracking\n",
      "└ @ Revise /home/coopar7/.julia/packages/Revise/TmjcT/src/parsing.jl:24\n"
     ]
    }
   ],
   "source": [
    "AllSols[:expokit_m30] = deepcopy(sols);"
   ]
  },
  {
   "cell_type": "code",
   "execution_count": 43,
   "metadata": {},
   "outputs": [],
   "source": [
    "probs = [ODEProblem(m, interpolate(u0, m), tspan; invertmass = true) for m in myelindomains];\n",
    "sols = Vector{ODESolution}(undef, length(probs));"
   ]
  },
  {
   "cell_type": "code",
   "execution_count": 44,
   "metadata": {
    "collapsed": true
   },
   "outputs": [
    {
     "name": "stdout",
     "output_type": "stream",
     "text": [
      "i = 1/1: \n",
      "π-pulse at t = 5.0 ms\n"
     ]
    },
    {
     "name": "stderr",
     "output_type": "stream",
     "text": [
      "\n",
      "[CVSDLS ERROR]  CVDlsSetJacFn\n",
      "  Linear solver memory is NULL.\n",
      "\n"
     ]
    },
    {
     "name": "stdout",
     "output_type": "stream",
     "text": [
      "π-pulse at t = 15.0 ms\n"
     ]
    },
    {
     "ename": "InterruptException",
     "evalue": "InterruptException:",
     "output_type": "error",
     "traceback": [
      "InterruptException:",
      "",
      "Stacktrace:",
      " [1] allocate_dense(::Int64, ::Int64, ::Int64, ::Type{Float64}) at /buildworker/worker/package_linux64/build/usr/share/julia/stdlib/v0.7/SuiteSparse/src/cholmod.jl:405",
      " [2] SuiteSparse.CHOLMOD.Dense{Float64}(::Array{Float64,1}) at /buildworker/worker/package_linux64/build/usr/share/julia/stdlib/v0.7/SuiteSparse/src/cholmod.jl:829",
      " [3] \\ at /buildworker/worker/package_linux64/build/usr/share/julia/stdlib/v0.7/SuiteSparse/src/cholmod.jl:1714 [inlined]",
      " [4] Minv_u(::SuiteSparse.CHOLMOD.Factor{Float64}, ::Array{Float64,1}) at /home/coopar7/Documents/code/BlochTorreyExperiments-master/Experiments/MyelinWaterOrientation/BlochTorrey/BlochTorreyUtils.jl:631",
      " [5] Minv_K_mul_u!(::Array{Float64,1}, ::Array{Float64,1}, ::SparseMatrixCSC{Float64,Int64}, ::SuiteSparse.CHOLMOD.Factor{Float64}) at /home/coopar7/Documents/code/BlochTorreyExperiments-master/Experiments/MyelinWaterOrientation/BlochTorrey/BlochTorreyUtils.jl:641",
      " [6] mul!(::Array{Float64,1}, ::ParabolicLinearMap{Float64}, ::Array{Float64,1}) at /home/coopar7/Documents/code/BlochTorreyExperiments-master/Experiments/MyelinWaterOrientation/BlochTorrey/BlochTorreyUtils.jl:646",
      " [7] mul! at /home/coopar7/Documents/code/BlochTorreyExperiments-master/Experiments/MyelinWaterOrientation/BlochTorrey/BlochTorreyUtils.jl:713 [inlined]",
      " [8] f! at /home/coopar7/Documents/code/BlochTorreyExperiments-master/Experiments/MyelinWaterOrientation/BlochTorrey/BlochTorreySolvers.jl:48 [inlined]",
      " [9] ODEFunction at /home/coopar7/.julia/packages/DiffEqBase/mKOqQ/src/diffeqfunction.jl:106 [inlined]",
      " [10] cvodefunjac(::Float64, ::Ptr{Sundials._generic_N_Vector}, ::Ptr{Sundials._generic_N_Vector}, ::Sundials.FunJac{ODEFunction{true,getfield(BlochTorreySolvers, Symbol(\"#f!#4\")),UniformScaling{Bool},Nothing,Nothing,getfield(BlochTorreySolvers, Symbol(\"##2#5\")),LinearOperatorWrapper{Float64,ParabolicLinearMap{Float64}},Nothing,Nothing,Nothing,Nothing},Nothing,getfield(BlochTorreySolvers, Symbol(\"##2#5\")),Tuple{LinearOperatorWrapper{Float64,ParabolicLinearMap{Float64}}},LinearOperatorWrapper{Float64,ParabolicLinearMap{Float64}},Array{Float64,1},Nothing}) at /home/coopar7/.julia/packages/Sundials/wMM3l/src/common_interface/function_types.jl:31",
      " [11] __CVode at /home/coopar7/.julia/packages/Sundials/wMM3l/src/wrapped_api/cvodes.jl:312 [inlined]",
      " [12] CVode(::Sundials.Handle{Sundials.CVODEMem}, ::Float64, ::Array{Float64,1}, ::Array{Float64,1}, ::Int32) at /home/coopar7/.julia/packages/Sundials/wMM3l/src/wrapped_api/cvodes.jl:317",
      " [13] solver_step at /home/coopar7/.julia/packages/Sundials/wMM3l/src/common_interface/solve.jl:786 [inlined]",
      " [14] solve!(::Sundials.CVODEIntegrator{Array{Float64,1},Tuple{LinearOperatorWrapper{Float64,ParabolicLinearMap{Float64}}},Sundials.Handle{Sundials.CVODEMem},ODESolution{Float64,2,Array{Array{Float64,1},1},Nothing,Nothing,Array{Float64,1},Array{Any,1},ODEProblem{Array{Float64,1},Tuple{Float64,Float64},true,Tuple{LinearOperatorWrapper{Float64,ParabolicLinearMap{Float64}}},ODEFunction{true,getfield(BlochTorreySolvers, Symbol(\"#f!#4\")),UniformScaling{Bool},Nothing,Nothing,getfield(BlochTorreySolvers, Symbol(\"##2#5\")),LinearOperatorWrapper{Float64,ParabolicLinearMap{Float64}},Nothing,Nothing,Nothing,Nothing},Nothing,DiffEqBase.StandardODEProblem},CVODE_BDF{:Functional,:None},DiffEqBase.LinearInterpolation{Array{Float64,1},Array{Array{Float64,1},1}}},CVODE_BDF{:Functional,:None},ODEFunction{true,getfield(BlochTorreySolvers, Symbol(\"#f!#4\")),UniformScaling{Bool},Nothing,Nothing,getfield(BlochTorreySolvers, Symbol(\"##2#5\")),LinearOperatorWrapper{Float64,ParabolicLinearMap{Float64}},Nothing,Nothing,Nothing,Nothing},Sundials.FunJac{ODEFunction{true,getfield(BlochTorreySolvers, Symbol(\"#f!#4\")),UniformScaling{Bool},Nothing,Nothing,getfield(BlochTorreySolvers, Symbol(\"##2#5\")),LinearOperatorWrapper{Float64,ParabolicLinearMap{Float64}},Nothing,Nothing,Nothing,Nothing},Nothing,getfield(BlochTorreySolvers, Symbol(\"##2#5\")),Tuple{LinearOperatorWrapper{Float64,ParabolicLinearMap{Float64}}},LinearOperatorWrapper{Float64,ParabolicLinearMap{Float64}},Array{Float64,1},Nothing},Ptr{Nothing},Sundials.DEOptions{DataStructures.BinaryHeap{Float64,DataStructures.LessThan},DataStructures.BinaryHeap{Float64,DataStructures.LessThan},CallbackSet{Tuple{},Tuple{DiscreteCallback{getfield(BlochTorreySolvers, Symbol(\"#condition#34\")){Float64,Base.RefValue{Float64}},getfield(BlochTorreySolvers, Symbol(\"#affect!#36\")){Tuple{Float64,Float64},Base.RefValue{Float64},getfield(BlochTorreySolvers, Symbol(\"#apply_pulse!#35\"))},typeof(DiffEqBase.INITIALIZE_DEFAULT)}}}},Array{Float64,1},Tuple{Int64},Array{Float64,1},Nothing,Nothing}) at /home/coopar7/.julia/packages/Sundials/wMM3l/src/common_interface/solve.jl:819",
      " [15] #__solve#15(::Base.Iterators.Pairs{Symbol,Any,NTuple{7,Symbol},NamedTuple{(:dense, :saveat, :tstops, :dt, :reltol, :abstol, :callback),Tuple{Bool,StepRangeLen{Float64,Base.TwicePrecision{Float64},Base.TwicePrecision{Float64}},StepRangeLen{Float64,Base.TwicePrecision{Float64},Base.TwicePrecision{Float64}},Float64,Float64,Float64,DiscreteCallback{getfield(BlochTorreySolvers, Symbol(\"#condition#34\")){Float64,Base.RefValue{Float64}},getfield(BlochTorreySolvers, Symbol(\"#affect!#36\")){Tuple{Float64,Float64},Base.RefValue{Float64},getfield(BlochTorreySolvers, Symbol(\"#apply_pulse!#35\"))},typeof(DiffEqBase.INITIALIZE_DEFAULT)}}}}, ::Function, ::ODEProblem{Array{Float64,1},Tuple{Float64,Float64},true,Tuple{LinearOperatorWrapper{Float64,ParabolicLinearMap{Float64}}},ODEFunction{true,getfield(BlochTorreySolvers, Symbol(\"#f!#4\")),UniformScaling{Bool},Nothing,Nothing,getfield(BlochTorreySolvers, Symbol(\"##2#5\")),LinearOperatorWrapper{Float64,ParabolicLinearMap{Float64}},Nothing,Nothing,Nothing,Nothing},Nothing,DiffEqBase.StandardODEProblem}, ::CVODE_BDF{:Functional,:None}, ::Array{Any,1}, ::Array{Any,1}, ::Array{Any,1}, ::Type{Val{true}}) at /home/coopar7/.julia/packages/Sundials/wMM3l/src/common_interface/solve.jl:12",
      " [16] #__solve at ./none:0 [inlined] (repeats 5 times)",
      " [17] #solve#428(::Base.Iterators.Pairs{Symbol,Any,NTuple{7,Symbol},NamedTuple{(:dense, :saveat, :tstops, :dt, :reltol, :abstol, :callback),Tuple{Bool,StepRangeLen{Float64,Base.TwicePrecision{Float64},Base.TwicePrecision{Float64}},StepRangeLen{Float64,Base.TwicePrecision{Float64},Base.TwicePrecision{Float64}},Float64,Float64,Float64,DiscreteCallback{getfield(BlochTorreySolvers, Symbol(\"#condition#34\")){Float64,Base.RefValue{Float64}},getfield(BlochTorreySolvers, Symbol(\"#affect!#36\")){Tuple{Float64,Float64},Base.RefValue{Float64},getfield(BlochTorreySolvers, Symbol(\"#apply_pulse!#35\"))},typeof(DiffEqBase.INITIALIZE_DEFAULT)}}}}, ::Function, ::ODEProblem{Array{Float64,1},Tuple{Float64,Float64},true,Tuple{LinearOperatorWrapper{Float64,ParabolicLinearMap{Float64}}},ODEFunction{true,getfield(BlochTorreySolvers, Symbol(\"#f!#4\")),UniformScaling{Bool},Nothing,Nothing,getfield(BlochTorreySolvers, Symbol(\"##2#5\")),LinearOperatorWrapper{Float64,ParabolicLinearMap{Float64}},Nothing,Nothing,Nothing,Nothing},Nothing,DiffEqBase.StandardODEProblem}, ::CVODE_BDF{:Functional,:None}) at /home/coopar7/.julia/packages/DiffEqBase/mKOqQ/src/solve.jl:19",
      " [18] (::getfield(DiffEqBase, Symbol(\"#kw##solve\")))(::NamedTuple{(:dense, :saveat, :tstops, :dt, :reltol, :abstol, :callback),Tuple{Bool,StepRangeLen{Float64,Base.TwicePrecision{Float64},Base.TwicePrecision{Float64}},StepRangeLen{Float64,Base.TwicePrecision{Float64},Base.TwicePrecision{Float64}},Float64,Float64,Float64,DiscreteCallback{getfield(BlochTorreySolvers, Symbol(\"#condition#34\")){Float64,Base.RefValue{Float64}},getfield(BlochTorreySolvers, Symbol(\"#affect!#36\")){Tuple{Float64,Float64},Base.RefValue{Float64},getfield(BlochTorreySolvers, Symbol(\"#apply_pulse!#35\"))},typeof(DiffEqBase.INITIALIZE_DEFAULT)}}}, ::typeof(solve), ::ODEProblem{Array{Float64,1},Tuple{Float64,Float64},true,Tuple{LinearOperatorWrapper{Float64,ParabolicLinearMap{Float64}}},ODEFunction{true,getfield(BlochTorreySolvers, Symbol(\"#f!#4\")),UniformScaling{Bool},Nothing,Nothing,getfield(BlochTorreySolvers, Symbol(\"##2#5\")),LinearOperatorWrapper{Float64,ParabolicLinearMap{Float64}},Nothing,Nothing,Nothing,Nothing},Nothing,DiffEqBase.StandardODEProblem}, ::CVODE_BDF{:Functional,:None}) at ./none:0",
      " [19] (::getfield(Main, Symbol(\"##27#28\")))(::Int64, ::ODEProblem{Array{Float64,1},Tuple{Float64,Float64},true,Tuple{LinearOperatorWrapper{Float64,ParabolicLinearMap{Float64}}},ODEFunction{true,getfield(BlochTorreySolvers, Symbol(\"#f!#4\")),UniformScaling{Bool},Nothing,Nothing,getfield(BlochTorreySolvers, Symbol(\"##2#5\")),LinearOperatorWrapper{Float64,ParabolicLinearMap{Float64}},Nothing,Nothing,Nothing,Nothing},Nothing,DiffEqBase.StandardODEProblem}) at ./util.jl:156",
      " [20] map!(::getfield(Main, Symbol(\"##27#28\")), ::Array{ODESolution,1}, ::UnitRange{Int64}, ::Array{ODEProblem{Array{Float64,1},Tuple{Float64,Float64},true,Tuple{LinearOperatorWrapper{Float64,ParabolicLinearMap{Float64}}},ODEFunction{true,getfield(BlochTorreySolvers, Symbol(\"#f!#4\")),UniformScaling{Bool},Nothing,Nothing,getfield(BlochTorreySolvers, Symbol(\"##2#5\")),LinearOperatorWrapper{Float64,ParabolicLinearMap{Float64}},Nothing,Nothing,Nothing,Nothing},Nothing,DiffEqBase.StandardODEProblem},1}) at ./abstractarray.jl:2026",
      " [21] top-level scope at util.jl:156",
      " [22] top-level scope at In[44]:1"
     ]
    }
   ],
   "source": [
    "@time sols = map!(sols, 1:length(probs), probs) do i, prob\n",
    "    println(\"i = $i/$(length(sols)): \")\n",
    "    \n",
    "#     Kfact = lu(prob.p[2])\n",
    "#     mylinsolve!(::Type{Val{:init}},f,u0) = (x, A, b, update_matrix = false) -> copyto!(x, Kfact\\b)\n",
    "#     alg = TRBDF2(;linsolve = mylinsolve!)\n",
    "#     alg = ABDF2(;linsolve = mylinsolve!)\n",
    "#     alg = Rosenbrock23(linsolve = LinSolveFactorize(lu))#;linsolve = mylinsolve!)\n",
    "    \n",
    "#     alg = ARKODE(\n",
    "#         Sundials.Implicit();\n",
    "#         method = :Functional,\n",
    "#         linear_solver = :None,\n",
    "#         order = 4\n",
    "#     )\n",
    "    alg = CVODE_BDF(;\n",
    "        method = :Functional, #method = :Newton,\n",
    "        linear_solver = :None, #linear_solver = :GMRES,\n",
    "        max_order = 5\n",
    "    )\n",
    "#     alg = CVODE_Adams(;\n",
    "#         method = :Functional,\n",
    "#         linear_solver = :None,\n",
    "#         max_order = 12\n",
    "#     )\n",
    "    \n",
    "    cb = CPMGCallback(tspan; TE = dt)\n",
    "    sol = @time solve(prob, alg;\n",
    "        dense = false, # don't save all intermediate time steps\n",
    "        saveat = ts, # timepoints to save solution at\n",
    "        tstops = ts, # ensure stopping at all `ts` points\n",
    "        dt = 0.5 * h0^2/(4*btparams.D_Tissue), # conservative initial dt; timescale for diffusion of distance h0\n",
    "        reltol = 1e-4,\n",
    "        abstol = 1e-4,\n",
    "        callback = cb #callback = CPMGCallback(tspan; TE = dt)\n",
    "    )\n",
    "    return sol\n",
    "end;"
   ]
  },
  {
   "cell_type": "code",
   "execution_count": 45,
   "metadata": {},
   "outputs": [],
   "source": [
    "AllSols[:cvode_bdf_functional_order5] = deepcopy(sols);"
   ]
  },
  {
   "cell_type": "code",
   "execution_count": 46,
   "metadata": {},
   "outputs": [
    {
     "ename": "UndefRefError",
     "evalue": "UndefRefError: access to undefined reference",
     "output_type": "error",
     "traceback": [
      "UndefRefError: access to undefined reference",
      "",
      "Stacktrace:",
      " [1] getindex at ./array.jl:731 [inlined]",
      " [2] iterate at ./array.jl:707 [inlined] (repeats 2 times)",
      " [3] iterate at ./generator.jl:44 [inlined]",
      " [4] mapfoldl_impl(::Function, ::Function, ::NamedTuple{(),Tuple{}}, ::Base.Generator{Array{ODESolution,1},getfield(Main, Symbol(\"##30#33\"))}) at ./reduce.jl:53",
      " [5] #mapfoldl#174 at ./reduce.jl:70 [inlined]",
      " [6] mapfoldl at ./reduce.jl:70 [inlined]",
      " [7] #mapreduce#178 at ./reduce.jl:203 [inlined]",
      " [8] mapreduce at ./reduce.jl:203 [inlined]",
      " [9] #reduce#179 at ./reduce.jl:359 [inlined]",
      " [10] reduce(::Function, ::Base.Generator{Array{ODESolution,1},getfield(Main, Symbol(\"##30#33\"))}) at ./reduce.jl:359",
      " [11] top-level scope at In[46]:11"
     ]
    }
   ],
   "source": [
    "let\n",
    "    local sols1 = AllSols[:expokit_m30]\n",
    "#     local sols1 = AllSols[:arkode_gmres_order4]\n",
    "#     local sols2 = AllSols[:arkode_expl_gmres_order4]\n",
    "    local sols2 = AllSols[:cvode_bdf_functional_order5]\n",
    "#     local sols2 = AllSols[:cvode_bdf_gmres_max_order5]\n",
    "#     local sols2 = AllSols[:cvode_adams_functional_max_order12]\n",
    "#     local sols2 = AllSols[:rosenbrock23_mylinsolve]\n",
    "    \n",
    "    local u0 = reduce(vcat, p.u0 for p in probs)\n",
    "    local u1 = reduce(vcat, s.u[end] for s in sols1)\n",
    "    local u2 = reduce(vcat, s.u[end] for s in sols2)\n",
    "    \n",
    "    local S1 = norm.(calcsignal(myelindomains, sols1, tspan[1]:dt:tspan[2]))\n",
    "    local S2 = norm.(calcsignal(myelindomains, sols2, tspan[1]:dt:tspan[2]))\n",
    "    \n",
    "    @show norm(u1.-u2)/norm(u1)\n",
    "    @show maximum(abs, u1.-u2)/maximum(abs, u1)\n",
    "    @show norm(S1.-S2)/norm(S1)\n",
    "    @show maximum(abs, S1.-S2)/maximum(abs, S1)\n",
    "    @show norm(u0)\n",
    "    @show norm(u1), norm(u2)\n",
    "    @show norm(S1), norm(S2)\n",
    "    @show maximum(abs, u1), maximum(abs, u2)\n",
    "    @show maximum(abs, S1), maximum(abs, S2)\n",
    "end;"
   ]
  },
  {
   "cell_type": "code",
   "execution_count": 26,
   "metadata": {},
   "outputs": [],
   "source": [
    "sols = deepcopy(AllSols[:expokit_m30]);\n",
    "# sols = deepcopy(AllSols[:cvode_bdf_gmres_max_order5]);\n",
    "# sols = deepcopy(AllSols[:cvode_bdf_functional_order5]);"
   ]
  },
  {
   "cell_type": "code",
   "execution_count": 27,
   "metadata": {},
   "outputs": [],
   "source": [
    "Umagn = reduce(vcat, norm.(reinterpret(Vec{2,Float64}, s.u[end])) for s in sols);\n",
    "# Uphase = reduce(vcat, angle.(reinterpret(Vec{2,Float64}, s.u[end])) for s in sols);\n",
    "simpplot(getgrid.(myelindomains); newfigure = true, axis = mxaxis(bdry), facecol = Umagn); mxcall(:title, 0, \"Magnitude\")\n",
    "# simpplot(getgrid.(myelindomains); newfigure = true, axis = mxaxis(bdry), facecol = Uphase); mxcall(:title, 0, \"Phase\")"
   ]
  },
  {
   "cell_type": "code",
   "execution_count": 28,
   "metadata": {},
   "outputs": [],
   "source": [
    "# mxcall(:caxis,0,[0.0 5e-5])"
   ]
  },
  {
   "cell_type": "code",
   "execution_count": 29,
   "metadata": {},
   "outputs": [],
   "source": [
    "Signals = map(myelindomains, sols) do m, s\n",
    "    [integrate(s(t), m) for t in tspan[1]:dt:tspan[2]]\n",
    "end;"
   ]
  },
  {
   "cell_type": "code",
   "execution_count": 30,
   "metadata": {},
   "outputs": [],
   "source": [
    "Stotal = sum(Signals);"
   ]
  },
  {
   "cell_type": "code",
   "execution_count": 31,
   "metadata": {},
   "outputs": [
    {
     "name": "stdout",
     "output_type": "stream",
     "text": [
      "btparams.R2_lp = 15.873015873015873\n",
      "(-1 / Tspan) * log(norm(Stotal[end]) / norm(Stotal[1])) = 21.1225713900671\n",
      "exp(-(tspan[end]) * btparams.R2_lp) = 0.006223859418487457\n",
      "norm(Stotal[end]) / norm(Stotal[1]) = 0.0011601304250208162\n"
     ]
    }
   ],
   "source": [
    "Tspan = tspan[2] - tspan[1]\n",
    "@show btparams.R2_lp;\n",
    "@show (-1/Tspan)*log(norm(Stotal[end])/norm(Stotal[1]));\n",
    "@show exp(-tspan[end]*btparams.R2_lp);\n",
    "@show norm(Stotal[end])/norm(Stotal[1]);"
   ]
  },
  {
   "cell_type": "code",
   "execution_count": 32,
   "metadata": {},
   "outputs": [
    {
     "name": "stdout",
     "output_type": "stream",
     "text": [
      "exact_mwf = 0.2654265963783337\n"
     ]
    }
   ],
   "source": [
    "exact_mwf = getmwf(outer_circles, inner_circles, bdry);\n",
    "@show exact_mwf;"
   ]
  },
  {
   "cell_type": "code",
   "execution_count": 33,
   "metadata": {},
   "outputs": [],
   "source": [
    "mxcall(:addpath, 0, realpath(\"MyelinWaterImaging/MATLAB/\"));"
   ]
  },
  {
   "cell_type": "code",
   "execution_count": 34,
   "metadata": {},
   "outputs": [
    {
     "data": {
      "text/plain": [
       "0.1313297834801338"
      ]
     },
     "execution_count": 34,
     "metadata": {},
     "output_type": "execute_result"
    }
   ],
   "source": [
    "MWImaps, MWIdist, MWIpart = fitmwfmodel(Stotal, NNLSRegression();\n",
    "    T2Range = [8e-3, 2.0],\n",
    "    spwin = [8e-3, 24.75e-3],\n",
    "    mpwin = [25.25e-3, 200e-3],\n",
    "    nT2 = 32,\n",
    "    RefConAngle = 165.0,\n",
    "    PLOTDIST = true\n",
    ");\n",
    "getmwf(NNLSRegression(), MWImaps, MWIdist, MWIpart)"
   ]
  },
  {
   "cell_type": "code",
   "execution_count": 35,
   "metadata": {},
   "outputs": [],
   "source": [
    "# TestStotalMagn = mwimodel(TwoPoolMagnToMagn(), tspan[1]:dt:tspan[2], modelfit.param)\n",
    "# TestStotal = [Vec{2}((zero(y),y)) for y in TestStotalMagn];"
   ]
  },
  {
   "cell_type": "code",
   "execution_count": 36,
   "metadata": {
    "scrolled": true
   },
   "outputs": [
    {
     "name": "stdout",
     "output_type": "stream",
     "text": [
      "Model: TwoPoolMagnToMagn()\n",
      "mwf: 0.13546135589421932\n"
     ]
    },
    {
     "data": {
      "text/plain": [
       "4×2 Array{Float64,2}:\n",
       "  1.48222  0.0150375\n",
       "  9.45979  0.0197345\n",
       " 81.1729   1.82982  \n",
       " 20.8114   0.0236878"
      ]
     },
     "metadata": {},
     "output_type": "display_data"
    },
    {
     "name": "stdout",
     "output_type": "stream",
     "text": [
      "Model: ThreePoolMagnToMagn()\n",
      "mwf: 0.12611141889516014\n"
     ]
    },
    {
     "data": {
      "text/plain": [
       "6×2 Array{Float64,2}:\n",
       "  1.38526  0.00486312\n",
       "  6.49315  0.797022  \n",
       "  3.10597  0.791486  \n",
       " 89.1452   0.308108  \n",
       " 19.8989   0.18648   \n",
       " 23.6569   0.621536  "
      ]
     },
     "metadata": {},
     "output_type": "display_data"
    },
    {
     "name": "stdout",
     "output_type": "stream",
     "text": [
      "Model: ThreePoolCplxToMagn()\n",
      "mwf: 0.16725931274078285\n"
     ]
    },
    {
     "data": {
      "text/plain": [
       "8×2 Array{Float64,2}:\n",
       "  1.82453    1.32016\n",
       "  6.01359   14.2762 \n",
       "  3.07027   15.4918 \n",
       " 71.1816    14.0873 \n",
       " 18.3061     8.61642\n",
       " 22.7963     5.31249\n",
       " -1.07138  179.801  \n",
       " -1.47969    2.69874"
      ]
     },
     "metadata": {},
     "output_type": "display_data"
    },
    {
     "name": "stdout",
     "output_type": "stream",
     "text": [
      "Model: ThreePoolCplxToCplx()\n",
      "mwf: 0.11544506549622016\n"
     ]
    },
    {
     "data": {
      "text/plain": [
       "10×2 Array{Float64,2}:\n",
       "  1.26809   0.223242  \n",
       "  8.30479   3.47577   \n",
       "  1.41145   3.30041   \n",
       " 92.8616   14.6852    \n",
       " 20.2422    1.18528   \n",
       " 28.0343   15.423     \n",
       " 46.9226    2.41192   \n",
       " 50.0046    0.0683543 \n",
       " 49.5182    1.10129   \n",
       " -1.55575   0.00968076"
      ]
     },
     "metadata": {},
     "output_type": "display_data"
    }
   ],
   "source": [
    "for modeltype in (TwoPoolMagnToMagn(), ThreePoolMagnToMagn(), ThreePoolCplxToMagn(), ThreePoolCplxToCplx())\n",
    "    local modelfit, errors, mwf\n",
    "    println(\"Model: $modeltype\"); flush(stdout)\n",
    "    modelfit, errors = fitmwfmodel(Stotal, modeltype; TE = dt);\n",
    "    mwf = getmwf(modeltype, modelfit, errors)\n",
    "    println(\"mwf: $mwf\"); flush(stdout)\n",
    "    errors == nothing ? display(modelfit.param) : display([modelfit.param errors]); flush(stdout)\n",
    "end"
   ]
  },
  {
   "cell_type": "code",
   "execution_count": 37,
   "metadata": {},
   "outputs": [
    {
     "data": {
      "text/plain": [
       "2-element Tensor{1,2,Float64,2}:\n",
       " 3.3135629877727597\n",
       " 3.3135629877727597"
      ]
     },
     "execution_count": 37,
     "metadata": {},
     "output_type": "execute_result"
    }
   ],
   "source": [
    "widths(bdry)"
   ]
  },
  {
   "cell_type": "code",
   "execution_count": 38,
   "metadata": {
    "scrolled": true
   },
   "outputs": [
    {
     "name": "stdout",
     "output_type": "stream",
     "text": [
      "getmwf(outer_circles, inner_circles, bdry) = 0.2654265963783337\n",
      "getmwf(Stotal, TwoPoolMagnToMagn(); TE=dt, fitmethod=:local) = 0.13546135589421932\n",
      "getmwf(Stotal, ThreePoolMagnToMagn(); TE=dt, fitmethod=:local) = 0.12611141889516014\n",
      "getmwf(Stotal, ThreePoolCplxToMagn(); TE=dt, fitmethod=:local) = 0.16725931274078285\n",
      "getmwf(Stotal, ThreePoolCplxToCplx(); TE=dt, fitmethod=:local) = 0.11544506549622016\n"
     ]
    }
   ],
   "source": [
    "@show getmwf(outer_circles, inner_circles, bdry);\n",
    "@show getmwf(Stotal, TwoPoolMagnToMagn(); TE = dt, fitmethod = :local);\n",
    "@show getmwf(Stotal, ThreePoolMagnToMagn(); TE = dt, fitmethod = :local);\n",
    "@show getmwf(Stotal, ThreePoolCplxToMagn(); TE = dt, fitmethod = :local);\n",
    "@show getmwf(Stotal, ThreePoolCplxToCplx(); TE = dt, fitmethod = :local);"
   ]
  },
  {
   "cell_type": "code",
   "execution_count": 39,
   "metadata": {},
   "outputs": [],
   "source": [
    "p0 = initialparams(ThreePoolCplxToCplx(), ts, Stotal)[1];\n",
    "modelfit, errors = fitmwfmodel(Stotal, ThreePoolCplxToCplx(); TE = dt);"
   ]
  },
  {
   "cell_type": "code",
   "execution_count": 40,
   "metadata": {
    "scrolled": true
   },
   "outputs": [],
   "source": [
    "# mwimodel(ThreePoolCplxToCplx(), ts, modelfit.param);\n",
    "# [mwimodel(ThreePoolCplxToCplx(), ts,  modelfit.param) |> x -> reinterpret(ComplexF64, x) complex.(Stotal)]\n",
    "# [mwimodel(ThreePoolCplxToCplx(), ts, p0) |> x -> reinterpret(ComplexF64, x) complex.(Stotal)]"
   ]
  },
  {
   "cell_type": "code",
   "execution_count": 53,
   "metadata": {},
   "outputs": [],
   "source": [
    "myelin_area = intersect_area(outer_circles, bdry) - intersect_area(inner_circles, bdry)\n",
    "total_area = area(bdry)\n",
    "y_biexp = @. (total_area - myelin_area) * exp(-(tspan[1]:dt:tspan[2])*btparams.R2_lp) + myelin_area * exp(-(tspan[1]:dt:tspan[2])*btparams.R2_sp);"
   ]
  },
  {
   "cell_type": "code",
   "execution_count": 57,
   "metadata": {
    "scrolled": true
   },
   "outputs": [],
   "source": [
    "mxcall(:figure, 0)\n",
    "mxcall(:plot, 0, collect(1000.0.*(tspan[1]:dt:tspan[2])), [norm.(Stotal) y_biexp])"
   ]
  },
  {
   "cell_type": "code",
   "execution_count": 58,
   "metadata": {},
   "outputs": [],
   "source": [
    "mxcall(:legend, 0, \"Simulated\", \"Bi-Exponential\")\n",
    "mxcall(:title, 0, \"Signal Magnitude vs. Time\")\n",
    "mxcall(:xlabel, 0, \"Time [ms]\"); mxcall(:xlim, 0, 1000.0 .* [tspan...])\n",
    "mxcall(:ylabel, 0, \"S(t) Magnitude\")"
   ]
  },
  {
   "cell_type": "code",
   "execution_count": null,
   "metadata": {},
   "outputs": [],
   "source": [
    "mxcall(:ylim, 0, [0.0 17.5303])"
   ]
  },
  {
   "cell_type": "code",
   "execution_count": 44,
   "metadata": {},
   "outputs": [],
   "source": [
    "# mxcall(:figure, 0)\n",
    "# mxcall(:plot, 0, collect(1000.0.*ts), reduce(hcat, map(S->norm.(S), Signals)))"
   ]
  },
  {
   "cell_type": "code",
   "execution_count": 45,
   "metadata": {},
   "outputs": [],
   "source": [
    "# prob = ODEProblem((du,u,p,t)->A_mul_B!(du,p[1],u), u0, tspan, (Amap,));"
   ]
  },
  {
   "cell_type": "code",
   "execution_count": 46,
   "metadata": {},
   "outputs": [],
   "source": [
    "#@time Expokit.expmv!(u, tspan[end], Amap, u0; tol=1e-4, norm=expmv_norm, m=100); # penelope: 17.42s\n",
    "#@time Expokit.expmv!(u, tspan[end], Amap, u0; tol=1e-4, norm=expmv_norm, m=50); # penelope: 30.09s\n",
    "#@time Expokit.expmv!(u, tspan[end], Amap, u0; tol=1e-4, norm=expmv_norm, m=10); # penelope: 103.5s\n",
    "#@time Expokit.expmv!(u, tspan[end], Amap, u0; tol=1e-8, norm=expmv_norm); # penelope: 53.2s\n",
    "#@time Expokit.expmv!(u, tspan[end], Amap, u0; tol=1e-6, norm=expmv_norm); # penelope: 44.4s"
   ]
  },
  {
   "cell_type": "code",
   "execution_count": 47,
   "metadata": {},
   "outputs": [],
   "source": [
    "#@time sol = solve(prob, CVODE_BDF(linear_solver=:GMRES); saveat=tspan, reltol=1e-8, alg_hints=:stiff); # penelope: 90.21s\n",
    "#@time sol = solve(prob, CVODE_BDF(linear_solver=:GMRES); saveat=tspan, reltol=1e-4, alg_hints=:stiff); # penelope: 33.44s\n",
    "#@time sol = solve(prob, CVODE_BDF(linear_solver=:BCG); saveat=tspan, reltol=1e-4, alg_hints=:stiff) # penelope: 53.66s\n",
    "#@time sol = solve(prob, CVODE_BDF(linear_solver=:TFQMR); saveat=tspan, reltol=1e-4, alg_hints=:stiff) # penelope: 18.99s but low accuracy"
   ]
  },
  {
   "cell_type": "code",
   "execution_count": 48,
   "metadata": {
    "scrolled": true
   },
   "outputs": [],
   "source": [
    "#prob_Ku = ODEProblem(K_mul_u!, u0, tspan, (K,), mass_matrix=M);\n",
    "#@time sol_Ku = solve(prob_Ku, Rosenbrock23(), saveat=tspan, reltol=1e-4, alg_hints=:stiff) #DNF\n",
    "#@time sol_Ku = solve(prob_Ku, Rodas4(), saveat=tspan, reltol=1e-4, alg_hints=:stiff) #DNF"
   ]
  },
  {
   "cell_type": "code",
   "execution_count": 49,
   "metadata": {},
   "outputs": [],
   "source": [
    "# @show norm(sol.u[end] - u)/maximum(abs,u);\n",
    "# @show maximum(sol.u[end] - u)/maximum(abs,u);"
   ]
  },
  {
   "cell_type": "markdown",
   "metadata": {},
   "source": [
    "# Testing"
   ]
  },
  {
   "cell_type": "code",
   "execution_count": 62,
   "metadata": {
    "scrolled": true
   },
   "outputs": [],
   "source": [
    "# using Test\n",
    "# using DiffEqCallbacks\n",
    "# using Plots\n",
    "# gr(); default(fmt = :png)"
   ]
  },
  {
   "cell_type": "code",
   "execution_count": 63,
   "metadata": {},
   "outputs": [],
   "source": [
    "# let\n",
    "#     local u0 = [1.,0.]\n",
    "#     local function fun2(du, u, p, t)\n",
    "#        du[2] = -u[1]\n",
    "#        du[1] = u[2]\n",
    "#     end\n",
    "#     local tspan = (0.0,10.0)\n",
    "#     local prob = ODEProblem(fun2,u0,tspan)\n",
    "\n",
    "# #     function condition2(u,t,integrator)\n",
    "# #       get_du(integrator)[1]>0\n",
    "# #     end\n",
    "# #     affect2!(integrator) = terminate!(integrator)\n",
    "# #     local cb = DiscreteCallback(condition2,affect2!)\n",
    "\n",
    "# #     function make_time_choice()\n",
    "# #         ts = collect(tspan[1]+pi/2:pi/2:tspan[2])\n",
    "# #         time_choice(integrator) = isempty(ts) ? typemax(eltype(ts)) : popfirst!(ts)\n",
    "# #         return time_choice\n",
    "# #     end\n",
    "# #     function user_affect!(integrator)\n",
    "# #         println(\"π-pulse at t = $(integrator.t)\")\n",
    "# #         return @views(integrator.u[2:2:end] .= -integrator.u[2:2:end])\n",
    "# #     end\n",
    "# #     local cb = IterativeCallback(make_time_choice(), user_affect!, eltype(tspan); initial_affect = false)\n",
    "# # #     local cb = PeriodicCallback(user_affect!, 2.0; initial_affect = false)\n",
    "\n",
    "#     local cb = CPMGCallback(tspan; TE = 2.0)\n",
    "# #     local cb = CPMGCallback(tspan; pulsetimes = [0.0])\n",
    "\n",
    "# #     local sol = solve(prob, Rosenbrock23(); callback = cb);\n",
    "# #     local sol = solve(prob, CVODE_BDF(); callback = cb);\n",
    "#     local sol = solve(prob, CVODE_Adams(); callback = cb);\n",
    "# #     local sol = solve(prob, ARKODE(); callback = cb);\n",
    "\n",
    "#     # @test sol.t[end] < 3.5\n",
    "#     plot(sol)\n",
    "# end\n"
   ]
  },
  {
   "cell_type": "code",
   "execution_count": null,
   "metadata": {},
   "outputs": [],
   "source": []
  },
  {
   "cell_type": "code",
   "execution_count": null,
   "metadata": {},
   "outputs": [],
   "source": []
  },
  {
   "cell_type": "code",
   "execution_count": null,
   "metadata": {},
   "outputs": [],
   "source": []
  },
  {
   "cell_type": "code",
   "execution_count": 56,
   "metadata": {},
   "outputs": [],
   "source": [
    "# using BlochTorreyUtilsTest"
   ]
  },
  {
   "cell_type": "markdown",
   "metadata": {},
   "source": [
    "### Single Axon"
   ]
  },
  {
   "cell_type": "code",
   "execution_count": 57,
   "metadata": {
    "scrolled": true
   },
   "outputs": [],
   "source": [
    "# BlochTorreyUtilsTest.singleaxontests(\n",
    "#     BlochTorreyParameters{Float64}(\n",
    "#         ChiI = -60e-9,\n",
    "#         ChiA = -120e-9\n",
    "#     );\n",
    "#     PLOTOMEGA = false\n",
    "# );"
   ]
  },
  {
   "cell_type": "markdown",
   "metadata": {},
   "source": [
    "### Multiple Axons"
   ]
  },
  {
   "cell_type": "code",
   "execution_count": 58,
   "metadata": {},
   "outputs": [],
   "source": [
    "# domainsetup = BlochTorreyUtilsTest.multipleaxons();"
   ]
  },
  {
   "cell_type": "code",
   "execution_count": 59,
   "metadata": {},
   "outputs": [],
   "source": [
    "# BlochTorreyUtilsTest.multipleaxontests(\n",
    "#     BlochTorreyParameters{Float64}(\n",
    "#         ChiI = -60e-9,\n",
    "#         ChiA = -120e-9\n",
    "#     ),\n",
    "#     domainsetup;\n",
    "#     PLOTOMEGA = false\n",
    "# );"
   ]
  },
  {
   "cell_type": "markdown",
   "metadata": {},
   "source": [
    "### Exporting to VTK\n",
    "To visualize the result we export the grid and our field `u`\n",
    "to a VTK-file, which can be viewed in e.g. [ParaView](https://www.paraview.org/)."
   ]
  },
  {
   "cell_type": "code",
   "execution_count": 60,
   "metadata": {},
   "outputs": [],
   "source": [
    "# vtk_grid(\"bloch_torrey_equation\", dh) do vtk\n",
    "#     vtk_point_data(vtk, dh, u)\n",
    "# end"
   ]
  }
 ],
 "metadata": {
  "@webio": {
   "lastCommId": "98ba6c0939e245948234ff4c64bd09ba",
   "lastKernelId": "9f7ab353-468e-4d2e-87f5-32f70682db4a"
  },
  "kernelspec": {
   "display_name": "Julia 0.7.0",
   "language": "julia",
   "name": "julia-0.7"
  },
  "language_info": {
   "file_extension": ".jl",
   "mimetype": "application/julia",
   "name": "julia",
   "version": "0.7.0"
  }
 },
 "nbformat": 4,
 "nbformat_minor": 3
}
